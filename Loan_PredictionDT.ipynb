{
  "nbformat": 4,
  "nbformat_minor": 0,
  "metadata": {
    "colab": {
      "name": " Loan_PredictionDT.ipynb",
      "provenance": []
    },
    "kernelspec": {
      "name": "python3",
      "display_name": "Python 3"
    },
    "language_info": {
      "name": "python"
    }
  },
  "cells": [
    {
      "cell_type": "code",
      "metadata": {
        "colab": {
          "base_uri": "https://localhost:8080/"
        },
        "id": "UTeuJEm_wk-x",
        "outputId": "9794549e-adaf-4ee5-eb53-f2b8c6ac59c9"
      },
      "source": [
        "import pandas as pd\n",
        "import numpy as np\n",
        "import seaborn as sns\n",
        "import matplotlib.pyplot as plt\n",
        "from sklearn.model_selection import train_test_split\n",
        "from sklearn.model_selection import GridSearchCV,cross_val_score\n",
        "from sklearn.preprocessing import MinMaxScaler, StandardScaler\n",
        "from sklearn.linear_model import LinearRegression, LogisticRegression\n",
        "from sklearn.metrics import r2_score,mean_squared_error,accuracy_score, f1_score,roc_auc_score\n",
        "from sklearn import svm\n",
        "from sklearn.tree import DecisionTreeRegressor,DecisionTreeClassifier\n",
        "from sklearn.ensemble import RandomForestClassifier\n",
        "from sklearn.preprocessing import PowerTransformer\n",
        "from statsmodels.stats.outliers_influence import variance_inflation_factor\n",
        "import warnings\n",
        "warnings.filterwarnings('ignore')\n",
        "from sklearn.metrics import classification_report,confusion_matrix\n",
        "from sklearn.model_selection import StratifiedKFold\n",
        "from sklearn import preprocessing\n",
        "from sklearn.preprocessing import PowerTransformer\n",
        "from sklearn.model_selection import RepeatedStratifiedKFold"
      ],
      "execution_count": 1,
      "outputs": [
        {
          "output_type": "stream",
          "name": "stderr",
          "text": [
            "/usr/local/lib/python3.7/dist-packages/statsmodels/tools/_testing.py:19: FutureWarning: pandas.util.testing is deprecated. Use the functions in the public API at pandas.testing instead.\n",
            "  import pandas.util.testing as tm\n"
          ]
        }
      ]
    },
    {
      "cell_type": "code",
      "metadata": {
        "id": "EAy5oCaPyprJ"
      },
      "source": [
        "df=pd.read_csv('https://raw.githubusercontent.com/dsrscientist/DSData/master/loan_prediction.csv')"
      ],
      "execution_count": 2,
      "outputs": []
    },
    {
      "cell_type": "code",
      "metadata": {
        "colab": {
          "base_uri": "https://localhost:8080/",
          "height": 244
        },
        "id": "80s-z5uwyvLm",
        "outputId": "cac2f322-3469-4e28-d9da-4c0505c755a0"
      },
      "source": [
        "df.head()"
      ],
      "execution_count": 3,
      "outputs": [
        {
          "output_type": "execute_result",
          "data": {
            "text/html": [
              "<div>\n",
              "<style scoped>\n",
              "    .dataframe tbody tr th:only-of-type {\n",
              "        vertical-align: middle;\n",
              "    }\n",
              "\n",
              "    .dataframe tbody tr th {\n",
              "        vertical-align: top;\n",
              "    }\n",
              "\n",
              "    .dataframe thead th {\n",
              "        text-align: right;\n",
              "    }\n",
              "</style>\n",
              "<table border=\"1\" class=\"dataframe\">\n",
              "  <thead>\n",
              "    <tr style=\"text-align: right;\">\n",
              "      <th></th>\n",
              "      <th>Loan_ID</th>\n",
              "      <th>Gender</th>\n",
              "      <th>Married</th>\n",
              "      <th>Dependents</th>\n",
              "      <th>Education</th>\n",
              "      <th>Self_Employed</th>\n",
              "      <th>ApplicantIncome</th>\n",
              "      <th>CoapplicantIncome</th>\n",
              "      <th>LoanAmount</th>\n",
              "      <th>Loan_Amount_Term</th>\n",
              "      <th>Credit_History</th>\n",
              "      <th>Property_Area</th>\n",
              "      <th>Loan_Status</th>\n",
              "    </tr>\n",
              "  </thead>\n",
              "  <tbody>\n",
              "    <tr>\n",
              "      <th>0</th>\n",
              "      <td>LP001002</td>\n",
              "      <td>Male</td>\n",
              "      <td>No</td>\n",
              "      <td>0</td>\n",
              "      <td>Graduate</td>\n",
              "      <td>No</td>\n",
              "      <td>5849</td>\n",
              "      <td>0.0</td>\n",
              "      <td>NaN</td>\n",
              "      <td>360.0</td>\n",
              "      <td>1.0</td>\n",
              "      <td>Urban</td>\n",
              "      <td>Y</td>\n",
              "    </tr>\n",
              "    <tr>\n",
              "      <th>1</th>\n",
              "      <td>LP001003</td>\n",
              "      <td>Male</td>\n",
              "      <td>Yes</td>\n",
              "      <td>1</td>\n",
              "      <td>Graduate</td>\n",
              "      <td>No</td>\n",
              "      <td>4583</td>\n",
              "      <td>1508.0</td>\n",
              "      <td>128.0</td>\n",
              "      <td>360.0</td>\n",
              "      <td>1.0</td>\n",
              "      <td>Rural</td>\n",
              "      <td>N</td>\n",
              "    </tr>\n",
              "    <tr>\n",
              "      <th>2</th>\n",
              "      <td>LP001005</td>\n",
              "      <td>Male</td>\n",
              "      <td>Yes</td>\n",
              "      <td>0</td>\n",
              "      <td>Graduate</td>\n",
              "      <td>Yes</td>\n",
              "      <td>3000</td>\n",
              "      <td>0.0</td>\n",
              "      <td>66.0</td>\n",
              "      <td>360.0</td>\n",
              "      <td>1.0</td>\n",
              "      <td>Urban</td>\n",
              "      <td>Y</td>\n",
              "    </tr>\n",
              "    <tr>\n",
              "      <th>3</th>\n",
              "      <td>LP001006</td>\n",
              "      <td>Male</td>\n",
              "      <td>Yes</td>\n",
              "      <td>0</td>\n",
              "      <td>Not Graduate</td>\n",
              "      <td>No</td>\n",
              "      <td>2583</td>\n",
              "      <td>2358.0</td>\n",
              "      <td>120.0</td>\n",
              "      <td>360.0</td>\n",
              "      <td>1.0</td>\n",
              "      <td>Urban</td>\n",
              "      <td>Y</td>\n",
              "    </tr>\n",
              "    <tr>\n",
              "      <th>4</th>\n",
              "      <td>LP001008</td>\n",
              "      <td>Male</td>\n",
              "      <td>No</td>\n",
              "      <td>0</td>\n",
              "      <td>Graduate</td>\n",
              "      <td>No</td>\n",
              "      <td>6000</td>\n",
              "      <td>0.0</td>\n",
              "      <td>141.0</td>\n",
              "      <td>360.0</td>\n",
              "      <td>1.0</td>\n",
              "      <td>Urban</td>\n",
              "      <td>Y</td>\n",
              "    </tr>\n",
              "  </tbody>\n",
              "</table>\n",
              "</div>"
            ],
            "text/plain": [
              "    Loan_ID Gender Married  ... Credit_History Property_Area Loan_Status\n",
              "0  LP001002   Male      No  ...            1.0         Urban           Y\n",
              "1  LP001003   Male     Yes  ...            1.0         Rural           N\n",
              "2  LP001005   Male     Yes  ...            1.0         Urban           Y\n",
              "3  LP001006   Male     Yes  ...            1.0         Urban           Y\n",
              "4  LP001008   Male      No  ...            1.0         Urban           Y\n",
              "\n",
              "[5 rows x 13 columns]"
            ]
          },
          "metadata": {},
          "execution_count": 3
        }
      ]
    },
    {
      "cell_type": "code",
      "metadata": {
        "colab": {
          "base_uri": "https://localhost:8080/",
          "height": 414
        },
        "id": "7X8dafi0ywde",
        "outputId": "87210b2d-66d9-4738-dc5d-7b20e453157c"
      },
      "source": [
        "df.describe(include='all')"
      ],
      "execution_count": 4,
      "outputs": [
        {
          "output_type": "execute_result",
          "data": {
            "text/html": [
              "<div>\n",
              "<style scoped>\n",
              "    .dataframe tbody tr th:only-of-type {\n",
              "        vertical-align: middle;\n",
              "    }\n",
              "\n",
              "    .dataframe tbody tr th {\n",
              "        vertical-align: top;\n",
              "    }\n",
              "\n",
              "    .dataframe thead th {\n",
              "        text-align: right;\n",
              "    }\n",
              "</style>\n",
              "<table border=\"1\" class=\"dataframe\">\n",
              "  <thead>\n",
              "    <tr style=\"text-align: right;\">\n",
              "      <th></th>\n",
              "      <th>Loan_ID</th>\n",
              "      <th>Gender</th>\n",
              "      <th>Married</th>\n",
              "      <th>Dependents</th>\n",
              "      <th>Education</th>\n",
              "      <th>Self_Employed</th>\n",
              "      <th>ApplicantIncome</th>\n",
              "      <th>CoapplicantIncome</th>\n",
              "      <th>LoanAmount</th>\n",
              "      <th>Loan_Amount_Term</th>\n",
              "      <th>Credit_History</th>\n",
              "      <th>Property_Area</th>\n",
              "      <th>Loan_Status</th>\n",
              "    </tr>\n",
              "  </thead>\n",
              "  <tbody>\n",
              "    <tr>\n",
              "      <th>count</th>\n",
              "      <td>614</td>\n",
              "      <td>601</td>\n",
              "      <td>611</td>\n",
              "      <td>599</td>\n",
              "      <td>614</td>\n",
              "      <td>582</td>\n",
              "      <td>614.000000</td>\n",
              "      <td>614.000000</td>\n",
              "      <td>592.000000</td>\n",
              "      <td>600.00000</td>\n",
              "      <td>564.000000</td>\n",
              "      <td>614</td>\n",
              "      <td>614</td>\n",
              "    </tr>\n",
              "    <tr>\n",
              "      <th>unique</th>\n",
              "      <td>614</td>\n",
              "      <td>2</td>\n",
              "      <td>2</td>\n",
              "      <td>4</td>\n",
              "      <td>2</td>\n",
              "      <td>2</td>\n",
              "      <td>NaN</td>\n",
              "      <td>NaN</td>\n",
              "      <td>NaN</td>\n",
              "      <td>NaN</td>\n",
              "      <td>NaN</td>\n",
              "      <td>3</td>\n",
              "      <td>2</td>\n",
              "    </tr>\n",
              "    <tr>\n",
              "      <th>top</th>\n",
              "      <td>LP001157</td>\n",
              "      <td>Male</td>\n",
              "      <td>Yes</td>\n",
              "      <td>0</td>\n",
              "      <td>Graduate</td>\n",
              "      <td>No</td>\n",
              "      <td>NaN</td>\n",
              "      <td>NaN</td>\n",
              "      <td>NaN</td>\n",
              "      <td>NaN</td>\n",
              "      <td>NaN</td>\n",
              "      <td>Semiurban</td>\n",
              "      <td>Y</td>\n",
              "    </tr>\n",
              "    <tr>\n",
              "      <th>freq</th>\n",
              "      <td>1</td>\n",
              "      <td>489</td>\n",
              "      <td>398</td>\n",
              "      <td>345</td>\n",
              "      <td>480</td>\n",
              "      <td>500</td>\n",
              "      <td>NaN</td>\n",
              "      <td>NaN</td>\n",
              "      <td>NaN</td>\n",
              "      <td>NaN</td>\n",
              "      <td>NaN</td>\n",
              "      <td>233</td>\n",
              "      <td>422</td>\n",
              "    </tr>\n",
              "    <tr>\n",
              "      <th>mean</th>\n",
              "      <td>NaN</td>\n",
              "      <td>NaN</td>\n",
              "      <td>NaN</td>\n",
              "      <td>NaN</td>\n",
              "      <td>NaN</td>\n",
              "      <td>NaN</td>\n",
              "      <td>5403.459283</td>\n",
              "      <td>1621.245798</td>\n",
              "      <td>146.412162</td>\n",
              "      <td>342.00000</td>\n",
              "      <td>0.842199</td>\n",
              "      <td>NaN</td>\n",
              "      <td>NaN</td>\n",
              "    </tr>\n",
              "    <tr>\n",
              "      <th>std</th>\n",
              "      <td>NaN</td>\n",
              "      <td>NaN</td>\n",
              "      <td>NaN</td>\n",
              "      <td>NaN</td>\n",
              "      <td>NaN</td>\n",
              "      <td>NaN</td>\n",
              "      <td>6109.041673</td>\n",
              "      <td>2926.248369</td>\n",
              "      <td>85.587325</td>\n",
              "      <td>65.12041</td>\n",
              "      <td>0.364878</td>\n",
              "      <td>NaN</td>\n",
              "      <td>NaN</td>\n",
              "    </tr>\n",
              "    <tr>\n",
              "      <th>min</th>\n",
              "      <td>NaN</td>\n",
              "      <td>NaN</td>\n",
              "      <td>NaN</td>\n",
              "      <td>NaN</td>\n",
              "      <td>NaN</td>\n",
              "      <td>NaN</td>\n",
              "      <td>150.000000</td>\n",
              "      <td>0.000000</td>\n",
              "      <td>9.000000</td>\n",
              "      <td>12.00000</td>\n",
              "      <td>0.000000</td>\n",
              "      <td>NaN</td>\n",
              "      <td>NaN</td>\n",
              "    </tr>\n",
              "    <tr>\n",
              "      <th>25%</th>\n",
              "      <td>NaN</td>\n",
              "      <td>NaN</td>\n",
              "      <td>NaN</td>\n",
              "      <td>NaN</td>\n",
              "      <td>NaN</td>\n",
              "      <td>NaN</td>\n",
              "      <td>2877.500000</td>\n",
              "      <td>0.000000</td>\n",
              "      <td>100.000000</td>\n",
              "      <td>360.00000</td>\n",
              "      <td>1.000000</td>\n",
              "      <td>NaN</td>\n",
              "      <td>NaN</td>\n",
              "    </tr>\n",
              "    <tr>\n",
              "      <th>50%</th>\n",
              "      <td>NaN</td>\n",
              "      <td>NaN</td>\n",
              "      <td>NaN</td>\n",
              "      <td>NaN</td>\n",
              "      <td>NaN</td>\n",
              "      <td>NaN</td>\n",
              "      <td>3812.500000</td>\n",
              "      <td>1188.500000</td>\n",
              "      <td>128.000000</td>\n",
              "      <td>360.00000</td>\n",
              "      <td>1.000000</td>\n",
              "      <td>NaN</td>\n",
              "      <td>NaN</td>\n",
              "    </tr>\n",
              "    <tr>\n",
              "      <th>75%</th>\n",
              "      <td>NaN</td>\n",
              "      <td>NaN</td>\n",
              "      <td>NaN</td>\n",
              "      <td>NaN</td>\n",
              "      <td>NaN</td>\n",
              "      <td>NaN</td>\n",
              "      <td>5795.000000</td>\n",
              "      <td>2297.250000</td>\n",
              "      <td>168.000000</td>\n",
              "      <td>360.00000</td>\n",
              "      <td>1.000000</td>\n",
              "      <td>NaN</td>\n",
              "      <td>NaN</td>\n",
              "    </tr>\n",
              "    <tr>\n",
              "      <th>max</th>\n",
              "      <td>NaN</td>\n",
              "      <td>NaN</td>\n",
              "      <td>NaN</td>\n",
              "      <td>NaN</td>\n",
              "      <td>NaN</td>\n",
              "      <td>NaN</td>\n",
              "      <td>81000.000000</td>\n",
              "      <td>41667.000000</td>\n",
              "      <td>700.000000</td>\n",
              "      <td>480.00000</td>\n",
              "      <td>1.000000</td>\n",
              "      <td>NaN</td>\n",
              "      <td>NaN</td>\n",
              "    </tr>\n",
              "  </tbody>\n",
              "</table>\n",
              "</div>"
            ],
            "text/plain": [
              "         Loan_ID Gender Married  ... Credit_History Property_Area Loan_Status\n",
              "count        614    601     611  ...     564.000000           614         614\n",
              "unique       614      2       2  ...            NaN             3           2\n",
              "top     LP001157   Male     Yes  ...            NaN     Semiurban           Y\n",
              "freq           1    489     398  ...            NaN           233         422\n",
              "mean         NaN    NaN     NaN  ...       0.842199           NaN         NaN\n",
              "std          NaN    NaN     NaN  ...       0.364878           NaN         NaN\n",
              "min          NaN    NaN     NaN  ...       0.000000           NaN         NaN\n",
              "25%          NaN    NaN     NaN  ...       1.000000           NaN         NaN\n",
              "50%          NaN    NaN     NaN  ...       1.000000           NaN         NaN\n",
              "75%          NaN    NaN     NaN  ...       1.000000           NaN         NaN\n",
              "max          NaN    NaN     NaN  ...       1.000000           NaN         NaN\n",
              "\n",
              "[11 rows x 13 columns]"
            ]
          },
          "metadata": {},
          "execution_count": 4
        }
      ]
    },
    {
      "cell_type": "code",
      "metadata": {
        "colab": {
          "base_uri": "https://localhost:8080/"
        },
        "id": "GqJ5tmOrzFBW",
        "outputId": "f8c37708-0c65-4cf7-e2cd-5ce66cf1b789"
      },
      "source": [
        "df.info()"
      ],
      "execution_count": 5,
      "outputs": [
        {
          "output_type": "stream",
          "name": "stdout",
          "text": [
            "<class 'pandas.core.frame.DataFrame'>\n",
            "RangeIndex: 614 entries, 0 to 613\n",
            "Data columns (total 13 columns):\n",
            " #   Column             Non-Null Count  Dtype  \n",
            "---  ------             --------------  -----  \n",
            " 0   Loan_ID            614 non-null    object \n",
            " 1   Gender             601 non-null    object \n",
            " 2   Married            611 non-null    object \n",
            " 3   Dependents         599 non-null    object \n",
            " 4   Education          614 non-null    object \n",
            " 5   Self_Employed      582 non-null    object \n",
            " 6   ApplicantIncome    614 non-null    int64  \n",
            " 7   CoapplicantIncome  614 non-null    float64\n",
            " 8   LoanAmount         592 non-null    float64\n",
            " 9   Loan_Amount_Term   600 non-null    float64\n",
            " 10  Credit_History     564 non-null    float64\n",
            " 11  Property_Area      614 non-null    object \n",
            " 12  Loan_Status        614 non-null    object \n",
            "dtypes: float64(4), int64(1), object(8)\n",
            "memory usage: 62.5+ KB\n"
          ]
        }
      ]
    },
    {
      "cell_type": "code",
      "metadata": {
        "id": "hIf3IfuYzWOu"
      },
      "source": [
        "df=df[~df['Credit_History'].isna()]"
      ],
      "execution_count": 6,
      "outputs": []
    },
    {
      "cell_type": "code",
      "metadata": {
        "colab": {
          "base_uri": "https://localhost:8080/"
        },
        "id": "JIQLz58u2myw",
        "outputId": "ba1cb64d-34c4-4669-db66-cecf38a1c19c"
      },
      "source": [
        "df.info()"
      ],
      "execution_count": 7,
      "outputs": [
        {
          "output_type": "stream",
          "name": "stdout",
          "text": [
            "<class 'pandas.core.frame.DataFrame'>\n",
            "Int64Index: 564 entries, 0 to 613\n",
            "Data columns (total 13 columns):\n",
            " #   Column             Non-Null Count  Dtype  \n",
            "---  ------             --------------  -----  \n",
            " 0   Loan_ID            564 non-null    object \n",
            " 1   Gender             552 non-null    object \n",
            " 2   Married            561 non-null    object \n",
            " 3   Dependents         549 non-null    object \n",
            " 4   Education          564 non-null    object \n",
            " 5   Self_Employed      538 non-null    object \n",
            " 6   ApplicantIncome    564 non-null    int64  \n",
            " 7   CoapplicantIncome  564 non-null    float64\n",
            " 8   LoanAmount         543 non-null    float64\n",
            " 9   Loan_Amount_Term   550 non-null    float64\n",
            " 10  Credit_History     564 non-null    float64\n",
            " 11  Property_Area      564 non-null    object \n",
            " 12  Loan_Status        564 non-null    object \n",
            "dtypes: float64(4), int64(1), object(8)\n",
            "memory usage: 61.7+ KB\n"
          ]
        }
      ]
    },
    {
      "cell_type": "code",
      "metadata": {
        "id": "uEeaYbO4wQJU"
      },
      "source": [
        "df.drop(columns='Loan_ID',inplace=True)"
      ],
      "execution_count": 8,
      "outputs": []
    },
    {
      "cell_type": "code",
      "metadata": {
        "id": "pvhKiylEu0mI"
      },
      "source": [
        "import statistics"
      ],
      "execution_count": 9,
      "outputs": []
    },
    {
      "cell_type": "code",
      "metadata": {
        "id": "65HqfkaC2uG9",
        "colab": {
          "base_uri": "https://localhost:8080/"
        },
        "outputId": "948f1f03-f7e1-41d9-8a8d-638ef684d1fe"
      },
      "source": [
        "df.nunique()"
      ],
      "execution_count": 10,
      "outputs": [
        {
          "output_type": "execute_result",
          "data": {
            "text/plain": [
              "Gender                 2\n",
              "Married                2\n",
              "Dependents             4\n",
              "Education              2\n",
              "Self_Employed          2\n",
              "ApplicantIncome      472\n",
              "CoapplicantIncome    261\n",
              "LoanAmount           194\n",
              "Loan_Amount_Term       9\n",
              "Credit_History         2\n",
              "Property_Area          3\n",
              "Loan_Status            2\n",
              "dtype: int64"
            ]
          },
          "metadata": {},
          "execution_count": 10
        }
      ]
    },
    {
      "cell_type": "code",
      "metadata": {
        "colab": {
          "base_uri": "https://localhost:8080/"
        },
        "id": "UEaFT5t2xbxN",
        "outputId": "2761f4a7-75b3-4694-9e3a-13ec525de100"
      },
      "source": [
        "statistics.mean(df[~df['LoanAmount'].isna()]['LoanAmount'])"
      ],
      "execution_count": 11,
      "outputs": [
        {
          "output_type": "execute_result",
          "data": {
            "text/plain": [
              "145.08839779005524"
            ]
          },
          "metadata": {},
          "execution_count": 11
        }
      ]
    },
    {
      "cell_type": "code",
      "metadata": {
        "colab": {
          "base_uri": "https://localhost:8080/"
        },
        "id": "2AuKAKUAxsDC",
        "outputId": "e2596a11-4370-41dc-c682-4b79f32f3a69"
      },
      "source": [
        "df['LoanAmount'].value_counts()"
      ],
      "execution_count": 12,
      "outputs": [
        {
          "output_type": "execute_result",
          "data": {
            "text/plain": [
              "120.0    18\n",
              "110.0    17\n",
              "100.0    14\n",
              "187.0    12\n",
              "128.0    10\n",
              "         ..\n",
              "360.0     1\n",
              "53.0      1\n",
              "65.0      1\n",
              "156.0     1\n",
              "89.0      1\n",
              "Name: LoanAmount, Length: 194, dtype: int64"
            ]
          },
          "metadata": {},
          "execution_count": 12
        }
      ]
    },
    {
      "cell_type": "code",
      "metadata": {
        "id": "0CPeibRQtUK8"
      },
      "source": [
        "for i in df.columns:\n",
        "  if df[i].nunique()>10:\n",
        "    df.loc[df[i].isna(),i]=statistics.mean(df[~df['LoanAmount'].isna()]['LoanAmount'])\n",
        "  else:\n",
        "    df.loc[df[i].isna(),i]=statistics.mode(df[i])"
      ],
      "execution_count": 13,
      "outputs": []
    },
    {
      "cell_type": "code",
      "metadata": {
        "colab": {
          "base_uri": "https://localhost:8080/"
        },
        "id": "TXW6T4gQwJn9",
        "outputId": "ee805365-1c74-4878-dac9-783a15e8d212"
      },
      "source": [
        "df.info()"
      ],
      "execution_count": 14,
      "outputs": [
        {
          "output_type": "stream",
          "name": "stdout",
          "text": [
            "<class 'pandas.core.frame.DataFrame'>\n",
            "Int64Index: 564 entries, 0 to 613\n",
            "Data columns (total 12 columns):\n",
            " #   Column             Non-Null Count  Dtype  \n",
            "---  ------             --------------  -----  \n",
            " 0   Gender             564 non-null    object \n",
            " 1   Married            564 non-null    object \n",
            " 2   Dependents         564 non-null    object \n",
            " 3   Education          564 non-null    object \n",
            " 4   Self_Employed      564 non-null    object \n",
            " 5   ApplicantIncome    564 non-null    float64\n",
            " 6   CoapplicantIncome  564 non-null    float64\n",
            " 7   LoanAmount         564 non-null    float64\n",
            " 8   Loan_Amount_Term   564 non-null    float64\n",
            " 9   Credit_History     564 non-null    float64\n",
            " 10  Property_Area      564 non-null    object \n",
            " 11  Loan_Status        564 non-null    object \n",
            "dtypes: float64(5), object(7)\n",
            "memory usage: 57.3+ KB\n"
          ]
        }
      ]
    },
    {
      "cell_type": "code",
      "metadata": {
        "colab": {
          "base_uri": "https://localhost:8080/",
          "height": 132
        },
        "id": "snBKvIlxwm8c",
        "outputId": "9bfb3160-ea1f-41b1-bb5e-d3cabbc40545"
      },
      "source": [
        "df.head(2)"
      ],
      "execution_count": 15,
      "outputs": [
        {
          "output_type": "execute_result",
          "data": {
            "text/html": [
              "<div>\n",
              "<style scoped>\n",
              "    .dataframe tbody tr th:only-of-type {\n",
              "        vertical-align: middle;\n",
              "    }\n",
              "\n",
              "    .dataframe tbody tr th {\n",
              "        vertical-align: top;\n",
              "    }\n",
              "\n",
              "    .dataframe thead th {\n",
              "        text-align: right;\n",
              "    }\n",
              "</style>\n",
              "<table border=\"1\" class=\"dataframe\">\n",
              "  <thead>\n",
              "    <tr style=\"text-align: right;\">\n",
              "      <th></th>\n",
              "      <th>Gender</th>\n",
              "      <th>Married</th>\n",
              "      <th>Dependents</th>\n",
              "      <th>Education</th>\n",
              "      <th>Self_Employed</th>\n",
              "      <th>ApplicantIncome</th>\n",
              "      <th>CoapplicantIncome</th>\n",
              "      <th>LoanAmount</th>\n",
              "      <th>Loan_Amount_Term</th>\n",
              "      <th>Credit_History</th>\n",
              "      <th>Property_Area</th>\n",
              "      <th>Loan_Status</th>\n",
              "    </tr>\n",
              "  </thead>\n",
              "  <tbody>\n",
              "    <tr>\n",
              "      <th>0</th>\n",
              "      <td>Male</td>\n",
              "      <td>No</td>\n",
              "      <td>0</td>\n",
              "      <td>Graduate</td>\n",
              "      <td>No</td>\n",
              "      <td>5849.0</td>\n",
              "      <td>0.0</td>\n",
              "      <td>145.088398</td>\n",
              "      <td>360.0</td>\n",
              "      <td>1.0</td>\n",
              "      <td>Urban</td>\n",
              "      <td>Y</td>\n",
              "    </tr>\n",
              "    <tr>\n",
              "      <th>1</th>\n",
              "      <td>Male</td>\n",
              "      <td>Yes</td>\n",
              "      <td>1</td>\n",
              "      <td>Graduate</td>\n",
              "      <td>No</td>\n",
              "      <td>4583.0</td>\n",
              "      <td>1508.0</td>\n",
              "      <td>128.000000</td>\n",
              "      <td>360.0</td>\n",
              "      <td>1.0</td>\n",
              "      <td>Rural</td>\n",
              "      <td>N</td>\n",
              "    </tr>\n",
              "  </tbody>\n",
              "</table>\n",
              "</div>"
            ],
            "text/plain": [
              "  Gender Married Dependents  ... Credit_History Property_Area  Loan_Status\n",
              "0   Male      No          0  ...            1.0         Urban            Y\n",
              "1   Male     Yes          1  ...            1.0         Rural            N\n",
              "\n",
              "[2 rows x 12 columns]"
            ]
          },
          "metadata": {},
          "execution_count": 15
        }
      ]
    },
    {
      "cell_type": "code",
      "metadata": {
        "id": "1hy1BCQxwupx"
      },
      "source": [
        "cont_cols=[x for x in df.columns if df[x].nunique()>10]"
      ],
      "execution_count": 16,
      "outputs": []
    },
    {
      "cell_type": "code",
      "metadata": {
        "colab": {
          "base_uri": "https://localhost:8080/",
          "height": 442
        },
        "id": "IyoZc-HqxJ0U",
        "outputId": "6a8bac3c-fba4-407d-b706-147b364e4dfb"
      },
      "source": [
        "fig,axes=plt.subplots(1,3,figsize=(20,7))\n",
        "for i,j in enumerate(cont_cols):\n",
        "  sns.distplot(df[j],ax=axes[i],axlabel=j)"
      ],
      "execution_count": 17,
      "outputs": [
        {
          "output_type": "display_data",
          "data": {
            "image/png": "[encoded data removed]",
            "text/plain": [
              "<Figure size 1440x504 with 3 Axes>"
            ]
          },
          "metadata": {
            "needs_background": "light"
          }
        }
      ]
    },
    {
      "cell_type": "code",
      "metadata": {
        "colab": {
          "base_uri": "https://localhost:8080/",
          "height": 442
        },
        "id": "sllrn_FDFSZ8",
        "outputId": "c75853b8-6f7e-4183-f829-a62acb271876"
      },
      "source": [
        "fig,axes=plt.subplots(1,3,figsize=(20,7))\n",
        "for i,j in enumerate(cont_cols):\n",
        "  sns.distplot(df[j],ax=axes[i],axlabel=j,color='g')"
      ],
      "execution_count": 18,
      "outputs": [
        {
          "output_type": "display_data",
          "data": {
            "image/png": "[encoded data removed]",
            "text/plain": [
              "<Figure size 1440x504 with 3 Axes>"
            ]
          },
          "metadata": {
            "needs_background": "light"
          }
        }
      ]
    },
    {
      "cell_type": "code",
      "metadata": {
        "id": "5PAmd12WxMyT"
      },
      "source": [
        "pt=PowerTransformer(standardize=False)\n",
        "pt.fit(df[cont_cols])\n",
        "df[cont_cols]=pt.transform(df[cont_cols])"
      ],
      "execution_count": 19,
      "outputs": []
    },
    {
      "cell_type": "code",
      "metadata": {
        "id": "MzbXBj6X_yxE"
      },
      "source": [
        "for i in cont_cols:\n",
        "    upper_limit=df[i].quantile(0.90)\n",
        "    lower_limit=df[i].quantile(0.10)\n",
        "    df.loc[df[i]>upper_limit,i]=upper_limit\n",
        "    df.loc[df[i]<lower_limit,i]=lower_limit"
      ],
      "execution_count": 20,
      "outputs": []
    },
    {
      "cell_type": "code",
      "metadata": {
        "colab": {
          "base_uri": "https://localhost:8080/",
          "height": 442
        },
        "id": "hcE-sVWw1Pjs",
        "outputId": "606581be-af55-46ae-b58f-ccb0a3f19521"
      },
      "source": [
        "fig,axes=plt.subplots(1,3,figsize=(20,7))\n",
        "for i,j in enumerate(cont_cols):\n",
        "  sns.distplot(df[j],ax=axes[i],axlabel=j,color='g')"
      ],
      "execution_count": 21,
      "outputs": [
        {
          "output_type": "display_data",
          "data": {
            "image/png": "[encoded data removed]",
            "text/plain": [
              "<Figure size 1440x504 with 3 Axes>"
            ]
          },
          "metadata": {
            "needs_background": "light"
          }
        }
      ]
    },
    {
      "cell_type": "code",
      "metadata": {
        "colab": {
          "base_uri": "https://localhost:8080/"
        },
        "id": "JyJOoFCo1Teg",
        "outputId": "11baa3a5-c352-43e9-846f-0738e93545a1"
      },
      "source": [
        "df['Dependents'].unique()"
      ],
      "execution_count": 22,
      "outputs": [
        {
          "output_type": "execute_result",
          "data": {
            "text/plain": [
              "array(['0', '1', '2', '3+'], dtype=object)"
            ]
          },
          "metadata": {},
          "execution_count": 22
        }
      ]
    },
    {
      "cell_type": "code",
      "metadata": {
        "id": "YJf7bdf66qO6"
      },
      "source": [
        "df['Dependents']=df['Dependents'].apply(lambda x:3 if x=='3+' else x)"
      ],
      "execution_count": 23,
      "outputs": []
    },
    {
      "cell_type": "code",
      "metadata": {
        "id": "QV-g9Rb26hBZ"
      },
      "source": [
        "df['Dependents']=df['Dependents'].apply(lambda x: int(x))"
      ],
      "execution_count": 24,
      "outputs": []
    },
    {
      "cell_type": "code",
      "metadata": {
        "id": "zAHAhdEt43jC"
      },
      "source": [
        "categorical_col=[x for x in df.columns if x not in df.describe()]"
      ],
      "execution_count": 25,
      "outputs": []
    },
    {
      "cell_type": "code",
      "metadata": {
        "colab": {
          "base_uri": "https://localhost:8080/"
        },
        "id": "8XwJHd9S6MpQ",
        "outputId": "cc7b8aab-a948-4372-9b14-cab4a329988d"
      },
      "source": [
        "df[categorical_col].nunique()"
      ],
      "execution_count": 26,
      "outputs": [
        {
          "output_type": "execute_result",
          "data": {
            "text/plain": [
              "Gender           2\n",
              "Married          2\n",
              "Education        2\n",
              "Self_Employed    2\n",
              "Property_Area    3\n",
              "Loan_Status      2\n",
              "dtype: int64"
            ]
          },
          "metadata": {},
          "execution_count": 26
        }
      ]
    },
    {
      "cell_type": "code",
      "metadata": {
        "colab": {
          "base_uri": "https://localhost:8080/",
          "height": 206
        },
        "id": "9z2XRD7x7PEJ",
        "outputId": "8351f886-74f5-475c-9ac4-1cc17adf6804"
      },
      "source": [
        "df[categorical_col].head()"
      ],
      "execution_count": 27,
      "outputs": [
        {
          "output_type": "execute_result",
          "data": {
            "text/html": [
              "<div>\n",
              "<style scoped>\n",
              "    .dataframe tbody tr th:only-of-type {\n",
              "        vertical-align: middle;\n",
              "    }\n",
              "\n",
              "    .dataframe tbody tr th {\n",
              "        vertical-align: top;\n",
              "    }\n",
              "\n",
              "    .dataframe thead th {\n",
              "        text-align: right;\n",
              "    }\n",
              "</style>\n",
              "<table border=\"1\" class=\"dataframe\">\n",
              "  <thead>\n",
              "    <tr style=\"text-align: right;\">\n",
              "      <th></th>\n",
              "      <th>Gender</th>\n",
              "      <th>Married</th>\n",
              "      <th>Education</th>\n",
              "      <th>Self_Employed</th>\n",
              "      <th>Property_Area</th>\n",
              "      <th>Loan_Status</th>\n",
              "    </tr>\n",
              "  </thead>\n",
              "  <tbody>\n",
              "    <tr>\n",
              "      <th>0</th>\n",
              "      <td>Male</td>\n",
              "      <td>No</td>\n",
              "      <td>Graduate</td>\n",
              "      <td>No</td>\n",
              "      <td>Urban</td>\n",
              "      <td>Y</td>\n",
              "    </tr>\n",
              "    <tr>\n",
              "      <th>1</th>\n",
              "      <td>Male</td>\n",
              "      <td>Yes</td>\n",
              "      <td>Graduate</td>\n",
              "      <td>No</td>\n",
              "      <td>Rural</td>\n",
              "      <td>N</td>\n",
              "    </tr>\n",
              "    <tr>\n",
              "      <th>2</th>\n",
              "      <td>Male</td>\n",
              "      <td>Yes</td>\n",
              "      <td>Graduate</td>\n",
              "      <td>Yes</td>\n",
              "      <td>Urban</td>\n",
              "      <td>Y</td>\n",
              "    </tr>\n",
              "    <tr>\n",
              "      <th>3</th>\n",
              "      <td>Male</td>\n",
              "      <td>Yes</td>\n",
              "      <td>Not Graduate</td>\n",
              "      <td>No</td>\n",
              "      <td>Urban</td>\n",
              "      <td>Y</td>\n",
              "    </tr>\n",
              "    <tr>\n",
              "      <th>4</th>\n",
              "      <td>Male</td>\n",
              "      <td>No</td>\n",
              "      <td>Graduate</td>\n",
              "      <td>No</td>\n",
              "      <td>Urban</td>\n",
              "      <td>Y</td>\n",
              "    </tr>\n",
              "  </tbody>\n",
              "</table>\n",
              "</div>"
            ],
            "text/plain": [
              "  Gender Married     Education Self_Employed Property_Area Loan_Status\n",
              "0   Male      No      Graduate            No         Urban           Y\n",
              "1   Male     Yes      Graduate            No         Rural           N\n",
              "2   Male     Yes      Graduate           Yes         Urban           Y\n",
              "3   Male     Yes  Not Graduate            No         Urban           Y\n",
              "4   Male      No      Graduate            No         Urban           Y"
            ]
          },
          "metadata": {},
          "execution_count": 27
        }
      ]
    },
    {
      "cell_type": "code",
      "metadata": {
        "id": "5PIskL5N6Xww"
      },
      "source": [
        "df=pd.get_dummies(df,columns=['Property_Area'],drop_first=True )\n",
        "# label_encoder object knows how to understand word labels.\n",
        "label_encoder = preprocessing.LabelEncoder()\n",
        "df['Gender']= label_encoder.fit_transform(df['Gender'])\n",
        "df['Married']= label_encoder.fit_transform(df['Married'])\n",
        "df['Education']= label_encoder.fit_transform(df['Education'])\n",
        "df['Self_Employed']= label_encoder.fit_transform(df['Self_Employed'])\n",
        "df['Loan_Status']= df['Loan_Status'].apply(lambda x : 1 if x=='N' else 0)\n"
      ],
      "execution_count": 28,
      "outputs": []
    },
    {
      "cell_type": "code",
      "metadata": {
        "colab": {
          "base_uri": "https://localhost:8080/",
          "height": 132
        },
        "id": "yiT3zUXQ9SZj",
        "outputId": "34b33df5-166d-4811-ac0f-ba2cddac9770"
      },
      "source": [
        "df.head(2)"
      ],
      "execution_count": 29,
      "outputs": [
        {
          "output_type": "execute_result",
          "data": {
            "text/html": [
              "<div>\n",
              "<style scoped>\n",
              "    .dataframe tbody tr th:only-of-type {\n",
              "        vertical-align: middle;\n",
              "    }\n",
              "\n",
              "    .dataframe tbody tr th {\n",
              "        vertical-align: top;\n",
              "    }\n",
              "\n",
              "    .dataframe thead th {\n",
              "        text-align: right;\n",
              "    }\n",
              "</style>\n",
              "<table border=\"1\" class=\"dataframe\">\n",
              "  <thead>\n",
              "    <tr style=\"text-align: right;\">\n",
              "      <th></th>\n",
              "      <th>Gender</th>\n",
              "      <th>Married</th>\n",
              "      <th>Dependents</th>\n",
              "      <th>Education</th>\n",
              "      <th>Self_Employed</th>\n",
              "      <th>ApplicantIncome</th>\n",
              "      <th>CoapplicantIncome</th>\n",
              "      <th>LoanAmount</th>\n",
              "      <th>Loan_Amount_Term</th>\n",
              "      <th>Credit_History</th>\n",
              "      <th>Loan_Status</th>\n",
              "      <th>Property_Area_Semiurban</th>\n",
              "      <th>Property_Area_Urban</th>\n",
              "    </tr>\n",
              "  </thead>\n",
              "  <tbody>\n",
              "    <tr>\n",
              "      <th>0</th>\n",
              "      <td>1</td>\n",
              "      <td>0</td>\n",
              "      <td>0</td>\n",
              "      <td>0</td>\n",
              "      <td>0</td>\n",
              "      <td>5.535131</td>\n",
              "      <td>0.000000</td>\n",
              "      <td>6.311928</td>\n",
              "      <td>360.0</td>\n",
              "      <td>1.0</td>\n",
              "      <td>0</td>\n",
              "      <td>0</td>\n",
              "      <td>1</td>\n",
              "    </tr>\n",
              "    <tr>\n",
              "      <th>1</th>\n",
              "      <td>1</td>\n",
              "      <td>1</td>\n",
              "      <td>1</td>\n",
              "      <td>0</td>\n",
              "      <td>0</td>\n",
              "      <td>5.442100</td>\n",
              "      <td>8.935724</td>\n",
              "      <td>6.116942</td>\n",
              "      <td>360.0</td>\n",
              "      <td>1.0</td>\n",
              "      <td>1</td>\n",
              "      <td>0</td>\n",
              "      <td>0</td>\n",
              "    </tr>\n",
              "  </tbody>\n",
              "</table>\n",
              "</div>"
            ],
            "text/plain": [
              "   Gender  Married  ...  Property_Area_Semiurban  Property_Area_Urban\n",
              "0       1        0  ...                        0                    1\n",
              "1       1        1  ...                        0                    0\n",
              "\n",
              "[2 rows x 13 columns]"
            ]
          },
          "metadata": {},
          "execution_count": 29
        }
      ]
    },
    {
      "cell_type": "code",
      "metadata": {
        "colab": {
          "base_uri": "https://localhost:8080/",
          "height": 1000
        },
        "id": "E7eSWkXD-b99",
        "outputId": "e1011878-871a-4db6-e1bd-806b77370e41"
      },
      "source": [
        "for i in df.columns:\n",
        "  if df[i].nunique()<10:\n",
        "    sns.countplot(df[i],hue=df['Loan_Status'])\n",
        "    plt.show()\n",
        "  else:\n",
        "    pass"
      ],
      "execution_count": 30,
      "outputs": [
        {
          "output_type": "display_data",
          "data": {
            "image/png": "[encoded data removed]",
            "text/plain": [
              "<Figure size 432x288 with 1 Axes>"
            ]
          },
          "metadata": {
            "needs_background": "light"
          }
        },
        {
          "output_type": "display_data",
          "data": {
            "image/png": "[encoded data removed]",
            "text/plain": [
              "<Figure size 432x288 with 1 Axes>"
            ]
          },
          "metadata": {
            "needs_background": "light"
          }
        },
        {
          "output_type": "display_data",
          "data": {
            "image/png": "[encoded data removed]",
            "text/plain": [
              "<Figure size 432x288 with 1 Axes>"
            ]
          },
          "metadata": {
            "needs_background": "light"
          }
        },
        {
          "output_type": "display_data",
          "data": {
            "image/png": "[encoded data removed]",
            "text/plain": [
              "<Figure size 432x288 with 1 Axes>"
            ]
          },
          "metadata": {
            "needs_background": "light"
          }
        },
        {
          "output_type": "display_data",
          "data": {
            "image/png": "[encoded data removed]",
            "text/plain": [
              "<Figure size 432x288 with 1 Axes>"
            ]
          },
          "metadata": {
            "needs_background": "light"
          }
        },
        {
          "output_type": "display_data",
          "data": {
            "image/png": "[encoded data removed]",
            "text/plain": [
              "<Figure size 432x288 with 1 Axes>"
            ]
          },
          "metadata": {
            "needs_background": "light"
          }
        },
        {
          "output_type": "display_data",
          "data": {
            "image/png": "[encoded data removed]",
            "text/plain": [
              "<Figure size 432x288 with 1 Axes>"
            ]
          },
          "metadata": {
            "needs_background": "light"
          }
        },
        {
          "output_type": "display_data",
          "data": {
            "image/png": "[encoded data removed]",
            "text/plain": [
              "<Figure size 432x288 with 1 Axes>"
            ]
          },
          "metadata": {
            "needs_background": "light"
          }
        },
        {
          "output_type": "display_data",
          "data": {
            "image/png": "[encoded data removed]",
            "text/plain": [
              "<Figure size 432x288 with 1 Axes>"
            ]
          },
          "metadata": {
            "needs_background": "light"
          }
        },
        {
          "output_type": "display_data",
          "data": {
            "image/png": "[encoded data removed]",
            "text/plain": [
              "<Figure size 432x288 with 1 Axes>"
            ]
          },
          "metadata": {
            "needs_background": "light"
          }
        }
      ]
    },
    {
      "cell_type": "code",
      "metadata": {
        "id": "Ao3QBKZg-vRv"
      },
      "source": [
        "X=df.drop(columns='Loan_Status')\n",
        "y=df['Loan_Status']"
      ],
      "execution_count": 31,
      "outputs": []
    },
    {
      "cell_type": "code",
      "metadata": {
        "colab": {
          "base_uri": "https://localhost:8080/"
        },
        "id": "uUuvEaTmIpSu",
        "outputId": "660606bd-b161-44fc-99a5-23da02d27cde"
      },
      "source": [
        "y.value_counts()"
      ],
      "execution_count": 32,
      "outputs": [
        {
          "output_type": "execute_result",
          "data": {
            "text/plain": [
              "0    385\n",
              "1    179\n",
              "Name: Loan_Status, dtype: int64"
            ]
          },
          "metadata": {},
          "execution_count": 32
        }
      ]
    },
    {
      "cell_type": "code",
      "metadata": {
        "id": "hrNR5kLklDHo"
      },
      "source": [
        "from skopt import BayesSearchCV\n",
        "from sklearn.model_selection import cross_val_score"
      ],
      "execution_count": 33,
      "outputs": []
    },
    {
      "cell_type": "code",
      "metadata": {
        "id": "8blp9x0zPMUq"
      },
      "source": [
        "# f1_=0\n",
        "# f2=0\n",
        "# for i in range(0,10): \n",
        "#   X_train,X_test,y_train,y_test=train_test_split(X,y,test_size=0.25,stratify=y,random_state=i)\n",
        "#   scaler=MinMaxScaler()\n",
        "#   scaler.fit(X_train)\n",
        "#   X_train=scaler.transform(X_train)\n",
        "#   X_test=scaler.transform(X_test)\n",
        "#   params = dict()\n",
        "#   params['C'] = (1e-3,1)\n",
        "#   params['penalty'] = ['l1','l2']\n",
        "#   # define evaluation\n",
        "#   cv = RepeatedStratifiedKFold(n_splits=3, n_repeats=2, random_state=1)\n",
        "#   # define the search\n",
        "#   search = BayesSearchCV(estimator=LogisticRegression(class_weight='balanced',solver='liblinear'), search_spaces=params, n_jobs=-1, cv=cv)\n",
        "#   # perform the search\n",
        "#   search.fit(X_train, y_train)\n",
        "#   # lr=LogisticRegression(class_weight='balanced')\n",
        "#   # lr.fit(X_train,y_train)\n",
        "#   y_train_pred=search.predict(X_train)\n",
        "#   y_test_pred=search.predict(X_test)\n",
        "#   score_test=f1_score(y_test,y_test_pred)\n",
        "#   score_train=f1_score(y_train,y_train_pred)\n",
        "#   if f2<score_train and score_test>=score_train-0.05:\n",
        "#     f1_=score_test\n",
        "#     f2=score_train\n",
        "#     random=i\n",
        "#     print(search.best_score_)\n",
        "#     print(search.best_params_)\n",
        "  "
      ],
      "execution_count": 34,
      "outputs": []
    },
    {
      "cell_type": "code",
      "metadata": {
        "id": "lHYK7rTO33B9"
      },
      "source": [
        "#print(random, f1_)"
      ],
      "execution_count": 54,
      "outputs": []
    },
    {
      "cell_type": "markdown",
      "metadata": {
        "id": "dAOFSI1LmPwN"
      },
      "source": [
        "# **Linear Discriminant Analysis**"
      ]
    },
    {
      "cell_type": "code",
      "metadata": {
        "id": "pV0Kn2DemPBp"
      },
      "source": [
        "from sklearn.discriminant_analysis import LinearDiscriminantAnalysis"
      ],
      "execution_count": 55,
      "outputs": []
    },
    {
      "cell_type": "code",
      "metadata": {
        "id": "vEQeXWJ6aQvB"
      },
      "source": [
        "X_train,X_test,y_train,y_test=train_test_split(X,y,test_size=0.25,stratify=y,random_state=8)\n",
        "scaler1=StandardScaler()\n",
        "scaler1.fit(X_train)\n",
        "Xtrain=scaler.transform(X_train)\n",
        "Xtest=scaler.transform(X_test)"
      ],
      "execution_count": 56,
      "outputs": []
    },
    {
      "cell_type": "code",
      "metadata": {
        "colab": {
          "base_uri": "https://localhost:8080/"
        },
        "id": "ZuVkcOJ-mvC1",
        "outputId": "c68c60ba-5654-4457-9a32-7be0d35c92b3"
      },
      "source": [
        "lda = LinearDiscriminantAnalysis(solver='lsqr',priors=[0.60,0.40])\n",
        "lda.fit(Xtrain, y_train)\n"
      ],
      "execution_count": 57,
      "outputs": [
        {
          "output_type": "execute_result",
          "data": {
            "text/plain": [
              "LinearDiscriminantAnalysis(n_components=None, priors=[0.6, 0.4], shrinkage=None,\n",
              "                           solver='lsqr', store_covariance=False, tol=0.0001)"
            ]
          },
          "metadata": {},
          "execution_count": 57
        }
      ]
    },
    {
      "cell_type": "code",
      "metadata": {
        "id": "C7N1gCH3mzyc"
      },
      "source": [
        "ytrain_pred=lda.predict(Xtrain)\n",
        "ytest_pred=lda.predict(Xtest)"
      ],
      "execution_count": 58,
      "outputs": []
    },
    {
      "cell_type": "code",
      "metadata": {
        "colab": {
          "base_uri": "https://localhost:8080/"
        },
        "id": "deDKzRNknUCk",
        "outputId": "0a5c1238-2e38-488b-a36d-9c4f0b0b7a19"
      },
      "source": [
        "print(classification_report(y_train,ytrain_pred))"
      ],
      "execution_count": 59,
      "outputs": [
        {
          "output_type": "stream",
          "name": "stdout",
          "text": [
            "              precision    recall  f1-score   support\n",
            "\n",
            "           0       0.80      0.97      0.88       289\n",
            "           1       0.89      0.49      0.63       134\n",
            "\n",
            "    accuracy                           0.82       423\n",
            "   macro avg       0.85      0.73      0.75       423\n",
            "weighted avg       0.83      0.82      0.80       423\n",
            "\n"
          ]
        }
      ]
    },
    {
      "cell_type": "code",
      "metadata": {
        "colab": {
          "base_uri": "https://localhost:8080/"
        },
        "id": "ECRheCAHnVac",
        "outputId": "9ac2699d-4e6b-47e6-be84-c8937ee4bc4a"
      },
      "source": [
        "print(classification_report(y_test,ytest_pred))"
      ],
      "execution_count": 60,
      "outputs": [
        {
          "output_type": "stream",
          "name": "stdout",
          "text": [
            "              precision    recall  f1-score   support\n",
            "\n",
            "           0       0.80      0.98      0.88        96\n",
            "           1       0.91      0.47      0.62        45\n",
            "\n",
            "    accuracy                           0.82       141\n",
            "   macro avg       0.85      0.72      0.75       141\n",
            "weighted avg       0.83      0.82      0.80       141\n",
            "\n"
          ]
        }
      ]
    },
    {
      "cell_type": "markdown",
      "metadata": {
        "id": "po_xx3GDFq2k"
      },
      "source": [
        "# **LD with Grid Search CV**"
      ]
    },
    {
      "cell_type": "code",
      "metadata": {
        "id": "miUo8L7RxCn1"
      },
      "source": [
        "from sklearn.metrics import fbeta_score, make_scorer\n",
        "ftwo_scorer = make_scorer(fbeta_score, beta=2)\n"
      ],
      "execution_count": 61,
      "outputs": []
    },
    {
      "cell_type": "code",
      "metadata": {
        "id": "dozVlNq1vUZC"
      },
      "source": [
        "X_train,X_test,y_train,y_test=train_test_split(X,y,test_size=0.25,stratify=y,random_state=8)\n",
        "scaler=StandardScaler()\n",
        "scaler.fit(X_train)\n",
        "X_train=scaler.transform(X_train)\n",
        "X_test=scaler.transform(X_test)"
      ],
      "execution_count": 62,
      "outputs": []
    },
    {
      "cell_type": "code",
      "metadata": {
        "colab": {
          "base_uri": "https://localhost:8080/"
        },
        "id": "gM5SDWB3nXVU",
        "outputId": "ed610f03-2e87-45c9-a608-21d9bf45bd3b"
      },
      "source": [
        "ld1=LinearDiscriminantAnalysis()\n",
        "cv = StratifiedKFold(n_splits=3,shuffle=True)\n",
        "param={'solver':['svd','lsqr','eigen'],'shrinkage':[0.1,1,0.001,0.01],'tol':[0.00001,2,1,0.000001,1e-06,1e-07],'priors':[[0.60,0.40],[0.70,30],[0.75,25],[0.40,0.60],[0.50,0.50],[30,70]]}\n",
        "ld_grid=GridSearchCV(ld1,param_grid=param,cv=cv,scoring='f1')\n",
        "ld_grid.fit(X_train,y_train)"
      ],
      "execution_count": 63,
      "outputs": [
        {
          "output_type": "execute_result",
          "data": {
            "text/plain": [
              "GridSearchCV(cv=StratifiedKFold(n_splits=3, random_state=None, shuffle=True),\n",
              "             error_score=nan,\n",
              "             estimator=LinearDiscriminantAnalysis(n_components=None,\n",
              "                                                  priors=None, shrinkage=None,\n",
              "                                                  solver='svd',\n",
              "                                                  store_covariance=False,\n",
              "                                                  tol=0.0001),\n",
              "             iid='deprecated', n_jobs=None,\n",
              "             param_grid={'priors': [[0.6, 0.4], [0.7, 30], [0.75, 25],\n",
              "                                    [0.4, 0.6], [0.5, 0.5], [30, 70]],\n",
              "                         'shrinkage': [0.1, 1, 0.001, 0.01],\n",
              "                         'solver': ['svd', 'lsqr', 'eigen'],\n",
              "                         'tol': [1e-05, 2, 1, 1e-06, 1e-06, 1e-07]},\n",
              "             pre_dispatch='2*n_jobs', refit=True, return_train_score=False,\n",
              "             scoring='f1', verbose=0)"
            ]
          },
          "metadata": {},
          "execution_count": 63
        }
      ]
    },
    {
      "cell_type": "code",
      "metadata": {
        "id": "TOowI6vGskB2"
      },
      "source": [
        "ytrain_pred=ld_grid.predict(X_train)\n",
        "ytest_pred=ld_grid.predict(X_test)"
      ],
      "execution_count": 64,
      "outputs": []
    },
    {
      "cell_type": "code",
      "metadata": {
        "colab": {
          "base_uri": "https://localhost:8080/"
        },
        "id": "yZU19a5HtKsy",
        "outputId": "f68f8850-54ba-49e7-eb56-031369a24ea9"
      },
      "source": [
        "ld_grid.best_params_"
      ],
      "execution_count": 65,
      "outputs": [
        {
          "output_type": "execute_result",
          "data": {
            "text/plain": [
              "{'priors': [0.6, 0.4], 'shrinkage': 0.1, 'solver': 'lsqr', 'tol': 1e-05}"
            ]
          },
          "metadata": {},
          "execution_count": 65
        }
      ]
    },
    {
      "cell_type": "code",
      "metadata": {
        "colab": {
          "base_uri": "https://localhost:8080/"
        },
        "id": "ejtEPVtls9eg",
        "outputId": "36856511-9949-4d6e-e7df-8a676baddf9c"
      },
      "source": [
        "print(classification_report(y_train,y_train_pred))"
      ],
      "execution_count": 68,
      "outputs": [
        {
          "output_type": "stream",
          "name": "stdout",
          "text": [
            "              precision    recall  f1-score   support\n",
            "\n",
            "           0       0.85      0.85      0.85       289\n",
            "           1       0.68      0.67      0.68       134\n",
            "\n",
            "    accuracy                           0.80       423\n",
            "   macro avg       0.77      0.76      0.76       423\n",
            "weighted avg       0.80      0.80      0.80       423\n",
            "\n"
          ]
        }
      ]
    },
    {
      "cell_type": "code",
      "metadata": {
        "colab": {
          "base_uri": "https://localhost:8080/"
        },
        "id": "zSyvlbWzs_Bn",
        "outputId": "ba85a752-5dec-48be-a5f9-f35e061e9ab9"
      },
      "source": [
        "print(classification_report(y_test,y_test_pred))"
      ],
      "execution_count": 67,
      "outputs": [
        {
          "output_type": "stream",
          "name": "stdout",
          "text": [
            "              precision    recall  f1-score   support\n",
            "\n",
            "           0       0.77      0.81      0.79        96\n",
            "           1       0.55      0.49      0.52        45\n",
            "\n",
            "    accuracy                           0.71       141\n",
            "   macro avg       0.66      0.65      0.65       141\n",
            "weighted avg       0.70      0.71      0.70       141\n",
            "\n"
          ]
        }
      ]
    },
    {
      "cell_type": "markdown",
      "metadata": {
        "id": "LourVcnRRnZj"
      },
      "source": [
        "# **Decision Tree**"
      ]
    },
    {
      "cell_type": "markdown",
      "metadata": {
        "id": "q303UjBTEsCu"
      },
      "source": [
        "## Decision Trees are  not sensitive to the range of the feature. Hence, they do not require any scaling."
      ]
    },
    {
      "cell_type": "code",
      "metadata": {
        "colab": {
          "base_uri": "https://localhost:8080/"
        },
        "id": "SVIFzei6RrcK",
        "outputId": "060b8619-21af-4501-c154-5106ef5ffb51"
      },
      "source": [
        "dtc=DecisionTreeClassifier(max_features=7,max_depth=9,class_weight='balanced',ccp_alpha=0.0001)\n",
        "dtc.fit(X_train, y_train)"
      ],
      "execution_count": 49,
      "outputs": [
        {
          "output_type": "execute_result",
          "data": {
            "text/plain": [
              "DecisionTreeClassifier(ccp_alpha=0.0001, class_weight='balanced',\n",
              "                       criterion='gini', max_depth=9, max_features=7,\n",
              "                       max_leaf_nodes=None, min_impurity_decrease=0.0,\n",
              "                       min_impurity_split=None, min_samples_leaf=1,\n",
              "                       min_samples_split=2, min_weight_fraction_leaf=0.0,\n",
              "                       presort='deprecated', random_state=None,\n",
              "                       splitter='best')"
            ]
          },
          "metadata": {},
          "execution_count": 49
        }
      ]
    },
    {
      "cell_type": "code",
      "metadata": {
        "id": "EeXObi2QRxBK"
      },
      "source": [
        "ytrain_pred=dtc.predict(X_train)\n",
        "ytest_pred=dtc.predict(X_test)"
      ],
      "execution_count": 51,
      "outputs": []
    },
    {
      "cell_type": "code",
      "metadata": {
        "colab": {
          "base_uri": "https://localhost:8080/"
        },
        "id": "scyIlOuVRzo6",
        "outputId": "ad9a3aff-6ee2-4886-b616-3b2cc4c7c1af"
      },
      "source": [
        "print(classification_report(y_train,ytrain_pred))"
      ],
      "execution_count": 52,
      "outputs": [
        {
          "output_type": "stream",
          "name": "stdout",
          "text": [
            "              precision    recall  f1-score   support\n",
            "\n",
            "           0       0.98      0.91      0.94       289\n",
            "           1       0.83      0.96      0.89       134\n",
            "\n",
            "    accuracy                           0.92       423\n",
            "   macro avg       0.90      0.93      0.91       423\n",
            "weighted avg       0.93      0.92      0.92       423\n",
            "\n"
          ]
        }
      ]
    },
    {
      "cell_type": "code",
      "metadata": {
        "colab": {
          "base_uri": "https://localhost:8080/"
        },
        "id": "UgvYAjIYR1Ry",
        "outputId": "77d4ce52-6c04-48cf-f604-c72c878cfd12"
      },
      "source": [
        "print(classification_report(y_test,ytest_pred))"
      ],
      "execution_count": 53,
      "outputs": [
        {
          "output_type": "stream",
          "name": "stdout",
          "text": [
            "              precision    recall  f1-score   support\n",
            "\n",
            "           0       0.74      0.67      0.70        96\n",
            "           1       0.41      0.49      0.44        45\n",
            "\n",
            "    accuracy                           0.61       141\n",
            "   macro avg       0.57      0.58      0.57       141\n",
            "weighted avg       0.63      0.61      0.62       141\n",
            "\n"
          ]
        }
      ]
    },
    {
      "cell_type": "markdown",
      "metadata": {
        "id": "ATDy-zGuE8mW"
      },
      "source": [
        "# **Grid Search CV on Decision Trees.**"
      ]
    },
    {
      "cell_type": "code",
      "metadata": {
        "id": "ReYrbKTYQjti"
      },
      "source": [
        "X_train,X_test,y_train,y_test=train_test_split(X,y,test_size=0.25,stratify=y,random_state=8)"
      ],
      "execution_count": 43,
      "outputs": []
    },
    {
      "cell_type": "code",
      "metadata": {
        "colab": {
          "base_uri": "https://localhost:8080/"
        },
        "id": "0YjicS7p42E0",
        "outputId": "d577248c-2a25-47a3-f92a-3c9309108f52"
      },
      "source": [
        "dt1=DecisionTreeClassifier()\n",
        "cv = StratifiedKFold(n_splits=3)\n",
        "param={'class_weight':['balanced'],'max_depth':[8,9,10,11,12],'max_features':[8,4,5,6,7],'ccp_alpha':[0.0001,0.00001,0.01,0.1,1]}\n",
        "dt_s_grid=GridSearchCV(dt1,param_grid=param,cv=cv,scoring='recall')\n",
        "dt_s_grid.fit(X_train,y_train)"
      ],
      "execution_count": 44,
      "outputs": [
        {
          "output_type": "execute_result",
          "data": {
            "text/plain": [
              "GridSearchCV(cv=StratifiedKFold(n_splits=3, random_state=None, shuffle=False),\n",
              "             error_score=nan,\n",
              "             estimator=DecisionTreeClassifier(ccp_alpha=0.0, class_weight=None,\n",
              "                                              criterion='gini', max_depth=None,\n",
              "                                              max_features=None,\n",
              "                                              max_leaf_nodes=None,\n",
              "                                              min_impurity_decrease=0.0,\n",
              "                                              min_impurity_split=None,\n",
              "                                              min_samples_leaf=1,\n",
              "                                              min_samples_split=2,\n",
              "                                              min_weight_fraction_leaf=0.0,\n",
              "                                              presort='deprecated',\n",
              "                                              random_state=None,\n",
              "                                              splitter='best'),\n",
              "             iid='deprecated', n_jobs=None,\n",
              "             param_grid={'ccp_alpha': [0.0001, 1e-05, 0.01, 0.1, 1],\n",
              "                         'class_weight': ['balanced'],\n",
              "                         'max_depth': [8, 9, 10, 11, 12],\n",
              "                         'max_features': [8, 4, 5, 6, 7]},\n",
              "             pre_dispatch='2*n_jobs', refit=True, return_train_score=False,\n",
              "             scoring='recall', verbose=0)"
            ]
          },
          "metadata": {},
          "execution_count": 44
        }
      ]
    },
    {
      "cell_type": "code",
      "metadata": {
        "id": "ZzffuWwr6PLR"
      },
      "source": [
        "y_train_pred=dt_s_grid.predict(X_train)\n",
        "y_test_pred=dt_s_grid.predict(X_test)"
      ],
      "execution_count": 45,
      "outputs": []
    },
    {
      "cell_type": "code",
      "metadata": {
        "colab": {
          "base_uri": "https://localhost:8080/"
        },
        "id": "2Usi0zuN6jIk",
        "outputId": "39bc129c-f688-4334-900b-623c08915eae"
      },
      "source": [
        "dt_s_grid.best_params_"
      ],
      "execution_count": 46,
      "outputs": [
        {
          "output_type": "execute_result",
          "data": {
            "text/plain": [
              "{'ccp_alpha': 0.01,\n",
              " 'class_weight': 'balanced',\n",
              " 'max_depth': 12,\n",
              " 'max_features': 5}"
            ]
          },
          "metadata": {},
          "execution_count": 46
        }
      ]
    },
    {
      "cell_type": "code",
      "metadata": {
        "colab": {
          "base_uri": "https://localhost:8080/"
        },
        "id": "gIg5Qq6F6Q6h",
        "outputId": "5455549d-51a5-4317-c433-c81cb13d9b5e"
      },
      "source": [
        "print(classification_report(y_train,y_train_pred))"
      ],
      "execution_count": 47,
      "outputs": [
        {
          "output_type": "stream",
          "name": "stdout",
          "text": [
            "              precision    recall  f1-score   support\n",
            "\n",
            "           0       0.85      0.85      0.85       289\n",
            "           1       0.68      0.67      0.68       134\n",
            "\n",
            "    accuracy                           0.80       423\n",
            "   macro avg       0.77      0.76      0.76       423\n",
            "weighted avg       0.80      0.80      0.80       423\n",
            "\n"
          ]
        }
      ]
    },
    {
      "cell_type": "code",
      "metadata": {
        "colab": {
          "base_uri": "https://localhost:8080/"
        },
        "id": "aTBD8YCk6S4X",
        "outputId": "149bad56-338d-40df-91a0-0517c529a939"
      },
      "source": [
        "print(classification_report(y_test,y_test_pred))"
      ],
      "execution_count": 48,
      "outputs": [
        {
          "output_type": "stream",
          "name": "stdout",
          "text": [
            "              precision    recall  f1-score   support\n",
            "\n",
            "           0       0.77      0.81      0.79        96\n",
            "           1       0.55      0.49      0.52        45\n",
            "\n",
            "    accuracy                           0.71       141\n",
            "   macro avg       0.66      0.65      0.65       141\n",
            "weighted avg       0.70      0.71      0.70       141\n",
            "\n"
          ]
        }
      ]
    },
    {
      "cell_type": "markdown",
      "metadata": {
        "id": "fjOoizh0F-1Z"
      },
      "source": [
        "# **Logistic Regression**"
      ]
    },
    {
      "cell_type": "code",
      "metadata": {
        "id": "9VwduT_7X8Ro",
        "colab": {
          "base_uri": "https://localhost:8080/"
        },
        "outputId": "04ed5496-e0cf-4e9d-cd49-b7ebfc8b2e4f"
      },
      "source": [
        "!pip install scikit-optimize"
      ],
      "execution_count": 36,
      "outputs": [
        {
          "output_type": "stream",
          "name": "stdout",
          "text": [
            "Requirement already satisfied: scikit-optimize in /usr/local/lib/python3.7/dist-packages (0.8.1)\n",
            "Requirement already satisfied: numpy>=1.13.3 in /usr/local/lib/python3.7/dist-packages (from scikit-optimize) (1.19.5)\n",
            "Requirement already satisfied: pyaml>=16.9 in /usr/local/lib/python3.7/dist-packages (from scikit-optimize) (21.8.3)\n",
            "Requirement already satisfied: scikit-learn>=0.20.0 in /usr/local/lib/python3.7/dist-packages (from scikit-optimize) (0.22.2.post1)\n",
            "Requirement already satisfied: joblib>=0.11 in /usr/local/lib/python3.7/dist-packages (from scikit-optimize) (1.0.1)\n",
            "Requirement already satisfied: scipy>=0.19.1 in /usr/local/lib/python3.7/dist-packages (from scikit-optimize) (1.4.1)\n",
            "Requirement already satisfied: PyYAML in /usr/local/lib/python3.7/dist-packages (from pyaml>=16.9->scikit-optimize) (3.13)\n"
          ]
        }
      ]
    },
    {
      "cell_type": "code",
      "metadata": {
        "id": "AIn7z-GI4gqh"
      },
      "source": [
        "X_train,X_test,y_train,y_test=train_test_split(X,y,test_size=0.25,stratify=y,random_state=8)\n",
        "scaler=StandardScaler()\n",
        "scaler.fit(X_train)\n",
        "X_train=scaler.transform(X_train)\n",
        "X_test=scaler.transform(X_test)\n",
        "lr=LogisticRegression(penalty='l1',solver='liblinear',C=0.1978,class_weight='balanced')\n",
        "lr.fit(X_train,y_train)\n",
        "y_train_pred=lr.predict(X_train)\n",
        "y_test_pred=lr.predict(X_test)"
      ],
      "execution_count": 37,
      "outputs": []
    },
    {
      "cell_type": "code",
      "metadata": {
        "colab": {
          "base_uri": "https://localhost:8080/"
        },
        "id": "3d7NhgyP2G1g",
        "outputId": "2fab09ce-e32a-470c-9ade-776a9e881743"
      },
      "source": [
        "lr.coef_"
      ],
      "execution_count": 38,
      "outputs": [
        {
          "output_type": "execute_result",
          "data": {
            "text/plain": [
              "array([[-0.04164968, -0.11469749, -0.05431729,  0.17912513,  0.        ,\n",
              "         0.12507477, -0.09265635,  0.        ,  0.        , -1.31957659,\n",
              "        -0.40395229,  0.        ]])"
            ]
          },
          "metadata": {},
          "execution_count": 38
        }
      ]
    },
    {
      "cell_type": "code",
      "metadata": {
        "id": "Fnjskohl2KzQ"
      },
      "source": [
        "coeff=pd.DataFrame(zip(X.columns,lr.coef_.reshape(-1,1)),columns=['column','coefficients'])\n",
        "imp_cols=list(coeff[coeff['coefficients']!=0]['column'])"
      ],
      "execution_count": 39,
      "outputs": []
    },
    {
      "cell_type": "code",
      "metadata": {
        "colab": {
          "base_uri": "https://localhost:8080/",
          "height": 426
        },
        "id": "jvQmh90O3N2K",
        "outputId": "191b68bf-4038-4a16-904d-e91f43b70977"
      },
      "source": [
        "coeff"
      ],
      "execution_count": 40,
      "outputs": [
        {
          "output_type": "execute_result",
          "data": {
            "text/html": [
              "<div>\n",
              "<style scoped>\n",
              "    .dataframe tbody tr th:only-of-type {\n",
              "        vertical-align: middle;\n",
              "    }\n",
              "\n",
              "    .dataframe tbody tr th {\n",
              "        vertical-align: top;\n",
              "    }\n",
              "\n",
              "    .dataframe thead th {\n",
              "        text-align: right;\n",
              "    }\n",
              "</style>\n",
              "<table border=\"1\" class=\"dataframe\">\n",
              "  <thead>\n",
              "    <tr style=\"text-align: right;\">\n",
              "      <th></th>\n",
              "      <th>column</th>\n",
              "      <th>coefficients</th>\n",
              "    </tr>\n",
              "  </thead>\n",
              "  <tbody>\n",
              "    <tr>\n",
              "      <th>0</th>\n",
              "      <td>Gender</td>\n",
              "      <td>[-0.041649680335240274]</td>\n",
              "    </tr>\n",
              "    <tr>\n",
              "      <th>1</th>\n",
              "      <td>Married</td>\n",
              "      <td>[-0.11469749178055808]</td>\n",
              "    </tr>\n",
              "    <tr>\n",
              "      <th>2</th>\n",
              "      <td>Dependents</td>\n",
              "      <td>[-0.05431729098543941]</td>\n",
              "    </tr>\n",
              "    <tr>\n",
              "      <th>3</th>\n",
              "      <td>Education</td>\n",
              "      <td>[0.17912513370673463]</td>\n",
              "    </tr>\n",
              "    <tr>\n",
              "      <th>4</th>\n",
              "      <td>Self_Employed</td>\n",
              "      <td>[0.0]</td>\n",
              "    </tr>\n",
              "    <tr>\n",
              "      <th>5</th>\n",
              "      <td>ApplicantIncome</td>\n",
              "      <td>[0.12507477080674653]</td>\n",
              "    </tr>\n",
              "    <tr>\n",
              "      <th>6</th>\n",
              "      <td>CoapplicantIncome</td>\n",
              "      <td>[-0.09265635089220471]</td>\n",
              "    </tr>\n",
              "    <tr>\n",
              "      <th>7</th>\n",
              "      <td>LoanAmount</td>\n",
              "      <td>[0.0]</td>\n",
              "    </tr>\n",
              "    <tr>\n",
              "      <th>8</th>\n",
              "      <td>Loan_Amount_Term</td>\n",
              "      <td>[0.0]</td>\n",
              "    </tr>\n",
              "    <tr>\n",
              "      <th>9</th>\n",
              "      <td>Credit_History</td>\n",
              "      <td>[-1.3195765943225168]</td>\n",
              "    </tr>\n",
              "    <tr>\n",
              "      <th>10</th>\n",
              "      <td>Property_Area_Semiurban</td>\n",
              "      <td>[-0.4039522863469112]</td>\n",
              "    </tr>\n",
              "    <tr>\n",
              "      <th>11</th>\n",
              "      <td>Property_Area_Urban</td>\n",
              "      <td>[0.0]</td>\n",
              "    </tr>\n",
              "  </tbody>\n",
              "</table>\n",
              "</div>"
            ],
            "text/plain": [
              "                     column             coefficients\n",
              "0                    Gender  [-0.041649680335240274]\n",
              "1                   Married   [-0.11469749178055808]\n",
              "2                Dependents   [-0.05431729098543941]\n",
              "3                 Education    [0.17912513370673463]\n",
              "4             Self_Employed                    [0.0]\n",
              "5           ApplicantIncome    [0.12507477080674653]\n",
              "6         CoapplicantIncome   [-0.09265635089220471]\n",
              "7                LoanAmount                    [0.0]\n",
              "8          Loan_Amount_Term                    [0.0]\n",
              "9            Credit_History    [-1.3195765943225168]\n",
              "10  Property_Area_Semiurban    [-0.4039522863469112]\n",
              "11      Property_Area_Urban                    [0.0]"
            ]
          },
          "metadata": {},
          "execution_count": 40
        }
      ]
    },
    {
      "cell_type": "code",
      "metadata": {
        "colab": {
          "base_uri": "https://localhost:8080/"
        },
        "id": "joGKJVMbQPca",
        "outputId": "9e6e1024-c61b-49a7-f2e9-3ad4913ee204"
      },
      "source": [
        "print(classification_report(y_train,y_train_pred))"
      ],
      "execution_count": 41,
      "outputs": [
        {
          "output_type": "stream",
          "name": "stdout",
          "text": [
            "              precision    recall  f1-score   support\n",
            "\n",
            "           0       0.81      0.90      0.85       289\n",
            "           1       0.71      0.56      0.63       134\n",
            "\n",
            "    accuracy                           0.79       423\n",
            "   macro avg       0.76      0.73      0.74       423\n",
            "weighted avg       0.78      0.79      0.78       423\n",
            "\n"
          ]
        }
      ]
    },
    {
      "cell_type": "code",
      "metadata": {
        "colab": {
          "base_uri": "https://localhost:8080/"
        },
        "id": "aNRKQ9h2Qcka",
        "outputId": "ab09f0d4-8b26-46cf-b010-06dc4f6ce1b0"
      },
      "source": [
        "print(classification_report(y_test,y_test_pred))"
      ],
      "execution_count": 42,
      "outputs": [
        {
          "output_type": "stream",
          "name": "stdout",
          "text": [
            "              precision    recall  f1-score   support\n",
            "\n",
            "           0       0.81      0.95      0.87        96\n",
            "           1       0.82      0.51      0.63        45\n",
            "\n",
            "    accuracy                           0.81       141\n",
            "   macro avg       0.81      0.73      0.75       141\n",
            "weighted avg       0.81      0.81      0.79       141\n",
            "\n"
          ]
        }
      ]
    },
    {
      "cell_type": "markdown",
      "metadata": {
        "id": "QMcc3REZbKtO"
      },
      "source": [
        "# **XGBoost**"
      ]
    },
    {
      "cell_type": "code",
      "metadata": {
        "id": "8lvadeS7YaUz"
      },
      "source": [
        "from xgboost import XGBClassifier, XGBRFClassifier\n",
        "from sklearn.model_selection import RepeatedStratifiedKFold\n",
        "from sklearn.model_selection import cross_val_score\n",
        "from numpy import mean"
      ],
      "execution_count": 80,
      "outputs": []
    },
    {
      "cell_type": "code",
      "metadata": {
        "id": "DjWxEcfCbzCf"
      },
      "source": [
        "X_train,X_test,y_train,y_test=train_test_split(X[imp_cols],y,test_size=0.25,stratify=y)"
      ],
      "execution_count": 81,
      "outputs": []
    },
    {
      "cell_type": "code",
      "metadata": {
        "colab": {
          "base_uri": "https://localhost:8080/"
        },
        "id": "JXG6tBuoFfeC",
        "outputId": "76d215e6-c93f-4c06-9dde-df6eebd49f7f"
      },
      "source": [
        "179/385"
      ],
      "execution_count": 82,
      "outputs": [
        {
          "output_type": "execute_result",
          "data": {
            "text/plain": [
              "0.4649350649350649"
            ]
          },
          "metadata": {},
          "execution_count": 82
        }
      ]
    },
    {
      "cell_type": "code",
      "metadata": {
        "colab": {
          "base_uri": "https://localhost:8080/"
        },
        "id": "IdGh6-nCeLHb",
        "outputId": "19d9681d-7849-4adc-d059-1eb7418de1b9"
      },
      "source": [
        "param_grid={'n_estimators':[100,200,300,400,500]}\n",
        "xgb_1=XGBClassifier(scale_pos_weight=2,max_depth=3)\n",
        "# define grid search\n",
        "cv = RepeatedStratifiedKFold(n_splits=3,n_repeats=3)\n",
        "grid = GridSearchCV(estimator=xgb_1, param_grid=param_grid, cv=cv, scoring='f1_macro')\n",
        "grid.fit(X_train, y_train)"
      ],
      "execution_count": 83,
      "outputs": [
        {
          "output_type": "execute_result",
          "data": {
            "text/plain": [
              "GridSearchCV(cv=RepeatedStratifiedKFold(n_repeats=3, n_splits=3, random_state=None),\n",
              "             error_score=nan,\n",
              "             estimator=XGBClassifier(base_score=0.5, booster='gbtree',\n",
              "                                     colsample_bylevel=1, colsample_bynode=1,\n",
              "                                     colsample_bytree=1, gamma=0,\n",
              "                                     learning_rate=0.1, max_delta_step=0,\n",
              "                                     max_depth=3, min_child_weight=1,\n",
              "                                     missing=None, n_estimators=100, n_jobs=1,\n",
              "                                     nthread=None, objective='binary:logistic',\n",
              "                                     random_state=0, reg_alpha=0, reg_lambda=1,\n",
              "                                     scale_pos_weight=2, seed=None, silent=None,\n",
              "                                     subsample=1, verbosity=1),\n",
              "             iid='deprecated', n_jobs=None,\n",
              "             param_grid={'n_estimators': [100, 200, 300, 400, 500]},\n",
              "             pre_dispatch='2*n_jobs', refit=True, return_train_score=False,\n",
              "             scoring='f1_macro', verbose=0)"
            ]
          },
          "metadata": {},
          "execution_count": 83
        }
      ]
    },
    {
      "cell_type": "code",
      "metadata": {
        "colab": {
          "base_uri": "https://localhost:8080/"
        },
        "id": "EUwq9Od2F0un",
        "outputId": "8ae731ea-3195-436b-f2b6-b4c244bb64ab"
      },
      "source": [
        "from sklearn import metrics\n",
        "metrics.SCORERS.keys()\n"
      ],
      "execution_count": 84,
      "outputs": [
        {
          "output_type": "execute_result",
          "data": {
            "text/plain": [
              "dict_keys(['explained_variance', 'r2', 'max_error', 'neg_median_absolute_error', 'neg_mean_absolute_error', 'neg_mean_squared_error', 'neg_mean_squared_log_error', 'neg_root_mean_squared_error', 'neg_mean_poisson_deviance', 'neg_mean_gamma_deviance', 'accuracy', 'roc_auc', 'roc_auc_ovr', 'roc_auc_ovo', 'roc_auc_ovr_weighted', 'roc_auc_ovo_weighted', 'balanced_accuracy', 'average_precision', 'neg_log_loss', 'neg_brier_score', 'adjusted_rand_score', 'homogeneity_score', 'completeness_score', 'v_measure_score', 'mutual_info_score', 'adjusted_mutual_info_score', 'normalized_mutual_info_score', 'fowlkes_mallows_score', 'precision', 'precision_macro', 'precision_micro', 'precision_samples', 'precision_weighted', 'recall', 'recall_macro', 'recall_micro', 'recall_samples', 'recall_weighted', 'f1', 'f1_macro', 'f1_micro', 'f1_samples', 'f1_weighted', 'jaccard', 'jaccard_macro', 'jaccard_micro', 'jaccard_samples', 'jaccard_weighted'])"
            ]
          },
          "metadata": {},
          "execution_count": 84
        }
      ]
    },
    {
      "cell_type": "code",
      "metadata": {
        "colab": {
          "base_uri": "https://localhost:8080/"
        },
        "id": "mtTzMrAteg1x",
        "outputId": "96c247a5-bb7a-48ce-cc64-ed3c6fb3259b"
      },
      "source": [
        "grid.best_params_"
      ],
      "execution_count": 85,
      "outputs": [
        {
          "output_type": "execute_result",
          "data": {
            "text/plain": [
              "{'n_estimators': 200}"
            ]
          },
          "metadata": {},
          "execution_count": 85
        }
      ]
    },
    {
      "cell_type": "code",
      "metadata": {
        "id": "dejBQWfnb3NF"
      },
      "source": [
        "y_train_pred=grid.predict(X_train)\n",
        "y_test_pred=grid.predict(X_test)"
      ],
      "execution_count": 86,
      "outputs": []
    },
    {
      "cell_type": "code",
      "metadata": {
        "colab": {
          "base_uri": "https://localhost:8080/"
        },
        "id": "nU2LxmIHcAZL",
        "outputId": "6ce5878e-548b-4b67-d8a4-9a6c37e104cc"
      },
      "source": [
        "print(classification_report(y_train,y_train_pred))"
      ],
      "execution_count": 87,
      "outputs": [
        {
          "output_type": "stream",
          "name": "stdout",
          "text": [
            "              precision    recall  f1-score   support\n",
            "\n",
            "           0       0.94      0.95      0.94       289\n",
            "           1       0.89      0.87      0.88       134\n",
            "\n",
            "    accuracy                           0.92       423\n",
            "   macro avg       0.91      0.91      0.91       423\n",
            "weighted avg       0.92      0.92      0.92       423\n",
            "\n"
          ]
        }
      ]
    },
    {
      "cell_type": "code",
      "metadata": {
        "colab": {
          "base_uri": "https://localhost:8080/"
        },
        "id": "lzIPyrTXcC_e",
        "outputId": "b49d83bd-d31d-43d0-fa5e-e62ae7cf473a"
      },
      "source": [
        "print(classification_report(y_test,y_test_pred))"
      ],
      "execution_count": 88,
      "outputs": [
        {
          "output_type": "stream",
          "name": "stdout",
          "text": [
            "              precision    recall  f1-score   support\n",
            "\n",
            "           0       0.80      0.83      0.82        96\n",
            "           1       0.61      0.56      0.58        45\n",
            "\n",
            "    accuracy                           0.74       141\n",
            "   macro avg       0.70      0.69      0.70       141\n",
            "weighted avg       0.74      0.74      0.74       141\n",
            "\n"
          ]
        }
      ]
    },
    {
      "cell_type": "code",
      "metadata": {
        "id": "0u8jig9-CjWk"
      },
      "source": [
        ""
      ],
      "execution_count": 88,
      "outputs": []
    },
    {
      "cell_type": "markdown",
      "metadata": {
        "id": "aFAPpniPUM3Z"
      },
      "source": [
        "# **Support Vector Machine**"
      ]
    },
    {
      "cell_type": "code",
      "metadata": {
        "id": "AhJn2YueUbqU"
      },
      "source": [
        "X_train,X_test,y_train,y_test=train_test_split(X[imp_cols],y,test_size=0.25,stratify=y)"
      ],
      "execution_count": 69,
      "outputs": []
    },
    {
      "cell_type": "code",
      "metadata": {
        "id": "k3iF0v1EUbqU"
      },
      "source": [
        "scaler=StandardScaler()\n",
        "scaler.fit(X_train)\n",
        "X_train=scaler.transform(X_train)\n",
        "X_test=scaler.transform(X_test)"
      ],
      "execution_count": 70,
      "outputs": []
    },
    {
      "cell_type": "code",
      "metadata": {
        "colab": {
          "base_uri": "https://localhost:8080/"
        },
        "id": "CZ0OmGMBUMLb",
        "outputId": "88324d97-9e23-4434-efed-8647d57c0f9f"
      },
      "source": [
        "sv1=svm.SVC(class_weight='balanced')\n",
        "sv1.fit(X_train,y_train)"
      ],
      "execution_count": 71,
      "outputs": [
        {
          "output_type": "execute_result",
          "data": {
            "text/plain": [
              "SVC(C=1.0, break_ties=False, cache_size=200, class_weight='balanced', coef0=0.0,\n",
              "    decision_function_shape='ovr', degree=3, gamma='scale', kernel='rbf',\n",
              "    max_iter=-1, probability=False, random_state=None, shrinking=True,\n",
              "    tol=0.001, verbose=False)"
            ]
          },
          "metadata": {},
          "execution_count": 71
        }
      ]
    },
    {
      "cell_type": "code",
      "metadata": {
        "id": "Z0i_xHL8R3Uw"
      },
      "source": [
        "y_train_pred=sv1.predict(X_train)\n",
        "y_test_pred=sv1.predict(X_test)"
      ],
      "execution_count": 72,
      "outputs": []
    },
    {
      "cell_type": "code",
      "metadata": {
        "colab": {
          "base_uri": "https://localhost:8080/"
        },
        "id": "B0CbuKloUlOK",
        "outputId": "4115e969-d9c4-4eb5-aff1-84ada1dec3cd"
      },
      "source": [
        "print(classification_report(y_train,y_train_pred))"
      ],
      "execution_count": 73,
      "outputs": [
        {
          "output_type": "stream",
          "name": "stdout",
          "text": [
            "              precision    recall  f1-score   support\n",
            "\n",
            "           0       0.84      0.96      0.89       289\n",
            "           1       0.87      0.60      0.71       134\n",
            "\n",
            "    accuracy                           0.84       423\n",
            "   macro avg       0.85      0.78      0.80       423\n",
            "weighted avg       0.85      0.84      0.83       423\n",
            "\n"
          ]
        }
      ]
    },
    {
      "cell_type": "code",
      "metadata": {
        "colab": {
          "base_uri": "https://localhost:8080/"
        },
        "id": "Ibp79c6KUmq8",
        "outputId": "d1e90878-110e-44be-e641-ee3465bbf111"
      },
      "source": [
        "print(classification_report(y_test,y_test_pred))"
      ],
      "execution_count": 74,
      "outputs": [
        {
          "output_type": "stream",
          "name": "stdout",
          "text": [
            "              precision    recall  f1-score   support\n",
            "\n",
            "           0       0.78      0.94      0.85        96\n",
            "           1       0.76      0.42      0.54        45\n",
            "\n",
            "    accuracy                           0.77       141\n",
            "   macro avg       0.77      0.68      0.70       141\n",
            "weighted avg       0.77      0.77      0.75       141\n",
            "\n"
          ]
        }
      ]
    },
    {
      "cell_type": "markdown",
      "metadata": {
        "id": "_NnG8LZgFRQD"
      },
      "source": [
        "# **SVM with Grid Search CV**"
      ]
    },
    {
      "cell_type": "code",
      "metadata": {
        "id": "II9DAfusUnwa",
        "colab": {
          "base_uri": "https://localhost:8080/"
        },
        "outputId": "54e505af-fa3e-4818-e9b7-a0151d7828dc"
      },
      "source": [
        "svm1=svm.SVC(gamma='auto')\n",
        "param={'kernel':['rbf','linear','poly','sigmoid'],'C':[0.1,2,0.01,0.00000001,1,3], 'class_weight':['balanced','0:1,1:2'],'degree':[1,2,3,4,0],'shrinking':[True,False]}\n",
        "cv = RepeatedStratifiedKFold(n_splits=2,n_repeats=2)\n",
        "sv_grid=GridSearchCV(svm1,param_grid=param,cv=cv,scoring='f1')\n",
        "sv_grid.fit(X_train,y_train)"
      ],
      "execution_count": 75,
      "outputs": [
        {
          "output_type": "execute_result",
          "data": {
            "text/plain": [
              "GridSearchCV(cv=RepeatedStratifiedKFold(n_repeats=2, n_splits=2, random_state=None),\n",
              "             error_score=nan,\n",
              "             estimator=SVC(C=1.0, break_ties=False, cache_size=200,\n",
              "                           class_weight=None, coef0=0.0,\n",
              "                           decision_function_shape='ovr', degree=3,\n",
              "                           gamma='auto', kernel='rbf', max_iter=-1,\n",
              "                           probability=False, random_state=None, shrinking=True,\n",
              "                           tol=0.001, verbose=False),\n",
              "             iid='deprecated', n_jobs=None,\n",
              "             param_grid={'C': [0.1, 2, 0.01, 1e-08, 1, 3],\n",
              "                         'class_weight': ['balanced', '0:1,1:2'],\n",
              "                         'degree': [1, 2, 3, 4, 0],\n",
              "                         'kernel': ['rbf', 'linear', 'poly', 'sigmoid'],\n",
              "                         'shrinking': [True, False]},\n",
              "             pre_dispatch='2*n_jobs', refit=True, return_train_score=False,\n",
              "             scoring='f1', verbose=0)"
            ]
          },
          "metadata": {},
          "execution_count": 75
        }
      ]
    },
    {
      "cell_type": "code",
      "metadata": {
        "id": "wFJuj8z3Wjld"
      },
      "source": [
        "y_train_pred=sv_grid.predict(X_train)\n",
        "y_test_pred=sv_grid.predict(X_test)"
      ],
      "execution_count": 76,
      "outputs": []
    },
    {
      "cell_type": "code",
      "metadata": {
        "id": "QvRKngN-W-AC",
        "colab": {
          "base_uri": "https://localhost:8080/"
        },
        "outputId": "03f73cff-23bb-405d-b367-0cb96350b773"
      },
      "source": [
        "sv_grid.best_params_"
      ],
      "execution_count": 77,
      "outputs": [
        {
          "output_type": "execute_result",
          "data": {
            "text/plain": [
              "{'C': 0.1,\n",
              " 'class_weight': 'balanced',\n",
              " 'degree': 1,\n",
              " 'kernel': 'linear',\n",
              " 'shrinking': True}"
            ]
          },
          "metadata": {},
          "execution_count": 77
        }
      ]
    },
    {
      "cell_type": "code",
      "metadata": {
        "id": "OrMzb-0eW3Au",
        "colab": {
          "base_uri": "https://localhost:8080/"
        },
        "outputId": "2c79473f-da87-44e9-c168-1fd4f874e62e"
      },
      "source": [
        "print(classification_report(y_train,y_train_pred))"
      ],
      "execution_count": 78,
      "outputs": [
        {
          "output_type": "stream",
          "name": "stdout",
          "text": [
            "              precision    recall  f1-score   support\n",
            "\n",
            "           0       0.81      0.98      0.88       289\n",
            "           1       0.92      0.49      0.64       134\n",
            "\n",
            "    accuracy                           0.83       423\n",
            "   macro avg       0.86      0.74      0.76       423\n",
            "weighted avg       0.84      0.83      0.81       423\n",
            "\n"
          ]
        }
      ]
    },
    {
      "cell_type": "code",
      "metadata": {
        "id": "146ufiSPW42C",
        "colab": {
          "base_uri": "https://localhost:8080/"
        },
        "outputId": "32e2b825-8cab-44d7-d151-35f5366539d8"
      },
      "source": [
        "print(classification_report(y_test,y_test_pred))"
      ],
      "execution_count": 79,
      "outputs": [
        {
          "output_type": "stream",
          "name": "stdout",
          "text": [
            "              precision    recall  f1-score   support\n",
            "\n",
            "           0       0.77      0.99      0.86        96\n",
            "           1       0.94      0.36      0.52        45\n",
            "\n",
            "    accuracy                           0.79       141\n",
            "   macro avg       0.85      0.67      0.69       141\n",
            "weighted avg       0.82      0.79      0.75       141\n",
            "\n"
          ]
        }
      ]
    },
    {
      "cell_type": "code",
      "metadata": {
        "id": "RAoSXXsGIn32"
      },
      "source": [
        ""
      ],
      "execution_count": null,
      "outputs": []
    },
    {
      "cell_type": "markdown",
      "metadata": {
        "id": "uXQpstWVNuo7"
      },
      "source": [
        "## **Resampling**"
      ]
    },
    {
      "cell_type": "markdown",
      "metadata": {
        "id": "eSs4Il9UJvua"
      },
      "source": [
        "# **SMOTE Tomek Link with XGBoost**"
      ]
    },
    {
      "cell_type": "code",
      "metadata": {
        "id": "JhwJmEqPcFYQ"
      },
      "source": [
        "from imblearn.combine import SMOTETomek"
      ],
      "execution_count": null,
      "outputs": []
    },
    {
      "cell_type": "code",
      "metadata": {
        "id": "4TRcGaORRkj-"
      },
      "source": [
        "X_train,X_test,y_train,y_test=train_test_split(X[imp_cols].values,y,test_size=0.30,stratify=y)"
      ],
      "execution_count": null,
      "outputs": []
    },
    {
      "cell_type": "code",
      "metadata": {
        "id": "pYz3EYYfOvF2"
      },
      "source": [
        "smt=SMOTETomek(random_state=139)\n",
        "X_train, y_train=smt.fit_resample(X_train,y_train)"
      ],
      "execution_count": null,
      "outputs": []
    },
    {
      "cell_type": "code",
      "metadata": {
        "colab": {
          "base_uri": "https://localhost:8080/"
        },
        "id": "oJQm0H9dTYPe",
        "outputId": "c3d2dd82-ecda-471e-a9f8-1747d5deb0a5"
      },
      "source": [
        "X_train.shape"
      ],
      "execution_count": null,
      "outputs": [
        {
          "output_type": "execute_result",
          "data": {
            "text/plain": [
              "(508, 9)"
            ]
          },
          "metadata": {},
          "execution_count": 665
        }
      ]
    },
    {
      "cell_type": "code",
      "metadata": {
        "colab": {
          "base_uri": "https://localhost:8080/"
        },
        "id": "sUqBqcy8Ta2_",
        "outputId": "64660b3c-60bb-4477-9ec3-ceb5ab408c8e"
      },
      "source": [
        "X_test.shape"
      ],
      "execution_count": null,
      "outputs": [
        {
          "output_type": "execute_result",
          "data": {
            "text/plain": [
              "(170, 9)"
            ]
          },
          "metadata": {},
          "execution_count": 666
        }
      ]
    },
    {
      "cell_type": "code",
      "metadata": {
        "colab": {
          "base_uri": "https://localhost:8080/"
        },
        "id": "PKt_BzyLPrtr",
        "outputId": "98cb7ec6-be26-4596-debd-e725bfcc5cd6"
      },
      "source": [
        "# define evaluation procedure\n",
        "cv = StratifiedKFold(n_splits=3, shuffle=True)\n",
        "xgb_1=XGBClassifier()\n",
        "# define grid search\n",
        "grid = GridSearchCV(estimator=xgb_1, param_grid=param_grid, cv=cv)\n",
        "grid.fit(X_train, y_train)"
      ],
      "execution_count": null,
      "outputs": [
        {
          "output_type": "execute_result",
          "data": {
            "text/plain": [
              "GridSearchCV(cv=StratifiedKFold(n_splits=3, random_state=None, shuffle=True),\n",
              "             error_score=nan,\n",
              "             estimator=XGBClassifier(base_score=0.5, booster='gbtree',\n",
              "                                     colsample_bylevel=1, colsample_bynode=1,\n",
              "                                     colsample_bytree=1, gamma=0,\n",
              "                                     learning_rate=0.1, max_delta_step=0,\n",
              "                                     max_depth=3, min_child_weight=1,\n",
              "                                     missing=None, n_estimators=100, n_jobs=1,\n",
              "                                     nthread=None, objective='binary:logistic',\n",
              "                                     random_state=0, reg_alpha=0, reg_lambda=1,\n",
              "                                     scale_pos_weight=1, seed=None, silent=None,\n",
              "                                     subsample=1, verbosity=1),\n",
              "             iid='deprecated', n_jobs=None,\n",
              "             param_grid={'n_estimators': [100, 200, 300, 400, 500]},\n",
              "             pre_dispatch='2*n_jobs', refit=True, return_train_score=False,\n",
              "             scoring=None, verbose=0)"
            ]
          },
          "metadata": {},
          "execution_count": 667
        }
      ]
    },
    {
      "cell_type": "code",
      "metadata": {
        "id": "i5-AwXcsP1KQ"
      },
      "source": [
        "y_train_pred=grid.predict(X_train)\n",
        "y_test_pred=grid.predict(X_test)"
      ],
      "execution_count": null,
      "outputs": []
    },
    {
      "cell_type": "code",
      "metadata": {
        "colab": {
          "base_uri": "https://localhost:8080/"
        },
        "id": "fD7wnjIoP22A",
        "outputId": "b1c571fa-2711-4f29-dc46-824701627883"
      },
      "source": [
        "print(classification_report(y_train,y_train_pred))"
      ],
      "execution_count": null,
      "outputs": [
        {
          "output_type": "stream",
          "name": "stdout",
          "text": [
            "              precision    recall  f1-score   support\n",
            "\n",
            "           0       0.99      1.00      0.99       254\n",
            "           1       1.00      0.99      0.99       254\n",
            "\n",
            "    accuracy                           0.99       508\n",
            "   macro avg       0.99      0.99      0.99       508\n",
            "weighted avg       0.99      0.99      0.99       508\n",
            "\n"
          ]
        }
      ]
    },
    {
      "cell_type": "code",
      "metadata": {
        "colab": {
          "base_uri": "https://localhost:8080/"
        },
        "id": "CZ4EzLvwP4PO",
        "outputId": "9a6a8474-14d2-4e5b-82d8-7c7f08b01d4d"
      },
      "source": [
        "print(classification_report(y_test,y_test_pred))"
      ],
      "execution_count": null,
      "outputs": [
        {
          "output_type": "stream",
          "name": "stdout",
          "text": [
            "              precision    recall  f1-score   support\n",
            "\n",
            "           0       0.80      0.79      0.80       116\n",
            "           1       0.56      0.57      0.57        54\n",
            "\n",
            "    accuracy                           0.72       170\n",
            "   macro avg       0.68      0.68      0.68       170\n",
            "weighted avg       0.72      0.72      0.72       170\n",
            "\n"
          ]
        }
      ]
    },
    {
      "cell_type": "markdown",
      "metadata": {
        "id": "M9DZCsBxJ_w2"
      },
      "source": [
        "# **SMOTE Tomek Link with SVM**"
      ]
    },
    {
      "cell_type": "code",
      "metadata": {
        "id": "yJMFOr3zU-4m"
      },
      "source": [
        "X_train,X_test,y_train,y_test=train_test_split(X[imp_cols].values,y,test_size=0.30,stratify=y)"
      ],
      "execution_count": null,
      "outputs": []
    },
    {
      "cell_type": "code",
      "metadata": {
        "id": "JwUkTzILU-4n"
      },
      "source": [
        "smt=SMOTETomek(random_state=139,)\n",
        "X_train, y_train=smt.fit_resample(X_train,y_train)"
      ],
      "execution_count": null,
      "outputs": []
    },
    {
      "cell_type": "code",
      "metadata": {
        "id": "oHXz-0jMVAp-"
      },
      "source": [
        "scaler=StandardScaler()\n",
        "X_train=scaler.fit_transform(X_train)\n",
        "X_test=scaler.fit_transform(X_test)"
      ],
      "execution_count": null,
      "outputs": []
    },
    {
      "cell_type": "code",
      "metadata": {
        "colab": {
          "base_uri": "https://localhost:8080/"
        },
        "id": "qmPK0FQsQBl1",
        "outputId": "918f65fb-3cd1-4b05-8cd9-7a99d4b858eb"
      },
      "source": [
        "sv_1=svm.SVC()\n",
        "param={'kernel':['rbf','linear','poly'],'C':[0.1,0.0001,0.00001,0.00000001,1],'gamma':[0.001,0.0001,1,2,5,6,7,8,9]}\n",
        "cv = StratifiedKFold(n_splits=3)\n",
        "sv_gscv=GridSearchCV(sv_1,param_grid=param,cv=cv, scoring='f1')\n",
        "sv_gscv.fit(X_train,y_train)"
      ],
      "execution_count": null,
      "outputs": [
        {
          "output_type": "execute_result",
          "data": {
            "text/plain": [
              "GridSearchCV(cv=StratifiedKFold(n_splits=3, random_state=None, shuffle=False),\n",
              "             error_score=nan,\n",
              "             estimator=SVC(C=1.0, break_ties=False, cache_size=200,\n",
              "                           class_weight=None, coef0=0.0,\n",
              "                           decision_function_shape='ovr', degree=3,\n",
              "                           gamma='scale', kernel='rbf', max_iter=-1,\n",
              "                           probability=False, random_state=None, shrinking=True,\n",
              "                           tol=0.001, verbose=False),\n",
              "             iid='deprecated', n_jobs=None,\n",
              "             param_grid={'C': [0.1, 0.0001, 1e-05, 1e-08, 1],\n",
              "                         'gamma': [0.001, 0.0001, 1, 2, 5, 6, 7, 8, 9],\n",
              "                         'kernel': ['rbf', 'linear', 'poly']},\n",
              "             pre_dispatch='2*n_jobs', refit=True, return_train_score=False,\n",
              "             scoring='f1', verbose=0)"
            ]
          },
          "metadata": {},
          "execution_count": 678
        }
      ]
    },
    {
      "cell_type": "code",
      "metadata": {
        "id": "F2OzjYImU3VP"
      },
      "source": [
        "y_train_pred=sv_gscv.predict(X_train)\n",
        "y_test_pred=sv_gscv.predict(X_test)"
      ],
      "execution_count": null,
      "outputs": []
    },
    {
      "cell_type": "code",
      "metadata": {
        "colab": {
          "base_uri": "https://localhost:8080/"
        },
        "id": "FvYHFbYJV-y3",
        "outputId": "aa3ecbd4-c850-406a-bf6c-0ad9787171ed"
      },
      "source": [
        "sv_gscv.best_params_"
      ],
      "execution_count": null,
      "outputs": [
        {
          "output_type": "execute_result",
          "data": {
            "text/plain": [
              "{'C': 0.0001, 'gamma': 7, 'kernel': 'poly'}"
            ]
          },
          "metadata": {},
          "execution_count": 680
        }
      ]
    },
    {
      "cell_type": "code",
      "metadata": {
        "colab": {
          "base_uri": "https://localhost:8080/"
        },
        "id": "dRz9i9APU6K_",
        "outputId": "fffcdef0-fc29-4345-82f1-a6216be3c1e4"
      },
      "source": [
        "print(classification_report(y_train,y_train_pred))"
      ],
      "execution_count": null,
      "outputs": [
        {
          "output_type": "stream",
          "name": "stdout",
          "text": [
            "              precision    recall  f1-score   support\n",
            "\n",
            "           0       0.92      0.95      0.93       251\n",
            "           1       0.95      0.91      0.93       251\n",
            "\n",
            "    accuracy                           0.93       502\n",
            "   macro avg       0.93      0.93      0.93       502\n",
            "weighted avg       0.93      0.93      0.93       502\n",
            "\n"
          ]
        }
      ]
    },
    {
      "cell_type": "code",
      "metadata": {
        "colab": {
          "base_uri": "https://localhost:8080/"
        },
        "id": "p4ZJlWOJU72O",
        "outputId": "eba4af49-9588-4629-ee92-94756c135fc2"
      },
      "source": [
        "print(classification_report(y_test,y_test_pred))"
      ],
      "execution_count": null,
      "outputs": [
        {
          "output_type": "stream",
          "name": "stdout",
          "text": [
            "              precision    recall  f1-score   support\n",
            "\n",
            "           0       0.81      0.75      0.78       116\n",
            "           1       0.53      0.61      0.57        54\n",
            "\n",
            "    accuracy                           0.71       170\n",
            "   macro avg       0.67      0.68      0.67       170\n",
            "weighted avg       0.72      0.71      0.71       170\n",
            "\n"
          ]
        }
      ]
    },
    {
      "cell_type": "markdown",
      "metadata": {
        "id": "pyB8Vkg_KKQa"
      },
      "source": [
        "# **SMOTE Tomek Link with KNearest Neighbours**"
      ]
    },
    {
      "cell_type": "code",
      "metadata": {
        "id": "w63saZ9WV7js"
      },
      "source": [
        "from sklearn.neighbors import KNeighborsClassifier"
      ],
      "execution_count": null,
      "outputs": []
    },
    {
      "cell_type": "code",
      "metadata": {
        "colab": {
          "base_uri": "https://localhost:8080/"
        },
        "id": "-3qsBrpCXW2l",
        "outputId": "c5957bc4-3cd0-461d-a99f-13e01625d043"
      },
      "source": [
        "knn_1=KNeighborsClassifier(n_neighbors=3, metric='manhattan', weights='distance',p=1)\n",
        "knn_1.fit(X_train,y_train)\n"
      ],
      "execution_count": null,
      "outputs": [
        {
          "output_type": "execute_result",
          "data": {
            "text/plain": [
              "KNeighborsClassifier(algorithm='auto', leaf_size=30, metric='manhattan',\n",
              "                     metric_params=None, n_jobs=None, n_neighbors=3, p=1,\n",
              "                     weights='distance')"
            ]
          },
          "metadata": {},
          "execution_count": 686
        }
      ]
    },
    {
      "cell_type": "code",
      "metadata": {
        "id": "tMl33pGxXhV8"
      },
      "source": [
        "y_train_pred=knn_1.predict(X_train)\n",
        "y_test_pred=knn_1.predict(X_test)"
      ],
      "execution_count": null,
      "outputs": []
    },
    {
      "cell_type": "code",
      "metadata": {
        "colab": {
          "base_uri": "https://localhost:8080/"
        },
        "id": "uayXZ7xIXnaB",
        "outputId": "5234163a-57b7-4651-eec5-fc97b6f71155"
      },
      "source": [
        "print(classification_report(y_train,y_train_pred))"
      ],
      "execution_count": null,
      "outputs": [
        {
          "output_type": "stream",
          "name": "stdout",
          "text": [
            "              precision    recall  f1-score   support\n",
            "\n",
            "           0       1.00      1.00      1.00       251\n",
            "           1       1.00      1.00      1.00       251\n",
            "\n",
            "    accuracy                           1.00       502\n",
            "   macro avg       1.00      1.00      1.00       502\n",
            "weighted avg       1.00      1.00      1.00       502\n",
            "\n"
          ]
        }
      ]
    },
    {
      "cell_type": "code",
      "metadata": {
        "colab": {
          "base_uri": "https://localhost:8080/"
        },
        "id": "DiUDsfZBXoAu",
        "outputId": "b72660ef-6351-4c22-a65b-4fcea093a44a"
      },
      "source": [
        "print(classification_report(y_test,y_test_pred))"
      ],
      "execution_count": null,
      "outputs": [
        {
          "output_type": "stream",
          "name": "stdout",
          "text": [
            "              precision    recall  f1-score   support\n",
            "\n",
            "           0       0.84      0.84      0.84       116\n",
            "           1       0.65      0.65      0.65        54\n",
            "\n",
            "    accuracy                           0.78       170\n",
            "   macro avg       0.74      0.74      0.74       170\n",
            "weighted avg       0.78      0.78      0.78       170\n",
            "\n"
          ]
        }
      ]
    },
    {
      "cell_type": "markdown",
      "metadata": {
        "id": "YzbnU2gMK7Uj"
      },
      "source": [
        "# **Decision Tree with SMOTE Tomek Link**"
      ]
    },
    {
      "cell_type": "code",
      "metadata": {
        "id": "TtQ6bbUXLOLI"
      },
      "source": [
        "X_train,X_test,y_train,y_test=train_test_split(X[imp_cols].values,y,test_size=0.25,stratify=y)"
      ],
      "execution_count": null,
      "outputs": []
    },
    {
      "cell_type": "code",
      "metadata": {
        "colab": {
          "base_uri": "https://localhost:8080/"
        },
        "id": "7BjwvbjR7bvA",
        "outputId": "f49e8e30-7819-445f-e261-7d560251b66a"
      },
      "source": [
        "X_train.shape"
      ],
      "execution_count": null,
      "outputs": [
        {
          "output_type": "execute_result",
          "data": {
            "text/plain": [
              "(423, 9)"
            ]
          },
          "metadata": {},
          "execution_count": 763
        }
      ]
    },
    {
      "cell_type": "code",
      "metadata": {
        "id": "Tq7cduMCLOLJ"
      },
      "source": [
        "smt=SMOTETomek(random_state=139,)\n",
        "X_train, y_train=smt.fit_resample(X_train,y_train)"
      ],
      "execution_count": null,
      "outputs": []
    },
    {
      "cell_type": "code",
      "metadata": {
        "colab": {
          "base_uri": "https://localhost:8080/"
        },
        "id": "9LrqGkby7iNR",
        "outputId": "79c6072c-6cec-4be7-9968-ee886533ee39"
      },
      "source": [
        "X_train.shape"
      ],
      "execution_count": null,
      "outputs": [
        {
          "output_type": "execute_result",
          "data": {
            "text/plain": [
              "(534, 9)"
            ]
          },
          "metadata": {},
          "execution_count": 765
        }
      ]
    },
    {
      "cell_type": "code",
      "metadata": {
        "colab": {
          "base_uri": "https://localhost:8080/"
        },
        "id": "x-ujwZQKK6eJ",
        "outputId": "958783a5-f518-40c5-d7b4-9ee173037dd3"
      },
      "source": [
        "dt=DecisionTreeClassifier()\n",
        "dt.fit(X_train, y_train)"
      ],
      "execution_count": null,
      "outputs": [
        {
          "output_type": "execute_result",
          "data": {
            "text/plain": [
              "DecisionTreeClassifier(ccp_alpha=0.0, class_weight=None, criterion='gini',\n",
              "                       max_depth=None, max_features=None, max_leaf_nodes=None,\n",
              "                       min_impurity_decrease=0.0, min_impurity_split=None,\n",
              "                       min_samples_leaf=1, min_samples_split=2,\n",
              "                       min_weight_fraction_leaf=0.0, presort='deprecated',\n",
              "                       random_state=None, splitter='best')"
            ]
          },
          "metadata": {},
          "execution_count": 766
        }
      ]
    },
    {
      "cell_type": "code",
      "metadata": {
        "id": "FzgwoNaeK6eJ"
      },
      "source": [
        "y_train_pred=dt.predict(X_train)\n",
        "y_test_pred=dt.predict(X_test)"
      ],
      "execution_count": null,
      "outputs": []
    },
    {
      "cell_type": "code",
      "metadata": {
        "colab": {
          "base_uri": "https://localhost:8080/"
        },
        "id": "2ameZCH7K6eK",
        "outputId": "348e248d-d333-4027-a992-bd7331068be6"
      },
      "source": [
        "print(classification_report(y_train,y_train_pred))"
      ],
      "execution_count": null,
      "outputs": [
        {
          "output_type": "stream",
          "name": "stdout",
          "text": [
            "              precision    recall  f1-score   support\n",
            "\n",
            "           0       1.00      1.00      1.00       267\n",
            "           1       1.00      1.00      1.00       267\n",
            "\n",
            "    accuracy                           1.00       534\n",
            "   macro avg       1.00      1.00      1.00       534\n",
            "weighted avg       1.00      1.00      1.00       534\n",
            "\n"
          ]
        }
      ]
    },
    {
      "cell_type": "code",
      "metadata": {
        "colab": {
          "base_uri": "https://localhost:8080/"
        },
        "id": "oNbKdr6fK6eK",
        "outputId": "b11c90c6-cb6a-4db7-85f5-fc68aaa47874"
      },
      "source": [
        "print(classification_report(y_test,y_test_pred))"
      ],
      "execution_count": null,
      "outputs": [
        {
          "output_type": "stream",
          "name": "stdout",
          "text": [
            "              precision    recall  f1-score   support\n",
            "\n",
            "           0       0.81      0.79      0.80        96\n",
            "           1       0.57      0.60      0.59        45\n",
            "\n",
            "    accuracy                           0.73       141\n",
            "   macro avg       0.69      0.70      0.69       141\n",
            "weighted avg       0.73      0.73      0.73       141\n",
            "\n"
          ]
        }
      ]
    },
    {
      "cell_type": "markdown",
      "metadata": {
        "id": "t7t1vzL8LiwE"
      },
      "source": [
        "# **Grid Search CV**"
      ]
    },
    {
      "cell_type": "code",
      "metadata": {
        "colab": {
          "base_uri": "https://localhost:8080/"
        },
        "id": "wQoxLe_l7Ngk",
        "outputId": "3ebcf081-043a-48c4-ce82-b74e2c93e2e1"
      },
      "source": [
        "X_train.shape"
      ],
      "execution_count": null,
      "outputs": [
        {
          "output_type": "execute_result",
          "data": {
            "text/plain": [
              "(534, 9)"
            ]
          },
          "metadata": {},
          "execution_count": 770
        }
      ]
    },
    {
      "cell_type": "code",
      "metadata": {
        "colab": {
          "base_uri": "https://localhost:8080/"
        },
        "id": "NiFMQ2eDLhiw",
        "outputId": "33d545c8-4278-4e1c-d585-00ab04674036"
      },
      "source": [
        "dt_1=DecisionTreeClassifier()\n",
        "param={'max_depth':[3,5,6,7,8,9],'min_samples_leaf':[9,8,7,6],'ccp_alpha':[1e-09,1e-08,1e-20,1e-15],'min_samples_split':[1,2,3,4,5,6]}\n",
        "dt_s_gscv=GridSearchCV(dt_1,param_grid=param,cv=3,scoring='roc_auc')\n",
        "dt_s_gscv.fit(X_train,y_train)"
      ],
      "execution_count": null,
      "outputs": [
        {
          "output_type": "execute_result",
          "data": {
            "text/plain": [
              "GridSearchCV(cv=3, error_score=nan,\n",
              "             estimator=DecisionTreeClassifier(ccp_alpha=0.0, class_weight=None,\n",
              "                                              criterion='gini', max_depth=None,\n",
              "                                              max_features=None,\n",
              "                                              max_leaf_nodes=None,\n",
              "                                              min_impurity_decrease=0.0,\n",
              "                                              min_impurity_split=None,\n",
              "                                              min_samples_leaf=1,\n",
              "                                              min_samples_split=2,\n",
              "                                              min_weight_fraction_leaf=0.0,\n",
              "                                              presort='deprecated',\n",
              "                                              random_state=None,\n",
              "                                              splitter='best'),\n",
              "             iid='deprecated', n_jobs=None,\n",
              "             param_grid={'ccp_alpha': [1e-09, 1e-08, 1e-20, 1e-15],\n",
              "                         'max_depth': [3, 5, 6, 7, 8, 9],\n",
              "                         'min_samples_leaf': [9, 8, 7, 6],\n",
              "                         'min_samples_split': [1, 2, 3, 4, 5, 6]},\n",
              "             pre_dispatch='2*n_jobs', refit=True, return_train_score=False,\n",
              "             scoring='roc_auc', verbose=0)"
            ]
          },
          "metadata": {},
          "execution_count": 806
        }
      ]
    },
    {
      "cell_type": "code",
      "metadata": {
        "id": "zq0XGyPFLhix"
      },
      "source": [
        "y_train_pred=dt_s_gscv.predict(X_train)\n",
        "y_test_pred=dt_s_gscv.predict(X_test)"
      ],
      "execution_count": null,
      "outputs": []
    },
    {
      "cell_type": "code",
      "metadata": {
        "colab": {
          "base_uri": "https://localhost:8080/"
        },
        "id": "QQv5c8jqLhix",
        "outputId": "1b6338f2-edbc-4186-87d9-85023b183f59"
      },
      "source": [
        "dt_s_gscv.best_params_"
      ],
      "execution_count": null,
      "outputs": [
        {
          "output_type": "execute_result",
          "data": {
            "text/plain": [
              "{'ccp_alpha': 1e-15,\n",
              " 'max_depth': 7,\n",
              " 'min_samples_leaf': 7,\n",
              " 'min_samples_split': 5}"
            ]
          },
          "metadata": {},
          "execution_count": 808
        }
      ]
    },
    {
      "cell_type": "code",
      "metadata": {
        "colab": {
          "base_uri": "https://localhost:8080/"
        },
        "id": "Hayi0UXALhix",
        "outputId": "8fa4eb1a-19dd-4ccf-b2c1-fb6b6b8e3f29"
      },
      "source": [
        "print(classification_report(y_train,y_train_pred))"
      ],
      "execution_count": null,
      "outputs": [
        {
          "output_type": "stream",
          "name": "stdout",
          "text": [
            "              precision    recall  f1-score   support\n",
            "\n",
            "           0       0.79      0.93      0.85       267\n",
            "           1       0.91      0.75      0.83       267\n",
            "\n",
            "    accuracy                           0.84       534\n",
            "   macro avg       0.85      0.84      0.84       534\n",
            "weighted avg       0.85      0.84      0.84       534\n",
            "\n"
          ]
        }
      ]
    },
    {
      "cell_type": "code",
      "metadata": {
        "colab": {
          "base_uri": "https://localhost:8080/"
        },
        "id": "jWm5i9MzLhiy",
        "outputId": "da2b8a09-2979-4e26-a16c-3d4a10f19cab"
      },
      "source": [
        "print(classification_report(y_test,y_test_pred))"
      ],
      "execution_count": null,
      "outputs": [
        {
          "output_type": "stream",
          "name": "stdout",
          "text": [
            "              precision    recall  f1-score   support\n",
            "\n",
            "           0       0.80      0.89      0.84        96\n",
            "           1       0.69      0.53      0.60        45\n",
            "\n",
            "    accuracy                           0.77       141\n",
            "   macro avg       0.74      0.71      0.72       141\n",
            "weighted avg       0.76      0.77      0.76       141\n",
            "\n"
          ]
        }
      ]
    },
    {
      "cell_type": "code",
      "metadata": {
        "id": "sODhFYdt9Q6F"
      },
      "source": [
        "X_train,X_test,y_train,y_test=train_test_split(X[imp_cols].values,y,test_size=0.25,stratify=y)"
      ],
      "execution_count": null,
      "outputs": []
    },
    {
      "cell_type": "code",
      "metadata": {
        "colab": {
          "base_uri": "https://localhost:8080/"
        },
        "id": "XM3lE3dC9Q6F",
        "outputId": "240f9ffc-55ed-4e4f-9939-ad6e82e29914"
      },
      "source": [
        "X_train.shape"
      ],
      "execution_count": null,
      "outputs": [
        {
          "output_type": "execute_result",
          "data": {
            "text/plain": [
              "(423, 9)"
            ]
          },
          "metadata": {},
          "execution_count": 812
        }
      ]
    },
    {
      "cell_type": "code",
      "metadata": {
        "id": "nrk7qdfG9Q6F"
      },
      "source": [
        "smt=SMOTETomek(random_state=139,)\n",
        "X_train, y_train=smt.fit_resample(X_train,y_train)"
      ],
      "execution_count": null,
      "outputs": []
    },
    {
      "cell_type": "code",
      "metadata": {
        "colab": {
          "base_uri": "https://localhost:8080/"
        },
        "id": "rPMqDcSJ9Q6F",
        "outputId": "8e4d1942-317c-4f3c-be02-fc1da2091cee"
      },
      "source": [
        "X_train.shape"
      ],
      "execution_count": null,
      "outputs": [
        {
          "output_type": "execute_result",
          "data": {
            "text/plain": [
              "(542, 9)"
            ]
          },
          "metadata": {},
          "execution_count": 814
        }
      ]
    },
    {
      "cell_type": "code",
      "metadata": {
        "colab": {
          "base_uri": "https://localhost:8080/"
        },
        "id": "jNwsGp9X6INZ",
        "outputId": "2a058e77-0fba-4b61-fd16-d1b9023501e1"
      },
      "source": [
        "rf=RandomForestClassifier()\n",
        "rf.fit(X_train,y_train)\n"
      ],
      "execution_count": null,
      "outputs": [
        {
          "output_type": "execute_result",
          "data": {
            "text/plain": [
              "RandomForestClassifier(bootstrap=True, ccp_alpha=0.0, class_weight=None,\n",
              "                       criterion='gini', max_depth=None, max_features='auto',\n",
              "                       max_leaf_nodes=None, max_samples=None,\n",
              "                       min_impurity_decrease=0.0, min_impurity_split=None,\n",
              "                       min_samples_leaf=1, min_samples_split=2,\n",
              "                       min_weight_fraction_leaf=0.0, n_estimators=100,\n",
              "                       n_jobs=None, oob_score=False, random_state=None,\n",
              "                       verbose=0, warm_start=False)"
            ]
          },
          "metadata": {},
          "execution_count": 815
        }
      ]
    },
    {
      "cell_type": "code",
      "metadata": {
        "id": "sPDC_77r9cCl"
      },
      "source": [
        "y_train_pred=rf.predict(X_train)\n",
        "y_test_pred=rf.predict(X_test)"
      ],
      "execution_count": null,
      "outputs": []
    },
    {
      "cell_type": "code",
      "metadata": {
        "colab": {
          "base_uri": "https://localhost:8080/"
        },
        "id": "AjxQajkP9cCm",
        "outputId": "7a31318c-dc65-48da-bf0c-60937a3d35df"
      },
      "source": [
        "print(classification_report(y_train,y_train_pred))"
      ],
      "execution_count": null,
      "outputs": [
        {
          "output_type": "stream",
          "name": "stdout",
          "text": [
            "              precision    recall  f1-score   support\n",
            "\n",
            "           0       1.00      1.00      1.00       271\n",
            "           1       1.00      1.00      1.00       271\n",
            "\n",
            "    accuracy                           1.00       542\n",
            "   macro avg       1.00      1.00      1.00       542\n",
            "weighted avg       1.00      1.00      1.00       542\n",
            "\n"
          ]
        }
      ]
    },
    {
      "cell_type": "code",
      "metadata": {
        "colab": {
          "base_uri": "https://localhost:8080/"
        },
        "id": "Y4FNbKqe9cCm",
        "outputId": "328a417e-5485-4deb-e37c-dc20533f1305"
      },
      "source": [
        "print(classification_report(y_test,y_test_pred))"
      ],
      "execution_count": null,
      "outputs": [
        {
          "output_type": "stream",
          "name": "stdout",
          "text": [
            "              precision    recall  f1-score   support\n",
            "\n",
            "           0       0.78      0.96      0.86        96\n",
            "           1       0.83      0.42      0.56        45\n",
            "\n",
            "    accuracy                           0.79       141\n",
            "   macro avg       0.80      0.69      0.71       141\n",
            "weighted avg       0.79      0.79      0.76       141\n",
            "\n"
          ]
        }
      ]
    },
    {
      "cell_type": "code",
      "metadata": {
        "colab": {
          "base_uri": "https://localhost:8080/"
        },
        "id": "hMp-rOsX8L-h",
        "outputId": "7fa5402e-6825-4418-969e-36da5d1de57d"
      },
      "source": [
        "rf=RandomForestClassifier()\n",
        "param={'max_depth':[3,5,6,7,8,9],'min_samples_leaf':[9,8,7,6],'ccp_alpha':[1e-09,1e-08,1e-20,1e-15],'min_samples_split':[1,2,3,4,5,6]}\n",
        "rf_gcsv=GridSearchCV(rf,param_grid=param,cv=3,scoring='roc_auc')\n",
        "rf_gcsv.fit(X_train,y_train)"
      ],
      "execution_count": null,
      "outputs": [
        {
          "output_type": "execute_result",
          "data": {
            "text/plain": [
              "GridSearchCV(cv=3, error_score=nan,\n",
              "             estimator=RandomForestClassifier(bootstrap=True, ccp_alpha=0.0,\n",
              "                                              class_weight=None,\n",
              "                                              criterion='gini', max_depth=None,\n",
              "                                              max_features='auto',\n",
              "                                              max_leaf_nodes=None,\n",
              "                                              max_samples=None,\n",
              "                                              min_impurity_decrease=0.0,\n",
              "                                              min_impurity_split=None,\n",
              "                                              min_samples_leaf=1,\n",
              "                                              min_samples_split=2,\n",
              "                                              min_weight_fraction_leaf=0.0,\n",
              "                                              n_estimators=100, n_jobs=None,\n",
              "                                              oob_score=False,\n",
              "                                              random_state=None, verbose=0,\n",
              "                                              warm_start=False),\n",
              "             iid='deprecated', n_jobs=None,\n",
              "             param_grid={'ccp_alpha': [1e-09, 1e-08, 1e-20, 1e-15],\n",
              "                         'max_depth': [3, 5, 6, 7, 8, 9],\n",
              "                         'min_samples_leaf': [9, 8, 7, 6],\n",
              "                         'min_samples_split': [1, 2, 3, 4, 5, 6]},\n",
              "             pre_dispatch='2*n_jobs', refit=True, return_train_score=False,\n",
              "             scoring='roc_auc', verbose=0)"
            ]
          },
          "metadata": {},
          "execution_count": 819
        }
      ]
    },
    {
      "cell_type": "code",
      "metadata": {
        "id": "MLSK3RhE98uo"
      },
      "source": [
        "y_train_pred=rf_gcsv.predict(X_train)\n",
        "y_test_pred=rf_gcsv.predict(X_test)"
      ],
      "execution_count": null,
      "outputs": []
    },
    {
      "cell_type": "code",
      "metadata": {
        "colab": {
          "base_uri": "https://localhost:8080/"
        },
        "id": "hlY2tedE98uo",
        "outputId": "24bf6199-6a00-4858-d061-6384b211dbff"
      },
      "source": [
        "print(classification_report(y_train,y_train_pred))"
      ],
      "execution_count": null,
      "outputs": [
        {
          "output_type": "stream",
          "name": "stdout",
          "text": [
            "              precision    recall  f1-score   support\n",
            "\n",
            "           0       0.87      0.96      0.91       271\n",
            "           1       0.95      0.86      0.90       271\n",
            "\n",
            "    accuracy                           0.91       542\n",
            "   macro avg       0.91      0.91      0.91       542\n",
            "weighted avg       0.91      0.91      0.91       542\n",
            "\n"
          ]
        }
      ]
    },
    {
      "cell_type": "code",
      "metadata": {
        "colab": {
          "base_uri": "https://localhost:8080/"
        },
        "id": "Atfkqt4k98uo",
        "outputId": "a5af57a6-0e8d-4ecb-8a3c-05d7263702c0"
      },
      "source": [
        "print(classification_report(y_test,y_test_pred))"
      ],
      "execution_count": null,
      "outputs": [
        {
          "output_type": "stream",
          "name": "stdout",
          "text": [
            "              precision    recall  f1-score   support\n",
            "\n",
            "           0       0.77      0.96      0.85        96\n",
            "           1       0.81      0.38      0.52        45\n",
            "\n",
            "    accuracy                           0.77       141\n",
            "   macro avg       0.79      0.67      0.68       141\n",
            "weighted avg       0.78      0.77      0.74       141\n",
            "\n"
          ]
        }
      ]
    },
    {
      "cell_type": "markdown",
      "metadata": {
        "id": "DOg1JUCcG2pl"
      },
      "source": [
        "# ***Saving Model***"
      ]
    },
    {
      "cell_type": "code",
      "metadata": {
        "id": "EkkHfMOvHH-h"
      },
      "source": [
        "X_train,X_test,y_train,y_test=train_test_split(X,y,test_size=0.25,stratify=y,random_state=8)\n",
        "scaler=StandardScaler()\n",
        "scaler.fit(X_train)\n",
        "X_train=scaler.transform(X_train)\n",
        "X_test=scaler.transform(X_test)\n",
        "lr=LogisticRegression(penalty='l1',solver='liblinear',C=0.1978,class_weight='balanced')\n",
        "lr.fit(X_train,y_train)\n",
        "y_train_pred=lr.predict(X_train)\n",
        "y_test_pred=lr.predict(X_test)"
      ],
      "execution_count": null,
      "outputs": []
    },
    {
      "cell_type": "code",
      "metadata": {
        "colab": {
          "base_uri": "https://localhost:8080/"
        },
        "id": "LS_F13wNHH-j",
        "outputId": "ab09f0d4-8b26-46cf-b010-06dc4f6ce1b0"
      },
      "source": [
        "print(classification_report(y_test,y_test_pred))"
      ],
      "execution_count": null,
      "outputs": [
        {
          "output_type": "stream",
          "name": "stdout",
          "text": [
            "              precision    recall  f1-score   support\n",
            "\n",
            "           0       0.81      0.95      0.87        96\n",
            "           1       0.82      0.51      0.63        45\n",
            "\n",
            "    accuracy                           0.81       141\n",
            "   macro avg       0.81      0.73      0.75       141\n",
            "weighted avg       0.81      0.81      0.79       141\n",
            "\n"
          ]
        }
      ]
    },
    {
      "cell_type": "code",
      "metadata": {
        "colab": {
          "base_uri": "https://localhost:8080/",
          "height": 0
        },
        "id": "kqX4hp3NILE_",
        "outputId": "48635ec7-a7b7-41d1-8814-684f32a532ad"
      },
      "source": [
        "import pickle\n",
        " \n",
        "# Save the trained model as a pickle string.\n",
        "saved_model = pickle.dumps(lr)\n",
        " \n",
        "# Load the pickled model\n",
        "dtc_from_pickle = pickle.loads(saved_model)\n",
        " \n",
        "# Use the loaded pickled model to make predictions\n",
        "dtc_from_pickle.predict(X_test)"
      ],
      "execution_count": 89,
      "outputs": [
        {
          "output_type": "error",
          "ename": "ValueError",
          "evalue": "ignored",
          "traceback": [
            "\u001b[0;31m---------------------------------------------------------------------------\u001b[0m",
            "\u001b[0;31mValueError\u001b[0m                                Traceback (most recent call last)",
            "\u001b[0;32m<ipython-input-89-1fd0b15bba34>\u001b[0m in \u001b[0;36m<module>\u001b[0;34m()\u001b[0m\n\u001b[1;32m      8\u001b[0m \u001b[0;34m\u001b[0m\u001b[0m\n\u001b[1;32m      9\u001b[0m \u001b[0;31m# Use the loaded pickled model to make predictions\u001b[0m\u001b[0;34m\u001b[0m\u001b[0;34m\u001b[0m\u001b[0;34m\u001b[0m\u001b[0m\n\u001b[0;32m---> 10\u001b[0;31m \u001b[0mdtc_from_pickle\u001b[0m\u001b[0;34m.\u001b[0m\u001b[0mpredict\u001b[0m\u001b[0;34m(\u001b[0m\u001b[0mX_test\u001b[0m\u001b[0;34m)\u001b[0m\u001b[0;34m\u001b[0m\u001b[0;34m\u001b[0m\u001b[0m\n\u001b[0m",
            "\u001b[0;32m/usr/local/lib/python3.7/dist-packages/sklearn/linear_model/_base.py\u001b[0m in \u001b[0;36mpredict\u001b[0;34m(self, X)\u001b[0m\n\u001b[1;32m    291\u001b[0m             \u001b[0mPredicted\u001b[0m \u001b[0;32mclass\u001b[0m \u001b[0mlabel\u001b[0m \u001b[0mper\u001b[0m \u001b[0msample\u001b[0m\u001b[0;34m.\u001b[0m\u001b[0;34m\u001b[0m\u001b[0;34m\u001b[0m\u001b[0m\n\u001b[1;32m    292\u001b[0m         \"\"\"\n\u001b[0;32m--> 293\u001b[0;31m         \u001b[0mscores\u001b[0m \u001b[0;34m=\u001b[0m \u001b[0mself\u001b[0m\u001b[0;34m.\u001b[0m\u001b[0mdecision_function\u001b[0m\u001b[0;34m(\u001b[0m\u001b[0mX\u001b[0m\u001b[0;34m)\u001b[0m\u001b[0;34m\u001b[0m\u001b[0;34m\u001b[0m\u001b[0m\n\u001b[0m\u001b[1;32m    294\u001b[0m         \u001b[0;32mif\u001b[0m \u001b[0mlen\u001b[0m\u001b[0;34m(\u001b[0m\u001b[0mscores\u001b[0m\u001b[0;34m.\u001b[0m\u001b[0mshape\u001b[0m\u001b[0;34m)\u001b[0m \u001b[0;34m==\u001b[0m \u001b[0;36m1\u001b[0m\u001b[0;34m:\u001b[0m\u001b[0;34m\u001b[0m\u001b[0;34m\u001b[0m\u001b[0m\n\u001b[1;32m    295\u001b[0m             \u001b[0mindices\u001b[0m \u001b[0;34m=\u001b[0m \u001b[0;34m(\u001b[0m\u001b[0mscores\u001b[0m \u001b[0;34m>\u001b[0m \u001b[0;36m0\u001b[0m\u001b[0;34m)\u001b[0m\u001b[0;34m.\u001b[0m\u001b[0mastype\u001b[0m\u001b[0;34m(\u001b[0m\u001b[0mnp\u001b[0m\u001b[0;34m.\u001b[0m\u001b[0mint\u001b[0m\u001b[0;34m)\u001b[0m\u001b[0;34m\u001b[0m\u001b[0;34m\u001b[0m\u001b[0m\n",
            "\u001b[0;32m/usr/local/lib/python3.7/dist-packages/sklearn/linear_model/_base.py\u001b[0m in \u001b[0;36mdecision_function\u001b[0;34m(self, X)\u001b[0m\n\u001b[1;32m    271\u001b[0m         \u001b[0;32mif\u001b[0m \u001b[0mX\u001b[0m\u001b[0;34m.\u001b[0m\u001b[0mshape\u001b[0m\u001b[0;34m[\u001b[0m\u001b[0;36m1\u001b[0m\u001b[0;34m]\u001b[0m \u001b[0;34m!=\u001b[0m \u001b[0mn_features\u001b[0m\u001b[0;34m:\u001b[0m\u001b[0;34m\u001b[0m\u001b[0;34m\u001b[0m\u001b[0m\n\u001b[1;32m    272\u001b[0m             raise ValueError(\"X has %d features per sample; expecting %d\"\n\u001b[0;32m--> 273\u001b[0;31m                              % (X.shape[1], n_features))\n\u001b[0m\u001b[1;32m    274\u001b[0m \u001b[0;34m\u001b[0m\u001b[0m\n\u001b[1;32m    275\u001b[0m         scores = safe_sparse_dot(X, self.coef_.T,\n",
            "\u001b[0;31mValueError\u001b[0m: X has 8 features per sample; expecting 12"
          ]
        }
      ]
    }
  ]
}