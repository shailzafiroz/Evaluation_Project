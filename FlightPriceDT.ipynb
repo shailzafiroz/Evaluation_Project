{
  "nbformat": 4,
  "nbformat_minor": 0,
  "metadata": {
    "kernelspec": {
      "display_name": "Python 3",
      "language": "python",
      "name": "python3"
    },
    "language_info": {
      "codemirror_mode": {
        "name": "ipython",
        "version": 3
      },
      "file_extension": ".py",
      "mimetype": "text/x-python",
      "name": "python",
      "nbconvert_exporter": "python",
      "pygments_lexer": "ipython3",
      "version": "3.7.6"
    },
    "colab": {
      "name": "FlightPriceDT.ipynb",
      "provenance": []
    }
  },
  "cells": [
    {
      "cell_type": "code",
      "metadata": {
        "colab": {
          "base_uri": "https://localhost:8080/"
        },
        "id": "cnsL3-PPQsqo",
        "outputId": "b30f1a5a-2f34-43a0-e109-1b7e42693ddf"
      },
      "source": [
        "import pandas as pd\n",
        "import numpy as np\n",
        "import seaborn as sns\n",
        "import matplotlib.pyplot as plt\n",
        "from sklearn.model_selection import train_test_split\n",
        "from sklearn.model_selection import GridSearchCV,cross_val_score\n",
        "from sklearn.preprocessing import MinMaxScaler, StandardScaler\n",
        "from sklearn.linear_model import LinearRegression, LogisticRegression\n",
        "from sklearn.metrics import r2_score,mean_squared_error\n",
        "from sklearn import svm\n",
        "from sklearn.tree import DecisionTreeRegressor,DecisionTreeClassifier\n",
        "from sklearn.preprocessing import PowerTransformer\n",
        "from statsmodels.stats.outliers_influence import variance_inflation_factor\n",
        "import warnings\n",
        "warnings.filterwarnings('ignore')"
      ],
      "execution_count": 1,
      "outputs": [
        {
          "output_type": "stream",
          "name": "stderr",
          "text": [
            "/usr/local/lib/python3.7/dist-packages/statsmodels/tools/_testing.py:19: FutureWarning: pandas.util.testing is deprecated. Use the functions in the public API at pandas.testing instead.\n",
            "  import pandas.util.testing as tm\n"
          ]
        }
      ]
    },
    {
      "cell_type": "code",
      "metadata": {
        "colab": {
          "base_uri": "https://localhost:8080/"
        },
        "id": "qa54aGi8J99_",
        "outputId": "5ecee578-3674-44f3-d332-2ecca3e9482f"
      },
      "source": [
        "from google.colab import drive\n",
        "drive.mount('/content/drive')"
      ],
      "execution_count": null,
      "outputs": [
        {
          "output_type": "stream",
          "name": "stdout",
          "text": [
            "Mounted at /content/drive\n"
          ]
        }
      ]
    },
    {
      "cell_type": "code",
      "metadata": {
        "id": "Oqo8SJjhIyg5"
      },
      "source": [
        "df=pd.read_excel(\"/content/drive/MyDrive/Flight_Ticket_Participant_Datasets/Data_Train.xlsx\")\n",
        "df_test=pd.read_excel(\"/content/drive/MyDrive/Flight_Ticket_Participant_Datasets/Test_set.xlsx\")"
      ],
      "execution_count": null,
      "outputs": []
    },
    {
      "cell_type": "code",
      "metadata": {
        "id": "yTNtJWRIIyg6",
        "outputId": "560e0078-95c6-4213-fbb0-9ec76f91c211"
      },
      "source": [
        "df.head()"
      ],
      "execution_count": null,
      "outputs": [
        {
          "data": {
            "text/html": [
              "<div>\n",
              "<style scoped>\n",
              "    .dataframe tbody tr th:only-of-type {\n",
              "        vertical-align: middle;\n",
              "    }\n",
              "\n",
              "    .dataframe tbody tr th {\n",
              "        vertical-align: top;\n",
              "    }\n",
              "\n",
              "    .dataframe thead th {\n",
              "        text-align: right;\n",
              "    }\n",
              "</style>\n",
              "<table border=\"1\" class=\"dataframe\">\n",
              "  <thead>\n",
              "    <tr style=\"text-align: right;\">\n",
              "      <th></th>\n",
              "      <th>Airline</th>\n",
              "      <th>Date_of_Journey</th>\n",
              "      <th>Source</th>\n",
              "      <th>Destination</th>\n",
              "      <th>Route</th>\n",
              "      <th>Dep_Time</th>\n",
              "      <th>Arrival_Time</th>\n",
              "      <th>Duration</th>\n",
              "      <th>Total_Stops</th>\n",
              "      <th>Additional_Info</th>\n",
              "      <th>Price</th>\n",
              "    </tr>\n",
              "  </thead>\n",
              "  <tbody>\n",
              "    <tr>\n",
              "      <th>0</th>\n",
              "      <td>IndiGo</td>\n",
              "      <td>24/03/2019</td>\n",
              "      <td>Banglore</td>\n",
              "      <td>New Delhi</td>\n",
              "      <td>BLR → DEL</td>\n",
              "      <td>22:20</td>\n",
              "      <td>01:10 22 Mar</td>\n",
              "      <td>2h 50m</td>\n",
              "      <td>non-stop</td>\n",
              "      <td>No info</td>\n",
              "      <td>3897</td>\n",
              "    </tr>\n",
              "    <tr>\n",
              "      <th>1</th>\n",
              "      <td>Air India</td>\n",
              "      <td>1/05/2019</td>\n",
              "      <td>Kolkata</td>\n",
              "      <td>Banglore</td>\n",
              "      <td>CCU → IXR → BBI → BLR</td>\n",
              "      <td>05:50</td>\n",
              "      <td>13:15</td>\n",
              "      <td>7h 25m</td>\n",
              "      <td>2 stops</td>\n",
              "      <td>No info</td>\n",
              "      <td>7662</td>\n",
              "    </tr>\n",
              "    <tr>\n",
              "      <th>2</th>\n",
              "      <td>Jet Airways</td>\n",
              "      <td>9/06/2019</td>\n",
              "      <td>Delhi</td>\n",
              "      <td>Cochin</td>\n",
              "      <td>DEL → LKO → BOM → COK</td>\n",
              "      <td>09:25</td>\n",
              "      <td>04:25 10 Jun</td>\n",
              "      <td>19h</td>\n",
              "      <td>2 stops</td>\n",
              "      <td>No info</td>\n",
              "      <td>13882</td>\n",
              "    </tr>\n",
              "    <tr>\n",
              "      <th>3</th>\n",
              "      <td>IndiGo</td>\n",
              "      <td>12/05/2019</td>\n",
              "      <td>Kolkata</td>\n",
              "      <td>Banglore</td>\n",
              "      <td>CCU → NAG → BLR</td>\n",
              "      <td>18:05</td>\n",
              "      <td>23:30</td>\n",
              "      <td>5h 25m</td>\n",
              "      <td>1 stop</td>\n",
              "      <td>No info</td>\n",
              "      <td>6218</td>\n",
              "    </tr>\n",
              "    <tr>\n",
              "      <th>4</th>\n",
              "      <td>IndiGo</td>\n",
              "      <td>01/03/2019</td>\n",
              "      <td>Banglore</td>\n",
              "      <td>New Delhi</td>\n",
              "      <td>BLR → NAG → DEL</td>\n",
              "      <td>16:50</td>\n",
              "      <td>21:35</td>\n",
              "      <td>4h 45m</td>\n",
              "      <td>1 stop</td>\n",
              "      <td>No info</td>\n",
              "      <td>13302</td>\n",
              "    </tr>\n",
              "  </tbody>\n",
              "</table>\n",
              "</div>"
            ],
            "text/plain": [
              "       Airline Date_of_Journey    Source Destination                  Route  \\\n",
              "0       IndiGo      24/03/2019  Banglore   New Delhi              BLR → DEL   \n",
              "1    Air India       1/05/2019   Kolkata    Banglore  CCU → IXR → BBI → BLR   \n",
              "2  Jet Airways       9/06/2019     Delhi      Cochin  DEL → LKO → BOM → COK   \n",
              "3       IndiGo      12/05/2019   Kolkata    Banglore        CCU → NAG → BLR   \n",
              "4       IndiGo      01/03/2019  Banglore   New Delhi        BLR → NAG → DEL   \n",
              "\n",
              "  Dep_Time  Arrival_Time Duration Total_Stops Additional_Info  Price  \n",
              "0    22:20  01:10 22 Mar   2h 50m    non-stop         No info   3897  \n",
              "1    05:50         13:15   7h 25m     2 stops         No info   7662  \n",
              "2    09:25  04:25 10 Jun      19h     2 stops         No info  13882  \n",
              "3    18:05         23:30   5h 25m      1 stop         No info   6218  \n",
              "4    16:50         21:35   4h 45m      1 stop         No info  13302  "
            ]
          },
          "execution_count": 101,
          "metadata": {},
          "output_type": "execute_result"
        }
      ]
    },
    {
      "cell_type": "markdown",
      "metadata": {
        "id": "mjU6pHvgIyg_"
      },
      "source": [
        "## **EDA**"
      ]
    },
    {
      "cell_type": "code",
      "metadata": {
        "id": "3mDftI4GIyg_",
        "outputId": "49ab964f-f9f0-4d40-f8c2-e38373abcc41"
      },
      "source": [
        "df.shape"
      ],
      "execution_count": null,
      "outputs": [
        {
          "data": {
            "text/plain": [
              "(10683, 11)"
            ]
          },
          "execution_count": 104,
          "metadata": {},
          "output_type": "execute_result"
        }
      ]
    },
    {
      "cell_type": "code",
      "metadata": {
        "id": "jWjPq6wYIyhA",
        "outputId": "96e39bcd-8e8b-4dc6-feeb-317fbbb273e6"
      },
      "source": [
        "df.dtypes #checking the data types"
      ],
      "execution_count": null,
      "outputs": [
        {
          "data": {
            "text/plain": [
              "Airline            object\n",
              "Date_of_Journey    object\n",
              "Source             object\n",
              "Destination        object\n",
              "Route              object\n",
              "Dep_Time           object\n",
              "Arrival_Time       object\n",
              "Duration           object\n",
              "Total_Stops        object\n",
              "Additional_Info    object\n",
              "Price               int64\n",
              "dtype: object"
            ]
          },
          "execution_count": 105,
          "metadata": {},
          "output_type": "execute_result"
        }
      ]
    },
    {
      "cell_type": "code",
      "metadata": {
        "id": "xy9hspdWIyhB",
        "outputId": "62233f88-3efd-42d0-9784-dab38e795066"
      },
      "source": [
        "df.isna().sum() #Checking null values"
      ],
      "execution_count": null,
      "outputs": [
        {
          "data": {
            "text/plain": [
              "Airline            0\n",
              "Date_of_Journey    0\n",
              "Source             0\n",
              "Destination        0\n",
              "Route              1\n",
              "Dep_Time           0\n",
              "Arrival_Time       0\n",
              "Duration           0\n",
              "Total_Stops        1\n",
              "Additional_Info    0\n",
              "Price              0\n",
              "dtype: int64"
            ]
          },
          "execution_count": 106,
          "metadata": {},
          "output_type": "execute_result"
        }
      ]
    },
    {
      "cell_type": "code",
      "metadata": {
        "id": "AoL1KWJnIyhB",
        "outputId": "4cd7d3d0-1397-45a8-a2ed-c0b3fa6fd334"
      },
      "source": [
        "#Remove the NaN values from the dataset\n",
        "df.dropna(how='any',inplace=True)\n",
        "df.isnull().sum()"
      ],
      "execution_count": null,
      "outputs": [
        {
          "data": {
            "text/plain": [
              "Airline            0\n",
              "Date_of_Journey    0\n",
              "Source             0\n",
              "Destination        0\n",
              "Route              0\n",
              "Dep_Time           0\n",
              "Arrival_Time       0\n",
              "Duration           0\n",
              "Total_Stops        0\n",
              "Additional_Info    0\n",
              "Price              0\n",
              "dtype: int64"
            ]
          },
          "execution_count": 107,
          "metadata": {},
          "output_type": "execute_result"
        }
      ]
    },
    {
      "cell_type": "markdown",
      "metadata": {
        "id": "0zGT2-sfIyhC"
      },
      "source": [
        "<br>\n",
        "<br>\n",
        "\n",
        "## **Feature Engineering**"
      ]
    },
    {
      "cell_type": "markdown",
      "metadata": {
        "id": "Oev9s3dbIyhD"
      },
      "source": [
        "Let's convert **Date_of_Journey** to its appropriate format as **datetime** with regards to **day** and **month**"
      ]
    },
    {
      "cell_type": "code",
      "metadata": {
        "id": "Z1UpHZCNIyhD",
        "outputId": "47e53970-9dcc-4a82-e061-1fca0cf4e4b8"
      },
      "source": [
        "df.head(3)"
      ],
      "execution_count": null,
      "outputs": [
        {
          "data": {
            "text/html": [
              "<div>\n",
              "<style scoped>\n",
              "    .dataframe tbody tr th:only-of-type {\n",
              "        vertical-align: middle;\n",
              "    }\n",
              "\n",
              "    .dataframe tbody tr th {\n",
              "        vertical-align: top;\n",
              "    }\n",
              "\n",
              "    .dataframe thead th {\n",
              "        text-align: right;\n",
              "    }\n",
              "</style>\n",
              "<table border=\"1\" class=\"dataframe\">\n",
              "  <thead>\n",
              "    <tr style=\"text-align: right;\">\n",
              "      <th></th>\n",
              "      <th>Airline</th>\n",
              "      <th>Date_of_Journey</th>\n",
              "      <th>Source</th>\n",
              "      <th>Destination</th>\n",
              "      <th>Route</th>\n",
              "      <th>Dep_Time</th>\n",
              "      <th>Arrival_Time</th>\n",
              "      <th>Duration</th>\n",
              "      <th>Total_Stops</th>\n",
              "      <th>Additional_Info</th>\n",
              "      <th>Price</th>\n",
              "    </tr>\n",
              "  </thead>\n",
              "  <tbody>\n",
              "    <tr>\n",
              "      <th>0</th>\n",
              "      <td>IndiGo</td>\n",
              "      <td>24/03/2019</td>\n",
              "      <td>Banglore</td>\n",
              "      <td>New Delhi</td>\n",
              "      <td>BLR → DEL</td>\n",
              "      <td>22:20</td>\n",
              "      <td>01:10 22 Mar</td>\n",
              "      <td>2h 50m</td>\n",
              "      <td>non-stop</td>\n",
              "      <td>No info</td>\n",
              "      <td>3897</td>\n",
              "    </tr>\n",
              "    <tr>\n",
              "      <th>1</th>\n",
              "      <td>Air India</td>\n",
              "      <td>1/05/2019</td>\n",
              "      <td>Kolkata</td>\n",
              "      <td>Banglore</td>\n",
              "      <td>CCU → IXR → BBI → BLR</td>\n",
              "      <td>05:50</td>\n",
              "      <td>13:15</td>\n",
              "      <td>7h 25m</td>\n",
              "      <td>2 stops</td>\n",
              "      <td>No info</td>\n",
              "      <td>7662</td>\n",
              "    </tr>\n",
              "    <tr>\n",
              "      <th>2</th>\n",
              "      <td>Jet Airways</td>\n",
              "      <td>9/06/2019</td>\n",
              "      <td>Delhi</td>\n",
              "      <td>Cochin</td>\n",
              "      <td>DEL → LKO → BOM → COK</td>\n",
              "      <td>09:25</td>\n",
              "      <td>04:25 10 Jun</td>\n",
              "      <td>19h</td>\n",
              "      <td>2 stops</td>\n",
              "      <td>No info</td>\n",
              "      <td>13882</td>\n",
              "    </tr>\n",
              "  </tbody>\n",
              "</table>\n",
              "</div>"
            ],
            "text/plain": [
              "       Airline Date_of_Journey    Source Destination                  Route  \\\n",
              "0       IndiGo      24/03/2019  Banglore   New Delhi              BLR → DEL   \n",
              "1    Air India       1/05/2019   Kolkata    Banglore  CCU → IXR → BBI → BLR   \n",
              "2  Jet Airways       9/06/2019     Delhi      Cochin  DEL → LKO → BOM → COK   \n",
              "\n",
              "  Dep_Time  Arrival_Time Duration Total_Stops Additional_Info  Price  \n",
              "0    22:20  01:10 22 Mar   2h 50m    non-stop         No info   3897  \n",
              "1    05:50         13:15   7h 25m     2 stops         No info   7662  \n",
              "2    09:25  04:25 10 Jun      19h     2 stops         No info  13882  "
            ]
          },
          "execution_count": 108,
          "metadata": {},
          "output_type": "execute_result"
        }
      ]
    },
    {
      "cell_type": "markdown",
      "metadata": {
        "id": "13x2LXhwIyhH"
      },
      "source": [
        "<br>\n",
        "\n",
        "## Arrival_time"
      ]
    },
    {
      "cell_type": "code",
      "metadata": {
        "id": "i0Tr-eEhIyhH"
      },
      "source": [
        "\n",
        "df['Arrival_hr']=pd.to_datetime(df['Arrival_Time']).dt.hour\n",
        "df['Arrival_min']=pd.to_datetime(df['Arrival_Time']).dt.minute"
      ],
      "execution_count": null,
      "outputs": []
    },
    {
      "cell_type": "code",
      "metadata": {
        "id": "rlOBfKj2IyhI"
      },
      "source": [
        "#we can now drop the 'Arrival_Time'\n",
        "\n",
        "df.drop([\"Arrival_Time\"],axis=1,inplace=True)"
      ],
      "execution_count": null,
      "outputs": []
    },
    {
      "cell_type": "markdown",
      "metadata": {
        "id": "J3a6s4d2IyhE"
      },
      "source": [
        "<br>\n",
        "\n",
        "### Date_of_journey"
      ]
    },
    {
      "cell_type": "code",
      "metadata": {
        "id": "JQkTd0T3IyhE"
      },
      "source": [
        "df['Date_of_Journey']=pd.to_datetime(df['Date_of_Journey'])\n",
        "df['Day_of_Journey']=(df['Date_of_Journey']).dt.day\n",
        "df['Month_of_Journey']=(df['Date_of_Journey']).dt.month"
      ],
      "execution_count": null,
      "outputs": []
    },
    {
      "cell_type": "code",
      "metadata": {
        "id": "EMg8LGQdIyhF",
        "outputId": "7ae525a5-749a-495c-e1b7-e665c1aaf72e"
      },
      "source": [
        "df.head(3)"
      ],
      "execution_count": null,
      "outputs": [
        {
          "data": {
            "text/html": [
              "<div>\n",
              "<style scoped>\n",
              "    .dataframe tbody tr th:only-of-type {\n",
              "        vertical-align: middle;\n",
              "    }\n",
              "\n",
              "    .dataframe tbody tr th {\n",
              "        vertical-align: top;\n",
              "    }\n",
              "\n",
              "    .dataframe thead th {\n",
              "        text-align: right;\n",
              "    }\n",
              "</style>\n",
              "<table border=\"1\" class=\"dataframe\">\n",
              "  <thead>\n",
              "    <tr style=\"text-align: right;\">\n",
              "      <th></th>\n",
              "      <th>Airline</th>\n",
              "      <th>Date_of_Journey</th>\n",
              "      <th>Source</th>\n",
              "      <th>Destination</th>\n",
              "      <th>Route</th>\n",
              "      <th>Dep_Time</th>\n",
              "      <th>Arrival_Time</th>\n",
              "      <th>Duration</th>\n",
              "      <th>Total_Stops</th>\n",
              "      <th>Additional_Info</th>\n",
              "      <th>Price</th>\n",
              "      <th>Day_of_Journey</th>\n",
              "      <th>Month_of_Journey</th>\n",
              "    </tr>\n",
              "  </thead>\n",
              "  <tbody>\n",
              "    <tr>\n",
              "      <th>0</th>\n",
              "      <td>IndiGo</td>\n",
              "      <td>2019-03-24</td>\n",
              "      <td>Banglore</td>\n",
              "      <td>New Delhi</td>\n",
              "      <td>BLR → DEL</td>\n",
              "      <td>22:20</td>\n",
              "      <td>01:10 22 Mar</td>\n",
              "      <td>2h 50m</td>\n",
              "      <td>non-stop</td>\n",
              "      <td>No info</td>\n",
              "      <td>3897</td>\n",
              "      <td>24</td>\n",
              "      <td>3</td>\n",
              "    </tr>\n",
              "    <tr>\n",
              "      <th>1</th>\n",
              "      <td>Air India</td>\n",
              "      <td>2019-01-05</td>\n",
              "      <td>Kolkata</td>\n",
              "      <td>Banglore</td>\n",
              "      <td>CCU → IXR → BBI → BLR</td>\n",
              "      <td>05:50</td>\n",
              "      <td>13:15</td>\n",
              "      <td>7h 25m</td>\n",
              "      <td>2 stops</td>\n",
              "      <td>No info</td>\n",
              "      <td>7662</td>\n",
              "      <td>5</td>\n",
              "      <td>1</td>\n",
              "    </tr>\n",
              "    <tr>\n",
              "      <th>2</th>\n",
              "      <td>Jet Airways</td>\n",
              "      <td>2019-09-06</td>\n",
              "      <td>Delhi</td>\n",
              "      <td>Cochin</td>\n",
              "      <td>DEL → LKO → BOM → COK</td>\n",
              "      <td>09:25</td>\n",
              "      <td>04:25 10 Jun</td>\n",
              "      <td>19h</td>\n",
              "      <td>2 stops</td>\n",
              "      <td>No info</td>\n",
              "      <td>13882</td>\n",
              "      <td>6</td>\n",
              "      <td>9</td>\n",
              "    </tr>\n",
              "  </tbody>\n",
              "</table>\n",
              "</div>"
            ],
            "text/plain": [
              "       Airline Date_of_Journey    Source Destination                  Route  \\\n",
              "0       IndiGo      2019-03-24  Banglore   New Delhi              BLR → DEL   \n",
              "1    Air India      2019-01-05   Kolkata    Banglore  CCU → IXR → BBI → BLR   \n",
              "2  Jet Airways      2019-09-06     Delhi      Cochin  DEL → LKO → BOM → COK   \n",
              "\n",
              "  Dep_Time  Arrival_Time Duration Total_Stops Additional_Info  Price  \\\n",
              "0    22:20  01:10 22 Mar   2h 50m    non-stop         No info   3897   \n",
              "1    05:50         13:15   7h 25m     2 stops         No info   7662   \n",
              "2    09:25  04:25 10 Jun      19h     2 stops         No info  13882   \n",
              "\n",
              "   Day_of_Journey  Month_of_Journey  \n",
              "0              24                 3  \n",
              "1               5                 1  \n",
              "2               6                 9  "
            ]
          },
          "execution_count": 110,
          "metadata": {},
          "output_type": "execute_result"
        }
      ]
    },
    {
      "cell_type": "code",
      "metadata": {
        "id": "WFw342zoIyhF"
      },
      "source": [
        "#we can now drop the Date_of_journey\n",
        "df.drop([\"Date_of_Journey\"],axis=1,inplace=True)"
      ],
      "execution_count": null,
      "outputs": []
    },
    {
      "cell_type": "markdown",
      "metadata": {
        "id": "hZum589tIyhI"
      },
      "source": [
        "<br>\n",
        "\n",
        "## Duration Time"
      ]
    },
    {
      "cell_type": "code",
      "metadata": {
        "id": "fWBpNmW1IyhI"
      },
      "source": [
        "duration=df['Duration'].str.split(' ',expand=True) #split duration datapoints based on space ' '\n",
        "duration[1].fillna('00m',inplace=True)   #fill all \"NAN\" with '00m'\n",
        "df['duration_hr']=duration[0].apply(lambda x: x[:-1]) #select the item at index o and leave the last one (in this case the 'h')\n",
        "df['duration_min']=duration[1].apply(lambda x: x[:-1]) #select the item at index 1 and leave the last one (in this case the 'm')"
      ],
      "execution_count": null,
      "outputs": []
    },
    {
      "cell_type": "code",
      "metadata": {
        "id": "3AFIbe79IyhJ"
      },
      "source": [
        "#we can now drop the 'Duration'\n",
        "\n",
        "df.drop([\"Duration\"],axis=1,inplace=True)"
      ],
      "execution_count": null,
      "outputs": []
    },
    {
      "cell_type": "code",
      "metadata": {
        "id": "AzwqMYX9IyhJ",
        "outputId": "48cdd2f1-0468-4ec1-c303-51d043a8421c"
      },
      "source": [
        "df.head(3)"
      ],
      "execution_count": null,
      "outputs": [
        {
          "data": {
            "text/html": [
              "<div>\n",
              "<style scoped>\n",
              "    .dataframe tbody tr th:only-of-type {\n",
              "        vertical-align: middle;\n",
              "    }\n",
              "\n",
              "    .dataframe tbody tr th {\n",
              "        vertical-align: top;\n",
              "    }\n",
              "\n",
              "    .dataframe thead th {\n",
              "        text-align: right;\n",
              "    }\n",
              "</style>\n",
              "<table border=\"1\" class=\"dataframe\">\n",
              "  <thead>\n",
              "    <tr style=\"text-align: right;\">\n",
              "      <th></th>\n",
              "      <th>Airline</th>\n",
              "      <th>Source</th>\n",
              "      <th>Destination</th>\n",
              "      <th>Route</th>\n",
              "      <th>Total_Stops</th>\n",
              "      <th>Additional_Info</th>\n",
              "      <th>Price</th>\n",
              "      <th>Day_of_Journey</th>\n",
              "      <th>Month_of_Journey</th>\n",
              "      <th>Dep_hr</th>\n",
              "      <th>Dep_min</th>\n",
              "      <th>Arrival_hr</th>\n",
              "      <th>Arrival_min</th>\n",
              "      <th>duration_hr</th>\n",
              "      <th>duration_min</th>\n",
              "    </tr>\n",
              "  </thead>\n",
              "  <tbody>\n",
              "    <tr>\n",
              "      <th>0</th>\n",
              "      <td>IndiGo</td>\n",
              "      <td>Banglore</td>\n",
              "      <td>New Delhi</td>\n",
              "      <td>BLR → DEL</td>\n",
              "      <td>non-stop</td>\n",
              "      <td>No info</td>\n",
              "      <td>3897</td>\n",
              "      <td>24</td>\n",
              "      <td>3</td>\n",
              "      <td>22</td>\n",
              "      <td>20</td>\n",
              "      <td>1</td>\n",
              "      <td>10</td>\n",
              "      <td>2</td>\n",
              "      <td>50</td>\n",
              "    </tr>\n",
              "    <tr>\n",
              "      <th>1</th>\n",
              "      <td>Air India</td>\n",
              "      <td>Kolkata</td>\n",
              "      <td>Banglore</td>\n",
              "      <td>CCU → IXR → BBI → BLR</td>\n",
              "      <td>2 stops</td>\n",
              "      <td>No info</td>\n",
              "      <td>7662</td>\n",
              "      <td>5</td>\n",
              "      <td>1</td>\n",
              "      <td>5</td>\n",
              "      <td>50</td>\n",
              "      <td>13</td>\n",
              "      <td>15</td>\n",
              "      <td>7</td>\n",
              "      <td>25</td>\n",
              "    </tr>\n",
              "    <tr>\n",
              "      <th>2</th>\n",
              "      <td>Jet Airways</td>\n",
              "      <td>Delhi</td>\n",
              "      <td>Cochin</td>\n",
              "      <td>DEL → LKO → BOM → COK</td>\n",
              "      <td>2 stops</td>\n",
              "      <td>No info</td>\n",
              "      <td>13882</td>\n",
              "      <td>6</td>\n",
              "      <td>9</td>\n",
              "      <td>9</td>\n",
              "      <td>25</td>\n",
              "      <td>4</td>\n",
              "      <td>25</td>\n",
              "      <td>19</td>\n",
              "      <td>00</td>\n",
              "    </tr>\n",
              "  </tbody>\n",
              "</table>\n",
              "</div>"
            ],
            "text/plain": [
              "       Airline    Source Destination                  Route Total_Stops  \\\n",
              "0       IndiGo  Banglore   New Delhi              BLR → DEL    non-stop   \n",
              "1    Air India   Kolkata    Banglore  CCU → IXR → BBI → BLR     2 stops   \n",
              "2  Jet Airways     Delhi      Cochin  DEL → LKO → BOM → COK     2 stops   \n",
              "\n",
              "  Additional_Info  Price  Day_of_Journey  Month_of_Journey  Dep_hr  Dep_min  \\\n",
              "0         No info   3897              24                 3      22       20   \n",
              "1         No info   7662               5                 1       5       50   \n",
              "2         No info  13882               6                 9       9       25   \n",
              "\n",
              "   Arrival_hr  Arrival_min duration_hr duration_min  \n",
              "0           1           10           2           50  \n",
              "1          13           15           7           25  \n",
              "2           4           25          19           00  "
            ]
          },
          "execution_count": 118,
          "metadata": {},
          "output_type": "execute_result"
        }
      ]
    },
    {
      "cell_type": "markdown",
      "metadata": {
        "id": "MysAe5QNIyhJ"
      },
      "source": [
        "<br>"
      ]
    },
    {
      "cell_type": "code",
      "metadata": {
        "id": "p0tlfeJnIyhJ",
        "outputId": "59f4303f-ccea-459a-b284-1a5737bdb90b"
      },
      "source": [
        "cf.set_config_file(theme='ggplot',sharing='public',offline=True)"
      ],
      "execution_count": null,
      "outputs": [
        {
          "data": {
            "text/html": [
              "        <script type=\"text/javascript\">\n",
              "        window.PlotlyConfig = {MathJaxConfig: 'local'};\n",
              "        if (window.MathJax) {MathJax.Hub.Config({SVG: {font: \"STIX-Web\"}});}\n",
              "        if (typeof require !== 'undefined') {\n",
              "        require.undef(\"plotly\");\n",
              "        requirejs.config({\n",
              "            paths: {\n",
              "                'plotly': ['https://cdn.plot.ly/plotly-latest.min']\n",
              "            }\n",
              "        });\n",
              "        require(['plotly'], function(Plotly) {\n",
              "            window._Plotly = Plotly;\n",
              "        });\n",
              "        }\n",
              "        </script>\n",
              "        "
            ]
          },
          "metadata": {},
          "output_type": "display_data"
        }
      ]
    },
    {
      "cell_type": "markdown",
      "metadata": {
        "id": "FmVvb8pvIyhG"
      },
      "source": [
        "<br>\n",
        "Let's do the same for the other relative columns\n",
        "<br>\n",
        "\n",
        "## Dep_time"
      ]
    },
    {
      "cell_type": "code",
      "metadata": {
        "id": "b2Qj9aEVIyhG"
      },
      "source": [
        "#covert to datetime\n",
        "df['Dep_hr']=pd.to_datetime(df['Dep_Time']).dt.hour\n",
        "df['Dep_min']=pd.to_datetime(df['Dep_Time']).dt.minute"
      ],
      "execution_count": null,
      "outputs": []
    },
    {
      "cell_type": "code",
      "metadata": {
        "id": "3QAlPEHlIyhH"
      },
      "source": [
        "#we can now drop the 'Dep_Time'\n",
        "\n",
        "df.drop([\"Dep_Time\"],axis=1,inplace=True)"
      ],
      "execution_count": null,
      "outputs": []
    },
    {
      "cell_type": "markdown",
      "metadata": {
        "id": "xihjY4-HIyhM"
      },
      "source": [
        "<br>\n",
        "\n",
        "## Price based on number of stops"
      ]
    },
    {
      "cell_type": "code",
      "metadata": {
        "id": "LmrruttnIyhM",
        "outputId": "67fec1bd-23e1-4ccd-909e-a4973da69464"
      },
      "source": [
        "df.groupby(['Airline','Total_Stops'])['Price'].mean()"
      ],
      "execution_count": null,
      "outputs": [
        {
          "data": {
            "text/plain": [
              "Airline                            Total_Stops\n",
              "Air Asia                           1 stop          7078.325581\n",
              "                                   2 stops         6341.888889\n",
              "                                   non-stop        4492.331492\n",
              "Air India                          1 stop          9041.509259\n",
              "                                   2 stops        12092.779101\n",
              "                                   3 stops        12208.054054\n",
              "                                   4 stops        17686.000000\n",
              "                                   non-stop        5605.326139\n",
              "GoAir                              1 stop          6884.676471\n",
              "                                   non-stop        4726.173913\n",
              "IndiGo                             1 stop          7104.717528\n",
              "                                   2 stops         7507.526316\n",
              "                                   non-stop        4731.174053\n",
              "Jet Airways                        1 stop         12512.741223\n",
              "                                   2 stops        13387.247467\n",
              "                                   non-stop        6175.078652\n",
              "Jet Airways Business               1 stop         62844.250000\n",
              "                                   2 stops        49387.500000\n",
              "Multiple carriers                  1 stop         10711.316157\n",
              "                                   2 stops        14809.395349\n",
              "                                   3 stops        17292.750000\n",
              "Multiple carriers Premium economy  1 stop         11418.846154\n",
              "SpiceJet                           1 stop          6750.560811\n",
              "                                   non-stop        3805.423881\n",
              "Trujet                             1 stop          4140.000000\n",
              "Vistara                            1 stop          9641.148837\n",
              "                                   non-stop        6293.954545\n",
              "Vistara Premium economy            non-stop        8962.333333\n",
              "Name: Price, dtype: float64"
            ]
          },
          "execution_count": 123,
          "metadata": {},
          "output_type": "execute_result"
        }
      ]
    },
    {
      "cell_type": "code",
      "metadata": {
        "id": "Ez_wHSRmIyhN",
        "outputId": "3380b83d-fc8c-4810-c585-d9ae610d4fd3"
      },
      "source": [
        "plt.figure(figsize=(18,10))\n",
        "ax=sns.barplot(x=df['Airline'],y=df['Price'],hue=df['Total_Stops'],palette=\"Set1\")\n",
        "ax.set_xticklabels(ax.get_xticklabels(),rotation=90)\n",
        "plt.show()"
      ],
      "execution_count": null,
      "outputs": [
        {
          "data": {
            "image/png": "[encoded data removed]",
            "text/plain": [
              "<Figure size 1296x720 with 1 Axes>"
            ]
          },
          "metadata": {
            "needs_background": "light"
          },
          "output_type": "display_data"
        }
      ]
    },
    {
      "cell_type": "markdown",
      "metadata": {
        "id": "dV5g1MB4IyhN"
      },
      "source": [
        "**One stop and two stpos Jet Airways Business is having the highest price**\n",
        "\n",
        "<br>"
      ]
    },
    {
      "cell_type": "code",
      "metadata": {
        "id": "bG6ygUGRIyhN",
        "outputId": "37e8e48f-11a4-47c5-87fa-c3f794de6170"
      },
      "source": [
        "df['Source'].value_counts()"
      ],
      "execution_count": null,
      "outputs": [
        {
          "data": {
            "text/plain": [
              "Delhi       4536\n",
              "Kolkata     2871\n",
              "Banglore    2197\n",
              "Mumbai       697\n",
              "Chennai      381\n",
              "Name: Source, dtype: int64"
            ]
          },
          "execution_count": 125,
          "metadata": {},
          "output_type": "execute_result"
        }
      ]
    },
    {
      "cell_type": "markdown",
      "metadata": {
        "id": "URCzfAYjIyhK"
      },
      "source": [
        "## Count of Airlines"
      ]
    },
    {
      "cell_type": "code",
      "metadata": {
        "id": "DMYEWIE6IyhK",
        "outputId": "1d84ee2c-62ee-47e1-b542-e9ec1f24672a"
      },
      "source": [
        "df['Airline'].value_counts()"
      ],
      "execution_count": null,
      "outputs": [
        {
          "data": {
            "text/plain": [
              "Jet Airways                          3849\n",
              "IndiGo                               2053\n",
              "Air India                            1751\n",
              "Multiple carriers                    1196\n",
              "SpiceJet                              818\n",
              "Vistara                               479\n",
              "Air Asia                              319\n",
              "GoAir                                 194\n",
              "Multiple carriers Premium economy      13\n",
              "Jet Airways Business                    6\n",
              "Vistara Premium economy                 3\n",
              "Trujet                                  1\n",
              "Name: Airline, dtype: int64"
            ]
          },
          "execution_count": 120,
          "metadata": {},
          "output_type": "execute_result"
        }
      ]
    },
    {
      "cell_type": "markdown",
      "metadata": {
        "id": "9DaDgDH9IyhL"
      },
      "source": [
        "<br>\n",
        "\n",
        "## Airline vs Price"
      ]
    },
    {
      "cell_type": "code",
      "metadata": {
        "id": "A1IKMVMYIyhL",
        "outputId": "8d7c4631-b72a-408f-e6e1-7c80f578553b"
      },
      "source": [
        "Airprices=df.groupby('Airline')['Price'].mean().sort_values(ascending=False)\n",
        "plt.figure(figsize=(15,10))\n",
        "sns.barplot(Airprices.index,Airprices.values)\n",
        "plt.xticks(rotation=270)"
      ],
      "execution_count": null,
      "outputs": [
        {
          "data": {
            "text/plain": [
              "(array([ 0,  1,  2,  3,  4,  5,  6,  7,  8,  9, 10, 11]),\n",
              " <a list of 12 Text major ticklabel objects>)"
            ]
          },
          "execution_count": 121,
          "metadata": {},
          "output_type": "execute_result"
        },
        {
          "data": {
            "image/png": "[encoded data removed]",
            "text/plain": [
              "<Figure size 1080x720 with 1 Axes>"
            ]
          },
          "metadata": {
            "needs_background": "light"
          },
          "output_type": "display_data"
        }
      ]
    },
    {
      "cell_type": "markdown",
      "metadata": {
        "id": "HRuKFd8YIyhL"
      },
      "source": [
        "**Jet Airways Business has the highest price with Trujet having the lowest**"
      ]
    },
    {
      "cell_type": "code",
      "metadata": {
        "id": "_7wXg6LTIyhM",
        "outputId": "26bf3d09-8167-449b-9bfd-b4bf6bb881ee"
      },
      "source": [
        "plt.figure(figsize=(18,10))\n",
        "sns.boxplot(y='Price',x='Airline',data= df.sort_values('Price',ascending=False))\n",
        "plt.show"
      ],
      "execution_count": null,
      "outputs": [
        {
          "data": {
            "text/plain": [
              "<function matplotlib.pyplot.show(*args, **kw)>"
            ]
          },
          "execution_count": 122,
          "metadata": {},
          "output_type": "execute_result"
        },
        {
          "data": {
            "image/png": "[encoded data removed]",
            "text/plain": [
              "<Figure size 1296x720 with 1 Axes>"
            ]
          },
          "metadata": {
            "needs_background": "light"
          },
          "output_type": "display_data"
        }
      ]
    },
    {
      "cell_type": "markdown",
      "metadata": {
        "id": "vwnNFN-GIyhO"
      },
      "source": [
        "<br>\n",
        "\n",
        "## Destination vs Price"
      ]
    },
    {
      "cell_type": "code",
      "metadata": {
        "id": "KIivxd2cIyhO",
        "outputId": "3525f131-6f9b-43c9-9c22-2dc5a004056f"
      },
      "source": [
        "plt.figure(figsize=(15,10))\n",
        "sns.barplot(y='Price',x='Destination',data=df.sort_values('Price',ascending=False))\n",
        "plt.show"
      ],
      "execution_count": null,
      "outputs": [
        {
          "data": {
            "text/plain": [
              "<function matplotlib.pyplot.show(*args, **kw)>"
            ]
          },
          "execution_count": 127,
          "metadata": {},
          "output_type": "execute_result"
        },
        {
          "data": {
            "image/png": "[encoded data removed]",
            "text/plain": [
              "<Figure size 1080x720 with 1 Axes>"
            ]
          },
          "metadata": {
            "needs_background": "light"
          },
          "output_type": "display_data"
        }
      ]
    },
    {
      "cell_type": "code",
      "metadata": {
        "id": "v2adBak1IyhO",
        "outputId": "b5bd4603-59a5-477e-e25e-86a007c4389f"
      },
      "source": [
        "df['Destination'].value_counts()"
      ],
      "execution_count": null,
      "outputs": [
        {
          "data": {
            "text/plain": [
              "Cochin       4536\n",
              "Banglore     2871\n",
              "Delhi        1265\n",
              "New Delhi     932\n",
              "Hyderabad     697\n",
              "Kolkata       381\n",
              "Name: Destination, dtype: int64"
            ]
          },
          "execution_count": 128,
          "metadata": {},
          "output_type": "execute_result"
        }
      ]
    },
    {
      "cell_type": "code",
      "metadata": {
        "id": "5pZSOS5NIyhP"
      },
      "source": [
        "for i in df:\n",
        "    df.replace('New Delhi','Delhi',inplace=True)"
      ],
      "execution_count": null,
      "outputs": []
    },
    {
      "cell_type": "code",
      "metadata": {
        "id": "pKD9YnBCIyhP",
        "outputId": "242a5093-d27c-44e4-84fa-7976039a612f"
      },
      "source": [
        "df['Destination'].unique()"
      ],
      "execution_count": null,
      "outputs": [
        {
          "data": {
            "text/plain": [
              "array(['Delhi', 'Banglore', 'Cochin', 'Kolkata', 'Hyderabad'],\n",
              "      dtype=object)"
            ]
          },
          "execution_count": 130,
          "metadata": {},
          "output_type": "execute_result"
        }
      ]
    },
    {
      "cell_type": "code",
      "metadata": {
        "id": "9Yp6dyT6IyhP",
        "outputId": "6391b2af-2d1c-4326-c8ac-a48e57170fba"
      },
      "source": [
        "plt.figure(figsize=(15,10))\n",
        "sns.barplot(y='Price',x='Destination',data=df.sort_values('Price',ascending=False))\n",
        "plt.show"
      ],
      "execution_count": null,
      "outputs": [
        {
          "data": {
            "text/plain": [
              "<function matplotlib.pyplot.show(*args, **kw)>"
            ]
          },
          "execution_count": 131,
          "metadata": {},
          "output_type": "execute_result"
        },
        {
          "data": {
            "image/png": "[encoded data removed]",
            "text/plain": [
              "<Figure size 1080x720 with 1 Axes>"
            ]
          },
          "metadata": {
            "needs_background": "light"
          },
          "output_type": "display_data"
        }
      ]
    },
    {
      "cell_type": "code",
      "metadata": {
        "id": "40UdBhVOIyhQ",
        "outputId": "61b9bef1-dc8c-4824-ca3d-d0066a55c651"
      },
      "source": [
        "df['Destination'].value_counts()"
      ],
      "execution_count": null,
      "outputs": [
        {
          "data": {
            "text/plain": [
              "Cochin       4536\n",
              "Banglore     2871\n",
              "Delhi        2197\n",
              "Hyderabad     697\n",
              "Kolkata       381\n",
              "Name: Destination, dtype: int64"
            ]
          },
          "execution_count": 132,
          "metadata": {},
          "output_type": "execute_result"
        }
      ]
    },
    {
      "cell_type": "code",
      "metadata": {
        "id": "24ELxWBwIyhQ",
        "outputId": "43735b99-5404-44d5-8b50-d75be4bbe7f9"
      },
      "source": [
        "plt.figure(figsize=(23,12))\n",
        "sns.heatmap(df.corr(),annot=True)"
      ],
      "execution_count": null,
      "outputs": [
        {
          "data": {
            "text/plain": [
              "<matplotlib.axes._subplots.AxesSubplot at 0x1a2b061b90>"
            ]
          },
          "execution_count": 149,
          "metadata": {},
          "output_type": "execute_result"
        },
        {
          "data": {
            "image/png": "[encoded data removed]",
            "text/plain": [
              "<Figure size 1656x864 with 2 Axes>"
            ]
          },
          "metadata": {
            "needs_background": "light"
          },
          "output_type": "display_data"
        }
      ]
    },
    {
      "cell_type": "markdown",
      "metadata": {
        "id": "8blIK-PYIyhQ"
      },
      "source": [
        "The features are less correlated which is a good thing for us to avoid **Multicollinearity**"
      ]
    },
    {
      "cell_type": "markdown",
      "metadata": {
        "id": "3mgMtZ4rIyhN"
      },
      "source": [
        "<br>\n",
        "\n",
        "## Source vs Price"
      ]
    },
    {
      "cell_type": "code",
      "metadata": {
        "id": "DDUGi_eAIyhO",
        "outputId": "21afbff7-d15b-4e9f-8040-24f843467078"
      },
      "source": [
        "plt.figure(figsize=(15,10))\n",
        "sns.barplot(y='Price',x='Source',data=df.sort_values('Price',ascending=False))\n",
        "plt.show"
      ],
      "execution_count": null,
      "outputs": [
        {
          "data": {
            "text/plain": [
              "<function matplotlib.pyplot.show(*args, **kw)>"
            ]
          },
          "execution_count": 126,
          "metadata": {},
          "output_type": "execute_result"
        },
        {
          "data": {
            "image/png": "[encoded data removed]",
            "text/plain": [
              "<Figure size 1080x720 with 1 Axes>"
            ]
          },
          "metadata": {
            "needs_background": "light"
          },
          "output_type": "display_data"
        }
      ]
    },
    {
      "cell_type": "markdown",
      "metadata": {
        "id": "dxmFji-GIyhR"
      },
      "source": [
        "<br>\n",
        "<br>\n",
        "\n",
        "## Apply Onehot Encoding on the categorical variables"
      ]
    },
    {
      "cell_type": "code",
      "metadata": {
        "id": "WKzG3gs8IyhR"
      },
      "source": [
        "#Handling Categorical Values \n",
        "df['Total_Stops']=df['Total_Stops'].map({'non-stop':0, '2 stops':2, '1 stop':1, '3 stops':3, '4 stops':4})\n",
        "air_dummy=pd.get_dummies(df['Airline'],drop_first=True)\n",
        "# print(df['Source'].value_counts())\n",
        "# print(df['Destination'].value_counts())\n",
        "\n",
        "source_dest_dummy=pd.get_dummies(df[['Source','Destination']],drop_first=True)\n",
        "df=pd.concat([air_dummy,source_dest_dummy,df],axis=1)"
      ],
      "execution_count": null,
      "outputs": []
    },
    {
      "cell_type": "code",
      "metadata": {
        "id": "Hah3qYtzIyhR"
      },
      "source": [
        "df.drop(['Airline','Source','Destination'],inplace=True,axis=1)"
      ],
      "execution_count": null,
      "outputs": []
    },
    {
      "cell_type": "code",
      "metadata": {
        "id": "WPUcd1q-IyhS",
        "outputId": "87f9d487-95fe-4878-f24b-920277605738"
      },
      "source": [
        "df.head()"
      ],
      "execution_count": null,
      "outputs": [
        {
          "data": {
            "text/html": [
              "<div>\n",
              "<style scoped>\n",
              "    .dataframe tbody tr th:only-of-type {\n",
              "        vertical-align: middle;\n",
              "    }\n",
              "\n",
              "    .dataframe tbody tr th {\n",
              "        vertical-align: top;\n",
              "    }\n",
              "\n",
              "    .dataframe thead th {\n",
              "        text-align: right;\n",
              "    }\n",
              "</style>\n",
              "<table border=\"1\" class=\"dataframe\">\n",
              "  <thead>\n",
              "    <tr style=\"text-align: right;\">\n",
              "      <th></th>\n",
              "      <th>Air India</th>\n",
              "      <th>GoAir</th>\n",
              "      <th>IndiGo</th>\n",
              "      <th>Jet Airways</th>\n",
              "      <th>Jet Airways Business</th>\n",
              "      <th>Multiple carriers</th>\n",
              "      <th>Multiple carriers Premium economy</th>\n",
              "      <th>SpiceJet</th>\n",
              "      <th>Trujet</th>\n",
              "      <th>Vistara</th>\n",
              "      <th>...</th>\n",
              "      <th>Additional_Info</th>\n",
              "      <th>Price</th>\n",
              "      <th>Day_of_Journey</th>\n",
              "      <th>Month_of_Journey</th>\n",
              "      <th>Dep_hr</th>\n",
              "      <th>Dep_min</th>\n",
              "      <th>Arrival_hr</th>\n",
              "      <th>Arrival_min</th>\n",
              "      <th>duration_hr</th>\n",
              "      <th>duration_min</th>\n",
              "    </tr>\n",
              "  </thead>\n",
              "  <tbody>\n",
              "    <tr>\n",
              "      <th>0</th>\n",
              "      <td>0</td>\n",
              "      <td>0</td>\n",
              "      <td>1</td>\n",
              "      <td>0</td>\n",
              "      <td>0</td>\n",
              "      <td>0</td>\n",
              "      <td>0</td>\n",
              "      <td>0</td>\n",
              "      <td>0</td>\n",
              "      <td>0</td>\n",
              "      <td>...</td>\n",
              "      <td>No info</td>\n",
              "      <td>3897</td>\n",
              "      <td>24</td>\n",
              "      <td>3</td>\n",
              "      <td>22</td>\n",
              "      <td>20</td>\n",
              "      <td>1</td>\n",
              "      <td>10</td>\n",
              "      <td>2</td>\n",
              "      <td>50</td>\n",
              "    </tr>\n",
              "    <tr>\n",
              "      <th>1</th>\n",
              "      <td>1</td>\n",
              "      <td>0</td>\n",
              "      <td>0</td>\n",
              "      <td>0</td>\n",
              "      <td>0</td>\n",
              "      <td>0</td>\n",
              "      <td>0</td>\n",
              "      <td>0</td>\n",
              "      <td>0</td>\n",
              "      <td>0</td>\n",
              "      <td>...</td>\n",
              "      <td>No info</td>\n",
              "      <td>7662</td>\n",
              "      <td>5</td>\n",
              "      <td>1</td>\n",
              "      <td>5</td>\n",
              "      <td>50</td>\n",
              "      <td>13</td>\n",
              "      <td>15</td>\n",
              "      <td>7</td>\n",
              "      <td>25</td>\n",
              "    </tr>\n",
              "    <tr>\n",
              "      <th>2</th>\n",
              "      <td>0</td>\n",
              "      <td>0</td>\n",
              "      <td>0</td>\n",
              "      <td>1</td>\n",
              "      <td>0</td>\n",
              "      <td>0</td>\n",
              "      <td>0</td>\n",
              "      <td>0</td>\n",
              "      <td>0</td>\n",
              "      <td>0</td>\n",
              "      <td>...</td>\n",
              "      <td>No info</td>\n",
              "      <td>13882</td>\n",
              "      <td>6</td>\n",
              "      <td>9</td>\n",
              "      <td>9</td>\n",
              "      <td>25</td>\n",
              "      <td>4</td>\n",
              "      <td>25</td>\n",
              "      <td>19</td>\n",
              "      <td>00</td>\n",
              "    </tr>\n",
              "    <tr>\n",
              "      <th>3</th>\n",
              "      <td>0</td>\n",
              "      <td>0</td>\n",
              "      <td>1</td>\n",
              "      <td>0</td>\n",
              "      <td>0</td>\n",
              "      <td>0</td>\n",
              "      <td>0</td>\n",
              "      <td>0</td>\n",
              "      <td>0</td>\n",
              "      <td>0</td>\n",
              "      <td>...</td>\n",
              "      <td>No info</td>\n",
              "      <td>6218</td>\n",
              "      <td>5</td>\n",
              "      <td>12</td>\n",
              "      <td>18</td>\n",
              "      <td>5</td>\n",
              "      <td>23</td>\n",
              "      <td>30</td>\n",
              "      <td>5</td>\n",
              "      <td>25</td>\n",
              "    </tr>\n",
              "    <tr>\n",
              "      <th>4</th>\n",
              "      <td>0</td>\n",
              "      <td>0</td>\n",
              "      <td>1</td>\n",
              "      <td>0</td>\n",
              "      <td>0</td>\n",
              "      <td>0</td>\n",
              "      <td>0</td>\n",
              "      <td>0</td>\n",
              "      <td>0</td>\n",
              "      <td>0</td>\n",
              "      <td>...</td>\n",
              "      <td>No info</td>\n",
              "      <td>13302</td>\n",
              "      <td>3</td>\n",
              "      <td>1</td>\n",
              "      <td>16</td>\n",
              "      <td>50</td>\n",
              "      <td>21</td>\n",
              "      <td>35</td>\n",
              "      <td>4</td>\n",
              "      <td>45</td>\n",
              "    </tr>\n",
              "  </tbody>\n",
              "</table>\n",
              "<p>5 rows × 31 columns</p>\n",
              "</div>"
            ],
            "text/plain": [
              "   Air India  GoAir  IndiGo  Jet Airways  Jet Airways Business  \\\n",
              "0          0      0       1            0                     0   \n",
              "1          1      0       0            0                     0   \n",
              "2          0      0       0            1                     0   \n",
              "3          0      0       1            0                     0   \n",
              "4          0      0       1            0                     0   \n",
              "\n",
              "   Multiple carriers  Multiple carriers Premium economy  SpiceJet  Trujet  \\\n",
              "0                  0                                  0         0       0   \n",
              "1                  0                                  0         0       0   \n",
              "2                  0                                  0         0       0   \n",
              "3                  0                                  0         0       0   \n",
              "4                  0                                  0         0       0   \n",
              "\n",
              "   Vistara  ...  Additional_Info  Price  Day_of_Journey  Month_of_Journey  \\\n",
              "0        0  ...          No info   3897              24                 3   \n",
              "1        0  ...          No info   7662               5                 1   \n",
              "2        0  ...          No info  13882               6                 9   \n",
              "3        0  ...          No info   6218               5                12   \n",
              "4        0  ...          No info  13302               3                 1   \n",
              "\n",
              "   Dep_hr  Dep_min  Arrival_hr  Arrival_min  duration_hr duration_min  \n",
              "0      22       20           1           10            2           50  \n",
              "1       5       50          13           15            7           25  \n",
              "2       9       25           4           25           19           00  \n",
              "3      18        5          23           30            5           25  \n",
              "4      16       50          21           35            4           45  \n",
              "\n",
              "[5 rows x 31 columns]"
            ]
          },
          "execution_count": 135,
          "metadata": {},
          "output_type": "execute_result"
        }
      ]
    },
    {
      "cell_type": "code",
      "metadata": {
        "id": "3MpNb3CKIyhS",
        "outputId": "a1bf389c-b290-475f-edf0-501aeb125ad7"
      },
      "source": [
        "df.shape"
      ],
      "execution_count": null,
      "outputs": [
        {
          "data": {
            "text/plain": [
              "(10682, 31)"
            ]
          },
          "execution_count": 136,
          "metadata": {},
          "output_type": "execute_result"
        }
      ]
    },
    {
      "cell_type": "markdown",
      "metadata": {
        "id": "MYrugEtuIyhT"
      },
      "source": [
        "<br>\n",
        "<br>\n",
        "<br>\n",
        "<br>"
      ]
    },
    {
      "cell_type": "markdown",
      "metadata": {
        "id": "PSRQAToNIyhT"
      },
      "source": [
        "# **Test Data**"
      ]
    },
    {
      "cell_type": "code",
      "metadata": {
        "id": "92ecN80KIyhU",
        "outputId": "05b472e0-a98f-49cd-f4ea-91d5fcf9308e"
      },
      "source": [
        "df_test.head()"
      ],
      "execution_count": null,
      "outputs": [
        {
          "data": {
            "text/html": [
              "<div>\n",
              "<style scoped>\n",
              "    .dataframe tbody tr th:only-of-type {\n",
              "        vertical-align: middle;\n",
              "    }\n",
              "\n",
              "    .dataframe tbody tr th {\n",
              "        vertical-align: top;\n",
              "    }\n",
              "\n",
              "    .dataframe thead th {\n",
              "        text-align: right;\n",
              "    }\n",
              "</style>\n",
              "<table border=\"1\" class=\"dataframe\">\n",
              "  <thead>\n",
              "    <tr style=\"text-align: right;\">\n",
              "      <th></th>\n",
              "      <th>Airline</th>\n",
              "      <th>Date_of_Journey</th>\n",
              "      <th>Source</th>\n",
              "      <th>Destination</th>\n",
              "      <th>Route</th>\n",
              "      <th>Dep_Time</th>\n",
              "      <th>Arrival_Time</th>\n",
              "      <th>Duration</th>\n",
              "      <th>Total_Stops</th>\n",
              "      <th>Additional_Info</th>\n",
              "    </tr>\n",
              "  </thead>\n",
              "  <tbody>\n",
              "    <tr>\n",
              "      <th>0</th>\n",
              "      <td>Jet Airways</td>\n",
              "      <td>6/06/2019</td>\n",
              "      <td>Delhi</td>\n",
              "      <td>Cochin</td>\n",
              "      <td>DEL → BOM → COK</td>\n",
              "      <td>17:30</td>\n",
              "      <td>04:25 07 Jun</td>\n",
              "      <td>10h 55m</td>\n",
              "      <td>1 stop</td>\n",
              "      <td>No info</td>\n",
              "    </tr>\n",
              "    <tr>\n",
              "      <th>1</th>\n",
              "      <td>IndiGo</td>\n",
              "      <td>12/05/2019</td>\n",
              "      <td>Kolkata</td>\n",
              "      <td>Banglore</td>\n",
              "      <td>CCU → MAA → BLR</td>\n",
              "      <td>06:20</td>\n",
              "      <td>10:20</td>\n",
              "      <td>4h</td>\n",
              "      <td>1 stop</td>\n",
              "      <td>No info</td>\n",
              "    </tr>\n",
              "    <tr>\n",
              "      <th>2</th>\n",
              "      <td>Jet Airways</td>\n",
              "      <td>21/05/2019</td>\n",
              "      <td>Delhi</td>\n",
              "      <td>Cochin</td>\n",
              "      <td>DEL → BOM → COK</td>\n",
              "      <td>19:15</td>\n",
              "      <td>19:00 22 May</td>\n",
              "      <td>23h 45m</td>\n",
              "      <td>1 stop</td>\n",
              "      <td>In-flight meal not included</td>\n",
              "    </tr>\n",
              "    <tr>\n",
              "      <th>3</th>\n",
              "      <td>Multiple carriers</td>\n",
              "      <td>21/05/2019</td>\n",
              "      <td>Delhi</td>\n",
              "      <td>Cochin</td>\n",
              "      <td>DEL → BOM → COK</td>\n",
              "      <td>08:00</td>\n",
              "      <td>21:00</td>\n",
              "      <td>13h</td>\n",
              "      <td>1 stop</td>\n",
              "      <td>No info</td>\n",
              "    </tr>\n",
              "    <tr>\n",
              "      <th>4</th>\n",
              "      <td>Air Asia</td>\n",
              "      <td>24/06/2019</td>\n",
              "      <td>Banglore</td>\n",
              "      <td>Delhi</td>\n",
              "      <td>BLR → DEL</td>\n",
              "      <td>23:55</td>\n",
              "      <td>02:45 25 Jun</td>\n",
              "      <td>2h 50m</td>\n",
              "      <td>non-stop</td>\n",
              "      <td>No info</td>\n",
              "    </tr>\n",
              "  </tbody>\n",
              "</table>\n",
              "</div>"
            ],
            "text/plain": [
              "             Airline Date_of_Journey    Source Destination            Route  \\\n",
              "0        Jet Airways       6/06/2019     Delhi      Cochin  DEL → BOM → COK   \n",
              "1             IndiGo      12/05/2019   Kolkata    Banglore  CCU → MAA → BLR   \n",
              "2        Jet Airways      21/05/2019     Delhi      Cochin  DEL → BOM → COK   \n",
              "3  Multiple carriers      21/05/2019     Delhi      Cochin  DEL → BOM → COK   \n",
              "4           Air Asia      24/06/2019  Banglore       Delhi        BLR → DEL   \n",
              "\n",
              "  Dep_Time  Arrival_Time Duration Total_Stops              Additional_Info  \n",
              "0    17:30  04:25 07 Jun  10h 55m      1 stop                      No info  \n",
              "1    06:20         10:20       4h      1 stop                      No info  \n",
              "2    19:15  19:00 22 May  23h 45m      1 stop  In-flight meal not included  \n",
              "3    08:00         21:00      13h      1 stop                      No info  \n",
              "4    23:55  02:45 25 Jun   2h 50m    non-stop                      No info  "
            ]
          },
          "execution_count": 138,
          "metadata": {},
          "output_type": "execute_result"
        }
      ]
    },
    {
      "cell_type": "markdown",
      "metadata": {
        "id": "ahI4947KIyhU"
      },
      "source": [
        "<br>\n",
        "\n",
        "### Let's Perform that same steps as we did for train data earlier"
      ]
    },
    {
      "cell_type": "code",
      "metadata": {
        "id": "9-lzeJD4IyhU"
      },
      "source": [
        "df_test['Date_of_Journey']=pd.to_datetime(df_test['Date_of_Journey'])\n",
        "df_test['Day_of_Journey']=(df_test['Date_of_Journey']).dt.day\n",
        "df_test['Month_of_Journey']=(df_test['Date_of_Journey']).dt.month\n",
        "\n",
        "#Dep_time \n",
        "df_test['Dep_hr']=pd.to_datetime(df_test['Dep_Time']).dt.hour\n",
        "df_test['Dep_min']=pd.to_datetime(df_test['Dep_Time']).dt.minute\n",
        "\n",
        "#Arrival_time\n",
        "df_test['Arrival_hr']=pd.to_datetime(df_test['Arrival_Time']).dt.hour\n",
        "df_test['Arrival_min']=pd.to_datetime(df_test['Arrival_Time']).dt.minute\n",
        "\n",
        "#Splitting duration  time\n",
        "\n",
        "a=df_test['Duration'].str.split(' ',expand=True)\n",
        "a[1].fillna('00m',inplace=True)\n",
        "df_test['dur_hr']=a[0].apply(lambda x: x[:-1])\n",
        "df_test['dur_min']=a[1].apply(lambda x: x[:-1])\n",
        "\n",
        "#dropping the data\n",
        "df_test.drop(['Date_of_Journey','Duration','Arrival_Time','Dep_Time'],inplace=True,axis=1)\n",
        "\n",
        "#Handling Categorical Values \n",
        "df_test['Total_Stops']=df_test['Total_Stops'].map({'non-stop':0, '2 stops':2, '1 stop':1, '3 stops':3, '4 stops':4})\n",
        "\n",
        "air_dummy=pd.get_dummies(df_test['Airline'],drop_first=True)\n",
        "source_dest_dummy=pd.get_dummies(df_test[['Source','Destination']],drop_first=True)\n",
        "df_test=pd.concat([air_dummy,source_dest_dummy,df_test],axis=1)\n"
      ],
      "execution_count": null,
      "outputs": []
    },
    {
      "cell_type": "code",
      "metadata": {
        "id": "rOEXIPYbIyhV"
      },
      "source": [
        "df_test.drop(['Airline','Source','Destination','Additional_Info',\"Route\"],inplace=True,axis=1)"
      ],
      "execution_count": null,
      "outputs": []
    },
    {
      "cell_type": "code",
      "metadata": {
        "id": "GizDA0j4IyhV",
        "outputId": "1f7d1420-e0ed-42e1-db39-91b0e8c4bbe5"
      },
      "source": [
        "print('train_shape',df.shape)\n",
        "print('test_shape',df_test.shape)"
      ],
      "execution_count": null,
      "outputs": [
        {
          "name": "stdout",
          "output_type": "stream",
          "text": [
            "train_shape (10682, 31)\n",
            "test_shape (2671, 28)\n"
          ]
        }
      ]
    },
    {
      "cell_type": "code",
      "metadata": {
        "id": "H5SJESRzIyhV",
        "outputId": "c4899527-87f8-451b-e829-9a337a0e37fe"
      },
      "source": [
        "df.head()"
      ],
      "execution_count": null,
      "outputs": [
        {
          "data": {
            "text/html": [
              "<div>\n",
              "<style scoped>\n",
              "    .dataframe tbody tr th:only-of-type {\n",
              "        vertical-align: middle;\n",
              "    }\n",
              "\n",
              "    .dataframe tbody tr th {\n",
              "        vertical-align: top;\n",
              "    }\n",
              "\n",
              "    .dataframe thead th {\n",
              "        text-align: right;\n",
              "    }\n",
              "</style>\n",
              "<table border=\"1\" class=\"dataframe\">\n",
              "  <thead>\n",
              "    <tr style=\"text-align: right;\">\n",
              "      <th></th>\n",
              "      <th>Air India</th>\n",
              "      <th>GoAir</th>\n",
              "      <th>IndiGo</th>\n",
              "      <th>Jet Airways</th>\n",
              "      <th>Jet Airways Business</th>\n",
              "      <th>Multiple carriers</th>\n",
              "      <th>Multiple carriers Premium economy</th>\n",
              "      <th>SpiceJet</th>\n",
              "      <th>Trujet</th>\n",
              "      <th>Vistara</th>\n",
              "      <th>...</th>\n",
              "      <th>Additional_Info</th>\n",
              "      <th>Price</th>\n",
              "      <th>Day_of_Journey</th>\n",
              "      <th>Month_of_Journey</th>\n",
              "      <th>Dep_hr</th>\n",
              "      <th>Dep_min</th>\n",
              "      <th>Arrival_hr</th>\n",
              "      <th>Arrival_min</th>\n",
              "      <th>duration_hr</th>\n",
              "      <th>duration_min</th>\n",
              "    </tr>\n",
              "  </thead>\n",
              "  <tbody>\n",
              "    <tr>\n",
              "      <th>0</th>\n",
              "      <td>0</td>\n",
              "      <td>0</td>\n",
              "      <td>1</td>\n",
              "      <td>0</td>\n",
              "      <td>0</td>\n",
              "      <td>0</td>\n",
              "      <td>0</td>\n",
              "      <td>0</td>\n",
              "      <td>0</td>\n",
              "      <td>0</td>\n",
              "      <td>...</td>\n",
              "      <td>No info</td>\n",
              "      <td>3897</td>\n",
              "      <td>24</td>\n",
              "      <td>3</td>\n",
              "      <td>22</td>\n",
              "      <td>20</td>\n",
              "      <td>1</td>\n",
              "      <td>10</td>\n",
              "      <td>2</td>\n",
              "      <td>50</td>\n",
              "    </tr>\n",
              "    <tr>\n",
              "      <th>1</th>\n",
              "      <td>1</td>\n",
              "      <td>0</td>\n",
              "      <td>0</td>\n",
              "      <td>0</td>\n",
              "      <td>0</td>\n",
              "      <td>0</td>\n",
              "      <td>0</td>\n",
              "      <td>0</td>\n",
              "      <td>0</td>\n",
              "      <td>0</td>\n",
              "      <td>...</td>\n",
              "      <td>No info</td>\n",
              "      <td>7662</td>\n",
              "      <td>5</td>\n",
              "      <td>1</td>\n",
              "      <td>5</td>\n",
              "      <td>50</td>\n",
              "      <td>13</td>\n",
              "      <td>15</td>\n",
              "      <td>7</td>\n",
              "      <td>25</td>\n",
              "    </tr>\n",
              "    <tr>\n",
              "      <th>2</th>\n",
              "      <td>0</td>\n",
              "      <td>0</td>\n",
              "      <td>0</td>\n",
              "      <td>1</td>\n",
              "      <td>0</td>\n",
              "      <td>0</td>\n",
              "      <td>0</td>\n",
              "      <td>0</td>\n",
              "      <td>0</td>\n",
              "      <td>0</td>\n",
              "      <td>...</td>\n",
              "      <td>No info</td>\n",
              "      <td>13882</td>\n",
              "      <td>6</td>\n",
              "      <td>9</td>\n",
              "      <td>9</td>\n",
              "      <td>25</td>\n",
              "      <td>4</td>\n",
              "      <td>25</td>\n",
              "      <td>19</td>\n",
              "      <td>00</td>\n",
              "    </tr>\n",
              "    <tr>\n",
              "      <th>3</th>\n",
              "      <td>0</td>\n",
              "      <td>0</td>\n",
              "      <td>1</td>\n",
              "      <td>0</td>\n",
              "      <td>0</td>\n",
              "      <td>0</td>\n",
              "      <td>0</td>\n",
              "      <td>0</td>\n",
              "      <td>0</td>\n",
              "      <td>0</td>\n",
              "      <td>...</td>\n",
              "      <td>No info</td>\n",
              "      <td>6218</td>\n",
              "      <td>5</td>\n",
              "      <td>12</td>\n",
              "      <td>18</td>\n",
              "      <td>5</td>\n",
              "      <td>23</td>\n",
              "      <td>30</td>\n",
              "      <td>5</td>\n",
              "      <td>25</td>\n",
              "    </tr>\n",
              "    <tr>\n",
              "      <th>4</th>\n",
              "      <td>0</td>\n",
              "      <td>0</td>\n",
              "      <td>1</td>\n",
              "      <td>0</td>\n",
              "      <td>0</td>\n",
              "      <td>0</td>\n",
              "      <td>0</td>\n",
              "      <td>0</td>\n",
              "      <td>0</td>\n",
              "      <td>0</td>\n",
              "      <td>...</td>\n",
              "      <td>No info</td>\n",
              "      <td>13302</td>\n",
              "      <td>3</td>\n",
              "      <td>1</td>\n",
              "      <td>16</td>\n",
              "      <td>50</td>\n",
              "      <td>21</td>\n",
              "      <td>35</td>\n",
              "      <td>4</td>\n",
              "      <td>45</td>\n",
              "    </tr>\n",
              "  </tbody>\n",
              "</table>\n",
              "<p>5 rows × 31 columns</p>\n",
              "</div>"
            ],
            "text/plain": [
              "   Air India  GoAir  IndiGo  Jet Airways  Jet Airways Business  \\\n",
              "0          0      0       1            0                     0   \n",
              "1          1      0       0            0                     0   \n",
              "2          0      0       0            1                     0   \n",
              "3          0      0       1            0                     0   \n",
              "4          0      0       1            0                     0   \n",
              "\n",
              "   Multiple carriers  Multiple carriers Premium economy  SpiceJet  Trujet  \\\n",
              "0                  0                                  0         0       0   \n",
              "1                  0                                  0         0       0   \n",
              "2                  0                                  0         0       0   \n",
              "3                  0                                  0         0       0   \n",
              "4                  0                                  0         0       0   \n",
              "\n",
              "   Vistara  ...  Additional_Info  Price  Day_of_Journey  Month_of_Journey  \\\n",
              "0        0  ...          No info   3897              24                 3   \n",
              "1        0  ...          No info   7662               5                 1   \n",
              "2        0  ...          No info  13882               6                 9   \n",
              "3        0  ...          No info   6218               5                12   \n",
              "4        0  ...          No info  13302               3                 1   \n",
              "\n",
              "   Dep_hr  Dep_min  Arrival_hr  Arrival_min  duration_hr duration_min  \n",
              "0      22       20           1           10            2           50  \n",
              "1       5       50          13           15            7           25  \n",
              "2       9       25           4           25           19           00  \n",
              "3      18        5          23           30            5           25  \n",
              "4      16       50          21           35            4           45  \n",
              "\n",
              "[5 rows x 31 columns]"
            ]
          },
          "execution_count": 142,
          "metadata": {},
          "output_type": "execute_result"
        }
      ]
    },
    {
      "cell_type": "code",
      "metadata": {
        "id": "qwXJgdk3IyhV"
      },
      "source": [
        "x=df.drop(['Route', 'Price','Additional_Info'],axis=1)\n",
        "y=df['Price']"
      ],
      "execution_count": null,
      "outputs": []
    },
    {
      "cell_type": "code",
      "metadata": {
        "id": "uzpNFTJyIyhW",
        "outputId": "70b90ff9-8a44-41b1-f4f3-8c5e7fb0a4c5"
      },
      "source": [
        "x.head(3)"
      ],
      "execution_count": null,
      "outputs": [
        {
          "data": {
            "text/html": [
              "<div>\n",
              "<style scoped>\n",
              "    .dataframe tbody tr th:only-of-type {\n",
              "        vertical-align: middle;\n",
              "    }\n",
              "\n",
              "    .dataframe tbody tr th {\n",
              "        vertical-align: top;\n",
              "    }\n",
              "\n",
              "    .dataframe thead th {\n",
              "        text-align: right;\n",
              "    }\n",
              "</style>\n",
              "<table border=\"1\" class=\"dataframe\">\n",
              "  <thead>\n",
              "    <tr style=\"text-align: right;\">\n",
              "      <th></th>\n",
              "      <th>Air India</th>\n",
              "      <th>GoAir</th>\n",
              "      <th>IndiGo</th>\n",
              "      <th>Jet Airways</th>\n",
              "      <th>Jet Airways Business</th>\n",
              "      <th>Multiple carriers</th>\n",
              "      <th>Multiple carriers Premium economy</th>\n",
              "      <th>SpiceJet</th>\n",
              "      <th>Trujet</th>\n",
              "      <th>Vistara</th>\n",
              "      <th>...</th>\n",
              "      <th>Destination_Kolkata</th>\n",
              "      <th>Total_Stops</th>\n",
              "      <th>Day_of_Journey</th>\n",
              "      <th>Month_of_Journey</th>\n",
              "      <th>Dep_hr</th>\n",
              "      <th>Dep_min</th>\n",
              "      <th>Arrival_hr</th>\n",
              "      <th>Arrival_min</th>\n",
              "      <th>duration_hr</th>\n",
              "      <th>duration_min</th>\n",
              "    </tr>\n",
              "  </thead>\n",
              "  <tbody>\n",
              "    <tr>\n",
              "      <th>0</th>\n",
              "      <td>0</td>\n",
              "      <td>0</td>\n",
              "      <td>1</td>\n",
              "      <td>0</td>\n",
              "      <td>0</td>\n",
              "      <td>0</td>\n",
              "      <td>0</td>\n",
              "      <td>0</td>\n",
              "      <td>0</td>\n",
              "      <td>0</td>\n",
              "      <td>...</td>\n",
              "      <td>0</td>\n",
              "      <td>0</td>\n",
              "      <td>24</td>\n",
              "      <td>3</td>\n",
              "      <td>22</td>\n",
              "      <td>20</td>\n",
              "      <td>1</td>\n",
              "      <td>10</td>\n",
              "      <td>2</td>\n",
              "      <td>50</td>\n",
              "    </tr>\n",
              "    <tr>\n",
              "      <th>1</th>\n",
              "      <td>1</td>\n",
              "      <td>0</td>\n",
              "      <td>0</td>\n",
              "      <td>0</td>\n",
              "      <td>0</td>\n",
              "      <td>0</td>\n",
              "      <td>0</td>\n",
              "      <td>0</td>\n",
              "      <td>0</td>\n",
              "      <td>0</td>\n",
              "      <td>...</td>\n",
              "      <td>0</td>\n",
              "      <td>2</td>\n",
              "      <td>5</td>\n",
              "      <td>1</td>\n",
              "      <td>5</td>\n",
              "      <td>50</td>\n",
              "      <td>13</td>\n",
              "      <td>15</td>\n",
              "      <td>7</td>\n",
              "      <td>25</td>\n",
              "    </tr>\n",
              "    <tr>\n",
              "      <th>2</th>\n",
              "      <td>0</td>\n",
              "      <td>0</td>\n",
              "      <td>0</td>\n",
              "      <td>1</td>\n",
              "      <td>0</td>\n",
              "      <td>0</td>\n",
              "      <td>0</td>\n",
              "      <td>0</td>\n",
              "      <td>0</td>\n",
              "      <td>0</td>\n",
              "      <td>...</td>\n",
              "      <td>0</td>\n",
              "      <td>2</td>\n",
              "      <td>6</td>\n",
              "      <td>9</td>\n",
              "      <td>9</td>\n",
              "      <td>25</td>\n",
              "      <td>4</td>\n",
              "      <td>25</td>\n",
              "      <td>19</td>\n",
              "      <td>00</td>\n",
              "    </tr>\n",
              "  </tbody>\n",
              "</table>\n",
              "<p>3 rows × 28 columns</p>\n",
              "</div>"
            ],
            "text/plain": [
              "   Air India  GoAir  IndiGo  Jet Airways  Jet Airways Business  \\\n",
              "0          0      0       1            0                     0   \n",
              "1          1      0       0            0                     0   \n",
              "2          0      0       0            1                     0   \n",
              "\n",
              "   Multiple carriers  Multiple carriers Premium economy  SpiceJet  Trujet  \\\n",
              "0                  0                                  0         0       0   \n",
              "1                  0                                  0         0       0   \n",
              "2                  0                                  0         0       0   \n",
              "\n",
              "   Vistara  ...  Destination_Kolkata  Total_Stops  Day_of_Journey  \\\n",
              "0        0  ...                    0            0              24   \n",
              "1        0  ...                    0            2               5   \n",
              "2        0  ...                    0            2               6   \n",
              "\n",
              "   Month_of_Journey  Dep_hr  Dep_min  Arrival_hr  Arrival_min  duration_hr  \\\n",
              "0                 3      22       20           1           10            2   \n",
              "1                 1       5       50          13           15            7   \n",
              "2                 9       9       25           4           25           19   \n",
              "\n",
              "   duration_min  \n",
              "0            50  \n",
              "1            25  \n",
              "2            00  \n",
              "\n",
              "[3 rows x 28 columns]"
            ]
          },
          "execution_count": 154,
          "metadata": {},
          "output_type": "execute_result"
        }
      ]
    },
    {
      "cell_type": "markdown",
      "metadata": {
        "id": "vEiX-bVzIyhW"
      },
      "source": [
        "<br>\n",
        "<br>\n",
        "\n",
        "## **Model Building and Hyperparameter Tuning**"
      ]
    },
    {
      "cell_type": "markdown",
      "metadata": {
        "id": "AwqBUFRnTzuR"
      },
      "source": [
        "### **RandomForestRegressor**"
      ]
    },
    {
      "cell_type": "code",
      "metadata": {
        "id": "_Lul8YOQIyhY",
        "outputId": "a165042e-c9a1-4e2e-f66e-12f23c15effb"
      },
      "source": [
        "from sklearn.ensemble import RandomForestRegressor\n",
        "RF_Model=RandomForestRegressor()\n",
        "RF_Model.fit(X_train,y_train)\n",
        "y_predict=RF_Model.predict(X_test)\n",
        "r2_score(y_test,y_predict)"
      ],
      "execution_count": null,
      "outputs": [
        {
          "data": {
            "text/plain": [
              "0.792954708381232"
            ]
          },
          "execution_count": 160,
          "metadata": {},
          "output_type": "execute_result"
        }
      ]
    },
    {
      "cell_type": "markdown",
      "metadata": {
        "id": "eTqlV3gSSgMD"
      },
      "source": [
        "### **Extra Tree Regression**"
      ]
    },
    {
      "cell_type": "code",
      "metadata": {
        "jupyter": {
          "outputs_hidden": true,
          "source_hidden": true
        },
        "id": "d6eNCjQiIyhW",
        "outputId": "46b300d7-5176-4802-9f7c-b176b45c04e4"
      },
      "source": [
        "from sklearn.ensemble import ExtraTreesRegressor\n",
        "ET_Model=ExtraTreesRegressor()\n",
        "ET_Model.fit(x,y)"
      ],
      "execution_count": null,
      "outputs": [
        {
          "data": {
            "text/plain": [
              "ExtraTreesRegressor(bootstrap=False, ccp_alpha=0.0, criterion='mse',\n",
              "                    max_depth=None, max_features='auto', max_leaf_nodes=None,\n",
              "                    max_samples=None, min_impurity_decrease=0.0,\n",
              "                    min_impurity_split=None, min_samples_leaf=1,\n",
              "                    min_samples_split=2, min_weight_fraction_leaf=0.0,\n",
              "                    n_estimators=100, n_jobs=None, oob_score=False,\n",
              "                    random_state=None, verbose=0, warm_start=False)"
            ]
          },
          "execution_count": 150,
          "metadata": {},
          "output_type": "execute_result"
        }
      ]
    },
    {
      "cell_type": "code",
      "metadata": {
        "jupyter": {
          "outputs_hidden": true,
          "source_hidden": true
        },
        "id": "SOxK1ta9IyhX",
        "outputId": "6608417e-d2ea-42d9-9b25-c4ba6d6d0216"
      },
      "source": [
        "pd.Series(ET_Model.feature_importances_,index=x.columns).sort_values(ascending=False).plot(kind='bar',figsize=(18,10))"
      ],
      "execution_count": null,
      "outputs": [
        {
          "data": {
            "text/plain": [
              "<matplotlib.axes._subplots.AxesSubplot at 0x1a2e1c8050>"
            ]
          },
          "execution_count": 153,
          "metadata": {},
          "output_type": "execute_result"
        },
        {
          "data": {
            "image/png": "[encoded data removed]",
            "text/plain": [
              "<Figure size 1296x720 with 1 Axes>"
            ]
          },
          "metadata": {
            "needs_background": "light"
          },
          "output_type": "display_data"
        }
      ]
    },
    {
      "cell_type": "code",
      "metadata": {
        "id": "URFMwL0RIyhY"
      },
      "source": [
        "#splitting the dataset\n",
        "from sklearn.model_selection import train_test_split\n",
        "X_train, X_test, y_train, y_test = train_test_split(x, y, test_size = 0.2, random_state = 50)"
      ],
      "execution_count": null,
      "outputs": []
    },
    {
      "cell_type": "code",
      "metadata": {
        "id": "6YoEpyRbIyhY",
        "outputId": "6a1e4949-d93f-403f-c3e4-59146ac4152a"
      },
      "source": [
        "#Preparing Extra Tree Regression\n",
        "from sklearn.ensemble import  ExtraTreesRegressor\n",
        "ET_Model=ExtraTreesRegressor(n_estimators = 120)\n",
        "ET_Model.fit(X_train,y_train)\n",
        "y_predict=ET_Model.predict(X_test)\n",
        "\n",
        "\n",
        "from sklearn.metrics import r2_score\n",
        "r2_score(y_test,y_predict)"
      ],
      "execution_count": null,
      "outputs": [
        {
          "data": {
            "text/plain": [
              "0.7682238280133812"
            ]
          },
          "execution_count": 157,
          "metadata": {},
          "output_type": "execute_result"
        }
      ]
    },
    {
      "cell_type": "markdown",
      "metadata": {
        "id": "7NJmzxvCIyhY"
      },
      "source": [
        "\n",
        "\n",
        "# **Hyperparameter**"
      ]
    },
    {
      "cell_type": "markdown",
      "metadata": {
        "id": "uZYDmmNVR60U"
      },
      "source": [
        "# **CatBoostRegressor**"
      ]
    },
    {
      "cell_type": "code",
      "metadata": {
        "jupyter": {
          "outputs_hidden": true
        },
        "id": "BV5K1w5mIyhb",
        "outputId": "6f2e7c64-c99e-4eba-d145-5e6f4c049856"
      },
      "source": [
        "from catboost import CatBoostRegressor\n",
        "\n",
        "cat=CatBoostRegressor()\n",
        "cat.fit(X_train,y_train)"
      ],
      "execution_count": null,
      "outputs": [
        {
          "name": "stdout",
          "output_type": "stream",
          "text": [
            "Learning rate set to 0.05718\n",
            "0:\tlearn: 4466.5316537\ttotal: 87ms\tremaining: 1m 26s\n",
            "1:\tlearn: 4319.1952920\ttotal: 90.7ms\tremaining: 45.3s\n",
            "2:\tlearn: 4170.0874200\ttotal: 96.7ms\tremaining: 32.2s\n",
            "3:\tlearn: 4033.1061207\ttotal: 99.4ms\tremaining: 24.7s\n",
            "4:\tlearn: 3909.5332929\ttotal: 102ms\tremaining: 20.3s\n",
            "5:\tlearn: 3788.8771850\ttotal: 105ms\tremaining: 17.3s\n",
            "6:\tlearn: 3677.5795256\ttotal: 107ms\tremaining: 15.2s\n",
            "7:\tlearn: 3585.9715553\ttotal: 110ms\tremaining: 13.7s\n",
            "8:\tlearn: 3499.6424958\ttotal: 113ms\tremaining: 12.4s\n",
            "9:\tlearn: 3408.9602975\ttotal: 115ms\tremaining: 11.4s\n",
            "10:\tlearn: 3329.4018172\ttotal: 118ms\tremaining: 10.6s\n",
            "11:\tlearn: 3258.4306577\ttotal: 120ms\tremaining: 9.9s\n",
            "12:\tlearn: 3188.9732731\ttotal: 123ms\tremaining: 9.32s\n",
            "13:\tlearn: 3126.6519374\ttotal: 125ms\tremaining: 8.82s\n",
            "14:\tlearn: 3064.8092738\ttotal: 128ms\tremaining: 8.39s\n",
            "15:\tlearn: 3011.9738031\ttotal: 132ms\tremaining: 8.12s\n",
            "16:\tlearn: 2960.0953295\ttotal: 136ms\tremaining: 7.85s\n",
            "17:\tlearn: 2917.5532184\ttotal: 140ms\tremaining: 7.62s\n",
            "18:\tlearn: 2874.4984902\ttotal: 143ms\tremaining: 7.41s\n",
            "19:\tlearn: 2834.7855065\ttotal: 149ms\tremaining: 7.29s\n",
            "20:\tlearn: 2794.1762110\ttotal: 156ms\tremaining: 7.29s\n",
            "21:\tlearn: 2760.7792230\ttotal: 160ms\tremaining: 7.11s\n",
            "22:\tlearn: 2726.8733479\ttotal: 164ms\tremaining: 6.98s\n",
            "23:\tlearn: 2695.3790438\ttotal: 168ms\tremaining: 6.83s\n",
            "24:\tlearn: 2670.8605702\ttotal: 175ms\tremaining: 6.82s\n",
            "25:\tlearn: 2647.4501132\ttotal: 184ms\tremaining: 6.89s\n",
            "26:\tlearn: 2623.6716170\ttotal: 188ms\tremaining: 6.78s\n",
            "27:\tlearn: 2602.1128494\ttotal: 202ms\tremaining: 7.03s\n",
            "28:\tlearn: 2577.7394452\ttotal: 208ms\tremaining: 6.96s\n",
            "29:\tlearn: 2557.0239652\ttotal: 213ms\tremaining: 6.89s\n",
            "30:\tlearn: 2539.9850937\ttotal: 219ms\tremaining: 6.85s\n",
            "31:\tlearn: 2521.2973464\ttotal: 224ms\tremaining: 6.77s\n",
            "32:\tlearn: 2506.6020214\ttotal: 230ms\tremaining: 6.74s\n",
            "33:\tlearn: 2493.3873963\ttotal: 235ms\tremaining: 6.69s\n",
            "34:\tlearn: 2481.9476194\ttotal: 241ms\tremaining: 6.64s\n",
            "35:\tlearn: 2468.9910088\ttotal: 246ms\tremaining: 6.59s\n",
            "36:\tlearn: 2453.5406419\ttotal: 255ms\tremaining: 6.64s\n",
            "37:\tlearn: 2442.0130430\ttotal: 261ms\tremaining: 6.61s\n",
            "38:\tlearn: 2429.2347974\ttotal: 268ms\tremaining: 6.6s\n",
            "39:\tlearn: 2421.0736808\ttotal: 271ms\tremaining: 6.51s\n",
            "40:\tlearn: 2411.2867315\ttotal: 275ms\tremaining: 6.42s\n",
            "41:\tlearn: 2399.0683018\ttotal: 278ms\tremaining: 6.33s\n",
            "42:\tlearn: 2389.5066278\ttotal: 282ms\tremaining: 6.27s\n",
            "43:\tlearn: 2378.0596149\ttotal: 285ms\tremaining: 6.2s\n",
            "44:\tlearn: 2367.0534712\ttotal: 289ms\tremaining: 6.14s\n",
            "45:\tlearn: 2361.2994933\ttotal: 293ms\tremaining: 6.08s\n",
            "46:\tlearn: 2350.9244823\ttotal: 315ms\tremaining: 6.38s\n",
            "47:\tlearn: 2340.5835539\ttotal: 320ms\tremaining: 6.35s\n",
            "48:\tlearn: 2334.9962574\ttotal: 324ms\tremaining: 6.3s\n",
            "49:\tlearn: 2324.4454107\ttotal: 329ms\tremaining: 6.24s\n",
            "50:\tlearn: 2317.7856448\ttotal: 333ms\tremaining: 6.19s\n",
            "51:\tlearn: 2311.5834150\ttotal: 337ms\tremaining: 6.13s\n",
            "52:\tlearn: 2305.1831481\ttotal: 341ms\tremaining: 6.09s\n",
            "53:\tlearn: 2301.7712183\ttotal: 348ms\tremaining: 6.1s\n",
            "54:\tlearn: 2297.5615019\ttotal: 352ms\tremaining: 6.04s\n",
            "55:\tlearn: 2289.3114364\ttotal: 355ms\tremaining: 5.99s\n",
            "56:\tlearn: 2284.7806757\ttotal: 359ms\tremaining: 5.94s\n",
            "57:\tlearn: 2277.1245331\ttotal: 363ms\tremaining: 5.9s\n",
            "58:\tlearn: 2271.0612929\ttotal: 370ms\tremaining: 5.9s\n",
            "59:\tlearn: 2265.2579293\ttotal: 376ms\tremaining: 5.89s\n",
            "60:\tlearn: 2259.4969888\ttotal: 382ms\tremaining: 5.87s\n",
            "61:\tlearn: 2252.3647669\ttotal: 387ms\tremaining: 5.86s\n",
            "62:\tlearn: 2248.0554611\ttotal: 392ms\tremaining: 5.83s\n",
            "63:\tlearn: 2240.3898511\ttotal: 398ms\tremaining: 5.82s\n",
            "64:\tlearn: 2236.0814000\ttotal: 407ms\tremaining: 5.86s\n",
            "65:\tlearn: 2231.0892268\ttotal: 423ms\tremaining: 5.99s\n",
            "66:\tlearn: 2222.1938866\ttotal: 434ms\tremaining: 6.04s\n",
            "67:\tlearn: 2218.7035354\ttotal: 442ms\tremaining: 6.06s\n",
            "68:\tlearn: 2215.4146330\ttotal: 447ms\tremaining: 6.03s\n",
            "69:\tlearn: 2212.2852730\ttotal: 451ms\tremaining: 5.99s\n",
            "70:\tlearn: 2205.3406331\ttotal: 464ms\tremaining: 6.07s\n",
            "71:\tlearn: 2199.5180690\ttotal: 469ms\tremaining: 6.05s\n",
            "72:\tlearn: 2195.1048807\ttotal: 476ms\tremaining: 6.04s\n",
            "73:\tlearn: 2193.1993206\ttotal: 482ms\tremaining: 6.04s\n",
            "74:\tlearn: 2190.3081661\ttotal: 489ms\tremaining: 6.03s\n",
            "75:\tlearn: 2188.0053983\ttotal: 497ms\tremaining: 6.04s\n",
            "76:\tlearn: 2183.6878244\ttotal: 504ms\tremaining: 6.04s\n",
            "77:\tlearn: 2178.1450078\ttotal: 516ms\tremaining: 6.1s\n",
            "78:\tlearn: 2175.1511266\ttotal: 525ms\tremaining: 6.12s\n",
            "79:\tlearn: 2171.6635233\ttotal: 550ms\tremaining: 6.32s\n",
            "80:\tlearn: 2169.3310786\ttotal: 557ms\tremaining: 6.32s\n",
            "81:\tlearn: 2167.0627407\ttotal: 582ms\tremaining: 6.52s\n",
            "82:\tlearn: 2164.1921245\ttotal: 599ms\tremaining: 6.62s\n",
            "83:\tlearn: 2159.4451991\ttotal: 609ms\tremaining: 6.64s\n",
            "84:\tlearn: 2156.8824836\ttotal: 616ms\tremaining: 6.63s\n",
            "85:\tlearn: 2152.8842606\ttotal: 622ms\tremaining: 6.61s\n",
            "86:\tlearn: 2150.8464412\ttotal: 632ms\tremaining: 6.63s\n",
            "87:\tlearn: 2147.3481385\ttotal: 642ms\tremaining: 6.66s\n",
            "88:\tlearn: 2145.0847406\ttotal: 648ms\tremaining: 6.64s\n",
            "89:\tlearn: 2141.0616103\ttotal: 653ms\tremaining: 6.6s\n",
            "90:\tlearn: 2138.6225360\ttotal: 657ms\tremaining: 6.57s\n",
            "91:\tlearn: 2134.6407931\ttotal: 663ms\tremaining: 6.55s\n",
            "92:\tlearn: 2130.6204889\ttotal: 668ms\tremaining: 6.51s\n",
            "93:\tlearn: 2126.8730947\ttotal: 674ms\tremaining: 6.5s\n",
            "94:\tlearn: 2124.3016306\ttotal: 678ms\tremaining: 6.46s\n",
            "95:\tlearn: 2123.0562847\ttotal: 682ms\tremaining: 6.42s\n",
            "96:\tlearn: 2120.3216832\ttotal: 687ms\tremaining: 6.39s\n",
            "97:\tlearn: 2117.2904762\ttotal: 693ms\tremaining: 6.38s\n",
            "98:\tlearn: 2112.1868063\ttotal: 698ms\tremaining: 6.35s\n",
            "99:\tlearn: 2107.5311464\ttotal: 702ms\tremaining: 6.32s\n",
            "100:\tlearn: 2102.6510890\ttotal: 707ms\tremaining: 6.29s\n",
            "101:\tlearn: 2100.0566188\ttotal: 711ms\tremaining: 6.26s\n",
            "102:\tlearn: 2097.3614787\ttotal: 715ms\tremaining: 6.23s\n",
            "103:\tlearn: 2094.1082270\ttotal: 719ms\tremaining: 6.2s\n",
            "104:\tlearn: 2090.5751501\ttotal: 725ms\tremaining: 6.18s\n",
            "105:\tlearn: 2087.9066198\ttotal: 729ms\tremaining: 6.15s\n",
            "106:\tlearn: 2084.3711197\ttotal: 733ms\tremaining: 6.12s\n",
            "107:\tlearn: 2082.3205794\ttotal: 737ms\tremaining: 6.09s\n",
            "108:\tlearn: 2078.1762658\ttotal: 742ms\tremaining: 6.07s\n",
            "109:\tlearn: 2075.2136859\ttotal: 746ms\tremaining: 6.04s\n",
            "110:\tlearn: 2073.9698522\ttotal: 751ms\tremaining: 6.01s\n",
            "111:\tlearn: 2071.1454116\ttotal: 757ms\tremaining: 6s\n",
            "112:\tlearn: 2069.3364150\ttotal: 762ms\tremaining: 5.98s\n",
            "113:\tlearn: 2066.7048195\ttotal: 766ms\tremaining: 5.96s\n",
            "114:\tlearn: 2065.2124465\ttotal: 771ms\tremaining: 5.93s\n",
            "115:\tlearn: 2062.5258393\ttotal: 779ms\tremaining: 5.93s\n",
            "116:\tlearn: 2059.3931802\ttotal: 786ms\tremaining: 5.93s\n",
            "117:\tlearn: 2055.9149371\ttotal: 791ms\tremaining: 5.92s\n",
            "118:\tlearn: 2051.6171216\ttotal: 797ms\tremaining: 5.9s\n",
            "119:\tlearn: 2049.4715024\ttotal: 803ms\tremaining: 5.89s\n",
            "120:\tlearn: 2047.1575871\ttotal: 810ms\tremaining: 5.88s\n",
            "121:\tlearn: 2044.0926515\ttotal: 817ms\tremaining: 5.88s\n",
            "122:\tlearn: 2040.4190263\ttotal: 822ms\tremaining: 5.86s\n",
            "123:\tlearn: 2036.6132737\ttotal: 828ms\tremaining: 5.85s\n",
            "124:\tlearn: 2035.9067615\ttotal: 834ms\tremaining: 5.83s\n",
            "125:\tlearn: 2032.5918896\ttotal: 840ms\tremaining: 5.83s\n",
            "126:\tlearn: 2031.5404031\ttotal: 845ms\tremaining: 5.81s\n",
            "127:\tlearn: 2029.9805768\ttotal: 853ms\tremaining: 5.81s\n",
            "128:\tlearn: 2026.6310266\ttotal: 859ms\tremaining: 5.8s\n",
            "129:\tlearn: 2024.5205394\ttotal: 864ms\tremaining: 5.78s\n",
            "130:\tlearn: 2022.2536214\ttotal: 869ms\tremaining: 5.76s\n",
            "131:\tlearn: 2018.9274490\ttotal: 873ms\tremaining: 5.74s\n",
            "132:\tlearn: 2016.0832145\ttotal: 877ms\tremaining: 5.72s\n",
            "133:\tlearn: 2014.7314735\ttotal: 882ms\tremaining: 5.7s\n",
            "134:\tlearn: 2009.8739313\ttotal: 886ms\tremaining: 5.68s\n",
            "135:\tlearn: 2008.8775762\ttotal: 890ms\tremaining: 5.66s\n",
            "136:\tlearn: 2006.2661964\ttotal: 895ms\tremaining: 5.63s\n",
            "137:\tlearn: 2003.1278867\ttotal: 899ms\tremaining: 5.61s\n",
            "138:\tlearn: 2001.0776841\ttotal: 903ms\tremaining: 5.59s\n",
            "139:\tlearn: 1998.3164684\ttotal: 907ms\tremaining: 5.57s\n",
            "140:\tlearn: 1996.1961508\ttotal: 913ms\tremaining: 5.56s\n",
            "141:\tlearn: 1993.4028512\ttotal: 917ms\tremaining: 5.54s\n",
            "142:\tlearn: 1991.5883384\ttotal: 922ms\tremaining: 5.52s\n",
            "143:\tlearn: 1987.9881625\ttotal: 926ms\tremaining: 5.5s\n",
            "144:\tlearn: 1985.9779110\ttotal: 930ms\tremaining: 5.48s\n",
            "145:\tlearn: 1984.0403378\ttotal: 934ms\tremaining: 5.46s\n",
            "146:\tlearn: 1982.3117521\ttotal: 941ms\tremaining: 5.46s\n",
            "147:\tlearn: 1980.5212029\ttotal: 947ms\tremaining: 5.45s\n",
            "148:\tlearn: 1977.6453273\ttotal: 951ms\tremaining: 5.43s\n",
            "149:\tlearn: 1976.9108656\ttotal: 955ms\tremaining: 5.41s\n",
            "150:\tlearn: 1974.2375913\ttotal: 960ms\tremaining: 5.4s\n",
            "151:\tlearn: 1971.0803092\ttotal: 964ms\tremaining: 5.38s\n",
            "152:\tlearn: 1968.2244922\ttotal: 971ms\tremaining: 5.38s\n",
            "153:\tlearn: 1965.3142249\ttotal: 976ms\tremaining: 5.36s\n",
            "154:\tlearn: 1962.1094228\ttotal: 981ms\tremaining: 5.35s\n",
            "155:\tlearn: 1960.1052657\ttotal: 987ms\tremaining: 5.34s\n",
            "156:\tlearn: 1957.7395675\ttotal: 993ms\tremaining: 5.33s\n",
            "157:\tlearn: 1956.2192077\ttotal: 998ms\tremaining: 5.32s\n",
            "158:\tlearn: 1953.8061817\ttotal: 1s\tremaining: 5.32s\n",
            "159:\tlearn: 1952.7697326\ttotal: 1.01s\tremaining: 5.31s\n",
            "160:\tlearn: 1951.1012882\ttotal: 1.02s\tremaining: 5.31s\n",
            "161:\tlearn: 1948.6492071\ttotal: 1.02s\tremaining: 5.3s\n",
            "162:\tlearn: 1945.1133182\ttotal: 1.03s\tremaining: 5.29s\n",
            "163:\tlearn: 1942.7228013\ttotal: 1.03s\tremaining: 5.28s\n",
            "164:\tlearn: 1940.9073624\ttotal: 1.04s\tremaining: 5.27s\n",
            "165:\tlearn: 1938.0460170\ttotal: 1.05s\tremaining: 5.26s\n",
            "166:\tlearn: 1935.3286398\ttotal: 1.05s\tremaining: 5.25s\n",
            "167:\tlearn: 1932.9545795\ttotal: 1.06s\tremaining: 5.24s\n",
            "168:\tlearn: 1931.6124443\ttotal: 1.06s\tremaining: 5.24s\n",
            "169:\tlearn: 1929.5307514\ttotal: 1.07s\tremaining: 5.22s\n",
            "170:\tlearn: 1927.4963218\ttotal: 1.07s\tremaining: 5.2s\n",
            "171:\tlearn: 1925.4669384\ttotal: 1.08s\tremaining: 5.19s\n",
            "172:\tlearn: 1924.3200339\ttotal: 1.08s\tremaining: 5.18s\n",
            "173:\tlearn: 1922.7154464\ttotal: 1.09s\tremaining: 5.16s\n",
            "174:\tlearn: 1920.9589969\ttotal: 1.09s\tremaining: 5.15s\n",
            "175:\tlearn: 1919.1457003\ttotal: 1.1s\tremaining: 5.14s\n",
            "176:\tlearn: 1918.1069516\ttotal: 1.1s\tremaining: 5.12s\n",
            "177:\tlearn: 1916.2214512\ttotal: 1.11s\tremaining: 5.11s\n",
            "178:\tlearn: 1913.5124519\ttotal: 1.11s\tremaining: 5.09s\n",
            "179:\tlearn: 1911.4800432\ttotal: 1.11s\tremaining: 5.08s\n",
            "180:\tlearn: 1909.3957573\ttotal: 1.12s\tremaining: 5.06s\n",
            "181:\tlearn: 1908.4135607\ttotal: 1.12s\tremaining: 5.04s\n",
            "182:\tlearn: 1906.5491885\ttotal: 1.13s\tremaining: 5.03s\n",
            "183:\tlearn: 1904.6147159\ttotal: 1.13s\tremaining: 5.01s\n",
            "184:\tlearn: 1903.7135890\ttotal: 1.13s\tremaining: 5s\n",
            "185:\tlearn: 1902.4011221\ttotal: 1.14s\tremaining: 4.99s\n",
            "186:\tlearn: 1901.0717891\ttotal: 1.14s\tremaining: 4.97s\n",
            "187:\tlearn: 1899.6407868\ttotal: 1.15s\tremaining: 4.96s\n",
            "188:\tlearn: 1898.5577875\ttotal: 1.15s\tremaining: 4.95s\n",
            "189:\tlearn: 1897.2225162\ttotal: 1.16s\tremaining: 4.93s\n",
            "190:\tlearn: 1895.2033936\ttotal: 1.16s\tremaining: 4.92s\n",
            "191:\tlearn: 1893.4908193\ttotal: 1.17s\tremaining: 4.92s\n",
            "192:\tlearn: 1893.0729664\ttotal: 1.18s\tremaining: 4.92s\n",
            "193:\tlearn: 1891.4099192\ttotal: 1.18s\tremaining: 4.92s\n",
            "194:\tlearn: 1890.6753302\ttotal: 1.19s\tremaining: 4.92s\n",
            "195:\tlearn: 1889.7612651\ttotal: 1.2s\tremaining: 4.92s\n",
            "196:\tlearn: 1889.0516784\ttotal: 1.21s\tremaining: 4.92s\n",
            "197:\tlearn: 1887.9756826\ttotal: 1.21s\tremaining: 4.91s\n",
            "198:\tlearn: 1886.5853132\ttotal: 1.22s\tremaining: 4.91s\n",
            "199:\tlearn: 1885.2670134\ttotal: 1.22s\tremaining: 4.9s\n",
            "200:\tlearn: 1884.9171654\ttotal: 1.23s\tremaining: 4.89s\n",
            "201:\tlearn: 1883.0163251\ttotal: 1.24s\tremaining: 4.89s\n",
            "202:\tlearn: 1881.5130257\ttotal: 1.24s\tremaining: 4.89s\n",
            "203:\tlearn: 1879.9115917\ttotal: 1.25s\tremaining: 4.88s\n",
            "204:\tlearn: 1878.2024622\ttotal: 1.26s\tremaining: 4.87s\n",
            "205:\tlearn: 1876.5491935\ttotal: 1.26s\tremaining: 4.87s\n",
            "206:\tlearn: 1875.7912620\ttotal: 1.27s\tremaining: 4.86s\n",
            "207:\tlearn: 1874.8975405\ttotal: 1.27s\tremaining: 4.85s\n",
            "208:\tlearn: 1874.4832107\ttotal: 1.28s\tremaining: 4.84s\n",
            "209:\tlearn: 1873.0687112\ttotal: 1.28s\tremaining: 4.84s\n",
            "210:\tlearn: 1871.7010933\ttotal: 1.29s\tremaining: 4.83s\n",
            "211:\tlearn: 1870.3004288\ttotal: 1.29s\tremaining: 4.81s\n",
            "212:\tlearn: 1869.5272892\ttotal: 1.3s\tremaining: 4.8s\n",
            "213:\tlearn: 1867.3722104\ttotal: 1.31s\tremaining: 4.8s\n",
            "214:\tlearn: 1867.0684325\ttotal: 1.32s\tremaining: 4.81s\n",
            "215:\tlearn: 1865.1670373\ttotal: 1.32s\tremaining: 4.81s\n",
            "216:\tlearn: 1863.2110487\ttotal: 1.33s\tremaining: 4.8s\n",
            "217:\tlearn: 1862.9098189\ttotal: 1.34s\tremaining: 4.79s\n",
            "218:\tlearn: 1861.5219818\ttotal: 1.34s\tremaining: 4.79s\n",
            "219:\tlearn: 1860.1257880\ttotal: 1.35s\tremaining: 4.78s\n",
            "220:\tlearn: 1856.4667108\ttotal: 1.36s\tremaining: 4.78s\n",
            "221:\tlearn: 1855.4684082\ttotal: 1.36s\tremaining: 4.77s\n",
            "222:\tlearn: 1854.2391492\ttotal: 1.37s\tremaining: 4.78s\n",
            "223:\tlearn: 1853.2812508\ttotal: 1.39s\tremaining: 4.8s\n",
            "224:\tlearn: 1851.3906071\ttotal: 1.39s\tremaining: 4.8s\n",
            "225:\tlearn: 1850.9825967\ttotal: 1.4s\tremaining: 4.8s\n",
            "226:\tlearn: 1847.5402035\ttotal: 1.41s\tremaining: 4.79s\n",
            "227:\tlearn: 1846.7449371\ttotal: 1.41s\tremaining: 4.78s\n",
            "228:\tlearn: 1844.3913864\ttotal: 1.42s\tremaining: 4.77s\n",
            "229:\tlearn: 1844.0531666\ttotal: 1.42s\tremaining: 4.76s\n",
            "230:\tlearn: 1843.5939669\ttotal: 1.43s\tremaining: 4.75s\n",
            "231:\tlearn: 1841.3182846\ttotal: 1.43s\tremaining: 4.75s\n",
            "232:\tlearn: 1839.4888278\ttotal: 1.44s\tremaining: 4.74s\n",
            "233:\tlearn: 1839.0953436\ttotal: 1.45s\tremaining: 4.74s\n",
            "234:\tlearn: 1837.4815579\ttotal: 1.46s\tremaining: 4.74s\n",
            "235:\tlearn: 1837.2987924\ttotal: 1.56s\tremaining: 5.06s\n",
            "236:\tlearn: 1834.1158669\ttotal: 1.6s\tremaining: 5.14s\n",
            "237:\tlearn: 1833.9969404\ttotal: 1.62s\tremaining: 5.18s\n",
            "238:\tlearn: 1832.2356222\ttotal: 1.63s\tremaining: 5.19s\n",
            "239:\tlearn: 1830.6332391\ttotal: 1.64s\tremaining: 5.19s\n",
            "240:\tlearn: 1828.2769141\ttotal: 1.65s\tremaining: 5.18s\n",
            "241:\tlearn: 1828.1508444\ttotal: 1.66s\tremaining: 5.18s\n",
            "242:\tlearn: 1827.7464088\ttotal: 1.67s\tremaining: 5.2s\n",
            "243:\tlearn: 1825.1337079\ttotal: 1.68s\tremaining: 5.21s\n",
            "244:\tlearn: 1823.5455690\ttotal: 1.7s\tremaining: 5.22s\n",
            "245:\tlearn: 1821.2139006\ttotal: 1.71s\tremaining: 5.24s\n",
            "246:\tlearn: 1819.5582544\ttotal: 1.72s\tremaining: 5.25s\n",
            "247:\tlearn: 1818.1351245\ttotal: 1.76s\tremaining: 5.33s\n",
            "248:\tlearn: 1816.2518763\ttotal: 1.77s\tremaining: 5.33s\n",
            "249:\tlearn: 1816.2126990\ttotal: 1.77s\tremaining: 5.32s\n",
            "250:\tlearn: 1814.3241850\ttotal: 1.78s\tremaining: 5.3s\n",
            "251:\tlearn: 1812.1701303\ttotal: 1.78s\tremaining: 5.29s\n",
            "252:\tlearn: 1812.0343771\ttotal: 1.79s\tremaining: 5.28s\n",
            "253:\tlearn: 1810.7288190\ttotal: 1.8s\tremaining: 5.28s\n",
            "254:\tlearn: 1810.6414167\ttotal: 1.8s\tremaining: 5.27s\n",
            "255:\tlearn: 1808.9161486\ttotal: 1.82s\tremaining: 5.29s\n",
            "256:\tlearn: 1807.0040232\ttotal: 1.83s\tremaining: 5.28s\n",
            "257:\tlearn: 1805.5304019\ttotal: 1.83s\tremaining: 5.28s\n",
            "258:\tlearn: 1805.4429565\ttotal: 1.84s\tremaining: 5.27s\n",
            "259:\tlearn: 1805.1011942\ttotal: 1.85s\tremaining: 5.26s\n",
            "260:\tlearn: 1804.9684809\ttotal: 1.86s\tremaining: 5.26s\n",
            "261:\tlearn: 1802.9538899\ttotal: 1.86s\tremaining: 5.25s\n",
            "262:\tlearn: 1802.5606026\ttotal: 1.87s\tremaining: 5.25s\n",
            "263:\tlearn: 1801.3718791\ttotal: 1.88s\tremaining: 5.24s\n",
            "264:\tlearn: 1800.7549745\ttotal: 1.89s\tremaining: 5.23s\n",
            "265:\tlearn: 1799.7611195\ttotal: 1.89s\tremaining: 5.22s\n",
            "266:\tlearn: 1798.4438507\ttotal: 1.9s\tremaining: 5.22s\n",
            "267:\tlearn: 1797.1262487\ttotal: 1.91s\tremaining: 5.22s\n",
            "268:\tlearn: 1795.5058086\ttotal: 1.92s\tremaining: 5.22s\n",
            "269:\tlearn: 1794.9747205\ttotal: 1.93s\tremaining: 5.22s\n",
            "270:\tlearn: 1793.9020520\ttotal: 1.94s\tremaining: 5.21s\n",
            "271:\tlearn: 1792.7651976\ttotal: 1.95s\tremaining: 5.21s\n",
            "272:\tlearn: 1791.8441773\ttotal: 1.98s\tremaining: 5.28s\n",
            "273:\tlearn: 1790.0864256\ttotal: 1.99s\tremaining: 5.28s\n",
            "274:\tlearn: 1789.8789200\ttotal: 2s\tremaining: 5.26s\n",
            "275:\tlearn: 1789.8097677\ttotal: 2s\tremaining: 5.25s\n",
            "276:\tlearn: 1788.0888425\ttotal: 2.01s\tremaining: 5.24s\n",
            "277:\tlearn: 1787.5142346\ttotal: 2.02s\tremaining: 5.25s\n",
            "278:\tlearn: 1787.4864687\ttotal: 2.03s\tremaining: 5.24s\n",
            "279:\tlearn: 1785.8832405\ttotal: 2.03s\tremaining: 5.22s\n",
            "280:\tlearn: 1784.6182102\ttotal: 2.04s\tremaining: 5.21s\n",
            "281:\tlearn: 1784.4857630\ttotal: 2.05s\tremaining: 5.21s\n",
            "282:\tlearn: 1784.4602074\ttotal: 2.07s\tremaining: 5.24s\n",
            "283:\tlearn: 1783.0524530\ttotal: 2.09s\tremaining: 5.26s\n",
            "284:\tlearn: 1781.5498730\ttotal: 2.09s\tremaining: 5.25s\n",
            "285:\tlearn: 1781.0218542\ttotal: 2.1s\tremaining: 5.25s\n",
            "286:\tlearn: 1778.7214829\ttotal: 2.12s\tremaining: 5.28s\n",
            "287:\tlearn: 1777.5582948\ttotal: 2.13s\tremaining: 5.27s\n",
            "288:\tlearn: 1775.9191418\ttotal: 2.14s\tremaining: 5.27s\n",
            "289:\tlearn: 1774.8937650\ttotal: 2.15s\tremaining: 5.27s\n",
            "290:\tlearn: 1773.9038805\ttotal: 2.15s\tremaining: 5.25s\n",
            "291:\tlearn: 1773.5871868\ttotal: 2.16s\tremaining: 5.25s\n",
            "292:\tlearn: 1772.5023340\ttotal: 2.17s\tremaining: 5.23s\n",
            "293:\tlearn: 1770.9383534\ttotal: 2.18s\tremaining: 5.22s\n",
            "294:\tlearn: 1769.9121160\ttotal: 2.18s\tremaining: 5.21s\n",
            "295:\tlearn: 1767.9087320\ttotal: 2.19s\tremaining: 5.2s\n",
            "296:\tlearn: 1767.5529615\ttotal: 2.19s\tremaining: 5.18s\n",
            "297:\tlearn: 1767.3610890\ttotal: 2.2s\tremaining: 5.18s\n",
            "298:\tlearn: 1766.1120416\ttotal: 2.2s\tremaining: 5.17s\n",
            "299:\tlearn: 1764.9784489\ttotal: 2.22s\tremaining: 5.19s\n",
            "300:\tlearn: 1763.3574504\ttotal: 2.24s\tremaining: 5.19s\n",
            "301:\tlearn: 1762.2789071\ttotal: 2.24s\tremaining: 5.18s\n",
            "302:\tlearn: 1760.9603717\ttotal: 2.25s\tremaining: 5.17s\n",
            "303:\tlearn: 1760.7806926\ttotal: 2.26s\tremaining: 5.17s\n",
            "304:\tlearn: 1759.8024534\ttotal: 2.27s\tremaining: 5.16s\n",
            "305:\tlearn: 1757.9686838\ttotal: 2.27s\tremaining: 5.16s\n",
            "306:\tlearn: 1756.8120485\ttotal: 2.28s\tremaining: 5.14s\n",
            "307:\tlearn: 1755.6147170\ttotal: 2.29s\tremaining: 5.14s\n",
            "308:\tlearn: 1755.3360909\ttotal: 2.29s\tremaining: 5.13s\n",
            "309:\tlearn: 1754.2969425\ttotal: 2.3s\tremaining: 5.12s\n",
            "310:\tlearn: 1752.8608733\ttotal: 2.31s\tremaining: 5.11s\n",
            "311:\tlearn: 1751.4281754\ttotal: 2.31s\tremaining: 5.09s\n",
            "312:\tlearn: 1749.8473530\ttotal: 2.31s\tremaining: 5.08s\n",
            "313:\tlearn: 1749.6952143\ttotal: 2.32s\tremaining: 5.06s\n",
            "314:\tlearn: 1749.1317173\ttotal: 2.32s\tremaining: 5.05s\n",
            "315:\tlearn: 1747.8635196\ttotal: 2.33s\tremaining: 5.04s\n",
            "316:\tlearn: 1746.1192150\ttotal: 2.33s\tremaining: 5.02s\n",
            "317:\tlearn: 1745.9081839\ttotal: 2.34s\tremaining: 5.01s\n",
            "318:\tlearn: 1745.5901590\ttotal: 2.34s\tremaining: 5s\n",
            "319:\tlearn: 1745.5765557\ttotal: 2.35s\tremaining: 4.98s\n",
            "320:\tlearn: 1744.1031020\ttotal: 2.35s\tremaining: 4.97s\n",
            "321:\tlearn: 1742.8866256\ttotal: 2.35s\tremaining: 4.96s\n",
            "322:\tlearn: 1741.8273962\ttotal: 2.36s\tremaining: 4.95s\n",
            "323:\tlearn: 1740.8624193\ttotal: 2.36s\tremaining: 4.93s\n",
            "324:\tlearn: 1739.2263355\ttotal: 2.37s\tremaining: 4.92s\n",
            "325:\tlearn: 1738.2951082\ttotal: 2.37s\tremaining: 4.91s\n",
            "326:\tlearn: 1737.8994124\ttotal: 2.38s\tremaining: 4.89s\n",
            "327:\tlearn: 1737.2891842\ttotal: 2.39s\tremaining: 4.89s\n",
            "328:\tlearn: 1736.2589351\ttotal: 2.39s\tremaining: 4.88s\n",
            "329:\tlearn: 1735.4256185\ttotal: 2.4s\tremaining: 4.87s\n",
            "330:\tlearn: 1735.2946332\ttotal: 2.4s\tremaining: 4.86s\n",
            "331:\tlearn: 1734.5323241\ttotal: 2.41s\tremaining: 4.85s\n",
            "332:\tlearn: 1732.6404977\ttotal: 2.42s\tremaining: 4.84s\n",
            "333:\tlearn: 1732.5282950\ttotal: 2.42s\tremaining: 4.83s\n",
            "334:\tlearn: 1731.4241971\ttotal: 2.43s\tremaining: 4.82s\n",
            "335:\tlearn: 1729.9668045\ttotal: 2.43s\tremaining: 4.81s\n",
            "336:\tlearn: 1729.1779869\ttotal: 2.44s\tremaining: 4.8s\n",
            "337:\tlearn: 1729.0852102\ttotal: 2.45s\tremaining: 4.8s\n",
            "338:\tlearn: 1728.1482089\ttotal: 2.47s\tremaining: 4.82s\n",
            "339:\tlearn: 1726.7783890\ttotal: 2.48s\tremaining: 4.82s\n",
            "340:\tlearn: 1726.2547590\ttotal: 2.5s\tremaining: 4.82s\n",
            "341:\tlearn: 1724.9434243\ttotal: 2.56s\tremaining: 4.92s\n",
            "342:\tlearn: 1724.9309222\ttotal: 2.57s\tremaining: 4.92s\n",
            "343:\tlearn: 1723.3258449\ttotal: 2.57s\tremaining: 4.9s\n",
            "344:\tlearn: 1722.4287769\ttotal: 2.57s\tremaining: 4.89s\n",
            "345:\tlearn: 1721.3414872\ttotal: 2.58s\tremaining: 4.88s\n",
            "346:\tlearn: 1720.2014300\ttotal: 2.58s\tremaining: 4.87s\n",
            "347:\tlearn: 1719.6390060\ttotal: 2.59s\tremaining: 4.85s\n",
            "348:\tlearn: 1718.3140866\ttotal: 2.59s\tremaining: 4.84s\n",
            "349:\tlearn: 1717.3394270\ttotal: 2.6s\tremaining: 4.83s\n",
            "350:\tlearn: 1716.4750581\ttotal: 2.6s\tremaining: 4.81s\n",
            "351:\tlearn: 1714.7302070\ttotal: 2.61s\tremaining: 4.8s\n",
            "352:\tlearn: 1713.9624067\ttotal: 2.61s\tremaining: 4.79s\n",
            "353:\tlearn: 1711.8966387\ttotal: 2.62s\tremaining: 4.78s\n",
            "354:\tlearn: 1710.0600389\ttotal: 2.62s\tremaining: 4.76s\n",
            "355:\tlearn: 1709.4564664\ttotal: 2.63s\tremaining: 4.75s\n",
            "356:\tlearn: 1708.4228043\ttotal: 2.63s\tremaining: 4.74s\n",
            "357:\tlearn: 1707.3570736\ttotal: 2.64s\tremaining: 4.73s\n",
            "358:\tlearn: 1706.7182613\ttotal: 2.64s\tremaining: 4.72s\n",
            "359:\tlearn: 1705.6052237\ttotal: 2.65s\tremaining: 4.71s\n",
            "360:\tlearn: 1704.3424263\ttotal: 2.65s\tremaining: 4.7s\n",
            "361:\tlearn: 1703.6951246\ttotal: 2.66s\tremaining: 4.68s\n",
            "362:\tlearn: 1702.6925447\ttotal: 2.66s\tremaining: 4.67s\n",
            "363:\tlearn: 1702.4981771\ttotal: 2.67s\tremaining: 4.66s\n",
            "364:\tlearn: 1702.4788415\ttotal: 2.67s\tremaining: 4.65s\n",
            "365:\tlearn: 1700.6380273\ttotal: 2.68s\tremaining: 4.64s\n",
            "366:\tlearn: 1698.9732681\ttotal: 2.68s\tremaining: 4.63s\n",
            "367:\tlearn: 1698.4934176\ttotal: 2.69s\tremaining: 4.62s\n",
            "368:\tlearn: 1697.8317250\ttotal: 2.69s\tremaining: 4.61s\n",
            "369:\tlearn: 1697.6146189\ttotal: 2.7s\tremaining: 4.6s\n",
            "370:\tlearn: 1696.4908709\ttotal: 2.71s\tremaining: 4.59s\n",
            "371:\tlearn: 1695.3707016\ttotal: 2.71s\tremaining: 4.57s\n",
            "372:\tlearn: 1694.4249800\ttotal: 2.72s\tremaining: 4.57s\n",
            "373:\tlearn: 1692.8636708\ttotal: 2.72s\tremaining: 4.56s\n",
            "374:\tlearn: 1691.9105426\ttotal: 2.73s\tremaining: 4.55s\n",
            "375:\tlearn: 1691.0001079\ttotal: 2.73s\tremaining: 4.54s\n",
            "376:\tlearn: 1689.3539822\ttotal: 2.74s\tremaining: 4.53s\n",
            "377:\tlearn: 1688.5976712\ttotal: 2.75s\tremaining: 4.52s\n",
            "378:\tlearn: 1687.3608479\ttotal: 2.75s\tremaining: 4.51s\n",
            "379:\tlearn: 1687.2498993\ttotal: 2.76s\tremaining: 4.5s\n",
            "380:\tlearn: 1686.3166885\ttotal: 2.77s\tremaining: 4.5s\n",
            "381:\tlearn: 1685.3745620\ttotal: 2.77s\tremaining: 4.49s\n",
            "382:\tlearn: 1685.3653260\ttotal: 2.78s\tremaining: 4.47s\n",
            "383:\tlearn: 1684.1481337\ttotal: 2.78s\tremaining: 4.47s\n",
            "384:\tlearn: 1683.8657016\ttotal: 2.79s\tremaining: 4.46s\n",
            "385:\tlearn: 1682.9522747\ttotal: 2.8s\tremaining: 4.45s\n",
            "386:\tlearn: 1681.8587897\ttotal: 2.8s\tremaining: 4.44s\n",
            "387:\tlearn: 1680.9730217\ttotal: 2.81s\tremaining: 4.43s\n",
            "388:\tlearn: 1680.3523861\ttotal: 2.81s\tremaining: 4.42s\n",
            "389:\tlearn: 1680.3393557\ttotal: 2.82s\tremaining: 4.41s\n",
            "390:\tlearn: 1679.5157645\ttotal: 2.82s\tremaining: 4.4s\n",
            "391:\tlearn: 1678.5450866\ttotal: 2.83s\tremaining: 4.39s\n",
            "392:\tlearn: 1678.5349414\ttotal: 2.83s\tremaining: 4.38s\n",
            "393:\tlearn: 1678.0638827\ttotal: 2.84s\tremaining: 4.37s\n",
            "394:\tlearn: 1677.1815786\ttotal: 2.85s\tremaining: 4.36s\n",
            "395:\tlearn: 1677.1217073\ttotal: 2.85s\tremaining: 4.35s\n",
            "396:\tlearn: 1676.5684318\ttotal: 2.86s\tremaining: 4.34s\n",
            "397:\tlearn: 1675.7954593\ttotal: 2.86s\tremaining: 4.33s\n",
            "398:\tlearn: 1675.7835668\ttotal: 2.87s\tremaining: 4.32s\n",
            "399:\tlearn: 1674.7612864\ttotal: 2.88s\tremaining: 4.31s\n",
            "400:\tlearn: 1674.2057797\ttotal: 2.88s\tremaining: 4.31s\n",
            "401:\tlearn: 1673.1210041\ttotal: 2.89s\tremaining: 4.3s\n",
            "402:\tlearn: 1671.8989914\ttotal: 2.9s\tremaining: 4.29s\n",
            "403:\tlearn: 1671.0132465\ttotal: 2.9s\tremaining: 4.28s\n",
            "404:\tlearn: 1669.6052730\ttotal: 2.91s\tremaining: 4.27s\n",
            "405:\tlearn: 1668.5677684\ttotal: 2.91s\tremaining: 4.26s\n",
            "406:\tlearn: 1667.8235172\ttotal: 2.92s\tremaining: 4.25s\n",
            "407:\tlearn: 1667.2640515\ttotal: 2.93s\tremaining: 4.25s\n",
            "408:\tlearn: 1666.4183042\ttotal: 2.93s\tremaining: 4.24s\n",
            "409:\tlearn: 1665.1922919\ttotal: 2.94s\tremaining: 4.22s\n",
            "410:\tlearn: 1664.3444414\ttotal: 2.94s\tremaining: 4.22s\n",
            "411:\tlearn: 1663.5322809\ttotal: 2.95s\tremaining: 4.21s\n",
            "412:\tlearn: 1663.1110489\ttotal: 2.96s\tremaining: 4.2s\n",
            "413:\tlearn: 1662.3295291\ttotal: 2.96s\tremaining: 4.19s\n",
            "414:\tlearn: 1662.3178579\ttotal: 2.97s\tremaining: 4.18s\n",
            "415:\tlearn: 1661.4256768\ttotal: 2.97s\tremaining: 4.17s\n",
            "416:\tlearn: 1660.2996854\ttotal: 2.98s\tremaining: 4.16s\n",
            "417:\tlearn: 1660.2883295\ttotal: 2.98s\tremaining: 4.15s\n",
            "418:\tlearn: 1659.5739251\ttotal: 2.99s\tremaining: 4.14s\n",
            "419:\tlearn: 1659.4331703\ttotal: 2.99s\tremaining: 4.13s\n",
            "420:\tlearn: 1658.7654846\ttotal: 3s\tremaining: 4.12s\n",
            "421:\tlearn: 1658.6997380\ttotal: 3s\tremaining: 4.12s\n",
            "422:\tlearn: 1657.7758444\ttotal: 3.02s\tremaining: 4.12s\n",
            "423:\tlearn: 1656.9715590\ttotal: 3.03s\tremaining: 4.12s\n",
            "424:\tlearn: 1656.2299347\ttotal: 3.05s\tremaining: 4.12s\n",
            "425:\tlearn: 1655.5928004\ttotal: 3.05s\tremaining: 4.11s\n",
            "426:\tlearn: 1655.5263499\ttotal: 3.06s\tremaining: 4.1s\n",
            "427:\tlearn: 1654.3392687\ttotal: 3.06s\tremaining: 4.09s\n",
            "428:\tlearn: 1653.6757216\ttotal: 3.07s\tremaining: 4.09s\n",
            "429:\tlearn: 1652.9284810\ttotal: 3.08s\tremaining: 4.08s\n",
            "430:\tlearn: 1652.7471543\ttotal: 3.08s\tremaining: 4.07s\n",
            "431:\tlearn: 1651.5762822\ttotal: 3.08s\tremaining: 4.06s\n",
            "432:\tlearn: 1650.5166276\ttotal: 3.09s\tremaining: 4.05s\n",
            "433:\tlearn: 1649.2263116\ttotal: 3.1s\tremaining: 4.05s\n",
            "434:\tlearn: 1648.0138401\ttotal: 3.11s\tremaining: 4.04s\n",
            "435:\tlearn: 1647.4017471\ttotal: 3.12s\tremaining: 4.03s\n",
            "436:\tlearn: 1646.8880711\ttotal: 3.12s\tremaining: 4.02s\n",
            "437:\tlearn: 1646.8778889\ttotal: 3.13s\tremaining: 4.01s\n",
            "438:\tlearn: 1646.4465430\ttotal: 3.13s\tremaining: 4s\n",
            "439:\tlearn: 1646.3675477\ttotal: 3.13s\tremaining: 3.99s\n",
            "440:\tlearn: 1646.2902404\ttotal: 3.14s\tremaining: 3.98s\n",
            "441:\tlearn: 1645.8640896\ttotal: 3.14s\tremaining: 3.96s\n",
            "442:\tlearn: 1645.8575707\ttotal: 3.15s\tremaining: 3.96s\n",
            "443:\tlearn: 1644.3390666\ttotal: 3.15s\tremaining: 3.94s\n",
            "444:\tlearn: 1643.6667267\ttotal: 3.15s\tremaining: 3.93s\n",
            "445:\tlearn: 1643.6453776\ttotal: 3.16s\tremaining: 3.92s\n",
            "446:\tlearn: 1642.7000443\ttotal: 3.16s\tremaining: 3.91s\n",
            "447:\tlearn: 1642.2685157\ttotal: 3.17s\tremaining: 3.9s\n",
            "448:\tlearn: 1641.4684339\ttotal: 3.17s\tremaining: 3.89s\n",
            "449:\tlearn: 1640.5308829\ttotal: 3.17s\tremaining: 3.88s\n",
            "450:\tlearn: 1639.8548059\ttotal: 3.18s\tremaining: 3.87s\n",
            "451:\tlearn: 1638.7182125\ttotal: 3.18s\tremaining: 3.86s\n",
            "452:\tlearn: 1638.2741264\ttotal: 3.19s\tremaining: 3.85s\n",
            "453:\tlearn: 1637.5761972\ttotal: 3.19s\tremaining: 3.84s\n",
            "454:\tlearn: 1636.6130268\ttotal: 3.19s\tremaining: 3.83s\n",
            "455:\tlearn: 1635.2122401\ttotal: 3.21s\tremaining: 3.83s\n",
            "456:\tlearn: 1634.3739190\ttotal: 3.21s\tremaining: 3.82s\n",
            "457:\tlearn: 1633.4613240\ttotal: 3.22s\tremaining: 3.81s\n",
            "458:\tlearn: 1632.6107945\ttotal: 3.22s\tremaining: 3.8s\n",
            "459:\tlearn: 1631.6348372\ttotal: 3.23s\tremaining: 3.79s\n",
            "460:\tlearn: 1630.7430086\ttotal: 3.23s\tremaining: 3.78s\n",
            "461:\tlearn: 1629.7120952\ttotal: 3.24s\tremaining: 3.77s\n",
            "462:\tlearn: 1628.7039625\ttotal: 3.24s\tremaining: 3.76s\n",
            "463:\tlearn: 1628.0058899\ttotal: 3.25s\tremaining: 3.75s\n",
            "464:\tlearn: 1627.3083549\ttotal: 3.25s\tremaining: 3.74s\n",
            "465:\tlearn: 1626.7228473\ttotal: 3.25s\tremaining: 3.73s\n",
            "466:\tlearn: 1626.0910173\ttotal: 3.26s\tremaining: 3.72s\n",
            "467:\tlearn: 1625.5368954\ttotal: 3.26s\tremaining: 3.71s\n",
            "468:\tlearn: 1625.4496746\ttotal: 3.27s\tremaining: 3.7s\n",
            "469:\tlearn: 1624.7112217\ttotal: 3.27s\tremaining: 3.69s\n",
            "470:\tlearn: 1624.2622200\ttotal: 3.27s\tremaining: 3.68s\n",
            "471:\tlearn: 1624.2544618\ttotal: 3.28s\tremaining: 3.67s\n",
            "472:\tlearn: 1623.7022772\ttotal: 3.28s\tremaining: 3.66s\n",
            "473:\tlearn: 1622.9758180\ttotal: 3.29s\tremaining: 3.65s\n",
            "474:\tlearn: 1622.4563447\ttotal: 3.29s\tremaining: 3.64s\n",
            "475:\tlearn: 1621.7731100\ttotal: 3.29s\tremaining: 3.63s\n",
            "476:\tlearn: 1621.1142457\ttotal: 3.3s\tremaining: 3.62s\n",
            "477:\tlearn: 1619.8373853\ttotal: 3.3s\tremaining: 3.61s\n",
            "478:\tlearn: 1619.0926589\ttotal: 3.31s\tremaining: 3.6s\n",
            "479:\tlearn: 1619.0830420\ttotal: 3.31s\tremaining: 3.59s\n",
            "480:\tlearn: 1619.0772375\ttotal: 3.32s\tremaining: 3.58s\n",
            "481:\tlearn: 1618.4094727\ttotal: 3.32s\tremaining: 3.57s\n",
            "482:\tlearn: 1617.6254499\ttotal: 3.33s\tremaining: 3.56s\n",
            "483:\tlearn: 1616.7895567\ttotal: 3.34s\tremaining: 3.56s\n",
            "484:\tlearn: 1615.6639556\ttotal: 3.35s\tremaining: 3.56s\n",
            "485:\tlearn: 1615.0438262\ttotal: 3.37s\tremaining: 3.56s\n",
            "486:\tlearn: 1614.3352333\ttotal: 3.37s\tremaining: 3.55s\n",
            "487:\tlearn: 1614.3024114\ttotal: 3.38s\tremaining: 3.55s\n",
            "488:\tlearn: 1613.6410348\ttotal: 3.41s\tremaining: 3.57s\n",
            "489:\tlearn: 1612.8816057\ttotal: 3.42s\tremaining: 3.56s\n",
            "490:\tlearn: 1612.5222079\ttotal: 3.43s\tremaining: 3.56s\n",
            "491:\tlearn: 1611.5621219\ttotal: 3.44s\tremaining: 3.55s\n",
            "492:\tlearn: 1610.8252079\ttotal: 3.45s\tremaining: 3.55s\n",
            "493:\tlearn: 1609.9525343\ttotal: 3.45s\tremaining: 3.54s\n",
            "494:\tlearn: 1608.4691461\ttotal: 3.46s\tremaining: 3.53s\n",
            "495:\tlearn: 1607.9883122\ttotal: 3.46s\tremaining: 3.52s\n",
            "496:\tlearn: 1607.2751655\ttotal: 3.46s\tremaining: 3.51s\n",
            "497:\tlearn: 1606.8330984\ttotal: 3.47s\tremaining: 3.5s\n",
            "498:\tlearn: 1606.8248170\ttotal: 3.47s\tremaining: 3.49s\n",
            "499:\tlearn: 1606.2762544\ttotal: 3.48s\tremaining: 3.48s\n",
            "500:\tlearn: 1605.7741311\ttotal: 3.48s\tremaining: 3.47s\n",
            "501:\tlearn: 1604.7832547\ttotal: 3.49s\tremaining: 3.46s\n",
            "502:\tlearn: 1604.0246624\ttotal: 3.49s\tremaining: 3.45s\n",
            "503:\tlearn: 1603.4539587\ttotal: 3.5s\tremaining: 3.44s\n",
            "504:\tlearn: 1602.6018182\ttotal: 3.5s\tremaining: 3.43s\n",
            "505:\tlearn: 1601.9053810\ttotal: 3.5s\tremaining: 3.42s\n",
            "506:\tlearn: 1601.7180851\ttotal: 3.51s\tremaining: 3.41s\n",
            "507:\tlearn: 1601.1230396\ttotal: 3.51s\tremaining: 3.4s\n",
            "508:\tlearn: 1601.0062587\ttotal: 3.52s\tremaining: 3.39s\n",
            "509:\tlearn: 1600.4310960\ttotal: 3.53s\tremaining: 3.39s\n",
            "510:\tlearn: 1600.0121639\ttotal: 3.54s\tremaining: 3.39s\n",
            "511:\tlearn: 1598.7379098\ttotal: 3.54s\tremaining: 3.38s\n",
            "512:\tlearn: 1597.8127483\ttotal: 3.55s\tremaining: 3.37s\n",
            "513:\tlearn: 1597.8080633\ttotal: 3.55s\tremaining: 3.36s\n",
            "514:\tlearn: 1597.1631563\ttotal: 3.56s\tremaining: 3.35s\n",
            "515:\tlearn: 1596.1793943\ttotal: 3.56s\tremaining: 3.34s\n",
            "516:\tlearn: 1595.4842590\ttotal: 3.57s\tremaining: 3.33s\n",
            "517:\tlearn: 1593.9161420\ttotal: 3.58s\tremaining: 3.33s\n",
            "518:\tlearn: 1593.1073916\ttotal: 3.59s\tremaining: 3.33s\n",
            "519:\tlearn: 1593.0693129\ttotal: 3.62s\tremaining: 3.34s\n",
            "520:\tlearn: 1592.2321611\ttotal: 3.62s\tremaining: 3.33s\n",
            "521:\tlearn: 1591.2905653\ttotal: 3.63s\tremaining: 3.33s\n",
            "522:\tlearn: 1590.4213259\ttotal: 3.64s\tremaining: 3.32s\n",
            "523:\tlearn: 1590.3399523\ttotal: 3.64s\tremaining: 3.31s\n",
            "524:\tlearn: 1589.7436960\ttotal: 3.65s\tremaining: 3.3s\n",
            "525:\tlearn: 1589.1939304\ttotal: 3.65s\tremaining: 3.29s\n",
            "526:\tlearn: 1588.8468717\ttotal: 3.66s\tremaining: 3.29s\n",
            "527:\tlearn: 1588.8433189\ttotal: 3.67s\tremaining: 3.28s\n",
            "528:\tlearn: 1588.2166192\ttotal: 3.67s\tremaining: 3.27s\n",
            "529:\tlearn: 1587.6074543\ttotal: 3.67s\tremaining: 3.26s\n",
            "530:\tlearn: 1586.5424952\ttotal: 3.68s\tremaining: 3.25s\n",
            "531:\tlearn: 1586.5358638\ttotal: 3.69s\tremaining: 3.24s\n",
            "532:\tlearn: 1585.6948721\ttotal: 3.69s\tremaining: 3.23s\n",
            "533:\tlearn: 1585.2232425\ttotal: 3.69s\tremaining: 3.22s\n",
            "534:\tlearn: 1584.6888646\ttotal: 3.7s\tremaining: 3.21s\n",
            "535:\tlearn: 1583.5615763\ttotal: 3.7s\tremaining: 3.21s\n",
            "536:\tlearn: 1582.6483115\ttotal: 3.71s\tremaining: 3.2s\n",
            "537:\tlearn: 1582.0557037\ttotal: 3.71s\tremaining: 3.19s\n",
            "538:\tlearn: 1581.2143040\ttotal: 3.72s\tremaining: 3.18s\n",
            "539:\tlearn: 1580.4380867\ttotal: 3.72s\tremaining: 3.17s\n",
            "540:\tlearn: 1579.5303061\ttotal: 3.73s\tremaining: 3.16s\n",
            "541:\tlearn: 1578.8410565\ttotal: 3.73s\tremaining: 3.15s\n",
            "542:\tlearn: 1578.1809600\ttotal: 3.73s\tremaining: 3.14s\n",
            "543:\tlearn: 1577.7203095\ttotal: 3.74s\tremaining: 3.13s\n",
            "544:\tlearn: 1577.7129904\ttotal: 3.74s\tremaining: 3.12s\n",
            "545:\tlearn: 1577.2242673\ttotal: 3.75s\tremaining: 3.12s\n",
            "546:\tlearn: 1576.5582277\ttotal: 3.75s\tremaining: 3.11s\n",
            "547:\tlearn: 1576.1212833\ttotal: 3.76s\tremaining: 3.1s\n",
            "548:\tlearn: 1575.8786560\ttotal: 3.76s\tremaining: 3.09s\n",
            "549:\tlearn: 1575.2344320\ttotal: 3.77s\tremaining: 3.08s\n",
            "550:\tlearn: 1575.1915938\ttotal: 3.77s\tremaining: 3.07s\n",
            "551:\tlearn: 1574.2996311\ttotal: 3.77s\tremaining: 3.06s\n",
            "552:\tlearn: 1573.5210742\ttotal: 3.78s\tremaining: 3.05s\n",
            "553:\tlearn: 1572.7087063\ttotal: 3.78s\tremaining: 3.05s\n",
            "554:\tlearn: 1572.1456153\ttotal: 3.79s\tremaining: 3.04s\n",
            "555:\tlearn: 1571.5981772\ttotal: 3.79s\tremaining: 3.03s\n",
            "556:\tlearn: 1571.1349874\ttotal: 3.8s\tremaining: 3.02s\n",
            "557:\tlearn: 1570.5098133\ttotal: 3.8s\tremaining: 3.01s\n",
            "558:\tlearn: 1569.4602782\ttotal: 3.81s\tremaining: 3s\n",
            "559:\tlearn: 1568.5203017\ttotal: 3.81s\tremaining: 3s\n",
            "560:\tlearn: 1568.0813176\ttotal: 3.82s\tremaining: 2.99s\n",
            "561:\tlearn: 1567.0769469\ttotal: 3.82s\tremaining: 2.98s\n",
            "562:\tlearn: 1567.0696187\ttotal: 3.83s\tremaining: 2.97s\n",
            "563:\tlearn: 1566.6670831\ttotal: 3.83s\tremaining: 2.96s\n",
            "564:\tlearn: 1566.2504390\ttotal: 3.84s\tremaining: 2.95s\n",
            "565:\tlearn: 1566.1996582\ttotal: 3.84s\tremaining: 2.94s\n",
            "566:\tlearn: 1565.2957164\ttotal: 3.85s\tremaining: 2.94s\n",
            "567:\tlearn: 1564.4645508\ttotal: 3.85s\tremaining: 2.93s\n",
            "568:\tlearn: 1563.7485387\ttotal: 3.85s\tremaining: 2.92s\n",
            "569:\tlearn: 1563.2254266\ttotal: 3.86s\tremaining: 2.91s\n",
            "570:\tlearn: 1562.7083823\ttotal: 3.86s\tremaining: 2.9s\n",
            "571:\tlearn: 1562.4788015\ttotal: 3.87s\tremaining: 2.89s\n",
            "572:\tlearn: 1561.9515071\ttotal: 3.87s\tremaining: 2.88s\n",
            "573:\tlearn: 1561.3996844\ttotal: 3.87s\tremaining: 2.87s\n",
            "574:\tlearn: 1560.7232462\ttotal: 3.88s\tremaining: 2.87s\n",
            "575:\tlearn: 1560.7166069\ttotal: 3.88s\tremaining: 2.86s\n",
            "576:\tlearn: 1560.3653283\ttotal: 3.88s\tremaining: 2.85s\n",
            "577:\tlearn: 1560.3589083\ttotal: 3.89s\tremaining: 2.84s\n",
            "578:\tlearn: 1559.3463316\ttotal: 3.89s\tremaining: 2.83s\n",
            "579:\tlearn: 1559.1597505\ttotal: 3.9s\tremaining: 2.82s\n",
            "580:\tlearn: 1559.1560512\ttotal: 3.9s\tremaining: 2.81s\n",
            "581:\tlearn: 1558.4373278\ttotal: 3.9s\tremaining: 2.8s\n",
            "582:\tlearn: 1557.9849492\ttotal: 3.91s\tremaining: 2.79s\n",
            "583:\tlearn: 1557.9470459\ttotal: 3.91s\tremaining: 2.79s\n",
            "584:\tlearn: 1556.6449363\ttotal: 3.92s\tremaining: 2.78s\n",
            "585:\tlearn: 1555.9259679\ttotal: 3.92s\tremaining: 2.77s\n",
            "586:\tlearn: 1555.2808913\ttotal: 3.92s\tremaining: 2.76s\n",
            "587:\tlearn: 1554.6569249\ttotal: 3.93s\tremaining: 2.75s\n",
            "588:\tlearn: 1554.1697493\ttotal: 3.93s\tremaining: 2.75s\n",
            "589:\tlearn: 1553.5382235\ttotal: 3.94s\tremaining: 2.74s\n",
            "590:\tlearn: 1552.7263924\ttotal: 3.94s\tremaining: 2.73s\n",
            "591:\tlearn: 1552.3175944\ttotal: 3.95s\tremaining: 2.72s\n",
            "592:\tlearn: 1551.7437021\ttotal: 3.95s\tremaining: 2.71s\n",
            "593:\tlearn: 1551.7395104\ttotal: 3.96s\tremaining: 2.7s\n",
            "594:\tlearn: 1551.2834197\ttotal: 3.96s\tremaining: 2.7s\n",
            "595:\tlearn: 1550.1361809\ttotal: 3.96s\tremaining: 2.69s\n",
            "596:\tlearn: 1549.2039450\ttotal: 3.97s\tremaining: 2.68s\n",
            "597:\tlearn: 1548.9102460\ttotal: 3.97s\tremaining: 2.67s\n",
            "598:\tlearn: 1548.5554289\ttotal: 3.98s\tremaining: 2.66s\n",
            "599:\tlearn: 1547.6290297\ttotal: 3.98s\tremaining: 2.65s\n",
            "600:\tlearn: 1547.2791161\ttotal: 3.99s\tremaining: 2.65s\n",
            "601:\tlearn: 1546.7289073\ttotal: 4s\tremaining: 2.64s\n",
            "602:\tlearn: 1546.7231909\ttotal: 4s\tremaining: 2.63s\n",
            "603:\tlearn: 1545.5372196\ttotal: 4s\tremaining: 2.63s\n",
            "604:\tlearn: 1544.6245534\ttotal: 4.01s\tremaining: 2.62s\n",
            "605:\tlearn: 1543.8451760\ttotal: 4.01s\tremaining: 2.61s\n",
            "606:\tlearn: 1543.3621785\ttotal: 4.02s\tremaining: 2.6s\n",
            "607:\tlearn: 1542.9041120\ttotal: 4.02s\tremaining: 2.59s\n",
            "608:\tlearn: 1542.5344686\ttotal: 4.03s\tremaining: 2.58s\n",
            "609:\tlearn: 1542.1057756\ttotal: 4.03s\tremaining: 2.58s\n",
            "610:\tlearn: 1541.0586696\ttotal: 4.04s\tremaining: 2.57s\n",
            "611:\tlearn: 1540.7820514\ttotal: 4.04s\tremaining: 2.56s\n",
            "612:\tlearn: 1539.8654707\ttotal: 4.04s\tremaining: 2.55s\n",
            "613:\tlearn: 1539.2353129\ttotal: 4.05s\tremaining: 2.54s\n",
            "614:\tlearn: 1538.8736950\ttotal: 4.05s\tremaining: 2.54s\n",
            "615:\tlearn: 1538.2131674\ttotal: 4.06s\tremaining: 2.53s\n",
            "616:\tlearn: 1537.5554887\ttotal: 4.06s\tremaining: 2.52s\n",
            "617:\tlearn: 1537.2131922\ttotal: 4.06s\tremaining: 2.51s\n",
            "618:\tlearn: 1536.8173234\ttotal: 4.07s\tremaining: 2.5s\n",
            "619:\tlearn: 1536.1052756\ttotal: 4.07s\tremaining: 2.5s\n",
            "620:\tlearn: 1535.1996869\ttotal: 4.08s\tremaining: 2.49s\n",
            "621:\tlearn: 1534.7568360\ttotal: 4.08s\tremaining: 2.48s\n",
            "622:\tlearn: 1533.6734381\ttotal: 4.09s\tremaining: 2.47s\n",
            "623:\tlearn: 1533.2817782\ttotal: 4.09s\tremaining: 2.46s\n",
            "624:\tlearn: 1531.9847430\ttotal: 4.1s\tremaining: 2.46s\n",
            "625:\tlearn: 1531.6709164\ttotal: 4.12s\tremaining: 2.46s\n",
            "626:\tlearn: 1531.4089851\ttotal: 4.13s\tremaining: 2.46s\n",
            "627:\tlearn: 1531.0177469\ttotal: 4.14s\tremaining: 2.45s\n",
            "628:\tlearn: 1530.6774057\ttotal: 4.15s\tremaining: 2.44s\n",
            "629:\tlearn: 1530.0732918\ttotal: 4.15s\tremaining: 2.44s\n",
            "630:\tlearn: 1529.6138379\ttotal: 4.16s\tremaining: 2.43s\n",
            "631:\tlearn: 1529.1466712\ttotal: 4.16s\tremaining: 2.42s\n",
            "632:\tlearn: 1528.6969230\ttotal: 4.17s\tremaining: 2.42s\n",
            "633:\tlearn: 1528.4074316\ttotal: 4.18s\tremaining: 2.41s\n",
            "634:\tlearn: 1527.8535961\ttotal: 4.18s\tremaining: 2.4s\n",
            "635:\tlearn: 1526.8717055\ttotal: 4.19s\tremaining: 2.4s\n",
            "636:\tlearn: 1526.5451433\ttotal: 4.2s\tremaining: 2.39s\n",
            "637:\tlearn: 1525.9539998\ttotal: 4.21s\tremaining: 2.39s\n",
            "638:\tlearn: 1525.3612626\ttotal: 4.21s\tremaining: 2.38s\n",
            "639:\tlearn: 1525.3580688\ttotal: 4.21s\tremaining: 2.37s\n",
            "640:\tlearn: 1525.3549660\ttotal: 4.21s\tremaining: 2.36s\n",
            "641:\tlearn: 1525.1129634\ttotal: 4.22s\tremaining: 2.35s\n",
            "642:\tlearn: 1524.2170038\ttotal: 4.22s\tremaining: 2.34s\n",
            "643:\tlearn: 1523.6686018\ttotal: 4.23s\tremaining: 2.34s\n",
            "644:\tlearn: 1522.9980245\ttotal: 4.23s\tremaining: 2.33s\n",
            "645:\tlearn: 1521.9763270\ttotal: 4.24s\tremaining: 2.32s\n",
            "646:\tlearn: 1521.9710780\ttotal: 4.24s\tremaining: 2.31s\n",
            "647:\tlearn: 1521.4298819\ttotal: 4.25s\tremaining: 2.31s\n",
            "648:\tlearn: 1521.4247958\ttotal: 4.25s\tremaining: 2.3s\n",
            "649:\tlearn: 1520.9368289\ttotal: 4.25s\tremaining: 2.29s\n",
            "650:\tlearn: 1520.2509763\ttotal: 4.26s\tremaining: 2.28s\n",
            "651:\tlearn: 1519.1263824\ttotal: 4.26s\tremaining: 2.27s\n",
            "652:\tlearn: 1518.7260604\ttotal: 4.26s\tremaining: 2.27s\n",
            "653:\tlearn: 1518.3368834\ttotal: 4.27s\tremaining: 2.26s\n",
            "654:\tlearn: 1517.6375620\ttotal: 4.27s\tremaining: 2.25s\n",
            "655:\tlearn: 1517.2213237\ttotal: 4.28s\tremaining: 2.24s\n",
            "656:\tlearn: 1516.9710948\ttotal: 4.28s\tremaining: 2.23s\n",
            "657:\tlearn: 1516.2691380\ttotal: 4.29s\tremaining: 2.23s\n",
            "658:\tlearn: 1515.8044648\ttotal: 4.29s\tremaining: 2.22s\n",
            "659:\tlearn: 1514.8206724\ttotal: 4.29s\tremaining: 2.21s\n",
            "660:\tlearn: 1514.3504639\ttotal: 4.3s\tremaining: 2.2s\n",
            "661:\tlearn: 1514.3229831\ttotal: 4.3s\tremaining: 2.2s\n",
            "662:\tlearn: 1513.6007305\ttotal: 4.31s\tremaining: 2.19s\n",
            "663:\tlearn: 1513.0918781\ttotal: 4.31s\tremaining: 2.18s\n",
            "664:\tlearn: 1512.7977061\ttotal: 4.32s\tremaining: 2.17s\n",
            "665:\tlearn: 1512.4112519\ttotal: 4.32s\tremaining: 2.17s\n",
            "666:\tlearn: 1512.1090491\ttotal: 4.33s\tremaining: 2.16s\n",
            "667:\tlearn: 1511.3236721\ttotal: 4.33s\tremaining: 2.15s\n",
            "668:\tlearn: 1510.6262787\ttotal: 4.34s\tremaining: 2.15s\n",
            "669:\tlearn: 1510.6236099\ttotal: 4.34s\tremaining: 2.14s\n",
            "670:\tlearn: 1509.8371387\ttotal: 4.35s\tremaining: 2.13s\n",
            "671:\tlearn: 1509.2874087\ttotal: 4.36s\tremaining: 2.13s\n",
            "672:\tlearn: 1509.2834648\ttotal: 4.36s\tremaining: 2.12s\n",
            "673:\tlearn: 1509.2783078\ttotal: 4.37s\tremaining: 2.11s\n",
            "674:\tlearn: 1508.6425759\ttotal: 4.38s\tremaining: 2.11s\n",
            "675:\tlearn: 1507.9908505\ttotal: 4.39s\tremaining: 2.1s\n",
            "676:\tlearn: 1507.4353868\ttotal: 4.39s\tremaining: 2.1s\n",
            "677:\tlearn: 1506.6989363\ttotal: 4.4s\tremaining: 2.09s\n",
            "678:\tlearn: 1506.1226434\ttotal: 4.4s\tremaining: 2.08s\n",
            "679:\tlearn: 1505.6428927\ttotal: 4.41s\tremaining: 2.08s\n",
            "680:\tlearn: 1505.3656753\ttotal: 4.42s\tremaining: 2.07s\n",
            "681:\tlearn: 1504.5243896\ttotal: 4.42s\tremaining: 2.06s\n",
            "682:\tlearn: 1504.4896435\ttotal: 4.42s\tremaining: 2.05s\n",
            "683:\tlearn: 1503.9619162\ttotal: 4.43s\tremaining: 2.05s\n",
            "684:\tlearn: 1503.7882074\ttotal: 4.43s\tremaining: 2.04s\n",
            "685:\tlearn: 1502.7354588\ttotal: 4.44s\tremaining: 2.03s\n",
            "686:\tlearn: 1502.2006975\ttotal: 4.44s\tremaining: 2.02s\n",
            "687:\tlearn: 1501.8801632\ttotal: 4.45s\tremaining: 2.02s\n",
            "688:\tlearn: 1501.4683597\ttotal: 4.45s\tremaining: 2.01s\n",
            "689:\tlearn: 1501.2054638\ttotal: 4.46s\tremaining: 2s\n",
            "690:\tlearn: 1500.8709512\ttotal: 4.47s\tremaining: 2s\n",
            "691:\tlearn: 1500.5730072\ttotal: 4.47s\tremaining: 1.99s\n",
            "692:\tlearn: 1499.7862031\ttotal: 4.48s\tremaining: 1.98s\n",
            "693:\tlearn: 1499.5505532\ttotal: 4.48s\tremaining: 1.98s\n",
            "694:\tlearn: 1498.9040313\ttotal: 4.49s\tremaining: 1.97s\n",
            "695:\tlearn: 1498.0356110\ttotal: 4.49s\tremaining: 1.96s\n",
            "696:\tlearn: 1497.4218832\ttotal: 4.5s\tremaining: 1.96s\n",
            "697:\tlearn: 1497.0780310\ttotal: 4.51s\tremaining: 1.95s\n",
            "698:\tlearn: 1496.6375892\ttotal: 4.51s\tremaining: 1.94s\n",
            "699:\tlearn: 1496.0922301\ttotal: 4.52s\tremaining: 1.94s\n",
            "700:\tlearn: 1495.2260921\ttotal: 4.53s\tremaining: 1.93s\n",
            "701:\tlearn: 1494.7987280\ttotal: 4.53s\tremaining: 1.92s\n",
            "702:\tlearn: 1494.2722220\ttotal: 4.54s\tremaining: 1.92s\n",
            "703:\tlearn: 1493.8836251\ttotal: 4.55s\tremaining: 1.91s\n",
            "704:\tlearn: 1493.3291796\ttotal: 4.55s\tremaining: 1.9s\n",
            "705:\tlearn: 1493.0720436\ttotal: 4.56s\tremaining: 1.9s\n",
            "706:\tlearn: 1492.2969504\ttotal: 4.56s\tremaining: 1.89s\n",
            "707:\tlearn: 1491.9967125\ttotal: 4.57s\tremaining: 1.88s\n",
            "708:\tlearn: 1491.6785699\ttotal: 4.57s\tremaining: 1.88s\n",
            "709:\tlearn: 1490.9308481\ttotal: 4.58s\tremaining: 1.87s\n",
            "710:\tlearn: 1490.7545667\ttotal: 4.58s\tremaining: 1.86s\n",
            "711:\tlearn: 1490.4655127\ttotal: 4.58s\tremaining: 1.85s\n",
            "712:\tlearn: 1490.1238831\ttotal: 4.59s\tremaining: 1.85s\n",
            "713:\tlearn: 1489.8331838\ttotal: 4.6s\tremaining: 1.84s\n",
            "714:\tlearn: 1489.4296741\ttotal: 4.6s\tremaining: 1.83s\n",
            "715:\tlearn: 1489.0651978\ttotal: 4.61s\tremaining: 1.83s\n",
            "716:\tlearn: 1488.7996804\ttotal: 4.61s\tremaining: 1.82s\n",
            "717:\tlearn: 1488.6740871\ttotal: 4.62s\tremaining: 1.81s\n",
            "718:\tlearn: 1488.2827462\ttotal: 4.63s\tremaining: 1.81s\n",
            "719:\tlearn: 1488.0238320\ttotal: 4.63s\tremaining: 1.8s\n",
            "720:\tlearn: 1487.3662632\ttotal: 4.65s\tremaining: 1.8s\n",
            "721:\tlearn: 1486.8443457\ttotal: 4.66s\tremaining: 1.79s\n",
            "722:\tlearn: 1485.9918883\ttotal: 4.67s\tremaining: 1.79s\n",
            "723:\tlearn: 1485.6340797\ttotal: 4.67s\tremaining: 1.78s\n",
            "724:\tlearn: 1484.9905478\ttotal: 4.68s\tremaining: 1.77s\n",
            "725:\tlearn: 1484.4843779\ttotal: 4.68s\tremaining: 1.77s\n",
            "726:\tlearn: 1484.1954503\ttotal: 4.69s\tremaining: 1.76s\n",
            "727:\tlearn: 1483.6560772\ttotal: 4.69s\tremaining: 1.75s\n",
            "728:\tlearn: 1483.6536038\ttotal: 4.7s\tremaining: 1.75s\n",
            "729:\tlearn: 1483.1775397\ttotal: 4.7s\tremaining: 1.74s\n",
            "730:\tlearn: 1482.7431368\ttotal: 4.71s\tremaining: 1.73s\n",
            "731:\tlearn: 1482.2211218\ttotal: 4.71s\tremaining: 1.73s\n",
            "732:\tlearn: 1481.4104156\ttotal: 4.72s\tremaining: 1.72s\n",
            "733:\tlearn: 1481.0754196\ttotal: 4.72s\tremaining: 1.71s\n",
            "734:\tlearn: 1480.6449104\ttotal: 4.73s\tremaining: 1.71s\n",
            "735:\tlearn: 1479.8553875\ttotal: 4.74s\tremaining: 1.7s\n",
            "736:\tlearn: 1479.6147841\ttotal: 4.74s\tremaining: 1.69s\n",
            "737:\tlearn: 1479.6097116\ttotal: 4.75s\tremaining: 1.69s\n",
            "738:\tlearn: 1479.2266130\ttotal: 4.75s\tremaining: 1.68s\n",
            "739:\tlearn: 1478.7468385\ttotal: 4.76s\tremaining: 1.67s\n",
            "740:\tlearn: 1478.2448187\ttotal: 4.77s\tremaining: 1.67s\n",
            "741:\tlearn: 1477.9312039\ttotal: 4.77s\tremaining: 1.66s\n",
            "742:\tlearn: 1477.3674445\ttotal: 4.78s\tremaining: 1.65s\n",
            "743:\tlearn: 1476.5042142\ttotal: 4.79s\tremaining: 1.65s\n",
            "744:\tlearn: 1476.0905853\ttotal: 4.8s\tremaining: 1.64s\n",
            "745:\tlearn: 1475.7560802\ttotal: 4.81s\tremaining: 1.64s\n",
            "746:\tlearn: 1475.5600092\ttotal: 4.82s\tremaining: 1.63s\n",
            "747:\tlearn: 1475.5550884\ttotal: 4.82s\tremaining: 1.62s\n",
            "748:\tlearn: 1475.2031736\ttotal: 4.83s\tremaining: 1.62s\n",
            "749:\tlearn: 1474.7343241\ttotal: 4.84s\tremaining: 1.61s\n",
            "750:\tlearn: 1474.3655389\ttotal: 4.84s\tremaining: 1.61s\n",
            "751:\tlearn: 1474.0582962\ttotal: 4.85s\tremaining: 1.6s\n",
            "752:\tlearn: 1473.7466707\ttotal: 4.86s\tremaining: 1.59s\n",
            "753:\tlearn: 1473.5724441\ttotal: 4.87s\tremaining: 1.59s\n",
            "754:\tlearn: 1473.2367642\ttotal: 4.87s\tremaining: 1.58s\n",
            "755:\tlearn: 1472.7266545\ttotal: 4.88s\tremaining: 1.57s\n",
            "756:\tlearn: 1472.7226038\ttotal: 4.89s\tremaining: 1.57s\n",
            "757:\tlearn: 1472.7187060\ttotal: 4.89s\tremaining: 1.56s\n",
            "758:\tlearn: 1472.3058197\ttotal: 4.9s\tremaining: 1.55s\n",
            "759:\tlearn: 1472.0110004\ttotal: 4.91s\tremaining: 1.55s\n",
            "760:\tlearn: 1471.5231324\ttotal: 4.92s\tremaining: 1.54s\n",
            "761:\tlearn: 1471.5209949\ttotal: 4.93s\tremaining: 1.54s\n",
            "762:\tlearn: 1471.1386098\ttotal: 4.94s\tremaining: 1.53s\n",
            "763:\tlearn: 1470.3570407\ttotal: 4.96s\tremaining: 1.53s\n",
            "764:\tlearn: 1469.8520225\ttotal: 4.96s\tremaining: 1.52s\n",
            "765:\tlearn: 1469.8483934\ttotal: 4.97s\tremaining: 1.52s\n",
            "766:\tlearn: 1469.3414735\ttotal: 4.98s\tremaining: 1.51s\n",
            "767:\tlearn: 1468.8742368\ttotal: 4.98s\tremaining: 1.5s\n",
            "768:\tlearn: 1468.6593169\ttotal: 4.99s\tremaining: 1.5s\n",
            "769:\tlearn: 1468.4238280\ttotal: 5s\tremaining: 1.49s\n",
            "770:\tlearn: 1468.2419287\ttotal: 5s\tremaining: 1.49s\n",
            "771:\tlearn: 1467.8771263\ttotal: 5.01s\tremaining: 1.48s\n",
            "772:\tlearn: 1467.7027453\ttotal: 5.01s\tremaining: 1.47s\n",
            "773:\tlearn: 1467.1872726\ttotal: 5.03s\tremaining: 1.47s\n",
            "774:\tlearn: 1466.3956019\ttotal: 5.03s\tremaining: 1.46s\n",
            "775:\tlearn: 1466.0473430\ttotal: 5.04s\tremaining: 1.45s\n",
            "776:\tlearn: 1465.5061050\ttotal: 5.04s\tremaining: 1.45s\n",
            "777:\tlearn: 1465.0647425\ttotal: 5.05s\tremaining: 1.44s\n",
            "778:\tlearn: 1464.8589386\ttotal: 5.06s\tremaining: 1.43s\n",
            "779:\tlearn: 1464.5699796\ttotal: 5.06s\tremaining: 1.43s\n",
            "780:\tlearn: 1464.2398427\ttotal: 5.07s\tremaining: 1.42s\n",
            "781:\tlearn: 1463.5882305\ttotal: 5.07s\tremaining: 1.41s\n",
            "782:\tlearn: 1463.2603730\ttotal: 5.08s\tremaining: 1.41s\n",
            "783:\tlearn: 1462.8708785\ttotal: 5.09s\tremaining: 1.4s\n",
            "784:\tlearn: 1462.6241174\ttotal: 5.09s\tremaining: 1.39s\n",
            "785:\tlearn: 1461.8440981\ttotal: 5.1s\tremaining: 1.39s\n",
            "786:\tlearn: 1461.5016436\ttotal: 5.1s\tremaining: 1.38s\n",
            "787:\tlearn: 1461.3249833\ttotal: 5.12s\tremaining: 1.38s\n",
            "788:\tlearn: 1461.3197895\ttotal: 5.13s\tremaining: 1.37s\n",
            "789:\tlearn: 1461.3177745\ttotal: 5.14s\tremaining: 1.37s\n",
            "790:\tlearn: 1461.0518284\ttotal: 5.16s\tremaining: 1.36s\n",
            "791:\tlearn: 1460.5921315\ttotal: 5.18s\tremaining: 1.36s\n",
            "792:\tlearn: 1460.2121733\ttotal: 5.19s\tremaining: 1.35s\n",
            "793:\tlearn: 1459.9359226\ttotal: 5.19s\tremaining: 1.35s\n",
            "794:\tlearn: 1459.3348157\ttotal: 5.2s\tremaining: 1.34s\n",
            "795:\tlearn: 1458.8742722\ttotal: 5.21s\tremaining: 1.33s\n",
            "796:\tlearn: 1458.3295069\ttotal: 5.22s\tremaining: 1.33s\n",
            "797:\tlearn: 1457.9688362\ttotal: 5.23s\tremaining: 1.32s\n",
            "798:\tlearn: 1457.9648254\ttotal: 5.24s\tremaining: 1.32s\n",
            "799:\tlearn: 1457.5744072\ttotal: 5.25s\tremaining: 1.31s\n",
            "800:\tlearn: 1457.4719176\ttotal: 5.25s\tremaining: 1.3s\n",
            "801:\tlearn: 1456.9861579\ttotal: 5.28s\tremaining: 1.3s\n",
            "802:\tlearn: 1456.5283355\ttotal: 5.29s\tremaining: 1.3s\n",
            "803:\tlearn: 1455.7776125\ttotal: 5.3s\tremaining: 1.29s\n",
            "804:\tlearn: 1455.4551489\ttotal: 5.31s\tremaining: 1.29s\n",
            "805:\tlearn: 1455.0160226\ttotal: 5.32s\tremaining: 1.28s\n",
            "806:\tlearn: 1454.4274768\ttotal: 5.36s\tremaining: 1.28s\n",
            "807:\tlearn: 1454.2174687\ttotal: 5.38s\tremaining: 1.28s\n",
            "808:\tlearn: 1453.9611610\ttotal: 5.39s\tremaining: 1.27s\n",
            "809:\tlearn: 1453.6671879\ttotal: 5.4s\tremaining: 1.27s\n",
            "810:\tlearn: 1453.3845026\ttotal: 5.41s\tremaining: 1.26s\n",
            "811:\tlearn: 1453.0251589\ttotal: 5.42s\tremaining: 1.25s\n",
            "812:\tlearn: 1452.5311085\ttotal: 5.43s\tremaining: 1.25s\n",
            "813:\tlearn: 1452.2843317\ttotal: 5.44s\tremaining: 1.24s\n",
            "814:\tlearn: 1451.7379793\ttotal: 5.45s\tremaining: 1.24s\n",
            "815:\tlearn: 1451.2041760\ttotal: 5.46s\tremaining: 1.23s\n",
            "816:\tlearn: 1451.2016797\ttotal: 5.47s\tremaining: 1.23s\n",
            "817:\tlearn: 1450.8919318\ttotal: 5.48s\tremaining: 1.22s\n",
            "818:\tlearn: 1450.8541328\ttotal: 5.49s\tremaining: 1.21s\n",
            "819:\tlearn: 1450.6228085\ttotal: 5.49s\tremaining: 1.21s\n",
            "820:\tlearn: 1450.4021460\ttotal: 5.5s\tremaining: 1.2s\n",
            "821:\tlearn: 1449.9821603\ttotal: 5.51s\tremaining: 1.19s\n",
            "822:\tlearn: 1449.4633392\ttotal: 5.52s\tremaining: 1.19s\n",
            "823:\tlearn: 1449.1222171\ttotal: 5.53s\tremaining: 1.18s\n",
            "824:\tlearn: 1448.7405650\ttotal: 5.53s\tremaining: 1.17s\n",
            "825:\tlearn: 1448.4967965\ttotal: 5.54s\tremaining: 1.17s\n",
            "826:\tlearn: 1448.3464289\ttotal: 5.55s\tremaining: 1.16s\n",
            "827:\tlearn: 1448.0131327\ttotal: 5.55s\tremaining: 1.15s\n",
            "828:\tlearn: 1447.7913809\ttotal: 5.56s\tremaining: 1.15s\n",
            "829:\tlearn: 1447.2632152\ttotal: 5.57s\tremaining: 1.14s\n",
            "830:\tlearn: 1446.9918422\ttotal: 5.57s\tremaining: 1.13s\n",
            "831:\tlearn: 1446.7329213\ttotal: 5.58s\tremaining: 1.13s\n",
            "832:\tlearn: 1446.4104391\ttotal: 5.59s\tremaining: 1.12s\n",
            "833:\tlearn: 1445.9325543\ttotal: 5.59s\tremaining: 1.11s\n",
            "834:\tlearn: 1445.7856855\ttotal: 5.6s\tremaining: 1.11s\n",
            "835:\tlearn: 1445.5632822\ttotal: 5.61s\tremaining: 1.1s\n",
            "836:\tlearn: 1445.4024114\ttotal: 5.62s\tremaining: 1.09s\n",
            "837:\tlearn: 1444.9772217\ttotal: 5.62s\tremaining: 1.09s\n",
            "838:\tlearn: 1444.9731111\ttotal: 5.63s\tremaining: 1.08s\n",
            "839:\tlearn: 1444.6856308\ttotal: 5.63s\tremaining: 1.07s\n",
            "840:\tlearn: 1444.6836141\ttotal: 5.64s\tremaining: 1.07s\n",
            "841:\tlearn: 1444.2557845\ttotal: 5.65s\tremaining: 1.06s\n",
            "842:\tlearn: 1443.9635568\ttotal: 5.66s\tremaining: 1.05s\n",
            "843:\tlearn: 1443.5793488\ttotal: 5.66s\tremaining: 1.05s\n",
            "844:\tlearn: 1443.2765572\ttotal: 5.67s\tremaining: 1.04s\n",
            "845:\tlearn: 1442.9203917\ttotal: 5.68s\tremaining: 1.03s\n",
            "846:\tlearn: 1442.5857041\ttotal: 5.69s\tremaining: 1.03s\n",
            "847:\tlearn: 1441.7708073\ttotal: 5.71s\tremaining: 1.02s\n",
            "848:\tlearn: 1441.5323425\ttotal: 5.72s\tremaining: 1.02s\n",
            "849:\tlearn: 1441.1731914\ttotal: 5.72s\tremaining: 1.01s\n",
            "850:\tlearn: 1440.7375024\ttotal: 5.73s\tremaining: 1s\n",
            "851:\tlearn: 1440.4006677\ttotal: 5.74s\tremaining: 997ms\n",
            "852:\tlearn: 1440.3015257\ttotal: 5.75s\tremaining: 990ms\n",
            "853:\tlearn: 1440.2978302\ttotal: 5.75s\tremaining: 983ms\n",
            "854:\tlearn: 1439.9885696\ttotal: 5.76s\tremaining: 976ms\n",
            "855:\tlearn: 1439.8309625\ttotal: 5.76s\tremaining: 970ms\n",
            "856:\tlearn: 1439.1773033\ttotal: 5.77s\tremaining: 963ms\n",
            "857:\tlearn: 1438.9957066\ttotal: 5.79s\tremaining: 958ms\n",
            "858:\tlearn: 1438.4603273\ttotal: 5.79s\tremaining: 951ms\n",
            "859:\tlearn: 1437.5399741\ttotal: 5.8s\tremaining: 945ms\n",
            "860:\tlearn: 1437.2149320\ttotal: 5.81s\tremaining: 938ms\n",
            "861:\tlearn: 1436.9406554\ttotal: 5.82s\tremaining: 931ms\n",
            "862:\tlearn: 1436.4516603\ttotal: 5.83s\tremaining: 925ms\n",
            "863:\tlearn: 1436.2854041\ttotal: 5.83s\tremaining: 918ms\n",
            "864:\tlearn: 1435.9279608\ttotal: 5.84s\tremaining: 912ms\n",
            "865:\tlearn: 1435.7649665\ttotal: 5.85s\tremaining: 905ms\n",
            "866:\tlearn: 1435.2703883\ttotal: 5.86s\tremaining: 899ms\n",
            "867:\tlearn: 1434.7197487\ttotal: 5.87s\tremaining: 892ms\n",
            "868:\tlearn: 1434.2595065\ttotal: 5.87s\tremaining: 885ms\n",
            "869:\tlearn: 1434.2560496\ttotal: 5.88s\tremaining: 879ms\n",
            "870:\tlearn: 1433.9749701\ttotal: 5.89s\tremaining: 872ms\n",
            "871:\tlearn: 1433.2291566\ttotal: 5.89s\tremaining: 865ms\n",
            "872:\tlearn: 1432.8211329\ttotal: 5.9s\tremaining: 859ms\n",
            "873:\tlearn: 1432.4084235\ttotal: 5.91s\tremaining: 852ms\n",
            "874:\tlearn: 1432.0185610\ttotal: 5.92s\tremaining: 845ms\n",
            "875:\tlearn: 1432.0168410\ttotal: 5.92s\tremaining: 838ms\n",
            "876:\tlearn: 1431.4370466\ttotal: 5.93s\tremaining: 832ms\n",
            "877:\tlearn: 1431.1682666\ttotal: 5.94s\tremaining: 825ms\n",
            "878:\tlearn: 1430.9511382\ttotal: 5.94s\tremaining: 818ms\n",
            "879:\tlearn: 1430.9477950\ttotal: 5.95s\tremaining: 811ms\n",
            "880:\tlearn: 1430.4077459\ttotal: 5.95s\tremaining: 804ms\n",
            "881:\tlearn: 1430.0129827\ttotal: 5.96s\tremaining: 797ms\n",
            "882:\tlearn: 1429.4896655\ttotal: 5.97s\tremaining: 791ms\n",
            "883:\tlearn: 1429.1418463\ttotal: 5.97s\tremaining: 784ms\n",
            "884:\tlearn: 1428.9533784\ttotal: 5.98s\tremaining: 777ms\n",
            "885:\tlearn: 1428.9514875\ttotal: 5.99s\tremaining: 770ms\n",
            "886:\tlearn: 1428.6645775\ttotal: 5.99s\tremaining: 763ms\n",
            "887:\tlearn: 1428.1646398\ttotal: 6s\tremaining: 757ms\n",
            "888:\tlearn: 1427.9469079\ttotal: 6.01s\tremaining: 750ms\n",
            "889:\tlearn: 1427.6874155\ttotal: 6.01s\tremaining: 743ms\n",
            "890:\tlearn: 1427.6841885\ttotal: 6.02s\tremaining: 736ms\n",
            "891:\tlearn: 1427.4921877\ttotal: 6.02s\tremaining: 729ms\n",
            "892:\tlearn: 1427.2610947\ttotal: 6.03s\tremaining: 723ms\n",
            "893:\tlearn: 1426.7911065\ttotal: 6.04s\tremaining: 716ms\n",
            "894:\tlearn: 1426.4899662\ttotal: 6.05s\tremaining: 709ms\n",
            "895:\tlearn: 1426.3107111\ttotal: 6.05s\tremaining: 703ms\n",
            "896:\tlearn: 1425.8850561\ttotal: 6.06s\tremaining: 696ms\n",
            "897:\tlearn: 1425.5080254\ttotal: 6.07s\tremaining: 689ms\n",
            "898:\tlearn: 1425.0569639\ttotal: 6.07s\tremaining: 682ms\n",
            "899:\tlearn: 1424.5001044\ttotal: 6.08s\tremaining: 676ms\n",
            "900:\tlearn: 1424.2669264\ttotal: 6.09s\tremaining: 669ms\n",
            "901:\tlearn: 1423.8482508\ttotal: 6.1s\tremaining: 663ms\n",
            "902:\tlearn: 1423.6212016\ttotal: 6.1s\tremaining: 656ms\n",
            "903:\tlearn: 1423.2905391\ttotal: 6.11s\tremaining: 649ms\n",
            "904:\tlearn: 1423.1176866\ttotal: 6.12s\tremaining: 642ms\n",
            "905:\tlearn: 1423.1143925\ttotal: 6.12s\tremaining: 635ms\n",
            "906:\tlearn: 1422.5288896\ttotal: 6.13s\tremaining: 629ms\n",
            "907:\tlearn: 1422.2110598\ttotal: 6.14s\tremaining: 622ms\n",
            "908:\tlearn: 1421.7953912\ttotal: 6.14s\tremaining: 615ms\n",
            "909:\tlearn: 1421.6991174\ttotal: 6.15s\tremaining: 608ms\n",
            "910:\tlearn: 1421.5456320\ttotal: 6.16s\tremaining: 602ms\n",
            "911:\tlearn: 1421.3602840\ttotal: 6.17s\tremaining: 595ms\n",
            "912:\tlearn: 1421.0583839\ttotal: 6.17s\tremaining: 588ms\n",
            "913:\tlearn: 1420.5044573\ttotal: 6.18s\tremaining: 581ms\n",
            "914:\tlearn: 1420.0678475\ttotal: 6.19s\tremaining: 575ms\n",
            "915:\tlearn: 1419.9380979\ttotal: 6.19s\tremaining: 568ms\n",
            "916:\tlearn: 1419.9358459\ttotal: 6.2s\tremaining: 561ms\n",
            "917:\tlearn: 1419.5650873\ttotal: 6.21s\tremaining: 554ms\n",
            "918:\tlearn: 1419.3920275\ttotal: 6.21s\tremaining: 548ms\n",
            "919:\tlearn: 1418.7175500\ttotal: 6.22s\tremaining: 541ms\n",
            "920:\tlearn: 1418.5597912\ttotal: 6.23s\tremaining: 534ms\n",
            "921:\tlearn: 1418.2654170\ttotal: 6.23s\tremaining: 527ms\n",
            "922:\tlearn: 1418.0691884\ttotal: 6.24s\tremaining: 521ms\n",
            "923:\tlearn: 1417.6692082\ttotal: 6.25s\tremaining: 514ms\n",
            "924:\tlearn: 1417.3704203\ttotal: 6.26s\tremaining: 507ms\n",
            "925:\tlearn: 1416.9973968\ttotal: 6.26s\tremaining: 500ms\n",
            "926:\tlearn: 1416.7039129\ttotal: 6.27s\tremaining: 494ms\n",
            "927:\tlearn: 1416.3590845\ttotal: 6.27s\tremaining: 487ms\n",
            "928:\tlearn: 1416.0422781\ttotal: 6.28s\tremaining: 480ms\n",
            "929:\tlearn: 1415.6560550\ttotal: 6.29s\tremaining: 473ms\n",
            "930:\tlearn: 1415.2973622\ttotal: 6.29s\tremaining: 467ms\n",
            "931:\tlearn: 1414.7907054\ttotal: 6.3s\tremaining: 460ms\n",
            "932:\tlearn: 1414.4380311\ttotal: 6.31s\tremaining: 453ms\n",
            "933:\tlearn: 1413.9837997\ttotal: 6.32s\tremaining: 447ms\n",
            "934:\tlearn: 1413.5659494\ttotal: 6.33s\tremaining: 440ms\n",
            "935:\tlearn: 1413.3011488\ttotal: 6.33s\tremaining: 433ms\n",
            "936:\tlearn: 1412.9309881\ttotal: 6.34s\tremaining: 426ms\n",
            "937:\tlearn: 1412.9093580\ttotal: 6.34s\tremaining: 419ms\n",
            "938:\tlearn: 1412.6984716\ttotal: 6.35s\tremaining: 413ms\n",
            "939:\tlearn: 1412.4241309\ttotal: 6.36s\tremaining: 406ms\n",
            "940:\tlearn: 1412.1012221\ttotal: 6.37s\tremaining: 399ms\n",
            "941:\tlearn: 1411.8666136\ttotal: 6.37s\tremaining: 392ms\n",
            "942:\tlearn: 1411.3555451\ttotal: 6.38s\tremaining: 386ms\n",
            "943:\tlearn: 1411.2194518\ttotal: 6.39s\tremaining: 379ms\n",
            "944:\tlearn: 1410.7058195\ttotal: 6.4s\tremaining: 373ms\n",
            "945:\tlearn: 1410.2869816\ttotal: 6.41s\tremaining: 366ms\n",
            "946:\tlearn: 1410.1688619\ttotal: 6.42s\tremaining: 359ms\n",
            "947:\tlearn: 1409.9576388\ttotal: 6.42s\tremaining: 352ms\n",
            "948:\tlearn: 1409.7019315\ttotal: 6.43s\tremaining: 346ms\n",
            "949:\tlearn: 1409.5539003\ttotal: 6.44s\tremaining: 339ms\n",
            "950:\tlearn: 1409.4242917\ttotal: 6.45s\tremaining: 332ms\n",
            "951:\tlearn: 1409.1164346\ttotal: 6.46s\tremaining: 326ms\n",
            "952:\tlearn: 1408.9998123\ttotal: 6.46s\tremaining: 319ms\n",
            "953:\tlearn: 1408.9456486\ttotal: 6.47s\tremaining: 312ms\n",
            "954:\tlearn: 1408.3353653\ttotal: 6.48s\tremaining: 305ms\n",
            "955:\tlearn: 1407.9314986\ttotal: 6.48s\tremaining: 298ms\n",
            "956:\tlearn: 1407.6987672\ttotal: 6.49s\tremaining: 292ms\n",
            "957:\tlearn: 1407.4323027\ttotal: 6.5s\tremaining: 285ms\n",
            "958:\tlearn: 1406.9693403\ttotal: 6.51s\tremaining: 278ms\n",
            "959:\tlearn: 1406.6843112\ttotal: 6.51s\tremaining: 271ms\n",
            "960:\tlearn: 1406.4428982\ttotal: 6.52s\tremaining: 265ms\n",
            "961:\tlearn: 1405.9767107\ttotal: 6.53s\tremaining: 258ms\n",
            "962:\tlearn: 1405.7042827\ttotal: 6.54s\tremaining: 251ms\n",
            "963:\tlearn: 1405.5023008\ttotal: 6.54s\tremaining: 244ms\n",
            "964:\tlearn: 1405.1841130\ttotal: 6.55s\tremaining: 238ms\n",
            "965:\tlearn: 1404.8240563\ttotal: 6.56s\tremaining: 231ms\n",
            "966:\tlearn: 1404.6080570\ttotal: 6.61s\tremaining: 226ms\n",
            "967:\tlearn: 1404.4669353\ttotal: 6.64s\tremaining: 220ms\n",
            "968:\tlearn: 1404.3237897\ttotal: 6.67s\tremaining: 213ms\n",
            "969:\tlearn: 1403.8947241\ttotal: 6.68s\tremaining: 207ms\n",
            "970:\tlearn: 1403.6193009\ttotal: 6.71s\tremaining: 200ms\n",
            "971:\tlearn: 1403.3692929\ttotal: 6.72s\tremaining: 193ms\n",
            "972:\tlearn: 1403.1661247\ttotal: 6.72s\tremaining: 187ms\n",
            "973:\tlearn: 1402.8613265\ttotal: 6.73s\tremaining: 180ms\n",
            "974:\tlearn: 1402.5869729\ttotal: 6.74s\tremaining: 173ms\n",
            "975:\tlearn: 1402.3533067\ttotal: 6.74s\tremaining: 166ms\n",
            "976:\tlearn: 1402.0986185\ttotal: 6.74s\tremaining: 159ms\n",
            "977:\tlearn: 1401.9177844\ttotal: 6.75s\tremaining: 152ms\n",
            "978:\tlearn: 1401.7392305\ttotal: 6.75s\tremaining: 145ms\n",
            "979:\tlearn: 1401.4846041\ttotal: 6.75s\tremaining: 138ms\n",
            "980:\tlearn: 1401.2180049\ttotal: 6.76s\tremaining: 131ms\n",
            "981:\tlearn: 1400.6664373\ttotal: 6.76s\tremaining: 124ms\n",
            "982:\tlearn: 1400.3446627\ttotal: 6.77s\tremaining: 117ms\n",
            "983:\tlearn: 1400.2177865\ttotal: 6.77s\tremaining: 110ms\n",
            "984:\tlearn: 1399.8623806\ttotal: 6.78s\tremaining: 103ms\n",
            "985:\tlearn: 1399.5501711\ttotal: 6.78s\tremaining: 96.3ms\n",
            "986:\tlearn: 1399.0022085\ttotal: 6.79s\tremaining: 89.4ms\n",
            "987:\tlearn: 1398.8291150\ttotal: 6.79s\tremaining: 82.5ms\n",
            "988:\tlearn: 1398.5153012\ttotal: 6.79s\tremaining: 75.6ms\n",
            "989:\tlearn: 1398.3524555\ttotal: 6.8s\tremaining: 68.7ms\n",
            "990:\tlearn: 1397.9041039\ttotal: 6.81s\tremaining: 61.8ms\n",
            "991:\tlearn: 1397.6403814\ttotal: 6.81s\tremaining: 54.9ms\n",
            "992:\tlearn: 1397.2668980\ttotal: 6.82s\tremaining: 48ms\n",
            "993:\tlearn: 1397.1235980\ttotal: 6.82s\tremaining: 41.2ms\n",
            "994:\tlearn: 1396.9517827\ttotal: 6.82s\tremaining: 34.3ms\n",
            "995:\tlearn: 1396.6956847\ttotal: 6.83s\tremaining: 27.4ms\n",
            "996:\tlearn: 1396.4053953\ttotal: 6.83s\tremaining: 20.6ms\n",
            "997:\tlearn: 1395.9340121\ttotal: 6.84s\tremaining: 13.7ms\n",
            "998:\tlearn: 1395.8518997\ttotal: 6.84s\tremaining: 6.85ms\n",
            "999:\tlearn: 1395.7331331\ttotal: 6.85s\tremaining: 0us\n"
          ]
        },
        {
          "data": {
            "text/plain": [
              "<catboost.core.CatBoostRegressor at 0x1a53ab8690>"
            ]
          },
          "execution_count": 192,
          "metadata": {},
          "output_type": "execute_result"
        }
      ]
    },
    {
      "cell_type": "code",
      "metadata": {
        "id": "6KU2FaL1Iyhb"
      },
      "source": [
        "cat_pred=cat.predict(X_test)"
      ],
      "execution_count": null,
      "outputs": []
    },
    {
      "cell_type": "code",
      "metadata": {
        "id": "qVKYW0QwIyhb",
        "outputId": "019c8cb4-5a2c-4a8d-b825-f115fa40a515"
      },
      "source": [
        "r2_score(y_test,cat_pred)"
      ],
      "execution_count": null,
      "outputs": [
        {
          "data": {
            "text/plain": [
              "0.8301928561140887"
            ]
          },
          "execution_count": 195,
          "metadata": {},
          "output_type": "execute_result"
        }
      ]
    },
    {
      "cell_type": "code",
      "metadata": {
        "id": "Q-Cy5LZrIyhc"
      },
      "source": [
        "X_train[['duration_hr','duration_min']]=X_train[['duration_hr','duration_min']].astype(int)\n",
        "X_test[['duration_hr','duration_min']]=X_test[['duration_hr','duration_min']].astype(int)"
      ],
      "execution_count": null,
      "outputs": []
    },
    {
      "cell_type": "markdown",
      "metadata": {
        "id": "wa7sqblsSD3A"
      },
      "source": [
        "# **LGBMRegressor**"
      ]
    },
    {
      "cell_type": "code",
      "metadata": {
        "id": "Y6JOnOGUIyhc",
        "outputId": "33041610-1374-4aff-8f11-e3da7d222655"
      },
      "source": [
        "from lightgbm import LGBMRegressor\n",
        "\n",
        "lgb_model = LGBMRegressor()\n",
        "lgb_model.fit(X_train,y_train)"
      ],
      "execution_count": null,
      "outputs": [
        {
          "data": {
            "text/plain": [
              "LGBMRegressor(boosting_type='gbdt', class_weight=None, colsample_bytree=1.0,\n",
              "              importance_type='split', learning_rate=0.1, max_depth=-1,\n",
              "              min_child_samples=20, min_child_weight=0.001, min_split_gain=0.0,\n",
              "              n_estimators=100, n_jobs=-1, num_leaves=31, objective=None,\n",
              "              random_state=None, reg_alpha=0.0, reg_lambda=0.0, silent=True,\n",
              "              subsample=1.0, subsample_for_bin=200000, subsample_freq=0)"
            ]
          },
          "execution_count": 202,
          "metadata": {},
          "output_type": "execute_result"
        }
      ]
    },
    {
      "cell_type": "code",
      "metadata": {
        "id": "5feqj51xIyhc",
        "outputId": "7b6c8840-a854-4154-b14b-835fbb6af09f"
      },
      "source": [
        "lgb_pred=lgb_model.predict(X_test)\n",
        "r2_score(y_test,lgb_pred)"
      ],
      "execution_count": null,
      "outputs": [
        {
          "data": {
            "text/plain": [
              "0.8030064936005559"
            ]
          },
          "execution_count": 204,
          "metadata": {},
          "output_type": "execute_result"
        }
      ]
    },
    {
      "cell_type": "markdown",
      "metadata": {
        "id": "KBipTQDDRvqG"
      },
      "source": [
        "# **RandomizedSearchCV**"
      ]
    },
    {
      "cell_type": "code",
      "metadata": {
        "id": "YfCChRe9IyhZ"
      },
      "source": [
        "from sklearn.model_selection import RandomizedSearchCV\n",
        "\n",
        "n_estimators = [int(x) for x in np.linspace(start = 80, stop = 1500, num = 10)]\n",
        "max_features = ['auto', 'sqrt']\n",
        "max_depth = [int(x) for x in np.linspace(6, 45, num = 5)]\n",
        "min_samples_split = [2, 5, 10, 15, 100]\n",
        "min_samples_leaf = [1, 2, 5, 10]\n",
        "\n",
        "# create random grid\n",
        "\n",
        "rand_grid={'n_estimators': n_estimators,\n",
        "               'max_features': max_features,\n",
        "               'max_depth': max_depth,\n",
        "               'min_samples_split': min_samples_split,\n",
        "               'min_samples_leaf': min_samples_leaf}\n",
        "\n",
        "rf=RandomForestRegressor()\n",
        "\n",
        "rCV=RandomizedSearchCV(estimator=rf,param_distributions=rand_grid,scoring='neg_mean_squared_error',n_iter=10,cv=3,random_state=42, n_jobs = 1)"
      ],
      "execution_count": null,
      "outputs": []
    },
    {
      "cell_type": "code",
      "metadata": {
        "id": "dJrCvlAhIyhZ",
        "outputId": "9f224748-de0f-42ca-b252-cf6d14e993a4"
      },
      "source": [
        "rCV.fit(X_train,y_train)"
      ],
      "execution_count": null,
      "outputs": [
        {
          "data": {
            "text/plain": [
              "RandomizedSearchCV(cv=3, error_score=nan,\n",
              "                   estimator=RandomForestRegressor(bootstrap=True,\n",
              "                                                   ccp_alpha=0.0,\n",
              "                                                   criterion='mse',\n",
              "                                                   max_depth=None,\n",
              "                                                   max_features='auto',\n",
              "                                                   max_leaf_nodes=None,\n",
              "                                                   max_samples=None,\n",
              "                                                   min_impurity_decrease=0.0,\n",
              "                                                   min_impurity_split=None,\n",
              "                                                   min_samples_leaf=1,\n",
              "                                                   min_samples_split=2,\n",
              "                                                   min_weight_fraction_leaf=0.0,\n",
              "                                                   n_estimators=100,\n",
              "                                                   n_jobs=None, oob_score=Fals...\n",
              "                   iid='deprecated', n_iter=10, n_jobs=1,\n",
              "                   param_distributions={'max_depth': [6, 15, 25, 35, 45],\n",
              "                                        'max_features': ['auto', 'sqrt'],\n",
              "                                        'min_samples_leaf': [1, 2, 5, 10],\n",
              "                                        'min_samples_split': [2, 5, 10, 15,\n",
              "                                                              100],\n",
              "                                        'n_estimators': [80, 237, 395, 553, 711,\n",
              "                                                         868, 1026, 1184, 1342,\n",
              "                                                         1500]},\n",
              "                   pre_dispatch='2*n_jobs', random_state=42, refit=True,\n",
              "                   return_train_score=False, scoring='neg_mean_squared_error',\n",
              "                   verbose=0)"
            ]
          },
          "execution_count": 179,
          "metadata": {},
          "output_type": "execute_result"
        }
      ]
    },
    {
      "cell_type": "code",
      "metadata": {
        "id": "Sd0wijuVIyhZ",
        "outputId": "d3f52033-ba28-417c-969a-267dde20f3fa"
      },
      "source": [
        "rf_pred=rCV.predict(X_test)\n",
        "rf_pred"
      ],
      "execution_count": null,
      "outputs": [
        {
          "data": {
            "text/plain": [
              "array([12500.2967405 ,  4286.76073494,  6136.50519908, ...,\n",
              "       11657.36838275,  9659.32444484,  8655.77083065])"
            ]
          },
          "execution_count": 180,
          "metadata": {},
          "output_type": "execute_result"
        }
      ]
    },
    {
      "cell_type": "code",
      "metadata": {
        "id": "VSkgFSDgIyha",
        "outputId": "0b29831f-ea13-4e39-cf90-d9b7504cc4a9"
      },
      "source": [
        "from sklearn.metrics import mean_absolute_error,mean_squared_error\n",
        "print('MAE',mean_absolute_error(y_test,rf_pred))\n",
        "print('MSE',mean_squared_error(y_test,rf_pred))"
      ],
      "execution_count": null,
      "outputs": [
        {
          "name": "stdout",
          "output_type": "stream",
          "text": [
            "MAE 1156.8110505706231\n",
            "MSE 3974736.1005828027\n"
          ]
        }
      ]
    },
    {
      "cell_type": "code",
      "metadata": {
        "id": "cJjaCIeCIyha",
        "outputId": "27421920-484d-4a5d-a3d2-c1056f51b9fc"
      },
      "source": [
        "r2_score(y_test,rf_pred)"
      ],
      "execution_count": null,
      "outputs": [
        {
          "data": {
            "text/plain": [
              "0.8064284149245494"
            ]
          },
          "execution_count": 182,
          "metadata": {},
          "output_type": "execute_result"
        }
      ]
    },
    {
      "cell_type": "markdown",
      "metadata": {
        "id": "uYYWKQlvSJ25"
      },
      "source": [
        "# **xgboost**"
      ]
    },
    {
      "cell_type": "code",
      "metadata": {
        "id": "-6rH3Q8dIyhd",
        "outputId": "9013c394-1771-4e52-f968-1a02bab038e4"
      },
      "source": [
        "import xgboost as xgb\n",
        "xgb_model=xgb.XGBRegressor()\n",
        "xgb_model.fit(X_train,y_train)\n",
        "xgb_pred=xgb_model.predict(X_test)\n",
        "r2_score(y_test,xgb_pred)"
      ],
      "execution_count": null,
      "outputs": [
        {
          "data": {
            "text/plain": [
              "0.8212496826037233"
            ]
          },
          "execution_count": 209,
          "metadata": {},
          "output_type": "execute_result"
        }
      ]
    },
    {
      "cell_type": "code",
      "metadata": {
        "id": "GjDueXTeIyhe",
        "outputId": "b0e68d64-8cba-41de-c273-071a69edd929"
      },
      "source": [
        "df.head()"
      ],
      "execution_count": null,
      "outputs": [
        {
          "data": {
            "text/html": [
              "<div>\n",
              "<style scoped>\n",
              "    .dataframe tbody tr th:only-of-type {\n",
              "        vertical-align: middle;\n",
              "    }\n",
              "\n",
              "    .dataframe tbody tr th {\n",
              "        vertical-align: top;\n",
              "    }\n",
              "\n",
              "    .dataframe thead th {\n",
              "        text-align: right;\n",
              "    }\n",
              "</style>\n",
              "<table border=\"1\" class=\"dataframe\">\n",
              "  <thead>\n",
              "    <tr style=\"text-align: right;\">\n",
              "      <th></th>\n",
              "      <th>Air India</th>\n",
              "      <th>GoAir</th>\n",
              "      <th>IndiGo</th>\n",
              "      <th>Jet Airways</th>\n",
              "      <th>Jet Airways Business</th>\n",
              "      <th>Multiple carriers</th>\n",
              "      <th>Multiple carriers Premium economy</th>\n",
              "      <th>SpiceJet</th>\n",
              "      <th>Trujet</th>\n",
              "      <th>Vistara</th>\n",
              "      <th>...</th>\n",
              "      <th>Additional_Info</th>\n",
              "      <th>Price</th>\n",
              "      <th>Day_of_Journey</th>\n",
              "      <th>Month_of_Journey</th>\n",
              "      <th>Dep_hr</th>\n",
              "      <th>Dep_min</th>\n",
              "      <th>Arrival_hr</th>\n",
              "      <th>Arrival_min</th>\n",
              "      <th>duration_hr</th>\n",
              "      <th>duration_min</th>\n",
              "    </tr>\n",
              "  </thead>\n",
              "  <tbody>\n",
              "    <tr>\n",
              "      <th>0</th>\n",
              "      <td>0</td>\n",
              "      <td>0</td>\n",
              "      <td>1</td>\n",
              "      <td>0</td>\n",
              "      <td>0</td>\n",
              "      <td>0</td>\n",
              "      <td>0</td>\n",
              "      <td>0</td>\n",
              "      <td>0</td>\n",
              "      <td>0</td>\n",
              "      <td>...</td>\n",
              "      <td>No info</td>\n",
              "      <td>3897</td>\n",
              "      <td>24</td>\n",
              "      <td>3</td>\n",
              "      <td>22</td>\n",
              "      <td>20</td>\n",
              "      <td>1</td>\n",
              "      <td>10</td>\n",
              "      <td>2</td>\n",
              "      <td>50</td>\n",
              "    </tr>\n",
              "    <tr>\n",
              "      <th>1</th>\n",
              "      <td>1</td>\n",
              "      <td>0</td>\n",
              "      <td>0</td>\n",
              "      <td>0</td>\n",
              "      <td>0</td>\n",
              "      <td>0</td>\n",
              "      <td>0</td>\n",
              "      <td>0</td>\n",
              "      <td>0</td>\n",
              "      <td>0</td>\n",
              "      <td>...</td>\n",
              "      <td>No info</td>\n",
              "      <td>7662</td>\n",
              "      <td>5</td>\n",
              "      <td>1</td>\n",
              "      <td>5</td>\n",
              "      <td>50</td>\n",
              "      <td>13</td>\n",
              "      <td>15</td>\n",
              "      <td>7</td>\n",
              "      <td>25</td>\n",
              "    </tr>\n",
              "    <tr>\n",
              "      <th>2</th>\n",
              "      <td>0</td>\n",
              "      <td>0</td>\n",
              "      <td>0</td>\n",
              "      <td>1</td>\n",
              "      <td>0</td>\n",
              "      <td>0</td>\n",
              "      <td>0</td>\n",
              "      <td>0</td>\n",
              "      <td>0</td>\n",
              "      <td>0</td>\n",
              "      <td>...</td>\n",
              "      <td>No info</td>\n",
              "      <td>13882</td>\n",
              "      <td>6</td>\n",
              "      <td>9</td>\n",
              "      <td>9</td>\n",
              "      <td>25</td>\n",
              "      <td>4</td>\n",
              "      <td>25</td>\n",
              "      <td>19</td>\n",
              "      <td>00</td>\n",
              "    </tr>\n",
              "    <tr>\n",
              "      <th>3</th>\n",
              "      <td>0</td>\n",
              "      <td>0</td>\n",
              "      <td>1</td>\n",
              "      <td>0</td>\n",
              "      <td>0</td>\n",
              "      <td>0</td>\n",
              "      <td>0</td>\n",
              "      <td>0</td>\n",
              "      <td>0</td>\n",
              "      <td>0</td>\n",
              "      <td>...</td>\n",
              "      <td>No info</td>\n",
              "      <td>6218</td>\n",
              "      <td>5</td>\n",
              "      <td>12</td>\n",
              "      <td>18</td>\n",
              "      <td>5</td>\n",
              "      <td>23</td>\n",
              "      <td>30</td>\n",
              "      <td>5</td>\n",
              "      <td>25</td>\n",
              "    </tr>\n",
              "    <tr>\n",
              "      <th>4</th>\n",
              "      <td>0</td>\n",
              "      <td>0</td>\n",
              "      <td>1</td>\n",
              "      <td>0</td>\n",
              "      <td>0</td>\n",
              "      <td>0</td>\n",
              "      <td>0</td>\n",
              "      <td>0</td>\n",
              "      <td>0</td>\n",
              "      <td>0</td>\n",
              "      <td>...</td>\n",
              "      <td>No info</td>\n",
              "      <td>13302</td>\n",
              "      <td>3</td>\n",
              "      <td>1</td>\n",
              "      <td>16</td>\n",
              "      <td>50</td>\n",
              "      <td>21</td>\n",
              "      <td>35</td>\n",
              "      <td>4</td>\n",
              "      <td>45</td>\n",
              "    </tr>\n",
              "  </tbody>\n",
              "</table>\n",
              "<p>5 rows × 31 columns</p>\n",
              "</div>"
            ],
            "text/plain": [
              "   Air India  GoAir  IndiGo  Jet Airways  Jet Airways Business  \\\n",
              "0          0      0       1            0                     0   \n",
              "1          1      0       0            0                     0   \n",
              "2          0      0       0            1                     0   \n",
              "3          0      0       1            0                     0   \n",
              "4          0      0       1            0                     0   \n",
              "\n",
              "   Multiple carriers  Multiple carriers Premium economy  SpiceJet  Trujet  \\\n",
              "0                  0                                  0         0       0   \n",
              "1                  0                                  0         0       0   \n",
              "2                  0                                  0         0       0   \n",
              "3                  0                                  0         0       0   \n",
              "4                  0                                  0         0       0   \n",
              "\n",
              "   Vistara  ...  Additional_Info  Price  Day_of_Journey  Month_of_Journey  \\\n",
              "0        0  ...          No info   3897              24                 3   \n",
              "1        0  ...          No info   7662               5                 1   \n",
              "2        0  ...          No info  13882               6                 9   \n",
              "3        0  ...          No info   6218               5                12   \n",
              "4        0  ...          No info  13302               3                 1   \n",
              "\n",
              "   Dep_hr  Dep_min  Arrival_hr  Arrival_min  duration_hr duration_min  \n",
              "0      22       20           1           10            2           50  \n",
              "1       5       50          13           15            7           25  \n",
              "2       9       25           4           25           19           00  \n",
              "3      18        5          23           30            5           25  \n",
              "4      16       50          21           35            4           45  \n",
              "\n",
              "[5 rows x 31 columns]"
            ]
          },
          "execution_count": 210,
          "metadata": {},
          "output_type": "execute_result"
        }
      ]
    },
    {
      "cell_type": "markdown",
      "metadata": {
        "id": "8WcQFYDsRb5l"
      },
      "source": [
        "# **Saving the Model**"
      ]
    },
    {
      "cell_type": "code",
      "metadata": {
        "id": "19izV1Z1Iyhe"
      },
      "source": [
        "#Use pickle to save our model so that we can use it later\n",
        "\n",
        "import pickle \n",
        "# Saving model to disk\n",
        "pickle.dump(CAT_Model, open('model.pkl','wb'))\n",
        "model=pickle.load(open('model.pkl','rb'))"
      ],
      "execution_count": null,
      "outputs": []
    },
    {
      "cell_type": "code",
      "metadata": {
        "id": "ptnISl3iIyhe",
        "outputId": "301ddf7d-98b6-4ef1-caa8-f1c9bfb5e2be"
      },
      "source": [
        "df.columns"
      ],
      "execution_count": null,
      "outputs": [
        {
          "data": {
            "text/plain": [
              "Index(['Air India', 'GoAir', 'IndiGo', 'Jet Airways', 'Jet Airways Business',\n",
              "       'Multiple carriers', 'Multiple carriers Premium economy', 'SpiceJet',\n",
              "       'Trujet', 'Vistara', 'Vistara Premium economy', 'Source_Chennai',\n",
              "       'Source_Delhi', 'Source_Kolkata', 'Source_Mumbai', 'Destination_Cochin',\n",
              "       'Destination_Delhi', 'Destination_Hyderabad', 'Destination_Kolkata',\n",
              "       'Route', 'Total_Stops', 'Additional_Info', 'Price', 'Day_of_Journey',\n",
              "       'Month_of_Journey', 'Dep_hr', 'Dep_min', 'Arrival_hr', 'Arrival_min',\n",
              "       'duration_hr', 'duration_min'],\n",
              "      dtype='object')"
            ]
          },
          "execution_count": 213,
          "metadata": {},
          "output_type": "execute_result"
        }
      ]
    },
    {
      "cell_type": "code",
      "metadata": {
        "id": "_82bh-53Iyhe"
      },
      "source": [
        "deploy_df=df.drop(['Route','Additional_Info'],axis=1)"
      ],
      "execution_count": null,
      "outputs": []
    },
    {
      "cell_type": "code",
      "metadata": {
        "id": "JyyqWuJfIyhf"
      },
      "source": [
        "deploy_df.to_csv('deploy_df')"
      ],
      "execution_count": null,
      "outputs": []
    },
    {
      "cell_type": "code",
      "metadata": {
        "id": "xGo7BZrGIyhh"
      },
      "source": [
        ""
      ],
      "execution_count": null,
      "outputs": []
    }
  ]
}