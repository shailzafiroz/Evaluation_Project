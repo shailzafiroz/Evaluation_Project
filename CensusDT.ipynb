{
  "nbformat": 4,
  "nbformat_minor": 0,
  "metadata": {
    "colab": {
      "name": "CensusDT.ipynb",
      "provenance": []
    },
    "kernelspec": {
      "name": "python3",
      "display_name": "Python 3"
    },
    "language_info": {
      "name": "python"
    }
  },
  "cells": [
    {
      "cell_type": "code",
      "metadata": {
        "id": "g9Vju7jfdhvj"
      },
      "source": [
        "import pandas as pd\n",
        "import numpy as np\n",
        "import seaborn as sns\n",
        "import matplotlib.pyplot as plt\n",
        "from sklearn.model_selection import train_test_split\n",
        "from sklearn.model_selection import GridSearchCV,cross_val_score\n",
        "from sklearn.preprocessing import MinMaxScaler, StandardScaler\n",
        "from sklearn.linear_model import LinearRegression, LogisticRegression\n",
        "from sklearn.metrics import r2_score,mean_squared_error,accuracy_score, f1_score,roc_auc_score\n",
        "from sklearn import svm\n",
        "from sklearn.tree import DecisionTreeRegressor,DecisionTreeClassifier\n",
        "from sklearn.ensemble import RandomForestClassifier\n",
        "from sklearn.preprocessing import PowerTransformer\n",
        "from statsmodels.stats.outliers_influence import variance_inflation_factor\n",
        "import warnings\n",
        "warnings.filterwarnings('ignore')\n",
        "from sklearn.metrics import classification_report,confusion_matrix\n",
        "from sklearn.model_selection import StratifiedKFold"
      ],
      "execution_count": 70,
      "outputs": []
    },
    {
      "cell_type": "code",
      "metadata": {
        "id": "mVdBv7SSePuG"
      },
      "source": [
        "df=pd.read_csv('https://raw.githubusercontent.com/dsrscientist/dataset1/master/census_income.csv')"
      ],
      "execution_count": 71,
      "outputs": []
    },
    {
      "cell_type": "code",
      "metadata": {
        "colab": {
          "base_uri": "https://localhost:8080/"
        },
        "id": "0_X7MaYLeWeE",
        "outputId": "fa74fb75-6067-4560-83e4-9d79729cd52a"
      },
      "source": [
        "df.shape"
      ],
      "execution_count": 72,
      "outputs": [
        {
          "output_type": "execute_result",
          "data": {
            "text/plain": [
              "(32560, 15)"
            ]
          },
          "metadata": {},
          "execution_count": 72
        }
      ]
    },
    {
      "cell_type": "code",
      "metadata": {
        "colab": {
          "base_uri": "https://localhost:8080/",
          "height": 313
        },
        "id": "HM5Lpy9GeTX1",
        "outputId": "05d4d325-e936-4d5d-eaf2-5cf1291d7ebe"
      },
      "source": [
        "df.head()"
      ],
      "execution_count": 73,
      "outputs": [
        {
          "output_type": "execute_result",
          "data": {
            "text/html": [
              "<div>\n",
              "<style scoped>\n",
              "    .dataframe tbody tr th:only-of-type {\n",
              "        vertical-align: middle;\n",
              "    }\n",
              "\n",
              "    .dataframe tbody tr th {\n",
              "        vertical-align: top;\n",
              "    }\n",
              "\n",
              "    .dataframe thead th {\n",
              "        text-align: right;\n",
              "    }\n",
              "</style>\n",
              "<table border=\"1\" class=\"dataframe\">\n",
              "  <thead>\n",
              "    <tr style=\"text-align: right;\">\n",
              "      <th></th>\n",
              "      <th>Age</th>\n",
              "      <th>Workclass</th>\n",
              "      <th>Fnlwgt</th>\n",
              "      <th>Education</th>\n",
              "      <th>Education_num</th>\n",
              "      <th>Marital_status</th>\n",
              "      <th>Occupation</th>\n",
              "      <th>Relationship</th>\n",
              "      <th>Race</th>\n",
              "      <th>Sex</th>\n",
              "      <th>Capital_gain</th>\n",
              "      <th>Capital_loss</th>\n",
              "      <th>Hours_per_week</th>\n",
              "      <th>Native_country</th>\n",
              "      <th>Income</th>\n",
              "    </tr>\n",
              "  </thead>\n",
              "  <tbody>\n",
              "    <tr>\n",
              "      <th>0</th>\n",
              "      <td>50</td>\n",
              "      <td>Self-emp-not-inc</td>\n",
              "      <td>83311</td>\n",
              "      <td>Bachelors</td>\n",
              "      <td>13</td>\n",
              "      <td>Married-civ-spouse</td>\n",
              "      <td>Exec-managerial</td>\n",
              "      <td>Husband</td>\n",
              "      <td>White</td>\n",
              "      <td>Male</td>\n",
              "      <td>0</td>\n",
              "      <td>0</td>\n",
              "      <td>13</td>\n",
              "      <td>United-States</td>\n",
              "      <td>&lt;=50K</td>\n",
              "    </tr>\n",
              "    <tr>\n",
              "      <th>1</th>\n",
              "      <td>38</td>\n",
              "      <td>Private</td>\n",
              "      <td>215646</td>\n",
              "      <td>HS-grad</td>\n",
              "      <td>9</td>\n",
              "      <td>Divorced</td>\n",
              "      <td>Handlers-cleaners</td>\n",
              "      <td>Not-in-family</td>\n",
              "      <td>White</td>\n",
              "      <td>Male</td>\n",
              "      <td>0</td>\n",
              "      <td>0</td>\n",
              "      <td>40</td>\n",
              "      <td>United-States</td>\n",
              "      <td>&lt;=50K</td>\n",
              "    </tr>\n",
              "    <tr>\n",
              "      <th>2</th>\n",
              "      <td>53</td>\n",
              "      <td>Private</td>\n",
              "      <td>234721</td>\n",
              "      <td>11th</td>\n",
              "      <td>7</td>\n",
              "      <td>Married-civ-spouse</td>\n",
              "      <td>Handlers-cleaners</td>\n",
              "      <td>Husband</td>\n",
              "      <td>Black</td>\n",
              "      <td>Male</td>\n",
              "      <td>0</td>\n",
              "      <td>0</td>\n",
              "      <td>40</td>\n",
              "      <td>United-States</td>\n",
              "      <td>&lt;=50K</td>\n",
              "    </tr>\n",
              "    <tr>\n",
              "      <th>3</th>\n",
              "      <td>28</td>\n",
              "      <td>Private</td>\n",
              "      <td>338409</td>\n",
              "      <td>Bachelors</td>\n",
              "      <td>13</td>\n",
              "      <td>Married-civ-spouse</td>\n",
              "      <td>Prof-specialty</td>\n",
              "      <td>Wife</td>\n",
              "      <td>Black</td>\n",
              "      <td>Female</td>\n",
              "      <td>0</td>\n",
              "      <td>0</td>\n",
              "      <td>40</td>\n",
              "      <td>Cuba</td>\n",
              "      <td>&lt;=50K</td>\n",
              "    </tr>\n",
              "    <tr>\n",
              "      <th>4</th>\n",
              "      <td>37</td>\n",
              "      <td>Private</td>\n",
              "      <td>284582</td>\n",
              "      <td>Masters</td>\n",
              "      <td>14</td>\n",
              "      <td>Married-civ-spouse</td>\n",
              "      <td>Exec-managerial</td>\n",
              "      <td>Wife</td>\n",
              "      <td>White</td>\n",
              "      <td>Female</td>\n",
              "      <td>0</td>\n",
              "      <td>0</td>\n",
              "      <td>40</td>\n",
              "      <td>United-States</td>\n",
              "      <td>&lt;=50K</td>\n",
              "    </tr>\n",
              "  </tbody>\n",
              "</table>\n",
              "</div>"
            ],
            "text/plain": [
              "   Age          Workclass  Fnlwgt  ... Hours_per_week  Native_country  Income\n",
              "0   50   Self-emp-not-inc   83311  ...             13   United-States   <=50K\n",
              "1   38            Private  215646  ...             40   United-States   <=50K\n",
              "2   53            Private  234721  ...             40   United-States   <=50K\n",
              "3   28            Private  338409  ...             40            Cuba   <=50K\n",
              "4   37            Private  284582  ...             40   United-States   <=50K\n",
              "\n",
              "[5 rows x 15 columns]"
            ]
          },
          "metadata": {},
          "execution_count": 73
        }
      ]
    },
    {
      "cell_type": "code",
      "metadata": {
        "colab": {
          "base_uri": "https://localhost:8080/"
        },
        "id": "3wDtGgj7eUpt",
        "outputId": "d72ff749-77f6-4fd3-b895-7aa3392ae717"
      },
      "source": [
        "df.info()"
      ],
      "execution_count": 74,
      "outputs": [
        {
          "output_type": "stream",
          "name": "stdout",
          "text": [
            "<class 'pandas.core.frame.DataFrame'>\n",
            "RangeIndex: 32560 entries, 0 to 32559\n",
            "Data columns (total 15 columns):\n",
            " #   Column          Non-Null Count  Dtype \n",
            "---  ------          --------------  ----- \n",
            " 0   Age             32560 non-null  int64 \n",
            " 1   Workclass       32560 non-null  object\n",
            " 2   Fnlwgt          32560 non-null  int64 \n",
            " 3   Education       32560 non-null  object\n",
            " 4   Education_num   32560 non-null  int64 \n",
            " 5   Marital_status  32560 non-null  object\n",
            " 6   Occupation      32560 non-null  object\n",
            " 7   Relationship    32560 non-null  object\n",
            " 8   Race            32560 non-null  object\n",
            " 9   Sex             32560 non-null  object\n",
            " 10  Capital_gain    32560 non-null  int64 \n",
            " 11  Capital_loss    32560 non-null  int64 \n",
            " 12  Hours_per_week  32560 non-null  int64 \n",
            " 13  Native_country  32560 non-null  object\n",
            " 14  Income          32560 non-null  object\n",
            "dtypes: int64(6), object(9)\n",
            "memory usage: 3.7+ MB\n"
          ]
        }
      ]
    },
    {
      "cell_type": "markdown",
      "metadata": {
        "id": "Y3UkbR91vcEt"
      },
      "source": [
        "\n",
        "### There are no missing values."
      ]
    },
    {
      "cell_type": "code",
      "metadata": {
        "id": "UmrbMi1Bvbqs"
      },
      "source": [
        "df.drop_duplicates(inplace=True)"
      ],
      "execution_count": 75,
      "outputs": []
    },
    {
      "cell_type": "code",
      "metadata": {
        "colab": {
          "base_uri": "https://localhost:8080/"
        },
        "id": "zvw4e8GxvteW",
        "outputId": "bd948efb-222f-456e-ee52-d823fb316e50"
      },
      "source": [
        "df.shape"
      ],
      "execution_count": 76,
      "outputs": [
        {
          "output_type": "execute_result",
          "data": {
            "text/plain": [
              "(32536, 15)"
            ]
          },
          "metadata": {},
          "execution_count": 76
        }
      ]
    },
    {
      "cell_type": "markdown",
      "metadata": {
        "id": "owW-obnMvwue"
      },
      "source": [
        "\n",
        "##  There were few duplicate observations which I successfully dropped."
      ]
    },
    {
      "cell_type": "code",
      "metadata": {
        "colab": {
          "base_uri": "https://localhost:8080/"
        },
        "id": "G31dA-_xewU8",
        "outputId": "4b64ca4a-731b-48e1-b522-6a360db5a59f"
      },
      "source": [
        "df['Income'].unique()"
      ],
      "execution_count": 77,
      "outputs": [
        {
          "output_type": "execute_result",
          "data": {
            "text/plain": [
              "array([' <=50K', ' >50K'], dtype=object)"
            ]
          },
          "metadata": {},
          "execution_count": 77
        }
      ]
    },
    {
      "cell_type": "code",
      "metadata": {
        "colab": {
          "base_uri": "https://localhost:8080/"
        },
        "id": "LtfiAyLmglNV",
        "outputId": "4fdee1ab-b0dc-46cb-ab33-f9e9df27802f"
      },
      "source": [
        "df.nunique()"
      ],
      "execution_count": 78,
      "outputs": [
        {
          "output_type": "execute_result",
          "data": {
            "text/plain": [
              "Age                  73\n",
              "Workclass             9\n",
              "Fnlwgt            21647\n",
              "Education            16\n",
              "Education_num        16\n",
              "Marital_status        7\n",
              "Occupation           15\n",
              "Relationship          6\n",
              "Race                  5\n",
              "Sex                   2\n",
              "Capital_gain        119\n",
              "Capital_loss         92\n",
              "Hours_per_week       94\n",
              "Native_country       42\n",
              "Income                2\n",
              "dtype: int64"
            ]
          },
          "metadata": {},
          "execution_count": 78
        }
      ]
    },
    {
      "cell_type": "code",
      "metadata": {
        "colab": {
          "base_uri": "https://localhost:8080/"
        },
        "id": "37n_mZcbupGE",
        "outputId": "bfd73449-70dd-4dfd-af69-144301ed46fb"
      },
      "source": [
        "df['Income'].value_counts()"
      ],
      "execution_count": 79,
      "outputs": [
        {
          "output_type": "execute_result",
          "data": {
            "text/plain": [
              " <=50K    24697\n",
              " >50K      7839\n",
              "Name: Income, dtype: int64"
            ]
          },
          "metadata": {},
          "execution_count": 79
        }
      ]
    },
    {
      "cell_type": "markdown",
      "metadata": {
        "id": "rFLkzBPfu06t"
      },
      "source": [
        "\n",
        "## It is clear that this is a highly imbalanced dataset with the minority class occupying just 24% of the observations."
      ]
    },
    {
      "cell_type": "code",
      "metadata": {
        "id": "hMQxUhB7gtUM"
      },
      "source": [
        "list_=[x for x in df.columns if df[x].nunique()>42]"
      ],
      "execution_count": 80,
      "outputs": []
    },
    {
      "cell_type": "code",
      "metadata": {
        "id": "yMxIxjj0y33k",
        "colab": {
          "base_uri": "https://localhost:8080/"
        },
        "outputId": "8717d9f0-8dad-458b-8e0b-38c6d1e7af12"
      },
      "source": [
        "len(list_)"
      ],
      "execution_count": 81,
      "outputs": [
        {
          "output_type": "execute_result",
          "data": {
            "text/plain": [
              "5"
            ]
          },
          "metadata": {},
          "execution_count": 81
        }
      ]
    },
    {
      "cell_type": "code",
      "metadata": {
        "colab": {
          "base_uri": "https://localhost:8080/",
          "height": 1000
        },
        "id": "k6bZxsYASxHK",
        "outputId": "fa5449af-c663-49bf-8f5b-a81ba56067b4"
      },
      "source": [
        "for i in list_:\n",
        "  plt.figure(figsize=(15,8))\n",
        "  sns.distplot(df[i])\n",
        "  plt.xlabel(i,fontsize=18)\n",
        "  plt.show()"
      ],
      "execution_count": 82,
      "outputs": [
        {
          "output_type": "display_data",
          "data": {
            "image/png": "[encoded data removed]",
            "text/plain": [
              "<Figure size 1080x576 with 1 Axes>"
            ]
          },
          "metadata": {
            "needs_background": "light"
          }
        },
        {
          "output_type": "display_data",
          "data": {
            "image/png": "[encoded data removed]",
            "text/plain": [
              "<Figure size 1080x576 with 1 Axes>"
            ]
          },
          "metadata": {
            "needs_background": "light"
          }
        },
        {
          "output_type": "display_data",
          "data": {
            "image/png": "[encoded data removed]",
            "text/plain": [
              "<Figure size 1080x576 with 1 Axes>"
            ]
          },
          "metadata": {
            "needs_background": "light"
          }
        },
        {
          "output_type": "display_data",
          "data": {
            "image/png": "[encoded data removed]",
            "text/plain": [
              "<Figure size 1080x576 with 1 Axes>"
            ]
          },
          "metadata": {
            "needs_background": "light"
          }
        },
        {
          "output_type": "display_data",
          "data": {
            "image/png": "[encoded data removed]",
            "text/plain": [
              "<Figure size 1080x576 with 1 Axes>"
            ]
          },
          "metadata": {
            "needs_background": "light"
          }
        }
      ]
    },
    {
      "cell_type": "markdown",
      "metadata": {
        "id": "tYDif_GbuiSd"
      },
      "source": [
        "### As the dataset is highly imbalanced, removing outliers might prove to be a way of loosing important information. Because the values that we cap might be corresponding to those minority classes."
      ]
    },
    {
      "cell_type": "code",
      "metadata": {
        "colab": {
          "base_uri": "https://localhost:8080/"
        },
        "id": "wwvQKFDVTqhU",
        "outputId": "aafd8ed5-0ba1-4a9d-8782-550d4f4e18fa"
      },
      "source": [
        "df['Hours_per_week'].sort_values()"
      ],
      "execution_count": 84,
      "outputs": [
        {
          "output_type": "execute_result",
          "data": {
            "text/plain": [
              "1261      1\n",
              "22959     1\n",
              "19749     1\n",
              "8446      1\n",
              "23535     1\n",
              "         ..\n",
              "5431     99\n",
              "30991    99\n",
              "21146    99\n",
              "13579    99\n",
              "12208    99\n",
              "Name: Hours_per_week, Length: 32536, dtype: int64"
            ]
          },
          "metadata": {},
          "execution_count": 84
        }
      ]
    },
    {
      "cell_type": "code",
      "metadata": {
        "colab": {
          "base_uri": "https://localhost:8080/",
          "height": 206
        },
        "id": "tJS5TSEBwnqc",
        "outputId": "ebf034b2-ee64-482f-e37e-bb018a2afd06"
      },
      "source": [
        "df[list_].corr()"
      ],
      "execution_count": 83,
      "outputs": [
        {
          "output_type": "execute_result",
          "data": {
            "text/html": [
              "<div>\n",
              "<style scoped>\n",
              "    .dataframe tbody tr th:only-of-type {\n",
              "        vertical-align: middle;\n",
              "    }\n",
              "\n",
              "    .dataframe tbody tr th {\n",
              "        vertical-align: top;\n",
              "    }\n",
              "\n",
              "    .dataframe thead th {\n",
              "        text-align: right;\n",
              "    }\n",
              "</style>\n",
              "<table border=\"1\" class=\"dataframe\">\n",
              "  <thead>\n",
              "    <tr style=\"text-align: right;\">\n",
              "      <th></th>\n",
              "      <th>Age</th>\n",
              "      <th>Fnlwgt</th>\n",
              "      <th>Capital_gain</th>\n",
              "      <th>Capital_loss</th>\n",
              "      <th>Hours_per_week</th>\n",
              "    </tr>\n",
              "  </thead>\n",
              "  <tbody>\n",
              "    <tr>\n",
              "      <th>Age</th>\n",
              "      <td>1.000000</td>\n",
              "      <td>-0.076448</td>\n",
              "      <td>0.077676</td>\n",
              "      <td>0.057745</td>\n",
              "      <td>0.068515</td>\n",
              "    </tr>\n",
              "    <tr>\n",
              "      <th>Fnlwgt</th>\n",
              "      <td>-0.076448</td>\n",
              "      <td>1.000000</td>\n",
              "      <td>0.000433</td>\n",
              "      <td>-0.010267</td>\n",
              "      <td>-0.018900</td>\n",
              "    </tr>\n",
              "    <tr>\n",
              "      <th>Capital_gain</th>\n",
              "      <td>0.077676</td>\n",
              "      <td>0.000433</td>\n",
              "      <td>1.000000</td>\n",
              "      <td>-0.031638</td>\n",
              "      <td>0.078408</td>\n",
              "    </tr>\n",
              "    <tr>\n",
              "      <th>Capital_loss</th>\n",
              "      <td>0.057745</td>\n",
              "      <td>-0.010267</td>\n",
              "      <td>-0.031638</td>\n",
              "      <td>1.000000</td>\n",
              "      <td>0.054229</td>\n",
              "    </tr>\n",
              "    <tr>\n",
              "      <th>Hours_per_week</th>\n",
              "      <td>0.068515</td>\n",
              "      <td>-0.018900</td>\n",
              "      <td>0.078408</td>\n",
              "      <td>0.054229</td>\n",
              "      <td>1.000000</td>\n",
              "    </tr>\n",
              "  </tbody>\n",
              "</table>\n",
              "</div>"
            ],
            "text/plain": [
              "                     Age    Fnlwgt  Capital_gain  Capital_loss  Hours_per_week\n",
              "Age             1.000000 -0.076448      0.077676      0.057745        0.068515\n",
              "Fnlwgt         -0.076448  1.000000      0.000433     -0.010267       -0.018900\n",
              "Capital_gain    0.077676  0.000433      1.000000     -0.031638        0.078408\n",
              "Capital_loss    0.057745 -0.010267     -0.031638      1.000000        0.054229\n",
              "Hours_per_week  0.068515 -0.018900      0.078408      0.054229        1.000000"
            ]
          },
          "metadata": {},
          "execution_count": 83
        }
      ]
    },
    {
      "cell_type": "markdown",
      "metadata": {
        "id": "SjtjjWriw7v5"
      },
      "source": [
        "## Observations:\n",
        "## 1.There is no multicollinearity within any features."
      ]
    },
    {
      "cell_type": "markdown",
      "metadata": {
        "id": "3wcmeTpAxOam"
      },
      "source": [
        "### Checking if the two classes are visually separable.\n"
      ]
    },
    {
      "cell_type": "code",
      "metadata": {
        "colab": {
          "base_uri": "https://localhost:8080/",
          "height": 1000
        },
        "id": "q1lu75Ijw26H",
        "outputId": "bb5b0abd-44bf-4246-ff24-dfcf36cf027d"
      },
      "source": [
        "for i in list_:\n",
        "  fig,axes=plt.subplots(1,2, figsize=(16,7))\n",
        "  sns.scatterplot(df[i],df[i], hue=df['Income'],ax=axes[0])\n",
        "  sns.boxplot(x=df['Income'],y=df[i],ax=axes[1])\n",
        "  plt.show()"
      ],
      "execution_count": 85,
      "outputs": [
        {
          "output_type": "display_data",
          "data": {
            "image/png": "[encoded data removed]",
            "text/plain": [
              "<Figure size 1152x504 with 2 Axes>"
            ]
          },
          "metadata": {
            "needs_background": "light"
          }
        },
        {
          "output_type": "display_data",
          "data": {
            "image/png": "[encoded data removed]",
            "text/plain": [
              "<Figure size 1152x504 with 2 Axes>"
            ]
          },
          "metadata": {
            "needs_background": "light"
          }
        },
        {
          "output_type": "display_data",
          "data": {
            "image/png": "[encoded data removed]",
            "text/plain": [
              "<Figure size 1152x504 with 2 Axes>"
            ]
          },
          "metadata": {
            "needs_background": "light"
          }
        },
        {
          "output_type": "display_data",
          "data": {
            "image/png": "[encoded data removed]",
            "text/plain": [
              "<Figure size 1152x504 with 2 Axes>"
            ]
          },
          "metadata": {
            "needs_background": "light"
          }
        },
        {
          "output_type": "display_data",
          "data": {
            "image/png": "[encoded data removed]",
            "text/plain": [
              "<Figure size 1152x504 with 2 Axes>"
            ]
          },
          "metadata": {
            "needs_background": "light"
          }
        }
      ]
    },
    {
      "cell_type": "markdown",
      "metadata": {
        "id": "z75HhS82yEK_"
      },
      "source": [
        "\n",
        "##  Columns like capital loss and capital gain show that the income is greater than 50k when the value of those features increase.\n",
        "##  More the age, higher are the chances of the income being more than 50k."
      ]
    },
    {
      "cell_type": "code",
      "metadata": {
        "id": "hnu_-mmXxjII"
      },
      "source": [
        "categorical_cols=[x for x in df.columns if x not in list_]"
      ],
      "execution_count": 25,
      "outputs": []
    },
    {
      "cell_type": "code",
      "metadata": {
        "colab": {
          "base_uri": "https://localhost:8080/",
          "height": 206
        },
        "id": "TUlGPxJv3pEN",
        "outputId": "65966b62-86cc-4c00-d890-0b25fd144d2b"
      },
      "source": [
        "df[categorical_cols].head()"
      ],
      "execution_count": 26,
      "outputs": [
        {
          "output_type": "execute_result",
          "data": {
            "text/html": [
              "<div>\n",
              "<style scoped>\n",
              "    .dataframe tbody tr th:only-of-type {\n",
              "        vertical-align: middle;\n",
              "    }\n",
              "\n",
              "    .dataframe tbody tr th {\n",
              "        vertical-align: top;\n",
              "    }\n",
              "\n",
              "    .dataframe thead th {\n",
              "        text-align: right;\n",
              "    }\n",
              "</style>\n",
              "<table border=\"1\" class=\"dataframe\">\n",
              "  <thead>\n",
              "    <tr style=\"text-align: right;\">\n",
              "      <th></th>\n",
              "      <th>Workclass</th>\n",
              "      <th>Education</th>\n",
              "      <th>Education_num</th>\n",
              "      <th>Marital_status</th>\n",
              "      <th>Occupation</th>\n",
              "      <th>Relationship</th>\n",
              "      <th>Race</th>\n",
              "      <th>Sex</th>\n",
              "      <th>Native_country</th>\n",
              "      <th>Income</th>\n",
              "    </tr>\n",
              "  </thead>\n",
              "  <tbody>\n",
              "    <tr>\n",
              "      <th>0</th>\n",
              "      <td>Self-emp-not-inc</td>\n",
              "      <td>Bachelors</td>\n",
              "      <td>13</td>\n",
              "      <td>Married-civ-spouse</td>\n",
              "      <td>Exec-managerial</td>\n",
              "      <td>Husband</td>\n",
              "      <td>White</td>\n",
              "      <td>Male</td>\n",
              "      <td>United-States</td>\n",
              "      <td>&lt;=50K</td>\n",
              "    </tr>\n",
              "    <tr>\n",
              "      <th>1</th>\n",
              "      <td>Private</td>\n",
              "      <td>HS-grad</td>\n",
              "      <td>9</td>\n",
              "      <td>Divorced</td>\n",
              "      <td>Handlers-cleaners</td>\n",
              "      <td>Not-in-family</td>\n",
              "      <td>White</td>\n",
              "      <td>Male</td>\n",
              "      <td>United-States</td>\n",
              "      <td>&lt;=50K</td>\n",
              "    </tr>\n",
              "    <tr>\n",
              "      <th>2</th>\n",
              "      <td>Private</td>\n",
              "      <td>11th</td>\n",
              "      <td>7</td>\n",
              "      <td>Married-civ-spouse</td>\n",
              "      <td>Handlers-cleaners</td>\n",
              "      <td>Husband</td>\n",
              "      <td>Black</td>\n",
              "      <td>Male</td>\n",
              "      <td>United-States</td>\n",
              "      <td>&lt;=50K</td>\n",
              "    </tr>\n",
              "    <tr>\n",
              "      <th>3</th>\n",
              "      <td>Private</td>\n",
              "      <td>Bachelors</td>\n",
              "      <td>13</td>\n",
              "      <td>Married-civ-spouse</td>\n",
              "      <td>Prof-specialty</td>\n",
              "      <td>Wife</td>\n",
              "      <td>Black</td>\n",
              "      <td>Female</td>\n",
              "      <td>Cuba</td>\n",
              "      <td>&lt;=50K</td>\n",
              "    </tr>\n",
              "    <tr>\n",
              "      <th>4</th>\n",
              "      <td>Private</td>\n",
              "      <td>Masters</td>\n",
              "      <td>14</td>\n",
              "      <td>Married-civ-spouse</td>\n",
              "      <td>Exec-managerial</td>\n",
              "      <td>Wife</td>\n",
              "      <td>White</td>\n",
              "      <td>Female</td>\n",
              "      <td>United-States</td>\n",
              "      <td>&lt;=50K</td>\n",
              "    </tr>\n",
              "  </tbody>\n",
              "</table>\n",
              "</div>"
            ],
            "text/plain": [
              "           Workclass   Education  ...  Native_country  Income\n",
              "0   Self-emp-not-inc   Bachelors  ...   United-States   <=50K\n",
              "1            Private     HS-grad  ...   United-States   <=50K\n",
              "2            Private        11th  ...   United-States   <=50K\n",
              "3            Private   Bachelors  ...            Cuba   <=50K\n",
              "4            Private     Masters  ...   United-States   <=50K\n",
              "\n",
              "[5 rows x 10 columns]"
            ]
          },
          "metadata": {},
          "execution_count": 26
        }
      ]
    },
    {
      "cell_type": "code",
      "metadata": {
        "colab": {
          "base_uri": "https://localhost:8080/"
        },
        "id": "KWN_k8Ln9r_M",
        "outputId": "85c41f9a-b80b-4319-d3e5-77568a927873"
      },
      "source": [
        "for i in categorical_cols:\n",
        "  print(df[i].value_counts())\n",
        "  "
      ],
      "execution_count": 27,
      "outputs": [
        {
          "output_type": "stream",
          "name": "stdout",
          "text": [
            " Private             22673\n",
            " Self-emp-not-inc     2540\n",
            " Local-gov            2093\n",
            " ?                    1836\n",
            " State-gov            1297\n",
            " Self-emp-inc         1116\n",
            " Federal-gov           960\n",
            " Without-pay            14\n",
            " Never-worked            7\n",
            "Name: Workclass, dtype: int64\n",
            " HS-grad         10494\n",
            " Some-college     7282\n",
            " Bachelors        5352\n",
            " Masters          1722\n",
            " Assoc-voc        1382\n",
            " 11th             1175\n",
            " Assoc-acdm       1067\n",
            " 10th              933\n",
            " 7th-8th           645\n",
            " Prof-school       576\n",
            " 9th               514\n",
            " 12th              433\n",
            " Doctorate         413\n",
            " 5th-6th           332\n",
            " 1st-4th           166\n",
            " Preschool          50\n",
            "Name: Education, dtype: int64\n",
            "9     10494\n",
            "10     7282\n",
            "13     5352\n",
            "14     1722\n",
            "11     1382\n",
            "7      1175\n",
            "12     1067\n",
            "6       933\n",
            "4       645\n",
            "15      576\n",
            "5       514\n",
            "8       433\n",
            "16      413\n",
            "3       332\n",
            "2       166\n",
            "1        50\n",
            "Name: Education_num, dtype: int64\n",
            " Married-civ-spouse       14970\n",
            " Never-married            10666\n",
            " Divorced                  4441\n",
            " Separated                 1025\n",
            " Widowed                    993\n",
            " Married-spouse-absent      418\n",
            " Married-AF-spouse           23\n",
            "Name: Marital_status, dtype: int64\n",
            " Prof-specialty       4136\n",
            " Craft-repair         4094\n",
            " Exec-managerial      4065\n",
            " Adm-clerical         3767\n",
            " Sales                3650\n",
            " Other-service        3291\n",
            " Machine-op-inspct    2000\n",
            " ?                    1843\n",
            " Transport-moving     1597\n",
            " Handlers-cleaners    1369\n",
            " Farming-fishing       992\n",
            " Tech-support          927\n",
            " Protective-serv       649\n",
            " Priv-house-serv       147\n",
            " Armed-Forces            9\n",
            "Name: Occupation, dtype: int64\n",
            " Husband           13187\n",
            " Not-in-family      8291\n",
            " Own-child          5064\n",
            " Unmarried          3445\n",
            " Wife               1568\n",
            " Other-relative      981\n",
            "Name: Relationship, dtype: int64\n",
            " White                 27794\n",
            " Black                  3122\n",
            " Asian-Pac-Islander     1038\n",
            " Amer-Indian-Eskimo      311\n",
            " Other                   271\n",
            "Name: Race, dtype: int64\n",
            " Male      21774\n",
            " Female    10762\n",
            "Name: Sex, dtype: int64\n",
            " United-States                 29152\n",
            " Mexico                          639\n",
            " ?                               582\n",
            " Philippines                     198\n",
            " Germany                         137\n",
            " Canada                          121\n",
            " Puerto-Rico                     114\n",
            " El-Salvador                     106\n",
            " India                           100\n",
            " Cuba                             95\n",
            " England                          90\n",
            " Jamaica                          81\n",
            " South                            80\n",
            " China                            75\n",
            " Italy                            73\n",
            " Dominican-Republic               70\n",
            " Vietnam                          67\n",
            " Japan                            62\n",
            " Guatemala                        62\n",
            " Poland                           60\n",
            " Columbia                         59\n",
            " Taiwan                           51\n",
            " Haiti                            44\n",
            " Iran                             43\n",
            " Portugal                         37\n",
            " Nicaragua                        34\n",
            " Peru                             31\n",
            " Greece                           29\n",
            " France                           29\n",
            " Ecuador                          28\n",
            " Ireland                          24\n",
            " Hong                             20\n",
            " Cambodia                         19\n",
            " Trinadad&Tobago                  19\n",
            " Thailand                         18\n",
            " Laos                             18\n",
            " Yugoslavia                       16\n",
            " Outlying-US(Guam-USVI-etc)       14\n",
            " Honduras                         13\n",
            " Hungary                          13\n",
            " Scotland                         12\n",
            " Holand-Netherlands                1\n",
            "Name: Native_country, dtype: int64\n",
            " <=50K    24697\n",
            " >50K      7839\n",
            "Name: Income, dtype: int64\n"
          ]
        }
      ]
    },
    {
      "cell_type": "markdown",
      "metadata": {
        "id": "fZTG2eqq-y8_"
      },
      "source": [
        "\n",
        "##The 'Workclass', 'Native Counntry' and 'Occupation'\n",
        "## column has a '?' value. I shall  replace it with another string.\n"
      ]
    },
    {
      "cell_type": "code",
      "metadata": {
        "id": "IIZd7ZgG-yTu"
      },
      "source": [
        "df['Workclass']=df['Workclass'].apply(lambda x:'Other' if x in [' ?'] else x)\n",
        "df['Native_country']=df['Native_country'].apply(lambda x:'Other' if x in [' ?'] else x)\n",
        "df['Occupation']=df['Occupation'].apply(lambda x:'Other' if x in [' ?'] else x)"
      ],
      "execution_count": 86,
      "outputs": []
    },
    {
      "cell_type": "code",
      "metadata": {
        "id": "wyIHgyNEDcE9"
      },
      "source": [
        "df['Education']=df['Education'].apply(lambda x:'School' if x in [' 11th',' 10th',' 7th-8th',' 9th',' 12th',' 5th-6th',' 1st-4th'] else x)"
      ],
      "execution_count": 87,
      "outputs": []
    },
    {
      "cell_type": "code",
      "metadata": {
        "colab": {
          "base_uri": "https://localhost:8080/"
        },
        "id": "p-jFxuulBabW",
        "outputId": "b23c1291-4c1c-4ec9-b6bd-238b95857e80"
      },
      "source": [
        "df['Education'].unique()"
      ],
      "execution_count": 88,
      "outputs": [
        {
          "output_type": "execute_result",
          "data": {
            "text/plain": [
              "array([' Bachelors', ' HS-grad', 'School', ' Masters', ' Some-college',\n",
              "       ' Assoc-acdm', ' Assoc-voc', ' Doctorate', ' Prof-school',\n",
              "       ' Preschool'], dtype=object)"
            ]
          },
          "metadata": {},
          "execution_count": 88
        }
      ]
    },
    {
      "cell_type": "code",
      "metadata": {
        "colab": {
          "base_uri": "https://localhost:8080/",
          "height": 1000
        },
        "id": "itdfKgFP3snX",
        "outputId": "003c327e-56ae-41cf-8801-b297106a7907"
      },
      "source": [
        "for i in categorical_cols:\n",
        "  if df[i].nunique()>10:\n",
        "    plt.figure(figsize=(20,8))\n",
        "    sns.countplot(df[i],hue=df['Income'])\n",
        "    plt.xticks(rotation=90)\n",
        "    plt.show()\n",
        "  else:\n",
        "    plt.figure(figsize=(15,6))\n",
        "    sns.countplot(df[i],hue=df['Income'])\n",
        "    plt.xticks(rotation=90)\n",
        "    plt.show()"
      ],
      "execution_count": 89,
      "outputs": [
        {
          "output_type": "display_data",
          "data": {
            "image/png": "[encoded data removed]",
            "text/plain": [
              "<Figure size 1080x432 with 1 Axes>"
            ]
          },
          "metadata": {
            "needs_background": "light"
          }
        },
        {
          "output_type": "display_data",
          "data": {
            "image/png": "[encoded data removed]",
            "text/plain": [
              "<Figure size 1080x432 with 1 Axes>"
            ]
          },
          "metadata": {
            "needs_background": "light"
          }
        },
        {
          "output_type": "display_data",
          "data": {
            "image/png": "[encoded data removed]",
            "text/plain": [
              "<Figure size 1440x576 with 1 Axes>"
            ]
          },
          "metadata": {
            "needs_background": "light"
          }
        },
        {
          "output_type": "display_data",
          "data": {
            "image/png": "[encoded data removed]",
            "text/plain": [
              "<Figure size 1080x432 with 1 Axes>"
            ]
          },
          "metadata": {
            "needs_background": "light"
          }
        },
        {
          "output_type": "display_data",
          "data": {
            "image/png": "[encoded data removed]",
            "text/plain": [
              "<Figure size 1440x576 with 1 Axes>"
            ]
          },
          "metadata": {
            "needs_background": "light"
          }
        },
        {
          "output_type": "display_data",
          "data": {
            "image/png": "[encoded data removed]",
            "text/plain": [
              "<Figure size 1080x432 with 1 Axes>"
            ]
          },
          "metadata": {
            "needs_background": "light"
          }
        },
        {
          "output_type": "display_data",
          "data": {
            "image/png": "[encoded data removed]",
            "text/plain": [
              "<Figure size 1080x432 with 1 Axes>"
            ]
          },
          "metadata": {
            "needs_background": "light"
          }
        },
        {
          "output_type": "display_data",
          "data": {
            "image/png": "[encoded data removed]",
            "text/plain": [
              "<Figure size 1080x432 with 1 Axes>"
            ]
          },
          "metadata": {
            "needs_background": "light"
          }
        },
        {
          "output_type": "display_data",
          "data": {
            "image/png": "[encoded data removed]",
            "text/plain": [
              "<Figure size 1440x576 with 1 Axes>"
            ]
          },
          "metadata": {
            "needs_background": "light"
          }
        },
        {
          "output_type": "display_data",
          "data": {
            "image/png": "[encoded data removed]",
            "text/plain": [
              "<Figure size 1080x432 with 1 Axes>"
            ]
          },
          "metadata": {
            "needs_background": "light"
          }
        }
      ]
    },
    {
      "cell_type": "code",
      "metadata": {
        "id": "W78seBRY4Vr9"
      },
      "source": [
        "df=pd.get_dummies(df,columns=['Workclass','Education','Marital_status','Occupation','Relationship','Race','Sex'],drop_first=True )"
      ],
      "execution_count": 90,
      "outputs": []
    },
    {
      "cell_type": "code",
      "metadata": {
        "colab": {
          "base_uri": "https://localhost:8080/",
          "height": 278
        },
        "id": "m3guDA8oFgFn",
        "outputId": "e3e40711-4452-43d5-9232-351cff9b6404"
      },
      "source": [
        "df.head()"
      ],
      "execution_count": 91,
      "outputs": [
        {
          "output_type": "execute_result",
          "data": {
            "text/html": [
              "<div>\n",
              "<style scoped>\n",
              "    .dataframe tbody tr th:only-of-type {\n",
              "        vertical-align: middle;\n",
              "    }\n",
              "\n",
              "    .dataframe tbody tr th {\n",
              "        vertical-align: top;\n",
              "    }\n",
              "\n",
              "    .dataframe thead th {\n",
              "        text-align: right;\n",
              "    }\n",
              "</style>\n",
              "<table border=\"1\" class=\"dataframe\">\n",
              "  <thead>\n",
              "    <tr style=\"text-align: right;\">\n",
              "      <th></th>\n",
              "      <th>Age</th>\n",
              "      <th>Fnlwgt</th>\n",
              "      <th>Education_num</th>\n",
              "      <th>Capital_gain</th>\n",
              "      <th>Capital_loss</th>\n",
              "      <th>Hours_per_week</th>\n",
              "      <th>Native_country</th>\n",
              "      <th>Income</th>\n",
              "      <th>Workclass_ Local-gov</th>\n",
              "      <th>Workclass_ Never-worked</th>\n",
              "      <th>Workclass_ Private</th>\n",
              "      <th>Workclass_ Self-emp-inc</th>\n",
              "      <th>Workclass_ Self-emp-not-inc</th>\n",
              "      <th>Workclass_ State-gov</th>\n",
              "      <th>Workclass_ Without-pay</th>\n",
              "      <th>Workclass_Other</th>\n",
              "      <th>Education_ Assoc-voc</th>\n",
              "      <th>Education_ Bachelors</th>\n",
              "      <th>Education_ Doctorate</th>\n",
              "      <th>Education_ HS-grad</th>\n",
              "      <th>Education_ Masters</th>\n",
              "      <th>Education_ Preschool</th>\n",
              "      <th>Education_ Prof-school</th>\n",
              "      <th>Education_ Some-college</th>\n",
              "      <th>Education_School</th>\n",
              "      <th>Marital_status_ Married-AF-spouse</th>\n",
              "      <th>Marital_status_ Married-civ-spouse</th>\n",
              "      <th>Marital_status_ Married-spouse-absent</th>\n",
              "      <th>Marital_status_ Never-married</th>\n",
              "      <th>Marital_status_ Separated</th>\n",
              "      <th>Marital_status_ Widowed</th>\n",
              "      <th>Occupation_ Armed-Forces</th>\n",
              "      <th>Occupation_ Craft-repair</th>\n",
              "      <th>Occupation_ Exec-managerial</th>\n",
              "      <th>Occupation_ Farming-fishing</th>\n",
              "      <th>Occupation_ Handlers-cleaners</th>\n",
              "      <th>Occupation_ Machine-op-inspct</th>\n",
              "      <th>Occupation_ Other-service</th>\n",
              "      <th>Occupation_ Priv-house-serv</th>\n",
              "      <th>Occupation_ Prof-specialty</th>\n",
              "      <th>Occupation_ Protective-serv</th>\n",
              "      <th>Occupation_ Sales</th>\n",
              "      <th>Occupation_ Tech-support</th>\n",
              "      <th>Occupation_ Transport-moving</th>\n",
              "      <th>Occupation_Other</th>\n",
              "      <th>Relationship_ Not-in-family</th>\n",
              "      <th>Relationship_ Other-relative</th>\n",
              "      <th>Relationship_ Own-child</th>\n",
              "      <th>Relationship_ Unmarried</th>\n",
              "      <th>Relationship_ Wife</th>\n",
              "      <th>Race_ Asian-Pac-Islander</th>\n",
              "      <th>Race_ Black</th>\n",
              "      <th>Race_ Other</th>\n",
              "      <th>Race_ White</th>\n",
              "      <th>Sex_ Male</th>\n",
              "    </tr>\n",
              "  </thead>\n",
              "  <tbody>\n",
              "    <tr>\n",
              "      <th>0</th>\n",
              "      <td>50</td>\n",
              "      <td>83311</td>\n",
              "      <td>13</td>\n",
              "      <td>0</td>\n",
              "      <td>0</td>\n",
              "      <td>13</td>\n",
              "      <td>United-States</td>\n",
              "      <td>&lt;=50K</td>\n",
              "      <td>0</td>\n",
              "      <td>0</td>\n",
              "      <td>0</td>\n",
              "      <td>0</td>\n",
              "      <td>1</td>\n",
              "      <td>0</td>\n",
              "      <td>0</td>\n",
              "      <td>0</td>\n",
              "      <td>0</td>\n",
              "      <td>1</td>\n",
              "      <td>0</td>\n",
              "      <td>0</td>\n",
              "      <td>0</td>\n",
              "      <td>0</td>\n",
              "      <td>0</td>\n",
              "      <td>0</td>\n",
              "      <td>0</td>\n",
              "      <td>0</td>\n",
              "      <td>1</td>\n",
              "      <td>0</td>\n",
              "      <td>0</td>\n",
              "      <td>0</td>\n",
              "      <td>0</td>\n",
              "      <td>0</td>\n",
              "      <td>0</td>\n",
              "      <td>1</td>\n",
              "      <td>0</td>\n",
              "      <td>0</td>\n",
              "      <td>0</td>\n",
              "      <td>0</td>\n",
              "      <td>0</td>\n",
              "      <td>0</td>\n",
              "      <td>0</td>\n",
              "      <td>0</td>\n",
              "      <td>0</td>\n",
              "      <td>0</td>\n",
              "      <td>0</td>\n",
              "      <td>0</td>\n",
              "      <td>0</td>\n",
              "      <td>0</td>\n",
              "      <td>0</td>\n",
              "      <td>0</td>\n",
              "      <td>0</td>\n",
              "      <td>0</td>\n",
              "      <td>0</td>\n",
              "      <td>1</td>\n",
              "      <td>1</td>\n",
              "    </tr>\n",
              "    <tr>\n",
              "      <th>1</th>\n",
              "      <td>38</td>\n",
              "      <td>215646</td>\n",
              "      <td>9</td>\n",
              "      <td>0</td>\n",
              "      <td>0</td>\n",
              "      <td>40</td>\n",
              "      <td>United-States</td>\n",
              "      <td>&lt;=50K</td>\n",
              "      <td>0</td>\n",
              "      <td>0</td>\n",
              "      <td>1</td>\n",
              "      <td>0</td>\n",
              "      <td>0</td>\n",
              "      <td>0</td>\n",
              "      <td>0</td>\n",
              "      <td>0</td>\n",
              "      <td>0</td>\n",
              "      <td>0</td>\n",
              "      <td>0</td>\n",
              "      <td>1</td>\n",
              "      <td>0</td>\n",
              "      <td>0</td>\n",
              "      <td>0</td>\n",
              "      <td>0</td>\n",
              "      <td>0</td>\n",
              "      <td>0</td>\n",
              "      <td>0</td>\n",
              "      <td>0</td>\n",
              "      <td>0</td>\n",
              "      <td>0</td>\n",
              "      <td>0</td>\n",
              "      <td>0</td>\n",
              "      <td>0</td>\n",
              "      <td>0</td>\n",
              "      <td>0</td>\n",
              "      <td>1</td>\n",
              "      <td>0</td>\n",
              "      <td>0</td>\n",
              "      <td>0</td>\n",
              "      <td>0</td>\n",
              "      <td>0</td>\n",
              "      <td>0</td>\n",
              "      <td>0</td>\n",
              "      <td>0</td>\n",
              "      <td>0</td>\n",
              "      <td>1</td>\n",
              "      <td>0</td>\n",
              "      <td>0</td>\n",
              "      <td>0</td>\n",
              "      <td>0</td>\n",
              "      <td>0</td>\n",
              "      <td>0</td>\n",
              "      <td>0</td>\n",
              "      <td>1</td>\n",
              "      <td>1</td>\n",
              "    </tr>\n",
              "    <tr>\n",
              "      <th>2</th>\n",
              "      <td>53</td>\n",
              "      <td>234721</td>\n",
              "      <td>7</td>\n",
              "      <td>0</td>\n",
              "      <td>0</td>\n",
              "      <td>40</td>\n",
              "      <td>United-States</td>\n",
              "      <td>&lt;=50K</td>\n",
              "      <td>0</td>\n",
              "      <td>0</td>\n",
              "      <td>1</td>\n",
              "      <td>0</td>\n",
              "      <td>0</td>\n",
              "      <td>0</td>\n",
              "      <td>0</td>\n",
              "      <td>0</td>\n",
              "      <td>0</td>\n",
              "      <td>0</td>\n",
              "      <td>0</td>\n",
              "      <td>0</td>\n",
              "      <td>0</td>\n",
              "      <td>0</td>\n",
              "      <td>0</td>\n",
              "      <td>0</td>\n",
              "      <td>1</td>\n",
              "      <td>0</td>\n",
              "      <td>1</td>\n",
              "      <td>0</td>\n",
              "      <td>0</td>\n",
              "      <td>0</td>\n",
              "      <td>0</td>\n",
              "      <td>0</td>\n",
              "      <td>0</td>\n",
              "      <td>0</td>\n",
              "      <td>0</td>\n",
              "      <td>1</td>\n",
              "      <td>0</td>\n",
              "      <td>0</td>\n",
              "      <td>0</td>\n",
              "      <td>0</td>\n",
              "      <td>0</td>\n",
              "      <td>0</td>\n",
              "      <td>0</td>\n",
              "      <td>0</td>\n",
              "      <td>0</td>\n",
              "      <td>0</td>\n",
              "      <td>0</td>\n",
              "      <td>0</td>\n",
              "      <td>0</td>\n",
              "      <td>0</td>\n",
              "      <td>0</td>\n",
              "      <td>1</td>\n",
              "      <td>0</td>\n",
              "      <td>0</td>\n",
              "      <td>1</td>\n",
              "    </tr>\n",
              "    <tr>\n",
              "      <th>3</th>\n",
              "      <td>28</td>\n",
              "      <td>338409</td>\n",
              "      <td>13</td>\n",
              "      <td>0</td>\n",
              "      <td>0</td>\n",
              "      <td>40</td>\n",
              "      <td>Cuba</td>\n",
              "      <td>&lt;=50K</td>\n",
              "      <td>0</td>\n",
              "      <td>0</td>\n",
              "      <td>1</td>\n",
              "      <td>0</td>\n",
              "      <td>0</td>\n",
              "      <td>0</td>\n",
              "      <td>0</td>\n",
              "      <td>0</td>\n",
              "      <td>0</td>\n",
              "      <td>1</td>\n",
              "      <td>0</td>\n",
              "      <td>0</td>\n",
              "      <td>0</td>\n",
              "      <td>0</td>\n",
              "      <td>0</td>\n",
              "      <td>0</td>\n",
              "      <td>0</td>\n",
              "      <td>0</td>\n",
              "      <td>1</td>\n",
              "      <td>0</td>\n",
              "      <td>0</td>\n",
              "      <td>0</td>\n",
              "      <td>0</td>\n",
              "      <td>0</td>\n",
              "      <td>0</td>\n",
              "      <td>0</td>\n",
              "      <td>0</td>\n",
              "      <td>0</td>\n",
              "      <td>0</td>\n",
              "      <td>0</td>\n",
              "      <td>0</td>\n",
              "      <td>1</td>\n",
              "      <td>0</td>\n",
              "      <td>0</td>\n",
              "      <td>0</td>\n",
              "      <td>0</td>\n",
              "      <td>0</td>\n",
              "      <td>0</td>\n",
              "      <td>0</td>\n",
              "      <td>0</td>\n",
              "      <td>0</td>\n",
              "      <td>1</td>\n",
              "      <td>0</td>\n",
              "      <td>1</td>\n",
              "      <td>0</td>\n",
              "      <td>0</td>\n",
              "      <td>0</td>\n",
              "    </tr>\n",
              "    <tr>\n",
              "      <th>4</th>\n",
              "      <td>37</td>\n",
              "      <td>284582</td>\n",
              "      <td>14</td>\n",
              "      <td>0</td>\n",
              "      <td>0</td>\n",
              "      <td>40</td>\n",
              "      <td>United-States</td>\n",
              "      <td>&lt;=50K</td>\n",
              "      <td>0</td>\n",
              "      <td>0</td>\n",
              "      <td>1</td>\n",
              "      <td>0</td>\n",
              "      <td>0</td>\n",
              "      <td>0</td>\n",
              "      <td>0</td>\n",
              "      <td>0</td>\n",
              "      <td>0</td>\n",
              "      <td>0</td>\n",
              "      <td>0</td>\n",
              "      <td>0</td>\n",
              "      <td>1</td>\n",
              "      <td>0</td>\n",
              "      <td>0</td>\n",
              "      <td>0</td>\n",
              "      <td>0</td>\n",
              "      <td>0</td>\n",
              "      <td>1</td>\n",
              "      <td>0</td>\n",
              "      <td>0</td>\n",
              "      <td>0</td>\n",
              "      <td>0</td>\n",
              "      <td>0</td>\n",
              "      <td>0</td>\n",
              "      <td>1</td>\n",
              "      <td>0</td>\n",
              "      <td>0</td>\n",
              "      <td>0</td>\n",
              "      <td>0</td>\n",
              "      <td>0</td>\n",
              "      <td>0</td>\n",
              "      <td>0</td>\n",
              "      <td>0</td>\n",
              "      <td>0</td>\n",
              "      <td>0</td>\n",
              "      <td>0</td>\n",
              "      <td>0</td>\n",
              "      <td>0</td>\n",
              "      <td>0</td>\n",
              "      <td>0</td>\n",
              "      <td>1</td>\n",
              "      <td>0</td>\n",
              "      <td>0</td>\n",
              "      <td>0</td>\n",
              "      <td>1</td>\n",
              "      <td>0</td>\n",
              "    </tr>\n",
              "  </tbody>\n",
              "</table>\n",
              "</div>"
            ],
            "text/plain": [
              "   Age  Fnlwgt  Education_num  ...  Race_ Other  Race_ White  Sex_ Male\n",
              "0   50   83311             13  ...            0            1          1\n",
              "1   38  215646              9  ...            0            1          1\n",
              "2   53  234721              7  ...            0            0          1\n",
              "3   28  338409             13  ...            0            0          0\n",
              "4   37  284582             14  ...            0            1          0\n",
              "\n",
              "[5 rows x 55 columns]"
            ]
          },
          "metadata": {},
          "execution_count": 91
        }
      ]
    },
    {
      "cell_type": "code",
      "metadata": {
        "id": "ocaACI_wF0Fz"
      },
      "source": [
        "from sklearn import preprocessing\n",
        " \n",
        "# label_encoder object knows how to understand word labels.\n",
        "encod = preprocessing.LabelEncoder()\n",
        " \n",
        "# Encode labels in column 'species'.\n",
        "df['Native_country']= encod.fit_transform(df['Native_country'])\n",
        "df['Income']= encod.fit_transform(df['Income'])\n"
      ],
      "execution_count": 92,
      "outputs": []
    },
    {
      "cell_type": "code",
      "metadata": {
        "id": "8qip8u1_GRIb",
        "colab": {
          "base_uri": "https://localhost:8080/",
          "height": 278
        },
        "outputId": "5d0e4134-1202-4311-cbc1-e84f52c3914b"
      },
      "source": [
        "df.head()"
      ],
      "execution_count": 93,
      "outputs": [
        {
          "output_type": "execute_result",
          "data": {
            "text/html": [
              "<div>\n",
              "<style scoped>\n",
              "    .dataframe tbody tr th:only-of-type {\n",
              "        vertical-align: middle;\n",
              "    }\n",
              "\n",
              "    .dataframe tbody tr th {\n",
              "        vertical-align: top;\n",
              "    }\n",
              "\n",
              "    .dataframe thead th {\n",
              "        text-align: right;\n",
              "    }\n",
              "</style>\n",
              "<table border=\"1\" class=\"dataframe\">\n",
              "  <thead>\n",
              "    <tr style=\"text-align: right;\">\n",
              "      <th></th>\n",
              "      <th>Age</th>\n",
              "      <th>Fnlwgt</th>\n",
              "      <th>Education_num</th>\n",
              "      <th>Capital_gain</th>\n",
              "      <th>Capital_loss</th>\n",
              "      <th>Hours_per_week</th>\n",
              "      <th>Native_country</th>\n",
              "      <th>Income</th>\n",
              "      <th>Workclass_ Local-gov</th>\n",
              "      <th>Workclass_ Never-worked</th>\n",
              "      <th>Workclass_ Private</th>\n",
              "      <th>Workclass_ Self-emp-inc</th>\n",
              "      <th>Workclass_ Self-emp-not-inc</th>\n",
              "      <th>Workclass_ State-gov</th>\n",
              "      <th>Workclass_ Without-pay</th>\n",
              "      <th>Workclass_Other</th>\n",
              "      <th>Education_ Assoc-voc</th>\n",
              "      <th>Education_ Bachelors</th>\n",
              "      <th>Education_ Doctorate</th>\n",
              "      <th>Education_ HS-grad</th>\n",
              "      <th>Education_ Masters</th>\n",
              "      <th>Education_ Preschool</th>\n",
              "      <th>Education_ Prof-school</th>\n",
              "      <th>Education_ Some-college</th>\n",
              "      <th>Education_School</th>\n",
              "      <th>Marital_status_ Married-AF-spouse</th>\n",
              "      <th>Marital_status_ Married-civ-spouse</th>\n",
              "      <th>Marital_status_ Married-spouse-absent</th>\n",
              "      <th>Marital_status_ Never-married</th>\n",
              "      <th>Marital_status_ Separated</th>\n",
              "      <th>Marital_status_ Widowed</th>\n",
              "      <th>Occupation_ Armed-Forces</th>\n",
              "      <th>Occupation_ Craft-repair</th>\n",
              "      <th>Occupation_ Exec-managerial</th>\n",
              "      <th>Occupation_ Farming-fishing</th>\n",
              "      <th>Occupation_ Handlers-cleaners</th>\n",
              "      <th>Occupation_ Machine-op-inspct</th>\n",
              "      <th>Occupation_ Other-service</th>\n",
              "      <th>Occupation_ Priv-house-serv</th>\n",
              "      <th>Occupation_ Prof-specialty</th>\n",
              "      <th>Occupation_ Protective-serv</th>\n",
              "      <th>Occupation_ Sales</th>\n",
              "      <th>Occupation_ Tech-support</th>\n",
              "      <th>Occupation_ Transport-moving</th>\n",
              "      <th>Occupation_Other</th>\n",
              "      <th>Relationship_ Not-in-family</th>\n",
              "      <th>Relationship_ Other-relative</th>\n",
              "      <th>Relationship_ Own-child</th>\n",
              "      <th>Relationship_ Unmarried</th>\n",
              "      <th>Relationship_ Wife</th>\n",
              "      <th>Race_ Asian-Pac-Islander</th>\n",
              "      <th>Race_ Black</th>\n",
              "      <th>Race_ Other</th>\n",
              "      <th>Race_ White</th>\n",
              "      <th>Sex_ Male</th>\n",
              "    </tr>\n",
              "  </thead>\n",
              "  <tbody>\n",
              "    <tr>\n",
              "      <th>0</th>\n",
              "      <td>50</td>\n",
              "      <td>83311</td>\n",
              "      <td>13</td>\n",
              "      <td>0</td>\n",
              "      <td>0</td>\n",
              "      <td>13</td>\n",
              "      <td>38</td>\n",
              "      <td>0</td>\n",
              "      <td>0</td>\n",
              "      <td>0</td>\n",
              "      <td>0</td>\n",
              "      <td>0</td>\n",
              "      <td>1</td>\n",
              "      <td>0</td>\n",
              "      <td>0</td>\n",
              "      <td>0</td>\n",
              "      <td>0</td>\n",
              "      <td>1</td>\n",
              "      <td>0</td>\n",
              "      <td>0</td>\n",
              "      <td>0</td>\n",
              "      <td>0</td>\n",
              "      <td>0</td>\n",
              "      <td>0</td>\n",
              "      <td>0</td>\n",
              "      <td>0</td>\n",
              "      <td>1</td>\n",
              "      <td>0</td>\n",
              "      <td>0</td>\n",
              "      <td>0</td>\n",
              "      <td>0</td>\n",
              "      <td>0</td>\n",
              "      <td>0</td>\n",
              "      <td>1</td>\n",
              "      <td>0</td>\n",
              "      <td>0</td>\n",
              "      <td>0</td>\n",
              "      <td>0</td>\n",
              "      <td>0</td>\n",
              "      <td>0</td>\n",
              "      <td>0</td>\n",
              "      <td>0</td>\n",
              "      <td>0</td>\n",
              "      <td>0</td>\n",
              "      <td>0</td>\n",
              "      <td>0</td>\n",
              "      <td>0</td>\n",
              "      <td>0</td>\n",
              "      <td>0</td>\n",
              "      <td>0</td>\n",
              "      <td>0</td>\n",
              "      <td>0</td>\n",
              "      <td>0</td>\n",
              "      <td>1</td>\n",
              "      <td>1</td>\n",
              "    </tr>\n",
              "    <tr>\n",
              "      <th>1</th>\n",
              "      <td>38</td>\n",
              "      <td>215646</td>\n",
              "      <td>9</td>\n",
              "      <td>0</td>\n",
              "      <td>0</td>\n",
              "      <td>40</td>\n",
              "      <td>38</td>\n",
              "      <td>0</td>\n",
              "      <td>0</td>\n",
              "      <td>0</td>\n",
              "      <td>1</td>\n",
              "      <td>0</td>\n",
              "      <td>0</td>\n",
              "      <td>0</td>\n",
              "      <td>0</td>\n",
              "      <td>0</td>\n",
              "      <td>0</td>\n",
              "      <td>0</td>\n",
              "      <td>0</td>\n",
              "      <td>1</td>\n",
              "      <td>0</td>\n",
              "      <td>0</td>\n",
              "      <td>0</td>\n",
              "      <td>0</td>\n",
              "      <td>0</td>\n",
              "      <td>0</td>\n",
              "      <td>0</td>\n",
              "      <td>0</td>\n",
              "      <td>0</td>\n",
              "      <td>0</td>\n",
              "      <td>0</td>\n",
              "      <td>0</td>\n",
              "      <td>0</td>\n",
              "      <td>0</td>\n",
              "      <td>0</td>\n",
              "      <td>1</td>\n",
              "      <td>0</td>\n",
              "      <td>0</td>\n",
              "      <td>0</td>\n",
              "      <td>0</td>\n",
              "      <td>0</td>\n",
              "      <td>0</td>\n",
              "      <td>0</td>\n",
              "      <td>0</td>\n",
              "      <td>0</td>\n",
              "      <td>1</td>\n",
              "      <td>0</td>\n",
              "      <td>0</td>\n",
              "      <td>0</td>\n",
              "      <td>0</td>\n",
              "      <td>0</td>\n",
              "      <td>0</td>\n",
              "      <td>0</td>\n",
              "      <td>1</td>\n",
              "      <td>1</td>\n",
              "    </tr>\n",
              "    <tr>\n",
              "      <th>2</th>\n",
              "      <td>53</td>\n",
              "      <td>234721</td>\n",
              "      <td>7</td>\n",
              "      <td>0</td>\n",
              "      <td>0</td>\n",
              "      <td>40</td>\n",
              "      <td>38</td>\n",
              "      <td>0</td>\n",
              "      <td>0</td>\n",
              "      <td>0</td>\n",
              "      <td>1</td>\n",
              "      <td>0</td>\n",
              "      <td>0</td>\n",
              "      <td>0</td>\n",
              "      <td>0</td>\n",
              "      <td>0</td>\n",
              "      <td>0</td>\n",
              "      <td>0</td>\n",
              "      <td>0</td>\n",
              "      <td>0</td>\n",
              "      <td>0</td>\n",
              "      <td>0</td>\n",
              "      <td>0</td>\n",
              "      <td>0</td>\n",
              "      <td>1</td>\n",
              "      <td>0</td>\n",
              "      <td>1</td>\n",
              "      <td>0</td>\n",
              "      <td>0</td>\n",
              "      <td>0</td>\n",
              "      <td>0</td>\n",
              "      <td>0</td>\n",
              "      <td>0</td>\n",
              "      <td>0</td>\n",
              "      <td>0</td>\n",
              "      <td>1</td>\n",
              "      <td>0</td>\n",
              "      <td>0</td>\n",
              "      <td>0</td>\n",
              "      <td>0</td>\n",
              "      <td>0</td>\n",
              "      <td>0</td>\n",
              "      <td>0</td>\n",
              "      <td>0</td>\n",
              "      <td>0</td>\n",
              "      <td>0</td>\n",
              "      <td>0</td>\n",
              "      <td>0</td>\n",
              "      <td>0</td>\n",
              "      <td>0</td>\n",
              "      <td>0</td>\n",
              "      <td>1</td>\n",
              "      <td>0</td>\n",
              "      <td>0</td>\n",
              "      <td>1</td>\n",
              "    </tr>\n",
              "    <tr>\n",
              "      <th>3</th>\n",
              "      <td>28</td>\n",
              "      <td>338409</td>\n",
              "      <td>13</td>\n",
              "      <td>0</td>\n",
              "      <td>0</td>\n",
              "      <td>40</td>\n",
              "      <td>4</td>\n",
              "      <td>0</td>\n",
              "      <td>0</td>\n",
              "      <td>0</td>\n",
              "      <td>1</td>\n",
              "      <td>0</td>\n",
              "      <td>0</td>\n",
              "      <td>0</td>\n",
              "      <td>0</td>\n",
              "      <td>0</td>\n",
              "      <td>0</td>\n",
              "      <td>1</td>\n",
              "      <td>0</td>\n",
              "      <td>0</td>\n",
              "      <td>0</td>\n",
              "      <td>0</td>\n",
              "      <td>0</td>\n",
              "      <td>0</td>\n",
              "      <td>0</td>\n",
              "      <td>0</td>\n",
              "      <td>1</td>\n",
              "      <td>0</td>\n",
              "      <td>0</td>\n",
              "      <td>0</td>\n",
              "      <td>0</td>\n",
              "      <td>0</td>\n",
              "      <td>0</td>\n",
              "      <td>0</td>\n",
              "      <td>0</td>\n",
              "      <td>0</td>\n",
              "      <td>0</td>\n",
              "      <td>0</td>\n",
              "      <td>0</td>\n",
              "      <td>1</td>\n",
              "      <td>0</td>\n",
              "      <td>0</td>\n",
              "      <td>0</td>\n",
              "      <td>0</td>\n",
              "      <td>0</td>\n",
              "      <td>0</td>\n",
              "      <td>0</td>\n",
              "      <td>0</td>\n",
              "      <td>0</td>\n",
              "      <td>1</td>\n",
              "      <td>0</td>\n",
              "      <td>1</td>\n",
              "      <td>0</td>\n",
              "      <td>0</td>\n",
              "      <td>0</td>\n",
              "    </tr>\n",
              "    <tr>\n",
              "      <th>4</th>\n",
              "      <td>37</td>\n",
              "      <td>284582</td>\n",
              "      <td>14</td>\n",
              "      <td>0</td>\n",
              "      <td>0</td>\n",
              "      <td>40</td>\n",
              "      <td>38</td>\n",
              "      <td>0</td>\n",
              "      <td>0</td>\n",
              "      <td>0</td>\n",
              "      <td>1</td>\n",
              "      <td>0</td>\n",
              "      <td>0</td>\n",
              "      <td>0</td>\n",
              "      <td>0</td>\n",
              "      <td>0</td>\n",
              "      <td>0</td>\n",
              "      <td>0</td>\n",
              "      <td>0</td>\n",
              "      <td>0</td>\n",
              "      <td>1</td>\n",
              "      <td>0</td>\n",
              "      <td>0</td>\n",
              "      <td>0</td>\n",
              "      <td>0</td>\n",
              "      <td>0</td>\n",
              "      <td>1</td>\n",
              "      <td>0</td>\n",
              "      <td>0</td>\n",
              "      <td>0</td>\n",
              "      <td>0</td>\n",
              "      <td>0</td>\n",
              "      <td>0</td>\n",
              "      <td>1</td>\n",
              "      <td>0</td>\n",
              "      <td>0</td>\n",
              "      <td>0</td>\n",
              "      <td>0</td>\n",
              "      <td>0</td>\n",
              "      <td>0</td>\n",
              "      <td>0</td>\n",
              "      <td>0</td>\n",
              "      <td>0</td>\n",
              "      <td>0</td>\n",
              "      <td>0</td>\n",
              "      <td>0</td>\n",
              "      <td>0</td>\n",
              "      <td>0</td>\n",
              "      <td>0</td>\n",
              "      <td>1</td>\n",
              "      <td>0</td>\n",
              "      <td>0</td>\n",
              "      <td>0</td>\n",
              "      <td>1</td>\n",
              "      <td>0</td>\n",
              "    </tr>\n",
              "  </tbody>\n",
              "</table>\n",
              "</div>"
            ],
            "text/plain": [
              "   Age  Fnlwgt  Education_num  ...  Race_ Other  Race_ White  Sex_ Male\n",
              "0   50   83311             13  ...            0            1          1\n",
              "1   38  215646              9  ...            0            1          1\n",
              "2   53  234721              7  ...            0            0          1\n",
              "3   28  338409             13  ...            0            0          0\n",
              "4   37  284582             14  ...            0            1          0\n",
              "\n",
              "[5 rows x 55 columns]"
            ]
          },
          "metadata": {},
          "execution_count": 93
        }
      ]
    },
    {
      "cell_type": "markdown",
      "metadata": {
        "id": "WUMPJtNC2-db"
      },
      "source": [
        "### **2. Using permutation Feature Importance**"
      ]
    },
    {
      "cell_type": "code",
      "metadata": {
        "id": "qEp-jIkGLYv1"
      },
      "source": [
        "X=df.drop(columns='Income')\n",
        "y=df['Income']"
      ],
      "execution_count": 94,
      "outputs": []
    },
    {
      "cell_type": "code",
      "metadata": {
        "colab": {
          "base_uri": "https://localhost:8080/"
        },
        "id": "rTZVd6qaLaV6",
        "outputId": "cbb72da8-920c-4a2f-b39a-41c61ae3ae71"
      },
      "source": [
        "X.shape"
      ],
      "execution_count": 95,
      "outputs": [
        {
          "output_type": "execute_result",
          "data": {
            "text/plain": [
              "(32536, 54)"
            ]
          },
          "metadata": {},
          "execution_count": 95
        }
      ]
    },
    {
      "cell_type": "code",
      "metadata": {
        "id": "KB06U0ZnGq_5"
      },
      "source": [
        "X_train,X_test,y_train,y_test=train_test_split(X,y,test_size=0.25,stratify=y)"
      ],
      "execution_count": 96,
      "outputs": []
    },
    {
      "cell_type": "code",
      "metadata": {
        "colab": {
          "base_uri": "https://localhost:8080/"
        },
        "id": "UWYh3bncFSDz",
        "outputId": "485bc4ee-127c-48fb-d525-6e5f5cb99345"
      },
      "source": [
        "rf=RandomForestClassifier(n_estimators=100)\n",
        "rf.fit(X_train,y_train)"
      ],
      "execution_count": 39,
      "outputs": [
        {
          "output_type": "execute_result",
          "data": {
            "text/plain": [
              "RandomForestClassifier(bootstrap=True, ccp_alpha=0.0, class_weight=None,\n",
              "                       criterion='gini', max_depth=None, max_features='auto',\n",
              "                       max_leaf_nodes=None, max_samples=None,\n",
              "                       min_impurity_decrease=0.0, min_impurity_split=None,\n",
              "                       min_samples_leaf=1, min_samples_split=2,\n",
              "                       min_weight_fraction_leaf=0.0, n_estimators=100,\n",
              "                       n_jobs=None, oob_score=False, random_state=None,\n",
              "                       verbose=0, warm_start=False)"
            ]
          },
          "metadata": {},
          "execution_count": 39
        }
      ]
    },
    {
      "cell_type": "code",
      "metadata": {
        "id": "HNeAOWvoMJpc"
      },
      "source": [
        "from sklearn.inspection import permutation_importance"
      ],
      "execution_count": 40,
      "outputs": []
    },
    {
      "cell_type": "code",
      "metadata": {
        "id": "GJewoyk8KEUb"
      },
      "source": [
        "perm_impor = permutation_importance(rf, X_test, y_test)"
      ],
      "execution_count": 41,
      "outputs": []
    },
    {
      "cell_type": "code",
      "metadata": {
        "colab": {
          "base_uri": "https://localhost:8080/"
        },
        "id": "pHbUmUpTMe1a",
        "outputId": "83c9232a-a0e9-4dce-9a05-8b2a1d782cf2"
      },
      "source": [
        "perm_impor.importances_mean"
      ],
      "execution_count": 42,
      "outputs": [
        {
          "output_type": "execute_result",
          "data": {
            "text/plain": [
              "array([ 1.59822965e-02, -1.62281780e-03,  6.88468158e-03,  3.69805754e-02,\n",
              "        1.00319646e-02,  7.54856159e-03,  1.49987706e-03, -2.06540448e-03,\n",
              "        0.00000000e+00, -1.35234817e-03, -4.42586673e-04,  6.14703713e-04,\n",
              "        6.63880010e-04,  0.00000000e+00,  1.47528891e-04,  9.83525940e-05,\n",
              "       -2.26210966e-03,  4.91762970e-05, -3.24563560e-03, -1.47528891e-03,\n",
              "        0.00000000e+00,  4.17998525e-04, -3.19645931e-04,  5.90115564e-04,\n",
              "       -1.22940743e-04,  2.39242685e-02, -2.45881485e-05,  2.38505041e-03,\n",
              "       -7.37644455e-05,  9.83525940e-05,  0.00000000e+00,  4.91762970e-04,\n",
              "        2.21293337e-03,  5.40939267e-04,  1.45070076e-03,  2.22044605e-17,\n",
              "        6.88468158e-04, -2.45881485e-05, -8.60585198e-04,  7.62232604e-04,\n",
              "       -1.25399557e-03, -1.47528891e-04,  5.90115564e-04, -1.72117040e-04,\n",
              "        2.68010819e-03,  5.65527416e-04,  1.20481928e-03,  3.68822228e-04,\n",
              "        1.13105483e-03, -4.42586673e-04, -3.44234079e-04,  7.37644455e-05,\n",
              "       -2.45881485e-05,  1.25399557e-03])"
            ]
          },
          "metadata": {},
          "execution_count": 42
        }
      ]
    },
    {
      "cell_type": "code",
      "metadata": {
        "id": "vUQv_lYwMgpS"
      },
      "source": [
        "featimp_1=pd.DataFrame(zip(X.columns,perm_impor.importances_mean), columns=['columns','p_importance']).sort_values('p_importance',ascending=False)"
      ],
      "execution_count": 43,
      "outputs": []
    },
    {
      "cell_type": "code",
      "metadata": {
        "id": "oM0YKDHWNYQS"
      },
      "source": [
        "featimp_1.reset_index(drop=True,inplace=True)"
      ],
      "execution_count": 44,
      "outputs": []
    },
    {
      "cell_type": "code",
      "metadata": {
        "id": "yQP_W22xNlka",
        "colab": {
          "base_uri": "https://localhost:8080/"
        },
        "outputId": "5a1b79e2-21a9-4c6f-9c8b-36b0328b78e9"
      },
      "source": [
        "featimp_1['p_importance']"
      ],
      "execution_count": 45,
      "outputs": [
        {
          "output_type": "execute_result",
          "data": {
            "text/plain": [
              "0     3.698058e-02\n",
              "1     2.392427e-02\n",
              "2     1.598230e-02\n",
              "3     1.003196e-02\n",
              "4     7.548562e-03\n",
              "5     6.884682e-03\n",
              "6     2.680108e-03\n",
              "7     2.385050e-03\n",
              "8     2.212933e-03\n",
              "9     1.499877e-03\n",
              "10    1.450701e-03\n",
              "11    1.253996e-03\n",
              "12    1.204819e-03\n",
              "13    1.131055e-03\n",
              "14    7.622326e-04\n",
              "15    6.884682e-04\n",
              "16    6.638800e-04\n",
              "17    6.147037e-04\n",
              "18    5.901156e-04\n",
              "19    5.901156e-04\n",
              "20    5.655274e-04\n",
              "21    5.409393e-04\n",
              "22    4.917630e-04\n",
              "23    4.179985e-04\n",
              "24    3.688222e-04\n",
              "25    1.475289e-04\n",
              "26    9.835259e-05\n",
              "27    9.835259e-05\n",
              "28    7.376445e-05\n",
              "29    4.917630e-05\n",
              "30    2.220446e-17\n",
              "31    0.000000e+00\n",
              "32    0.000000e+00\n",
              "33    0.000000e+00\n",
              "34    0.000000e+00\n",
              "35   -2.458815e-05\n",
              "36   -2.458815e-05\n",
              "37   -2.458815e-05\n",
              "38   -7.376445e-05\n",
              "39   -1.229407e-04\n",
              "40   -1.475289e-04\n",
              "41   -1.721170e-04\n",
              "42   -3.196459e-04\n",
              "43   -3.442341e-04\n",
              "44   -4.425867e-04\n",
              "45   -4.425867e-04\n",
              "46   -8.605852e-04\n",
              "47   -1.253996e-03\n",
              "48   -1.352348e-03\n",
              "49   -1.475289e-03\n",
              "50   -1.622818e-03\n",
              "51   -2.065404e-03\n",
              "52   -2.262110e-03\n",
              "53   -3.245636e-03\n",
              "Name: p_importance, dtype: float64"
            ]
          },
          "metadata": {},
          "execution_count": 45
        }
      ]
    },
    {
      "cell_type": "code",
      "metadata": {
        "id": "NI8lo92rNmy3"
      },
      "source": [
        "imp_cols=featimp_1['columns'][0:19]"
      ],
      "execution_count": 46,
      "outputs": []
    },
    {
      "cell_type": "code",
      "metadata": {
        "id": "JEg4XyAXQPgl"
      },
      "source": [
        "Xnew=X[imp_cols]\n",
        "y=df['Income']"
      ],
      "execution_count": 47,
      "outputs": []
    },
    {
      "cell_type": "markdown",
      "metadata": {
        "id": "TbujNLB8QrtY"
      },
      "source": [
        "# **Support Vector Machine**"
      ]
    },
    {
      "cell_type": "code",
      "metadata": {
        "id": "wWC6KZ_TQPTv"
      },
      "source": [
        "X_train,X_test,y_train,y_test=train_test_split(Xnew,y,test_size=0.30,stratify=y)"
      ],
      "execution_count": 48,
      "outputs": []
    },
    {
      "cell_type": "code",
      "metadata": {
        "id": "ai_eS9ohQPIX"
      },
      "source": [
        "scaler=MinMaxScaler()\n",
        "scaler.fit(X_train)\n",
        "X_train=scaler.transform(X_train)\n",
        "X_test=scaler.transform(X_test)"
      ],
      "execution_count": 43,
      "outputs": []
    },
    {
      "cell_type": "code",
      "metadata": {
        "colab": {
          "base_uri": "https://localhost:8080/"
        },
        "id": "nhdLrMgJQO6p",
        "outputId": "584f8194-031a-43b5-ae96-0dae2b21891a"
      },
      "source": [
        "sv=svm.SVC(class_weight='balanced')\n",
        "sv.fit(X_train,y_train)"
      ],
      "execution_count": 44,
      "outputs": [
        {
          "output_type": "execute_result",
          "data": {
            "text/plain": [
              "SVC(C=1.0, break_ties=False, cache_size=200, class_weight='balanced', coef0=0.0,\n",
              "    decision_function_shape='ovr', degree=3, gamma='scale', kernel='rbf',\n",
              "    max_iter=-1, probability=False, random_state=None, shrinking=True,\n",
              "    tol=0.001, verbose=False)"
            ]
          },
          "metadata": {},
          "execution_count": 44
        }
      ]
    },
    {
      "cell_type": "code",
      "metadata": {
        "id": "8fqg3h0gQOqB"
      },
      "source": [
        "y_trainpred=sv.predict(X_train)\n",
        "y_testpred=sv.predict(X_test)"
      ],
      "execution_count": 45,
      "outputs": []
    },
    {
      "cell_type": "code",
      "metadata": {
        "colab": {
          "base_uri": "https://localhost:8080/"
        },
        "id": "OlCfOGyXR_tD",
        "outputId": "002ba6b6-747b-4ad5-9f34-4a9533f285b7"
      },
      "source": [
        "print(classification_report(y_train,y_trainpred))"
      ],
      "execution_count": 46,
      "outputs": [
        {
          "output_type": "stream",
          "name": "stdout",
          "text": [
            "              precision    recall  f1-score   support\n",
            "\n",
            "           0       0.95      0.76      0.84     17288\n",
            "           1       0.54      0.87      0.66      5487\n",
            "\n",
            "    accuracy                           0.79     22775\n",
            "   macro avg       0.74      0.81      0.75     22775\n",
            "weighted avg       0.85      0.79      0.80     22775\n",
            "\n"
          ]
        }
      ]
    },
    {
      "cell_type": "code",
      "metadata": {
        "colab": {
          "base_uri": "https://localhost:8080/"
        },
        "id": "AjKm27yXSCid",
        "outputId": "32dacdac-e3da-41fb-bfc8-cc3b903ce464"
      },
      "source": [
        "print(classification_report(y_test,y_testpred))"
      ],
      "execution_count": 47,
      "outputs": [
        {
          "output_type": "stream",
          "name": "stdout",
          "text": [
            "              precision    recall  f1-score   support\n",
            "\n",
            "           0       0.94      0.75      0.84      7409\n",
            "           1       0.52      0.85      0.65      2352\n",
            "\n",
            "    accuracy                           0.78      9761\n",
            "   macro avg       0.73      0.80      0.74      9761\n",
            "weighted avg       0.84      0.78      0.79      9761\n",
            "\n"
          ]
        }
      ]
    },
    {
      "cell_type": "markdown",
      "metadata": {
        "id": "M2kmBksASUKG"
      },
      "source": [
        "# **Support Vector Machine with GridSearch CV**\n"
      ]
    },
    {
      "cell_type": "code",
      "metadata": {
        "colab": {
          "base_uri": "https://localhost:8080/"
        },
        "id": "AOYJ3_N3SCYe",
        "outputId": "8cc767d5-789b-4778-e037-5e8236e82e2f"
      },
      "source": [
        "sv_1=svm.SVC()\n",
        "param={'kernel':['rbf','linear','poly'],'C':[0.1,0.0001,0.00001,0.00000001,1],'gamma':[0.001,0.0001,1,2,5], 'class_weight':['balanced','0:1,1:2']}\n",
        "cv = StratifiedKFold(n_splits=3)\n",
        "sv_grid=GridSearchCV(sv_1,param_grid=param,cv=cv, scoring='f1')\n",
        "sv_grid.fit(X_train,y_train)"
      ],
      "execution_count": 48,
      "outputs": [
        {
          "output_type": "execute_result",
          "data": {
            "text/plain": [
              "GridSearchCV(cv=StratifiedKFold(n_splits=3, random_state=None, shuffle=False),\n",
              "             error_score=nan,\n",
              "             estimator=SVC(C=1.0, break_ties=False, cache_size=200,\n",
              "                           class_weight=None, coef0=0.0,\n",
              "                           decision_function_shape='ovr', degree=3,\n",
              "                           gamma='scale', kernel='rbf', max_iter=-1,\n",
              "                           probability=False, random_state=None, shrinking=True,\n",
              "                           tol=0.001, verbose=False),\n",
              "             iid='deprecated', n_jobs=None,\n",
              "             param_grid={'C': [0.1, 0.0001, 1e-05, 1e-08, 1],\n",
              "                         'class_weight': ['balanced', '0:1,1:2'],\n",
              "                         'gamma': [0.001, 0.0001, 1, 2, 5],\n",
              "                         'kernel': ['rbf', 'linear', 'poly']},\n",
              "             pre_dispatch='2*n_jobs', refit=True, return_train_score=False,\n",
              "             scoring='f1', verbose=0)"
            ]
          },
          "metadata": {},
          "execution_count": 48
        }
      ]
    },
    {
      "cell_type": "code",
      "metadata": {
        "id": "WIZak8P8SCKq"
      },
      "source": [
        "y_trainpred=sv_grid.predict(X_train)\n",
        "y_testpred=sv_grid.predict(X_test)"
      ],
      "execution_count": 49,
      "outputs": []
    },
    {
      "cell_type": "code",
      "metadata": {
        "colab": {
          "base_uri": "https://localhost:8080/"
        },
        "id": "B_VpTco0Syyn",
        "outputId": "3ffd5187-561f-47c4-9b7d-8340bb03c89a"
      },
      "source": [
        "sv_grid.best_params_"
      ],
      "execution_count": 50,
      "outputs": [
        {
          "output_type": "execute_result",
          "data": {
            "text/plain": [
              "{'C': 0.1, 'class_weight': 'balanced', 'gamma': 5, 'kernel': 'poly'}"
            ]
          },
          "metadata": {},
          "execution_count": 50
        }
      ]
    },
    {
      "cell_type": "code",
      "metadata": {
        "colab": {
          "base_uri": "https://localhost:8080/"
        },
        "id": "bnlT3Hx2Tm7r",
        "outputId": "55eb98ec-f5a1-45c6-a36d-c43d85d506c2"
      },
      "source": [
        "print(classification_report(y_train,y_trainpred))"
      ],
      "execution_count": 51,
      "outputs": [
        {
          "output_type": "stream",
          "name": "stdout",
          "text": [
            "              precision    recall  f1-score   support\n",
            "\n",
            "           0       0.95      0.78      0.86     17288\n",
            "           1       0.56      0.88      0.68      5487\n",
            "\n",
            "    accuracy                           0.80     22775\n",
            "   macro avg       0.76      0.83      0.77     22775\n",
            "weighted avg       0.86      0.80      0.82     22775\n",
            "\n"
          ]
        }
      ]
    },
    {
      "cell_type": "code",
      "metadata": {
        "colab": {
          "base_uri": "https://localhost:8080/"
        },
        "id": "Rrz1-___TmyC",
        "outputId": "99654190-058e-4818-98bf-c38e611ffd8e"
      },
      "source": [
        "print(classification_report(y_test,y_testpred))"
      ],
      "execution_count": 52,
      "outputs": [
        {
          "output_type": "stream",
          "name": "stdout",
          "text": [
            "              precision    recall  f1-score   support\n",
            "\n",
            "           0       0.95      0.77      0.85      7409\n",
            "           1       0.54      0.86      0.67      2352\n",
            "\n",
            "    accuracy                           0.79      9761\n",
            "   macro avg       0.74      0.82      0.76      9761\n",
            "weighted avg       0.85      0.79      0.80      9761\n",
            "\n"
          ]
        }
      ]
    },
    {
      "cell_type": "markdown",
      "metadata": {
        "id": "7km_wqxMTxPE"
      },
      "source": [
        "# **Decision Tree**"
      ]
    },
    {
      "cell_type": "code",
      "metadata": {
        "id": "n4TOfvTdTmpI"
      },
      "source": [
        "X_train,X_test,y_train,y_test=train_test_split(Xnew,y,test_size=0.30,stratify=y,random_state=465)"
      ],
      "execution_count": 53,
      "outputs": []
    },
    {
      "cell_type": "code",
      "metadata": {
        "colab": {
          "base_uri": "https://localhost:8080/"
        },
        "id": "Q9H9P8etTmbS",
        "outputId": "2a41e361-c668-48c8-bc48-341e45ea9899"
      },
      "source": [
        "dtc=DecisionTreeClassifier(max_depth=10,max_features=19,class_weight={0:1,1:2},min_samples_leaf=8,min_samples_split=5)\n",
        "dtc.fit(X_train, y_train)"
      ],
      "execution_count": 54,
      "outputs": [
        {
          "output_type": "execute_result",
          "data": {
            "text/plain": [
              "DecisionTreeClassifier(ccp_alpha=0.0, class_weight={0: 1, 1: 2},\n",
              "                       criterion='gini', max_depth=10, max_features=19,\n",
              "                       max_leaf_nodes=None, min_impurity_decrease=0.0,\n",
              "                       min_impurity_split=None, min_samples_leaf=8,\n",
              "                       min_samples_split=5, min_weight_fraction_leaf=0.0,\n",
              "                       presort='deprecated', random_state=None,\n",
              "                       splitter='best')"
            ]
          },
          "metadata": {},
          "execution_count": 54
        }
      ]
    },
    {
      "cell_type": "code",
      "metadata": {
        "id": "cUVkIhrDTmPy"
      },
      "source": [
        "y_trainpred=dtc.predict(X_train)\n",
        "y_testpred=dtc.predict(X_test)"
      ],
      "execution_count": 55,
      "outputs": []
    },
    {
      "cell_type": "code",
      "metadata": {
        "colab": {
          "base_uri": "https://localhost:8080/"
        },
        "id": "pYp_p0XWUAPa",
        "outputId": "c23cc038-62e1-4ec8-b488-d64ed968dc9b"
      },
      "source": [
        "print(classification_report(y_train,y_trainpred))"
      ],
      "execution_count": 56,
      "outputs": [
        {
          "output_type": "stream",
          "name": "stdout",
          "text": [
            "              precision    recall  f1-score   support\n",
            "\n",
            "           0       0.94      0.84      0.89     17288\n",
            "           1       0.62      0.82      0.71      5487\n",
            "\n",
            "    accuracy                           0.84     22775\n",
            "   macro avg       0.78      0.83      0.80     22775\n",
            "weighted avg       0.86      0.84      0.84     22775\n",
            "\n"
          ]
        }
      ]
    },
    {
      "cell_type": "code",
      "metadata": {
        "colab": {
          "base_uri": "https://localhost:8080/"
        },
        "id": "HvtnTWO8UAAA",
        "outputId": "e381bc86-0c66-4a21-d6c6-c8b09715dced"
      },
      "source": [
        "print(classification_report(y_test,y_testpred))"
      ],
      "execution_count": 57,
      "outputs": [
        {
          "output_type": "stream",
          "name": "stdout",
          "text": [
            "              precision    recall  f1-score   support\n",
            "\n",
            "           0       0.94      0.84      0.89      7409\n",
            "           1       0.62      0.82      0.71      2352\n",
            "\n",
            "    accuracy                           0.83      9761\n",
            "   macro avg       0.78      0.83      0.80      9761\n",
            "weighted avg       0.86      0.83      0.84      9761\n",
            "\n"
          ]
        }
      ]
    },
    {
      "cell_type": "markdown",
      "metadata": {
        "id": "1eZLdlkHUJvQ"
      },
      "source": [
        "# **Grid Search CV on Decision Trees**"
      ]
    },
    {
      "cell_type": "code",
      "metadata": {
        "colab": {
          "base_uri": "https://localhost:8080/"
        },
        "id": "ScFuZmr2T_mL",
        "outputId": "5c3046b9-19b4-4969-aac2-c08da54ddef6"
      },
      "source": [
        "dtc1=DecisionTreeClassifier()\n",
        "cv = StratifiedKFold(n_splits=3)\n",
        "param={'class_weight':[{0:1,1:2},'balanced'],'max_depth':[20,15,16,21,14,13,12],'min_samples_leaf':[11,12,13,14,10],'max_features':[12,16,17,15],'ccp_alpha':[0.0001,0.00001,0.01,0.1,1]}\n",
        "dt_s_grid=GridSearchCV(dtc1,param_grid=param,cv=cv,scoring='f1')\n",
        "dt_s_grid.fit(X_train,y_train)"
      ],
      "execution_count": 106,
      "outputs": [
        {
          "output_type": "execute_result",
          "data": {
            "text/plain": [
              "GridSearchCV(cv=StratifiedKFold(n_splits=3, random_state=None, shuffle=False),\n",
              "             error_score=nan,\n",
              "             estimator=DecisionTreeClassifier(ccp_alpha=0.0, class_weight=None,\n",
              "                                              criterion='gini', max_depth=None,\n",
              "                                              max_features=None,\n",
              "                                              max_leaf_nodes=None,\n",
              "                                              min_impurity_decrease=0.0,\n",
              "                                              min_impurity_split=None,\n",
              "                                              min_samples_leaf=1,\n",
              "                                              min_samples_split=2,\n",
              "                                              min_weight_fraction_leaf=0.0,\n",
              "                                              presort='deprecated',\n",
              "                                              random_state=None,\n",
              "                                              splitter='best'),\n",
              "             iid='deprecated', n_jobs=None,\n",
              "             param_grid={'ccp_alpha': [0.0001, 1e-05, 0.01, 0.1, 1],\n",
              "                         'class_weight': [{0: 1, 1: 2}, 'balanced'],\n",
              "                         'max_depth': [20, 15, 16, 21, 14, 13, 12],\n",
              "                         'max_features': [12, 16, 17, 15],\n",
              "                         'min_samples_leaf': [11, 12, 13, 14, 10]},\n",
              "             pre_dispatch='2*n_jobs', refit=True, return_train_score=False,\n",
              "             scoring='f1', verbose=0)"
            ]
          },
          "metadata": {},
          "execution_count": 106
        }
      ]
    },
    {
      "cell_type": "code",
      "metadata": {
        "id": "mjkP2hMoT_OI"
      },
      "source": [
        "y_trainpred=dt_s_grid.predict(X_train)\n",
        "y_testpred=dt_s_grid.predict(X_test)"
      ],
      "execution_count": 107,
      "outputs": []
    },
    {
      "cell_type": "code",
      "metadata": {
        "colab": {
          "base_uri": "https://localhost:8080/"
        },
        "id": "wASkHoxNT-1Y",
        "outputId": "fbe95143-821a-4af0-bf0f-8c25ce37fe66"
      },
      "source": [
        "dt_s_grid.best_params_"
      ],
      "execution_count": 108,
      "outputs": [
        {
          "output_type": "execute_result",
          "data": {
            "text/plain": [
              "{'ccp_alpha': 0.0001,\n",
              " 'class_weight': {0: 1, 1: 2},\n",
              " 'max_depth': 21,\n",
              " 'max_features': 16,\n",
              " 'min_samples_leaf': 10}"
            ]
          },
          "metadata": {},
          "execution_count": 108
        }
      ]
    },
    {
      "cell_type": "code",
      "metadata": {
        "colab": {
          "base_uri": "https://localhost:8080/"
        },
        "id": "SMXu9zkGUchW",
        "outputId": "13008a60-3c57-4043-d05a-d9135e942fc9"
      },
      "source": [
        "print(classification_report(y_train,y_trainpred))"
      ],
      "execution_count": 109,
      "outputs": [
        {
          "output_type": "stream",
          "name": "stdout",
          "text": [
            "              precision    recall  f1-score   support\n",
            "\n",
            "           0       0.93      0.88      0.90     17288\n",
            "           1       0.67      0.79      0.73      5487\n",
            "\n",
            "    accuracy                           0.86     22775\n",
            "   macro avg       0.80      0.83      0.81     22775\n",
            "weighted avg       0.87      0.86      0.86     22775\n",
            "\n"
          ]
        }
      ]
    },
    {
      "cell_type": "code",
      "metadata": {
        "colab": {
          "base_uri": "https://localhost:8080/"
        },
        "id": "hi5c1wqNUcEK",
        "outputId": "3f8fecb4-3b49-491c-cbd3-98f8289d2ad4"
      },
      "source": [
        "print(classification_report(y_test,y_testpred))"
      ],
      "execution_count": 110,
      "outputs": [
        {
          "output_type": "stream",
          "name": "stdout",
          "text": [
            "              precision    recall  f1-score   support\n",
            "\n",
            "           0       0.92      0.87      0.90      7409\n",
            "           1       0.65      0.77      0.71      2352\n",
            "\n",
            "    accuracy                           0.85      9761\n",
            "   macro avg       0.79      0.82      0.80      9761\n",
            "weighted avg       0.86      0.85      0.85      9761\n",
            "\n"
          ]
        }
      ]
    },
    {
      "cell_type": "markdown",
      "metadata": {
        "id": "f8hKc0WRUjxu"
      },
      "source": [
        "# **Logistic Regression**"
      ]
    },
    {
      "cell_type": "code",
      "metadata": {
        "id": "PFSfFXydUb4p"
      },
      "source": [
        "f1=0\n",
        "for i in range(0,1000): \n",
        "  X_train,X_test,y_train,y_test=train_test_split(Xnew,y,test_size=0.30,stratify=y,random_state=i)\n",
        "  scaler=StandardScaler()\n",
        "  scaler.fit(X_train)\n",
        "  xtrain=scaler.transform(X_train)\n",
        "  xtest=scaler.transform(X_test)\n",
        "  lr=LogisticRegression(class_weight='balanced')\n",
        "  lr.fit(X_train,y_train)\n",
        "  y_trainpred=lr.predict(xtrain)\n",
        "  y_testpred=lr.predict(xtest)\n",
        "  score=f1_score(y_test,y_testpred)\n",
        "  if f1<score:\n",
        "    f1=score\n",
        "    random=i"
      ],
      "execution_count": 63,
      "outputs": []
    },
    {
      "cell_type": "code",
      "metadata": {
        "id": "e7BgIDYaUbsJ"
      },
      "source": [
        "X_train,X_test,y_train,y_test=train_test_split(Xnew,y,test_size=0.30,stratify=y,random_state=465)\n",
        "scaler=StandardScaler()\n",
        "scaler.fit(X_train)\n",
        "X_train=scaler.transform(X_train)\n",
        "X_test=scaler.transform(X_test)\n",
        "lr=LogisticRegression(class_weight='balanced')\n",
        "lr.fit(X_train,y_train)\n",
        "y_train_pred=lr.predict(X_train)\n",
        "y_test_pred=lr.predict(X_test)"
      ],
      "execution_count": 64,
      "outputs": []
    },
    {
      "cell_type": "code",
      "metadata": {
        "colab": {
          "base_uri": "https://localhost:8080/"
        },
        "id": "gm5HtvUxUv__",
        "outputId": "68e57993-1413-4132-bd79-a15483de07f7"
      },
      "source": [
        "print(random, f1)"
      ],
      "execution_count": 65,
      "outputs": [
        {
          "output_type": "stream",
          "name": "stdout",
          "text": [
            "231 0.6089385474860335\n"
          ]
        }
      ]
    },
    {
      "cell_type": "code",
      "metadata": {
        "colab": {
          "base_uri": "https://localhost:8080/"
        },
        "id": "RyH-j5DJUv1T",
        "outputId": "11588388-5c86-48e4-eb4e-5a8315afe482"
      },
      "source": [
        "f1_score(y_test,y_test_pred)"
      ],
      "execution_count": 66,
      "outputs": [
        {
          "output_type": "execute_result",
          "data": {
            "text/plain": [
              "0.6768655447900731"
            ]
          },
          "metadata": {},
          "execution_count": 66
        }
      ]
    },
    {
      "cell_type": "code",
      "metadata": {
        "colab": {
          "base_uri": "https://localhost:8080/"
        },
        "id": "vlGzuXCAUvnX",
        "outputId": "3dd3ff70-60ef-4755-9a10-466846c35bbe"
      },
      "source": [
        "print(classification_report(y_train,y_train_pred))"
      ],
      "execution_count": 67,
      "outputs": [
        {
          "output_type": "stream",
          "name": "stdout",
          "text": [
            "              precision    recall  f1-score   support\n",
            "\n",
            "           0       0.94      0.79      0.86     17288\n",
            "           1       0.57      0.84      0.68      5487\n",
            "\n",
            "    accuracy                           0.81     22775\n",
            "   macro avg       0.75      0.82      0.77     22775\n",
            "weighted avg       0.85      0.81      0.82     22775\n",
            "\n"
          ]
        }
      ]
    },
    {
      "cell_type": "code",
      "metadata": {
        "colab": {
          "base_uri": "https://localhost:8080/"
        },
        "id": "79CIXAFSUbaY",
        "outputId": "afeaccc4-da24-4083-882a-56c4a6aa02f1"
      },
      "source": [
        "print(classification_report(y_test,y_test_pred))"
      ],
      "execution_count": 68,
      "outputs": [
        {
          "output_type": "stream",
          "name": "stdout",
          "text": [
            "              precision    recall  f1-score   support\n",
            "\n",
            "           0       0.94      0.79      0.86      7409\n",
            "           1       0.56      0.85      0.68      2352\n",
            "\n",
            "    accuracy                           0.81      9761\n",
            "   macro avg       0.75      0.82      0.77      9761\n",
            "weighted avg       0.85      0.81      0.82      9761\n",
            "\n"
          ]
        }
      ]
    },
    {
      "cell_type": "markdown",
      "metadata": {
        "id": "k8DmZly_VAFp"
      },
      "source": [
        "# **Neural Networks**"
      ]
    },
    {
      "cell_type": "code",
      "metadata": {
        "colab": {
          "base_uri": "https://localhost:8080/"
        },
        "id": "4hAXnIYUU7Us",
        "outputId": "da58c9c6-2dbc-4d69-ae22-75ee07df76ae"
      },
      "source": [
        "from keras.models import Sequential\n",
        "from keras.layers import Dense\n",
        "from tensorflow.keras.optimizers import Adam\n",
        "from keras.layers import Dropout\n",
        "from keras import regularizers\n",
        "from tensorflow.keras.metrics import Recall, FalsePositives, AUC, Precision\n",
        "\n",
        "# defining a function to build the model\n",
        "def creating_model():\n",
        "    # creating the model\n",
        "    model = Sequential()\n",
        "    model.add(Dense(32, input_dim=19, kernel_initializer='normal', kernel_regularizer=regularizers.l2(0.001), activation='sigmoid'))\n",
        "    model.add(Dense(16, activation='tanh'))\n",
        "    model.add(Dense(8, activation='relu'))\n",
        "    model.add(Dense(2, activation='sigmoid'))\n",
        "    \n",
        "    # compile model\n",
        "    adam = Adam(lr=0.01)\n",
        "    model.compile(loss='binary_crossentropy', optimizer='sgd', metrics=['Recall'])\n",
        "    return model\n",
        "\n",
        "model = creating_model()\n",
        "\n",
        "print(model.summary())"
      ],
      "execution_count": 69,
      "outputs": [
        {
          "output_type": "stream",
          "name": "stdout",
          "text": [
            "Model: \"sequential\"\n",
            "_________________________________________________________________\n",
            "Layer (type)                 Output Shape              Param #   \n",
            "=================================================================\n",
            "dense (Dense)                (None, 32)                640       \n",
            "_________________________________________________________________\n",
            "dense_1 (Dense)              (None, 16)                528       \n",
            "_________________________________________________________________\n",
            "dense_2 (Dense)              (None, 8)                 136       \n",
            "_________________________________________________________________\n",
            "dense_3 (Dense)              (None, 2)                 18        \n",
            "=================================================================\n",
            "Total params: 1,322\n",
            "Trainable params: 1,322\n",
            "Non-trainable params: 0\n",
            "_________________________________________________________________\n",
            "None\n"
          ]
        }
      ]
    },
    {
      "cell_type": "code",
      "metadata": {
        "colab": {
          "base_uri": "https://localhost:8080/"
        },
        "id": "OTGgviDiU7NQ",
        "outputId": "ace60439-5ca7-45e1-b4dc-b59f4dc51767"
      },
      "source": [
        "X_train.shape,y_train.shape"
      ],
      "execution_count": 70,
      "outputs": [
        {
          "output_type": "execute_result",
          "data": {
            "text/plain": [
              "((22775, 19), (22775,))"
            ]
          },
          "metadata": {},
          "execution_count": 70
        }
      ]
    },
    {
      "cell_type": "code",
      "metadata": {
        "id": "6AqlgIjsU7Gz"
      },
      "source": [
        "from keras.utils.np_utils import to_categorical\n",
        "\n",
        "y_traincat = to_categorical(y_train)\n",
        "y_testcat = to_categorical(y_test)"
      ],
      "execution_count": 71,
      "outputs": []
    },
    {
      "cell_type": "code",
      "metadata": {
        "colab": {
          "base_uri": "https://localhost:8080/"
        },
        "id": "Sq6HbPgbU6_H",
        "outputId": "e904829f-1172-4bb5-90b4-6256b95b47c8"
      },
      "source": [
        "model.fit(X_train,y_traincat, epochs=200,batch_size=20, verbose = 1)"
      ],
      "execution_count": 72,
      "outputs": [
        {
          "output_type": "stream",
          "name": "stdout",
          "text": [
            "Epoch 1/200\n",
            "1139/1139 [==============================] - 2s 964us/step - loss: 0.5337 - recall: 0.7143\n",
            "Epoch 2/200\n",
            "1139/1139 [==============================] - 1s 944us/step - loss: 0.3779 - recall: 0.8201\n",
            "Epoch 3/200\n",
            "1139/1139 [==============================] - 1s 926us/step - loss: 0.3458 - recall: 0.8389\n",
            "Epoch 4/200\n",
            "1139/1139 [==============================] - 1s 939us/step - loss: 0.3405 - recall: 0.8413\n",
            "Epoch 5/200\n",
            "1139/1139 [==============================] - 1s 923us/step - loss: 0.3372 - recall: 0.8449\n",
            "Epoch 6/200\n",
            "1139/1139 [==============================] - 1s 924us/step - loss: 0.3353 - recall: 0.8455\n",
            "Epoch 7/200\n",
            "1139/1139 [==============================] - 1s 907us/step - loss: 0.3342 - recall: 0.8464\n",
            "Epoch 8/200\n",
            "1139/1139 [==============================] - 1s 942us/step - loss: 0.3333 - recall: 0.8464\n",
            "Epoch 9/200\n",
            "1139/1139 [==============================] - 1s 946us/step - loss: 0.3325 - recall: 0.8490\n",
            "Epoch 10/200\n",
            "1139/1139 [==============================] - 1s 928us/step - loss: 0.3324 - recall: 0.8473\n",
            "Epoch 11/200\n",
            "1139/1139 [==============================] - 1s 914us/step - loss: 0.3324 - recall: 0.8474\n",
            "Epoch 12/200\n",
            "1139/1139 [==============================] - 1s 920us/step - loss: 0.3319 - recall: 0.8473\n",
            "Epoch 13/200\n",
            "1139/1139 [==============================] - 1s 918us/step - loss: 0.3317 - recall: 0.8476\n",
            "Epoch 14/200\n",
            "1139/1139 [==============================] - 1s 926us/step - loss: 0.3317 - recall: 0.8470\n",
            "Epoch 15/200\n",
            "1139/1139 [==============================] - 1s 949us/step - loss: 0.3313 - recall: 0.8475\n",
            "Epoch 16/200\n",
            "1139/1139 [==============================] - 1s 958us/step - loss: 0.3310 - recall: 0.8481\n",
            "Epoch 17/200\n",
            "1139/1139 [==============================] - 1s 912us/step - loss: 0.3307 - recall: 0.8465\n",
            "Epoch 18/200\n",
            "1139/1139 [==============================] - 1s 961us/step - loss: 0.3307 - recall: 0.8464\n",
            "Epoch 19/200\n",
            "1139/1139 [==============================] - 1s 955us/step - loss: 0.3304 - recall: 0.8461\n",
            "Epoch 20/200\n",
            "1139/1139 [==============================] - 1s 920us/step - loss: 0.3303 - recall: 0.8474\n",
            "Epoch 21/200\n",
            "1139/1139 [==============================] - 1s 931us/step - loss: 0.3302 - recall: 0.8463\n",
            "Epoch 22/200\n",
            "1139/1139 [==============================] - 1s 914us/step - loss: 0.3294 - recall: 0.8483\n",
            "Epoch 23/200\n",
            "1139/1139 [==============================] - 1s 904us/step - loss: 0.3297 - recall: 0.8472\n",
            "Epoch 24/200\n",
            "1139/1139 [==============================] - 1s 897us/step - loss: 0.3290 - recall: 0.8490\n",
            "Epoch 25/200\n",
            "1139/1139 [==============================] - 1s 918us/step - loss: 0.3290 - recall: 0.8468\n",
            "Epoch 26/200\n",
            "1139/1139 [==============================] - 1s 962us/step - loss: 0.3286 - recall: 0.8469\n",
            "Epoch 27/200\n",
            "1139/1139 [==============================] - 1s 936us/step - loss: 0.3284 - recall: 0.8478\n",
            "Epoch 28/200\n",
            "1139/1139 [==============================] - 1s 913us/step - loss: 0.3286 - recall: 0.8465\n",
            "Epoch 29/200\n",
            "1139/1139 [==============================] - 1s 958us/step - loss: 0.3282 - recall: 0.8471\n",
            "Epoch 30/200\n",
            "1139/1139 [==============================] - 1s 952us/step - loss: 0.3278 - recall: 0.8487\n",
            "Epoch 31/200\n",
            "1139/1139 [==============================] - 1s 915us/step - loss: 0.3278 - recall: 0.8480\n",
            "Epoch 32/200\n",
            "1139/1139 [==============================] - 1s 932us/step - loss: 0.3279 - recall: 0.8472\n",
            "Epoch 33/200\n",
            "1139/1139 [==============================] - 1s 896us/step - loss: 0.3277 - recall: 0.8477\n",
            "Epoch 34/200\n",
            "1139/1139 [==============================] - 1s 948us/step - loss: 0.3279 - recall: 0.8491\n",
            "Epoch 35/200\n",
            "1139/1139 [==============================] - 1s 922us/step - loss: 0.3278 - recall: 0.8471\n",
            "Epoch 36/200\n",
            "1139/1139 [==============================] - 1s 916us/step - loss: 0.3273 - recall: 0.8481\n",
            "Epoch 37/200\n",
            "1139/1139 [==============================] - 1s 953us/step - loss: 0.3273 - recall: 0.8490\n",
            "Epoch 38/200\n",
            "1139/1139 [==============================] - 1s 1ms/step - loss: 0.3275 - recall: 0.8484\n",
            "Epoch 39/200\n",
            "1139/1139 [==============================] - 1s 1ms/step - loss: 0.3274 - recall: 0.8478\n",
            "Epoch 40/200\n",
            "1139/1139 [==============================] - 1s 1000us/step - loss: 0.3266 - recall: 0.8484\n",
            "Epoch 41/200\n",
            "1139/1139 [==============================] - 1s 992us/step - loss: 0.3267 - recall: 0.8488\n",
            "Epoch 42/200\n",
            "1139/1139 [==============================] - 1s 982us/step - loss: 0.3266 - recall: 0.8491\n",
            "Epoch 43/200\n",
            "1139/1139 [==============================] - 1s 971us/step - loss: 0.3267 - recall: 0.8486\n",
            "Epoch 44/200\n",
            "1139/1139 [==============================] - 1s 952us/step - loss: 0.3262 - recall: 0.8490\n",
            "Epoch 45/200\n",
            "1139/1139 [==============================] - 1s 968us/step - loss: 0.3268 - recall: 0.8489\n",
            "Epoch 46/200\n",
            "1139/1139 [==============================] - 1s 961us/step - loss: 0.3265 - recall: 0.8480\n",
            "Epoch 47/200\n",
            "1139/1139 [==============================] - 1s 982us/step - loss: 0.3260 - recall: 0.8498\n",
            "Epoch 48/200\n",
            "1139/1139 [==============================] - 1s 966us/step - loss: 0.3261 - recall: 0.8497\n",
            "Epoch 49/200\n",
            "1139/1139 [==============================] - 1s 1ms/step - loss: 0.3263 - recall: 0.8488\n",
            "Epoch 50/200\n",
            "1139/1139 [==============================] - 1s 998us/step - loss: 0.3262 - recall: 0.8497\n",
            "Epoch 51/200\n",
            "1139/1139 [==============================] - 1s 992us/step - loss: 0.3257 - recall: 0.8490\n",
            "Epoch 52/200\n",
            "1139/1139 [==============================] - 1s 962us/step - loss: 0.3259 - recall: 0.8489\n",
            "Epoch 53/200\n",
            "1139/1139 [==============================] - 1s 964us/step - loss: 0.3256 - recall: 0.8488\n",
            "Epoch 54/200\n",
            "1139/1139 [==============================] - 1s 1ms/step - loss: 0.3258 - recall: 0.8494\n",
            "Epoch 55/200\n",
            "1139/1139 [==============================] - 1s 993us/step - loss: 0.3258 - recall: 0.8495\n",
            "Epoch 56/200\n",
            "1139/1139 [==============================] - 1s 966us/step - loss: 0.3252 - recall: 0.8494\n",
            "Epoch 57/200\n",
            "1139/1139 [==============================] - 1s 973us/step - loss: 0.3253 - recall: 0.8499\n",
            "Epoch 58/200\n",
            "1139/1139 [==============================] - 1s 946us/step - loss: 0.3252 - recall: 0.8490\n",
            "Epoch 59/200\n",
            "1139/1139 [==============================] - 1s 893us/step - loss: 0.3251 - recall: 0.8503\n",
            "Epoch 60/200\n",
            "1139/1139 [==============================] - 1s 917us/step - loss: 0.3251 - recall: 0.8496\n",
            "Epoch 61/200\n",
            "1139/1139 [==============================] - 1s 943us/step - loss: 0.3251 - recall: 0.8489\n",
            "Epoch 62/200\n",
            "1139/1139 [==============================] - 1s 974us/step - loss: 0.3250 - recall: 0.8499\n",
            "Epoch 63/200\n",
            "1139/1139 [==============================] - 1s 921us/step - loss: 0.3248 - recall: 0.8499\n",
            "Epoch 64/200\n",
            "1139/1139 [==============================] - 1s 921us/step - loss: 0.3247 - recall: 0.8500\n",
            "Epoch 65/200\n",
            "1139/1139 [==============================] - 1s 947us/step - loss: 0.3253 - recall: 0.8497\n",
            "Epoch 66/200\n",
            "1139/1139 [==============================] - 1s 954us/step - loss: 0.3248 - recall: 0.8498\n",
            "Epoch 67/200\n",
            "1139/1139 [==============================] - 1s 906us/step - loss: 0.3238 - recall: 0.8512\n",
            "Epoch 68/200\n",
            "1139/1139 [==============================] - 1s 908us/step - loss: 0.3243 - recall: 0.8499\n",
            "Epoch 69/200\n",
            "1139/1139 [==============================] - 1s 969us/step - loss: 0.3242 - recall: 0.8506\n",
            "Epoch 70/200\n",
            "1139/1139 [==============================] - 1s 951us/step - loss: 0.3237 - recall: 0.8508\n",
            "Epoch 71/200\n",
            "1139/1139 [==============================] - 1s 975us/step - loss: 0.3240 - recall: 0.8511\n",
            "Epoch 72/200\n",
            "1139/1139 [==============================] - 1s 943us/step - loss: 0.3241 - recall: 0.8512\n",
            "Epoch 73/200\n",
            "1139/1139 [==============================] - 1s 1ms/step - loss: 0.3236 - recall: 0.8505\n",
            "Epoch 74/200\n",
            "1139/1139 [==============================] - 1s 943us/step - loss: 0.3239 - recall: 0.8497\n",
            "Epoch 75/200\n",
            "1139/1139 [==============================] - 1s 937us/step - loss: 0.3231 - recall: 0.8507\n",
            "Epoch 76/200\n",
            "1139/1139 [==============================] - 1s 939us/step - loss: 0.3236 - recall: 0.8505\n",
            "Epoch 77/200\n",
            "1139/1139 [==============================] - 1s 927us/step - loss: 0.3234 - recall: 0.8504\n",
            "Epoch 78/200\n",
            "1139/1139 [==============================] - 1s 921us/step - loss: 0.3235 - recall: 0.8510\n",
            "Epoch 79/200\n",
            "1139/1139 [==============================] - 1s 952us/step - loss: 0.3230 - recall: 0.8523\n",
            "Epoch 80/200\n",
            "1139/1139 [==============================] - 1s 957us/step - loss: 0.3235 - recall: 0.8499\n",
            "Epoch 81/200\n",
            "1139/1139 [==============================] - 1s 953us/step - loss: 0.3232 - recall: 0.8509\n",
            "Epoch 82/200\n",
            "1139/1139 [==============================] - 1s 913us/step - loss: 0.3228 - recall: 0.8515\n",
            "Epoch 83/200\n",
            "1139/1139 [==============================] - 1s 916us/step - loss: 0.3232 - recall: 0.8507\n",
            "Epoch 84/200\n",
            "1139/1139 [==============================] - 1s 965us/step - loss: 0.3223 - recall: 0.8517\n",
            "Epoch 85/200\n",
            "1139/1139 [==============================] - 1s 952us/step - loss: 0.3227 - recall: 0.8516\n",
            "Epoch 86/200\n",
            "1139/1139 [==============================] - 1s 930us/step - loss: 0.3228 - recall: 0.8499\n",
            "Epoch 87/200\n",
            "1139/1139 [==============================] - 1s 928us/step - loss: 0.3227 - recall: 0.8505\n",
            "Epoch 88/200\n",
            "1139/1139 [==============================] - 1s 947us/step - loss: 0.3219 - recall: 0.8515\n",
            "Epoch 89/200\n",
            "1139/1139 [==============================] - 1s 872us/step - loss: 0.3227 - recall: 0.8522\n",
            "Epoch 90/200\n",
            "1139/1139 [==============================] - 1s 952us/step - loss: 0.3225 - recall: 0.8516\n",
            "Epoch 91/200\n",
            "1139/1139 [==============================] - 1s 919us/step - loss: 0.3221 - recall: 0.8513\n",
            "Epoch 92/200\n",
            "1139/1139 [==============================] - 1s 965us/step - loss: 0.3224 - recall: 0.8519\n",
            "Epoch 93/200\n",
            "1139/1139 [==============================] - 1s 932us/step - loss: 0.3220 - recall: 0.8503\n",
            "Epoch 94/200\n",
            "1139/1139 [==============================] - 1s 904us/step - loss: 0.3223 - recall: 0.8515\n",
            "Epoch 95/200\n",
            "1139/1139 [==============================] - 1s 924us/step - loss: 0.3221 - recall: 0.8519\n",
            "Epoch 96/200\n",
            "1139/1139 [==============================] - 1s 917us/step - loss: 0.3223 - recall: 0.8516\n",
            "Epoch 97/200\n",
            "1139/1139 [==============================] - 1s 962us/step - loss: 0.3220 - recall: 0.8516\n",
            "Epoch 98/200\n",
            "1139/1139 [==============================] - 1s 961us/step - loss: 0.3223 - recall: 0.8509\n",
            "Epoch 99/200\n",
            "1139/1139 [==============================] - 1s 935us/step - loss: 0.3222 - recall: 0.8505\n",
            "Epoch 100/200\n",
            "1139/1139 [==============================] - 1s 993us/step - loss: 0.3223 - recall: 0.8522\n",
            "Epoch 101/200\n",
            "1139/1139 [==============================] - 1s 957us/step - loss: 0.3222 - recall: 0.8513\n",
            "Epoch 102/200\n",
            "1139/1139 [==============================] - 1s 948us/step - loss: 0.3222 - recall: 0.8527\n",
            "Epoch 103/200\n",
            "1139/1139 [==============================] - 1s 949us/step - loss: 0.3217 - recall: 0.8511\n",
            "Epoch 104/200\n",
            "1139/1139 [==============================] - 1s 940us/step - loss: 0.3223 - recall: 0.8499\n",
            "Epoch 105/200\n",
            "1139/1139 [==============================] - 1s 918us/step - loss: 0.3223 - recall: 0.8513\n",
            "Epoch 106/200\n",
            "1139/1139 [==============================] - 1s 896us/step - loss: 0.3220 - recall: 0.8526\n",
            "Epoch 107/200\n",
            "1139/1139 [==============================] - 1s 937us/step - loss: 0.3220 - recall: 0.8529\n",
            "Epoch 108/200\n",
            "1139/1139 [==============================] - 1s 941us/step - loss: 0.3223 - recall: 0.8518\n",
            "Epoch 109/200\n",
            "1139/1139 [==============================] - 1s 952us/step - loss: 0.3221 - recall: 0.8509\n",
            "Epoch 110/200\n",
            "1139/1139 [==============================] - 1s 920us/step - loss: 0.3221 - recall: 0.8508\n",
            "Epoch 111/200\n",
            "1139/1139 [==============================] - 1s 937us/step - loss: 0.3220 - recall: 0.8521\n",
            "Epoch 112/200\n",
            "1139/1139 [==============================] - 1s 942us/step - loss: 0.3217 - recall: 0.8511\n",
            "Epoch 113/200\n",
            "1139/1139 [==============================] - 1s 971us/step - loss: 0.3220 - recall: 0.8514\n",
            "Epoch 114/200\n",
            "1139/1139 [==============================] - 1s 950us/step - loss: 0.3217 - recall: 0.8508\n",
            "Epoch 115/200\n",
            "1139/1139 [==============================] - 1s 971us/step - loss: 0.3222 - recall: 0.8509\n",
            "Epoch 116/200\n",
            "1139/1139 [==============================] - 1s 955us/step - loss: 0.3222 - recall: 0.8519\n",
            "Epoch 117/200\n",
            "1139/1139 [==============================] - 1s 936us/step - loss: 0.3216 - recall: 0.8513\n",
            "Epoch 118/200\n",
            "1139/1139 [==============================] - 1s 966us/step - loss: 0.3217 - recall: 0.8522\n",
            "Epoch 119/200\n",
            "1139/1139 [==============================] - 1s 955us/step - loss: 0.3221 - recall: 0.8505\n",
            "Epoch 120/200\n",
            "1139/1139 [==============================] - 1s 928us/step - loss: 0.3220 - recall: 0.8510\n",
            "Epoch 121/200\n",
            "1139/1139 [==============================] - 1s 960us/step - loss: 0.3214 - recall: 0.8517\n",
            "Epoch 122/200\n",
            "1139/1139 [==============================] - 1s 929us/step - loss: 0.3217 - recall: 0.8515\n",
            "Epoch 123/200\n",
            "1139/1139 [==============================] - 1s 921us/step - loss: 0.3218 - recall: 0.8529\n",
            "Epoch 124/200\n",
            "1139/1139 [==============================] - 1s 940us/step - loss: 0.3214 - recall: 0.8505\n",
            "Epoch 125/200\n",
            "1139/1139 [==============================] - 1s 973us/step - loss: 0.3212 - recall: 0.8508\n",
            "Epoch 126/200\n",
            "1139/1139 [==============================] - 1s 1ms/step - loss: 0.3214 - recall: 0.8510\n",
            "Epoch 127/200\n",
            "1139/1139 [==============================] - 1s 946us/step - loss: 0.3215 - recall: 0.8515\n",
            "Epoch 128/200\n",
            "1139/1139 [==============================] - 1s 998us/step - loss: 0.3213 - recall: 0.8509\n",
            "Epoch 129/200\n",
            "1139/1139 [==============================] - 1s 955us/step - loss: 0.3216 - recall: 0.8511\n",
            "Epoch 130/200\n",
            "1139/1139 [==============================] - 1s 951us/step - loss: 0.3213 - recall: 0.8513\n",
            "Epoch 131/200\n",
            "1139/1139 [==============================] - 1s 957us/step - loss: 0.3215 - recall: 0.8515\n",
            "Epoch 132/200\n",
            "1139/1139 [==============================] - 1s 968us/step - loss: 0.3212 - recall: 0.8529\n",
            "Epoch 133/200\n",
            "1139/1139 [==============================] - 1s 923us/step - loss: 0.3214 - recall: 0.8525\n",
            "Epoch 134/200\n",
            "1139/1139 [==============================] - 1s 973us/step - loss: 0.3216 - recall: 0.8512\n",
            "Epoch 135/200\n",
            "1139/1139 [==============================] - 1s 967us/step - loss: 0.3214 - recall: 0.8527\n",
            "Epoch 136/200\n",
            "1139/1139 [==============================] - 1s 1ms/step - loss: 0.3207 - recall: 0.8518\n",
            "Epoch 137/200\n",
            "1139/1139 [==============================] - 1s 937us/step - loss: 0.3211 - recall: 0.8528\n",
            "Epoch 138/200\n",
            "1139/1139 [==============================] - 1s 969us/step - loss: 0.3214 - recall: 0.8510\n",
            "Epoch 139/200\n",
            "1139/1139 [==============================] - 1s 964us/step - loss: 0.3214 - recall: 0.8519\n",
            "Epoch 140/200\n",
            "1139/1139 [==============================] - 1s 988us/step - loss: 0.3214 - recall: 0.8514\n",
            "Epoch 141/200\n",
            "1139/1139 [==============================] - 1s 920us/step - loss: 0.3216 - recall: 0.8519\n",
            "Epoch 142/200\n",
            "1139/1139 [==============================] - 1s 974us/step - loss: 0.3214 - recall: 0.8528\n",
            "Epoch 143/200\n",
            "1139/1139 [==============================] - 1s 963us/step - loss: 0.3214 - recall: 0.8513\n",
            "Epoch 144/200\n",
            "1139/1139 [==============================] - 1s 969us/step - loss: 0.3210 - recall: 0.8515\n",
            "Epoch 145/200\n",
            "1139/1139 [==============================] - 1s 967us/step - loss: 0.3214 - recall: 0.8518\n",
            "Epoch 146/200\n",
            "1139/1139 [==============================] - 1s 965us/step - loss: 0.3212 - recall: 0.8535\n",
            "Epoch 147/200\n",
            "1139/1139 [==============================] - 1s 960us/step - loss: 0.3218 - recall: 0.8527\n",
            "Epoch 148/200\n",
            "1139/1139 [==============================] - 1s 946us/step - loss: 0.3208 - recall: 0.8510\n",
            "Epoch 149/200\n",
            "1139/1139 [==============================] - 1s 975us/step - loss: 0.3210 - recall: 0.8525\n",
            "Epoch 150/200\n",
            "1139/1139 [==============================] - 1s 976us/step - loss: 0.3212 - recall: 0.8520\n",
            "Epoch 151/200\n",
            "1139/1139 [==============================] - 1s 964us/step - loss: 0.3206 - recall: 0.8510\n",
            "Epoch 152/200\n",
            "1139/1139 [==============================] - 1s 970us/step - loss: 0.3211 - recall: 0.8519\n",
            "Epoch 153/200\n",
            "1139/1139 [==============================] - 1s 1ms/step - loss: 0.3211 - recall: 0.8507\n",
            "Epoch 154/200\n",
            "1139/1139 [==============================] - 1s 996us/step - loss: 0.3211 - recall: 0.8529\n",
            "Epoch 155/200\n",
            "1139/1139 [==============================] - 1s 973us/step - loss: 0.3215 - recall: 0.8529\n",
            "Epoch 156/200\n",
            "1139/1139 [==============================] - 1s 983us/step - loss: 0.3211 - recall: 0.8524\n",
            "Epoch 157/200\n",
            "1139/1139 [==============================] - 1s 985us/step - loss: 0.3209 - recall: 0.8522\n",
            "Epoch 158/200\n",
            "1139/1139 [==============================] - 1s 988us/step - loss: 0.3213 - recall: 0.8522\n",
            "Epoch 159/200\n",
            "1139/1139 [==============================] - 1s 998us/step - loss: 0.3210 - recall: 0.8520\n",
            "Epoch 160/200\n",
            "1139/1139 [==============================] - 1s 948us/step - loss: 0.3213 - recall: 0.8520\n",
            "Epoch 161/200\n",
            "1139/1139 [==============================] - 1s 956us/step - loss: 0.3211 - recall: 0.8520\n",
            "Epoch 162/200\n",
            "1139/1139 [==============================] - 1s 974us/step - loss: 0.3214 - recall: 0.8501\n",
            "Epoch 163/200\n",
            "1139/1139 [==============================] - 1s 966us/step - loss: 0.3211 - recall: 0.8518\n",
            "Epoch 164/200\n",
            "1139/1139 [==============================] - 1s 960us/step - loss: 0.3213 - recall: 0.8535\n",
            "Epoch 165/200\n",
            "1139/1139 [==============================] - 1s 958us/step - loss: 0.3201 - recall: 0.8523\n",
            "Epoch 166/200\n",
            "1139/1139 [==============================] - 1s 963us/step - loss: 0.3206 - recall: 0.8526\n",
            "Epoch 167/200\n",
            "1139/1139 [==============================] - 1s 984us/step - loss: 0.3212 - recall: 0.8517\n",
            "Epoch 168/200\n",
            "1139/1139 [==============================] - 1s 943us/step - loss: 0.3213 - recall: 0.8526\n",
            "Epoch 169/200\n",
            "1139/1139 [==============================] - 1s 947us/step - loss: 0.3208 - recall: 0.8515\n",
            "Epoch 170/200\n",
            "1139/1139 [==============================] - 1s 963us/step - loss: 0.3210 - recall: 0.8523\n",
            "Epoch 171/200\n",
            "1139/1139 [==============================] - 1s 955us/step - loss: 0.3210 - recall: 0.8520\n",
            "Epoch 172/200\n",
            "1139/1139 [==============================] - 1s 989us/step - loss: 0.3211 - recall: 0.8532\n",
            "Epoch 173/200\n",
            "1139/1139 [==============================] - 1s 946us/step - loss: 0.3211 - recall: 0.8518\n",
            "Epoch 174/200\n",
            "1139/1139 [==============================] - 1s 975us/step - loss: 0.3210 - recall: 0.8530\n",
            "Epoch 175/200\n",
            "1139/1139 [==============================] - 1s 953us/step - loss: 0.3210 - recall: 0.8530\n",
            "Epoch 176/200\n",
            "1139/1139 [==============================] - 1s 973us/step - loss: 0.3206 - recall: 0.8518\n",
            "Epoch 177/200\n",
            "1139/1139 [==============================] - 1s 961us/step - loss: 0.3208 - recall: 0.8515\n",
            "Epoch 178/200\n",
            "1139/1139 [==============================] - 1s 1ms/step - loss: 0.3207 - recall: 0.8515\n",
            "Epoch 179/200\n",
            "1139/1139 [==============================] - 1s 941us/step - loss: 0.3208 - recall: 0.8510\n",
            "Epoch 180/200\n",
            "1139/1139 [==============================] - 1s 971us/step - loss: 0.3208 - recall: 0.8524\n",
            "Epoch 181/200\n",
            "1139/1139 [==============================] - 1s 966us/step - loss: 0.3211 - recall: 0.8521\n",
            "Epoch 182/200\n",
            "1139/1139 [==============================] - 1s 994us/step - loss: 0.3207 - recall: 0.8530\n",
            "Epoch 183/200\n",
            "1139/1139 [==============================] - 1s 962us/step - loss: 0.3208 - recall: 0.8510\n",
            "Epoch 184/200\n",
            "1139/1139 [==============================] - 1s 957us/step - loss: 0.3209 - recall: 0.8509\n",
            "Epoch 185/200\n",
            "1139/1139 [==============================] - 1s 955us/step - loss: 0.3209 - recall: 0.8518\n",
            "Epoch 186/200\n",
            "1139/1139 [==============================] - 1s 984us/step - loss: 0.3209 - recall: 0.8541\n",
            "Epoch 187/200\n",
            "1139/1139 [==============================] - 1s 965us/step - loss: 0.3209 - recall: 0.8511\n",
            "Epoch 188/200\n",
            "1139/1139 [==============================] - 1s 957us/step - loss: 0.3210 - recall: 0.8517\n",
            "Epoch 189/200\n",
            "1139/1139 [==============================] - 1s 957us/step - loss: 0.3207 - recall: 0.8516\n",
            "Epoch 190/200\n",
            "1139/1139 [==============================] - 1s 963us/step - loss: 0.3210 - recall: 0.8517\n",
            "Epoch 191/200\n",
            "1139/1139 [==============================] - 1s 971us/step - loss: 0.3206 - recall: 0.8522\n",
            "Epoch 192/200\n",
            "1139/1139 [==============================] - 1s 933us/step - loss: 0.3207 - recall: 0.8525\n",
            "Epoch 193/200\n",
            "1139/1139 [==============================] - 1s 961us/step - loss: 0.3208 - recall: 0.8505\n",
            "Epoch 194/200\n",
            "1139/1139 [==============================] - 1s 956us/step - loss: 0.3208 - recall: 0.8525\n",
            "Epoch 195/200\n",
            "1139/1139 [==============================] - 1s 972us/step - loss: 0.3205 - recall: 0.8525\n",
            "Epoch 196/200\n",
            "1139/1139 [==============================] - 1s 969us/step - loss: 0.3207 - recall: 0.8522\n",
            "Epoch 197/200\n",
            "1139/1139 [==============================] - 1s 983us/step - loss: 0.3205 - recall: 0.8521\n",
            "Epoch 198/200\n",
            "1139/1139 [==============================] - 1s 966us/step - loss: 0.3209 - recall: 0.8513\n",
            "Epoch 199/200\n",
            "1139/1139 [==============================] - 1s 955us/step - loss: 0.3203 - recall: 0.8520\n",
            "Epoch 200/200\n",
            "1139/1139 [==============================] - 1s 970us/step - loss: 0.3208 - recall: 0.8512\n"
          ]
        },
        {
          "output_type": "execute_result",
          "data": {
            "text/plain": [
              "<keras.callbacks.History at 0x7fa0dc92f710>"
            ]
          },
          "metadata": {},
          "execution_count": 72
        }
      ]
    },
    {
      "cell_type": "code",
      "metadata": {
        "id": "OkTqTIghU67e"
      },
      "source": [
        "y_trainpred=model.predict(X_train)\n",
        "y_testpred=model.predict(X_test)"
      ],
      "execution_count": 73,
      "outputs": []
    },
    {
      "cell_type": "code",
      "metadata": {
        "colab": {
          "base_uri": "https://localhost:8080/"
        },
        "id": "LqYpIbjwU64C",
        "outputId": "47c3d1e7-5cdf-4a9b-b011-752df1d75cf6"
      },
      "source": [
        "categoricalpred = np.argmax(y_trainpred,axis=1)\n",
        "categoricalpred_test = np.argmax(y_testpred,axis=1)\n",
        "\n",
        "print('Results for Categorical Model')\n",
        "print(classification_report(y_train, categoricalpred))"
      ],
      "execution_count": 74,
      "outputs": [
        {
          "output_type": "stream",
          "name": "stdout",
          "text": [
            "Results for Categorical Model\n",
            "              precision    recall  f1-score   support\n",
            "\n",
            "           0       0.89      0.91      0.90     17288\n",
            "           1       0.71      0.65      0.68      5487\n",
            "\n",
            "    accuracy                           0.85     22775\n",
            "   macro avg       0.80      0.78      0.79     22775\n",
            "weighted avg       0.85      0.85      0.85     22775\n",
            "\n"
          ]
        }
      ]
    },
    {
      "cell_type": "code",
      "metadata": {
        "colab": {
          "base_uri": "https://localhost:8080/"
        },
        "id": "07REO8CSU602",
        "outputId": "261276bc-341f-41f6-abda-6b7df3c14004"
      },
      "source": [
        "print(classification_report(y_test, categoricalpred_test))"
      ],
      "execution_count": 75,
      "outputs": [
        {
          "output_type": "stream",
          "name": "stdout",
          "text": [
            "              precision    recall  f1-score   support\n",
            "\n",
            "           0       0.89      0.91      0.90      7409\n",
            "           1       0.69      0.66      0.67      2352\n",
            "\n",
            "    accuracy                           0.85      9761\n",
            "   macro avg       0.79      0.78      0.79      9761\n",
            "weighted avg       0.84      0.85      0.85      9761\n",
            "\n"
          ]
        }
      ]
    },
    {
      "cell_type": "markdown",
      "metadata": {
        "id": "M5tXW_Z3ImKi"
      },
      "source": [
        "# **XGBoost**"
      ]
    },
    {
      "cell_type": "code",
      "metadata": {
        "id": "osv7T95zINhc"
      },
      "source": [
        "from xgboost import XGBClassifier, XGBRFClassifier\n",
        "from sklearn.model_selection import RepeatedStratifiedKFold\n",
        "from sklearn.model_selection import cross_val_score\n",
        "from numpy import mean"
      ],
      "execution_count": null,
      "outputs": []
    },
    {
      "cell_type": "code",
      "metadata": {
        "id": "DjWxEcfCbzCf"
      },
      "source": [
        "X_train,X_test,y_train,y_test=train_test_split(Xnew,y,test_size=0.30,stratify=y)"
      ],
      "execution_count": null,
      "outputs": []
    },
    {
      "cell_type": "code",
      "metadata": {
        "id": "-y-TmiWfIiz6"
      },
      "source": [
        "param_grid={}"
      ],
      "execution_count": null,
      "outputs": []
    },
    {
      "cell_type": "code",
      "metadata": {
        "colab": {
          "base_uri": "https://localhost:8080/"
        },
        "id": "IdGh6-nCeLHb",
        "outputId": "a912038b-e907-4a9a-9616-3e17bff258ae"
      },
      "source": [
        "xgb1=XGBClassifier()\n",
        "# define grid search\n",
        "grid = GridSearchCV(estimator=xgb1, param_grid=param_grid, cv=3, scoring='f1')\n",
        "grid.fit(X_train, y_train)"
      ],
      "execution_count": null,
      "outputs": [
        {
          "output_type": "execute_result",
          "data": {
            "text/plain": [
              "GridSearchCV(cv=3, error_score=nan,\n",
              "             estimator=XGBClassifier(base_score=0.5, booster='gbtree',\n",
              "                                     colsample_bylevel=1, colsample_bynode=1,\n",
              "                                     colsample_bytree=1, gamma=0,\n",
              "                                     learning_rate=0.1, max_delta_step=0,\n",
              "                                     max_depth=3, min_child_weight=1,\n",
              "                                     missing=None, n_estimators=100, n_jobs=1,\n",
              "                                     nthread=None, objective='binary:logistic',\n",
              "                                     random_state=0, reg_alpha=0, reg_lambda=1,\n",
              "                                     scale_pos_weight=1, seed=None, silent=None,\n",
              "                                     subsample=1, verbosity=1),\n",
              "             iid='deprecated', n_jobs=None, param_grid={},\n",
              "             pre_dispatch='2*n_jobs', refit=True, return_train_score=False,\n",
              "             scoring='f1', verbose=0)"
            ]
          },
          "metadata": {},
          "execution_count": 136
        }
      ]
    },
    {
      "cell_type": "code",
      "metadata": {
        "colab": {
          "base_uri": "https://localhost:8080/"
        },
        "id": "mtTzMrAteg1x",
        "outputId": "900e4b18-f315-4224-a905-c097f571e937"
      },
      "source": [
        "grid.best_params_"
      ],
      "execution_count": null,
      "outputs": [
        {
          "output_type": "execute_result",
          "data": {
            "text/plain": [
              "{}"
            ]
          },
          "metadata": {},
          "execution_count": 137
        }
      ]
    },
    {
      "cell_type": "code",
      "metadata": {
        "id": "dejBQWfnb3NF"
      },
      "source": [
        "y_train_pred=grid.predict(X_train)\n",
        "y_test_pred=grid.predict(X_test)"
      ],
      "execution_count": null,
      "outputs": []
    },
    {
      "cell_type": "code",
      "metadata": {
        "colab": {
          "base_uri": "https://localhost:8080/"
        },
        "id": "nU2LxmIHcAZL",
        "outputId": "5c8ebfce-2478-449d-9a09-f99ce9a44e6b"
      },
      "source": [
        "print(classification_report(y_train,y_train_pred))"
      ],
      "execution_count": null,
      "outputs": [
        {
          "output_type": "stream",
          "name": "stdout",
          "text": [
            "              precision    recall  f1-score   support\n",
            "\n",
            "           0       0.91      1.00      0.95       863\n",
            "           1       0.96      0.46      0.62       166\n",
            "\n",
            "    accuracy                           0.91      1029\n",
            "   macro avg       0.93      0.73      0.78      1029\n",
            "weighted avg       0.91      0.91      0.90      1029\n",
            "\n"
          ]
        }
      ]
    },
    {
      "cell_type": "code",
      "metadata": {
        "colab": {
          "base_uri": "https://localhost:8080/"
        },
        "id": "lzIPyrTXcC_e",
        "outputId": "650a8905-ae27-4202-934d-0f5094ed8407"
      },
      "source": [
        "print(classification_report(y_test,y_test_pred))"
      ],
      "execution_count": null,
      "outputs": [
        {
          "output_type": "stream",
          "name": "stdout",
          "text": [
            "              precision    recall  f1-score   support\n",
            "\n",
            "           0       0.86      0.98      0.92       370\n",
            "           1       0.59      0.18      0.28        71\n",
            "\n",
            "    accuracy                           0.85       441\n",
            "   macro avg       0.73      0.58      0.60       441\n",
            "weighted avg       0.82      0.85      0.81       441\n",
            "\n"
          ]
        }
      ]
    },
    {
      "cell_type": "markdown",
      "metadata": {
        "id": "NJLzCF5iJUec"
      },
      "source": [
        "# **Linear Discriminant Analysis**"
      ]
    },
    {
      "cell_type": "code",
      "metadata": {
        "id": "pV0Kn2DemPBp"
      },
      "source": [
        "from sklearn.discriminant_analysis import LinearDiscriminantAnalysis"
      ],
      "execution_count": 54,
      "outputs": []
    },
    {
      "cell_type": "code",
      "metadata": {
        "id": "vEQeXWJ6aQvB"
      },
      "source": [
        "sc = StandardScaler()\n",
        "X1 = sc.fit_transform(X)\n",
        "X_train, X_test, y_train, y_test = train_test_split(Xnew, y, test_size=0.25,stratify=y)"
      ],
      "execution_count": 63,
      "outputs": []
    },
    {
      "cell_type": "code",
      "metadata": {
        "colab": {
          "base_uri": "https://localhost:8080/"
        },
        "id": "ZuVkcOJ-mvC1",
        "outputId": "eafaf5a3-da8f-4ea8-b2f4-c13dd939f042"
      },
      "source": [
        "lda = LinearDiscriminantAnalysis(solver='lsqr')\n",
        "lda.fit(X_train, y_train)\n"
      ],
      "execution_count": 64,
      "outputs": [
        {
          "output_type": "execute_result",
          "data": {
            "text/plain": [
              "LinearDiscriminantAnalysis(n_components=None, priors=None, shrinkage=None,\n",
              "                           solver='lsqr', store_covariance=False, tol=0.0001)"
            ]
          },
          "metadata": {},
          "execution_count": 64
        }
      ]
    },
    {
      "cell_type": "code",
      "metadata": {
        "id": "C7N1gCH3mzyc"
      },
      "source": [
        "y_trainpred=lda.predict(X_train)\n",
        "y_testpred=lda.predict(X_test)"
      ],
      "execution_count": 65,
      "outputs": []
    },
    {
      "cell_type": "code",
      "metadata": {
        "colab": {
          "base_uri": "https://localhost:8080/"
        },
        "id": "deDKzRNknUCk",
        "outputId": "65d33ae9-8e68-4aca-dce7-6c9b02b4c8b7"
      },
      "source": [
        "print(classification_report(y_train,y_trainpred))"
      ],
      "execution_count": 66,
      "outputs": [
        {
          "output_type": "stream",
          "name": "stdout",
          "text": [
            "              precision    recall  f1-score   support\n",
            "\n",
            "           0       0.87      0.93      0.90     18523\n",
            "           1       0.71      0.55      0.62      5879\n",
            "\n",
            "    accuracy                           0.84     24402\n",
            "   macro avg       0.79      0.74      0.76     24402\n",
            "weighted avg       0.83      0.84      0.83     24402\n",
            "\n"
          ]
        }
      ]
    },
    {
      "cell_type": "code",
      "metadata": {
        "colab": {
          "base_uri": "https://localhost:8080/"
        },
        "id": "ECRheCAHnVac",
        "outputId": "f22d2d46-1726-4f77-96de-a3744eebf925"
      },
      "source": [
        "print(classification_report(y_test,y_testpred))"
      ],
      "execution_count": 67,
      "outputs": [
        {
          "output_type": "stream",
          "name": "stdout",
          "text": [
            "              precision    recall  f1-score   support\n",
            "\n",
            "           0       0.87      0.93      0.90      6174\n",
            "           1       0.71      0.57      0.63      1960\n",
            "\n",
            "    accuracy                           0.84      8134\n",
            "   macro avg       0.79      0.75      0.77      8134\n",
            "weighted avg       0.83      0.84      0.83      8134\n",
            "\n"
          ]
        }
      ]
    },
    {
      "cell_type": "markdown",
      "metadata": {
        "id": "_MsmOnDBpGmb"
      },
      "source": [
        "# **Linear Discriminant Analysis With GridSearch CV**"
      ]
    },
    {
      "cell_type": "code",
      "metadata": {
        "id": "miUo8L7RxCn1"
      },
      "source": [
        "from sklearn.metrics import fbeta_score, make_scorer\n",
        "z = make_scorer(fbeta_score, beta=2)\n"
      ],
      "execution_count": 50,
      "outputs": []
    },
    {
      "cell_type": "code",
      "metadata": {
        "id": "dozVlNq1vUZC"
      },
      "source": [
        "# sc = StandardScaler()\n",
        "X_train, X_test, y_train, y_test = train_test_split(Xnew, y, test_size=0.25,stratify=y)\n",
        "# X_train=sc.fit_transform(X_train)\n",
        "# X_test=sc.transform(X_test)"
      ],
      "execution_count": 51,
      "outputs": []
    },
    {
      "cell_type": "code",
      "metadata": {
        "colab": {
          "base_uri": "https://localhost:8080/"
        },
        "id": "gM5SDWB3nXVU",
        "outputId": "f1a63f90-b0e8-468e-8442-bc0cc4a91d8a"
      },
      "source": [
        "lda1=LinearDiscriminantAnalysis()\n",
        "cv = StratifiedKFold(n_splits=3,shuffle=True)\n",
        "param={'solver':['svd','lsqr','eigen']}\n",
        "ld_grid=GridSearchCV(lda1,param_grid=param,cv=cv,scoring=z)\n",
        "ld_grid.fit(X_train,y_train)"
      ],
      "execution_count": 56,
      "outputs": [
        {
          "output_type": "execute_result",
          "data": {
            "text/plain": [
              "GridSearchCV(cv=StratifiedKFold(n_splits=3, random_state=None, shuffle=True),\n",
              "             error_score=nan,\n",
              "             estimator=LinearDiscriminantAnalysis(n_components=None,\n",
              "                                                  priors=None, shrinkage=None,\n",
              "                                                  solver='svd',\n",
              "                                                  store_covariance=False,\n",
              "                                                  tol=0.0001),\n",
              "             iid='deprecated', n_jobs=None,\n",
              "             param_grid={'solver': ['svd', 'lsqr', 'eigen']},\n",
              "             pre_dispatch='2*n_jobs', refit=True, return_train_score=False,\n",
              "             scoring=make_scorer(fbeta_score, beta=2), verbose=0)"
            ]
          },
          "metadata": {},
          "execution_count": 56
        }
      ]
    },
    {
      "cell_type": "code",
      "metadata": {
        "id": "TOowI6vGskB2"
      },
      "source": [
        "y_trainpred=ld_grid.predict(X_train)\n",
        "y_testpred=ld_grid.predict(X_test)"
      ],
      "execution_count": 57,
      "outputs": []
    },
    {
      "cell_type": "code",
      "metadata": {
        "colab": {
          "base_uri": "https://localhost:8080/"
        },
        "id": "yZU19a5HtKsy",
        "outputId": "17e61c2f-2be1-4506-a66e-53052747c7be"
      },
      "source": [
        "ld_grid.best_params_"
      ],
      "execution_count": 58,
      "outputs": [
        {
          "output_type": "execute_result",
          "data": {
            "text/plain": [
              "{'solver': 'svd'}"
            ]
          },
          "metadata": {},
          "execution_count": 58
        }
      ]
    },
    {
      "cell_type": "code",
      "metadata": {
        "colab": {
          "base_uri": "https://localhost:8080/"
        },
        "id": "ejtEPVtls9eg",
        "outputId": "578d0c75-1a81-43d3-eacd-76ef272508ec"
      },
      "source": [
        "print(classification_report(y_train,y_trainpred))"
      ],
      "execution_count": 59,
      "outputs": [
        {
          "output_type": "stream",
          "name": "stdout",
          "text": [
            "              precision    recall  f1-score   support\n",
            "\n",
            "           0       0.87      0.93      0.90     18523\n",
            "           1       0.71      0.56      0.62      5879\n",
            "\n",
            "    accuracy                           0.84     24402\n",
            "   macro avg       0.79      0.74      0.76     24402\n",
            "weighted avg       0.83      0.84      0.83     24402\n",
            "\n"
          ]
        }
      ]
    },
    {
      "cell_type": "code",
      "metadata": {
        "colab": {
          "base_uri": "https://localhost:8080/"
        },
        "id": "zSyvlbWzs_Bn",
        "outputId": "4700408d-8064-47ce-e41f-ae7c301dbb01"
      },
      "source": [
        "print(classification_report(y_test,y_testpred))"
      ],
      "execution_count": 60,
      "outputs": [
        {
          "output_type": "stream",
          "name": "stdout",
          "text": [
            "              precision    recall  f1-score   support\n",
            "\n",
            "           0       0.86      0.93      0.90      6174\n",
            "           1       0.72      0.54      0.62      1960\n",
            "\n",
            "    accuracy                           0.84      8134\n",
            "   macro avg       0.79      0.74      0.76      8134\n",
            "weighted avg       0.83      0.84      0.83      8134\n",
            "\n"
          ]
        }
      ]
    },
    {
      "cell_type": "markdown",
      "metadata": {
        "id": "uXQpstWVNuo7"
      },
      "source": [
        "# **Resampling**"
      ]
    },
    {
      "cell_type": "markdown",
      "metadata": {
        "id": "5De_d7gjka35"
      },
      "source": [
        "# **SMOTE Tomek Link with KNearest Neighbours**"
      ]
    },
    {
      "cell_type": "code",
      "metadata": {
        "id": "_jL9Q2fcU6yV"
      },
      "source": [
        "from sklearn.neighbors import KNeighborsClassifier"
      ],
      "execution_count": 76,
      "outputs": []
    },
    {
      "cell_type": "code",
      "metadata": {
        "colab": {
          "base_uri": "https://localhost:8080/"
        },
        "id": "UXcWTNnqU6sl",
        "outputId": "fcf904b3-bf47-4792-8296-083a2c3b51d8"
      },
      "source": [
        "knn=KNeighborsClassifier(n_neighbors=3, metric='manhattan', weights='distance',p=1)\n",
        "knn.fit(X_train,y_train)\n"
      ],
      "execution_count": 77,
      "outputs": [
        {
          "output_type": "execute_result",
          "data": {
            "text/plain": [
              "KNeighborsClassifier(algorithm='auto', leaf_size=30, metric='manhattan',\n",
              "                     metric_params=None, n_jobs=None, n_neighbors=3, p=1,\n",
              "                     weights='distance')"
            ]
          },
          "metadata": {},
          "execution_count": 77
        }
      ]
    },
    {
      "cell_type": "code",
      "metadata": {
        "id": "5v7uGZLcU6mX"
      },
      "source": [
        "y_trainpred=knn.predict(X_train)\n",
        "y_testpred=knn.predict(X_test)"
      ],
      "execution_count": 78,
      "outputs": []
    },
    {
      "cell_type": "code",
      "metadata": {
        "colab": {
          "base_uri": "https://localhost:8080/"
        },
        "id": "j5usAMooU6cA",
        "outputId": "9c3ce62f-e9a9-4aed-8f7a-7946575eb21f"
      },
      "source": [
        "print(classification_report(y_train,y_trainpred))"
      ],
      "execution_count": 79,
      "outputs": [
        {
          "output_type": "stream",
          "name": "stdout",
          "text": [
            "              precision    recall  f1-score   support\n",
            "\n",
            "           0       0.96      0.98      0.97     17288\n",
            "           1       0.92      0.86      0.89      5487\n",
            "\n",
            "    accuracy                           0.95     22775\n",
            "   macro avg       0.94      0.92      0.93     22775\n",
            "weighted avg       0.95      0.95      0.95     22775\n",
            "\n"
          ]
        }
      ]
    },
    {
      "cell_type": "code",
      "metadata": {
        "colab": {
          "base_uri": "https://localhost:8080/"
        },
        "id": "mBNU0Ws5k0k-",
        "outputId": "b7a9f8c4-8a7b-4cf7-e19d-5204ba7871b9"
      },
      "source": [
        "print(classification_report(y_test,y_testpred))"
      ],
      "execution_count": 80,
      "outputs": [
        {
          "output_type": "stream",
          "name": "stdout",
          "text": [
            "              precision    recall  f1-score   support\n",
            "\n",
            "           0       0.87      0.90      0.88      7409\n",
            "           1       0.64      0.57      0.60      2352\n",
            "\n",
            "    accuracy                           0.82      9761\n",
            "   macro avg       0.75      0.74      0.74      9761\n",
            "weighted avg       0.81      0.82      0.82      9761\n",
            "\n"
          ]
        }
      ]
    },
    {
      "cell_type": "markdown",
      "metadata": {
        "id": "eSs4Il9UJvua"
      },
      "source": [
        "# **SMOTE Tomek Link with XGBoost**"
      ]
    },
    {
      "cell_type": "code",
      "metadata": {
        "id": "JhwJmEqPcFYQ"
      },
      "source": [
        "from imblearn.combine import SMOTETomek"
      ],
      "execution_count": null,
      "outputs": []
    },
    {
      "cell_type": "code",
      "metadata": {
        "id": "4TRcGaORRkj-"
      },
      "source": [
        "X_train,X_test,y_train,y_test=train_test_split(Xnew.values,y,test_size=0.30,stratify=y)"
      ],
      "execution_count": null,
      "outputs": []
    },
    {
      "cell_type": "code",
      "metadata": {
        "id": "pYz3EYYfOvF2"
      },
      "source": [
        "smt=SMOTETomek(random_state=139)\n",
        "X_train, y_train=smt.fit_resample(X_train,y_train)"
      ],
      "execution_count": null,
      "outputs": []
    },
    {
      "cell_type": "code",
      "metadata": {
        "colab": {
          "base_uri": "https://localhost:8080/"
        },
        "id": "oJQm0H9dTYPe",
        "outputId": "8890e31e-604b-44e0-f8af-e73058bf1d5d"
      },
      "source": [
        "X_train.shape"
      ],
      "execution_count": null,
      "outputs": [
        {
          "output_type": "execute_result",
          "data": {
            "text/plain": [
              "(1536, 19)"
            ]
          },
          "metadata": {},
          "execution_count": 145
        }
      ]
    },
    {
      "cell_type": "code",
      "metadata": {
        "colab": {
          "base_uri": "https://localhost:8080/"
        },
        "id": "sUqBqcy8Ta2_",
        "outputId": "1f0f6e35-daef-4a76-fe95-1e3537e1c25d"
      },
      "source": [
        "X_test.shape"
      ],
      "execution_count": null,
      "outputs": [
        {
          "output_type": "execute_result",
          "data": {
            "text/plain": [
              "(441, 19)"
            ]
          },
          "metadata": {},
          "execution_count": 146
        }
      ]
    },
    {
      "cell_type": "code",
      "metadata": {
        "colab": {
          "base_uri": "https://localhost:8080/"
        },
        "id": "PKt_BzyLPrtr",
        "outputId": "62025d7c-6ba2-42ae-9683-b46ff42417b8"
      },
      "source": [
        "# define evaluation procedure\n",
        "cv = StratifiedKFold(n_splits=3, shuffle=True)\n",
        "xgb_1=XGBClassifier()\n",
        "# define grid search\n",
        "grid = GridSearchCV(estimator=xgb_1, param_grid=param_grid, cv=cv)\n",
        "grid.fit(X_train, y_train)"
      ],
      "execution_count": null,
      "outputs": [
        {
          "output_type": "execute_result",
          "data": {
            "text/plain": [
              "GridSearchCV(cv=StratifiedKFold(n_splits=3, random_state=None, shuffle=True),\n",
              "             error_score=nan,\n",
              "             estimator=XGBClassifier(base_score=0.5, booster='gbtree',\n",
              "                                     colsample_bylevel=1, colsample_bynode=1,\n",
              "                                     colsample_bytree=1, gamma=0,\n",
              "                                     learning_rate=0.1, max_delta_step=0,\n",
              "                                     max_depth=3, min_child_weight=1,\n",
              "                                     missing=None, n_estimators=100, n_jobs=1,\n",
              "                                     nthread=None, objective='binary:logistic',\n",
              "                                     random_state=0, reg_alpha=0, reg_lambda=1,\n",
              "                                     scale_pos_weight=1, seed=None, silent=None,\n",
              "                                     subsample=1, verbosity=1),\n",
              "             iid='deprecated', n_jobs=None, param_grid={},\n",
              "             pre_dispatch='2*n_jobs', refit=True, return_train_score=False,\n",
              "             scoring=None, verbose=0)"
            ]
          },
          "metadata": {},
          "execution_count": 147
        }
      ]
    },
    {
      "cell_type": "code",
      "metadata": {
        "id": "i5-AwXcsP1KQ"
      },
      "source": [
        "y_trainpred=grid.predict(X_train)\n",
        "y_testpred=grid.predict(X_test)"
      ],
      "execution_count": null,
      "outputs": []
    },
    {
      "cell_type": "code",
      "metadata": {
        "colab": {
          "base_uri": "https://localhost:8080/"
        },
        "id": "fD7wnjIoP22A",
        "outputId": "cd2a40a4-8a14-4831-83d0-df15c7f18a68"
      },
      "source": [
        "print(classification_report(y_train,y_trainpred))"
      ],
      "execution_count": null,
      "outputs": [
        {
          "output_type": "stream",
          "name": "stdout",
          "text": [
            "              precision    recall  f1-score   support\n",
            "\n",
            "           0       0.91      0.92      0.91       768\n",
            "           1       0.92      0.90      0.91       768\n",
            "\n",
            "    accuracy                           0.91      1536\n",
            "   macro avg       0.91      0.91      0.91      1536\n",
            "weighted avg       0.91      0.91      0.91      1536\n",
            "\n"
          ]
        }
      ]
    },
    {
      "cell_type": "code",
      "metadata": {
        "colab": {
          "base_uri": "https://localhost:8080/"
        },
        "id": "CZ4EzLvwP4PO",
        "outputId": "70ef8816-cf9c-4af4-f114-00528bf0c60a"
      },
      "source": [
        "print(classification_report(y_test,y_testpred))"
      ],
      "execution_count": null,
      "outputs": [
        {
          "output_type": "stream",
          "name": "stdout",
          "text": [
            "              precision    recall  f1-score   support\n",
            "\n",
            "           0       0.88      0.88      0.88       370\n",
            "           1       0.37      0.37      0.37        71\n",
            "\n",
            "    accuracy                           0.80       441\n",
            "   macro avg       0.62      0.62      0.62       441\n",
            "weighted avg       0.80      0.80      0.80       441\n",
            "\n"
          ]
        }
      ]
    },
    {
      "cell_type": "markdown",
      "metadata": {
        "id": "YzbnU2gMK7Uj"
      },
      "source": [
        "# **Decision Tree with SMOTE Tomek Link**"
      ]
    },
    {
      "cell_type": "code",
      "metadata": {
        "id": "TtQ6bbUXLOLI"
      },
      "source": [
        "X_train,X_test,y_train,y_test=train_test_split(Xnew.values,y,test_size=0.30,stratify=y)"
      ],
      "execution_count": null,
      "outputs": []
    },
    {
      "cell_type": "code",
      "metadata": {
        "id": "Tq7cduMCLOLJ"
      },
      "source": [
        "smt=SMOTETomek(random_state=139,)\n",
        "X_train, y_train=smt.fit_resample(X_train,y_train)"
      ],
      "execution_count": null,
      "outputs": []
    },
    {
      "cell_type": "code",
      "metadata": {
        "id": "MNiEvTxLK6eJ"
      },
      "source": [
        "X_train,X_test,y_train,y_test=train_test_split(Xnew,y,test_size=0.30,stratify=y,random_state=465)"
      ],
      "execution_count": null,
      "outputs": []
    },
    {
      "cell_type": "code",
      "metadata": {
        "colab": {
          "base_uri": "https://localhost:8080/"
        },
        "id": "x-ujwZQKK6eJ",
        "outputId": "cb2ba2a6-d99a-4cca-baa6-9ce574f0433b"
      },
      "source": [
        "dt=DecisionTreeClassifier()\n",
        "dt.fit(X_train, y_train)"
      ],
      "execution_count": null,
      "outputs": [
        {
          "output_type": "execute_result",
          "data": {
            "text/plain": [
              "DecisionTreeClassifier(ccp_alpha=0.0, class_weight=None, criterion='gini',\n",
              "                       max_depth=None, max_features=None, max_leaf_nodes=None,\n",
              "                       min_impurity_decrease=0.0, min_impurity_split=None,\n",
              "                       min_samples_leaf=1, min_samples_split=2,\n",
              "                       min_weight_fraction_leaf=0.0, presort='deprecated',\n",
              "                       random_state=None, splitter='best')"
            ]
          },
          "metadata": {},
          "execution_count": 168
        }
      ]
    },
    {
      "cell_type": "code",
      "metadata": {
        "id": "FzgwoNaeK6eJ"
      },
      "source": [
        "y_trainpred=dt.predict(X_train)\n",
        "y_testpred=dt.predict(X_test)"
      ],
      "execution_count": null,
      "outputs": []
    },
    {
      "cell_type": "code",
      "metadata": {
        "colab": {
          "base_uri": "https://localhost:8080/"
        },
        "id": "2ameZCH7K6eK",
        "outputId": "2112319d-8b4e-4ce0-c21d-0d0d036dd0f7"
      },
      "source": [
        "print(classification_report(y_train,y_trainpred))"
      ],
      "execution_count": null,
      "outputs": [
        {
          "output_type": "stream",
          "name": "stdout",
          "text": [
            "              precision    recall  f1-score   support\n",
            "\n",
            "           0       1.00      1.00      1.00       863\n",
            "           1       1.00      1.00      1.00       166\n",
            "\n",
            "    accuracy                           1.00      1029\n",
            "   macro avg       1.00      1.00      1.00      1029\n",
            "weighted avg       1.00      1.00      1.00      1029\n",
            "\n"
          ]
        }
      ]
    },
    {
      "cell_type": "code",
      "metadata": {
        "colab": {
          "base_uri": "https://localhost:8080/"
        },
        "id": "oNbKdr6fK6eK",
        "outputId": "ae7b2e1c-0e1e-483d-a1d4-509130349339"
      },
      "source": [
        "print(classification_report(y_test,y_testpred))"
      ],
      "execution_count": null,
      "outputs": [
        {
          "output_type": "stream",
          "name": "stdout",
          "text": [
            "              precision    recall  f1-score   support\n",
            "\n",
            "           0       0.87      0.86      0.87       370\n",
            "           1       0.32      0.34      0.33        71\n",
            "\n",
            "    accuracy                           0.78       441\n",
            "   macro avg       0.60      0.60      0.60       441\n",
            "weighted avg       0.78      0.78      0.78       441\n",
            "\n"
          ]
        }
      ]
    },
    {
      "cell_type": "markdown",
      "metadata": {
        "id": "739zEy9zCzZv"
      },
      "source": [
        "# ***Saving the model which have given the best f1 score so far and the model is Decision tree the score is 71***"
      ]
    },
    {
      "cell_type": "markdown",
      "metadata": {
        "id": "X5bXPKdIBXt3"
      },
      "source": [
        "# **Model Saving**"
      ]
    },
    {
      "cell_type": "code",
      "metadata": {
        "colab": {
          "base_uri": "https://localhost:8080/"
        },
        "id": "i-Xz4lPqHiM1",
        "outputId": "2a41e361-c668-48c8-bc48-341e45ea9899"
      },
      "source": [
        "dtc=DecisionTreeClassifier(max_depth=10,max_features=19,class_weight={0:1,1:2},min_samples_leaf=8,min_samples_split=5)\n",
        "dtc.fit(X_train, y_train)"
      ],
      "execution_count": null,
      "outputs": [
        {
          "output_type": "execute_result",
          "data": {
            "text/plain": [
              "DecisionTreeClassifier(ccp_alpha=0.0, class_weight={0: 1, 1: 2},\n",
              "                       criterion='gini', max_depth=10, max_features=19,\n",
              "                       max_leaf_nodes=None, min_impurity_decrease=0.0,\n",
              "                       min_impurity_split=None, min_samples_leaf=8,\n",
              "                       min_samples_split=5, min_weight_fraction_leaf=0.0,\n",
              "                       presort='deprecated', random_state=None,\n",
              "                       splitter='best')"
            ]
          },
          "metadata": {},
          "execution_count": 54
        }
      ]
    },
    {
      "cell_type": "code",
      "metadata": {
        "id": "BjvF4vpLHiND"
      },
      "source": [
        "y_trainpred=dtc.predict(X_train)\n",
        "y_testpred=dtc.predict(X_test)"
      ],
      "execution_count": null,
      "outputs": []
    },
    {
      "cell_type": "code",
      "metadata": {
        "colab": {
          "base_uri": "https://localhost:8080/"
        },
        "id": "OMTAkto9HiND",
        "outputId": "e381bc86-0c66-4a21-d6c6-c8b09715dced"
      },
      "source": [
        "print(classification_report(y_test,y_testpred))"
      ],
      "execution_count": null,
      "outputs": [
        {
          "output_type": "stream",
          "name": "stdout",
          "text": [
            "              precision    recall  f1-score   support\n",
            "\n",
            "           0       0.94      0.84      0.89      7409\n",
            "           1       0.62      0.82      0.71      2352\n",
            "\n",
            "    accuracy                           0.83      9761\n",
            "   macro avg       0.78      0.83      0.80      9761\n",
            "weighted avg       0.86      0.83      0.84      9761\n",
            "\n"
          ]
        }
      ]
    },
    {
      "cell_type": "code",
      "metadata": {
        "colab": {
          "base_uri": "https://localhost:8080/"
        },
        "id": "petdzJRDkzim",
        "outputId": "da9425e2-ba5a-4c2e-85fa-a6ac0f98379b"
      },
      "source": [
        "import pickle\n",
        " \n",
        "# Save the trained model as a pickle string.\n",
        "saved_model = pickle.dumps(dtc)\n",
        " \n",
        "# Load the pickled model\n",
        "dtc_from_pickle = pickle.loads(saved_model)\n",
        " \n",
        "# Use the loaded pickled model to make predictions\n",
        "dtc_from_pickle.predict(X_test)"
      ],
      "execution_count": 116,
      "outputs": [
        {
          "output_type": "execute_result",
          "data": {
            "text/plain": [
              "array([0, 0, 0, ..., 0, 1, 1])"
            ]
          },
          "metadata": {},
          "execution_count": 116
        }
      ]
    },
    {
      "cell_type": "code",
      "metadata": {
        "id": "hNFa57fCkzed"
      },
      "source": [
        ""
      ],
      "execution_count": 67,
      "outputs": []
    },
    {
      "cell_type": "code",
      "metadata": {
        "id": "SyGdG90xkzaL"
      },
      "source": [
        ""
      ],
      "execution_count": 67,
      "outputs": []
    },
    {
      "cell_type": "code",
      "metadata": {
        "id": "mB36Vb47kzV5"
      },
      "source": [
        ""
      ],
      "execution_count": 67,
      "outputs": []
    },
    {
      "cell_type": "code",
      "metadata": {
        "id": "z9uS2aLqkzPb"
      },
      "source": [
        ""
      ],
      "execution_count": 67,
      "outputs": []
    },
    {
      "cell_type": "code",
      "metadata": {
        "id": "3TDOT77bBTTC"
      },
      "source": [
        ""
      ],
      "execution_count": null,
      "outputs": []
    }
  ]
}