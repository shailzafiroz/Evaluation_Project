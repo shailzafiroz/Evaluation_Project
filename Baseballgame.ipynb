{
  "nbformat": 4,
  "nbformat_minor": 0,
  "metadata": {
    "colab": {
      "name": "Baseballgame.ipynb",
      "provenance": [],
      "collapsed_sections": [
        "pDPBZ1qqKOyo",
        "GVqVoi36kaG3",
        "g9GA9BxmOICP"
      ]
    },
    "kernelspec": {
      "name": "python3",
      "display_name": "Python 3"
    },
    "language_info": {
      "name": "python"
    }
  },
  "cells": [
    {
      "cell_type": "code",
      "metadata": {
        "id": "AEhx_EbrjczC"
      },
      "source": [
        "import pandas as pd\n",
        "import numpy as np\n",
        "import seaborn as sns\n",
        "import matplotlib.pyplot as plt\n",
        "from sklearn.model_selection import train_test_split\n",
        "from sklearn.model_selection import GridSearchCV,cross_val_score\n",
        "from sklearn.preprocessing import MinMaxScaler, StandardScaler\n",
        "from sklearn.linear_model import LinearRegression ,Ridge\n",
        "from sklearn.metrics import r2_score,mean_squared_error\n",
        "from sklearn import svm\n",
        "from sklearn.tree import DecisionTreeRegressor\n",
        "import xgboost as xgb\n",
        "import warnings\n",
        "warnings.filterwarnings('ignore')"
      ],
      "execution_count": null,
      "outputs": []
    },
    {
      "cell_type": "code",
      "metadata": {
        "colab": {
          "base_uri": "https://localhost:8080/",
          "height": 979
        },
        "id": "cgPfx7N4j0Xh",
        "outputId": "55cdc81f-ca26-4bdd-d123-29b2b2d449fe"
      },
      "source": [
        "df=pd.read_csv(\"https://raw.githubusercontent.com/dsrscientist/Data-Science-ML-Capstone-Projects/master/baseball.csv\")\n",
        "df"
      ],
      "execution_count": null,
      "outputs": [
        {
          "output_type": "execute_result",
          "data": {
            "text/html": [
              "<div>\n",
              "<style scoped>\n",
              "    .dataframe tbody tr th:only-of-type {\n",
              "        vertical-align: middle;\n",
              "    }\n",
              "\n",
              "    .dataframe tbody tr th {\n",
              "        vertical-align: top;\n",
              "    }\n",
              "\n",
              "    .dataframe thead th {\n",
              "        text-align: right;\n",
              "    }\n",
              "</style>\n",
              "<table border=\"1\" class=\"dataframe\">\n",
              "  <thead>\n",
              "    <tr style=\"text-align: right;\">\n",
              "      <th></th>\n",
              "      <th>W</th>\n",
              "      <th>R</th>\n",
              "      <th>AB</th>\n",
              "      <th>H</th>\n",
              "      <th>2B</th>\n",
              "      <th>3B</th>\n",
              "      <th>HR</th>\n",
              "      <th>BB</th>\n",
              "      <th>SO</th>\n",
              "      <th>SB</th>\n",
              "      <th>RA</th>\n",
              "      <th>ER</th>\n",
              "      <th>ERA</th>\n",
              "      <th>CG</th>\n",
              "      <th>SHO</th>\n",
              "      <th>SV</th>\n",
              "      <th>E</th>\n",
              "    </tr>\n",
              "  </thead>\n",
              "  <tbody>\n",
              "    <tr>\n",
              "      <th>0</th>\n",
              "      <td>95</td>\n",
              "      <td>724</td>\n",
              "      <td>5575</td>\n",
              "      <td>1497</td>\n",
              "      <td>300</td>\n",
              "      <td>42</td>\n",
              "      <td>139</td>\n",
              "      <td>383</td>\n",
              "      <td>973</td>\n",
              "      <td>104</td>\n",
              "      <td>641</td>\n",
              "      <td>601</td>\n",
              "      <td>3.73</td>\n",
              "      <td>2</td>\n",
              "      <td>8</td>\n",
              "      <td>56</td>\n",
              "      <td>88</td>\n",
              "    </tr>\n",
              "    <tr>\n",
              "      <th>1</th>\n",
              "      <td>83</td>\n",
              "      <td>696</td>\n",
              "      <td>5467</td>\n",
              "      <td>1349</td>\n",
              "      <td>277</td>\n",
              "      <td>44</td>\n",
              "      <td>156</td>\n",
              "      <td>439</td>\n",
              "      <td>1264</td>\n",
              "      <td>70</td>\n",
              "      <td>700</td>\n",
              "      <td>653</td>\n",
              "      <td>4.07</td>\n",
              "      <td>2</td>\n",
              "      <td>12</td>\n",
              "      <td>45</td>\n",
              "      <td>86</td>\n",
              "    </tr>\n",
              "    <tr>\n",
              "      <th>2</th>\n",
              "      <td>81</td>\n",
              "      <td>669</td>\n",
              "      <td>5439</td>\n",
              "      <td>1395</td>\n",
              "      <td>303</td>\n",
              "      <td>29</td>\n",
              "      <td>141</td>\n",
              "      <td>533</td>\n",
              "      <td>1157</td>\n",
              "      <td>86</td>\n",
              "      <td>640</td>\n",
              "      <td>584</td>\n",
              "      <td>3.67</td>\n",
              "      <td>11</td>\n",
              "      <td>10</td>\n",
              "      <td>38</td>\n",
              "      <td>79</td>\n",
              "    </tr>\n",
              "    <tr>\n",
              "      <th>3</th>\n",
              "      <td>76</td>\n",
              "      <td>622</td>\n",
              "      <td>5533</td>\n",
              "      <td>1381</td>\n",
              "      <td>260</td>\n",
              "      <td>27</td>\n",
              "      <td>136</td>\n",
              "      <td>404</td>\n",
              "      <td>1231</td>\n",
              "      <td>68</td>\n",
              "      <td>701</td>\n",
              "      <td>643</td>\n",
              "      <td>3.98</td>\n",
              "      <td>7</td>\n",
              "      <td>9</td>\n",
              "      <td>37</td>\n",
              "      <td>101</td>\n",
              "    </tr>\n",
              "    <tr>\n",
              "      <th>4</th>\n",
              "      <td>74</td>\n",
              "      <td>689</td>\n",
              "      <td>5605</td>\n",
              "      <td>1515</td>\n",
              "      <td>289</td>\n",
              "      <td>49</td>\n",
              "      <td>151</td>\n",
              "      <td>455</td>\n",
              "      <td>1259</td>\n",
              "      <td>83</td>\n",
              "      <td>803</td>\n",
              "      <td>746</td>\n",
              "      <td>4.64</td>\n",
              "      <td>7</td>\n",
              "      <td>12</td>\n",
              "      <td>35</td>\n",
              "      <td>86</td>\n",
              "    </tr>\n",
              "    <tr>\n",
              "      <th>5</th>\n",
              "      <td>93</td>\n",
              "      <td>891</td>\n",
              "      <td>5509</td>\n",
              "      <td>1480</td>\n",
              "      <td>308</td>\n",
              "      <td>17</td>\n",
              "      <td>232</td>\n",
              "      <td>570</td>\n",
              "      <td>1151</td>\n",
              "      <td>88</td>\n",
              "      <td>670</td>\n",
              "      <td>609</td>\n",
              "      <td>3.80</td>\n",
              "      <td>7</td>\n",
              "      <td>10</td>\n",
              "      <td>34</td>\n",
              "      <td>88</td>\n",
              "    </tr>\n",
              "    <tr>\n",
              "      <th>6</th>\n",
              "      <td>87</td>\n",
              "      <td>764</td>\n",
              "      <td>5567</td>\n",
              "      <td>1397</td>\n",
              "      <td>272</td>\n",
              "      <td>19</td>\n",
              "      <td>212</td>\n",
              "      <td>554</td>\n",
              "      <td>1227</td>\n",
              "      <td>63</td>\n",
              "      <td>698</td>\n",
              "      <td>652</td>\n",
              "      <td>4.03</td>\n",
              "      <td>3</td>\n",
              "      <td>4</td>\n",
              "      <td>48</td>\n",
              "      <td>93</td>\n",
              "    </tr>\n",
              "    <tr>\n",
              "      <th>7</th>\n",
              "      <td>81</td>\n",
              "      <td>713</td>\n",
              "      <td>5485</td>\n",
              "      <td>1370</td>\n",
              "      <td>246</td>\n",
              "      <td>20</td>\n",
              "      <td>217</td>\n",
              "      <td>418</td>\n",
              "      <td>1331</td>\n",
              "      <td>44</td>\n",
              "      <td>693</td>\n",
              "      <td>646</td>\n",
              "      <td>4.05</td>\n",
              "      <td>0</td>\n",
              "      <td>10</td>\n",
              "      <td>43</td>\n",
              "      <td>77</td>\n",
              "    </tr>\n",
              "    <tr>\n",
              "      <th>8</th>\n",
              "      <td>80</td>\n",
              "      <td>644</td>\n",
              "      <td>5485</td>\n",
              "      <td>1383</td>\n",
              "      <td>278</td>\n",
              "      <td>32</td>\n",
              "      <td>167</td>\n",
              "      <td>436</td>\n",
              "      <td>1310</td>\n",
              "      <td>87</td>\n",
              "      <td>642</td>\n",
              "      <td>604</td>\n",
              "      <td>3.74</td>\n",
              "      <td>1</td>\n",
              "      <td>12</td>\n",
              "      <td>60</td>\n",
              "      <td>95</td>\n",
              "    </tr>\n",
              "    <tr>\n",
              "      <th>9</th>\n",
              "      <td>78</td>\n",
              "      <td>748</td>\n",
              "      <td>5640</td>\n",
              "      <td>1495</td>\n",
              "      <td>294</td>\n",
              "      <td>33</td>\n",
              "      <td>161</td>\n",
              "      <td>478</td>\n",
              "      <td>1148</td>\n",
              "      <td>71</td>\n",
              "      <td>753</td>\n",
              "      <td>694</td>\n",
              "      <td>4.31</td>\n",
              "      <td>3</td>\n",
              "      <td>10</td>\n",
              "      <td>40</td>\n",
              "      <td>97</td>\n",
              "    </tr>\n",
              "    <tr>\n",
              "      <th>10</th>\n",
              "      <td>88</td>\n",
              "      <td>751</td>\n",
              "      <td>5511</td>\n",
              "      <td>1419</td>\n",
              "      <td>279</td>\n",
              "      <td>32</td>\n",
              "      <td>172</td>\n",
              "      <td>503</td>\n",
              "      <td>1233</td>\n",
              "      <td>101</td>\n",
              "      <td>733</td>\n",
              "      <td>680</td>\n",
              "      <td>4.24</td>\n",
              "      <td>5</td>\n",
              "      <td>9</td>\n",
              "      <td>45</td>\n",
              "      <td>119</td>\n",
              "    </tr>\n",
              "    <tr>\n",
              "      <th>11</th>\n",
              "      <td>86</td>\n",
              "      <td>729</td>\n",
              "      <td>5459</td>\n",
              "      <td>1363</td>\n",
              "      <td>278</td>\n",
              "      <td>26</td>\n",
              "      <td>230</td>\n",
              "      <td>486</td>\n",
              "      <td>1392</td>\n",
              "      <td>121</td>\n",
              "      <td>618</td>\n",
              "      <td>572</td>\n",
              "      <td>3.57</td>\n",
              "      <td>5</td>\n",
              "      <td>13</td>\n",
              "      <td>39</td>\n",
              "      <td>85</td>\n",
              "    </tr>\n",
              "    <tr>\n",
              "      <th>12</th>\n",
              "      <td>85</td>\n",
              "      <td>661</td>\n",
              "      <td>5417</td>\n",
              "      <td>1331</td>\n",
              "      <td>243</td>\n",
              "      <td>21</td>\n",
              "      <td>176</td>\n",
              "      <td>435</td>\n",
              "      <td>1150</td>\n",
              "      <td>52</td>\n",
              "      <td>675</td>\n",
              "      <td>630</td>\n",
              "      <td>3.94</td>\n",
              "      <td>2</td>\n",
              "      <td>12</td>\n",
              "      <td>46</td>\n",
              "      <td>93</td>\n",
              "    </tr>\n",
              "    <tr>\n",
              "      <th>13</th>\n",
              "      <td>76</td>\n",
              "      <td>656</td>\n",
              "      <td>5544</td>\n",
              "      <td>1379</td>\n",
              "      <td>262</td>\n",
              "      <td>22</td>\n",
              "      <td>198</td>\n",
              "      <td>478</td>\n",
              "      <td>1336</td>\n",
              "      <td>69</td>\n",
              "      <td>726</td>\n",
              "      <td>677</td>\n",
              "      <td>4.16</td>\n",
              "      <td>6</td>\n",
              "      <td>12</td>\n",
              "      <td>45</td>\n",
              "      <td>94</td>\n",
              "    </tr>\n",
              "    <tr>\n",
              "      <th>14</th>\n",
              "      <td>68</td>\n",
              "      <td>694</td>\n",
              "      <td>5600</td>\n",
              "      <td>1405</td>\n",
              "      <td>277</td>\n",
              "      <td>46</td>\n",
              "      <td>146</td>\n",
              "      <td>475</td>\n",
              "      <td>1119</td>\n",
              "      <td>78</td>\n",
              "      <td>729</td>\n",
              "      <td>664</td>\n",
              "      <td>4.14</td>\n",
              "      <td>5</td>\n",
              "      <td>15</td>\n",
              "      <td>28</td>\n",
              "      <td>126</td>\n",
              "    </tr>\n",
              "    <tr>\n",
              "      <th>15</th>\n",
              "      <td>100</td>\n",
              "      <td>647</td>\n",
              "      <td>5484</td>\n",
              "      <td>1386</td>\n",
              "      <td>288</td>\n",
              "      <td>39</td>\n",
              "      <td>137</td>\n",
              "      <td>506</td>\n",
              "      <td>1267</td>\n",
              "      <td>69</td>\n",
              "      <td>525</td>\n",
              "      <td>478</td>\n",
              "      <td>2.94</td>\n",
              "      <td>1</td>\n",
              "      <td>15</td>\n",
              "      <td>62</td>\n",
              "      <td>96</td>\n",
              "    </tr>\n",
              "    <tr>\n",
              "      <th>16</th>\n",
              "      <td>98</td>\n",
              "      <td>697</td>\n",
              "      <td>5631</td>\n",
              "      <td>1462</td>\n",
              "      <td>292</td>\n",
              "      <td>27</td>\n",
              "      <td>140</td>\n",
              "      <td>461</td>\n",
              "      <td>1322</td>\n",
              "      <td>98</td>\n",
              "      <td>596</td>\n",
              "      <td>532</td>\n",
              "      <td>3.21</td>\n",
              "      <td>0</td>\n",
              "      <td>13</td>\n",
              "      <td>54</td>\n",
              "      <td>122</td>\n",
              "    </tr>\n",
              "    <tr>\n",
              "      <th>17</th>\n",
              "      <td>97</td>\n",
              "      <td>689</td>\n",
              "      <td>5491</td>\n",
              "      <td>1341</td>\n",
              "      <td>272</td>\n",
              "      <td>30</td>\n",
              "      <td>171</td>\n",
              "      <td>567</td>\n",
              "      <td>1518</td>\n",
              "      <td>95</td>\n",
              "      <td>608</td>\n",
              "      <td>546</td>\n",
              "      <td>3.36</td>\n",
              "      <td>6</td>\n",
              "      <td>21</td>\n",
              "      <td>48</td>\n",
              "      <td>111</td>\n",
              "    </tr>\n",
              "    <tr>\n",
              "      <th>18</th>\n",
              "      <td>68</td>\n",
              "      <td>655</td>\n",
              "      <td>5480</td>\n",
              "      <td>1378</td>\n",
              "      <td>274</td>\n",
              "      <td>34</td>\n",
              "      <td>145</td>\n",
              "      <td>412</td>\n",
              "      <td>1299</td>\n",
              "      <td>84</td>\n",
              "      <td>737</td>\n",
              "      <td>682</td>\n",
              "      <td>4.28</td>\n",
              "      <td>1</td>\n",
              "      <td>7</td>\n",
              "      <td>40</td>\n",
              "      <td>116</td>\n",
              "    </tr>\n",
              "    <tr>\n",
              "      <th>19</th>\n",
              "      <td>64</td>\n",
              "      <td>640</td>\n",
              "      <td>5571</td>\n",
              "      <td>1382</td>\n",
              "      <td>257</td>\n",
              "      <td>27</td>\n",
              "      <td>167</td>\n",
              "      <td>496</td>\n",
              "      <td>1255</td>\n",
              "      <td>134</td>\n",
              "      <td>754</td>\n",
              "      <td>700</td>\n",
              "      <td>4.33</td>\n",
              "      <td>2</td>\n",
              "      <td>8</td>\n",
              "      <td>35</td>\n",
              "      <td>90</td>\n",
              "    </tr>\n",
              "    <tr>\n",
              "      <th>20</th>\n",
              "      <td>90</td>\n",
              "      <td>683</td>\n",
              "      <td>5527</td>\n",
              "      <td>1351</td>\n",
              "      <td>295</td>\n",
              "      <td>17</td>\n",
              "      <td>177</td>\n",
              "      <td>488</td>\n",
              "      <td>1290</td>\n",
              "      <td>51</td>\n",
              "      <td>613</td>\n",
              "      <td>557</td>\n",
              "      <td>3.43</td>\n",
              "      <td>1</td>\n",
              "      <td>14</td>\n",
              "      <td>50</td>\n",
              "      <td>88</td>\n",
              "    </tr>\n",
              "    <tr>\n",
              "      <th>21</th>\n",
              "      <td>83</td>\n",
              "      <td>703</td>\n",
              "      <td>5428</td>\n",
              "      <td>1363</td>\n",
              "      <td>265</td>\n",
              "      <td>13</td>\n",
              "      <td>177</td>\n",
              "      <td>539</td>\n",
              "      <td>1344</td>\n",
              "      <td>57</td>\n",
              "      <td>635</td>\n",
              "      <td>577</td>\n",
              "      <td>3.62</td>\n",
              "      <td>4</td>\n",
              "      <td>13</td>\n",
              "      <td>41</td>\n",
              "      <td>90</td>\n",
              "    </tr>\n",
              "    <tr>\n",
              "      <th>22</th>\n",
              "      <td>71</td>\n",
              "      <td>613</td>\n",
              "      <td>5463</td>\n",
              "      <td>1420</td>\n",
              "      <td>236</td>\n",
              "      <td>40</td>\n",
              "      <td>120</td>\n",
              "      <td>375</td>\n",
              "      <td>1150</td>\n",
              "      <td>112</td>\n",
              "      <td>678</td>\n",
              "      <td>638</td>\n",
              "      <td>4.02</td>\n",
              "      <td>0</td>\n",
              "      <td>12</td>\n",
              "      <td>35</td>\n",
              "      <td>77</td>\n",
              "    </tr>\n",
              "    <tr>\n",
              "      <th>23</th>\n",
              "      <td>67</td>\n",
              "      <td>573</td>\n",
              "      <td>5420</td>\n",
              "      <td>1361</td>\n",
              "      <td>251</td>\n",
              "      <td>18</td>\n",
              "      <td>100</td>\n",
              "      <td>471</td>\n",
              "      <td>1107</td>\n",
              "      <td>69</td>\n",
              "      <td>760</td>\n",
              "      <td>698</td>\n",
              "      <td>4.41</td>\n",
              "      <td>3</td>\n",
              "      <td>10</td>\n",
              "      <td>44</td>\n",
              "      <td>90</td>\n",
              "    </tr>\n",
              "    <tr>\n",
              "      <th>24</th>\n",
              "      <td>63</td>\n",
              "      <td>626</td>\n",
              "      <td>5529</td>\n",
              "      <td>1374</td>\n",
              "      <td>272</td>\n",
              "      <td>37</td>\n",
              "      <td>130</td>\n",
              "      <td>387</td>\n",
              "      <td>1274</td>\n",
              "      <td>88</td>\n",
              "      <td>809</td>\n",
              "      <td>749</td>\n",
              "      <td>4.69</td>\n",
              "      <td>1</td>\n",
              "      <td>7</td>\n",
              "      <td>35</td>\n",
              "      <td>117</td>\n",
              "    </tr>\n",
              "    <tr>\n",
              "      <th>25</th>\n",
              "      <td>92</td>\n",
              "      <td>667</td>\n",
              "      <td>5385</td>\n",
              "      <td>1346</td>\n",
              "      <td>263</td>\n",
              "      <td>26</td>\n",
              "      <td>187</td>\n",
              "      <td>563</td>\n",
              "      <td>1258</td>\n",
              "      <td>59</td>\n",
              "      <td>595</td>\n",
              "      <td>553</td>\n",
              "      <td>3.44</td>\n",
              "      <td>6</td>\n",
              "      <td>21</td>\n",
              "      <td>47</td>\n",
              "      <td>75</td>\n",
              "    </tr>\n",
              "    <tr>\n",
              "      <th>26</th>\n",
              "      <td>84</td>\n",
              "      <td>696</td>\n",
              "      <td>5565</td>\n",
              "      <td>1486</td>\n",
              "      <td>288</td>\n",
              "      <td>39</td>\n",
              "      <td>136</td>\n",
              "      <td>457</td>\n",
              "      <td>1159</td>\n",
              "      <td>93</td>\n",
              "      <td>627</td>\n",
              "      <td>597</td>\n",
              "      <td>3.72</td>\n",
              "      <td>7</td>\n",
              "      <td>18</td>\n",
              "      <td>41</td>\n",
              "      <td>78</td>\n",
              "    </tr>\n",
              "    <tr>\n",
              "      <th>27</th>\n",
              "      <td>79</td>\n",
              "      <td>720</td>\n",
              "      <td>5649</td>\n",
              "      <td>1494</td>\n",
              "      <td>289</td>\n",
              "      <td>48</td>\n",
              "      <td>154</td>\n",
              "      <td>490</td>\n",
              "      <td>1312</td>\n",
              "      <td>132</td>\n",
              "      <td>713</td>\n",
              "      <td>659</td>\n",
              "      <td>4.04</td>\n",
              "      <td>1</td>\n",
              "      <td>12</td>\n",
              "      <td>44</td>\n",
              "      <td>86</td>\n",
              "    </tr>\n",
              "    <tr>\n",
              "      <th>28</th>\n",
              "      <td>74</td>\n",
              "      <td>650</td>\n",
              "      <td>5457</td>\n",
              "      <td>1324</td>\n",
              "      <td>260</td>\n",
              "      <td>36</td>\n",
              "      <td>148</td>\n",
              "      <td>426</td>\n",
              "      <td>1327</td>\n",
              "      <td>82</td>\n",
              "      <td>731</td>\n",
              "      <td>655</td>\n",
              "      <td>4.09</td>\n",
              "      <td>1</td>\n",
              "      <td>6</td>\n",
              "      <td>41</td>\n",
              "      <td>92</td>\n",
              "    </tr>\n",
              "    <tr>\n",
              "      <th>29</th>\n",
              "      <td>68</td>\n",
              "      <td>737</td>\n",
              "      <td>5572</td>\n",
              "      <td>1479</td>\n",
              "      <td>274</td>\n",
              "      <td>49</td>\n",
              "      <td>186</td>\n",
              "      <td>388</td>\n",
              "      <td>1283</td>\n",
              "      <td>97</td>\n",
              "      <td>844</td>\n",
              "      <td>799</td>\n",
              "      <td>5.04</td>\n",
              "      <td>4</td>\n",
              "      <td>4</td>\n",
              "      <td>36</td>\n",
              "      <td>95</td>\n",
              "    </tr>\n",
              "  </tbody>\n",
              "</table>\n",
              "</div>"
            ],
            "text/plain": [
              "      W    R    AB     H   2B  3B   HR  ...   RA   ER   ERA  CG  SHO  SV    E\n",
              "0    95  724  5575  1497  300  42  139  ...  641  601  3.73   2    8  56   88\n",
              "1    83  696  5467  1349  277  44  156  ...  700  653  4.07   2   12  45   86\n",
              "2    81  669  5439  1395  303  29  141  ...  640  584  3.67  11   10  38   79\n",
              "3    76  622  5533  1381  260  27  136  ...  701  643  3.98   7    9  37  101\n",
              "4    74  689  5605  1515  289  49  151  ...  803  746  4.64   7   12  35   86\n",
              "5    93  891  5509  1480  308  17  232  ...  670  609  3.80   7   10  34   88\n",
              "6    87  764  5567  1397  272  19  212  ...  698  652  4.03   3    4  48   93\n",
              "7    81  713  5485  1370  246  20  217  ...  693  646  4.05   0   10  43   77\n",
              "8    80  644  5485  1383  278  32  167  ...  642  604  3.74   1   12  60   95\n",
              "9    78  748  5640  1495  294  33  161  ...  753  694  4.31   3   10  40   97\n",
              "10   88  751  5511  1419  279  32  172  ...  733  680  4.24   5    9  45  119\n",
              "11   86  729  5459  1363  278  26  230  ...  618  572  3.57   5   13  39   85\n",
              "12   85  661  5417  1331  243  21  176  ...  675  630  3.94   2   12  46   93\n",
              "13   76  656  5544  1379  262  22  198  ...  726  677  4.16   6   12  45   94\n",
              "14   68  694  5600  1405  277  46  146  ...  729  664  4.14   5   15  28  126\n",
              "15  100  647  5484  1386  288  39  137  ...  525  478  2.94   1   15  62   96\n",
              "16   98  697  5631  1462  292  27  140  ...  596  532  3.21   0   13  54  122\n",
              "17   97  689  5491  1341  272  30  171  ...  608  546  3.36   6   21  48  111\n",
              "18   68  655  5480  1378  274  34  145  ...  737  682  4.28   1    7  40  116\n",
              "19   64  640  5571  1382  257  27  167  ...  754  700  4.33   2    8  35   90\n",
              "20   90  683  5527  1351  295  17  177  ...  613  557  3.43   1   14  50   88\n",
              "21   83  703  5428  1363  265  13  177  ...  635  577  3.62   4   13  41   90\n",
              "22   71  613  5463  1420  236  40  120  ...  678  638  4.02   0   12  35   77\n",
              "23   67  573  5420  1361  251  18  100  ...  760  698  4.41   3   10  44   90\n",
              "24   63  626  5529  1374  272  37  130  ...  809  749  4.69   1    7  35  117\n",
              "25   92  667  5385  1346  263  26  187  ...  595  553  3.44   6   21  47   75\n",
              "26   84  696  5565  1486  288  39  136  ...  627  597  3.72   7   18  41   78\n",
              "27   79  720  5649  1494  289  48  154  ...  713  659  4.04   1   12  44   86\n",
              "28   74  650  5457  1324  260  36  148  ...  731  655  4.09   1    6  41   92\n",
              "29   68  737  5572  1479  274  49  186  ...  844  799  5.04   4    4  36   95\n",
              "\n",
              "[30 rows x 17 columns]"
            ]
          },
          "metadata": {},
          "execution_count": 3
        }
      ]
    },
    {
      "cell_type": "code",
      "metadata": {
        "id": "IhCCRo9zkFSa"
      },
      "source": [
        "cols={'W':'Win', 'R':'Runs_scored', 'AB' : 'At_bat' , 'H' : 'hit', '2B' : 'Double', '3B':'Triple',\\\n",
        " 'HR':'Home_runs','BB':'Base_on_balls', 'SO': 'Strike_out','SB':'Stolen_base','RA':'Run_average','ER':'Earned_runs', 'ERA':'Earned_runs_average','CG':'Complete_game','SHO':'Shoutout','SV':'Save','E':'Errors'}"
      ],
      "execution_count": null,
      "outputs": []
    },
    {
      "cell_type": "code",
      "metadata": {
        "id": "ypJk3btOkE4b"
      },
      "source": [
        "df.rename(cols,axis=1,inplace=True)"
      ],
      "execution_count": null,
      "outputs": []
    },
    {
      "cell_type": "code",
      "metadata": {
        "colab": {
          "base_uri": "https://localhost:8080/",
          "height": 999
        },
        "id": "1a7NsipuorJj",
        "outputId": "8439a92c-cf5e-4d40-d9d3-a8ca2e25ea30"
      },
      "source": [
        "df"
      ],
      "execution_count": null,
      "outputs": [
        {
          "output_type": "execute_result",
          "data": {
            "text/html": [
              "<div>\n",
              "<style scoped>\n",
              "    .dataframe tbody tr th:only-of-type {\n",
              "        vertical-align: middle;\n",
              "    }\n",
              "\n",
              "    .dataframe tbody tr th {\n",
              "        vertical-align: top;\n",
              "    }\n",
              "\n",
              "    .dataframe thead th {\n",
              "        text-align: right;\n",
              "    }\n",
              "</style>\n",
              "<table border=\"1\" class=\"dataframe\">\n",
              "  <thead>\n",
              "    <tr style=\"text-align: right;\">\n",
              "      <th></th>\n",
              "      <th>Win</th>\n",
              "      <th>Runs_scored</th>\n",
              "      <th>At_bat</th>\n",
              "      <th>hit</th>\n",
              "      <th>Double</th>\n",
              "      <th>Triple</th>\n",
              "      <th>Home_runs</th>\n",
              "      <th>Base_on_balls</th>\n",
              "      <th>Strike_out</th>\n",
              "      <th>Stolen_base</th>\n",
              "      <th>Run_average</th>\n",
              "      <th>Earned_runs</th>\n",
              "      <th>Earned_runs_average</th>\n",
              "      <th>Complete_game</th>\n",
              "      <th>Shoutout</th>\n",
              "      <th>Save</th>\n",
              "      <th>Errors</th>\n",
              "    </tr>\n",
              "  </thead>\n",
              "  <tbody>\n",
              "    <tr>\n",
              "      <th>0</th>\n",
              "      <td>95</td>\n",
              "      <td>724</td>\n",
              "      <td>5575</td>\n",
              "      <td>1497</td>\n",
              "      <td>300</td>\n",
              "      <td>42</td>\n",
              "      <td>139</td>\n",
              "      <td>383</td>\n",
              "      <td>973</td>\n",
              "      <td>104</td>\n",
              "      <td>641</td>\n",
              "      <td>601</td>\n",
              "      <td>3.73</td>\n",
              "      <td>2</td>\n",
              "      <td>8</td>\n",
              "      <td>56</td>\n",
              "      <td>88</td>\n",
              "    </tr>\n",
              "    <tr>\n",
              "      <th>1</th>\n",
              "      <td>83</td>\n",
              "      <td>696</td>\n",
              "      <td>5467</td>\n",
              "      <td>1349</td>\n",
              "      <td>277</td>\n",
              "      <td>44</td>\n",
              "      <td>156</td>\n",
              "      <td>439</td>\n",
              "      <td>1264</td>\n",
              "      <td>70</td>\n",
              "      <td>700</td>\n",
              "      <td>653</td>\n",
              "      <td>4.07</td>\n",
              "      <td>2</td>\n",
              "      <td>12</td>\n",
              "      <td>45</td>\n",
              "      <td>86</td>\n",
              "    </tr>\n",
              "    <tr>\n",
              "      <th>2</th>\n",
              "      <td>81</td>\n",
              "      <td>669</td>\n",
              "      <td>5439</td>\n",
              "      <td>1395</td>\n",
              "      <td>303</td>\n",
              "      <td>29</td>\n",
              "      <td>141</td>\n",
              "      <td>533</td>\n",
              "      <td>1157</td>\n",
              "      <td>86</td>\n",
              "      <td>640</td>\n",
              "      <td>584</td>\n",
              "      <td>3.67</td>\n",
              "      <td>11</td>\n",
              "      <td>10</td>\n",
              "      <td>38</td>\n",
              "      <td>79</td>\n",
              "    </tr>\n",
              "    <tr>\n",
              "      <th>3</th>\n",
              "      <td>76</td>\n",
              "      <td>622</td>\n",
              "      <td>5533</td>\n",
              "      <td>1381</td>\n",
              "      <td>260</td>\n",
              "      <td>27</td>\n",
              "      <td>136</td>\n",
              "      <td>404</td>\n",
              "      <td>1231</td>\n",
              "      <td>68</td>\n",
              "      <td>701</td>\n",
              "      <td>643</td>\n",
              "      <td>3.98</td>\n",
              "      <td>7</td>\n",
              "      <td>9</td>\n",
              "      <td>37</td>\n",
              "      <td>101</td>\n",
              "    </tr>\n",
              "    <tr>\n",
              "      <th>4</th>\n",
              "      <td>74</td>\n",
              "      <td>689</td>\n",
              "      <td>5605</td>\n",
              "      <td>1515</td>\n",
              "      <td>289</td>\n",
              "      <td>49</td>\n",
              "      <td>151</td>\n",
              "      <td>455</td>\n",
              "      <td>1259</td>\n",
              "      <td>83</td>\n",
              "      <td>803</td>\n",
              "      <td>746</td>\n",
              "      <td>4.64</td>\n",
              "      <td>7</td>\n",
              "      <td>12</td>\n",
              "      <td>35</td>\n",
              "      <td>86</td>\n",
              "    </tr>\n",
              "    <tr>\n",
              "      <th>5</th>\n",
              "      <td>93</td>\n",
              "      <td>891</td>\n",
              "      <td>5509</td>\n",
              "      <td>1480</td>\n",
              "      <td>308</td>\n",
              "      <td>17</td>\n",
              "      <td>232</td>\n",
              "      <td>570</td>\n",
              "      <td>1151</td>\n",
              "      <td>88</td>\n",
              "      <td>670</td>\n",
              "      <td>609</td>\n",
              "      <td>3.80</td>\n",
              "      <td>7</td>\n",
              "      <td>10</td>\n",
              "      <td>34</td>\n",
              "      <td>88</td>\n",
              "    </tr>\n",
              "    <tr>\n",
              "      <th>6</th>\n",
              "      <td>87</td>\n",
              "      <td>764</td>\n",
              "      <td>5567</td>\n",
              "      <td>1397</td>\n",
              "      <td>272</td>\n",
              "      <td>19</td>\n",
              "      <td>212</td>\n",
              "      <td>554</td>\n",
              "      <td>1227</td>\n",
              "      <td>63</td>\n",
              "      <td>698</td>\n",
              "      <td>652</td>\n",
              "      <td>4.03</td>\n",
              "      <td>3</td>\n",
              "      <td>4</td>\n",
              "      <td>48</td>\n",
              "      <td>93</td>\n",
              "    </tr>\n",
              "    <tr>\n",
              "      <th>7</th>\n",
              "      <td>81</td>\n",
              "      <td>713</td>\n",
              "      <td>5485</td>\n",
              "      <td>1370</td>\n",
              "      <td>246</td>\n",
              "      <td>20</td>\n",
              "      <td>217</td>\n",
              "      <td>418</td>\n",
              "      <td>1331</td>\n",
              "      <td>44</td>\n",
              "      <td>693</td>\n",
              "      <td>646</td>\n",
              "      <td>4.05</td>\n",
              "      <td>0</td>\n",
              "      <td>10</td>\n",
              "      <td>43</td>\n",
              "      <td>77</td>\n",
              "    </tr>\n",
              "    <tr>\n",
              "      <th>8</th>\n",
              "      <td>80</td>\n",
              "      <td>644</td>\n",
              "      <td>5485</td>\n",
              "      <td>1383</td>\n",
              "      <td>278</td>\n",
              "      <td>32</td>\n",
              "      <td>167</td>\n",
              "      <td>436</td>\n",
              "      <td>1310</td>\n",
              "      <td>87</td>\n",
              "      <td>642</td>\n",
              "      <td>604</td>\n",
              "      <td>3.74</td>\n",
              "      <td>1</td>\n",
              "      <td>12</td>\n",
              "      <td>60</td>\n",
              "      <td>95</td>\n",
              "    </tr>\n",
              "    <tr>\n",
              "      <th>9</th>\n",
              "      <td>78</td>\n",
              "      <td>748</td>\n",
              "      <td>5640</td>\n",
              "      <td>1495</td>\n",
              "      <td>294</td>\n",
              "      <td>33</td>\n",
              "      <td>161</td>\n",
              "      <td>478</td>\n",
              "      <td>1148</td>\n",
              "      <td>71</td>\n",
              "      <td>753</td>\n",
              "      <td>694</td>\n",
              "      <td>4.31</td>\n",
              "      <td>3</td>\n",
              "      <td>10</td>\n",
              "      <td>40</td>\n",
              "      <td>97</td>\n",
              "    </tr>\n",
              "    <tr>\n",
              "      <th>10</th>\n",
              "      <td>88</td>\n",
              "      <td>751</td>\n",
              "      <td>5511</td>\n",
              "      <td>1419</td>\n",
              "      <td>279</td>\n",
              "      <td>32</td>\n",
              "      <td>172</td>\n",
              "      <td>503</td>\n",
              "      <td>1233</td>\n",
              "      <td>101</td>\n",
              "      <td>733</td>\n",
              "      <td>680</td>\n",
              "      <td>4.24</td>\n",
              "      <td>5</td>\n",
              "      <td>9</td>\n",
              "      <td>45</td>\n",
              "      <td>119</td>\n",
              "    </tr>\n",
              "    <tr>\n",
              "      <th>11</th>\n",
              "      <td>86</td>\n",
              "      <td>729</td>\n",
              "      <td>5459</td>\n",
              "      <td>1363</td>\n",
              "      <td>278</td>\n",
              "      <td>26</td>\n",
              "      <td>230</td>\n",
              "      <td>486</td>\n",
              "      <td>1392</td>\n",
              "      <td>121</td>\n",
              "      <td>618</td>\n",
              "      <td>572</td>\n",
              "      <td>3.57</td>\n",
              "      <td>5</td>\n",
              "      <td>13</td>\n",
              "      <td>39</td>\n",
              "      <td>85</td>\n",
              "    </tr>\n",
              "    <tr>\n",
              "      <th>12</th>\n",
              "      <td>85</td>\n",
              "      <td>661</td>\n",
              "      <td>5417</td>\n",
              "      <td>1331</td>\n",
              "      <td>243</td>\n",
              "      <td>21</td>\n",
              "      <td>176</td>\n",
              "      <td>435</td>\n",
              "      <td>1150</td>\n",
              "      <td>52</td>\n",
              "      <td>675</td>\n",
              "      <td>630</td>\n",
              "      <td>3.94</td>\n",
              "      <td>2</td>\n",
              "      <td>12</td>\n",
              "      <td>46</td>\n",
              "      <td>93</td>\n",
              "    </tr>\n",
              "    <tr>\n",
              "      <th>13</th>\n",
              "      <td>76</td>\n",
              "      <td>656</td>\n",
              "      <td>5544</td>\n",
              "      <td>1379</td>\n",
              "      <td>262</td>\n",
              "      <td>22</td>\n",
              "      <td>198</td>\n",
              "      <td>478</td>\n",
              "      <td>1336</td>\n",
              "      <td>69</td>\n",
              "      <td>726</td>\n",
              "      <td>677</td>\n",
              "      <td>4.16</td>\n",
              "      <td>6</td>\n",
              "      <td>12</td>\n",
              "      <td>45</td>\n",
              "      <td>94</td>\n",
              "    </tr>\n",
              "    <tr>\n",
              "      <th>14</th>\n",
              "      <td>68</td>\n",
              "      <td>694</td>\n",
              "      <td>5600</td>\n",
              "      <td>1405</td>\n",
              "      <td>277</td>\n",
              "      <td>46</td>\n",
              "      <td>146</td>\n",
              "      <td>475</td>\n",
              "      <td>1119</td>\n",
              "      <td>78</td>\n",
              "      <td>729</td>\n",
              "      <td>664</td>\n",
              "      <td>4.14</td>\n",
              "      <td>5</td>\n",
              "      <td>15</td>\n",
              "      <td>28</td>\n",
              "      <td>126</td>\n",
              "    </tr>\n",
              "    <tr>\n",
              "      <th>15</th>\n",
              "      <td>100</td>\n",
              "      <td>647</td>\n",
              "      <td>5484</td>\n",
              "      <td>1386</td>\n",
              "      <td>288</td>\n",
              "      <td>39</td>\n",
              "      <td>137</td>\n",
              "      <td>506</td>\n",
              "      <td>1267</td>\n",
              "      <td>69</td>\n",
              "      <td>525</td>\n",
              "      <td>478</td>\n",
              "      <td>2.94</td>\n",
              "      <td>1</td>\n",
              "      <td>15</td>\n",
              "      <td>62</td>\n",
              "      <td>96</td>\n",
              "    </tr>\n",
              "    <tr>\n",
              "      <th>16</th>\n",
              "      <td>98</td>\n",
              "      <td>697</td>\n",
              "      <td>5631</td>\n",
              "      <td>1462</td>\n",
              "      <td>292</td>\n",
              "      <td>27</td>\n",
              "      <td>140</td>\n",
              "      <td>461</td>\n",
              "      <td>1322</td>\n",
              "      <td>98</td>\n",
              "      <td>596</td>\n",
              "      <td>532</td>\n",
              "      <td>3.21</td>\n",
              "      <td>0</td>\n",
              "      <td>13</td>\n",
              "      <td>54</td>\n",
              "      <td>122</td>\n",
              "    </tr>\n",
              "    <tr>\n",
              "      <th>17</th>\n",
              "      <td>97</td>\n",
              "      <td>689</td>\n",
              "      <td>5491</td>\n",
              "      <td>1341</td>\n",
              "      <td>272</td>\n",
              "      <td>30</td>\n",
              "      <td>171</td>\n",
              "      <td>567</td>\n",
              "      <td>1518</td>\n",
              "      <td>95</td>\n",
              "      <td>608</td>\n",
              "      <td>546</td>\n",
              "      <td>3.36</td>\n",
              "      <td>6</td>\n",
              "      <td>21</td>\n",
              "      <td>48</td>\n",
              "      <td>111</td>\n",
              "    </tr>\n",
              "    <tr>\n",
              "      <th>18</th>\n",
              "      <td>68</td>\n",
              "      <td>655</td>\n",
              "      <td>5480</td>\n",
              "      <td>1378</td>\n",
              "      <td>274</td>\n",
              "      <td>34</td>\n",
              "      <td>145</td>\n",
              "      <td>412</td>\n",
              "      <td>1299</td>\n",
              "      <td>84</td>\n",
              "      <td>737</td>\n",
              "      <td>682</td>\n",
              "      <td>4.28</td>\n",
              "      <td>1</td>\n",
              "      <td>7</td>\n",
              "      <td>40</td>\n",
              "      <td>116</td>\n",
              "    </tr>\n",
              "    <tr>\n",
              "      <th>19</th>\n",
              "      <td>64</td>\n",
              "      <td>640</td>\n",
              "      <td>5571</td>\n",
              "      <td>1382</td>\n",
              "      <td>257</td>\n",
              "      <td>27</td>\n",
              "      <td>167</td>\n",
              "      <td>496</td>\n",
              "      <td>1255</td>\n",
              "      <td>134</td>\n",
              "      <td>754</td>\n",
              "      <td>700</td>\n",
              "      <td>4.33</td>\n",
              "      <td>2</td>\n",
              "      <td>8</td>\n",
              "      <td>35</td>\n",
              "      <td>90</td>\n",
              "    </tr>\n",
              "    <tr>\n",
              "      <th>20</th>\n",
              "      <td>90</td>\n",
              "      <td>683</td>\n",
              "      <td>5527</td>\n",
              "      <td>1351</td>\n",
              "      <td>295</td>\n",
              "      <td>17</td>\n",
              "      <td>177</td>\n",
              "      <td>488</td>\n",
              "      <td>1290</td>\n",
              "      <td>51</td>\n",
              "      <td>613</td>\n",
              "      <td>557</td>\n",
              "      <td>3.43</td>\n",
              "      <td>1</td>\n",
              "      <td>14</td>\n",
              "      <td>50</td>\n",
              "      <td>88</td>\n",
              "    </tr>\n",
              "    <tr>\n",
              "      <th>21</th>\n",
              "      <td>83</td>\n",
              "      <td>703</td>\n",
              "      <td>5428</td>\n",
              "      <td>1363</td>\n",
              "      <td>265</td>\n",
              "      <td>13</td>\n",
              "      <td>177</td>\n",
              "      <td>539</td>\n",
              "      <td>1344</td>\n",
              "      <td>57</td>\n",
              "      <td>635</td>\n",
              "      <td>577</td>\n",
              "      <td>3.62</td>\n",
              "      <td>4</td>\n",
              "      <td>13</td>\n",
              "      <td>41</td>\n",
              "      <td>90</td>\n",
              "    </tr>\n",
              "    <tr>\n",
              "      <th>22</th>\n",
              "      <td>71</td>\n",
              "      <td>613</td>\n",
              "      <td>5463</td>\n",
              "      <td>1420</td>\n",
              "      <td>236</td>\n",
              "      <td>40</td>\n",
              "      <td>120</td>\n",
              "      <td>375</td>\n",
              "      <td>1150</td>\n",
              "      <td>112</td>\n",
              "      <td>678</td>\n",
              "      <td>638</td>\n",
              "      <td>4.02</td>\n",
              "      <td>0</td>\n",
              "      <td>12</td>\n",
              "      <td>35</td>\n",
              "      <td>77</td>\n",
              "    </tr>\n",
              "    <tr>\n",
              "      <th>23</th>\n",
              "      <td>67</td>\n",
              "      <td>573</td>\n",
              "      <td>5420</td>\n",
              "      <td>1361</td>\n",
              "      <td>251</td>\n",
              "      <td>18</td>\n",
              "      <td>100</td>\n",
              "      <td>471</td>\n",
              "      <td>1107</td>\n",
              "      <td>69</td>\n",
              "      <td>760</td>\n",
              "      <td>698</td>\n",
              "      <td>4.41</td>\n",
              "      <td>3</td>\n",
              "      <td>10</td>\n",
              "      <td>44</td>\n",
              "      <td>90</td>\n",
              "    </tr>\n",
              "    <tr>\n",
              "      <th>24</th>\n",
              "      <td>63</td>\n",
              "      <td>626</td>\n",
              "      <td>5529</td>\n",
              "      <td>1374</td>\n",
              "      <td>272</td>\n",
              "      <td>37</td>\n",
              "      <td>130</td>\n",
              "      <td>387</td>\n",
              "      <td>1274</td>\n",
              "      <td>88</td>\n",
              "      <td>809</td>\n",
              "      <td>749</td>\n",
              "      <td>4.69</td>\n",
              "      <td>1</td>\n",
              "      <td>7</td>\n",
              "      <td>35</td>\n",
              "      <td>117</td>\n",
              "    </tr>\n",
              "    <tr>\n",
              "      <th>25</th>\n",
              "      <td>92</td>\n",
              "      <td>667</td>\n",
              "      <td>5385</td>\n",
              "      <td>1346</td>\n",
              "      <td>263</td>\n",
              "      <td>26</td>\n",
              "      <td>187</td>\n",
              "      <td>563</td>\n",
              "      <td>1258</td>\n",
              "      <td>59</td>\n",
              "      <td>595</td>\n",
              "      <td>553</td>\n",
              "      <td>3.44</td>\n",
              "      <td>6</td>\n",
              "      <td>21</td>\n",
              "      <td>47</td>\n",
              "      <td>75</td>\n",
              "    </tr>\n",
              "    <tr>\n",
              "      <th>26</th>\n",
              "      <td>84</td>\n",
              "      <td>696</td>\n",
              "      <td>5565</td>\n",
              "      <td>1486</td>\n",
              "      <td>288</td>\n",
              "      <td>39</td>\n",
              "      <td>136</td>\n",
              "      <td>457</td>\n",
              "      <td>1159</td>\n",
              "      <td>93</td>\n",
              "      <td>627</td>\n",
              "      <td>597</td>\n",
              "      <td>3.72</td>\n",
              "      <td>7</td>\n",
              "      <td>18</td>\n",
              "      <td>41</td>\n",
              "      <td>78</td>\n",
              "    </tr>\n",
              "    <tr>\n",
              "      <th>27</th>\n",
              "      <td>79</td>\n",
              "      <td>720</td>\n",
              "      <td>5649</td>\n",
              "      <td>1494</td>\n",
              "      <td>289</td>\n",
              "      <td>48</td>\n",
              "      <td>154</td>\n",
              "      <td>490</td>\n",
              "      <td>1312</td>\n",
              "      <td>132</td>\n",
              "      <td>713</td>\n",
              "      <td>659</td>\n",
              "      <td>4.04</td>\n",
              "      <td>1</td>\n",
              "      <td>12</td>\n",
              "      <td>44</td>\n",
              "      <td>86</td>\n",
              "    </tr>\n",
              "    <tr>\n",
              "      <th>28</th>\n",
              "      <td>74</td>\n",
              "      <td>650</td>\n",
              "      <td>5457</td>\n",
              "      <td>1324</td>\n",
              "      <td>260</td>\n",
              "      <td>36</td>\n",
              "      <td>148</td>\n",
              "      <td>426</td>\n",
              "      <td>1327</td>\n",
              "      <td>82</td>\n",
              "      <td>731</td>\n",
              "      <td>655</td>\n",
              "      <td>4.09</td>\n",
              "      <td>1</td>\n",
              "      <td>6</td>\n",
              "      <td>41</td>\n",
              "      <td>92</td>\n",
              "    </tr>\n",
              "    <tr>\n",
              "      <th>29</th>\n",
              "      <td>68</td>\n",
              "      <td>737</td>\n",
              "      <td>5572</td>\n",
              "      <td>1479</td>\n",
              "      <td>274</td>\n",
              "      <td>49</td>\n",
              "      <td>186</td>\n",
              "      <td>388</td>\n",
              "      <td>1283</td>\n",
              "      <td>97</td>\n",
              "      <td>844</td>\n",
              "      <td>799</td>\n",
              "      <td>5.04</td>\n",
              "      <td>4</td>\n",
              "      <td>4</td>\n",
              "      <td>36</td>\n",
              "      <td>95</td>\n",
              "    </tr>\n",
              "  </tbody>\n",
              "</table>\n",
              "</div>"
            ],
            "text/plain": [
              "    Win  Runs_scored  At_bat   hit  ...  Complete_game  Shoutout  Save  Errors\n",
              "0    95          724    5575  1497  ...              2         8    56      88\n",
              "1    83          696    5467  1349  ...              2        12    45      86\n",
              "2    81          669    5439  1395  ...             11        10    38      79\n",
              "3    76          622    5533  1381  ...              7         9    37     101\n",
              "4    74          689    5605  1515  ...              7        12    35      86\n",
              "5    93          891    5509  1480  ...              7        10    34      88\n",
              "6    87          764    5567  1397  ...              3         4    48      93\n",
              "7    81          713    5485  1370  ...              0        10    43      77\n",
              "8    80          644    5485  1383  ...              1        12    60      95\n",
              "9    78          748    5640  1495  ...              3        10    40      97\n",
              "10   88          751    5511  1419  ...              5         9    45     119\n",
              "11   86          729    5459  1363  ...              5        13    39      85\n",
              "12   85          661    5417  1331  ...              2        12    46      93\n",
              "13   76          656    5544  1379  ...              6        12    45      94\n",
              "14   68          694    5600  1405  ...              5        15    28     126\n",
              "15  100          647    5484  1386  ...              1        15    62      96\n",
              "16   98          697    5631  1462  ...              0        13    54     122\n",
              "17   97          689    5491  1341  ...              6        21    48     111\n",
              "18   68          655    5480  1378  ...              1         7    40     116\n",
              "19   64          640    5571  1382  ...              2         8    35      90\n",
              "20   90          683    5527  1351  ...              1        14    50      88\n",
              "21   83          703    5428  1363  ...              4        13    41      90\n",
              "22   71          613    5463  1420  ...              0        12    35      77\n",
              "23   67          573    5420  1361  ...              3        10    44      90\n",
              "24   63          626    5529  1374  ...              1         7    35     117\n",
              "25   92          667    5385  1346  ...              6        21    47      75\n",
              "26   84          696    5565  1486  ...              7        18    41      78\n",
              "27   79          720    5649  1494  ...              1        12    44      86\n",
              "28   74          650    5457  1324  ...              1         6    41      92\n",
              "29   68          737    5572  1479  ...              4         4    36      95\n",
              "\n",
              "[30 rows x 17 columns]"
            ]
          },
          "metadata": {},
          "execution_count": 6
        }
      ]
    },
    {
      "cell_type": "code",
      "metadata": {
        "colab": {
          "base_uri": "https://localhost:8080/"
        },
        "id": "KrDRPoydccTC",
        "outputId": "4ce3717d-cb2c-42ca-c542-76d4daf58d63"
      },
      "source": [
        "df.shape"
      ],
      "execution_count": null,
      "outputs": [
        {
          "output_type": "execute_result",
          "data": {
            "text/plain": [
              "(30, 17)"
            ]
          },
          "metadata": {},
          "execution_count": 7
        }
      ]
    },
    {
      "cell_type": "markdown",
      "metadata": {
        "id": "l0aAOufvyn1I"
      },
      "source": [
        "# **PRIMARY INSPECTION**"
      ]
    },
    {
      "cell_type": "code",
      "metadata": {
        "colab": {
          "base_uri": "https://localhost:8080/",
          "height": 317
        },
        "id": "wBoVLdWBpLTk",
        "outputId": "7321fb95-5cc1-4298-fb02-b1e5edd9aa0e"
      },
      "source": [
        "df.describe()"
      ],
      "execution_count": null,
      "outputs": [
        {
          "output_type": "execute_result",
          "data": {
            "text/html": [
              "<div>\n",
              "<style scoped>\n",
              "    .dataframe tbody tr th:only-of-type {\n",
              "        vertical-align: middle;\n",
              "    }\n",
              "\n",
              "    .dataframe tbody tr th {\n",
              "        vertical-align: top;\n",
              "    }\n",
              "\n",
              "    .dataframe thead th {\n",
              "        text-align: right;\n",
              "    }\n",
              "</style>\n",
              "<table border=\"1\" class=\"dataframe\">\n",
              "  <thead>\n",
              "    <tr style=\"text-align: right;\">\n",
              "      <th></th>\n",
              "      <th>Win</th>\n",
              "      <th>Runs_scored</th>\n",
              "      <th>At_bat</th>\n",
              "      <th>hit</th>\n",
              "      <th>Double</th>\n",
              "      <th>Triple</th>\n",
              "      <th>Home_runs</th>\n",
              "      <th>Base_on_balls</th>\n",
              "      <th>Strike_out</th>\n",
              "      <th>Stolen_base</th>\n",
              "      <th>Run_average</th>\n",
              "      <th>Earned_runs</th>\n",
              "      <th>Earned_runs_average</th>\n",
              "      <th>Complete_game</th>\n",
              "      <th>Shoutout</th>\n",
              "      <th>Save</th>\n",
              "      <th>Errors</th>\n",
              "    </tr>\n",
              "  </thead>\n",
              "  <tbody>\n",
              "    <tr>\n",
              "      <th>count</th>\n",
              "      <td>30.000000</td>\n",
              "      <td>30.000000</td>\n",
              "      <td>30.000000</td>\n",
              "      <td>30.000000</td>\n",
              "      <td>30.000000</td>\n",
              "      <td>30.000000</td>\n",
              "      <td>30.000000</td>\n",
              "      <td>30.000000</td>\n",
              "      <td>30.00000</td>\n",
              "      <td>30.000000</td>\n",
              "      <td>30.000000</td>\n",
              "      <td>30.000000</td>\n",
              "      <td>30.000000</td>\n",
              "      <td>30.000000</td>\n",
              "      <td>30.000000</td>\n",
              "      <td>30.000000</td>\n",
              "      <td>30.000000</td>\n",
              "    </tr>\n",
              "    <tr>\n",
              "      <th>mean</th>\n",
              "      <td>80.966667</td>\n",
              "      <td>688.233333</td>\n",
              "      <td>5516.266667</td>\n",
              "      <td>1403.533333</td>\n",
              "      <td>274.733333</td>\n",
              "      <td>31.300000</td>\n",
              "      <td>163.633333</td>\n",
              "      <td>469.100000</td>\n",
              "      <td>1248.20000</td>\n",
              "      <td>83.500000</td>\n",
              "      <td>688.233333</td>\n",
              "      <td>635.833333</td>\n",
              "      <td>3.956333</td>\n",
              "      <td>3.466667</td>\n",
              "      <td>11.300000</td>\n",
              "      <td>43.066667</td>\n",
              "      <td>94.333333</td>\n",
              "    </tr>\n",
              "    <tr>\n",
              "      <th>std</th>\n",
              "      <td>10.453455</td>\n",
              "      <td>58.761754</td>\n",
              "      <td>70.467372</td>\n",
              "      <td>57.140923</td>\n",
              "      <td>18.095405</td>\n",
              "      <td>10.452355</td>\n",
              "      <td>31.823309</td>\n",
              "      <td>57.053725</td>\n",
              "      <td>103.75947</td>\n",
              "      <td>22.815225</td>\n",
              "      <td>72.108005</td>\n",
              "      <td>70.140786</td>\n",
              "      <td>0.454089</td>\n",
              "      <td>2.763473</td>\n",
              "      <td>4.120177</td>\n",
              "      <td>7.869335</td>\n",
              "      <td>13.958889</td>\n",
              "    </tr>\n",
              "    <tr>\n",
              "      <th>min</th>\n",
              "      <td>63.000000</td>\n",
              "      <td>573.000000</td>\n",
              "      <td>5385.000000</td>\n",
              "      <td>1324.000000</td>\n",
              "      <td>236.000000</td>\n",
              "      <td>13.000000</td>\n",
              "      <td>100.000000</td>\n",
              "      <td>375.000000</td>\n",
              "      <td>973.00000</td>\n",
              "      <td>44.000000</td>\n",
              "      <td>525.000000</td>\n",
              "      <td>478.000000</td>\n",
              "      <td>2.940000</td>\n",
              "      <td>0.000000</td>\n",
              "      <td>4.000000</td>\n",
              "      <td>28.000000</td>\n",
              "      <td>75.000000</td>\n",
              "    </tr>\n",
              "    <tr>\n",
              "      <th>25%</th>\n",
              "      <td>74.000000</td>\n",
              "      <td>651.250000</td>\n",
              "      <td>5464.000000</td>\n",
              "      <td>1363.000000</td>\n",
              "      <td>262.250000</td>\n",
              "      <td>23.000000</td>\n",
              "      <td>140.250000</td>\n",
              "      <td>428.250000</td>\n",
              "      <td>1157.50000</td>\n",
              "      <td>69.000000</td>\n",
              "      <td>636.250000</td>\n",
              "      <td>587.250000</td>\n",
              "      <td>3.682500</td>\n",
              "      <td>1.000000</td>\n",
              "      <td>9.000000</td>\n",
              "      <td>37.250000</td>\n",
              "      <td>86.000000</td>\n",
              "    </tr>\n",
              "    <tr>\n",
              "      <th>50%</th>\n",
              "      <td>81.000000</td>\n",
              "      <td>689.000000</td>\n",
              "      <td>5510.000000</td>\n",
              "      <td>1382.500000</td>\n",
              "      <td>275.500000</td>\n",
              "      <td>31.000000</td>\n",
              "      <td>158.500000</td>\n",
              "      <td>473.000000</td>\n",
              "      <td>1261.50000</td>\n",
              "      <td>83.500000</td>\n",
              "      <td>695.500000</td>\n",
              "      <td>644.500000</td>\n",
              "      <td>4.025000</td>\n",
              "      <td>3.000000</td>\n",
              "      <td>12.000000</td>\n",
              "      <td>42.000000</td>\n",
              "      <td>91.000000</td>\n",
              "    </tr>\n",
              "    <tr>\n",
              "      <th>75%</th>\n",
              "      <td>87.750000</td>\n",
              "      <td>718.250000</td>\n",
              "      <td>5570.000000</td>\n",
              "      <td>1451.500000</td>\n",
              "      <td>288.750000</td>\n",
              "      <td>39.000000</td>\n",
              "      <td>177.000000</td>\n",
              "      <td>501.250000</td>\n",
              "      <td>1311.50000</td>\n",
              "      <td>96.500000</td>\n",
              "      <td>732.500000</td>\n",
              "      <td>679.250000</td>\n",
              "      <td>4.220000</td>\n",
              "      <td>5.750000</td>\n",
              "      <td>13.000000</td>\n",
              "      <td>46.750000</td>\n",
              "      <td>96.750000</td>\n",
              "    </tr>\n",
              "    <tr>\n",
              "      <th>max</th>\n",
              "      <td>100.000000</td>\n",
              "      <td>891.000000</td>\n",
              "      <td>5649.000000</td>\n",
              "      <td>1515.000000</td>\n",
              "      <td>308.000000</td>\n",
              "      <td>49.000000</td>\n",
              "      <td>232.000000</td>\n",
              "      <td>570.000000</td>\n",
              "      <td>1518.00000</td>\n",
              "      <td>134.000000</td>\n",
              "      <td>844.000000</td>\n",
              "      <td>799.000000</td>\n",
              "      <td>5.040000</td>\n",
              "      <td>11.000000</td>\n",
              "      <td>21.000000</td>\n",
              "      <td>62.000000</td>\n",
              "      <td>126.000000</td>\n",
              "    </tr>\n",
              "  </tbody>\n",
              "</table>\n",
              "</div>"
            ],
            "text/plain": [
              "              Win  Runs_scored       At_bat  ...   Shoutout       Save      Errors\n",
              "count   30.000000    30.000000    30.000000  ...  30.000000  30.000000   30.000000\n",
              "mean    80.966667   688.233333  5516.266667  ...  11.300000  43.066667   94.333333\n",
              "std     10.453455    58.761754    70.467372  ...   4.120177   7.869335   13.958889\n",
              "min     63.000000   573.000000  5385.000000  ...   4.000000  28.000000   75.000000\n",
              "25%     74.000000   651.250000  5464.000000  ...   9.000000  37.250000   86.000000\n",
              "50%     81.000000   689.000000  5510.000000  ...  12.000000  42.000000   91.000000\n",
              "75%     87.750000   718.250000  5570.000000  ...  13.000000  46.750000   96.750000\n",
              "max    100.000000   891.000000  5649.000000  ...  21.000000  62.000000  126.000000\n",
              "\n",
              "[8 rows x 17 columns]"
            ]
          },
          "metadata": {},
          "execution_count": 8
        }
      ]
    },
    {
      "cell_type": "markdown",
      "metadata": {
        "id": "tr7r2z7vEoRd"
      },
      "source": [
        "Using Describe method we have identify that mean and median have very less difference between each other so it means that the data (columns) are not skewed  That is : Our data is normally distributed"
      ]
    },
    {
      "cell_type": "markdown",
      "metadata": {
        "id": "a6qtNsPrxeHJ"
      },
      "source": [
        "**Observations:**\n",
        "\n",
        "1.  All the columns are numerical *values*\n",
        "   \n",
        "\n",
        "\n",
        "\n",
        "\n"
      ]
    },
    {
      "cell_type": "code",
      "metadata": {
        "colab": {
          "base_uri": "https://localhost:8080/"
        },
        "id": "A8aKzuFPpLK-",
        "outputId": "76668506-8708-42e7-bea6-44e6ff915983"
      },
      "source": [
        "df.info()"
      ],
      "execution_count": null,
      "outputs": [
        {
          "output_type": "stream",
          "name": "stdout",
          "text": [
            "<class 'pandas.core.frame.DataFrame'>\n",
            "RangeIndex: 30 entries, 0 to 29\n",
            "Data columns (total 17 columns):\n",
            " #   Column               Non-Null Count  Dtype  \n",
            "---  ------               --------------  -----  \n",
            " 0   Win                  30 non-null     int64  \n",
            " 1   Runs_scored          30 non-null     int64  \n",
            " 2   At_bat               30 non-null     int64  \n",
            " 3   hit                  30 non-null     int64  \n",
            " 4   Double               30 non-null     int64  \n",
            " 5   Triple               30 non-null     int64  \n",
            " 6   Home_runs            30 non-null     int64  \n",
            " 7   Base_on_balls        30 non-null     int64  \n",
            " 8   Strike_out           30 non-null     int64  \n",
            " 9   Stolen_base          30 non-null     int64  \n",
            " 10  Run_average          30 non-null     int64  \n",
            " 11  Earned_runs          30 non-null     int64  \n",
            " 12  Earned_runs_average  30 non-null     float64\n",
            " 13  Complete_game        30 non-null     int64  \n",
            " 14  Shoutout             30 non-null     int64  \n",
            " 15  Save                 30 non-null     int64  \n",
            " 16  Errors               30 non-null     int64  \n",
            "dtypes: float64(1), int64(16)\n",
            "memory usage: 4.1 KB\n"
          ]
        }
      ]
    },
    {
      "cell_type": "markdown",
      "metadata": {
        "id": "HsqDvHwpyHQq"
      },
      "source": [
        "**Observation**\n",
        "\n",
        "2.   There are no string values and none of the columns has any missing values\n",
        "\n",
        "\n"
      ]
    },
    {
      "cell_type": "code",
      "metadata": {
        "colab": {
          "base_uri": "https://localhost:8080/"
        },
        "id": "bLZGyY9epLAU",
        "outputId": "e76ff903-742b-40fa-8273-01a29220b57b"
      },
      "source": [
        "#checking for nulls\n",
        "df.isnull().sum()"
      ],
      "execution_count": null,
      "outputs": [
        {
          "output_type": "execute_result",
          "data": {
            "text/plain": [
              "Win                    0\n",
              "Runs_scored            0\n",
              "At_bat                 0\n",
              "hit                    0\n",
              "Double                 0\n",
              "Triple                 0\n",
              "Home_runs              0\n",
              "Base_on_balls          0\n",
              "Strike_out             0\n",
              "Stolen_base            0\n",
              "Run_average            0\n",
              "Earned_runs            0\n",
              "Earned_runs_average    0\n",
              "Complete_game          0\n",
              "Shoutout               0\n",
              "Save                   0\n",
              "Errors                 0\n",
              "dtype: int64"
            ]
          },
          "metadata": {},
          "execution_count": 10
        }
      ]
    },
    {
      "cell_type": "markdown",
      "metadata": {
        "id": "JNCNrunOyxUM"
      },
      "source": [
        "# **2.EDA**"
      ]
    },
    {
      "cell_type": "code",
      "metadata": {
        "colab": {
          "base_uri": "https://localhost:8080/",
          "height": 1000
        },
        "id": "e6EYmAlg6_sB",
        "outputId": "3c2b75d8-fca6-4538-db9b-2c1f239b3fc6"
      },
      "source": [
        "# first trying with Histplot\n",
        "for i in df.columns:\n",
        "  sns.histplot(df[i])\n",
        "  plt.show()"
      ],
      "execution_count": null,
      "outputs": [
        {
          "output_type": "display_data",
          "data": {
            "image/png": "[encoded data removed]",
            "text/plain": [
              "<Figure size 432x288 with 1 Axes>"
            ]
          },
          "metadata": {
            "needs_background": "light"
          }
        },
        {
          "output_type": "display_data",
          "data": {
            "image/png": "[encoded data removed]",
            "text/plain": [
              "<Figure size 432x288 with 1 Axes>"
            ]
          },
          "metadata": {
            "needs_background": "light"
          }
        },
        {
          "output_type": "display_data",
          "data": {
            "image/png": "[encoded data removed]",
            "text/plain": [
              "<Figure size 432x288 with 1 Axes>"
            ]
          },
          "metadata": {
            "needs_background": "light"
          }
        },
        {
          "output_type": "display_data",
          "data": {
            "image/png": "[encoded data removed]",
            "text/plain": [
              "<Figure size 432x288 with 1 Axes>"
            ]
          },
          "metadata": {
            "needs_background": "light"
          }
        },
        {
          "output_type": "display_data",
          "data": {
            "image/png": "[encoded data removed]",
            "text/plain": [
              "<Figure size 432x288 with 1 Axes>"
            ]
          },
          "metadata": {
            "needs_background": "light"
          }
        },
        {
          "output_type": "display_data",
          "data": {
            "image/png": "[encoded data removed]",
            "text/plain": [
              "<Figure size 432x288 with 1 Axes>"
            ]
          },
          "metadata": {
            "needs_background": "light"
          }
        },
        {
          "output_type": "display_data",
          "data": {
            "image/png": "[encoded data removed]",
            "text/plain": [
              "<Figure size 432x288 with 1 Axes>"
            ]
          },
          "metadata": {
            "needs_background": "light"
          }
        },
        {
          "output_type": "display_data",
          "data": {
            "image/png": "[encoded data removed]",
            "text/plain": [
              "<Figure size 432x288 with 1 Axes>"
            ]
          },
          "metadata": {
            "needs_background": "light"
          }
        },
        {
          "output_type": "display_data",
          "data": {
            "image/png": "[encoded data removed]",
            "text/plain": [
              "<Figure size 432x288 with 1 Axes>"
            ]
          },
          "metadata": {
            "needs_background": "light"
          }
        },
        {
          "output_type": "display_data",
          "data": {
            "image/png": "[encoded data removed]",
            "text/plain": [
              "<Figure size 432x288 with 1 Axes>"
            ]
          },
          "metadata": {
            "needs_background": "light"
          }
        },
        {
          "output_type": "display_data",
          "data": {
            "image/png": "[encoded data removed]",
            "text/plain": [
              "<Figure size 432x288 with 1 Axes>"
            ]
          },
          "metadata": {
            "needs_background": "light"
          }
        },
        {
          "output_type": "display_data",
          "data": {
            "image/png": "[encoded data removed]",
            "text/plain": [
              "<Figure size 432x288 with 1 Axes>"
            ]
          },
          "metadata": {
            "needs_background": "light"
          }
        },
        {
          "output_type": "display_data",
          "data": {
            "image/png": "[encoded data removed]",
            "text/plain": [
              "<Figure size 432x288 with 1 Axes>"
            ]
          },
          "metadata": {
            "needs_background": "light"
          }
        },
        {
          "output_type": "display_data",
          "data": {
            "image/png": "[encoded data removed]",
            "text/plain": [
              "<Figure size 432x288 with 1 Axes>"
            ]
          },
          "metadata": {
            "needs_background": "light"
          }
        },
        {
          "output_type": "display_data",
          "data": {
            "image/png": "[encoded data removed]",
            "text/plain": [
              "<Figure size 432x288 with 1 Axes>"
            ]
          },
          "metadata": {
            "needs_background": "light"
          }
        },
        {
          "output_type": "display_data",
          "data": {
            "image/png": "[encoded data removed]",
            "text/plain": [
              "<Figure size 432x288 with 1 Axes>"
            ]
          },
          "metadata": {
            "needs_background": "light"
          }
        },
        {
          "output_type": "display_data",
          "data": {
            "image/png": "[encoded data removed]",
            "text/plain": [
              "<Figure size 432x288 with 1 Axes>"
            ]
          },
          "metadata": {
            "needs_background": "light"
          }
        }
      ]
    },
    {
      "cell_type": "code",
      "metadata": {
        "colab": {
          "base_uri": "https://localhost:8080/",
          "height": 1000
        },
        "id": "BEg6tZCcC78g",
        "outputId": "b51dd033-a448-4ee0-a205-836c5ee2cbf4"
      },
      "source": [
        "# Now trying with  scatterplot\n",
        "for i in df.columns:\n",
        "  sns.scatterplot(x=df[i],y=df['Win'])\n",
        "  plt.show()"
      ],
      "execution_count": null,
      "outputs": [
        {
          "output_type": "display_data",
          "data": {
            "image/png": "[encoded data removed]",
            "text/plain": [
              "<Figure size 432x288 with 1 Axes>"
            ]
          },
          "metadata": {
            "needs_background": "light"
          }
        },
        {
          "output_type": "display_data",
          "data": {
            "image/png": "[encoded data removed]",
            "text/plain": [
              "<Figure size 432x288 with 1 Axes>"
            ]
          },
          "metadata": {
            "needs_background": "light"
          }
        },
        {
          "output_type": "display_data",
          "data": {
            "image/png": "[encoded data removed]",
            "text/plain": [
              "<Figure size 432x288 with 1 Axes>"
            ]
          },
          "metadata": {
            "needs_background": "light"
          }
        },
        {
          "output_type": "display_data",
          "data": {
            "image/png": "[encoded data removed]",
            "text/plain": [
              "<Figure size 432x288 with 1 Axes>"
            ]
          },
          "metadata": {
            "needs_background": "light"
          }
        },
        {
          "output_type": "display_data",
          "data": {
            "image/png": "[encoded data removed]",
            "text/plain": [
              "<Figure size 432x288 with 1 Axes>"
            ]
          },
          "metadata": {
            "needs_background": "light"
          }
        },
        {
          "output_type": "display_data",
          "data": {
            "image/png": "[encoded data removed]",
            "text/plain": [
              "<Figure size 432x288 with 1 Axes>"
            ]
          },
          "metadata": {
            "needs_background": "light"
          }
        },
        {
          "output_type": "display_data",
          "data": {
            "image/png": "[encoded data removed]",
            "text/plain": [
              "<Figure size 432x288 with 1 Axes>"
            ]
          },
          "metadata": {
            "needs_background": "light"
          }
        },
        {
          "output_type": "display_data",
          "data": {
            "image/png": "[encoded data removed]",
            "text/plain": [
              "<Figure size 432x288 with 1 Axes>"
            ]
          },
          "metadata": {
            "needs_background": "light"
          }
        },
        {
          "output_type": "display_data",
          "data": {
            "image/png": "[encoded data removed]",
            "text/plain": [
              "<Figure size 432x288 with 1 Axes>"
            ]
          },
          "metadata": {
            "needs_background": "light"
          }
        },
        {
          "output_type": "display_data",
          "data": {
            "image/png": "[encoded data removed]",
            "text/plain": [
              "<Figure size 432x288 with 1 Axes>"
            ]
          },
          "metadata": {
            "needs_background": "light"
          }
        },
        {
          "output_type": "display_data",
          "data": {
            "image/png": "[encoded data removed]",
            "text/plain": [
              "<Figure size 432x288 with 1 Axes>"
            ]
          },
          "metadata": {
            "needs_background": "light"
          }
        },
        {
          "output_type": "display_data",
          "data": {
            "image/png": "[encoded data removed]",
            "text/plain": [
              "<Figure size 432x288 with 1 Axes>"
            ]
          },
          "metadata": {
            "needs_background": "light"
          }
        },
        {
          "output_type": "display_data",
          "data": {
            "image/png": "[encoded data removed]",
            "text/plain": [
              "<Figure size 432x288 with 1 Axes>"
            ]
          },
          "metadata": {
            "needs_background": "light"
          }
        },
        {
          "output_type": "display_data",
          "data": {
            "image/png": "[encoded data removed]",
            "text/plain": [
              "<Figure size 432x288 with 1 Axes>"
            ]
          },
          "metadata": {
            "needs_background": "light"
          }
        },
        {
          "output_type": "display_data",
          "data": {
            "image/png": "[encoded data removed]",
            "text/plain": [
              "<Figure size 432x288 with 1 Axes>"
            ]
          },
          "metadata": {
            "needs_background": "light"
          }
        },
        {
          "output_type": "display_data",
          "data": {
            "image/png": "[encoded data removed]",
            "text/plain": [
              "<Figure size 432x288 with 1 Axes>"
            ]
          },
          "metadata": {
            "needs_background": "light"
          }
        },
        {
          "output_type": "display_data",
          "data": {
            "image/png": "[encoded data removed]",
            "text/plain": [
              "<Figure size 432x288 with 1 Axes>"
            ]
          },
          "metadata": {
            "needs_background": "light"
          }
        }
      ]
    },
    {
      "cell_type": "code",
      "metadata": {
        "colab": {
          "base_uri": "https://localhost:8080/",
          "height": 596
        },
        "id": "-0hK1wEhRgwn",
        "outputId": "47b86eae-8a3f-403a-f2bf-8bd0a32ddcd7"
      },
      "source": [
        "#To measure its linearity\n",
        "df1=df.corr()\n",
        "df1"
      ],
      "execution_count": null,
      "outputs": [
        {
          "output_type": "execute_result",
          "data": {
            "text/html": [
              "<div>\n",
              "<style scoped>\n",
              "    .dataframe tbody tr th:only-of-type {\n",
              "        vertical-align: middle;\n",
              "    }\n",
              "\n",
              "    .dataframe tbody tr th {\n",
              "        vertical-align: top;\n",
              "    }\n",
              "\n",
              "    .dataframe thead th {\n",
              "        text-align: right;\n",
              "    }\n",
              "</style>\n",
              "<table border=\"1\" class=\"dataframe\">\n",
              "  <thead>\n",
              "    <tr style=\"text-align: right;\">\n",
              "      <th></th>\n",
              "      <th>Win</th>\n",
              "      <th>Runs_scored</th>\n",
              "      <th>At_bat</th>\n",
              "      <th>hit</th>\n",
              "      <th>Double</th>\n",
              "      <th>Triple</th>\n",
              "      <th>Home_runs</th>\n",
              "      <th>Base_on_balls</th>\n",
              "      <th>Strike_out</th>\n",
              "      <th>Stolen_base</th>\n",
              "      <th>Run_average</th>\n",
              "      <th>Earned_runs</th>\n",
              "      <th>Earned_runs_average</th>\n",
              "      <th>Complete_game</th>\n",
              "      <th>Shoutout</th>\n",
              "      <th>Save</th>\n",
              "      <th>Errors</th>\n",
              "    </tr>\n",
              "  </thead>\n",
              "  <tbody>\n",
              "    <tr>\n",
              "      <th>Win</th>\n",
              "      <td>1.000000</td>\n",
              "      <td>0.430751</td>\n",
              "      <td>-0.087947</td>\n",
              "      <td>0.037612</td>\n",
              "      <td>0.427797</td>\n",
              "      <td>-0.251118</td>\n",
              "      <td>0.307407</td>\n",
              "      <td>0.484342</td>\n",
              "      <td>0.111850</td>\n",
              "      <td>-0.157234</td>\n",
              "      <td>-0.812952</td>\n",
              "      <td>-0.809435</td>\n",
              "      <td>-0.819600</td>\n",
              "      <td>0.080533</td>\n",
              "      <td>0.471805</td>\n",
              "      <td>0.666530</td>\n",
              "      <td>-0.089485</td>\n",
              "    </tr>\n",
              "    <tr>\n",
              "      <th>Runs_scored</th>\n",
              "      <td>0.430751</td>\n",
              "      <td>1.000000</td>\n",
              "      <td>0.319464</td>\n",
              "      <td>0.482856</td>\n",
              "      <td>0.560084</td>\n",
              "      <td>-0.070072</td>\n",
              "      <td>0.671283</td>\n",
              "      <td>0.402452</td>\n",
              "      <td>-0.054726</td>\n",
              "      <td>0.081367</td>\n",
              "      <td>-0.041623</td>\n",
              "      <td>-0.041245</td>\n",
              "      <td>-0.049281</td>\n",
              "      <td>0.232042</td>\n",
              "      <td>-0.103274</td>\n",
              "      <td>-0.096380</td>\n",
              "      <td>-0.023262</td>\n",
              "    </tr>\n",
              "    <tr>\n",
              "      <th>At_bat</th>\n",
              "      <td>-0.087947</td>\n",
              "      <td>0.319464</td>\n",
              "      <td>1.000000</td>\n",
              "      <td>0.739122</td>\n",
              "      <td>0.453370</td>\n",
              "      <td>0.435422</td>\n",
              "      <td>-0.066983</td>\n",
              "      <td>-0.136414</td>\n",
              "      <td>-0.106022</td>\n",
              "      <td>0.372618</td>\n",
              "      <td>0.316010</td>\n",
              "      <td>0.309686</td>\n",
              "      <td>0.255551</td>\n",
              "      <td>-0.080876</td>\n",
              "      <td>-0.197321</td>\n",
              "      <td>-0.106367</td>\n",
              "      <td>0.316743</td>\n",
              "    </tr>\n",
              "    <tr>\n",
              "      <th>hit</th>\n",
              "      <td>0.037612</td>\n",
              "      <td>0.482856</td>\n",
              "      <td>0.739122</td>\n",
              "      <td>1.000000</td>\n",
              "      <td>0.566847</td>\n",
              "      <td>0.478694</td>\n",
              "      <td>-0.090855</td>\n",
              "      <td>-0.118281</td>\n",
              "      <td>-0.398830</td>\n",
              "      <td>0.413444</td>\n",
              "      <td>0.224324</td>\n",
              "      <td>0.252489</td>\n",
              "      <td>0.231172</td>\n",
              "      <td>0.147955</td>\n",
              "      <td>-0.145559</td>\n",
              "      <td>-0.130371</td>\n",
              "      <td>-0.033173</td>\n",
              "    </tr>\n",
              "    <tr>\n",
              "      <th>Double</th>\n",
              "      <td>0.427797</td>\n",
              "      <td>0.560084</td>\n",
              "      <td>0.453370</td>\n",
              "      <td>0.566847</td>\n",
              "      <td>1.000000</td>\n",
              "      <td>0.220490</td>\n",
              "      <td>0.056292</td>\n",
              "      <td>0.302700</td>\n",
              "      <td>-0.150752</td>\n",
              "      <td>0.195027</td>\n",
              "      <td>-0.218160</td>\n",
              "      <td>-0.235531</td>\n",
              "      <td>-0.254854</td>\n",
              "      <td>0.306675</td>\n",
              "      <td>0.057998</td>\n",
              "      <td>0.171576</td>\n",
              "      <td>0.105754</td>\n",
              "    </tr>\n",
              "    <tr>\n",
              "      <th>Triple</th>\n",
              "      <td>-0.251118</td>\n",
              "      <td>-0.070072</td>\n",
              "      <td>0.435422</td>\n",
              "      <td>0.478694</td>\n",
              "      <td>0.220490</td>\n",
              "      <td>1.000000</td>\n",
              "      <td>-0.430915</td>\n",
              "      <td>-0.454949</td>\n",
              "      <td>-0.141196</td>\n",
              "      <td>0.457437</td>\n",
              "      <td>0.314125</td>\n",
              "      <td>0.340225</td>\n",
              "      <td>0.330951</td>\n",
              "      <td>-0.065898</td>\n",
              "      <td>-0.041396</td>\n",
              "      <td>-0.142370</td>\n",
              "      <td>0.126678</td>\n",
              "    </tr>\n",
              "    <tr>\n",
              "      <th>Home_runs</th>\n",
              "      <td>0.307407</td>\n",
              "      <td>0.671283</td>\n",
              "      <td>-0.066983</td>\n",
              "      <td>-0.090855</td>\n",
              "      <td>0.056292</td>\n",
              "      <td>-0.430915</td>\n",
              "      <td>1.000000</td>\n",
              "      <td>0.425691</td>\n",
              "      <td>0.359923</td>\n",
              "      <td>-0.136567</td>\n",
              "      <td>-0.103903</td>\n",
              "      <td>-0.085922</td>\n",
              "      <td>-0.090917</td>\n",
              "      <td>0.156502</td>\n",
              "      <td>-0.019119</td>\n",
              "      <td>-0.028540</td>\n",
              "      <td>-0.207597</td>\n",
              "    </tr>\n",
              "    <tr>\n",
              "      <th>Base_on_balls</th>\n",
              "      <td>0.484342</td>\n",
              "      <td>0.402452</td>\n",
              "      <td>-0.136414</td>\n",
              "      <td>-0.118281</td>\n",
              "      <td>0.302700</td>\n",
              "      <td>-0.454949</td>\n",
              "      <td>0.425691</td>\n",
              "      <td>1.000000</td>\n",
              "      <td>0.233652</td>\n",
              "      <td>-0.098347</td>\n",
              "      <td>-0.416445</td>\n",
              "      <td>-0.452663</td>\n",
              "      <td>-0.459832</td>\n",
              "      <td>0.462478</td>\n",
              "      <td>0.426004</td>\n",
              "      <td>0.099445</td>\n",
              "      <td>-0.075685</td>\n",
              "    </tr>\n",
              "    <tr>\n",
              "      <th>Strike_out</th>\n",
              "      <td>0.111850</td>\n",
              "      <td>-0.054726</td>\n",
              "      <td>-0.106022</td>\n",
              "      <td>-0.398830</td>\n",
              "      <td>-0.150752</td>\n",
              "      <td>-0.141196</td>\n",
              "      <td>0.359923</td>\n",
              "      <td>0.233652</td>\n",
              "      <td>1.000000</td>\n",
              "      <td>0.030968</td>\n",
              "      <td>-0.129745</td>\n",
              "      <td>-0.161612</td>\n",
              "      <td>-0.180368</td>\n",
              "      <td>-0.093418</td>\n",
              "      <td>0.237721</td>\n",
              "      <td>0.126297</td>\n",
              "      <td>0.155133</td>\n",
              "    </tr>\n",
              "    <tr>\n",
              "      <th>Stolen_base</th>\n",
              "      <td>-0.157234</td>\n",
              "      <td>0.081367</td>\n",
              "      <td>0.372618</td>\n",
              "      <td>0.413444</td>\n",
              "      <td>0.195027</td>\n",
              "      <td>0.457437</td>\n",
              "      <td>-0.136567</td>\n",
              "      <td>-0.098347</td>\n",
              "      <td>0.030968</td>\n",
              "      <td>1.000000</td>\n",
              "      <td>0.132290</td>\n",
              "      <td>0.143068</td>\n",
              "      <td>0.126063</td>\n",
              "      <td>-0.020783</td>\n",
              "      <td>-0.106563</td>\n",
              "      <td>-0.183418</td>\n",
              "      <td>0.079149</td>\n",
              "    </tr>\n",
              "    <tr>\n",
              "      <th>Run_average</th>\n",
              "      <td>-0.812952</td>\n",
              "      <td>-0.041623</td>\n",
              "      <td>0.316010</td>\n",
              "      <td>0.224324</td>\n",
              "      <td>-0.218160</td>\n",
              "      <td>0.314125</td>\n",
              "      <td>-0.103903</td>\n",
              "      <td>-0.416445</td>\n",
              "      <td>-0.129745</td>\n",
              "      <td>0.132290</td>\n",
              "      <td>1.000000</td>\n",
              "      <td>0.991018</td>\n",
              "      <td>0.986674</td>\n",
              "      <td>-0.016659</td>\n",
              "      <td>-0.636862</td>\n",
              "      <td>-0.616224</td>\n",
              "      <td>0.198996</td>\n",
              "    </tr>\n",
              "    <tr>\n",
              "      <th>Earned_runs</th>\n",
              "      <td>-0.809435</td>\n",
              "      <td>-0.041245</td>\n",
              "      <td>0.309686</td>\n",
              "      <td>0.252489</td>\n",
              "      <td>-0.235531</td>\n",
              "      <td>0.340225</td>\n",
              "      <td>-0.085922</td>\n",
              "      <td>-0.452663</td>\n",
              "      <td>-0.161612</td>\n",
              "      <td>0.143068</td>\n",
              "      <td>0.991018</td>\n",
              "      <td>1.000000</td>\n",
              "      <td>0.997248</td>\n",
              "      <td>-0.020221</td>\n",
              "      <td>-0.630192</td>\n",
              "      <td>-0.589663</td>\n",
              "      <td>0.136921</td>\n",
              "    </tr>\n",
              "    <tr>\n",
              "      <th>Earned_runs_average</th>\n",
              "      <td>-0.819600</td>\n",
              "      <td>-0.049281</td>\n",
              "      <td>0.255551</td>\n",
              "      <td>0.231172</td>\n",
              "      <td>-0.254854</td>\n",
              "      <td>0.330951</td>\n",
              "      <td>-0.090917</td>\n",
              "      <td>-0.459832</td>\n",
              "      <td>-0.180368</td>\n",
              "      <td>0.126063</td>\n",
              "      <td>0.986674</td>\n",
              "      <td>0.997248</td>\n",
              "      <td>1.000000</td>\n",
              "      <td>-0.009856</td>\n",
              "      <td>-0.630833</td>\n",
              "      <td>-0.607005</td>\n",
              "      <td>0.113137</td>\n",
              "    </tr>\n",
              "    <tr>\n",
              "      <th>Complete_game</th>\n",
              "      <td>0.080533</td>\n",
              "      <td>0.232042</td>\n",
              "      <td>-0.080876</td>\n",
              "      <td>0.147955</td>\n",
              "      <td>0.306675</td>\n",
              "      <td>-0.065898</td>\n",
              "      <td>0.156502</td>\n",
              "      <td>0.462478</td>\n",
              "      <td>-0.093418</td>\n",
              "      <td>-0.020783</td>\n",
              "      <td>-0.016659</td>\n",
              "      <td>-0.020221</td>\n",
              "      <td>-0.009856</td>\n",
              "      <td>1.000000</td>\n",
              "      <td>0.241676</td>\n",
              "      <td>-0.367766</td>\n",
              "      <td>-0.140047</td>\n",
              "    </tr>\n",
              "    <tr>\n",
              "      <th>Shoutout</th>\n",
              "      <td>0.471805</td>\n",
              "      <td>-0.103274</td>\n",
              "      <td>-0.197321</td>\n",
              "      <td>-0.145559</td>\n",
              "      <td>0.057998</td>\n",
              "      <td>-0.041396</td>\n",
              "      <td>-0.019119</td>\n",
              "      <td>0.426004</td>\n",
              "      <td>0.237721</td>\n",
              "      <td>-0.106563</td>\n",
              "      <td>-0.636862</td>\n",
              "      <td>-0.630192</td>\n",
              "      <td>-0.630833</td>\n",
              "      <td>0.241676</td>\n",
              "      <td>1.000000</td>\n",
              "      <td>0.221639</td>\n",
              "      <td>-0.115716</td>\n",
              "    </tr>\n",
              "    <tr>\n",
              "      <th>Save</th>\n",
              "      <td>0.666530</td>\n",
              "      <td>-0.096380</td>\n",
              "      <td>-0.106367</td>\n",
              "      <td>-0.130371</td>\n",
              "      <td>0.171576</td>\n",
              "      <td>-0.142370</td>\n",
              "      <td>-0.028540</td>\n",
              "      <td>0.099445</td>\n",
              "      <td>0.126297</td>\n",
              "      <td>-0.183418</td>\n",
              "      <td>-0.616224</td>\n",
              "      <td>-0.589663</td>\n",
              "      <td>-0.607005</td>\n",
              "      <td>-0.367766</td>\n",
              "      <td>0.221639</td>\n",
              "      <td>1.000000</td>\n",
              "      <td>-0.025636</td>\n",
              "    </tr>\n",
              "    <tr>\n",
              "      <th>Errors</th>\n",
              "      <td>-0.089485</td>\n",
              "      <td>-0.023262</td>\n",
              "      <td>0.316743</td>\n",
              "      <td>-0.033173</td>\n",
              "      <td>0.105754</td>\n",
              "      <td>0.126678</td>\n",
              "      <td>-0.207597</td>\n",
              "      <td>-0.075685</td>\n",
              "      <td>0.155133</td>\n",
              "      <td>0.079149</td>\n",
              "      <td>0.198996</td>\n",
              "      <td>0.136921</td>\n",
              "      <td>0.113137</td>\n",
              "      <td>-0.140047</td>\n",
              "      <td>-0.115716</td>\n",
              "      <td>-0.025636</td>\n",
              "      <td>1.000000</td>\n",
              "    </tr>\n",
              "  </tbody>\n",
              "</table>\n",
              "</div>"
            ],
            "text/plain": [
              "                          Win  Runs_scored  ...      Save    Errors\n",
              "Win                  1.000000     0.430751  ...  0.666530 -0.089485\n",
              "Runs_scored          0.430751     1.000000  ... -0.096380 -0.023262\n",
              "At_bat              -0.087947     0.319464  ... -0.106367  0.316743\n",
              "hit                  0.037612     0.482856  ... -0.130371 -0.033173\n",
              "Double               0.427797     0.560084  ...  0.171576  0.105754\n",
              "Triple              -0.251118    -0.070072  ... -0.142370  0.126678\n",
              "Home_runs            0.307407     0.671283  ... -0.028540 -0.207597\n",
              "Base_on_balls        0.484342     0.402452  ...  0.099445 -0.075685\n",
              "Strike_out           0.111850    -0.054726  ...  0.126297  0.155133\n",
              "Stolen_base         -0.157234     0.081367  ... -0.183418  0.079149\n",
              "Run_average         -0.812952    -0.041623  ... -0.616224  0.198996\n",
              "Earned_runs         -0.809435    -0.041245  ... -0.589663  0.136921\n",
              "Earned_runs_average -0.819600    -0.049281  ... -0.607005  0.113137\n",
              "Complete_game        0.080533     0.232042  ... -0.367766 -0.140047\n",
              "Shoutout             0.471805    -0.103274  ...  0.221639 -0.115716\n",
              "Save                 0.666530    -0.096380  ...  1.000000 -0.025636\n",
              "Errors              -0.089485    -0.023262  ... -0.025636  1.000000\n",
              "\n",
              "[17 rows x 17 columns]"
            ]
          },
          "metadata": {},
          "execution_count": 13
        }
      ]
    },
    {
      "cell_type": "code",
      "metadata": {
        "colab": {
          "base_uri": "https://localhost:8080/",
          "height": 711
        },
        "id": "ysfu5KKJRJIm",
        "outputId": "b61d64d0-99f2-4bb3-b0de-627a3bbb80e4"
      },
      "source": [
        "plt.figure(figsize=(20,10))\n",
        "sns.heatmap(df1)"
      ],
      "execution_count": null,
      "outputs": [
        {
          "output_type": "execute_result",
          "data": {
            "text/plain": [
              "<matplotlib.axes._subplots.AxesSubplot at 0x7fd864f5dad0>"
            ]
          },
          "metadata": {},
          "execution_count": 14
        },
        {
          "output_type": "display_data",
          "data": {
            "image/png": "[encoded data removed]",
            "text/plain": [
              "<Figure size 1440x720 with 2 Axes>"
            ]
          },
          "metadata": {
            "needs_background": "light"
          }
        }
      ]
    },
    {
      "cell_type": "markdown",
      "metadata": {
        "id": "FYypYk7uHTlL"
      },
      "source": [
        "# **3.Feature engineering**"
      ]
    },
    {
      "cell_type": "code",
      "metadata": {
        "colab": {
          "base_uri": "https://localhost:8080/",
          "height": 328
        },
        "id": "8h_5GjBHRJA0",
        "outputId": "8d52d3bf-6f2b-42b1-fc79-7766ce04e985"
      },
      "source": [
        "# so now we are filtering the value above 0.35 and - 0.35 \n",
        "# because from the above step we get to know that multicollinearity exists\n",
        "\n",
        "corre=df[list(df1[(df1['Win']>0.35) | (df1['Win']<-0.35)].index)]\n",
        "corre.corr()"
      ],
      "execution_count": null,
      "outputs": [
        {
          "output_type": "execute_result",
          "data": {
            "text/html": [
              "<div>\n",
              "<style scoped>\n",
              "    .dataframe tbody tr th:only-of-type {\n",
              "        vertical-align: middle;\n",
              "    }\n",
              "\n",
              "    .dataframe tbody tr th {\n",
              "        vertical-align: top;\n",
              "    }\n",
              "\n",
              "    .dataframe thead th {\n",
              "        text-align: right;\n",
              "    }\n",
              "</style>\n",
              "<table border=\"1\" class=\"dataframe\">\n",
              "  <thead>\n",
              "    <tr style=\"text-align: right;\">\n",
              "      <th></th>\n",
              "      <th>Win</th>\n",
              "      <th>Runs_scored</th>\n",
              "      <th>Double</th>\n",
              "      <th>Base_on_balls</th>\n",
              "      <th>Run_average</th>\n",
              "      <th>Earned_runs</th>\n",
              "      <th>Earned_runs_average</th>\n",
              "      <th>Shoutout</th>\n",
              "      <th>Save</th>\n",
              "    </tr>\n",
              "  </thead>\n",
              "  <tbody>\n",
              "    <tr>\n",
              "      <th>Win</th>\n",
              "      <td>1.000000</td>\n",
              "      <td>0.430751</td>\n",
              "      <td>0.427797</td>\n",
              "      <td>0.484342</td>\n",
              "      <td>-0.812952</td>\n",
              "      <td>-0.809435</td>\n",
              "      <td>-0.819600</td>\n",
              "      <td>0.471805</td>\n",
              "      <td>0.666530</td>\n",
              "    </tr>\n",
              "    <tr>\n",
              "      <th>Runs_scored</th>\n",
              "      <td>0.430751</td>\n",
              "      <td>1.000000</td>\n",
              "      <td>0.560084</td>\n",
              "      <td>0.402452</td>\n",
              "      <td>-0.041623</td>\n",
              "      <td>-0.041245</td>\n",
              "      <td>-0.049281</td>\n",
              "      <td>-0.103274</td>\n",
              "      <td>-0.096380</td>\n",
              "    </tr>\n",
              "    <tr>\n",
              "      <th>Double</th>\n",
              "      <td>0.427797</td>\n",
              "      <td>0.560084</td>\n",
              "      <td>1.000000</td>\n",
              "      <td>0.302700</td>\n",
              "      <td>-0.218160</td>\n",
              "      <td>-0.235531</td>\n",
              "      <td>-0.254854</td>\n",
              "      <td>0.057998</td>\n",
              "      <td>0.171576</td>\n",
              "    </tr>\n",
              "    <tr>\n",
              "      <th>Base_on_balls</th>\n",
              "      <td>0.484342</td>\n",
              "      <td>0.402452</td>\n",
              "      <td>0.302700</td>\n",
              "      <td>1.000000</td>\n",
              "      <td>-0.416445</td>\n",
              "      <td>-0.452663</td>\n",
              "      <td>-0.459832</td>\n",
              "      <td>0.426004</td>\n",
              "      <td>0.099445</td>\n",
              "    </tr>\n",
              "    <tr>\n",
              "      <th>Run_average</th>\n",
              "      <td>-0.812952</td>\n",
              "      <td>-0.041623</td>\n",
              "      <td>-0.218160</td>\n",
              "      <td>-0.416445</td>\n",
              "      <td>1.000000</td>\n",
              "      <td>0.991018</td>\n",
              "      <td>0.986674</td>\n",
              "      <td>-0.636862</td>\n",
              "      <td>-0.616224</td>\n",
              "    </tr>\n",
              "    <tr>\n",
              "      <th>Earned_runs</th>\n",
              "      <td>-0.809435</td>\n",
              "      <td>-0.041245</td>\n",
              "      <td>-0.235531</td>\n",
              "      <td>-0.452663</td>\n",
              "      <td>0.991018</td>\n",
              "      <td>1.000000</td>\n",
              "      <td>0.997248</td>\n",
              "      <td>-0.630192</td>\n",
              "      <td>-0.589663</td>\n",
              "    </tr>\n",
              "    <tr>\n",
              "      <th>Earned_runs_average</th>\n",
              "      <td>-0.819600</td>\n",
              "      <td>-0.049281</td>\n",
              "      <td>-0.254854</td>\n",
              "      <td>-0.459832</td>\n",
              "      <td>0.986674</td>\n",
              "      <td>0.997248</td>\n",
              "      <td>1.000000</td>\n",
              "      <td>-0.630833</td>\n",
              "      <td>-0.607005</td>\n",
              "    </tr>\n",
              "    <tr>\n",
              "      <th>Shoutout</th>\n",
              "      <td>0.471805</td>\n",
              "      <td>-0.103274</td>\n",
              "      <td>0.057998</td>\n",
              "      <td>0.426004</td>\n",
              "      <td>-0.636862</td>\n",
              "      <td>-0.630192</td>\n",
              "      <td>-0.630833</td>\n",
              "      <td>1.000000</td>\n",
              "      <td>0.221639</td>\n",
              "    </tr>\n",
              "    <tr>\n",
              "      <th>Save</th>\n",
              "      <td>0.666530</td>\n",
              "      <td>-0.096380</td>\n",
              "      <td>0.171576</td>\n",
              "      <td>0.099445</td>\n",
              "      <td>-0.616224</td>\n",
              "      <td>-0.589663</td>\n",
              "      <td>-0.607005</td>\n",
              "      <td>0.221639</td>\n",
              "      <td>1.000000</td>\n",
              "    </tr>\n",
              "  </tbody>\n",
              "</table>\n",
              "</div>"
            ],
            "text/plain": [
              "                          Win  Runs_scored  ...  Shoutout      Save\n",
              "Win                  1.000000     0.430751  ...  0.471805  0.666530\n",
              "Runs_scored          0.430751     1.000000  ... -0.103274 -0.096380\n",
              "Double               0.427797     0.560084  ...  0.057998  0.171576\n",
              "Base_on_balls        0.484342     0.402452  ...  0.426004  0.099445\n",
              "Run_average         -0.812952    -0.041623  ... -0.636862 -0.616224\n",
              "Earned_runs         -0.809435    -0.041245  ... -0.630192 -0.589663\n",
              "Earned_runs_average -0.819600    -0.049281  ... -0.630833 -0.607005\n",
              "Shoutout             0.471805    -0.103274  ...  1.000000  0.221639\n",
              "Save                 0.666530    -0.096380  ...  0.221639  1.000000\n",
              "\n",
              "[9 rows x 9 columns]"
            ]
          },
          "metadata": {},
          "execution_count": 15
        }
      ]
    },
    {
      "cell_type": "code",
      "metadata": {
        "colab": {
          "base_uri": "https://localhost:8080/"
        },
        "id": "zudZqzBURI97",
        "outputId": "4d8f90bf-d380-408f-9b23-5511040ac174"
      },
      "source": [
        "# removing the column with highest multicollinearity\n",
        "\n",
        "m_colli=corre.drop(columns=['Run_average','Earned_runs','Shoutout'])\n",
        "m_colli.columns"
      ],
      "execution_count": null,
      "outputs": [
        {
          "output_type": "execute_result",
          "data": {
            "text/plain": [
              "Index(['Win', 'Runs_scored', 'Double', 'Base_on_balls', 'Earned_runs_average',\n",
              "       'Save'],\n",
              "      dtype='object')"
            ]
          },
          "metadata": {},
          "execution_count": 16
        }
      ]
    },
    {
      "cell_type": "code",
      "metadata": {
        "id": "qBVqARW5RI7z"
      },
      "source": [
        "X=m_colli.drop(columns='Win')\n",
        "y=m_colli['Win']"
      ],
      "execution_count": null,
      "outputs": []
    },
    {
      "cell_type": "markdown",
      "metadata": {
        "id": "H-jBfs6CF1CE"
      },
      "source": [
        "# ***Removing Outliers***"
      ]
    },
    {
      "cell_type": "code",
      "metadata": {
        "id": "3TcsZIPnF0U8"
      },
      "source": [
        "# for i in X.columns:\n",
        "#   X.loc[X[i]>X[i].quantile(0.90),i]=X[i].quantile(0.90)\n",
        "#   X.loc[X[i]<X[i].quantile(0.10),i]=X[i].quantile(0.10)"
      ],
      "execution_count": null,
      "outputs": []
    },
    {
      "cell_type": "markdown",
      "metadata": {
        "id": "WOcONMpFGGUZ"
      },
      "source": [
        "Tried Removing outliers and got a very bad score \n",
        "\n",
        " Note : It is risk to remove outliers in such a small dataset it can lead to losing important data "
      ]
    },
    {
      "cell_type": "markdown",
      "metadata": {
        "id": "zZbRAFPrHtIL"
      },
      "source": [
        "# **4.Data Preprocessing**"
      ]
    },
    {
      "cell_type": "code",
      "metadata": {
        "id": "GgULgNjHRI4T"
      },
      "source": [
        "X_train,X_test,y_train,y_test=train_test_split(X,y,test_size=0.25,random_state=42)"
      ],
      "execution_count": null,
      "outputs": []
    },
    {
      "cell_type": "code",
      "metadata": {
        "id": "nZ2D35FQRI1I"
      },
      "source": [
        "Sca=StandardScaler()\n",
        "Sca.fit(X_train)\n",
        "X_train=Sca.transform(X_train)\n",
        "X_test=Sca.transform(X_test)"
      ],
      "execution_count": null,
      "outputs": []
    },
    {
      "cell_type": "markdown",
      "metadata": {
        "id": "unWoJxXhIBnx"
      },
      "source": [
        "# 5.Building models "
      ]
    },
    {
      "cell_type": "markdown",
      "metadata": {
        "id": "pDPBZ1qqKOyo"
      },
      "source": [
        "# **Support Vector Machine**"
      ]
    },
    {
      "cell_type": "code",
      "metadata": {
        "colab": {
          "base_uri": "https://localhost:8080/"
        },
        "id": "zYoakAoMRIdV",
        "outputId": "3f6a44ff-bab7-43e2-bcec-5ca087ff5d2f"
      },
      "source": [
        "sv=svm.SVR(kernel='linear',C=10,gamma=0.01)\n",
        "sv.fit(X_train,y_train)"
      ],
      "execution_count": null,
      "outputs": [
        {
          "output_type": "execute_result",
          "data": {
            "text/plain": [
              "SVR(C=10, cache_size=200, coef0=0.0, degree=3, epsilon=0.1, gamma=0.01,\n",
              "    kernel='linear', max_iter=-1, shrinking=True, tol=0.001, verbose=False)"
            ]
          },
          "metadata": {},
          "execution_count": 26
        }
      ]
    },
    {
      "cell_type": "code",
      "metadata": {
        "id": "ppbz128iRIUS"
      },
      "source": [
        "y_train_pred=sv.predict(X_train)\n",
        "y_test_pred=sv.predict(X_test)"
      ],
      "execution_count": null,
      "outputs": []
    },
    {
      "cell_type": "code",
      "metadata": {
        "colab": {
          "base_uri": "https://localhost:8080/"
        },
        "id": "xDNn7aoFRIJF",
        "outputId": "63814397-cb70-48e3-a5a1-c87648ba41dc"
      },
      "source": [
        "r2_score(y_train,y_train_pred)"
      ],
      "execution_count": null,
      "outputs": [
        {
          "output_type": "execute_result",
          "data": {
            "text/plain": [
              "0.8482450383894551"
            ]
          },
          "metadata": {},
          "execution_count": 28
        }
      ]
    },
    {
      "cell_type": "code",
      "metadata": {
        "colab": {
          "base_uri": "https://localhost:8080/"
        },
        "id": "keQ34nX4RH0e",
        "outputId": "760e628e-05ac-4d90-80ea-6c74ae83797a"
      },
      "source": [
        "r2_score(y_test,y_test_pred)"
      ],
      "execution_count": null,
      "outputs": [
        {
          "output_type": "execute_result",
          "data": {
            "text/plain": [
              "0.71214707226763"
            ]
          },
          "metadata": {},
          "execution_count": 29
        }
      ]
    },
    {
      "cell_type": "markdown",
      "metadata": {
        "id": "g9GA9BxmOICP"
      },
      "source": [
        "# ***Grid Search CV on SVM***"
      ]
    },
    {
      "cell_type": "code",
      "metadata": {
        "colab": {
          "base_uri": "https://localhost:8080/"
        },
        "id": "hA7-JOTTNBz3",
        "outputId": "11833e3d-fc0a-4a37-a7b5-b7df7345fa2e"
      },
      "source": [
        "sv=svm.SVR(kernel='linear',C=40,gamma=0.001)\n",
        "cross_val_score(sv,X_train,y_train,scoring='r2')"
      ],
      "execution_count": null,
      "outputs": [
        {
          "output_type": "execute_result",
          "data": {
            "text/plain": [
              "array([0.83122634, 0.92090045, 0.67287171, 0.71714056, 0.86586494])"
            ]
          },
          "metadata": {},
          "execution_count": 40
        }
      ]
    },
    {
      "cell_type": "code",
      "metadata": {
        "colab": {
          "base_uri": "https://localhost:8080/"
        },
        "id": "NRqaHyaVNBxF",
        "outputId": "02c2ca25-efc3-41c6-fa2c-e5b68ed375be"
      },
      "source": [
        "param_={'kernel':['poly','linear','rbf'],'C':[0.001,0.01,0.1,1,10,0.0001,20,50,80,100,120,150,200],'gamma':[0.01,0.1,1,10,0.001,0.0001]}\n",
        "sv1=svm.SVR()\n",
        "grid=GridSearchCV(sv1,param_grid=param_,cv=5,scoring='r2')\n",
        "grid.fit(X_train,y_train)"
      ],
      "execution_count": null,
      "outputs": [
        {
          "output_type": "execute_result",
          "data": {
            "text/plain": [
              "GridSearchCV(cv=5, error_score=nan,\n",
              "             estimator=SVR(C=1.0, cache_size=200, coef0=0.0, degree=3,\n",
              "                           epsilon=0.1, gamma='scale', kernel='rbf',\n",
              "                           max_iter=-1, shrinking=True, tol=0.001,\n",
              "                           verbose=False),\n",
              "             iid='deprecated', n_jobs=None,\n",
              "             param_grid={'C': [0.001, 0.01, 0.1, 1, 10, 0.0001, 20, 50, 80, 100,\n",
              "                               120, 150, 200],\n",
              "                         'gamma': [0.01, 0.1, 1, 10, 0.001, 0.0001],\n",
              "                         'kernel': ['poly', 'linear', 'rbf']},\n",
              "             pre_dispatch='2*n_jobs', refit=True, return_train_score=False,\n",
              "             scoring='r2', verbose=0)"
            ]
          },
          "metadata": {},
          "execution_count": 41
        }
      ]
    },
    {
      "cell_type": "code",
      "metadata": {
        "colab": {
          "base_uri": "https://localhost:8080/"
        },
        "id": "v8oYbY3TNBug",
        "outputId": "a93ee0ee-38aa-492c-95a8-21a7c35da492"
      },
      "source": [
        "grid.best_params_"
      ],
      "execution_count": null,
      "outputs": [
        {
          "output_type": "execute_result",
          "data": {
            "text/plain": [
              "{'C': 80, 'gamma': 0.01, 'kernel': 'linear'}"
            ]
          },
          "metadata": {},
          "execution_count": 42
        }
      ]
    },
    {
      "cell_type": "code",
      "metadata": {
        "id": "0q3RFMVvNBsD"
      },
      "source": [
        "y_train_pred=grid.predict(X_train)\n",
        "y_test_pred=grid.predict(X_test)"
      ],
      "execution_count": null,
      "outputs": []
    },
    {
      "cell_type": "code",
      "metadata": {
        "colab": {
          "base_uri": "https://localhost:8080/"
        },
        "id": "7gcEJKowNBnF",
        "outputId": "3768ec3d-08c0-4eb9-86d0-f5adde6b3d87"
      },
      "source": [
        "r2_score(y_train,y_train_pred)"
      ],
      "execution_count": null,
      "outputs": [
        {
          "output_type": "execute_result",
          "data": {
            "text/plain": [
              "0.9105314555956134"
            ]
          },
          "metadata": {},
          "execution_count": 44
        }
      ]
    },
    {
      "cell_type": "code",
      "metadata": {
        "colab": {
          "base_uri": "https://localhost:8080/"
        },
        "id": "6ilOIT1TNBjL",
        "outputId": "4dba885b-5081-4afe-9a0f-3e9c4872b462"
      },
      "source": [
        "r2_score(y_test,y_test_pred)"
      ],
      "execution_count": null,
      "outputs": [
        {
          "output_type": "execute_result",
          "data": {
            "text/plain": [
              "0.8380637096190726"
            ]
          },
          "metadata": {},
          "execution_count": 45
        }
      ]
    },
    {
      "cell_type": "code",
      "metadata": {
        "colab": {
          "base_uri": "https://localhost:8080/"
        },
        "id": "UCp3gwlvNBdx",
        "outputId": "80628ec7-5935-49b4-de35-4363799d42c5"
      },
      "source": [
        "r2_score(y_train,y_train_pred)"
      ],
      "execution_count": null,
      "outputs": [
        {
          "output_type": "execute_result",
          "data": {
            "text/plain": [
              "0.9105314555956134"
            ]
          },
          "metadata": {},
          "execution_count": 46
        }
      ]
    },
    {
      "cell_type": "code",
      "metadata": {
        "colab": {
          "base_uri": "https://localhost:8080/"
        },
        "id": "hqKMqCKFNBYo",
        "outputId": "8f47cd5c-0ed9-4cbd-ae59-209d57a070ed"
      },
      "source": [
        "X_train.shape"
      ],
      "execution_count": null,
      "outputs": [
        {
          "output_type": "execute_result",
          "data": {
            "text/plain": [
              "(22, 5)"
            ]
          },
          "metadata": {},
          "execution_count": 47
        }
      ]
    },
    {
      "cell_type": "code",
      "metadata": {
        "colab": {
          "base_uri": "https://localhost:8080/"
        },
        "id": "f22JcjFWRrRX",
        "outputId": "ca715371-d66e-489d-807f-618511cfed1c"
      },
      "source": [
        "sv=svm.SVR(kernel='linear',C=20, gamma=0.01,epsilon=1)\n",
        "cross=cross_val_score(sv, X_train, y_train,scoring='r2', cv=3)\n",
        "cross"
      ],
      "execution_count": null,
      "outputs": [
        {
          "output_type": "execute_result",
          "data": {
            "text/plain": [
              "array([0.75922882, 0.71325013, 0.78864628])"
            ]
          },
          "metadata": {},
          "execution_count": 78
        }
      ]
    },
    {
      "cell_type": "code",
      "metadata": {
        "colab": {
          "base_uri": "https://localhost:8080/"
        },
        "id": "qIviwa3cRq9B",
        "outputId": "c3de5c75-fb7a-4fd3-e27e-c261c631d9b7"
      },
      "source": [
        "#mean of validation score\n",
        "np.mean(cross)"
      ],
      "execution_count": null,
      "outputs": [
        {
          "output_type": "execute_result",
          "data": {
            "text/plain": [
              "0.7537084093597972"
            ]
          },
          "metadata": {},
          "execution_count": 79
        }
      ]
    },
    {
      "cell_type": "code",
      "metadata": {
        "colab": {
          "base_uri": "https://localhost:8080/"
        },
        "id": "SnYN3hoDRqof",
        "outputId": "7c91e724-f263-4f03-e71c-c25a69163a21"
      },
      "source": [
        "# standard deviation of validation scores\n",
        "np.std(cross)"
      ],
      "execution_count": null,
      "outputs": [
        {
          "output_type": "execute_result",
          "data": {
            "text/plain": [
              "0.031026883463639316"
            ]
          },
          "metadata": {},
          "execution_count": 80
        }
      ]
    },
    {
      "cell_type": "markdown",
      "metadata": {
        "id": "8RKxWgz0I8xd"
      },
      "source": [
        "# ***Decision Tree***"
      ]
    },
    {
      "cell_type": "code",
      "metadata": {
        "colab": {
          "base_uri": "https://localhost:8080/"
        },
        "id": "Pl6YKMWpNBTy",
        "outputId": "ea6bdb74-d30d-4a13-ceaf-603f9f2da8c5"
      },
      "source": [
        "dtr=DecisionTreeRegressor()\n",
        "dtr.fit(X_train,y_train)"
      ],
      "execution_count": null,
      "outputs": [
        {
          "output_type": "execute_result",
          "data": {
            "text/plain": [
              "DecisionTreeRegressor(ccp_alpha=0.0, criterion='mse', max_depth=None,\n",
              "                      max_features=None, max_leaf_nodes=None,\n",
              "                      min_impurity_decrease=0.0, min_impurity_split=None,\n",
              "                      min_samples_leaf=1, min_samples_split=2,\n",
              "                      min_weight_fraction_leaf=0.0, presort='deprecated',\n",
              "                      random_state=None, splitter='best')"
            ]
          },
          "metadata": {},
          "execution_count": 48
        }
      ]
    },
    {
      "cell_type": "code",
      "metadata": {
        "id": "JG7XjjmWNBJY"
      },
      "source": [
        "y_train_pred=dtr.predict(X_train)\n",
        "y_test_pred=dtr.predict(X_test)"
      ],
      "execution_count": null,
      "outputs": []
    },
    {
      "cell_type": "code",
      "metadata": {
        "colab": {
          "base_uri": "https://localhost:8080/"
        },
        "id": "pXjDaFnsNBGo",
        "outputId": "fc2dc313-5e99-4fdb-ddc8-01870069828e"
      },
      "source": [
        "r2_score(y_train,y_train_pred)"
      ],
      "execution_count": null,
      "outputs": [
        {
          "output_type": "execute_result",
          "data": {
            "text/plain": [
              "1.0"
            ]
          },
          "metadata": {},
          "execution_count": 50
        }
      ]
    },
    {
      "cell_type": "code",
      "metadata": {
        "colab": {
          "base_uri": "https://localhost:8080/"
        },
        "id": "NkBhcFSjNBDm",
        "outputId": "342f7894-49d3-4ff1-f643-f57c190e743d"
      },
      "source": [
        "r2_score(y_test,y_test_pred)"
      ],
      "execution_count": null,
      "outputs": [
        {
          "output_type": "execute_result",
          "data": {
            "text/plain": [
              "0.5418947368421052"
            ]
          },
          "metadata": {},
          "execution_count": 51
        }
      ]
    },
    {
      "cell_type": "markdown",
      "metadata": {
        "id": "-pQHeKMAP79z"
      },
      "source": [
        "# Grid Search CV with decision Tree"
      ]
    },
    {
      "cell_type": "code",
      "metadata": {
        "id": "VKKjVmZBNA-u",
        "colab": {
          "base_uri": "https://localhost:8080/"
        },
        "outputId": "11bee78e-3dc5-453d-9b92-ceef62147c4d"
      },
      "source": [
        "param={'max_depth':[3,2,4,5,6,7,8,9],'min_samples_split':[1,2,3,4,5], 'min_impurity_split':[1,2,3,4,5],'max_features':[1,2,3,4,5,6]}\n",
        "dt=DecisionTreeRegressor()\n",
        "dtgrid=GridSearchCV(dt, param_grid=param,cv=3)\n",
        "dtgrid.fit(X_train,y_train)"
      ],
      "execution_count": null,
      "outputs": [
        {
          "output_type": "execute_result",
          "data": {
            "text/plain": [
              "GridSearchCV(cv=3, error_score=nan,\n",
              "             estimator=DecisionTreeRegressor(ccp_alpha=0.0, criterion='mse',\n",
              "                                             max_depth=None, max_features=None,\n",
              "                                             max_leaf_nodes=None,\n",
              "                                             min_impurity_decrease=0.0,\n",
              "                                             min_impurity_split=None,\n",
              "                                             min_samples_leaf=1,\n",
              "                                             min_samples_split=2,\n",
              "                                             min_weight_fraction_leaf=0.0,\n",
              "                                             presort='deprecated',\n",
              "                                             random_state=None,\n",
              "                                             splitter='best'),\n",
              "             iid='deprecated', n_jobs=None,\n",
              "             param_grid={'max_depth': [3, 2, 4, 5, 6, 7, 8, 9],\n",
              "                         'max_features': [1, 2, 3, 4, 5, 6],\n",
              "                         'min_impurity_split': [1, 2, 3, 4, 5],\n",
              "                         'min_samples_split': [1, 2, 3, 4, 5]},\n",
              "             pre_dispatch='2*n_jobs', refit=True, return_train_score=False,\n",
              "             scoring=None, verbose=0)"
            ]
          },
          "metadata": {},
          "execution_count": 60
        }
      ]
    },
    {
      "cell_type": "code",
      "metadata": {
        "id": "OaHTVO7pNA5Z",
        "colab": {
          "base_uri": "https://localhost:8080/"
        },
        "outputId": "350106a1-f85e-4236-f3a3-10c85f042f2b"
      },
      "source": [
        "# checking the best parameters\n",
        "dtgrid.best_params_"
      ],
      "execution_count": null,
      "outputs": [
        {
          "output_type": "execute_result",
          "data": {
            "text/plain": [
              "{'max_depth': 8,\n",
              " 'max_features': 2,\n",
              " 'min_impurity_split': 2,\n",
              " 'min_samples_split': 3}"
            ]
          },
          "metadata": {},
          "execution_count": 61
        }
      ]
    },
    {
      "cell_type": "code",
      "metadata": {
        "id": "RJPrjHy1NAwm",
        "colab": {
          "base_uri": "https://localhost:8080/"
        },
        "outputId": "be62e0f5-09e9-404a-9af1-bb7cbbd98de4"
      },
      "source": [
        "# using the best parameters for cross validation\n",
        "dt1=DecisionTreeRegressor(max_depth=9, min_samples_split= 3)\n",
        "cro=cross_val_score(dt1, X_train, y_train,scoring='r2')\n",
        "cro"
      ],
      "execution_count": null,
      "outputs": [
        {
          "output_type": "execute_result",
          "data": {
            "text/plain": [
              "array([-1.90909091, -1.14766289, -0.51650485, -0.30425379,  0.24057355])"
            ]
          },
          "metadata": {},
          "execution_count": 90
        }
      ]
    },
    {
      "cell_type": "code",
      "metadata": {
        "colab": {
          "base_uri": "https://localhost:8080/"
        },
        "id": "NIFLuioqQ6UM",
        "outputId": "fd9f0b7c-4f89-4641-e2aa-983ca0cd8fb6"
      },
      "source": [
        "np.mean(cro)"
      ],
      "execution_count": null,
      "outputs": [
        {
          "output_type": "execute_result",
          "data": {
            "text/plain": [
              "-0.727387777056969"
            ]
          },
          "metadata": {},
          "execution_count": 91
        }
      ]
    },
    {
      "cell_type": "code",
      "metadata": {
        "colab": {
          "base_uri": "https://localhost:8080/"
        },
        "id": "oLZBqOqrRBQz",
        "outputId": "5e5de0b0-b543-4204-b438-c076a15cdcb0"
      },
      "source": [
        "np.std(cro)"
      ],
      "execution_count": null,
      "outputs": [
        {
          "output_type": "execute_result",
          "data": {
            "text/plain": [
              "0.7393938843109257"
            ]
          },
          "metadata": {},
          "execution_count": 92
        }
      ]
    },
    {
      "cell_type": "markdown",
      "metadata": {
        "id": "qaoSvASAWdqy"
      },
      "source": [
        "We can still see that there is still overfitting"
      ]
    },
    {
      "cell_type": "markdown",
      "metadata": {
        "id": "GVqVoi36kaG3"
      },
      "source": [
        "# ***XGBoost***"
      ]
    },
    {
      "cell_type": "code",
      "metadata": {
        "colab": {
          "base_uri": "https://localhost:8080/"
        },
        "id": "z_LpIkwvkYi7",
        "outputId": "6402a5cf-a603-4b8c-9917-a08461846661"
      },
      "source": [
        "xb=xgb.XGBRegressor(n_estimators=100,min_child_weight=1)\n",
        "xb.fit(X_train,y_train)"
      ],
      "execution_count": null,
      "outputs": [
        {
          "output_type": "stream",
          "name": "stdout",
          "text": [
            "[17:20:52] WARNING: /workspace/src/objective/regression_obj.cu:152: reg:linear is now deprecated in favor of reg:squarederror.\n"
          ]
        },
        {
          "output_type": "execute_result",
          "data": {
            "text/plain": [
              "XGBRegressor(base_score=0.5, booster='gbtree', colsample_bylevel=1,\n",
              "             colsample_bynode=1, colsample_bytree=1, gamma=0,\n",
              "             importance_type='gain', learning_rate=0.1, max_delta_step=0,\n",
              "             max_depth=3, min_child_weight=1, missing=None, n_estimators=100,\n",
              "             n_jobs=1, nthread=None, objective='reg:linear', random_state=0,\n",
              "             reg_alpha=0, reg_lambda=1, scale_pos_weight=1, seed=None,\n",
              "             silent=None, subsample=1, verbosity=1)"
            ]
          },
          "metadata": {},
          "execution_count": 140
        }
      ]
    },
    {
      "cell_type": "code",
      "metadata": {
        "id": "WHyqyfOwkYd3"
      },
      "source": [
        "y_train_pred=xb.predict(X_train)\n",
        "y_test_pred=xb.predict(X_test)"
      ],
      "execution_count": null,
      "outputs": []
    },
    {
      "cell_type": "code",
      "metadata": {
        "colab": {
          "base_uri": "https://localhost:8080/"
        },
        "id": "lDxCtRxhkYVI",
        "outputId": "cade8165-ce25-4224-bbbe-e0834a977375"
      },
      "source": [
        "r2_score(y_train,y_train_pred)"
      ],
      "execution_count": null,
      "outputs": [
        {
          "output_type": "execute_result",
          "data": {
            "text/plain": [
              "0.9997107877960953"
            ]
          },
          "metadata": {},
          "execution_count": 142
        }
      ]
    },
    {
      "cell_type": "code",
      "metadata": {
        "colab": {
          "base_uri": "https://localhost:8080/"
        },
        "id": "fR9yX-bvkYKS",
        "outputId": "96cbfad0-0791-4cf2-91e0-a3d10154c9fd"
      },
      "source": [
        "r2_score(y_test,y_test_pred)"
      ],
      "execution_count": null,
      "outputs": [
        {
          "output_type": "execute_result",
          "data": {
            "text/plain": [
              "0.7327376860678196"
            ]
          },
          "metadata": {},
          "execution_count": 143
        }
      ]
    },
    {
      "cell_type": "markdown",
      "metadata": {
        "id": "KwK4PR3nJohY"
      },
      "source": [
        "# XGboost with Grid Search CV"
      ]
    },
    {
      "cell_type": "code",
      "metadata": {
        "colab": {
          "base_uri": "https://localhost:8080/"
        },
        "id": "u7pRqS-XllZH",
        "outputId": "f7946510-06ff-4c01-81c9-4df211f90c0f"
      },
      "source": [
        "lr2=xgb.XGBRegressor(n_estimators=100,min_child_weight=1)\n"
      ],
      "execution_count": null,
      "outputs": [
        {
          "output_type": "stream",
          "name": "stdout",
          "text": [
            "[15:55:55] WARNING: /workspace/src/objective/regression_obj.cu:152: reg:linear is now deprecated in favor of reg:squarederror.\n",
            "[15:55:55] WARNING: /workspace/src/objective/regression_obj.cu:152: reg:linear is now deprecated in favor of reg:squarederror.\n",
            "[15:55:55] WARNING: /workspace/src/objective/regression_obj.cu:152: reg:linear is now deprecated in favor of reg:squarederror.\n",
            "[15:55:55] WARNING: /workspace/src/objective/regression_obj.cu:152: reg:linear is now deprecated in favor of reg:squarederror.\n",
            "[15:55:55] WARNING: /workspace/src/objective/regression_obj.cu:152: reg:linear is now deprecated in favor of reg:squarederror.\n"
          ]
        },
        {
          "output_type": "execute_result",
          "data": {
            "text/plain": [
              "array([-0.83338746,  0.30894739,  0.30988293,  0.45984472,  0.34606095])"
            ]
          },
          "metadata": {},
          "execution_count": 65
        }
      ]
    },
    {
      "cell_type": "code",
      "metadata": {
        "colab": {
          "base_uri": "https://localhost:8080/"
        },
        "id": "TVuh3yJ3l72M",
        "outputId": "0b154121-6551-49c2-eecc-f5e2fa42a463"
      },
      "source": [
        "param={'booster':['gblinear','gbtree','dart'],'max_depth':[3,2,4,5,6,7,8,9],'min_child_weight':[1,2,3,4,5]}\n",
        "xgb1=xgb.XGBRegressor()\n",
        "xgb_grid=GridSearchCV(xgb1, param_grid=param,cv=5)\n",
        "xgb_grid.fit(X_train,y_train)"
      ],
      "execution_count": null,
      "outputs": [
        {
          "output_type": "stream",
          "name": "stdout",
          "text": [
            "[15:55:55] WARNING: /workspace/src/objective/regression_obj.cu:152: reg:linear is now deprecated in favor of reg:squarederror.\n",
            "[15:55:55] WARNING: /workspace/src/objective/regression_obj.cu:152: reg:linear is now deprecated in favor of reg:squarederror.\n",
            "[15:55:55] WARNING: /workspace/src/objective/regression_obj.cu:152: reg:linear is now deprecated in favor of reg:squarederror.\n",
            "[15:55:55] WARNING: /workspace/src/objective/regression_obj.cu:152: reg:linear is now deprecated in favor of reg:squarederror.\n",
            "[15:55:55] WARNING: /workspace/src/objective/regression_obj.cu:152: reg:linear is now deprecated in favor of reg:squarederror.\n",
            "[15:55:55] WARNING: /workspace/src/objective/regression_obj.cu:152: reg:linear is now deprecated in favor of reg:squarederror.\n",
            "[15:55:55] WARNING: /workspace/src/objective/regression_obj.cu:152: reg:linear is now deprecated in favor of reg:squarederror.\n",
            "[15:55:56] WARNING: /workspace/src/objective/regression_obj.cu:152: reg:linear is now deprecated in favor of reg:squarederror.\n",
            "[15:55:56] WARNING: /workspace/src/objective/regression_obj.cu:152: reg:linear is now deprecated in favor of reg:squarederror.\n",
            "[15:55:56] WARNING: /workspace/src/objective/regression_obj.cu:152: reg:linear is now deprecated in favor of reg:squarederror.\n",
            "[15:55:56] WARNING: /workspace/src/objective/regression_obj.cu:152: reg:linear is now deprecated in favor of reg:squarederror.\n",
            "[15:55:56] WARNING: /workspace/src/objective/regression_obj.cu:152: reg:linear is now deprecated in favor of reg:squarederror.\n",
            "[15:55:56] WARNING: /workspace/src/objective/regression_obj.cu:152: reg:linear is now deprecated in favor of reg:squarederror.\n",
            "[15:55:56] WARNING: /workspace/src/objective/regression_obj.cu:152: reg:linear is now deprecated in favor of reg:squarederror.\n",
            "[15:55:56] WARNING: /workspace/src/objective/regression_obj.cu:152: reg:linear is now deprecated in favor of reg:squarederror.\n",
            "[15:55:56] WARNING: /workspace/src/objective/regression_obj.cu:152: reg:linear is now deprecated in favor of reg:squarederror.\n",
            "[15:55:56] WARNING: /workspace/src/objective/regression_obj.cu:152: reg:linear is now deprecated in favor of reg:squarederror.\n",
            "[15:55:56] WARNING: /workspace/src/objective/regression_obj.cu:152: reg:linear is now deprecated in favor of reg:squarederror.\n",
            "[15:55:56] WARNING: /workspace/src/objective/regression_obj.cu:152: reg:linear is now deprecated in favor of reg:squarederror.\n",
            "[15:55:56] WARNING: /workspace/src/objective/regression_obj.cu:152: reg:linear is now deprecated in favor of reg:squarederror.\n",
            "[15:55:56] WARNING: /workspace/src/objective/regression_obj.cu:152: reg:linear is now deprecated in favor of reg:squarederror.\n",
            "[15:55:56] WARNING: /workspace/src/objective/regression_obj.cu:152: reg:linear is now deprecated in favor of reg:squarederror.\n",
            "[15:55:56] WARNING: /workspace/src/objective/regression_obj.cu:152: reg:linear is now deprecated in favor of reg:squarederror.\n",
            "[15:55:56] WARNING: /workspace/src/objective/regression_obj.cu:152: reg:linear is now deprecated in favor of reg:squarederror.\n",
            "[15:55:56] WARNING: /workspace/src/objective/regression_obj.cu:152: reg:linear is now deprecated in favor of reg:squarederror.\n",
            "[15:55:56] WARNING: /workspace/src/objective/regression_obj.cu:152: reg:linear is now deprecated in favor of reg:squarederror.\n",
            "[15:55:56] WARNING: /workspace/src/objective/regression_obj.cu:152: reg:linear is now deprecated in favor of reg:squarederror.\n",
            "[15:55:56] WARNING: /workspace/src/objective/regression_obj.cu:152: reg:linear is now deprecated in favor of reg:squarederror.\n",
            "[15:55:56] WARNING: /workspace/src/objective/regression_obj.cu:152: reg:linear is now deprecated in favor of reg:squarederror.\n",
            "[15:55:56] WARNING: /workspace/src/objective/regression_obj.cu:152: reg:linear is now deprecated in favor of reg:squarederror.\n",
            "[15:55:56] WARNING: /workspace/src/objective/regression_obj.cu:152: reg:linear is now deprecated in favor of reg:squarederror.\n",
            "[15:55:56] WARNING: /workspace/src/objective/regression_obj.cu:152: reg:linear is now deprecated in favor of reg:squarederror.\n",
            "[15:55:56] WARNING: /workspace/src/objective/regression_obj.cu:152: reg:linear is now deprecated in favor of reg:squarederror.\n",
            "[15:55:56] WARNING: /workspace/src/objective/regression_obj.cu:152: reg:linear is now deprecated in favor of reg:squarederror.\n",
            "[15:55:56] WARNING: /workspace/src/objective/regression_obj.cu:152: reg:linear is now deprecated in favor of reg:squarederror.\n",
            "[15:55:56] WARNING: /workspace/src/objective/regression_obj.cu:152: reg:linear is now deprecated in favor of reg:squarederror.\n",
            "[15:55:56] WARNING: /workspace/src/objective/regression_obj.cu:152: reg:linear is now deprecated in favor of reg:squarederror.\n",
            "[15:55:56] WARNING: /workspace/src/objective/regression_obj.cu:152: reg:linear is now deprecated in favor of reg:squarederror.\n",
            "[15:55:56] WARNING: /workspace/src/objective/regression_obj.cu:152: reg:linear is now deprecated in favor of reg:squarederror.\n",
            "[15:55:56] WARNING: /workspace/src/objective/regression_obj.cu:152: reg:linear is now deprecated in favor of reg:squarederror.\n",
            "[15:55:56] WARNING: /workspace/src/objective/regression_obj.cu:152: reg:linear is now deprecated in favor of reg:squarederror.\n",
            "[15:55:56] WARNING: /workspace/src/objective/regression_obj.cu:152: reg:linear is now deprecated in favor of reg:squarederror.\n",
            "[15:55:56] WARNING: /workspace/src/objective/regression_obj.cu:152: reg:linear is now deprecated in favor of reg:squarederror.\n",
            "[15:55:56] WARNING: /workspace/src/objective/regression_obj.cu:152: reg:linear is now deprecated in favor of reg:squarederror.\n",
            "[15:55:56] WARNING: /workspace/src/objective/regression_obj.cu:152: reg:linear is now deprecated in favor of reg:squarederror.\n",
            "[15:55:56] WARNING: /workspace/src/objective/regression_obj.cu:152: reg:linear is now deprecated in favor of reg:squarederror.\n",
            "[15:55:56] WARNING: /workspace/src/objective/regression_obj.cu:152: reg:linear is now deprecated in favor of reg:squarederror.\n",
            "[15:55:56] WARNING: /workspace/src/objective/regression_obj.cu:152: reg:linear is now deprecated in favor of reg:squarederror.\n",
            "[15:55:56] WARNING: /workspace/src/objective/regression_obj.cu:152: reg:linear is now deprecated in favor of reg:squarederror.\n",
            "[15:55:56] WARNING: /workspace/src/objective/regression_obj.cu:152: reg:linear is now deprecated in favor of reg:squarederror.\n",
            "[15:55:56] WARNING: /workspace/src/objective/regression_obj.cu:152: reg:linear is now deprecated in favor of reg:squarederror.\n",
            "[15:55:56] WARNING: /workspace/src/objective/regression_obj.cu:152: reg:linear is now deprecated in favor of reg:squarederror.\n",
            "[15:55:56] WARNING: /workspace/src/objective/regression_obj.cu:152: reg:linear is now deprecated in favor of reg:squarederror.\n",
            "[15:55:56] WARNING: /workspace/src/objective/regression_obj.cu:152: reg:linear is now deprecated in favor of reg:squarederror.\n",
            "[15:55:56] WARNING: /workspace/src/objective/regression_obj.cu:152: reg:linear is now deprecated in favor of reg:squarederror.\n",
            "[15:55:56] WARNING: /workspace/src/objective/regression_obj.cu:152: reg:linear is now deprecated in favor of reg:squarederror.\n",
            "[15:55:56] WARNING: /workspace/src/objective/regression_obj.cu:152: reg:linear is now deprecated in favor of reg:squarederror.\n",
            "[15:55:56] WARNING: /workspace/src/objective/regression_obj.cu:152: reg:linear is now deprecated in favor of reg:squarederror.\n",
            "[15:55:56] WARNING: /workspace/src/objective/regression_obj.cu:152: reg:linear is now deprecated in favor of reg:squarederror.\n",
            "[15:55:56] WARNING: /workspace/src/objective/regression_obj.cu:152: reg:linear is now deprecated in favor of reg:squarederror.\n",
            "[15:55:56] WARNING: /workspace/src/objective/regression_obj.cu:152: reg:linear is now deprecated in favor of reg:squarederror.\n",
            "[15:55:56] WARNING: /workspace/src/objective/regression_obj.cu:152: reg:linear is now deprecated in favor of reg:squarederror.\n",
            "[15:55:56] WARNING: /workspace/src/objective/regression_obj.cu:152: reg:linear is now deprecated in favor of reg:squarederror.\n",
            "[15:55:56] WARNING: /workspace/src/objective/regression_obj.cu:152: reg:linear is now deprecated in favor of reg:squarederror.\n",
            "[15:55:56] WARNING: /workspace/src/objective/regression_obj.cu:152: reg:linear is now deprecated in favor of reg:squarederror.\n",
            "[15:55:56] WARNING: /workspace/src/objective/regression_obj.cu:152: reg:linear is now deprecated in favor of reg:squarederror.\n",
            "[15:55:56] WARNING: /workspace/src/objective/regression_obj.cu:152: reg:linear is now deprecated in favor of reg:squarederror.\n",
            "[15:55:56] WARNING: /workspace/src/objective/regression_obj.cu:152: reg:linear is now deprecated in favor of reg:squarederror.\n",
            "[15:55:56] WARNING: /workspace/src/objective/regression_obj.cu:152: reg:linear is now deprecated in favor of reg:squarederror.\n",
            "[15:55:56] WARNING: /workspace/src/objective/regression_obj.cu:152: reg:linear is now deprecated in favor of reg:squarederror.\n",
            "[15:55:56] WARNING: /workspace/src/objective/regression_obj.cu:152: reg:linear is now deprecated in favor of reg:squarederror.\n",
            "[15:55:56] WARNING: /workspace/src/objective/regression_obj.cu:152: reg:linear is now deprecated in favor of reg:squarederror.\n",
            "[15:55:56] WARNING: /workspace/src/objective/regression_obj.cu:152: reg:linear is now deprecated in favor of reg:squarederror.\n",
            "[15:55:56] WARNING: /workspace/src/objective/regression_obj.cu:152: reg:linear is now deprecated in favor of reg:squarederror.\n",
            "[15:55:56] WARNING: /workspace/src/objective/regression_obj.cu:152: reg:linear is now deprecated in favor of reg:squarederror.\n",
            "[15:55:56] WARNING: /workspace/src/objective/regression_obj.cu:152: reg:linear is now deprecated in favor of reg:squarederror.\n",
            "[15:55:56] WARNING: /workspace/src/objective/regression_obj.cu:152: reg:linear is now deprecated in favor of reg:squarederror.\n",
            "[15:55:56] WARNING: /workspace/src/objective/regression_obj.cu:152: reg:linear is now deprecated in favor of reg:squarederror.\n",
            "[15:55:56] WARNING: /workspace/src/objective/regression_obj.cu:152: reg:linear is now deprecated in favor of reg:squarederror.\n",
            "[15:55:56] WARNING: /workspace/src/objective/regression_obj.cu:152: reg:linear is now deprecated in favor of reg:squarederror.\n",
            "[15:55:56] WARNING: /workspace/src/objective/regression_obj.cu:152: reg:linear is now deprecated in favor of reg:squarederror.\n",
            "[15:55:56] WARNING: /workspace/src/objective/regression_obj.cu:152: reg:linear is now deprecated in favor of reg:squarederror.\n",
            "[15:55:56] WARNING: /workspace/src/objective/regression_obj.cu:152: reg:linear is now deprecated in favor of reg:squarederror.\n",
            "[15:55:56] WARNING: /workspace/src/objective/regression_obj.cu:152: reg:linear is now deprecated in favor of reg:squarederror.\n",
            "[15:55:56] WARNING: /workspace/src/objective/regression_obj.cu:152: reg:linear is now deprecated in favor of reg:squarederror.\n",
            "[15:55:56] WARNING: /workspace/src/objective/regression_obj.cu:152: reg:linear is now deprecated in favor of reg:squarederror.\n",
            "[15:55:56] WARNING: /workspace/src/objective/regression_obj.cu:152: reg:linear is now deprecated in favor of reg:squarederror.\n",
            "[15:55:56] WARNING: /workspace/src/objective/regression_obj.cu:152: reg:linear is now deprecated in favor of reg:squarederror.\n",
            "[15:55:56] WARNING: /workspace/src/objective/regression_obj.cu:152: reg:linear is now deprecated in favor of reg:squarederror.\n",
            "[15:55:56] WARNING: /workspace/src/objective/regression_obj.cu:152: reg:linear is now deprecated in favor of reg:squarederror.\n",
            "[15:55:56] WARNING: /workspace/src/objective/regression_obj.cu:152: reg:linear is now deprecated in favor of reg:squarederror.\n",
            "[15:55:56] WARNING: /workspace/src/objective/regression_obj.cu:152: reg:linear is now deprecated in favor of reg:squarederror.\n",
            "[15:55:56] WARNING: /workspace/src/objective/regression_obj.cu:152: reg:linear is now deprecated in favor of reg:squarederror.\n",
            "[15:55:56] WARNING: /workspace/src/objective/regression_obj.cu:152: reg:linear is now deprecated in favor of reg:squarederror.\n",
            "[15:55:56] WARNING: /workspace/src/objective/regression_obj.cu:152: reg:linear is now deprecated in favor of reg:squarederror.\n",
            "[15:55:56] WARNING: /workspace/src/objective/regression_obj.cu:152: reg:linear is now deprecated in favor of reg:squarederror.\n",
            "[15:55:56] WARNING: /workspace/src/objective/regression_obj.cu:152: reg:linear is now deprecated in favor of reg:squarederror.\n",
            "[15:55:56] WARNING: /workspace/src/objective/regression_obj.cu:152: reg:linear is now deprecated in favor of reg:squarederror.\n",
            "[15:55:56] WARNING: /workspace/src/objective/regression_obj.cu:152: reg:linear is now deprecated in favor of reg:squarederror.\n",
            "[15:55:56] WARNING: /workspace/src/objective/regression_obj.cu:152: reg:linear is now deprecated in favor of reg:squarederror.\n",
            "[15:55:56] WARNING: /workspace/src/objective/regression_obj.cu:152: reg:linear is now deprecated in favor of reg:squarederror.\n",
            "[15:55:56] WARNING: /workspace/src/objective/regression_obj.cu:152: reg:linear is now deprecated in favor of reg:squarederror.\n",
            "[15:55:56] WARNING: /workspace/src/objective/regression_obj.cu:152: reg:linear is now deprecated in favor of reg:squarederror.\n",
            "[15:55:56] WARNING: /workspace/src/objective/regression_obj.cu:152: reg:linear is now deprecated in favor of reg:squarederror.\n",
            "[15:55:56] WARNING: /workspace/src/objective/regression_obj.cu:152: reg:linear is now deprecated in favor of reg:squarederror.\n",
            "[15:55:56] WARNING: /workspace/src/objective/regression_obj.cu:152: reg:linear is now deprecated in favor of reg:squarederror.\n",
            "[15:55:56] WARNING: /workspace/src/objective/regression_obj.cu:152: reg:linear is now deprecated in favor of reg:squarederror.\n",
            "[15:55:56] WARNING: /workspace/src/objective/regression_obj.cu:152: reg:linear is now deprecated in favor of reg:squarederror.\n",
            "[15:55:56] WARNING: /workspace/src/objective/regression_obj.cu:152: reg:linear is now deprecated in favor of reg:squarederror.\n",
            "[15:55:56] WARNING: /workspace/src/objective/regression_obj.cu:152: reg:linear is now deprecated in favor of reg:squarederror.\n",
            "[15:55:56] WARNING: /workspace/src/objective/regression_obj.cu:152: reg:linear is now deprecated in favor of reg:squarederror.\n",
            "[15:55:56] WARNING: /workspace/src/objective/regression_obj.cu:152: reg:linear is now deprecated in favor of reg:squarederror.\n",
            "[15:55:56] WARNING: /workspace/src/objective/regression_obj.cu:152: reg:linear is now deprecated in favor of reg:squarederror.\n",
            "[15:55:56] WARNING: /workspace/src/objective/regression_obj.cu:152: reg:linear is now deprecated in favor of reg:squarederror.\n",
            "[15:55:56] WARNING: /workspace/src/objective/regression_obj.cu:152: reg:linear is now deprecated in favor of reg:squarederror.\n",
            "[15:55:56] WARNING: /workspace/src/objective/regression_obj.cu:152: reg:linear is now deprecated in favor of reg:squarederror.\n",
            "[15:55:56] WARNING: /workspace/src/objective/regression_obj.cu:152: reg:linear is now deprecated in favor of reg:squarederror.\n",
            "[15:55:56] WARNING: /workspace/src/objective/regression_obj.cu:152: reg:linear is now deprecated in favor of reg:squarederror.\n",
            "[15:55:56] WARNING: /workspace/src/objective/regression_obj.cu:152: reg:linear is now deprecated in favor of reg:squarederror.\n",
            "[15:55:56] WARNING: /workspace/src/objective/regression_obj.cu:152: reg:linear is now deprecated in favor of reg:squarederror.\n",
            "[15:55:56] WARNING: /workspace/src/objective/regression_obj.cu:152: reg:linear is now deprecated in favor of reg:squarederror.\n",
            "[15:55:56] WARNING: /workspace/src/objective/regression_obj.cu:152: reg:linear is now deprecated in favor of reg:squarederror.\n",
            "[15:55:56] WARNING: /workspace/src/objective/regression_obj.cu:152: reg:linear is now deprecated in favor of reg:squarederror.\n",
            "[15:55:56] WARNING: /workspace/src/objective/regression_obj.cu:152: reg:linear is now deprecated in favor of reg:squarederror.\n",
            "[15:55:56] WARNING: /workspace/src/objective/regression_obj.cu:152: reg:linear is now deprecated in favor of reg:squarederror.\n",
            "[15:55:56] WARNING: /workspace/src/objective/regression_obj.cu:152: reg:linear is now deprecated in favor of reg:squarederror.\n",
            "[15:55:56] WARNING: /workspace/src/objective/regression_obj.cu:152: reg:linear is now deprecated in favor of reg:squarederror.\n",
            "[15:55:56] WARNING: /workspace/src/objective/regression_obj.cu:152: reg:linear is now deprecated in favor of reg:squarederror.\n",
            "[15:55:56] WARNING: /workspace/src/objective/regression_obj.cu:152: reg:linear is now deprecated in favor of reg:squarederror.\n",
            "[15:55:56] WARNING: /workspace/src/objective/regression_obj.cu:152: reg:linear is now deprecated in favor of reg:squarederror.\n",
            "[15:55:56] WARNING: /workspace/src/objective/regression_obj.cu:152: reg:linear is now deprecated in favor of reg:squarederror.\n",
            "[15:55:56] WARNING: /workspace/src/objective/regression_obj.cu:152: reg:linear is now deprecated in favor of reg:squarederror.\n",
            "[15:55:56] WARNING: /workspace/src/objective/regression_obj.cu:152: reg:linear is now deprecated in favor of reg:squarederror.\n",
            "[15:55:56] WARNING: /workspace/src/objective/regression_obj.cu:152: reg:linear is now deprecated in favor of reg:squarederror.\n",
            "[15:55:56] WARNING: /workspace/src/objective/regression_obj.cu:152: reg:linear is now deprecated in favor of reg:squarederror.\n",
            "[15:55:56] WARNING: /workspace/src/objective/regression_obj.cu:152: reg:linear is now deprecated in favor of reg:squarederror.\n",
            "[15:55:56] WARNING: /workspace/src/objective/regression_obj.cu:152: reg:linear is now deprecated in favor of reg:squarederror.\n",
            "[15:55:57] WARNING: /workspace/src/objective/regression_obj.cu:152: reg:linear is now deprecated in favor of reg:squarederror.\n",
            "[15:55:57] WARNING: /workspace/src/objective/regression_obj.cu:152: reg:linear is now deprecated in favor of reg:squarederror.\n",
            "[15:55:57] WARNING: /workspace/src/objective/regression_obj.cu:152: reg:linear is now deprecated in favor of reg:squarederror.\n",
            "[15:55:57] WARNING: /workspace/src/objective/regression_obj.cu:152: reg:linear is now deprecated in favor of reg:squarederror.\n",
            "[15:55:57] WARNING: /workspace/src/objective/regression_obj.cu:152: reg:linear is now deprecated in favor of reg:squarederror.\n",
            "[15:55:57] WARNING: /workspace/src/objective/regression_obj.cu:152: reg:linear is now deprecated in favor of reg:squarederror.\n",
            "[15:55:57] WARNING: /workspace/src/objective/regression_obj.cu:152: reg:linear is now deprecated in favor of reg:squarederror.\n",
            "[15:55:57] WARNING: /workspace/src/objective/regression_obj.cu:152: reg:linear is now deprecated in favor of reg:squarederror.\n",
            "[15:55:57] WARNING: /workspace/src/objective/regression_obj.cu:152: reg:linear is now deprecated in favor of reg:squarederror.\n",
            "[15:55:57] WARNING: /workspace/src/objective/regression_obj.cu:152: reg:linear is now deprecated in favor of reg:squarederror.\n",
            "[15:55:57] WARNING: /workspace/src/objective/regression_obj.cu:152: reg:linear is now deprecated in favor of reg:squarederror.\n",
            "[15:55:57] WARNING: /workspace/src/objective/regression_obj.cu:152: reg:linear is now deprecated in favor of reg:squarederror.\n",
            "[15:55:57] WARNING: /workspace/src/objective/regression_obj.cu:152: reg:linear is now deprecated in favor of reg:squarederror.\n",
            "[15:55:57] WARNING: /workspace/src/objective/regression_obj.cu:152: reg:linear is now deprecated in favor of reg:squarederror.\n",
            "[15:55:57] WARNING: /workspace/src/objective/regression_obj.cu:152: reg:linear is now deprecated in favor of reg:squarederror.\n",
            "[15:55:57] WARNING: /workspace/src/objective/regression_obj.cu:152: reg:linear is now deprecated in favor of reg:squarederror.\n",
            "[15:55:57] WARNING: /workspace/src/objective/regression_obj.cu:152: reg:linear is now deprecated in favor of reg:squarederror.\n",
            "[15:55:57] WARNING: /workspace/src/objective/regression_obj.cu:152: reg:linear is now deprecated in favor of reg:squarederror.\n",
            "[15:55:57] WARNING: /workspace/src/objective/regression_obj.cu:152: reg:linear is now deprecated in favor of reg:squarederror.\n",
            "[15:55:57] WARNING: /workspace/src/objective/regression_obj.cu:152: reg:linear is now deprecated in favor of reg:squarederror.\n",
            "[15:55:57] WARNING: /workspace/src/objective/regression_obj.cu:152: reg:linear is now deprecated in favor of reg:squarederror.\n",
            "[15:55:57] WARNING: /workspace/src/objective/regression_obj.cu:152: reg:linear is now deprecated in favor of reg:squarederror.\n",
            "[15:55:57] WARNING: /workspace/src/objective/regression_obj.cu:152: reg:linear is now deprecated in favor of reg:squarederror.\n",
            "[15:55:57] WARNING: /workspace/src/objective/regression_obj.cu:152: reg:linear is now deprecated in favor of reg:squarederror.\n",
            "[15:55:57] WARNING: /workspace/src/objective/regression_obj.cu:152: reg:linear is now deprecated in favor of reg:squarederror.\n",
            "[15:55:57] WARNING: /workspace/src/objective/regression_obj.cu:152: reg:linear is now deprecated in favor of reg:squarederror.\n",
            "[15:55:57] WARNING: /workspace/src/objective/regression_obj.cu:152: reg:linear is now deprecated in favor of reg:squarederror.\n",
            "[15:55:57] WARNING: /workspace/src/objective/regression_obj.cu:152: reg:linear is now deprecated in favor of reg:squarederror.\n",
            "[15:55:57] WARNING: /workspace/src/objective/regression_obj.cu:152: reg:linear is now deprecated in favor of reg:squarederror.\n",
            "[15:55:57] WARNING: /workspace/src/objective/regression_obj.cu:152: reg:linear is now deprecated in favor of reg:squarederror.\n",
            "[15:55:57] WARNING: /workspace/src/objective/regression_obj.cu:152: reg:linear is now deprecated in favor of reg:squarederror.\n",
            "[15:55:57] WARNING: /workspace/src/objective/regression_obj.cu:152: reg:linear is now deprecated in favor of reg:squarederror.\n",
            "[15:55:57] WARNING: /workspace/src/objective/regression_obj.cu:152: reg:linear is now deprecated in favor of reg:squarederror.\n",
            "[15:55:57] WARNING: /workspace/src/objective/regression_obj.cu:152: reg:linear is now deprecated in favor of reg:squarederror.\n",
            "[15:55:57] WARNING: /workspace/src/objective/regression_obj.cu:152: reg:linear is now deprecated in favor of reg:squarederror.\n",
            "[15:55:57] WARNING: /workspace/src/objective/regression_obj.cu:152: reg:linear is now deprecated in favor of reg:squarederror.\n",
            "[15:55:57] WARNING: /workspace/src/objective/regression_obj.cu:152: reg:linear is now deprecated in favor of reg:squarederror.\n",
            "[15:55:57] WARNING: /workspace/src/objective/regression_obj.cu:152: reg:linear is now deprecated in favor of reg:squarederror.\n",
            "[15:55:57] WARNING: /workspace/src/objective/regression_obj.cu:152: reg:linear is now deprecated in favor of reg:squarederror.\n",
            "[15:55:57] WARNING: /workspace/src/objective/regression_obj.cu:152: reg:linear is now deprecated in favor of reg:squarederror.\n",
            "[15:55:57] WARNING: /workspace/src/objective/regression_obj.cu:152: reg:linear is now deprecated in favor of reg:squarederror.\n",
            "[15:55:57] WARNING: /workspace/src/objective/regression_obj.cu:152: reg:linear is now deprecated in favor of reg:squarederror.\n",
            "[15:55:57] WARNING: /workspace/src/objective/regression_obj.cu:152: reg:linear is now deprecated in favor of reg:squarederror.\n",
            "[15:55:57] WARNING: /workspace/src/objective/regression_obj.cu:152: reg:linear is now deprecated in favor of reg:squarederror.\n",
            "[15:55:57] WARNING: /workspace/src/objective/regression_obj.cu:152: reg:linear is now deprecated in favor of reg:squarederror.\n",
            "[15:55:57] WARNING: /workspace/src/objective/regression_obj.cu:152: reg:linear is now deprecated in favor of reg:squarederror.\n",
            "[15:55:57] WARNING: /workspace/src/objective/regression_obj.cu:152: reg:linear is now deprecated in favor of reg:squarederror.\n",
            "[15:55:57] WARNING: /workspace/src/objective/regression_obj.cu:152: reg:linear is now deprecated in favor of reg:squarederror.\n",
            "[15:55:57] WARNING: /workspace/src/objective/regression_obj.cu:152: reg:linear is now deprecated in favor of reg:squarederror.\n",
            "[15:55:57] WARNING: /workspace/src/objective/regression_obj.cu:152: reg:linear is now deprecated in favor of reg:squarederror.\n",
            "[15:55:57] WARNING: /workspace/src/objective/regression_obj.cu:152: reg:linear is now deprecated in favor of reg:squarederror.\n",
            "[15:55:57] WARNING: /workspace/src/objective/regression_obj.cu:152: reg:linear is now deprecated in favor of reg:squarederror.\n",
            "[15:55:57] WARNING: /workspace/src/objective/regression_obj.cu:152: reg:linear is now deprecated in favor of reg:squarederror.\n",
            "[15:55:57] WARNING: /workspace/src/objective/regression_obj.cu:152: reg:linear is now deprecated in favor of reg:squarederror.\n",
            "[15:55:57] WARNING: /workspace/src/objective/regression_obj.cu:152: reg:linear is now deprecated in favor of reg:squarederror.\n",
            "[15:55:57] WARNING: /workspace/src/objective/regression_obj.cu:152: reg:linear is now deprecated in favor of reg:squarederror.\n",
            "[15:55:57] WARNING: /workspace/src/objective/regression_obj.cu:152: reg:linear is now deprecated in favor of reg:squarederror.\n",
            "[15:55:57] WARNING: /workspace/src/objective/regression_obj.cu:152: reg:linear is now deprecated in favor of reg:squarederror.\n",
            "[15:55:57] WARNING: /workspace/src/objective/regression_obj.cu:152: reg:linear is now deprecated in favor of reg:squarederror.\n",
            "[15:55:57] WARNING: /workspace/src/objective/regression_obj.cu:152: reg:linear is now deprecated in favor of reg:squarederror.\n",
            "[15:55:57] WARNING: /workspace/src/objective/regression_obj.cu:152: reg:linear is now deprecated in favor of reg:squarederror.\n",
            "[15:55:57] WARNING: /workspace/src/objective/regression_obj.cu:152: reg:linear is now deprecated in favor of reg:squarederror.\n",
            "[15:55:57] WARNING: /workspace/src/objective/regression_obj.cu:152: reg:linear is now deprecated in favor of reg:squarederror.\n",
            "[15:55:57] WARNING: /workspace/src/objective/regression_obj.cu:152: reg:linear is now deprecated in favor of reg:squarederror.\n",
            "[15:55:57] WARNING: /workspace/src/objective/regression_obj.cu:152: reg:linear is now deprecated in favor of reg:squarederror.\n",
            "[15:55:57] WARNING: /workspace/src/objective/regression_obj.cu:152: reg:linear is now deprecated in favor of reg:squarederror.\n",
            "[15:55:57] WARNING: /workspace/src/objective/regression_obj.cu:152: reg:linear is now deprecated in favor of reg:squarederror.\n",
            "[15:55:57] WARNING: /workspace/src/objective/regression_obj.cu:152: reg:linear is now deprecated in favor of reg:squarederror.\n",
            "[15:55:57] WARNING: /workspace/src/objective/regression_obj.cu:152: reg:linear is now deprecated in favor of reg:squarederror.\n",
            "[15:55:57] WARNING: /workspace/src/objective/regression_obj.cu:152: reg:linear is now deprecated in favor of reg:squarederror.\n",
            "[15:55:57] WARNING: /workspace/src/objective/regression_obj.cu:152: reg:linear is now deprecated in favor of reg:squarederror.\n",
            "[15:55:57] WARNING: /workspace/src/objective/regression_obj.cu:152: reg:linear is now deprecated in favor of reg:squarederror.\n",
            "[15:55:57] WARNING: /workspace/src/objective/regression_obj.cu:152: reg:linear is now deprecated in favor of reg:squarederror.\n",
            "[15:55:57] WARNING: /workspace/src/objective/regression_obj.cu:152: reg:linear is now deprecated in favor of reg:squarederror.\n",
            "[15:55:57] WARNING: /workspace/src/objective/regression_obj.cu:152: reg:linear is now deprecated in favor of reg:squarederror.\n",
            "[15:55:57] WARNING: /workspace/src/objective/regression_obj.cu:152: reg:linear is now deprecated in favor of reg:squarederror.\n",
            "[15:55:57] WARNING: /workspace/src/objective/regression_obj.cu:152: reg:linear is now deprecated in favor of reg:squarederror.\n",
            "[15:55:57] WARNING: /workspace/src/objective/regression_obj.cu:152: reg:linear is now deprecated in favor of reg:squarederror.\n",
            "[15:55:57] WARNING: /workspace/src/objective/regression_obj.cu:152: reg:linear is now deprecated in favor of reg:squarederror.\n",
            "[15:55:57] WARNING: /workspace/src/objective/regression_obj.cu:152: reg:linear is now deprecated in favor of reg:squarederror.\n",
            "[15:55:57] WARNING: /workspace/src/objective/regression_obj.cu:152: reg:linear is now deprecated in favor of reg:squarederror.\n",
            "[15:55:57] WARNING: /workspace/src/objective/regression_obj.cu:152: reg:linear is now deprecated in favor of reg:squarederror.\n",
            "[15:55:57] WARNING: /workspace/src/objective/regression_obj.cu:152: reg:linear is now deprecated in favor of reg:squarederror.\n",
            "[15:55:57] WARNING: /workspace/src/objective/regression_obj.cu:152: reg:linear is now deprecated in favor of reg:squarederror.\n",
            "[15:55:57] WARNING: /workspace/src/objective/regression_obj.cu:152: reg:linear is now deprecated in favor of reg:squarederror.\n",
            "[15:55:57] WARNING: /workspace/src/objective/regression_obj.cu:152: reg:linear is now deprecated in favor of reg:squarederror.\n",
            "[15:55:57] WARNING: /workspace/src/objective/regression_obj.cu:152: reg:linear is now deprecated in favor of reg:squarederror.\n",
            "[15:55:57] WARNING: /workspace/src/objective/regression_obj.cu:152: reg:linear is now deprecated in favor of reg:squarederror.\n",
            "[15:55:57] WARNING: /workspace/src/objective/regression_obj.cu:152: reg:linear is now deprecated in favor of reg:squarederror.\n",
            "[15:55:57] WARNING: /workspace/src/objective/regression_obj.cu:152: reg:linear is now deprecated in favor of reg:squarederror.\n",
            "[15:55:57] WARNING: /workspace/src/objective/regression_obj.cu:152: reg:linear is now deprecated in favor of reg:squarederror.\n",
            "[15:55:57] WARNING: /workspace/src/objective/regression_obj.cu:152: reg:linear is now deprecated in favor of reg:squarederror.\n",
            "[15:55:57] WARNING: /workspace/src/objective/regression_obj.cu:152: reg:linear is now deprecated in favor of reg:squarederror.\n",
            "[15:55:57] WARNING: /workspace/src/objective/regression_obj.cu:152: reg:linear is now deprecated in favor of reg:squarederror.\n",
            "[15:55:57] WARNING: /workspace/src/objective/regression_obj.cu:152: reg:linear is now deprecated in favor of reg:squarederror.\n",
            "[15:55:57] WARNING: /workspace/src/objective/regression_obj.cu:152: reg:linear is now deprecated in favor of reg:squarederror.\n",
            "[15:55:57] WARNING: /workspace/src/objective/regression_obj.cu:152: reg:linear is now deprecated in favor of reg:squarederror.\n",
            "[15:55:57] WARNING: /workspace/src/objective/regression_obj.cu:152: reg:linear is now deprecated in favor of reg:squarederror.\n",
            "[15:55:57] WARNING: /workspace/src/objective/regression_obj.cu:152: reg:linear is now deprecated in favor of reg:squarederror.\n",
            "[15:55:57] WARNING: /workspace/src/objective/regression_obj.cu:152: reg:linear is now deprecated in favor of reg:squarederror.\n",
            "[15:55:57] WARNING: /workspace/src/objective/regression_obj.cu:152: reg:linear is now deprecated in favor of reg:squarederror.\n",
            "[15:55:57] WARNING: /workspace/src/objective/regression_obj.cu:152: reg:linear is now deprecated in favor of reg:squarederror.\n",
            "[15:55:57] WARNING: /workspace/src/objective/regression_obj.cu:152: reg:linear is now deprecated in favor of reg:squarederror.\n",
            "[15:55:57] WARNING: /workspace/src/objective/regression_obj.cu:152: reg:linear is now deprecated in favor of reg:squarederror.\n",
            "[15:55:57] WARNING: /workspace/src/objective/regression_obj.cu:152: reg:linear is now deprecated in favor of reg:squarederror.\n",
            "[15:55:57] WARNING: /workspace/src/objective/regression_obj.cu:152: reg:linear is now deprecated in favor of reg:squarederror.\n",
            "[15:55:57] WARNING: /workspace/src/objective/regression_obj.cu:152: reg:linear is now deprecated in favor of reg:squarederror.\n",
            "[15:55:57] WARNING: /workspace/src/objective/regression_obj.cu:152: reg:linear is now deprecated in favor of reg:squarederror.\n",
            "[15:55:57] WARNING: /workspace/src/objective/regression_obj.cu:152: reg:linear is now deprecated in favor of reg:squarederror.\n",
            "[15:55:57] WARNING: /workspace/src/objective/regression_obj.cu:152: reg:linear is now deprecated in favor of reg:squarederror.\n",
            "[15:55:57] WARNING: /workspace/src/objective/regression_obj.cu:152: reg:linear is now deprecated in favor of reg:squarederror.\n",
            "[15:55:57] WARNING: /workspace/src/objective/regression_obj.cu:152: reg:linear is now deprecated in favor of reg:squarederror.\n",
            "[15:55:57] WARNING: /workspace/src/objective/regression_obj.cu:152: reg:linear is now deprecated in favor of reg:squarederror.\n",
            "[15:55:58] WARNING: /workspace/src/objective/regression_obj.cu:152: reg:linear is now deprecated in favor of reg:squarederror.\n",
            "[15:55:58] WARNING: /workspace/src/objective/regression_obj.cu:152: reg:linear is now deprecated in favor of reg:squarederror.\n",
            "[15:55:58] WARNING: /workspace/src/objective/regression_obj.cu:152: reg:linear is now deprecated in favor of reg:squarederror.\n",
            "[15:55:58] WARNING: /workspace/src/objective/regression_obj.cu:152: reg:linear is now deprecated in favor of reg:squarederror.\n",
            "[15:55:58] WARNING: /workspace/src/objective/regression_obj.cu:152: reg:linear is now deprecated in favor of reg:squarederror.\n",
            "[15:55:58] WARNING: /workspace/src/objective/regression_obj.cu:152: reg:linear is now deprecated in favor of reg:squarederror.\n",
            "[15:55:58] WARNING: /workspace/src/objective/regression_obj.cu:152: reg:linear is now deprecated in favor of reg:squarederror.\n",
            "[15:55:58] WARNING: /workspace/src/objective/regression_obj.cu:152: reg:linear is now deprecated in favor of reg:squarederror.\n",
            "[15:55:58] WARNING: /workspace/src/objective/regression_obj.cu:152: reg:linear is now deprecated in favor of reg:squarederror.\n",
            "[15:55:58] WARNING: /workspace/src/objective/regression_obj.cu:152: reg:linear is now deprecated in favor of reg:squarederror.\n",
            "[15:55:58] WARNING: /workspace/src/objective/regression_obj.cu:152: reg:linear is now deprecated in favor of reg:squarederror.\n",
            "[15:55:58] WARNING: /workspace/src/objective/regression_obj.cu:152: reg:linear is now deprecated in favor of reg:squarederror.\n",
            "[15:55:58] WARNING: /workspace/src/objective/regression_obj.cu:152: reg:linear is now deprecated in favor of reg:squarederror.\n",
            "[15:55:58] WARNING: /workspace/src/objective/regression_obj.cu:152: reg:linear is now deprecated in favor of reg:squarederror.\n",
            "[15:55:58] WARNING: /workspace/src/objective/regression_obj.cu:152: reg:linear is now deprecated in favor of reg:squarederror.\n",
            "[15:55:58] WARNING: /workspace/src/objective/regression_obj.cu:152: reg:linear is now deprecated in favor of reg:squarederror.\n",
            "[15:55:58] WARNING: /workspace/src/objective/regression_obj.cu:152: reg:linear is now deprecated in favor of reg:squarederror.\n",
            "[15:55:58] WARNING: /workspace/src/objective/regression_obj.cu:152: reg:linear is now deprecated in favor of reg:squarederror.\n",
            "[15:55:58] WARNING: /workspace/src/objective/regression_obj.cu:152: reg:linear is now deprecated in favor of reg:squarederror.\n",
            "[15:55:58] WARNING: /workspace/src/objective/regression_obj.cu:152: reg:linear is now deprecated in favor of reg:squarederror.\n",
            "[15:55:58] WARNING: /workspace/src/objective/regression_obj.cu:152: reg:linear is now deprecated in favor of reg:squarederror.\n",
            "[15:55:58] WARNING: /workspace/src/objective/regression_obj.cu:152: reg:linear is now deprecated in favor of reg:squarederror.\n",
            "[15:55:58] WARNING: /workspace/src/objective/regression_obj.cu:152: reg:linear is now deprecated in favor of reg:squarederror.\n",
            "[15:55:58] WARNING: /workspace/src/objective/regression_obj.cu:152: reg:linear is now deprecated in favor of reg:squarederror.\n",
            "[15:55:58] WARNING: /workspace/src/objective/regression_obj.cu:152: reg:linear is now deprecated in favor of reg:squarederror.\n",
            "[15:55:58] WARNING: /workspace/src/objective/regression_obj.cu:152: reg:linear is now deprecated in favor of reg:squarederror.\n",
            "[15:55:58] WARNING: /workspace/src/objective/regression_obj.cu:152: reg:linear is now deprecated in favor of reg:squarederror.\n",
            "[15:55:58] WARNING: /workspace/src/objective/regression_obj.cu:152: reg:linear is now deprecated in favor of reg:squarederror.\n",
            "[15:55:58] WARNING: /workspace/src/objective/regression_obj.cu:152: reg:linear is now deprecated in favor of reg:squarederror.\n",
            "[15:55:58] WARNING: /workspace/src/objective/regression_obj.cu:152: reg:linear is now deprecated in favor of reg:squarederror.\n",
            "[15:55:58] WARNING: /workspace/src/objective/regression_obj.cu:152: reg:linear is now deprecated in favor of reg:squarederror.\n",
            "[15:55:58] WARNING: /workspace/src/objective/regression_obj.cu:152: reg:linear is now deprecated in favor of reg:squarederror.\n",
            "[15:55:58] WARNING: /workspace/src/objective/regression_obj.cu:152: reg:linear is now deprecated in favor of reg:squarederror.\n",
            "[15:55:58] WARNING: /workspace/src/objective/regression_obj.cu:152: reg:linear is now deprecated in favor of reg:squarederror.\n",
            "[15:55:58] WARNING: /workspace/src/objective/regression_obj.cu:152: reg:linear is now deprecated in favor of reg:squarederror.\n",
            "[15:55:58] WARNING: /workspace/src/objective/regression_obj.cu:152: reg:linear is now deprecated in favor of reg:squarederror.\n",
            "[15:55:58] WARNING: /workspace/src/objective/regression_obj.cu:152: reg:linear is now deprecated in favor of reg:squarederror.\n",
            "[15:55:58] WARNING: /workspace/src/objective/regression_obj.cu:152: reg:linear is now deprecated in favor of reg:squarederror.\n",
            "[15:55:58] WARNING: /workspace/src/objective/regression_obj.cu:152: reg:linear is now deprecated in favor of reg:squarederror.\n",
            "[15:55:58] WARNING: /workspace/src/objective/regression_obj.cu:152: reg:linear is now deprecated in favor of reg:squarederror.\n",
            "[15:55:58] WARNING: /workspace/src/objective/regression_obj.cu:152: reg:linear is now deprecated in favor of reg:squarederror.\n",
            "[15:55:58] WARNING: /workspace/src/objective/regression_obj.cu:152: reg:linear is now deprecated in favor of reg:squarederror.\n",
            "[15:55:58] WARNING: /workspace/src/objective/regression_obj.cu:152: reg:linear is now deprecated in favor of reg:squarederror.\n",
            "[15:55:58] WARNING: /workspace/src/objective/regression_obj.cu:152: reg:linear is now deprecated in favor of reg:squarederror.\n",
            "[15:55:58] WARNING: /workspace/src/objective/regression_obj.cu:152: reg:linear is now deprecated in favor of reg:squarederror.\n",
            "[15:55:58] WARNING: /workspace/src/objective/regression_obj.cu:152: reg:linear is now deprecated in favor of reg:squarederror.\n",
            "[15:55:58] WARNING: /workspace/src/objective/regression_obj.cu:152: reg:linear is now deprecated in favor of reg:squarederror.\n",
            "[15:55:58] WARNING: /workspace/src/objective/regression_obj.cu:152: reg:linear is now deprecated in favor of reg:squarederror.\n",
            "[15:55:58] WARNING: /workspace/src/objective/regression_obj.cu:152: reg:linear is now deprecated in favor of reg:squarederror.\n",
            "[15:55:58] WARNING: /workspace/src/objective/regression_obj.cu:152: reg:linear is now deprecated in favor of reg:squarederror.\n",
            "[15:55:58] WARNING: /workspace/src/objective/regression_obj.cu:152: reg:linear is now deprecated in favor of reg:squarederror.\n",
            "[15:55:58] WARNING: /workspace/src/objective/regression_obj.cu:152: reg:linear is now deprecated in favor of reg:squarederror.\n",
            "[15:55:58] WARNING: /workspace/src/objective/regression_obj.cu:152: reg:linear is now deprecated in favor of reg:squarederror.\n",
            "[15:55:58] WARNING: /workspace/src/objective/regression_obj.cu:152: reg:linear is now deprecated in favor of reg:squarederror.\n",
            "[15:55:58] WARNING: /workspace/src/objective/regression_obj.cu:152: reg:linear is now deprecated in favor of reg:squarederror.\n",
            "[15:55:58] WARNING: /workspace/src/objective/regression_obj.cu:152: reg:linear is now deprecated in favor of reg:squarederror.\n",
            "[15:55:58] WARNING: /workspace/src/objective/regression_obj.cu:152: reg:linear is now deprecated in favor of reg:squarederror.\n",
            "[15:55:58] WARNING: /workspace/src/objective/regression_obj.cu:152: reg:linear is now deprecated in favor of reg:squarederror.\n",
            "[15:55:58] WARNING: /workspace/src/objective/regression_obj.cu:152: reg:linear is now deprecated in favor of reg:squarederror.\n",
            "[15:55:58] WARNING: /workspace/src/objective/regression_obj.cu:152: reg:linear is now deprecated in favor of reg:squarederror.\n",
            "[15:55:58] WARNING: /workspace/src/objective/regression_obj.cu:152: reg:linear is now deprecated in favor of reg:squarederror.\n",
            "[15:55:58] WARNING: /workspace/src/objective/regression_obj.cu:152: reg:linear is now deprecated in favor of reg:squarederror.\n",
            "[15:55:58] WARNING: /workspace/src/objective/regression_obj.cu:152: reg:linear is now deprecated in favor of reg:squarederror.\n",
            "[15:55:58] WARNING: /workspace/src/objective/regression_obj.cu:152: reg:linear is now deprecated in favor of reg:squarederror.\n",
            "[15:55:58] WARNING: /workspace/src/objective/regression_obj.cu:152: reg:linear is now deprecated in favor of reg:squarederror.\n",
            "[15:55:58] WARNING: /workspace/src/objective/regression_obj.cu:152: reg:linear is now deprecated in favor of reg:squarederror.\n",
            "[15:55:58] WARNING: /workspace/src/objective/regression_obj.cu:152: reg:linear is now deprecated in favor of reg:squarederror.\n",
            "[15:55:58] WARNING: /workspace/src/objective/regression_obj.cu:152: reg:linear is now deprecated in favor of reg:squarederror.\n",
            "[15:55:58] WARNING: /workspace/src/objective/regression_obj.cu:152: reg:linear is now deprecated in favor of reg:squarederror.\n",
            "[15:55:58] WARNING: /workspace/src/objective/regression_obj.cu:152: reg:linear is now deprecated in favor of reg:squarederror.\n",
            "[15:55:58] WARNING: /workspace/src/objective/regression_obj.cu:152: reg:linear is now deprecated in favor of reg:squarederror.\n",
            "[15:55:58] WARNING: /workspace/src/objective/regression_obj.cu:152: reg:linear is now deprecated in favor of reg:squarederror.\n",
            "[15:55:58] WARNING: /workspace/src/objective/regression_obj.cu:152: reg:linear is now deprecated in favor of reg:squarederror.\n",
            "[15:55:58] WARNING: /workspace/src/objective/regression_obj.cu:152: reg:linear is now deprecated in favor of reg:squarederror.\n",
            "[15:55:58] WARNING: /workspace/src/objective/regression_obj.cu:152: reg:linear is now deprecated in favor of reg:squarederror.\n",
            "[15:55:58] WARNING: /workspace/src/objective/regression_obj.cu:152: reg:linear is now deprecated in favor of reg:squarederror.\n",
            "[15:55:58] WARNING: /workspace/src/objective/regression_obj.cu:152: reg:linear is now deprecated in favor of reg:squarederror.\n",
            "[15:55:58] WARNING: /workspace/src/objective/regression_obj.cu:152: reg:linear is now deprecated in favor of reg:squarederror.\n",
            "[15:55:58] WARNING: /workspace/src/objective/regression_obj.cu:152: reg:linear is now deprecated in favor of reg:squarederror.\n",
            "[15:55:58] WARNING: /workspace/src/objective/regression_obj.cu:152: reg:linear is now deprecated in favor of reg:squarederror.\n",
            "[15:55:58] WARNING: /workspace/src/objective/regression_obj.cu:152: reg:linear is now deprecated in favor of reg:squarederror.\n",
            "[15:55:58] WARNING: /workspace/src/objective/regression_obj.cu:152: reg:linear is now deprecated in favor of reg:squarederror.\n",
            "[15:55:58] WARNING: /workspace/src/objective/regression_obj.cu:152: reg:linear is now deprecated in favor of reg:squarederror.\n",
            "[15:55:58] WARNING: /workspace/src/objective/regression_obj.cu:152: reg:linear is now deprecated in favor of reg:squarederror.\n",
            "[15:55:58] WARNING: /workspace/src/objective/regression_obj.cu:152: reg:linear is now deprecated in favor of reg:squarederror.\n",
            "[15:55:58] WARNING: /workspace/src/objective/regression_obj.cu:152: reg:linear is now deprecated in favor of reg:squarederror.\n",
            "[15:55:58] WARNING: /workspace/src/objective/regression_obj.cu:152: reg:linear is now deprecated in favor of reg:squarederror.\n",
            "[15:55:58] WARNING: /workspace/src/objective/regression_obj.cu:152: reg:linear is now deprecated in favor of reg:squarederror.\n",
            "[15:55:58] WARNING: /workspace/src/objective/regression_obj.cu:152: reg:linear is now deprecated in favor of reg:squarederror.\n",
            "[15:55:58] WARNING: /workspace/src/objective/regression_obj.cu:152: reg:linear is now deprecated in favor of reg:squarederror.\n",
            "[15:55:59] WARNING: /workspace/src/objective/regression_obj.cu:152: reg:linear is now deprecated in favor of reg:squarederror.\n",
            "[15:55:59] WARNING: /workspace/src/objective/regression_obj.cu:152: reg:linear is now deprecated in favor of reg:squarederror.\n",
            "[15:55:59] WARNING: /workspace/src/objective/regression_obj.cu:152: reg:linear is now deprecated in favor of reg:squarederror.\n",
            "[15:55:59] WARNING: /workspace/src/objective/regression_obj.cu:152: reg:linear is now deprecated in favor of reg:squarederror.\n",
            "[15:55:59] WARNING: /workspace/src/objective/regression_obj.cu:152: reg:linear is now deprecated in favor of reg:squarederror.\n",
            "[15:55:59] WARNING: /workspace/src/objective/regression_obj.cu:152: reg:linear is now deprecated in favor of reg:squarederror.\n",
            "[15:55:59] WARNING: /workspace/src/objective/regression_obj.cu:152: reg:linear is now deprecated in favor of reg:squarederror.\n",
            "[15:55:59] WARNING: /workspace/src/objective/regression_obj.cu:152: reg:linear is now deprecated in favor of reg:squarederror.\n",
            "[15:55:59] WARNING: /workspace/src/objective/regression_obj.cu:152: reg:linear is now deprecated in favor of reg:squarederror.\n",
            "[15:55:59] WARNING: /workspace/src/objective/regression_obj.cu:152: reg:linear is now deprecated in favor of reg:squarederror.\n",
            "[15:55:59] WARNING: /workspace/src/objective/regression_obj.cu:152: reg:linear is now deprecated in favor of reg:squarederror.\n",
            "[15:55:59] WARNING: /workspace/src/objective/regression_obj.cu:152: reg:linear is now deprecated in favor of reg:squarederror.\n",
            "[15:55:59] WARNING: /workspace/src/objective/regression_obj.cu:152: reg:linear is now deprecated in favor of reg:squarederror.\n",
            "[15:55:59] WARNING: /workspace/src/objective/regression_obj.cu:152: reg:linear is now deprecated in favor of reg:squarederror.\n",
            "[15:55:59] WARNING: /workspace/src/objective/regression_obj.cu:152: reg:linear is now deprecated in favor of reg:squarederror.\n",
            "[15:55:59] WARNING: /workspace/src/objective/regression_obj.cu:152: reg:linear is now deprecated in favor of reg:squarederror.\n",
            "[15:55:59] WARNING: /workspace/src/objective/regression_obj.cu:152: reg:linear is now deprecated in favor of reg:squarederror.\n",
            "[15:55:59] WARNING: /workspace/src/objective/regression_obj.cu:152: reg:linear is now deprecated in favor of reg:squarederror.\n",
            "[15:55:59] WARNING: /workspace/src/objective/regression_obj.cu:152: reg:linear is now deprecated in favor of reg:squarederror.\n",
            "[15:55:59] WARNING: /workspace/src/objective/regression_obj.cu:152: reg:linear is now deprecated in favor of reg:squarederror.\n",
            "[15:55:59] WARNING: /workspace/src/objective/regression_obj.cu:152: reg:linear is now deprecated in favor of reg:squarederror.\n",
            "[15:55:59] WARNING: /workspace/src/objective/regression_obj.cu:152: reg:linear is now deprecated in favor of reg:squarederror.\n",
            "[15:55:59] WARNING: /workspace/src/objective/regression_obj.cu:152: reg:linear is now deprecated in favor of reg:squarederror.\n",
            "[15:55:59] WARNING: /workspace/src/objective/regression_obj.cu:152: reg:linear is now deprecated in favor of reg:squarederror.\n",
            "[15:55:59] WARNING: /workspace/src/objective/regression_obj.cu:152: reg:linear is now deprecated in favor of reg:squarederror.\n",
            "[15:55:59] WARNING: /workspace/src/objective/regression_obj.cu:152: reg:linear is now deprecated in favor of reg:squarederror.\n",
            "[15:55:59] WARNING: /workspace/src/objective/regression_obj.cu:152: reg:linear is now deprecated in favor of reg:squarederror.\n",
            "[15:55:59] WARNING: /workspace/src/objective/regression_obj.cu:152: reg:linear is now deprecated in favor of reg:squarederror.\n",
            "[15:55:59] WARNING: /workspace/src/objective/regression_obj.cu:152: reg:linear is now deprecated in favor of reg:squarederror.\n",
            "[15:55:59] WARNING: /workspace/src/objective/regression_obj.cu:152: reg:linear is now deprecated in favor of reg:squarederror.\n",
            "[15:55:59] WARNING: /workspace/src/objective/regression_obj.cu:152: reg:linear is now deprecated in favor of reg:squarederror.\n",
            "[15:55:59] WARNING: /workspace/src/objective/regression_obj.cu:152: reg:linear is now deprecated in favor of reg:squarederror.\n",
            "[15:55:59] WARNING: /workspace/src/objective/regression_obj.cu:152: reg:linear is now deprecated in favor of reg:squarederror.\n",
            "[15:55:59] WARNING: /workspace/src/objective/regression_obj.cu:152: reg:linear is now deprecated in favor of reg:squarederror.\n",
            "[15:55:59] WARNING: /workspace/src/objective/regression_obj.cu:152: reg:linear is now deprecated in favor of reg:squarederror.\n",
            "[15:55:59] WARNING: /workspace/src/objective/regression_obj.cu:152: reg:linear is now deprecated in favor of reg:squarederror.\n",
            "[15:55:59] WARNING: /workspace/src/objective/regression_obj.cu:152: reg:linear is now deprecated in favor of reg:squarederror.\n",
            "[15:55:59] WARNING: /workspace/src/objective/regression_obj.cu:152: reg:linear is now deprecated in favor of reg:squarederror.\n",
            "[15:55:59] WARNING: /workspace/src/objective/regression_obj.cu:152: reg:linear is now deprecated in favor of reg:squarederror.\n",
            "[15:55:59] WARNING: /workspace/src/objective/regression_obj.cu:152: reg:linear is now deprecated in favor of reg:squarederror.\n",
            "[15:55:59] WARNING: /workspace/src/objective/regression_obj.cu:152: reg:linear is now deprecated in favor of reg:squarederror.\n",
            "[15:55:59] WARNING: /workspace/src/objective/regression_obj.cu:152: reg:linear is now deprecated in favor of reg:squarederror.\n",
            "[15:55:59] WARNING: /workspace/src/objective/regression_obj.cu:152: reg:linear is now deprecated in favor of reg:squarederror.\n",
            "[15:55:59] WARNING: /workspace/src/objective/regression_obj.cu:152: reg:linear is now deprecated in favor of reg:squarederror.\n",
            "[15:55:59] WARNING: /workspace/src/objective/regression_obj.cu:152: reg:linear is now deprecated in favor of reg:squarederror.\n",
            "[15:55:59] WARNING: /workspace/src/objective/regression_obj.cu:152: reg:linear is now deprecated in favor of reg:squarederror.\n",
            "[15:55:59] WARNING: /workspace/src/objective/regression_obj.cu:152: reg:linear is now deprecated in favor of reg:squarederror.\n",
            "[15:55:59] WARNING: /workspace/src/objective/regression_obj.cu:152: reg:linear is now deprecated in favor of reg:squarederror.\n",
            "[15:55:59] WARNING: /workspace/src/objective/regression_obj.cu:152: reg:linear is now deprecated in favor of reg:squarederror.\n",
            "[15:55:59] WARNING: /workspace/src/objective/regression_obj.cu:152: reg:linear is now deprecated in favor of reg:squarederror.\n",
            "[15:55:59] WARNING: /workspace/src/objective/regression_obj.cu:152: reg:linear is now deprecated in favor of reg:squarederror.\n",
            "[15:55:59] WARNING: /workspace/src/objective/regression_obj.cu:152: reg:linear is now deprecated in favor of reg:squarederror.\n",
            "[15:55:59] WARNING: /workspace/src/objective/regression_obj.cu:152: reg:linear is now deprecated in favor of reg:squarederror.\n",
            "[15:55:59] WARNING: /workspace/src/objective/regression_obj.cu:152: reg:linear is now deprecated in favor of reg:squarederror.\n",
            "[15:55:59] WARNING: /workspace/src/objective/regression_obj.cu:152: reg:linear is now deprecated in favor of reg:squarederror.\n",
            "[15:55:59] WARNING: /workspace/src/objective/regression_obj.cu:152: reg:linear is now deprecated in favor of reg:squarederror.\n",
            "[15:55:59] WARNING: /workspace/src/objective/regression_obj.cu:152: reg:linear is now deprecated in favor of reg:squarederror.\n",
            "[15:55:59] WARNING: /workspace/src/objective/regression_obj.cu:152: reg:linear is now deprecated in favor of reg:squarederror.\n",
            "[15:55:59] WARNING: /workspace/src/objective/regression_obj.cu:152: reg:linear is now deprecated in favor of reg:squarederror.\n",
            "[15:55:59] WARNING: /workspace/src/objective/regression_obj.cu:152: reg:linear is now deprecated in favor of reg:squarederror.\n",
            "[15:55:59] WARNING: /workspace/src/objective/regression_obj.cu:152: reg:linear is now deprecated in favor of reg:squarederror.\n",
            "[15:55:59] WARNING: /workspace/src/objective/regression_obj.cu:152: reg:linear is now deprecated in favor of reg:squarederror.\n",
            "[15:55:59] WARNING: /workspace/src/objective/regression_obj.cu:152: reg:linear is now deprecated in favor of reg:squarederror.\n",
            "[15:55:59] WARNING: /workspace/src/objective/regression_obj.cu:152: reg:linear is now deprecated in favor of reg:squarederror.\n",
            "[15:55:59] WARNING: /workspace/src/objective/regression_obj.cu:152: reg:linear is now deprecated in favor of reg:squarederror.\n",
            "[15:55:59] WARNING: /workspace/src/objective/regression_obj.cu:152: reg:linear is now deprecated in favor of reg:squarederror.\n",
            "[15:55:59] WARNING: /workspace/src/objective/regression_obj.cu:152: reg:linear is now deprecated in favor of reg:squarederror.\n",
            "[15:55:59] WARNING: /workspace/src/objective/regression_obj.cu:152: reg:linear is now deprecated in favor of reg:squarederror.\n",
            "[15:55:59] WARNING: /workspace/src/objective/regression_obj.cu:152: reg:linear is now deprecated in favor of reg:squarederror.\n",
            "[15:55:59] WARNING: /workspace/src/objective/regression_obj.cu:152: reg:linear is now deprecated in favor of reg:squarederror.\n",
            "[15:55:59] WARNING: /workspace/src/objective/regression_obj.cu:152: reg:linear is now deprecated in favor of reg:squarederror.\n",
            "[15:55:59] WARNING: /workspace/src/objective/regression_obj.cu:152: reg:linear is now deprecated in favor of reg:squarederror.\n",
            "[15:55:59] WARNING: /workspace/src/objective/regression_obj.cu:152: reg:linear is now deprecated in favor of reg:squarederror.\n",
            "[15:55:59] WARNING: /workspace/src/objective/regression_obj.cu:152: reg:linear is now deprecated in favor of reg:squarederror.\n",
            "[15:55:59] WARNING: /workspace/src/objective/regression_obj.cu:152: reg:linear is now deprecated in favor of reg:squarederror.\n",
            "[15:55:59] WARNING: /workspace/src/objective/regression_obj.cu:152: reg:linear is now deprecated in favor of reg:squarederror.\n",
            "[15:55:59] WARNING: /workspace/src/objective/regression_obj.cu:152: reg:linear is now deprecated in favor of reg:squarederror.\n",
            "[15:55:59] WARNING: /workspace/src/objective/regression_obj.cu:152: reg:linear is now deprecated in favor of reg:squarederror.\n",
            "[15:55:59] WARNING: /workspace/src/objective/regression_obj.cu:152: reg:linear is now deprecated in favor of reg:squarederror.\n",
            "[15:55:59] WARNING: /workspace/src/objective/regression_obj.cu:152: reg:linear is now deprecated in favor of reg:squarederror.\n",
            "[15:55:59] WARNING: /workspace/src/objective/regression_obj.cu:152: reg:linear is now deprecated in favor of reg:squarederror.\n",
            "[15:55:59] WARNING: /workspace/src/objective/regression_obj.cu:152: reg:linear is now deprecated in favor of reg:squarederror.\n",
            "[15:55:59] WARNING: /workspace/src/objective/regression_obj.cu:152: reg:linear is now deprecated in favor of reg:squarederror.\n",
            "[15:55:59] WARNING: /workspace/src/objective/regression_obj.cu:152: reg:linear is now deprecated in favor of reg:squarederror.\n",
            "[15:55:59] WARNING: /workspace/src/objective/regression_obj.cu:152: reg:linear is now deprecated in favor of reg:squarederror.\n",
            "[15:55:59] WARNING: /workspace/src/objective/regression_obj.cu:152: reg:linear is now deprecated in favor of reg:squarederror.\n",
            "[15:55:59] WARNING: /workspace/src/objective/regression_obj.cu:152: reg:linear is now deprecated in favor of reg:squarederror.\n",
            "[15:55:59] WARNING: /workspace/src/objective/regression_obj.cu:152: reg:linear is now deprecated in favor of reg:squarederror.\n",
            "[15:56:00] WARNING: /workspace/src/objective/regression_obj.cu:152: reg:linear is now deprecated in favor of reg:squarederror.\n",
            "[15:56:00] WARNING: /workspace/src/objective/regression_obj.cu:152: reg:linear is now deprecated in favor of reg:squarederror.\n",
            "[15:56:00] WARNING: /workspace/src/objective/regression_obj.cu:152: reg:linear is now deprecated in favor of reg:squarederror.\n",
            "[15:56:00] WARNING: /workspace/src/objective/regression_obj.cu:152: reg:linear is now deprecated in favor of reg:squarederror.\n",
            "[15:56:00] WARNING: /workspace/src/objective/regression_obj.cu:152: reg:linear is now deprecated in favor of reg:squarederror.\n",
            "[15:56:00] WARNING: /workspace/src/objective/regression_obj.cu:152: reg:linear is now deprecated in favor of reg:squarederror.\n",
            "[15:56:00] WARNING: /workspace/src/objective/regression_obj.cu:152: reg:linear is now deprecated in favor of reg:squarederror.\n",
            "[15:56:00] WARNING: /workspace/src/objective/regression_obj.cu:152: reg:linear is now deprecated in favor of reg:squarederror.\n",
            "[15:56:00] WARNING: /workspace/src/objective/regression_obj.cu:152: reg:linear is now deprecated in favor of reg:squarederror.\n",
            "[15:56:00] WARNING: /workspace/src/objective/regression_obj.cu:152: reg:linear is now deprecated in favor of reg:squarederror.\n",
            "[15:56:00] WARNING: /workspace/src/objective/regression_obj.cu:152: reg:linear is now deprecated in favor of reg:squarederror.\n",
            "[15:56:00] WARNING: /workspace/src/objective/regression_obj.cu:152: reg:linear is now deprecated in favor of reg:squarederror.\n",
            "[15:56:00] WARNING: /workspace/src/objective/regression_obj.cu:152: reg:linear is now deprecated in favor of reg:squarederror.\n",
            "[15:56:00] WARNING: /workspace/src/objective/regression_obj.cu:152: reg:linear is now deprecated in favor of reg:squarederror.\n",
            "[15:56:00] WARNING: /workspace/src/objective/regression_obj.cu:152: reg:linear is now deprecated in favor of reg:squarederror.\n",
            "[15:56:00] WARNING: /workspace/src/objective/regression_obj.cu:152: reg:linear is now deprecated in favor of reg:squarederror.\n",
            "[15:56:00] WARNING: /workspace/src/objective/regression_obj.cu:152: reg:linear is now deprecated in favor of reg:squarederror.\n",
            "[15:56:00] WARNING: /workspace/src/objective/regression_obj.cu:152: reg:linear is now deprecated in favor of reg:squarederror.\n",
            "[15:56:00] WARNING: /workspace/src/objective/regression_obj.cu:152: reg:linear is now deprecated in favor of reg:squarederror.\n",
            "[15:56:00] WARNING: /workspace/src/objective/regression_obj.cu:152: reg:linear is now deprecated in favor of reg:squarederror.\n",
            "[15:56:00] WARNING: /workspace/src/objective/regression_obj.cu:152: reg:linear is now deprecated in favor of reg:squarederror.\n",
            "[15:56:00] WARNING: /workspace/src/objective/regression_obj.cu:152: reg:linear is now deprecated in favor of reg:squarederror.\n",
            "[15:56:00] WARNING: /workspace/src/objective/regression_obj.cu:152: reg:linear is now deprecated in favor of reg:squarederror.\n",
            "[15:56:00] WARNING: /workspace/src/objective/regression_obj.cu:152: reg:linear is now deprecated in favor of reg:squarederror.\n",
            "[15:56:00] WARNING: /workspace/src/objective/regression_obj.cu:152: reg:linear is now deprecated in favor of reg:squarederror.\n",
            "[15:56:00] WARNING: /workspace/src/objective/regression_obj.cu:152: reg:linear is now deprecated in favor of reg:squarederror.\n",
            "[15:56:00] WARNING: /workspace/src/objective/regression_obj.cu:152: reg:linear is now deprecated in favor of reg:squarederror.\n",
            "[15:56:00] WARNING: /workspace/src/objective/regression_obj.cu:152: reg:linear is now deprecated in favor of reg:squarederror.\n",
            "[15:56:00] WARNING: /workspace/src/objective/regression_obj.cu:152: reg:linear is now deprecated in favor of reg:squarederror.\n",
            "[15:56:00] WARNING: /workspace/src/objective/regression_obj.cu:152: reg:linear is now deprecated in favor of reg:squarederror.\n",
            "[15:56:00] WARNING: /workspace/src/objective/regression_obj.cu:152: reg:linear is now deprecated in favor of reg:squarederror.\n",
            "[15:56:00] WARNING: /workspace/src/objective/regression_obj.cu:152: reg:linear is now deprecated in favor of reg:squarederror.\n",
            "[15:56:00] WARNING: /workspace/src/objective/regression_obj.cu:152: reg:linear is now deprecated in favor of reg:squarederror.\n",
            "[15:56:00] WARNING: /workspace/src/objective/regression_obj.cu:152: reg:linear is now deprecated in favor of reg:squarederror.\n",
            "[15:56:00] WARNING: /workspace/src/objective/regression_obj.cu:152: reg:linear is now deprecated in favor of reg:squarederror.\n",
            "[15:56:00] WARNING: /workspace/src/objective/regression_obj.cu:152: reg:linear is now deprecated in favor of reg:squarederror.\n",
            "[15:56:00] WARNING: /workspace/src/objective/regression_obj.cu:152: reg:linear is now deprecated in favor of reg:squarederror.\n",
            "[15:56:00] WARNING: /workspace/src/objective/regression_obj.cu:152: reg:linear is now deprecated in favor of reg:squarederror.\n",
            "[15:56:00] WARNING: /workspace/src/objective/regression_obj.cu:152: reg:linear is now deprecated in favor of reg:squarederror.\n",
            "[15:56:00] WARNING: /workspace/src/objective/regression_obj.cu:152: reg:linear is now deprecated in favor of reg:squarederror.\n",
            "[15:56:00] WARNING: /workspace/src/objective/regression_obj.cu:152: reg:linear is now deprecated in favor of reg:squarederror.\n",
            "[15:56:00] WARNING: /workspace/src/objective/regression_obj.cu:152: reg:linear is now deprecated in favor of reg:squarederror.\n",
            "[15:56:00] WARNING: /workspace/src/objective/regression_obj.cu:152: reg:linear is now deprecated in favor of reg:squarederror.\n",
            "[15:56:00] WARNING: /workspace/src/objective/regression_obj.cu:152: reg:linear is now deprecated in favor of reg:squarederror.\n",
            "[15:56:00] WARNING: /workspace/src/objective/regression_obj.cu:152: reg:linear is now deprecated in favor of reg:squarederror.\n",
            "[15:56:00] WARNING: /workspace/src/objective/regression_obj.cu:152: reg:linear is now deprecated in favor of reg:squarederror.\n",
            "[15:56:00] WARNING: /workspace/src/objective/regression_obj.cu:152: reg:linear is now deprecated in favor of reg:squarederror.\n",
            "[15:56:00] WARNING: /workspace/src/objective/regression_obj.cu:152: reg:linear is now deprecated in favor of reg:squarederror.\n",
            "[15:56:00] WARNING: /workspace/src/objective/regression_obj.cu:152: reg:linear is now deprecated in favor of reg:squarederror.\n",
            "[15:56:00] WARNING: /workspace/src/objective/regression_obj.cu:152: reg:linear is now deprecated in favor of reg:squarederror.\n",
            "[15:56:00] WARNING: /workspace/src/objective/regression_obj.cu:152: reg:linear is now deprecated in favor of reg:squarederror.\n",
            "[15:56:00] WARNING: /workspace/src/objective/regression_obj.cu:152: reg:linear is now deprecated in favor of reg:squarederror.\n",
            "[15:56:00] WARNING: /workspace/src/objective/regression_obj.cu:152: reg:linear is now deprecated in favor of reg:squarederror.\n",
            "[15:56:00] WARNING: /workspace/src/objective/regression_obj.cu:152: reg:linear is now deprecated in favor of reg:squarederror.\n",
            "[15:56:00] WARNING: /workspace/src/objective/regression_obj.cu:152: reg:linear is now deprecated in favor of reg:squarederror.\n",
            "[15:56:00] WARNING: /workspace/src/objective/regression_obj.cu:152: reg:linear is now deprecated in favor of reg:squarederror.\n",
            "[15:56:00] WARNING: /workspace/src/objective/regression_obj.cu:152: reg:linear is now deprecated in favor of reg:squarederror.\n",
            "[15:56:00] WARNING: /workspace/src/objective/regression_obj.cu:152: reg:linear is now deprecated in favor of reg:squarederror.\n",
            "[15:56:00] WARNING: /workspace/src/objective/regression_obj.cu:152: reg:linear is now deprecated in favor of reg:squarederror.\n",
            "[15:56:00] WARNING: /workspace/src/objective/regression_obj.cu:152: reg:linear is now deprecated in favor of reg:squarederror.\n",
            "[15:56:00] WARNING: /workspace/src/objective/regression_obj.cu:152: reg:linear is now deprecated in favor of reg:squarederror.\n",
            "[15:56:00] WARNING: /workspace/src/objective/regression_obj.cu:152: reg:linear is now deprecated in favor of reg:squarederror.\n",
            "[15:56:00] WARNING: /workspace/src/objective/regression_obj.cu:152: reg:linear is now deprecated in favor of reg:squarederror.\n",
            "[15:56:00] WARNING: /workspace/src/objective/regression_obj.cu:152: reg:linear is now deprecated in favor of reg:squarederror.\n",
            "[15:56:00] WARNING: /workspace/src/objective/regression_obj.cu:152: reg:linear is now deprecated in favor of reg:squarederror.\n",
            "[15:56:00] WARNING: /workspace/src/objective/regression_obj.cu:152: reg:linear is now deprecated in favor of reg:squarederror.\n",
            "[15:56:00] WARNING: /workspace/src/objective/regression_obj.cu:152: reg:linear is now deprecated in favor of reg:squarederror.\n",
            "[15:56:00] WARNING: /workspace/src/objective/regression_obj.cu:152: reg:linear is now deprecated in favor of reg:squarederror.\n",
            "[15:56:00] WARNING: /workspace/src/objective/regression_obj.cu:152: reg:linear is now deprecated in favor of reg:squarederror.\n",
            "[15:56:00] WARNING: /workspace/src/objective/regression_obj.cu:152: reg:linear is now deprecated in favor of reg:squarederror.\n",
            "[15:56:00] WARNING: /workspace/src/objective/regression_obj.cu:152: reg:linear is now deprecated in favor of reg:squarederror.\n",
            "[15:56:00] WARNING: /workspace/src/objective/regression_obj.cu:152: reg:linear is now deprecated in favor of reg:squarederror.\n",
            "[15:56:00] WARNING: /workspace/src/objective/regression_obj.cu:152: reg:linear is now deprecated in favor of reg:squarederror.\n",
            "[15:56:00] WARNING: /workspace/src/objective/regression_obj.cu:152: reg:linear is now deprecated in favor of reg:squarederror.\n",
            "[15:56:00] WARNING: /workspace/src/objective/regression_obj.cu:152: reg:linear is now deprecated in favor of reg:squarederror.\n",
            "[15:56:00] WARNING: /workspace/src/objective/regression_obj.cu:152: reg:linear is now deprecated in favor of reg:squarederror.\n",
            "[15:56:00] WARNING: /workspace/src/objective/regression_obj.cu:152: reg:linear is now deprecated in favor of reg:squarederror.\n",
            "[15:56:00] WARNING: /workspace/src/objective/regression_obj.cu:152: reg:linear is now deprecated in favor of reg:squarederror.\n",
            "[15:56:00] WARNING: /workspace/src/objective/regression_obj.cu:152: reg:linear is now deprecated in favor of reg:squarederror.\n",
            "[15:56:00] WARNING: /workspace/src/objective/regression_obj.cu:152: reg:linear is now deprecated in favor of reg:squarederror.\n",
            "[15:56:00] WARNING: /workspace/src/objective/regression_obj.cu:152: reg:linear is now deprecated in favor of reg:squarederror.\n",
            "[15:56:00] WARNING: /workspace/src/objective/regression_obj.cu:152: reg:linear is now deprecated in favor of reg:squarederror.\n",
            "[15:56:01] WARNING: /workspace/src/objective/regression_obj.cu:152: reg:linear is now deprecated in favor of reg:squarederror.\n",
            "[15:56:01] WARNING: /workspace/src/objective/regression_obj.cu:152: reg:linear is now deprecated in favor of reg:squarederror.\n",
            "[15:56:01] WARNING: /workspace/src/objective/regression_obj.cu:152: reg:linear is now deprecated in favor of reg:squarederror.\n",
            "[15:56:01] WARNING: /workspace/src/objective/regression_obj.cu:152: reg:linear is now deprecated in favor of reg:squarederror.\n",
            "[15:56:01] WARNING: /workspace/src/objective/regression_obj.cu:152: reg:linear is now deprecated in favor of reg:squarederror.\n",
            "[15:56:01] WARNING: /workspace/src/objective/regression_obj.cu:152: reg:linear is now deprecated in favor of reg:squarederror.\n",
            "[15:56:01] WARNING: /workspace/src/objective/regression_obj.cu:152: reg:linear is now deprecated in favor of reg:squarederror.\n",
            "[15:56:01] WARNING: /workspace/src/objective/regression_obj.cu:152: reg:linear is now deprecated in favor of reg:squarederror.\n",
            "[15:56:01] WARNING: /workspace/src/objective/regression_obj.cu:152: reg:linear is now deprecated in favor of reg:squarederror.\n",
            "[15:56:01] WARNING: /workspace/src/objective/regression_obj.cu:152: reg:linear is now deprecated in favor of reg:squarederror.\n",
            "[15:56:01] WARNING: /workspace/src/objective/regression_obj.cu:152: reg:linear is now deprecated in favor of reg:squarederror.\n",
            "[15:56:01] WARNING: /workspace/src/objective/regression_obj.cu:152: reg:linear is now deprecated in favor of reg:squarederror.\n",
            "[15:56:01] WARNING: /workspace/src/objective/regression_obj.cu:152: reg:linear is now deprecated in favor of reg:squarederror.\n",
            "[15:56:01] WARNING: /workspace/src/objective/regression_obj.cu:152: reg:linear is now deprecated in favor of reg:squarederror.\n",
            "[15:56:01] WARNING: /workspace/src/objective/regression_obj.cu:152: reg:linear is now deprecated in favor of reg:squarederror.\n",
            "[15:56:01] WARNING: /workspace/src/objective/regression_obj.cu:152: reg:linear is now deprecated in favor of reg:squarederror.\n",
            "[15:56:01] WARNING: /workspace/src/objective/regression_obj.cu:152: reg:linear is now deprecated in favor of reg:squarederror.\n",
            "[15:56:01] WARNING: /workspace/src/objective/regression_obj.cu:152: reg:linear is now deprecated in favor of reg:squarederror.\n",
            "[15:56:01] WARNING: /workspace/src/objective/regression_obj.cu:152: reg:linear is now deprecated in favor of reg:squarederror.\n",
            "[15:56:01] WARNING: /workspace/src/objective/regression_obj.cu:152: reg:linear is now deprecated in favor of reg:squarederror.\n",
            "[15:56:01] WARNING: /workspace/src/objective/regression_obj.cu:152: reg:linear is now deprecated in favor of reg:squarederror.\n",
            "[15:56:01] WARNING: /workspace/src/objective/regression_obj.cu:152: reg:linear is now deprecated in favor of reg:squarederror.\n",
            "[15:56:01] WARNING: /workspace/src/objective/regression_obj.cu:152: reg:linear is now deprecated in favor of reg:squarederror.\n",
            "[15:56:01] WARNING: /workspace/src/objective/regression_obj.cu:152: reg:linear is now deprecated in favor of reg:squarederror.\n",
            "[15:56:01] WARNING: /workspace/src/objective/regression_obj.cu:152: reg:linear is now deprecated in favor of reg:squarederror.\n",
            "[15:56:01] WARNING: /workspace/src/objective/regression_obj.cu:152: reg:linear is now deprecated in favor of reg:squarederror.\n",
            "[15:56:01] WARNING: /workspace/src/objective/regression_obj.cu:152: reg:linear is now deprecated in favor of reg:squarederror.\n",
            "[15:56:01] WARNING: /workspace/src/objective/regression_obj.cu:152: reg:linear is now deprecated in favor of reg:squarederror.\n",
            "[15:56:01] WARNING: /workspace/src/objective/regression_obj.cu:152: reg:linear is now deprecated in favor of reg:squarederror.\n",
            "[15:56:01] WARNING: /workspace/src/objective/regression_obj.cu:152: reg:linear is now deprecated in favor of reg:squarederror.\n",
            "[15:56:01] WARNING: /workspace/src/objective/regression_obj.cu:152: reg:linear is now deprecated in favor of reg:squarederror.\n",
            "[15:56:01] WARNING: /workspace/src/objective/regression_obj.cu:152: reg:linear is now deprecated in favor of reg:squarederror.\n",
            "[15:56:01] WARNING: /workspace/src/objective/regression_obj.cu:152: reg:linear is now deprecated in favor of reg:squarederror.\n",
            "[15:56:01] WARNING: /workspace/src/objective/regression_obj.cu:152: reg:linear is now deprecated in favor of reg:squarederror.\n",
            "[15:56:01] WARNING: /workspace/src/objective/regression_obj.cu:152: reg:linear is now deprecated in favor of reg:squarederror.\n",
            "[15:56:01] WARNING: /workspace/src/objective/regression_obj.cu:152: reg:linear is now deprecated in favor of reg:squarederror.\n",
            "[15:56:01] WARNING: /workspace/src/objective/regression_obj.cu:152: reg:linear is now deprecated in favor of reg:squarederror.\n",
            "[15:56:01] WARNING: /workspace/src/objective/regression_obj.cu:152: reg:linear is now deprecated in favor of reg:squarederror.\n",
            "[15:56:01] WARNING: /workspace/src/objective/regression_obj.cu:152: reg:linear is now deprecated in favor of reg:squarederror.\n",
            "[15:56:01] WARNING: /workspace/src/objective/regression_obj.cu:152: reg:linear is now deprecated in favor of reg:squarederror.\n",
            "[15:56:01] WARNING: /workspace/src/objective/regression_obj.cu:152: reg:linear is now deprecated in favor of reg:squarederror.\n",
            "[15:56:01] WARNING: /workspace/src/objective/regression_obj.cu:152: reg:linear is now deprecated in favor of reg:squarederror.\n",
            "[15:56:01] WARNING: /workspace/src/objective/regression_obj.cu:152: reg:linear is now deprecated in favor of reg:squarederror.\n",
            "[15:56:01] WARNING: /workspace/src/objective/regression_obj.cu:152: reg:linear is now deprecated in favor of reg:squarederror.\n",
            "[15:56:01] WARNING: /workspace/src/objective/regression_obj.cu:152: reg:linear is now deprecated in favor of reg:squarederror.\n",
            "[15:56:01] WARNING: /workspace/src/objective/regression_obj.cu:152: reg:linear is now deprecated in favor of reg:squarederror.\n",
            "[15:56:01] WARNING: /workspace/src/objective/regression_obj.cu:152: reg:linear is now deprecated in favor of reg:squarederror.\n",
            "[15:56:01] WARNING: /workspace/src/objective/regression_obj.cu:152: reg:linear is now deprecated in favor of reg:squarederror.\n",
            "[15:56:01] WARNING: /workspace/src/objective/regression_obj.cu:152: reg:linear is now deprecated in favor of reg:squarederror.\n",
            "[15:56:01] WARNING: /workspace/src/objective/regression_obj.cu:152: reg:linear is now deprecated in favor of reg:squarederror.\n",
            "[15:56:01] WARNING: /workspace/src/objective/regression_obj.cu:152: reg:linear is now deprecated in favor of reg:squarederror.\n",
            "[15:56:01] WARNING: /workspace/src/objective/regression_obj.cu:152: reg:linear is now deprecated in favor of reg:squarederror.\n",
            "[15:56:01] WARNING: /workspace/src/objective/regression_obj.cu:152: reg:linear is now deprecated in favor of reg:squarederror.\n",
            "[15:56:01] WARNING: /workspace/src/objective/regression_obj.cu:152: reg:linear is now deprecated in favor of reg:squarederror.\n",
            "[15:56:01] WARNING: /workspace/src/objective/regression_obj.cu:152: reg:linear is now deprecated in favor of reg:squarederror.\n",
            "[15:56:01] WARNING: /workspace/src/objective/regression_obj.cu:152: reg:linear is now deprecated in favor of reg:squarederror.\n",
            "[15:56:01] WARNING: /workspace/src/objective/regression_obj.cu:152: reg:linear is now deprecated in favor of reg:squarederror.\n",
            "[15:56:01] WARNING: /workspace/src/objective/regression_obj.cu:152: reg:linear is now deprecated in favor of reg:squarederror.\n",
            "[15:56:01] WARNING: /workspace/src/objective/regression_obj.cu:152: reg:linear is now deprecated in favor of reg:squarederror.\n",
            "[15:56:01] WARNING: /workspace/src/objective/regression_obj.cu:152: reg:linear is now deprecated in favor of reg:squarederror.\n",
            "[15:56:01] WARNING: /workspace/src/objective/regression_obj.cu:152: reg:linear is now deprecated in favor of reg:squarederror.\n",
            "[15:56:01] WARNING: /workspace/src/objective/regression_obj.cu:152: reg:linear is now deprecated in favor of reg:squarederror.\n",
            "[15:56:01] WARNING: /workspace/src/objective/regression_obj.cu:152: reg:linear is now deprecated in favor of reg:squarederror.\n",
            "[15:56:01] WARNING: /workspace/src/objective/regression_obj.cu:152: reg:linear is now deprecated in favor of reg:squarederror.\n",
            "[15:56:01] WARNING: /workspace/src/objective/regression_obj.cu:152: reg:linear is now deprecated in favor of reg:squarederror.\n",
            "[15:56:01] WARNING: /workspace/src/objective/regression_obj.cu:152: reg:linear is now deprecated in favor of reg:squarederror.\n",
            "[15:56:01] WARNING: /workspace/src/objective/regression_obj.cu:152: reg:linear is now deprecated in favor of reg:squarederror.\n",
            "[15:56:01] WARNING: /workspace/src/objective/regression_obj.cu:152: reg:linear is now deprecated in favor of reg:squarederror.\n",
            "[15:56:01] WARNING: /workspace/src/objective/regression_obj.cu:152: reg:linear is now deprecated in favor of reg:squarederror.\n",
            "[15:56:01] WARNING: /workspace/src/objective/regression_obj.cu:152: reg:linear is now deprecated in favor of reg:squarederror.\n",
            "[15:56:01] WARNING: /workspace/src/objective/regression_obj.cu:152: reg:linear is now deprecated in favor of reg:squarederror.\n",
            "[15:56:01] WARNING: /workspace/src/objective/regression_obj.cu:152: reg:linear is now deprecated in favor of reg:squarederror.\n",
            "[15:56:01] WARNING: /workspace/src/objective/regression_obj.cu:152: reg:linear is now deprecated in favor of reg:squarederror.\n",
            "[15:56:01] WARNING: /workspace/src/objective/regression_obj.cu:152: reg:linear is now deprecated in favor of reg:squarederror.\n",
            "[15:56:01] WARNING: /workspace/src/objective/regression_obj.cu:152: reg:linear is now deprecated in favor of reg:squarederror.\n",
            "[15:56:01] WARNING: /workspace/src/objective/regression_obj.cu:152: reg:linear is now deprecated in favor of reg:squarederror.\n",
            "[15:56:01] WARNING: /workspace/src/objective/regression_obj.cu:152: reg:linear is now deprecated in favor of reg:squarederror.\n",
            "[15:56:02] WARNING: /workspace/src/objective/regression_obj.cu:152: reg:linear is now deprecated in favor of reg:squarederror.\n",
            "[15:56:02] WARNING: /workspace/src/objective/regression_obj.cu:152: reg:linear is now deprecated in favor of reg:squarederror.\n",
            "[15:56:02] WARNING: /workspace/src/objective/regression_obj.cu:152: reg:linear is now deprecated in favor of reg:squarederror.\n",
            "[15:56:02] WARNING: /workspace/src/objective/regression_obj.cu:152: reg:linear is now deprecated in favor of reg:squarederror.\n",
            "[15:56:02] WARNING: /workspace/src/objective/regression_obj.cu:152: reg:linear is now deprecated in favor of reg:squarederror.\n",
            "[15:56:02] WARNING: /workspace/src/objective/regression_obj.cu:152: reg:linear is now deprecated in favor of reg:squarederror.\n",
            "[15:56:02] WARNING: /workspace/src/objective/regression_obj.cu:152: reg:linear is now deprecated in favor of reg:squarederror.\n",
            "[15:56:02] WARNING: /workspace/src/objective/regression_obj.cu:152: reg:linear is now deprecated in favor of reg:squarederror.\n",
            "[15:56:02] WARNING: /workspace/src/objective/regression_obj.cu:152: reg:linear is now deprecated in favor of reg:squarederror.\n",
            "[15:56:02] WARNING: /workspace/src/objective/regression_obj.cu:152: reg:linear is now deprecated in favor of reg:squarederror.\n",
            "[15:56:02] WARNING: /workspace/src/objective/regression_obj.cu:152: reg:linear is now deprecated in favor of reg:squarederror.\n",
            "[15:56:02] WARNING: /workspace/src/objective/regression_obj.cu:152: reg:linear is now deprecated in favor of reg:squarederror.\n",
            "[15:56:02] WARNING: /workspace/src/objective/regression_obj.cu:152: reg:linear is now deprecated in favor of reg:squarederror.\n",
            "[15:56:02] WARNING: /workspace/src/objective/regression_obj.cu:152: reg:linear is now deprecated in favor of reg:squarederror.\n"
          ]
        },
        {
          "output_type": "execute_result",
          "data": {
            "text/plain": [
              "GridSearchCV(cv=5, error_score=nan,\n",
              "             estimator=XGBRegressor(base_score=0.5, booster='gbtree',\n",
              "                                    colsample_bylevel=1, colsample_bynode=1,\n",
              "                                    colsample_bytree=1, gamma=0,\n",
              "                                    importance_type='gain', learning_rate=0.1,\n",
              "                                    max_delta_step=0, max_depth=3,\n",
              "                                    min_child_weight=1, missing=None,\n",
              "                                    n_estimators=100, n_jobs=1, nthread=None,\n",
              "                                    objective='reg:linear', random_state=0,\n",
              "                                    reg_alpha=0, reg_lambda=1,\n",
              "                                    scale_pos_weight=1, seed=None, silent=None,\n",
              "                                    subsample=1, verbosity=1),\n",
              "             iid='deprecated', n_jobs=None,\n",
              "             param_grid={'booster': ['gblinear', 'gbtree', 'dart'],\n",
              "                         'max_depth': [3, 2, 4, 5, 6, 7, 8, 9],\n",
              "                         'min_child_weight': [1, 2, 3, 4, 5]},\n",
              "             pre_dispatch='2*n_jobs', refit=True, return_train_score=False,\n",
              "             scoring=None, verbose=0)"
            ]
          },
          "metadata": {},
          "execution_count": 66
        }
      ]
    },
    {
      "cell_type": "code",
      "metadata": {
        "id": "UbrENra5l7oT"
      },
      "source": [
        "y_train_pred=xgb_grid.predict(X_train)\n",
        "y_test_pred=xgb_grid.predict(X_test)"
      ],
      "execution_count": null,
      "outputs": []
    },
    {
      "cell_type": "code",
      "metadata": {
        "colab": {
          "base_uri": "https://localhost:8080/"
        },
        "id": "NHHsgQ5imcsL",
        "outputId": "776a030c-1769-46bf-cfc8-56abcc360c9b"
      },
      "source": [
        "r2_score(y_train,y_train_pred)"
      ],
      "execution_count": null,
      "outputs": [
        {
          "output_type": "execute_result",
          "data": {
            "text/plain": [
              "0.9853668795738983"
            ]
          },
          "metadata": {},
          "execution_count": 68
        }
      ]
    },
    {
      "cell_type": "code",
      "metadata": {
        "colab": {
          "base_uri": "https://localhost:8080/"
        },
        "id": "Ww71eheomlns",
        "outputId": "7abebea8-ba49-4f7e-e358-9d8f8838a66a"
      },
      "source": [
        "r2_score(y_test,y_test_pred)"
      ],
      "execution_count": null,
      "outputs": [
        {
          "output_type": "execute_result",
          "data": {
            "text/plain": [
              "0.5853709118010378"
            ]
          },
          "metadata": {},
          "execution_count": 69
        }
      ]
    },
    {
      "cell_type": "code",
      "metadata": {
        "colab": {
          "base_uri": "https://localhost:8080/"
        },
        "id": "7T7mg2Z7mpj0",
        "outputId": "b7f98cab-b5d0-4623-fcc4-22f924b9bb8e"
      },
      "source": [
        "xgb_grid.best_params_"
      ],
      "execution_count": null,
      "outputs": [
        {
          "output_type": "execute_result",
          "data": {
            "text/plain": [
              "{'booster': 'gbtree', 'max_depth': 3, 'min_child_weight': 5}"
            ]
          },
          "metadata": {},
          "execution_count": 70
        }
      ]
    },
    {
      "cell_type": "code",
      "metadata": {
        "colab": {
          "base_uri": "https://localhost:8080/"
        },
        "id": "KMCzSFMQTS66",
        "outputId": "24751c06-7c62-445d-e0d2-390bab63d1b7"
      },
      "source": [
        "cross1=cross_val_score(lr2, X_train, y_train,scoring='r2')\n",
        "cross1"
      ],
      "execution_count": null,
      "outputs": [
        {
          "output_type": "stream",
          "name": "stdout",
          "text": [
            "[17:08:53] WARNING: /workspace/src/objective/regression_obj.cu:152: reg:linear is now deprecated in favor of reg:squarederror.\n",
            "[17:08:53] WARNING: /workspace/src/objective/regression_obj.cu:152: reg:linear is now deprecated in favor of reg:squarederror.\n",
            "[17:08:53] WARNING: /workspace/src/objective/regression_obj.cu:152: reg:linear is now deprecated in favor of reg:squarederror.\n",
            "[17:08:53] WARNING: /workspace/src/objective/regression_obj.cu:152: reg:linear is now deprecated in favor of reg:squarederror.\n",
            "[17:08:53] WARNING: /workspace/src/objective/regression_obj.cu:152: reg:linear is now deprecated in favor of reg:squarederror.\n"
          ]
        },
        {
          "output_type": "execute_result",
          "data": {
            "text/plain": [
              "array([-0.83338746,  0.30894739,  0.46110679,  0.45984472,  0.34606095])"
            ]
          },
          "metadata": {},
          "execution_count": 128
        }
      ]
    },
    {
      "cell_type": "code",
      "metadata": {
        "colab": {
          "base_uri": "https://localhost:8080/"
        },
        "id": "6pYoQKdAJsy4",
        "outputId": "32c2e9b8-392c-40a9-e09e-6f4e91e321d9"
      },
      "source": [
        "np.mean(cross1)"
      ],
      "execution_count": null,
      "outputs": [
        {
          "output_type": "execute_result",
          "data": {
            "text/plain": [
              "0.11826970716409488"
            ]
          },
          "metadata": {},
          "execution_count": 82
        }
      ]
    },
    {
      "cell_type": "code",
      "metadata": {
        "colab": {
          "base_uri": "https://localhost:8080/"
        },
        "id": "e4EiDZ3wJutx",
        "outputId": "3aaed8bf-c3de-4add-9d61-a1b0e6a3547c"
      },
      "source": [
        "np.std(cross1)"
      ],
      "execution_count": null,
      "outputs": [
        {
          "output_type": "execute_result",
          "data": {
            "text/plain": [
              "0.47901718366124413"
            ]
          },
          "metadata": {},
          "execution_count": 83
        }
      ]
    },
    {
      "cell_type": "markdown",
      "metadata": {
        "id": "pi3kRFAWIjoA"
      },
      "source": [
        "# **Linear Regression**"
      ]
    },
    {
      "cell_type": "code",
      "metadata": {
        "colab": {
          "base_uri": "https://localhost:8080/"
        },
        "id": "tYGNgbG1RIxw",
        "outputId": "b6ff4d55-7d02-4c0a-df37-3ebdf67ec99e"
      },
      "source": [
        "lr=LinearRegression()\n",
        "lr.fit(X_train,y_train)"
      ],
      "execution_count": null,
      "outputs": [
        {
          "output_type": "execute_result",
          "data": {
            "text/plain": [
              "LinearRegression(copy_X=True, fit_intercept=True, n_jobs=None, normalize=False)"
            ]
          },
          "metadata": {},
          "execution_count": 104
        }
      ]
    },
    {
      "cell_type": "code",
      "metadata": {
        "colab": {
          "base_uri": "https://localhost:8080/"
        },
        "id": "RtF05qnaRIuM",
        "outputId": "c1e6e163-830e-4430-c3a0-61719db8efc0"
      },
      "source": [
        "# This are the Coefficients\n",
        "\n",
        "lr.coef_"
      ],
      "execution_count": null,
      "outputs": [
        {
          "output_type": "execute_result",
          "data": {
            "text/plain": [
              "array([ 4.25555187,  0.10545447, -0.1733458 , -4.71779698,  4.43439647])"
            ]
          },
          "metadata": {},
          "execution_count": 105
        }
      ]
    },
    {
      "cell_type": "code",
      "metadata": {
        "id": "W3ybJ9WLRIrR"
      },
      "source": [
        "y_train_pred=lr.predict(X_train)\n",
        "y_test_pred=lr.predict(X_test)"
      ],
      "execution_count": null,
      "outputs": []
    },
    {
      "cell_type": "code",
      "metadata": {
        "colab": {
          "base_uri": "https://localhost:8080/"
        },
        "id": "0YBEhztzMfqh",
        "outputId": "b388a394-0c3e-4172-fb5c-b3bb37e17999"
      },
      "source": [
        "r2_score(y_train,y_train_pred)"
      ],
      "execution_count": null,
      "outputs": [
        {
          "output_type": "execute_result",
          "data": {
            "text/plain": [
              "0.9203006380420751"
            ]
          },
          "metadata": {},
          "execution_count": 107
        }
      ]
    },
    {
      "cell_type": "code",
      "metadata": {
        "colab": {
          "base_uri": "https://localhost:8080/"
        },
        "id": "7FG6M-EnRInj",
        "outputId": "d9bbbe89-a4d5-4d8f-e034-254ad84803ce"
      },
      "source": [
        "r2_score(y_test,y_test_pred)"
      ],
      "execution_count": null,
      "outputs": [
        {
          "output_type": "execute_result",
          "data": {
            "text/plain": [
              "0.8203596379530629"
            ]
          },
          "metadata": {},
          "execution_count": 108
        }
      ]
    },
    {
      "cell_type": "code",
      "metadata": {
        "id": "9EGqqrY1RIj6"
      },
      "source": [
        "lr1=LinearRegression()\n"
      ],
      "execution_count": null,
      "outputs": []
    },
    {
      "cell_type": "code",
      "metadata": {
        "colab": {
          "base_uri": "https://localhost:8080/"
        },
        "id": "WiDoojQ9L2VU",
        "outputId": "7dff0141-b1cd-464c-c1ce-bc3099e938a4"
      },
      "source": [
        "# checking the cross validation score\n",
        "cr=cross_val_score(lr1,X_train,y_train,scoring='r2')\n",
        "cr"
      ],
      "execution_count": null,
      "outputs": [
        {
          "output_type": "execute_result",
          "data": {
            "text/plain": [
              "array([0.80680148, 0.93505833, 0.63711478, 0.82234132, 0.85518643])"
            ]
          },
          "metadata": {},
          "execution_count": 110
        }
      ]
    },
    {
      "cell_type": "code",
      "metadata": {
        "colab": {
          "base_uri": "https://localhost:8080/"
        },
        "id": "msD6SpfhLgFw",
        "outputId": "10fe9e8d-4340-445d-b049-c6c3038d3732"
      },
      "source": [
        "#mean of cross validation score\n",
        "np.mean(cr)"
      ],
      "execution_count": null,
      "outputs": [
        {
          "output_type": "execute_result",
          "data": {
            "text/plain": [
              "0.81130046654181"
            ]
          },
          "metadata": {},
          "execution_count": 111
        }
      ]
    },
    {
      "cell_type": "code",
      "metadata": {
        "colab": {
          "base_uri": "https://localhost:8080/"
        },
        "id": "OJmwduLtMMLV",
        "outputId": "103efd79-d44c-46e4-fdea-e217f58a1759"
      },
      "source": [
        "# std of validation scores\n",
        "np.std(cr)"
      ],
      "execution_count": null,
      "outputs": [
        {
          "output_type": "execute_result",
          "data": {
            "text/plain": [
              "0.09769829413557161"
            ]
          },
          "metadata": {},
          "execution_count": 112
        }
      ]
    },
    {
      "cell_type": "markdown",
      "metadata": {
        "id": "63siYVwOlasa"
      },
      "source": [
        "# **Ridge Regression**"
      ]
    },
    {
      "cell_type": "code",
      "metadata": {
        "id": "tQgBjv6XcWC4"
      },
      "source": [
        "rid=Ridge()"
      ],
      "execution_count": null,
      "outputs": []
    },
    {
      "cell_type": "code",
      "metadata": {
        "colab": {
          "base_uri": "https://localhost:8080/"
        },
        "id": "_sfesvdFdoP3",
        "outputId": "832630b8-9114-4e28-d31d-cc1970f50875"
      },
      "source": [
        "rid.fit(X_train,y_train)"
      ],
      "execution_count": null,
      "outputs": [
        {
          "output_type": "execute_result",
          "data": {
            "text/plain": [
              "Ridge(alpha=1.0, copy_X=True, fit_intercept=True, max_iter=None,\n",
              "      normalize=False, random_state=None, solver='auto', tol=0.001)"
            ]
          },
          "metadata": {},
          "execution_count": 117
        }
      ]
    },
    {
      "cell_type": "code",
      "metadata": {
        "id": "eATtKGIZd3mw"
      },
      "source": [
        "y_train_pred=rid.predict(X_train)\n",
        "y_test_pred=rid.predict(X_test)"
      ],
      "execution_count": null,
      "outputs": []
    },
    {
      "cell_type": "code",
      "metadata": {
        "colab": {
          "base_uri": "https://localhost:8080/"
        },
        "id": "e65xtWf0d3YY",
        "outputId": "3b53360a-6158-4a78-95b3-f716fe01f5ca"
      },
      "source": [
        "r2_score(y_train,y_train_pred)"
      ],
      "execution_count": null,
      "outputs": [
        {
          "output_type": "execute_result",
          "data": {
            "text/plain": [
              "0.9188046217849875"
            ]
          },
          "metadata": {},
          "execution_count": 119
        }
      ]
    },
    {
      "cell_type": "code",
      "metadata": {
        "colab": {
          "base_uri": "https://localhost:8080/"
        },
        "id": "abJpFOEpd3Ib",
        "outputId": "1947e568-17fe-4116-d581-28e68b7e7d4e"
      },
      "source": [
        "r2_score(y_test,y_test_pred)"
      ],
      "execution_count": null,
      "outputs": [
        {
          "output_type": "execute_result",
          "data": {
            "text/plain": [
              "0.8174205167435429"
            ]
          },
          "metadata": {},
          "execution_count": 120
        }
      ]
    },
    {
      "cell_type": "markdown",
      "metadata": {
        "id": "NkLA5QDfeWEO"
      },
      "source": [
        "**Cross validation score**"
      ]
    },
    {
      "cell_type": "code",
      "metadata": {
        "id": "xSTY2tJ_d2z4"
      },
      "source": [
        "rid1=Ridge()"
      ],
      "execution_count": null,
      "outputs": []
    },
    {
      "cell_type": "code",
      "metadata": {
        "colab": {
          "base_uri": "https://localhost:8080/"
        },
        "id": "aGchurwKehuw",
        "outputId": "02ea3847-9f86-437e-ebcf-1d15d69f6c11"
      },
      "source": [
        "# checking the cross validation score\n",
        "Cro=cross_val_score(rid,X_train,y_train,scoring='r2')\n",
        "Cro"
      ],
      "execution_count": null,
      "outputs": [
        {
          "output_type": "execute_result",
          "data": {
            "text/plain": [
              "array([0.84840099, 0.92704088, 0.65505837, 0.80978663, 0.82858817])"
            ]
          },
          "metadata": {},
          "execution_count": 123
        }
      ]
    },
    {
      "cell_type": "code",
      "metadata": {
        "colab": {
          "base_uri": "https://localhost:8080/"
        },
        "id": "V1vIswN5ehO5",
        "outputId": "3f6da6de-b080-4c7c-b388-4591346a13fe"
      },
      "source": [
        "#mean of cross validation score\n",
        "np.mean(Cro)"
      ],
      "execution_count": null,
      "outputs": [
        {
          "output_type": "execute_result",
          "data": {
            "text/plain": [
              "0.8137750072894846"
            ]
          },
          "metadata": {},
          "execution_count": 124
        }
      ]
    },
    {
      "cell_type": "code",
      "metadata": {
        "colab": {
          "base_uri": "https://localhost:8080/"
        },
        "id": "aAKzlJ2-egM5",
        "outputId": "2393ff06-058f-4bba-df94-ec581bf35e3b"
      },
      "source": [
        "# std of validation scores\n",
        "np.std(Cro)"
      ],
      "execution_count": null,
      "outputs": [
        {
          "output_type": "execute_result",
          "data": {
            "text/plain": [
              "0.08883065180045596"
            ]
          },
          "metadata": {},
          "execution_count": 125
        }
      ]
    },
    {
      "cell_type": "markdown",
      "metadata": {
        "id": "pCsavIZKcGMo"
      },
      "source": [
        "# **Ridge Regression on Grid Search CV**"
      ]
    },
    {
      "cell_type": "code",
      "metadata": {
        "id": "4xk0Wx0Plr8A"
      },
      "source": [
        "rid1=Ridge()"
      ],
      "execution_count": null,
      "outputs": []
    },
    {
      "cell_type": "code",
      "metadata": {
        "id": "DzJFMWHXefuY"
      },
      "source": [
        "parameters={'alpha':[1e-15,1e-10,1e-8,1e-3,1e-2,1,5,10,20,30,35,40,45,50,55,100]}\n",
        "ridge1=GridSearchCV(rid1,parameters,scoring='r2',cv=5)"
      ],
      "execution_count": null,
      "outputs": []
    },
    {
      "cell_type": "code",
      "metadata": {
        "colab": {
          "base_uri": "https://localhost:8080/"
        },
        "id": "mBR36wnUiNvv",
        "outputId": "f4456164-bd47-4187-c01d-6e7c6b22db4b"
      },
      "source": [
        "ridge1.fit(X_train,y_train)"
      ],
      "execution_count": null,
      "outputs": [
        {
          "output_type": "execute_result",
          "data": {
            "text/plain": [
              "GridSearchCV(cv=5, error_score=nan,\n",
              "             estimator=Ridge(alpha=1.0, copy_X=True, fit_intercept=True,\n",
              "                             max_iter=None, normalize=False, random_state=None,\n",
              "                             solver='auto', tol=0.001),\n",
              "             iid='deprecated', n_jobs=None,\n",
              "             param_grid={'alpha': [1e-15, 1e-10, 1e-08, 0.001, 0.01, 1, 5, 10,\n",
              "                                   20, 30, 35, 40, 45, 50, 55, 100]},\n",
              "             pre_dispatch='2*n_jobs', refit=True, return_train_score=False,\n",
              "             scoring='r2', verbose=0)"
            ]
          },
          "metadata": {},
          "execution_count": 132
        }
      ]
    },
    {
      "cell_type": "code",
      "metadata": {
        "id": "iZ-Y0wMpjGv1"
      },
      "source": [
        "y_train_pred=ridge1.predict(X_train)\n",
        "y_test_pred=ridge1.predict(X_test)"
      ],
      "execution_count": null,
      "outputs": []
    },
    {
      "cell_type": "code",
      "metadata": {
        "colab": {
          "base_uri": "https://localhost:8080/"
        },
        "id": "ojiKju06jGmK",
        "outputId": "bdde668e-616f-4380-9d16-bc047760c97c"
      },
      "source": [
        "r2_score(y_train,y_train_pred)"
      ],
      "execution_count": null,
      "outputs": [
        {
          "output_type": "execute_result",
          "data": {
            "text/plain": [
              "0.9188046217849875"
            ]
          },
          "metadata": {},
          "execution_count": 134
        }
      ]
    },
    {
      "cell_type": "code",
      "metadata": {
        "colab": {
          "base_uri": "https://localhost:8080/"
        },
        "id": "d9E2qgYAjGaw",
        "outputId": "8a9755e1-a013-4957-e889-a67055f47d63"
      },
      "source": [
        "r2_score(y_test,y_test_pred)"
      ],
      "execution_count": null,
      "outputs": [
        {
          "output_type": "execute_result",
          "data": {
            "text/plain": [
              "0.8174205167435429"
            ]
          },
          "metadata": {},
          "execution_count": 135
        }
      ]
    },
    {
      "cell_type": "code",
      "metadata": {
        "colab": {
          "base_uri": "https://localhost:8080/"
        },
        "id": "Hx7KnkiljGJQ",
        "outputId": "b0de3212-c6c0-4efb-f754-35693fe56481"
      },
      "source": [
        "ridge1.best_params_"
      ],
      "execution_count": null,
      "outputs": [
        {
          "output_type": "execute_result",
          "data": {
            "text/plain": [
              "{'alpha': 1}"
            ]
          },
          "metadata": {},
          "execution_count": 136
        }
      ]
    },
    {
      "cell_type": "code",
      "metadata": {
        "colab": {
          "base_uri": "https://localhost:8080/"
        },
        "id": "Qgz7YdH8j0kf",
        "outputId": "16a22d57-09f0-4557-a630-55756c537122"
      },
      "source": [
        "Cr=cross_val_score(ridge1, X_train, y_train,scoring='r2')\n",
        "Cr"
      ],
      "execution_count": null,
      "outputs": [
        {
          "output_type": "execute_result",
          "data": {
            "text/plain": [
              "array([0.84840099, 0.92704088, 0.65505837, 0.75342437, 0.85491634])"
            ]
          },
          "metadata": {},
          "execution_count": 137
        }
      ]
    },
    {
      "cell_type": "code",
      "metadata": {
        "colab": {
          "base_uri": "https://localhost:8080/"
        },
        "id": "t-XnFNoLj0-E",
        "outputId": "e02b086b-d59e-41e4-f2fb-fe4de8e7eb52"
      },
      "source": [
        "np.mean(Cr)"
      ],
      "execution_count": null,
      "outputs": [
        {
          "output_type": "execute_result",
          "data": {
            "text/plain": [
              "0.8077681903026445"
            ]
          },
          "metadata": {},
          "execution_count": 138
        }
      ]
    },
    {
      "cell_type": "code",
      "metadata": {
        "colab": {
          "base_uri": "https://localhost:8080/"
        },
        "id": "5fUz57UEkBGC",
        "outputId": "3fa8c461-fedb-4646-cff5-d52490b1538c"
      },
      "source": [
        "np.std(Cr)"
      ],
      "execution_count": null,
      "outputs": [
        {
          "output_type": "execute_result",
          "data": {
            "text/plain": [
              "0.09420561158306978"
            ]
          },
          "metadata": {},
          "execution_count": 139
        }
      ]
    },
    {
      "cell_type": "markdown",
      "metadata": {
        "id": "rykZNntoSFTc"
      },
      "source": [
        "According to cross validation score the best score is given by Linear Regression the mean is 81 and standard Deviation is less than other model"
      ]
    },
    {
      "cell_type": "markdown",
      "metadata": {
        "id": "m2zsNMe4T_1Q"
      },
      "source": [
        "# **After trying all the above models and hyperparameter tuning,Linear Regression gave some better results with the mean cross validation r2 score of 81% and the standard deviation of those scores being just 9%. R2 score on test set also is 81%.**"
      ]
    },
    {
      "cell_type": "markdown",
      "metadata": {
        "id": "wWKdL5f4VdN0"
      },
      "source": [
        "# **Saving the Model**"
      ]
    },
    {
      "cell_type": "code",
      "metadata": {
        "colab": {
          "base_uri": "https://localhost:8080/"
        },
        "id": "zNnOMuNRV-rf",
        "outputId": "734fbd5d-0e77-441c-ad32-8213620a13d0"
      },
      "source": [
        "lr=LinearRegression()\n",
        "lr.fit(X_train,y_train)"
      ],
      "execution_count": null,
      "outputs": [
        {
          "output_type": "execute_result",
          "data": {
            "text/plain": [
              "LinearRegression(copy_X=True, fit_intercept=True, n_jobs=None, normalize=False)"
            ]
          },
          "metadata": {},
          "execution_count": 101
        }
      ]
    },
    {
      "cell_type": "code",
      "metadata": {
        "id": "AnnrwgrLVf1U"
      },
      "source": [
        "import pickle"
      ],
      "execution_count": null,
      "outputs": []
    },
    {
      "cell_type": "code",
      "metadata": {
        "colab": {
          "base_uri": "https://localhost:8080/"
        },
        "id": "E_OwG36bVrUU",
        "outputId": "702ed042-e900-4156-9f0b-5cdd832c6e14"
      },
      "source": [
        "# Save the trained model as a pickle string.\n",
        "savemodel = pickle.dumps(lr)\n",
        " \n",
        "# Load the pickled model\n",
        "lr_from_pickle = pickle.loads(savemodel)\n",
        " \n",
        "# Use the loaded pickled model to make predictions\n",
        "lr_from_pickle.predict(X_test)"
      ],
      "execution_count": null,
      "outputs": [
        {
          "output_type": "execute_result",
          "data": {
            "text/plain": [
              "array([ 83.64910221, 102.68083975,  68.2212227 ,  91.50468465,\n",
              "        92.0341688 ,  80.05613815,  75.9017068 ,  63.40815385])"
            ]
          },
          "metadata": {},
          "execution_count": 102
        }
      ]
    },
    {
      "cell_type": "code",
      "metadata": {
        "id": "sUUJylT1Vrw5"
      },
      "source": [
        ""
      ],
      "execution_count": null,
      "outputs": []
    },
    {
      "cell_type": "code",
      "metadata": {
        "id": "6Xr3YjSBVsH9"
      },
      "source": [
        ""
      ],
      "execution_count": null,
      "outputs": []
    },
    {
      "cell_type": "code",
      "metadata": {
        "id": "O6-Zhx4fVsZR"
      },
      "source": [
        ""
      ],
      "execution_count": null,
      "outputs": []
    }
  ]
}