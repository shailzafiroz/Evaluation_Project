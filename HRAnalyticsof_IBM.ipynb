{
  "nbformat": 4,
  "nbformat_minor": 0,
  "metadata": {
    "colab": {
      "name": "HRAnalyticsof IBM.ipynb",
      "provenance": [],
      "collapsed_sections": [
        "VQnfRf_CRXPl"
      ]
    },
    "kernelspec": {
      "name": "python3",
      "display_name": "Python 3"
    },
    "language_info": {
      "name": "python"
    }
  },
  "cells": [
    {
      "cell_type": "code",
      "metadata": {
        "id": "eVS_9mi_F_jS",
        "colab": {
          "base_uri": "https://localhost:8080/"
        },
        "outputId": "eb92586e-d321-41a0-b305-f94e808c8a80"
      },
      "source": [
        "import pandas as pd\n",
        "import numpy as np\n",
        "import seaborn as sns\n",
        "import matplotlib.pyplot as plt\n",
        "from sklearn.model_selection import train_test_split\n",
        "from sklearn.model_selection import GridSearchCV,cross_val_score\n",
        "from sklearn.preprocessing import MinMaxScaler, StandardScaler\n",
        "from sklearn.linear_model import LinearRegression, LogisticRegression\n",
        "from sklearn.metrics import r2_score,mean_squared_error,accuracy_score, f1_score,roc_auc_score\n",
        "from sklearn import svm\n",
        "from sklearn.tree import DecisionTreeRegressor,DecisionTreeClassifier\n",
        "from sklearn.ensemble import RandomForestClassifier\n",
        "from sklearn.preprocessing import PowerTransformer\n",
        "from statsmodels.stats.outliers_influence import variance_inflation_factor\n",
        "import warnings\n",
        "warnings.filterwarnings('ignore')\n",
        "from sklearn.metrics import classification_report,confusion_matrix\n",
        "from sklearn.model_selection import StratifiedKFold"
      ],
      "execution_count": 2,
      "outputs": [
        {
          "output_type": "stream",
          "name": "stderr",
          "text": [
            "/usr/local/lib/python3.7/dist-packages/statsmodels/tools/_testing.py:19: FutureWarning: pandas.util.testing is deprecated. Use the functions in the public API at pandas.testing instead.\n",
            "  import pandas.util.testing as tm\n"
          ]
        }
      ]
    },
    {
      "cell_type": "code",
      "metadata": {
        "colab": {
          "base_uri": "https://localhost:8080/"
        },
        "id": "QuxCSSiiGGDd",
        "outputId": "328a52be-3395-42e8-bc64-881ff662246b"
      },
      "source": [
        "from google.colab import drive\n",
        "drive.mount('/content/drive')"
      ],
      "execution_count": 5,
      "outputs": [
        {
          "output_type": "stream",
          "name": "stdout",
          "text": [
            "Drive already mounted at /content/drive; to attempt to forcibly remount, call drive.mount(\"/content/drive\", force_remount=True).\n"
          ]
        }
      ]
    },
    {
      "cell_type": "code",
      "metadata": {
        "colab": {
          "base_uri": "https://localhost:8080/",
          "height": 313
        },
        "id": "q5JgGtsvGJPU",
        "outputId": "4ded836a-8795-454d-c175-5065115cf10a"
      },
      "source": [
        "df=pd.read_csv(\"/content/drive/MyDrive/WA_Fn-UseC_-HR-Employee-Attrition.csv\")\n",
        "df.head()"
      ],
      "execution_count": 6,
      "outputs": [
        {
          "output_type": "execute_result",
          "data": {
            "text/html": [
              "<div>\n",
              "<style scoped>\n",
              "    .dataframe tbody tr th:only-of-type {\n",
              "        vertical-align: middle;\n",
              "    }\n",
              "\n",
              "    .dataframe tbody tr th {\n",
              "        vertical-align: top;\n",
              "    }\n",
              "\n",
              "    .dataframe thead th {\n",
              "        text-align: right;\n",
              "    }\n",
              "</style>\n",
              "<table border=\"1\" class=\"dataframe\">\n",
              "  <thead>\n",
              "    <tr style=\"text-align: right;\">\n",
              "      <th></th>\n",
              "      <th>Age</th>\n",
              "      <th>Attrition</th>\n",
              "      <th>BusinessTravel</th>\n",
              "      <th>DailyRate</th>\n",
              "      <th>Department</th>\n",
              "      <th>DistanceFromHome</th>\n",
              "      <th>Education</th>\n",
              "      <th>EducationField</th>\n",
              "      <th>EmployeeCount</th>\n",
              "      <th>EmployeeNumber</th>\n",
              "      <th>EnvironmentSatisfaction</th>\n",
              "      <th>Gender</th>\n",
              "      <th>HourlyRate</th>\n",
              "      <th>JobInvolvement</th>\n",
              "      <th>JobLevel</th>\n",
              "      <th>JobRole</th>\n",
              "      <th>JobSatisfaction</th>\n",
              "      <th>MaritalStatus</th>\n",
              "      <th>MonthlyIncome</th>\n",
              "      <th>MonthlyRate</th>\n",
              "      <th>NumCompaniesWorked</th>\n",
              "      <th>Over18</th>\n",
              "      <th>OverTime</th>\n",
              "      <th>PercentSalaryHike</th>\n",
              "      <th>PerformanceRating</th>\n",
              "      <th>RelationshipSatisfaction</th>\n",
              "      <th>StandardHours</th>\n",
              "      <th>StockOptionLevel</th>\n",
              "      <th>TotalWorkingYears</th>\n",
              "      <th>TrainingTimesLastYear</th>\n",
              "      <th>WorkLifeBalance</th>\n",
              "      <th>YearsAtCompany</th>\n",
              "      <th>YearsInCurrentRole</th>\n",
              "      <th>YearsSinceLastPromotion</th>\n",
              "      <th>YearsWithCurrManager</th>\n",
              "    </tr>\n",
              "  </thead>\n",
              "  <tbody>\n",
              "    <tr>\n",
              "      <th>0</th>\n",
              "      <td>41</td>\n",
              "      <td>Yes</td>\n",
              "      <td>Travel_Rarely</td>\n",
              "      <td>1102</td>\n",
              "      <td>Sales</td>\n",
              "      <td>1</td>\n",
              "      <td>2</td>\n",
              "      <td>Life Sciences</td>\n",
              "      <td>1</td>\n",
              "      <td>1</td>\n",
              "      <td>2</td>\n",
              "      <td>Female</td>\n",
              "      <td>94</td>\n",
              "      <td>3</td>\n",
              "      <td>2</td>\n",
              "      <td>Sales Executive</td>\n",
              "      <td>4</td>\n",
              "      <td>Single</td>\n",
              "      <td>5993</td>\n",
              "      <td>19479</td>\n",
              "      <td>8</td>\n",
              "      <td>Y</td>\n",
              "      <td>Yes</td>\n",
              "      <td>11</td>\n",
              "      <td>3</td>\n",
              "      <td>1</td>\n",
              "      <td>80</td>\n",
              "      <td>0</td>\n",
              "      <td>8</td>\n",
              "      <td>0</td>\n",
              "      <td>1</td>\n",
              "      <td>6</td>\n",
              "      <td>4</td>\n",
              "      <td>0</td>\n",
              "      <td>5</td>\n",
              "    </tr>\n",
              "    <tr>\n",
              "      <th>1</th>\n",
              "      <td>49</td>\n",
              "      <td>No</td>\n",
              "      <td>Travel_Frequently</td>\n",
              "      <td>279</td>\n",
              "      <td>Research &amp; Development</td>\n",
              "      <td>8</td>\n",
              "      <td>1</td>\n",
              "      <td>Life Sciences</td>\n",
              "      <td>1</td>\n",
              "      <td>2</td>\n",
              "      <td>3</td>\n",
              "      <td>Male</td>\n",
              "      <td>61</td>\n",
              "      <td>2</td>\n",
              "      <td>2</td>\n",
              "      <td>Research Scientist</td>\n",
              "      <td>2</td>\n",
              "      <td>Married</td>\n",
              "      <td>5130</td>\n",
              "      <td>24907</td>\n",
              "      <td>1</td>\n",
              "      <td>Y</td>\n",
              "      <td>No</td>\n",
              "      <td>23</td>\n",
              "      <td>4</td>\n",
              "      <td>4</td>\n",
              "      <td>80</td>\n",
              "      <td>1</td>\n",
              "      <td>10</td>\n",
              "      <td>3</td>\n",
              "      <td>3</td>\n",
              "      <td>10</td>\n",
              "      <td>7</td>\n",
              "      <td>1</td>\n",
              "      <td>7</td>\n",
              "    </tr>\n",
              "    <tr>\n",
              "      <th>2</th>\n",
              "      <td>37</td>\n",
              "      <td>Yes</td>\n",
              "      <td>Travel_Rarely</td>\n",
              "      <td>1373</td>\n",
              "      <td>Research &amp; Development</td>\n",
              "      <td>2</td>\n",
              "      <td>2</td>\n",
              "      <td>Other</td>\n",
              "      <td>1</td>\n",
              "      <td>4</td>\n",
              "      <td>4</td>\n",
              "      <td>Male</td>\n",
              "      <td>92</td>\n",
              "      <td>2</td>\n",
              "      <td>1</td>\n",
              "      <td>Laboratory Technician</td>\n",
              "      <td>3</td>\n",
              "      <td>Single</td>\n",
              "      <td>2090</td>\n",
              "      <td>2396</td>\n",
              "      <td>6</td>\n",
              "      <td>Y</td>\n",
              "      <td>Yes</td>\n",
              "      <td>15</td>\n",
              "      <td>3</td>\n",
              "      <td>2</td>\n",
              "      <td>80</td>\n",
              "      <td>0</td>\n",
              "      <td>7</td>\n",
              "      <td>3</td>\n",
              "      <td>3</td>\n",
              "      <td>0</td>\n",
              "      <td>0</td>\n",
              "      <td>0</td>\n",
              "      <td>0</td>\n",
              "    </tr>\n",
              "    <tr>\n",
              "      <th>3</th>\n",
              "      <td>33</td>\n",
              "      <td>No</td>\n",
              "      <td>Travel_Frequently</td>\n",
              "      <td>1392</td>\n",
              "      <td>Research &amp; Development</td>\n",
              "      <td>3</td>\n",
              "      <td>4</td>\n",
              "      <td>Life Sciences</td>\n",
              "      <td>1</td>\n",
              "      <td>5</td>\n",
              "      <td>4</td>\n",
              "      <td>Female</td>\n",
              "      <td>56</td>\n",
              "      <td>3</td>\n",
              "      <td>1</td>\n",
              "      <td>Research Scientist</td>\n",
              "      <td>3</td>\n",
              "      <td>Married</td>\n",
              "      <td>2909</td>\n",
              "      <td>23159</td>\n",
              "      <td>1</td>\n",
              "      <td>Y</td>\n",
              "      <td>Yes</td>\n",
              "      <td>11</td>\n",
              "      <td>3</td>\n",
              "      <td>3</td>\n",
              "      <td>80</td>\n",
              "      <td>0</td>\n",
              "      <td>8</td>\n",
              "      <td>3</td>\n",
              "      <td>3</td>\n",
              "      <td>8</td>\n",
              "      <td>7</td>\n",
              "      <td>3</td>\n",
              "      <td>0</td>\n",
              "    </tr>\n",
              "    <tr>\n",
              "      <th>4</th>\n",
              "      <td>27</td>\n",
              "      <td>No</td>\n",
              "      <td>Travel_Rarely</td>\n",
              "      <td>591</td>\n",
              "      <td>Research &amp; Development</td>\n",
              "      <td>2</td>\n",
              "      <td>1</td>\n",
              "      <td>Medical</td>\n",
              "      <td>1</td>\n",
              "      <td>7</td>\n",
              "      <td>1</td>\n",
              "      <td>Male</td>\n",
              "      <td>40</td>\n",
              "      <td>3</td>\n",
              "      <td>1</td>\n",
              "      <td>Laboratory Technician</td>\n",
              "      <td>2</td>\n",
              "      <td>Married</td>\n",
              "      <td>3468</td>\n",
              "      <td>16632</td>\n",
              "      <td>9</td>\n",
              "      <td>Y</td>\n",
              "      <td>No</td>\n",
              "      <td>12</td>\n",
              "      <td>3</td>\n",
              "      <td>4</td>\n",
              "      <td>80</td>\n",
              "      <td>1</td>\n",
              "      <td>6</td>\n",
              "      <td>3</td>\n",
              "      <td>3</td>\n",
              "      <td>2</td>\n",
              "      <td>2</td>\n",
              "      <td>2</td>\n",
              "      <td>2</td>\n",
              "    </tr>\n",
              "  </tbody>\n",
              "</table>\n",
              "</div>"
            ],
            "text/plain": [
              "   Age Attrition  ... YearsSinceLastPromotion  YearsWithCurrManager\n",
              "0   41       Yes  ...                       0                     5\n",
              "1   49        No  ...                       1                     7\n",
              "2   37       Yes  ...                       0                     0\n",
              "3   33        No  ...                       3                     0\n",
              "4   27        No  ...                       2                     2\n",
              "\n",
              "[5 rows x 35 columns]"
            ]
          },
          "metadata": {},
          "execution_count": 6
        }
      ]
    },
    {
      "cell_type": "markdown",
      "metadata": {
        "id": "ADDN57nv9xeL"
      },
      "source": [
        "# **Primary Inspection**"
      ]
    },
    {
      "cell_type": "code",
      "metadata": {
        "colab": {
          "base_uri": "https://localhost:8080/"
        },
        "id": "rX_lAgbGBASs",
        "outputId": "2939d8ee-a783-4c58-edc8-cfdf7380ce82"
      },
      "source": [
        "df.info()"
      ],
      "execution_count": 7,
      "outputs": [
        {
          "output_type": "stream",
          "name": "stdout",
          "text": [
            "<class 'pandas.core.frame.DataFrame'>\n",
            "RangeIndex: 1470 entries, 0 to 1469\n",
            "Data columns (total 35 columns):\n",
            " #   Column                    Non-Null Count  Dtype \n",
            "---  ------                    --------------  ----- \n",
            " 0   Age                       1470 non-null   int64 \n",
            " 1   Attrition                 1470 non-null   object\n",
            " 2   BusinessTravel            1470 non-null   object\n",
            " 3   DailyRate                 1470 non-null   int64 \n",
            " 4   Department                1470 non-null   object\n",
            " 5   DistanceFromHome          1470 non-null   int64 \n",
            " 6   Education                 1470 non-null   int64 \n",
            " 7   EducationField            1470 non-null   object\n",
            " 8   EmployeeCount             1470 non-null   int64 \n",
            " 9   EmployeeNumber            1470 non-null   int64 \n",
            " 10  EnvironmentSatisfaction   1470 non-null   int64 \n",
            " 11  Gender                    1470 non-null   object\n",
            " 12  HourlyRate                1470 non-null   int64 \n",
            " 13  JobInvolvement            1470 non-null   int64 \n",
            " 14  JobLevel                  1470 non-null   int64 \n",
            " 15  JobRole                   1470 non-null   object\n",
            " 16  JobSatisfaction           1470 non-null   int64 \n",
            " 17  MaritalStatus             1470 non-null   object\n",
            " 18  MonthlyIncome             1470 non-null   int64 \n",
            " 19  MonthlyRate               1470 non-null   int64 \n",
            " 20  NumCompaniesWorked        1470 non-null   int64 \n",
            " 21  Over18                    1470 non-null   object\n",
            " 22  OverTime                  1470 non-null   object\n",
            " 23  PercentSalaryHike         1470 non-null   int64 \n",
            " 24  PerformanceRating         1470 non-null   int64 \n",
            " 25  RelationshipSatisfaction  1470 non-null   int64 \n",
            " 26  StandardHours             1470 non-null   int64 \n",
            " 27  StockOptionLevel          1470 non-null   int64 \n",
            " 28  TotalWorkingYears         1470 non-null   int64 \n",
            " 29  TrainingTimesLastYear     1470 non-null   int64 \n",
            " 30  WorkLifeBalance           1470 non-null   int64 \n",
            " 31  YearsAtCompany            1470 non-null   int64 \n",
            " 32  YearsInCurrentRole        1470 non-null   int64 \n",
            " 33  YearsSinceLastPromotion   1470 non-null   int64 \n",
            " 34  YearsWithCurrManager      1470 non-null   int64 \n",
            "dtypes: int64(26), object(9)\n",
            "memory usage: 402.1+ KB\n"
          ]
        }
      ]
    },
    {
      "cell_type": "markdown",
      "metadata": {
        "id": "YDe48KSeBDkt"
      },
      "source": [
        "\n",
        "## As we can see that there are no Null Values."
      ]
    },
    {
      "cell_type": "code",
      "metadata": {
        "colab": {
          "base_uri": "https://localhost:8080/"
        },
        "id": "bJw9ryGbGRc1",
        "outputId": "faa8b774-0f30-45c3-8c59-6e34ab46089c"
      },
      "source": [
        "df.shape"
      ],
      "execution_count": 8,
      "outputs": [
        {
          "output_type": "execute_result",
          "data": {
            "text/plain": [
              "(1470, 35)"
            ]
          },
          "metadata": {},
          "execution_count": 8
        }
      ]
    },
    {
      "cell_type": "code",
      "metadata": {
        "colab": {
          "base_uri": "https://localhost:8080/",
          "height": 320
        },
        "id": "Qxs2iRHPBDdh",
        "outputId": "6567c13e-b736-44d0-ec02-af2b7a263ab8"
      },
      "source": [
        "df.describe()"
      ],
      "execution_count": 9,
      "outputs": [
        {
          "output_type": "execute_result",
          "data": {
            "text/html": [
              "<div>\n",
              "<style scoped>\n",
              "    .dataframe tbody tr th:only-of-type {\n",
              "        vertical-align: middle;\n",
              "    }\n",
              "\n",
              "    .dataframe tbody tr th {\n",
              "        vertical-align: top;\n",
              "    }\n",
              "\n",
              "    .dataframe thead th {\n",
              "        text-align: right;\n",
              "    }\n",
              "</style>\n",
              "<table border=\"1\" class=\"dataframe\">\n",
              "  <thead>\n",
              "    <tr style=\"text-align: right;\">\n",
              "      <th></th>\n",
              "      <th>Age</th>\n",
              "      <th>DailyRate</th>\n",
              "      <th>DistanceFromHome</th>\n",
              "      <th>Education</th>\n",
              "      <th>EmployeeCount</th>\n",
              "      <th>EmployeeNumber</th>\n",
              "      <th>EnvironmentSatisfaction</th>\n",
              "      <th>HourlyRate</th>\n",
              "      <th>JobInvolvement</th>\n",
              "      <th>JobLevel</th>\n",
              "      <th>JobSatisfaction</th>\n",
              "      <th>MonthlyIncome</th>\n",
              "      <th>MonthlyRate</th>\n",
              "      <th>NumCompaniesWorked</th>\n",
              "      <th>PercentSalaryHike</th>\n",
              "      <th>PerformanceRating</th>\n",
              "      <th>RelationshipSatisfaction</th>\n",
              "      <th>StandardHours</th>\n",
              "      <th>StockOptionLevel</th>\n",
              "      <th>TotalWorkingYears</th>\n",
              "      <th>TrainingTimesLastYear</th>\n",
              "      <th>WorkLifeBalance</th>\n",
              "      <th>YearsAtCompany</th>\n",
              "      <th>YearsInCurrentRole</th>\n",
              "      <th>YearsSinceLastPromotion</th>\n",
              "      <th>YearsWithCurrManager</th>\n",
              "    </tr>\n",
              "  </thead>\n",
              "  <tbody>\n",
              "    <tr>\n",
              "      <th>count</th>\n",
              "      <td>1470.000000</td>\n",
              "      <td>1470.000000</td>\n",
              "      <td>1470.000000</td>\n",
              "      <td>1470.000000</td>\n",
              "      <td>1470.0</td>\n",
              "      <td>1470.000000</td>\n",
              "      <td>1470.000000</td>\n",
              "      <td>1470.000000</td>\n",
              "      <td>1470.000000</td>\n",
              "      <td>1470.000000</td>\n",
              "      <td>1470.000000</td>\n",
              "      <td>1470.000000</td>\n",
              "      <td>1470.000000</td>\n",
              "      <td>1470.000000</td>\n",
              "      <td>1470.000000</td>\n",
              "      <td>1470.000000</td>\n",
              "      <td>1470.000000</td>\n",
              "      <td>1470.0</td>\n",
              "      <td>1470.000000</td>\n",
              "      <td>1470.000000</td>\n",
              "      <td>1470.000000</td>\n",
              "      <td>1470.000000</td>\n",
              "      <td>1470.000000</td>\n",
              "      <td>1470.000000</td>\n",
              "      <td>1470.000000</td>\n",
              "      <td>1470.000000</td>\n",
              "    </tr>\n",
              "    <tr>\n",
              "      <th>mean</th>\n",
              "      <td>36.923810</td>\n",
              "      <td>802.485714</td>\n",
              "      <td>9.192517</td>\n",
              "      <td>2.912925</td>\n",
              "      <td>1.0</td>\n",
              "      <td>1024.865306</td>\n",
              "      <td>2.721769</td>\n",
              "      <td>65.891156</td>\n",
              "      <td>2.729932</td>\n",
              "      <td>2.063946</td>\n",
              "      <td>2.728571</td>\n",
              "      <td>6502.931293</td>\n",
              "      <td>14313.103401</td>\n",
              "      <td>2.693197</td>\n",
              "      <td>15.209524</td>\n",
              "      <td>3.153741</td>\n",
              "      <td>2.712245</td>\n",
              "      <td>80.0</td>\n",
              "      <td>0.793878</td>\n",
              "      <td>11.279592</td>\n",
              "      <td>2.799320</td>\n",
              "      <td>2.761224</td>\n",
              "      <td>7.008163</td>\n",
              "      <td>4.229252</td>\n",
              "      <td>2.187755</td>\n",
              "      <td>4.123129</td>\n",
              "    </tr>\n",
              "    <tr>\n",
              "      <th>std</th>\n",
              "      <td>9.135373</td>\n",
              "      <td>403.509100</td>\n",
              "      <td>8.106864</td>\n",
              "      <td>1.024165</td>\n",
              "      <td>0.0</td>\n",
              "      <td>602.024335</td>\n",
              "      <td>1.093082</td>\n",
              "      <td>20.329428</td>\n",
              "      <td>0.711561</td>\n",
              "      <td>1.106940</td>\n",
              "      <td>1.102846</td>\n",
              "      <td>4707.956783</td>\n",
              "      <td>7117.786044</td>\n",
              "      <td>2.498009</td>\n",
              "      <td>3.659938</td>\n",
              "      <td>0.360824</td>\n",
              "      <td>1.081209</td>\n",
              "      <td>0.0</td>\n",
              "      <td>0.852077</td>\n",
              "      <td>7.780782</td>\n",
              "      <td>1.289271</td>\n",
              "      <td>0.706476</td>\n",
              "      <td>6.126525</td>\n",
              "      <td>3.623137</td>\n",
              "      <td>3.222430</td>\n",
              "      <td>3.568136</td>\n",
              "    </tr>\n",
              "    <tr>\n",
              "      <th>min</th>\n",
              "      <td>18.000000</td>\n",
              "      <td>102.000000</td>\n",
              "      <td>1.000000</td>\n",
              "      <td>1.000000</td>\n",
              "      <td>1.0</td>\n",
              "      <td>1.000000</td>\n",
              "      <td>1.000000</td>\n",
              "      <td>30.000000</td>\n",
              "      <td>1.000000</td>\n",
              "      <td>1.000000</td>\n",
              "      <td>1.000000</td>\n",
              "      <td>1009.000000</td>\n",
              "      <td>2094.000000</td>\n",
              "      <td>0.000000</td>\n",
              "      <td>11.000000</td>\n",
              "      <td>3.000000</td>\n",
              "      <td>1.000000</td>\n",
              "      <td>80.0</td>\n",
              "      <td>0.000000</td>\n",
              "      <td>0.000000</td>\n",
              "      <td>0.000000</td>\n",
              "      <td>1.000000</td>\n",
              "      <td>0.000000</td>\n",
              "      <td>0.000000</td>\n",
              "      <td>0.000000</td>\n",
              "      <td>0.000000</td>\n",
              "    </tr>\n",
              "    <tr>\n",
              "      <th>25%</th>\n",
              "      <td>30.000000</td>\n",
              "      <td>465.000000</td>\n",
              "      <td>2.000000</td>\n",
              "      <td>2.000000</td>\n",
              "      <td>1.0</td>\n",
              "      <td>491.250000</td>\n",
              "      <td>2.000000</td>\n",
              "      <td>48.000000</td>\n",
              "      <td>2.000000</td>\n",
              "      <td>1.000000</td>\n",
              "      <td>2.000000</td>\n",
              "      <td>2911.000000</td>\n",
              "      <td>8047.000000</td>\n",
              "      <td>1.000000</td>\n",
              "      <td>12.000000</td>\n",
              "      <td>3.000000</td>\n",
              "      <td>2.000000</td>\n",
              "      <td>80.0</td>\n",
              "      <td>0.000000</td>\n",
              "      <td>6.000000</td>\n",
              "      <td>2.000000</td>\n",
              "      <td>2.000000</td>\n",
              "      <td>3.000000</td>\n",
              "      <td>2.000000</td>\n",
              "      <td>0.000000</td>\n",
              "      <td>2.000000</td>\n",
              "    </tr>\n",
              "    <tr>\n",
              "      <th>50%</th>\n",
              "      <td>36.000000</td>\n",
              "      <td>802.000000</td>\n",
              "      <td>7.000000</td>\n",
              "      <td>3.000000</td>\n",
              "      <td>1.0</td>\n",
              "      <td>1020.500000</td>\n",
              "      <td>3.000000</td>\n",
              "      <td>66.000000</td>\n",
              "      <td>3.000000</td>\n",
              "      <td>2.000000</td>\n",
              "      <td>3.000000</td>\n",
              "      <td>4919.000000</td>\n",
              "      <td>14235.500000</td>\n",
              "      <td>2.000000</td>\n",
              "      <td>14.000000</td>\n",
              "      <td>3.000000</td>\n",
              "      <td>3.000000</td>\n",
              "      <td>80.0</td>\n",
              "      <td>1.000000</td>\n",
              "      <td>10.000000</td>\n",
              "      <td>3.000000</td>\n",
              "      <td>3.000000</td>\n",
              "      <td>5.000000</td>\n",
              "      <td>3.000000</td>\n",
              "      <td>1.000000</td>\n",
              "      <td>3.000000</td>\n",
              "    </tr>\n",
              "    <tr>\n",
              "      <th>75%</th>\n",
              "      <td>43.000000</td>\n",
              "      <td>1157.000000</td>\n",
              "      <td>14.000000</td>\n",
              "      <td>4.000000</td>\n",
              "      <td>1.0</td>\n",
              "      <td>1555.750000</td>\n",
              "      <td>4.000000</td>\n",
              "      <td>83.750000</td>\n",
              "      <td>3.000000</td>\n",
              "      <td>3.000000</td>\n",
              "      <td>4.000000</td>\n",
              "      <td>8379.000000</td>\n",
              "      <td>20461.500000</td>\n",
              "      <td>4.000000</td>\n",
              "      <td>18.000000</td>\n",
              "      <td>3.000000</td>\n",
              "      <td>4.000000</td>\n",
              "      <td>80.0</td>\n",
              "      <td>1.000000</td>\n",
              "      <td>15.000000</td>\n",
              "      <td>3.000000</td>\n",
              "      <td>3.000000</td>\n",
              "      <td>9.000000</td>\n",
              "      <td>7.000000</td>\n",
              "      <td>3.000000</td>\n",
              "      <td>7.000000</td>\n",
              "    </tr>\n",
              "    <tr>\n",
              "      <th>max</th>\n",
              "      <td>60.000000</td>\n",
              "      <td>1499.000000</td>\n",
              "      <td>29.000000</td>\n",
              "      <td>5.000000</td>\n",
              "      <td>1.0</td>\n",
              "      <td>2068.000000</td>\n",
              "      <td>4.000000</td>\n",
              "      <td>100.000000</td>\n",
              "      <td>4.000000</td>\n",
              "      <td>5.000000</td>\n",
              "      <td>4.000000</td>\n",
              "      <td>19999.000000</td>\n",
              "      <td>26999.000000</td>\n",
              "      <td>9.000000</td>\n",
              "      <td>25.000000</td>\n",
              "      <td>4.000000</td>\n",
              "      <td>4.000000</td>\n",
              "      <td>80.0</td>\n",
              "      <td>3.000000</td>\n",
              "      <td>40.000000</td>\n",
              "      <td>6.000000</td>\n",
              "      <td>4.000000</td>\n",
              "      <td>40.000000</td>\n",
              "      <td>18.000000</td>\n",
              "      <td>15.000000</td>\n",
              "      <td>17.000000</td>\n",
              "    </tr>\n",
              "  </tbody>\n",
              "</table>\n",
              "</div>"
            ],
            "text/plain": [
              "               Age    DailyRate  ...  YearsSinceLastPromotion  YearsWithCurrManager\n",
              "count  1470.000000  1470.000000  ...              1470.000000           1470.000000\n",
              "mean     36.923810   802.485714  ...                 2.187755              4.123129\n",
              "std       9.135373   403.509100  ...                 3.222430              3.568136\n",
              "min      18.000000   102.000000  ...                 0.000000              0.000000\n",
              "25%      30.000000   465.000000  ...                 0.000000              2.000000\n",
              "50%      36.000000   802.000000  ...                 1.000000              3.000000\n",
              "75%      43.000000  1157.000000  ...                 3.000000              7.000000\n",
              "max      60.000000  1499.000000  ...                15.000000             17.000000\n",
              "\n",
              "[8 rows x 26 columns]"
            ]
          },
          "metadata": {},
          "execution_count": 9
        }
      ]
    },
    {
      "cell_type": "code",
      "metadata": {
        "colab": {
          "base_uri": "https://localhost:8080/"
        },
        "id": "5ly9uZjVYShi",
        "outputId": "4fa836bb-6ab9-45a3-a7e4-03e74538a553"
      },
      "source": [
        "\n",
        "df['EmployeeNumber'].value_counts()\t"
      ],
      "execution_count": 10,
      "outputs": [
        {
          "output_type": "execute_result",
          "data": {
            "text/plain": [
              "2046    1\n",
              "641     1\n",
              "644     1\n",
              "645     1\n",
              "647     1\n",
              "       ..\n",
              "1364    1\n",
              "1367    1\n",
              "1368    1\n",
              "1369    1\n",
              "2048    1\n",
              "Name: EmployeeNumber, Length: 1470, dtype: int64"
            ]
          },
          "metadata": {},
          "execution_count": 10
        }
      ]
    },
    {
      "cell_type": "markdown",
      "metadata": {
        "id": "qsUSwJjH-LsD"
      },
      "source": [
        "\n",
        "### AS we can see that this feature is unique identifier and cannot be considered for building the model."
      ]
    },
    {
      "cell_type": "code",
      "metadata": {
        "id": "mx_M3PBczZjX"
      },
      "source": [
        "df.drop(columns='EmployeeNumber',inplace=True)"
      ],
      "execution_count": 11,
      "outputs": []
    },
    {
      "cell_type": "code",
      "metadata": {
        "colab": {
          "base_uri": "https://localhost:8080/"
        },
        "id": "PIOAyru4Z8i5",
        "outputId": "f962b6d0-7d80-44a3-d445-f731479bb664"
      },
      "source": [
        "df.nunique()"
      ],
      "execution_count": 12,
      "outputs": [
        {
          "output_type": "execute_result",
          "data": {
            "text/plain": [
              "Age                           43\n",
              "Attrition                      2\n",
              "BusinessTravel                 3\n",
              "DailyRate                    886\n",
              "Department                     3\n",
              "DistanceFromHome              29\n",
              "Education                      5\n",
              "EducationField                 6\n",
              "EmployeeCount                  1\n",
              "EnvironmentSatisfaction        4\n",
              "Gender                         2\n",
              "HourlyRate                    71\n",
              "JobInvolvement                 4\n",
              "JobLevel                       5\n",
              "JobRole                        9\n",
              "JobSatisfaction                4\n",
              "MaritalStatus                  3\n",
              "MonthlyIncome               1349\n",
              "MonthlyRate                 1427\n",
              "NumCompaniesWorked            10\n",
              "Over18                         1\n",
              "OverTime                       2\n",
              "PercentSalaryHike             15\n",
              "PerformanceRating              2\n",
              "RelationshipSatisfaction       4\n",
              "StandardHours                  1\n",
              "StockOptionLevel               4\n",
              "TotalWorkingYears             40\n",
              "TrainingTimesLastYear          7\n",
              "WorkLifeBalance                4\n",
              "YearsAtCompany                37\n",
              "YearsInCurrentRole            19\n",
              "YearsSinceLastPromotion       16\n",
              "YearsWithCurrManager          18\n",
              "dtype: int64"
            ]
          },
          "metadata": {},
          "execution_count": 12
        }
      ]
    },
    {
      "cell_type": "markdown",
      "metadata": {
        "id": "Hp5s194e-Yic"
      },
      "source": [
        "\n",
        "##  We can see there are fetaures having just 1 unique values. \n",
        "## Hence we can drop them."
      ]
    },
    {
      "cell_type": "code",
      "metadata": {
        "id": "HYTXudsAbiyr"
      },
      "source": [
        "for i in df.columns:\n",
        "  if df[i].nunique()<2:\n",
        "    df.drop(columns=i,inplace=True)\n"
      ],
      "execution_count": 13,
      "outputs": []
    },
    {
      "cell_type": "code",
      "metadata": {
        "colab": {
          "base_uri": "https://localhost:8080/"
        },
        "id": "hSkqc2-xb0NK",
        "outputId": "d397c816-be05-43f6-98c8-f5af4e770f54"
      },
      "source": [
        "df.shape"
      ],
      "execution_count": 14,
      "outputs": [
        {
          "output_type": "execute_result",
          "data": {
            "text/plain": [
              "(1470, 31)"
            ]
          },
          "metadata": {},
          "execution_count": 14
        }
      ]
    },
    {
      "cell_type": "markdown",
      "metadata": {
        "id": "BPoKXntfDgoK"
      },
      "source": [
        "# **EDA**"
      ]
    },
    {
      "cell_type": "markdown",
      "metadata": {
        "id": "AWK-B-8t-ofR"
      },
      "source": [
        "### **Checking the Normailization**"
      ]
    },
    {
      "cell_type": "code",
      "metadata": {
        "colab": {
          "base_uri": "https://localhost:8080/",
          "height": 1000
        },
        "id": "u6skUtR93Szm",
        "outputId": "5a5382d5-0cc6-4c4e-adcb-4b2f1a7fc25a"
      },
      "source": [
        "for i in df.drop(columns='Attrition').columns:\n",
        "  if df[i].nunique()>20:\n",
        "    plt.figure(figsize=(12,6))\n",
        "    sns.distplot(x=df[i])\n",
        "    plt.xlabel(i,fontsize=10)\n",
        "    plt.show()"
      ],
      "execution_count": 15,
      "outputs": [
        {
          "output_type": "display_data",
          "data": {
            "image/png": "[encoded data removed]",
            "text/plain": [
              "<Figure size 864x432 with 1 Axes>"
            ]
          },
          "metadata": {
            "needs_background": "light"
          }
        },
        {
          "output_type": "display_data",
          "data": {
            "image/png": "[encoded data removed]",
            "text/plain": [
              "<Figure size 864x432 with 1 Axes>"
            ]
          },
          "metadata": {
            "needs_background": "light"
          }
        },
        {
          "output_type": "display_data",
          "data": {
            "image/png": "[encoded data removed]",
            "text/plain": [
              "<Figure size 864x432 with 1 Axes>"
            ]
          },
          "metadata": {
            "needs_background": "light"
          }
        },
        {
          "output_type": "display_data",
          "data": {
            "image/png": "[encoded data removed]",
            "text/plain": [
              "<Figure size 864x432 with 1 Axes>"
            ]
          },
          "metadata": {
            "needs_background": "light"
          }
        },
        {
          "output_type": "display_data",
          "data": {
            "image/png": "[encoded data removed]",
            "text/plain": [
              "<Figure size 864x432 with 1 Axes>"
            ]
          },
          "metadata": {
            "needs_background": "light"
          }
        },
        {
          "output_type": "display_data",
          "data": {
            "image/png": "[encoded data removed]",
            "text/plain": [
              "<Figure size 864x432 with 1 Axes>"
            ]
          },
          "metadata": {
            "needs_background": "light"
          }
        },
        {
          "output_type": "display_data",
          "data": {
            "image/png": "[encoded data removed]",
            "text/plain": [
              "<Figure size 864x432 with 1 Axes>"
            ]
          },
          "metadata": {
            "needs_background": "light"
          }
        },
        {
          "output_type": "display_data",
          "data": {
            "image/png": "[encoded data removed]",
            "text/plain": [
              "<Figure size 864x432 with 1 Axes>"
            ]
          },
          "metadata": {
            "needs_background": "light"
          }
        }
      ]
    },
    {
      "cell_type": "markdown",
      "metadata": {
        "id": "HbC3XXh5-xPT"
      },
      "source": [
        "\n",
        "## So there are few features that are not normally distributed."
      ]
    },
    {
      "cell_type": "markdown",
      "metadata": {
        "id": "FsXDT-mX_T1k"
      },
      "source": [
        "## Scatter plot of features vs themselves and hue= attrition to check if we spot the separating line visually."
      ]
    },
    {
      "cell_type": "code",
      "metadata": {
        "colab": {
          "base_uri": "https://localhost:8080/",
          "height": 1000
        },
        "id": "jXjzUYmxb4Zq",
        "outputId": "a98e1d58-a5e0-4162-f93c-9d1780b7cf5e"
      },
      "source": [
        "for i in df.drop(columns='Attrition').columns:\n",
        "  if df[i].nunique()>20:\n",
        "    plt.figure(figsize=(12,6))\n",
        "    sns.scatterplot(x=df[i],y=df[i],hue=df['Attrition'])\n",
        "    plt.show()"
      ],
      "execution_count": 16,
      "outputs": [
        {
          "output_type": "display_data",
          "data": {
            "image/png": "[encoded data removed]",
            "text/plain": [
              "<Figure size 864x432 with 1 Axes>"
            ]
          },
          "metadata": {
            "needs_background": "light"
          }
        },
        {
          "output_type": "display_data",
          "data": {
            "image/png": "[encoded data removed]",
            "text/plain": [
              "<Figure size 864x432 with 1 Axes>"
            ]
          },
          "metadata": {
            "needs_background": "light"
          }
        },
        {
          "output_type": "display_data",
          "data": {
            "image/png": "[encoded data removed]",
            "text/plain": [
              "<Figure size 864x432 with 1 Axes>"
            ]
          },
          "metadata": {
            "needs_background": "light"
          }
        },
        {
          "output_type": "display_data",
          "data": {
            "image/png": "[encoded data removed]",
            "text/plain": [
              "<Figure size 864x432 with 1 Axes>"
            ]
          },
          "metadata": {
            "needs_background": "light"
          }
        },
        {
          "output_type": "display_data",
          "data": {
            "image/png": "[encoded data removed]",
            "text/plain": [
              "<Figure size 864x432 with 1 Axes>"
            ]
          },
          "metadata": {
            "needs_background": "light"
          }
        },
        {
          "output_type": "display_data",
          "data": {
            "image/png": "[encoded data removed]",
            "text/plain": [
              "<Figure size 864x432 with 1 Axes>"
            ]
          },
          "metadata": {
            "needs_background": "light"
          }
        },
        {
          "output_type": "display_data",
          "data": {
            "image/png": "[encoded data removed]",
            "text/plain": [
              "<Figure size 864x432 with 1 Axes>"
            ]
          },
          "metadata": {
            "needs_background": "light"
          }
        },
        {
          "output_type": "display_data",
          "data": {
            "image/png": "[encoded data removed]",
            "text/plain": [
              "<Figure size 864x432 with 1 Axes>"
            ]
          },
          "metadata": {
            "needs_background": "light"
          }
        }
      ]
    },
    {
      "cell_type": "markdown",
      "metadata": {
        "id": "wqRkQQ0j_5vC"
      },
      "source": [
        "\n",
        "## Here after ploting we can see that the two clases seem to be intertwined with each other after plotting them in 2d- fetaure space."
      ]
    },
    {
      "cell_type": "markdown",
      "metadata": {
        "id": "TMsqrlBr__gJ"
      },
      "source": [
        "## **Reducing the grouping by binning few features.**"
      ]
    },
    {
      "cell_type": "markdown",
      "metadata": {
        "id": "RXtPZqrsAiVQ"
      },
      "source": [
        "###YearsWithCurrManager"
      ]
    },
    {
      "cell_type": "code",
      "metadata": {
        "id": "rozcRRMIAysd"
      },
      "source": [
        "labels=[0,1,2]\n",
        "bins = [0,4,10,25]\n",
        "df['yrs_with_curr_man'] = pd.cut(df['YearsWithCurrManager'] , bins=bins, labels=labels, include_lowest=True)"
      ],
      "execution_count": 17,
      "outputs": []
    },
    {
      "cell_type": "code",
      "metadata": {
        "id": "-IvQ4HPcDEY8"
      },
      "source": [
        "df['yrs_with_curr_man']=df['yrs_with_curr_man'].astype('int')"
      ],
      "execution_count": 18,
      "outputs": []
    },
    {
      "cell_type": "code",
      "metadata": {
        "id": "CSuTPhyaA9um"
      },
      "source": [
        "df.drop(columns=['YearsWithCurrManager'],inplace=True)"
      ],
      "execution_count": 19,
      "outputs": []
    },
    {
      "cell_type": "code",
      "metadata": {
        "colab": {
          "base_uri": "https://localhost:8080/",
          "height": 0
        },
        "id": "ktoD3G6L9Wy-",
        "outputId": "8ffc8cc3-4203-42e4-b27b-5b642a099b13"
      },
      "source": [
        "df.head(2)"
      ],
      "execution_count": 20,
      "outputs": [
        {
          "output_type": "execute_result",
          "data": {
            "text/html": [
              "<div>\n",
              "<style scoped>\n",
              "    .dataframe tbody tr th:only-of-type {\n",
              "        vertical-align: middle;\n",
              "    }\n",
              "\n",
              "    .dataframe tbody tr th {\n",
              "        vertical-align: top;\n",
              "    }\n",
              "\n",
              "    .dataframe thead th {\n",
              "        text-align: right;\n",
              "    }\n",
              "</style>\n",
              "<table border=\"1\" class=\"dataframe\">\n",
              "  <thead>\n",
              "    <tr style=\"text-align: right;\">\n",
              "      <th></th>\n",
              "      <th>Age</th>\n",
              "      <th>Attrition</th>\n",
              "      <th>BusinessTravel</th>\n",
              "      <th>DailyRate</th>\n",
              "      <th>Department</th>\n",
              "      <th>DistanceFromHome</th>\n",
              "      <th>Education</th>\n",
              "      <th>EducationField</th>\n",
              "      <th>EnvironmentSatisfaction</th>\n",
              "      <th>Gender</th>\n",
              "      <th>HourlyRate</th>\n",
              "      <th>JobInvolvement</th>\n",
              "      <th>JobLevel</th>\n",
              "      <th>JobRole</th>\n",
              "      <th>JobSatisfaction</th>\n",
              "      <th>MaritalStatus</th>\n",
              "      <th>MonthlyIncome</th>\n",
              "      <th>MonthlyRate</th>\n",
              "      <th>NumCompaniesWorked</th>\n",
              "      <th>OverTime</th>\n",
              "      <th>PercentSalaryHike</th>\n",
              "      <th>PerformanceRating</th>\n",
              "      <th>RelationshipSatisfaction</th>\n",
              "      <th>StockOptionLevel</th>\n",
              "      <th>TotalWorkingYears</th>\n",
              "      <th>TrainingTimesLastYear</th>\n",
              "      <th>WorkLifeBalance</th>\n",
              "      <th>YearsAtCompany</th>\n",
              "      <th>YearsInCurrentRole</th>\n",
              "      <th>YearsSinceLastPromotion</th>\n",
              "      <th>yrs_with_curr_man</th>\n",
              "    </tr>\n",
              "  </thead>\n",
              "  <tbody>\n",
              "    <tr>\n",
              "      <th>0</th>\n",
              "      <td>41</td>\n",
              "      <td>Yes</td>\n",
              "      <td>Travel_Rarely</td>\n",
              "      <td>1102</td>\n",
              "      <td>Sales</td>\n",
              "      <td>1</td>\n",
              "      <td>2</td>\n",
              "      <td>Life Sciences</td>\n",
              "      <td>2</td>\n",
              "      <td>Female</td>\n",
              "      <td>94</td>\n",
              "      <td>3</td>\n",
              "      <td>2</td>\n",
              "      <td>Sales Executive</td>\n",
              "      <td>4</td>\n",
              "      <td>Single</td>\n",
              "      <td>5993</td>\n",
              "      <td>19479</td>\n",
              "      <td>8</td>\n",
              "      <td>Yes</td>\n",
              "      <td>11</td>\n",
              "      <td>3</td>\n",
              "      <td>1</td>\n",
              "      <td>0</td>\n",
              "      <td>8</td>\n",
              "      <td>0</td>\n",
              "      <td>1</td>\n",
              "      <td>6</td>\n",
              "      <td>4</td>\n",
              "      <td>0</td>\n",
              "      <td>1</td>\n",
              "    </tr>\n",
              "    <tr>\n",
              "      <th>1</th>\n",
              "      <td>49</td>\n",
              "      <td>No</td>\n",
              "      <td>Travel_Frequently</td>\n",
              "      <td>279</td>\n",
              "      <td>Research &amp; Development</td>\n",
              "      <td>8</td>\n",
              "      <td>1</td>\n",
              "      <td>Life Sciences</td>\n",
              "      <td>3</td>\n",
              "      <td>Male</td>\n",
              "      <td>61</td>\n",
              "      <td>2</td>\n",
              "      <td>2</td>\n",
              "      <td>Research Scientist</td>\n",
              "      <td>2</td>\n",
              "      <td>Married</td>\n",
              "      <td>5130</td>\n",
              "      <td>24907</td>\n",
              "      <td>1</td>\n",
              "      <td>No</td>\n",
              "      <td>23</td>\n",
              "      <td>4</td>\n",
              "      <td>4</td>\n",
              "      <td>1</td>\n",
              "      <td>10</td>\n",
              "      <td>3</td>\n",
              "      <td>3</td>\n",
              "      <td>10</td>\n",
              "      <td>7</td>\n",
              "      <td>1</td>\n",
              "      <td>1</td>\n",
              "    </tr>\n",
              "  </tbody>\n",
              "</table>\n",
              "</div>"
            ],
            "text/plain": [
              "   Age Attrition  ... YearsSinceLastPromotion  yrs_with_curr_man\n",
              "0   41       Yes  ...                       0                  1\n",
              "1   49        No  ...                       1                  1\n",
              "\n",
              "[2 rows x 31 columns]"
            ]
          },
          "metadata": {},
          "execution_count": 20
        }
      ]
    },
    {
      "cell_type": "markdown",
      "metadata": {
        "id": "RuR2A2GcARlY"
      },
      "source": [
        "###PercentSalaryHike"
      ]
    },
    {
      "cell_type": "code",
      "metadata": {
        "id": "3sID1z7M99pT"
      },
      "source": [
        "labels=[0,1,2]\n",
        "bins = [0,14,20,40]\n",
        "df['new_percent_salary_hike'] = pd.cut(df['PercentSalaryHike'] , bins=bins, labels=labels, include_lowest=True)"
      ],
      "execution_count": 21,
      "outputs": []
    },
    {
      "cell_type": "code",
      "metadata": {
        "id": "SuitxzDYCrwk"
      },
      "source": [
        "df['new_percent_salary_hike']=df['new_percent_salary_hike'].astype('int')"
      ],
      "execution_count": 22,
      "outputs": []
    },
    {
      "cell_type": "code",
      "metadata": {
        "id": "ovD3ujEq_B75"
      },
      "source": [
        "df.drop(columns=['PercentSalaryHike'],inplace=True)"
      ],
      "execution_count": 23,
      "outputs": []
    },
    {
      "cell_type": "markdown",
      "metadata": {
        "id": "FMvcDoYEAYAi"
      },
      "source": [
        "###YearsInCurrentRole"
      ]
    },
    {
      "cell_type": "code",
      "metadata": {
        "id": "V5z57QUr_XWc"
      },
      "source": [
        "labels=[0,1,2]\n",
        "bins = [0,4,10,25]\n",
        "df['yrs_in_curr_role'] = pd.cut(df['YearsInCurrentRole'] , bins=bins, labels=labels, include_lowest=True)"
      ],
      "execution_count": 24,
      "outputs": []
    },
    {
      "cell_type": "code",
      "metadata": {
        "id": "yHIzDtMCC55k"
      },
      "source": [
        "df['yrs_in_curr_role']=df['yrs_in_curr_role'].astype('int')"
      ],
      "execution_count": 25,
      "outputs": []
    },
    {
      "cell_type": "code",
      "metadata": {
        "id": "sJ7xdyRhAUuV"
      },
      "source": [
        "df.drop(columns=['YearsInCurrentRole'],inplace=True)"
      ],
      "execution_count": 26,
      "outputs": []
    },
    {
      "cell_type": "markdown",
      "metadata": {
        "id": "G9jTfsoIAIZR"
      },
      "source": [
        "###Age"
      ]
    },
    {
      "cell_type": "code",
      "metadata": {
        "id": "bSbH0vu27oAw"
      },
      "source": [
        "labels=[0,1,2,3]\n",
        "bins = [0,18, 25,40,100]\n",
        "df['new_age'] = pd.cut(df['Age'] , bins=bins, labels=labels, include_lowest=True)"
      ],
      "execution_count": 27,
      "outputs": []
    },
    {
      "cell_type": "code",
      "metadata": {
        "id": "aLpKtpEHCdLj"
      },
      "source": [
        "df['new_age']=df['new_age'].astype('int')"
      ],
      "execution_count": 28,
      "outputs": []
    },
    {
      "cell_type": "markdown",
      "metadata": {
        "id": "JFs6AkfXANy4"
      },
      "source": [
        "###Monthly Income"
      ]
    },
    {
      "cell_type": "code",
      "metadata": {
        "id": "AWsg3JQT9Enn"
      },
      "source": [
        "labels=[0,1,2]\n",
        "bins = [0,7500,12500,40000]\n",
        "df['new_monthly_income'] = pd.cut(df['MonthlyIncome'] , bins=bins, labels=labels, include_lowest=True)"
      ],
      "execution_count": 29,
      "outputs": []
    },
    {
      "cell_type": "code",
      "metadata": {
        "id": "gUGBelSACmQc"
      },
      "source": [
        "df['new_monthly_income']=df['new_monthly_income'].astype('int')"
      ],
      "execution_count": 30,
      "outputs": []
    },
    {
      "cell_type": "code",
      "metadata": {
        "id": "TuZJsdBn90Cz"
      },
      "source": [
        "df.drop(columns=['Age','MonthlyIncome'],inplace=True)"
      ],
      "execution_count": 31,
      "outputs": []
    },
    {
      "cell_type": "markdown",
      "metadata": {
        "id": "OQbFx7xfAd5j"
      },
      "source": [
        "###YearsSinceLastPromotion"
      ]
    },
    {
      "cell_type": "code",
      "metadata": {
        "id": "ELF41kwQAZdV"
      },
      "source": [
        "labels=[0,1,2]\n",
        "bins = [0,4,10,25]\n",
        "df['yrs_in_last_promo'] = pd.cut(df['YearsSinceLastPromotion'] , bins=bins, labels=labels, include_lowest=True)"
      ],
      "execution_count": 32,
      "outputs": []
    },
    {
      "cell_type": "code",
      "metadata": {
        "id": "33uCBi4VC_bk"
      },
      "source": [
        "df['yrs_in_last_promo']=df['yrs_in_last_promo'].astype('int')"
      ],
      "execution_count": 33,
      "outputs": []
    },
    {
      "cell_type": "code",
      "metadata": {
        "id": "rbpMKpJFAnI4"
      },
      "source": [
        "df.drop(columns=['YearsSinceLastPromotion'],inplace=True)"
      ],
      "execution_count": 34,
      "outputs": []
    },
    {
      "cell_type": "markdown",
      "metadata": {
        "id": "b94-LUKoApbL"
      },
      "source": [
        "## **Plotting the Value Counts**"
      ]
    },
    {
      "cell_type": "code",
      "metadata": {
        "colab": {
          "base_uri": "https://localhost:8080/",
          "height": 1000
        },
        "id": "G3s0btxCT9k0",
        "outputId": "b87a505a-aa01-4755-e1cc-d3dabe3b4b09"
      },
      "source": [
        "for i in df.drop(columns='Attrition').columns:\n",
        "  if df[i].nunique()<20:\n",
        "    plt.figure(figsize=(12,6))\n",
        "    sns.countplot(x=df[i],hue=df['Attrition'])\n",
        "    plt.show()\n",
        "  else:\n",
        "    sns.boxplot(x=df['Attrition'],y=df[i])\n",
        "    plt.show()"
      ],
      "execution_count": 35,
      "outputs": [
        {
          "output_type": "display_data",
          "data": {
            "image/png": "[encoded data removed]",
            "text/plain": [
              "<Figure size 864x432 with 1 Axes>"
            ]
          },
          "metadata": {
            "needs_background": "light"
          }
        },
        {
          "output_type": "display_data",
          "data": {
            "image/png": "[encoded data removed]",
            "text/plain": [
              "<Figure size 432x288 with 1 Axes>"
            ]
          },
          "metadata": {
            "needs_background": "light"
          }
        },
        {
          "output_type": "display_data",
          "data": {
            "image/png": "[encoded data removed]",
            "text/plain": [
              "<Figure size 864x432 with 1 Axes>"
            ]
          },
          "metadata": {
            "needs_background": "light"
          }
        },
        {
          "output_type": "display_data",
          "data": {
            "image/png": "[encoded data removed]",
            "text/plain": [
              "<Figure size 432x288 with 1 Axes>"
            ]
          },
          "metadata": {
            "needs_background": "light"
          }
        },
        {
          "output_type": "display_data",
          "data": {
            "image/png": "[encoded data removed]",
            "text/plain": [
              "<Figure size 864x432 with 1 Axes>"
            ]
          },
          "metadata": {
            "needs_background": "light"
          }
        },
        {
          "output_type": "display_data",
          "data": {
            "image/png": "[encoded data removed]",
            "text/plain": [
              "<Figure size 864x432 with 1 Axes>"
            ]
          },
          "metadata": {
            "needs_background": "light"
          }
        },
        {
          "output_type": "display_data",
          "data": {
            "image/png": "[encoded data removed]",
            "text/plain": [
              "<Figure size 864x432 with 1 Axes>"
            ]
          },
          "metadata": {
            "needs_background": "light"
          }
        },
        {
          "output_type": "display_data",
          "data": {
            "image/png": "[encoded data removed]",
            "text/plain": [
              "<Figure size 864x432 with 1 Axes>"
            ]
          },
          "metadata": {
            "needs_background": "light"
          }
        },
        {
          "output_type": "display_data",
          "data": {
            "image/png": "[encoded data removed]",
            "text/plain": [
              "<Figure size 432x288 with 1 Axes>"
            ]
          },
          "metadata": {
            "needs_background": "light"
          }
        },
        {
          "output_type": "display_data",
          "data": {
            "image/png": "[encoded data removed]",
            "text/plain": [
              "<Figure size 864x432 with 1 Axes>"
            ]
          },
          "metadata": {
            "needs_background": "light"
          }
        },
        {
          "output_type": "display_data",
          "data": {
            "image/png": "[encoded data removed]",
            "text/plain": [
              "<Figure size 864x432 with 1 Axes>"
            ]
          },
          "metadata": {
            "needs_background": "light"
          }
        },
        {
          "output_type": "display_data",
          "data": {
            "image/png": "[encoded data removed]",
            "text/plain": [
              "<Figure size 864x432 with 1 Axes>"
            ]
          },
          "metadata": {
            "needs_background": "light"
          }
        },
        {
          "output_type": "display_data",
          "data": {
            "image/png": "[encoded data removed]",
            "text/plain": [
              "<Figure size 864x432 with 1 Axes>"
            ]
          },
          "metadata": {
            "needs_background": "light"
          }
        },
        {
          "output_type": "display_data",
          "data": {
            "image/png": "[encoded data removed]",
            "text/plain": [
              "<Figure size 864x432 with 1 Axes>"
            ]
          },
          "metadata": {
            "needs_background": "light"
          }
        },
        {
          "output_type": "display_data",
          "data": {
            "image/png": "[encoded data removed]",
            "text/plain": [
              "<Figure size 432x288 with 1 Axes>"
            ]
          },
          "metadata": {
            "needs_background": "light"
          }
        },
        {
          "output_type": "display_data",
          "data": {
            "image/png": "[encoded data removed]",
            "text/plain": [
              "<Figure size 864x432 with 1 Axes>"
            ]
          },
          "metadata": {
            "needs_background": "light"
          }
        },
        {
          "output_type": "display_data",
          "data": {
            "image/png": "[encoded data removed]",
            "text/plain": [
              "<Figure size 864x432 with 1 Axes>"
            ]
          },
          "metadata": {
            "needs_background": "light"
          }
        },
        {
          "output_type": "display_data",
          "data": {
            "image/png": "[encoded data removed]",
            "text/plain": [
              "<Figure size 864x432 with 1 Axes>"
            ]
          },
          "metadata": {
            "needs_background": "light"
          }
        },
        {
          "output_type": "display_data",
          "data": {
            "image/png": "[encoded data removed]",
            "text/plain": [
              "<Figure size 864x432 with 1 Axes>"
            ]
          },
          "metadata": {
            "needs_background": "light"
          }
        },
        {
          "output_type": "display_data",
          "data": {
            "image/png": "[encoded data removed]",
            "text/plain": [
              "<Figure size 864x432 with 1 Axes>"
            ]
          },
          "metadata": {
            "needs_background": "light"
          }
        },
        {
          "output_type": "display_data",
          "data": {
            "image/png": "[encoded data removed]",
            "text/plain": [
              "<Figure size 432x288 with 1 Axes>"
            ]
          },
          "metadata": {
            "needs_background": "light"
          }
        },
        {
          "output_type": "display_data",
          "data": {
            "image/png": "[encoded data removed]",
            "text/plain": [
              "<Figure size 864x432 with 1 Axes>"
            ]
          },
          "metadata": {
            "needs_background": "light"
          }
        },
        {
          "output_type": "display_data",
          "data": {
            "image/png": "[encoded data removed]",
            "text/plain": [
              "<Figure size 864x432 with 1 Axes>"
            ]
          },
          "metadata": {
            "needs_background": "light"
          }
        },
        {
          "output_type": "display_data",
          "data": {
            "image/png": "[encoded data removed]",
            "text/plain": [
              "<Figure size 432x288 with 1 Axes>"
            ]
          },
          "metadata": {
            "needs_background": "light"
          }
        },
        {
          "output_type": "display_data",
          "data": {
            "image/png": "[encoded data removed]",
            "text/plain": [
              "<Figure size 864x432 with 1 Axes>"
            ]
          },
          "metadata": {
            "needs_background": "light"
          }
        },
        {
          "output_type": "display_data",
          "data": {
            "image/png": "[encoded data removed]",
            "text/plain": [
              "<Figure size 864x432 with 1 Axes>"
            ]
          },
          "metadata": {
            "needs_background": "light"
          }
        },
        {
          "output_type": "display_data",
          "data": {
            "image/png": "[encoded data removed]",
            "text/plain": [
              "<Figure size 864x432 with 1 Axes>"
            ]
          },
          "metadata": {
            "needs_background": "light"
          }
        },
        {
          "output_type": "display_data",
          "data": {
            "image/png": "[encoded data removed]",
            "text/plain": [
              "<Figure size 864x432 with 1 Axes>"
            ]
          },
          "metadata": {
            "needs_background": "light"
          }
        },
        {
          "output_type": "display_data",
          "data": {
            "image/png": "[encoded data removed]",
            "text/plain": [
              "<Figure size 864x432 with 1 Axes>"
            ]
          },
          "metadata": {
            "needs_background": "light"
          }
        },
        {
          "output_type": "display_data",
          "data": {
            "image/png": "[encoded data removed]",
            "text/plain": [
              "<Figure size 864x432 with 1 Axes>"
            ]
          },
          "metadata": {
            "needs_background": "light"
          }
        }
      ]
    },
    {
      "cell_type": "markdown",
      "metadata": {
        "id": "Wt8mssteBghP"
      },
      "source": [
        "\n",
        "##As we can see in step above that there has been high attrition when the distance of the work place has been far from home.\n"
      ]
    },
    {
      "cell_type": "markdown",
      "metadata": {
        "id": "SIBwvul3DFit"
      },
      "source": [
        "## **Changing the Attrition column to a numerical one.**"
      ]
    },
    {
      "cell_type": "code",
      "metadata": {
        "id": "Fvz-5RSIHLB0"
      },
      "source": [
        "df['Attrition']=df['Attrition'].apply(lambda x: 1 if x=='Yes' else 0)"
      ],
      "execution_count": 36,
      "outputs": []
    },
    {
      "cell_type": "code",
      "metadata": {
        "colab": {
          "base_uri": "https://localhost:8080/"
        },
        "id": "Y6yTyXrdHeaY",
        "outputId": "ce2879a2-5f7a-431b-a7a3-cb349b0bbb7e"
      },
      "source": [
        "df['Attrition'].value_counts()"
      ],
      "execution_count": 37,
      "outputs": [
        {
          "output_type": "execute_result",
          "data": {
            "text/plain": [
              "0    1233\n",
              "1     237\n",
              "Name: Attrition, dtype: int64"
            ]
          },
          "metadata": {},
          "execution_count": 37
        }
      ]
    },
    {
      "cell_type": "markdown",
      "metadata": {
        "id": "ihYgbUt-DJNj"
      },
      "source": [
        "## **We can see that the dataset is higly imbalanced.**"
      ]
    },
    {
      "cell_type": "code",
      "metadata": {
        "id": "uvxaJ_awEmhl"
      },
      "source": [
        "X=df.drop(columns='Attrition')\n",
        "y=df['Attrition']"
      ],
      "execution_count": 38,
      "outputs": []
    },
    {
      "cell_type": "markdown",
      "metadata": {
        "id": "K34ZKwrbDP4R"
      },
      "source": [
        "## **One Hot Encoding**"
      ]
    },
    {
      "cell_type": "code",
      "metadata": {
        "id": "QZgaEL5vE0u3"
      },
      "source": [
        "encod=[x  for x in X.columns if x not in X.describe().columns]"
      ],
      "execution_count": 39,
      "outputs": []
    },
    {
      "cell_type": "code",
      "metadata": {
        "id": "lHqjfjY-CHi8"
      },
      "source": [
        "X=pd.get_dummies(X, columns=encod,drop_first=True )"
      ],
      "execution_count": 40,
      "outputs": []
    },
    {
      "cell_type": "code",
      "metadata": {
        "colab": {
          "base_uri": "https://localhost:8080/",
          "height": 149
        },
        "id": "zWA46kv3DVlz",
        "outputId": "95ab7b3e-b4ad-4df8-8597-41f235de182e"
      },
      "source": [
        "X.head(2)"
      ],
      "execution_count": 41,
      "outputs": [
        {
          "output_type": "execute_result",
          "data": {
            "text/html": [
              "<div>\n",
              "<style scoped>\n",
              "    .dataframe tbody tr th:only-of-type {\n",
              "        vertical-align: middle;\n",
              "    }\n",
              "\n",
              "    .dataframe tbody tr th {\n",
              "        vertical-align: top;\n",
              "    }\n",
              "\n",
              "    .dataframe thead th {\n",
              "        text-align: right;\n",
              "    }\n",
              "</style>\n",
              "<table border=\"1\" class=\"dataframe\">\n",
              "  <thead>\n",
              "    <tr style=\"text-align: right;\">\n",
              "      <th></th>\n",
              "      <th>DailyRate</th>\n",
              "      <th>DistanceFromHome</th>\n",
              "      <th>Education</th>\n",
              "      <th>EnvironmentSatisfaction</th>\n",
              "      <th>HourlyRate</th>\n",
              "      <th>JobInvolvement</th>\n",
              "      <th>JobLevel</th>\n",
              "      <th>JobSatisfaction</th>\n",
              "      <th>MonthlyRate</th>\n",
              "      <th>NumCompaniesWorked</th>\n",
              "      <th>PerformanceRating</th>\n",
              "      <th>RelationshipSatisfaction</th>\n",
              "      <th>StockOptionLevel</th>\n",
              "      <th>TotalWorkingYears</th>\n",
              "      <th>TrainingTimesLastYear</th>\n",
              "      <th>WorkLifeBalance</th>\n",
              "      <th>YearsAtCompany</th>\n",
              "      <th>yrs_with_curr_man</th>\n",
              "      <th>new_percent_salary_hike</th>\n",
              "      <th>yrs_in_curr_role</th>\n",
              "      <th>new_age</th>\n",
              "      <th>new_monthly_income</th>\n",
              "      <th>yrs_in_last_promo</th>\n",
              "      <th>BusinessTravel_Travel_Frequently</th>\n",
              "      <th>BusinessTravel_Travel_Rarely</th>\n",
              "      <th>Department_Research &amp; Development</th>\n",
              "      <th>Department_Sales</th>\n",
              "      <th>EducationField_Life Sciences</th>\n",
              "      <th>EducationField_Marketing</th>\n",
              "      <th>EducationField_Medical</th>\n",
              "      <th>EducationField_Other</th>\n",
              "      <th>EducationField_Technical Degree</th>\n",
              "      <th>Gender_Male</th>\n",
              "      <th>JobRole_Human Resources</th>\n",
              "      <th>JobRole_Laboratory Technician</th>\n",
              "      <th>JobRole_Manager</th>\n",
              "      <th>JobRole_Manufacturing Director</th>\n",
              "      <th>JobRole_Research Director</th>\n",
              "      <th>JobRole_Research Scientist</th>\n",
              "      <th>JobRole_Sales Executive</th>\n",
              "      <th>JobRole_Sales Representative</th>\n",
              "      <th>MaritalStatus_Married</th>\n",
              "      <th>MaritalStatus_Single</th>\n",
              "      <th>OverTime_Yes</th>\n",
              "    </tr>\n",
              "  </thead>\n",
              "  <tbody>\n",
              "    <tr>\n",
              "      <th>0</th>\n",
              "      <td>1102</td>\n",
              "      <td>1</td>\n",
              "      <td>2</td>\n",
              "      <td>2</td>\n",
              "      <td>94</td>\n",
              "      <td>3</td>\n",
              "      <td>2</td>\n",
              "      <td>4</td>\n",
              "      <td>19479</td>\n",
              "      <td>8</td>\n",
              "      <td>3</td>\n",
              "      <td>1</td>\n",
              "      <td>0</td>\n",
              "      <td>8</td>\n",
              "      <td>0</td>\n",
              "      <td>1</td>\n",
              "      <td>6</td>\n",
              "      <td>1</td>\n",
              "      <td>0</td>\n",
              "      <td>0</td>\n",
              "      <td>3</td>\n",
              "      <td>0</td>\n",
              "      <td>0</td>\n",
              "      <td>0</td>\n",
              "      <td>1</td>\n",
              "      <td>0</td>\n",
              "      <td>1</td>\n",
              "      <td>1</td>\n",
              "      <td>0</td>\n",
              "      <td>0</td>\n",
              "      <td>0</td>\n",
              "      <td>0</td>\n",
              "      <td>0</td>\n",
              "      <td>0</td>\n",
              "      <td>0</td>\n",
              "      <td>0</td>\n",
              "      <td>0</td>\n",
              "      <td>0</td>\n",
              "      <td>0</td>\n",
              "      <td>1</td>\n",
              "      <td>0</td>\n",
              "      <td>0</td>\n",
              "      <td>1</td>\n",
              "      <td>1</td>\n",
              "    </tr>\n",
              "    <tr>\n",
              "      <th>1</th>\n",
              "      <td>279</td>\n",
              "      <td>8</td>\n",
              "      <td>1</td>\n",
              "      <td>3</td>\n",
              "      <td>61</td>\n",
              "      <td>2</td>\n",
              "      <td>2</td>\n",
              "      <td>2</td>\n",
              "      <td>24907</td>\n",
              "      <td>1</td>\n",
              "      <td>4</td>\n",
              "      <td>4</td>\n",
              "      <td>1</td>\n",
              "      <td>10</td>\n",
              "      <td>3</td>\n",
              "      <td>3</td>\n",
              "      <td>10</td>\n",
              "      <td>1</td>\n",
              "      <td>2</td>\n",
              "      <td>1</td>\n",
              "      <td>3</td>\n",
              "      <td>0</td>\n",
              "      <td>0</td>\n",
              "      <td>1</td>\n",
              "      <td>0</td>\n",
              "      <td>1</td>\n",
              "      <td>0</td>\n",
              "      <td>1</td>\n",
              "      <td>0</td>\n",
              "      <td>0</td>\n",
              "      <td>0</td>\n",
              "      <td>0</td>\n",
              "      <td>1</td>\n",
              "      <td>0</td>\n",
              "      <td>0</td>\n",
              "      <td>0</td>\n",
              "      <td>0</td>\n",
              "      <td>0</td>\n",
              "      <td>1</td>\n",
              "      <td>0</td>\n",
              "      <td>0</td>\n",
              "      <td>1</td>\n",
              "      <td>0</td>\n",
              "      <td>0</td>\n",
              "    </tr>\n",
              "  </tbody>\n",
              "</table>\n",
              "</div>"
            ],
            "text/plain": [
              "   DailyRate  DistanceFromHome  ...  MaritalStatus_Single  OverTime_Yes\n",
              "0       1102                 1  ...                     1             1\n",
              "1        279                 8  ...                     0             0\n",
              "\n",
              "[2 rows x 44 columns]"
            ]
          },
          "metadata": {},
          "execution_count": 41
        }
      ]
    },
    {
      "cell_type": "code",
      "metadata": {
        "colab": {
          "base_uri": "https://localhost:8080/"
        },
        "id": "-WB2qyjAFN57",
        "outputId": "cc4ad700-8745-466c-dbb6-b6c9c7bbf10b"
      },
      "source": [
        "X.shape"
      ],
      "execution_count": 42,
      "outputs": [
        {
          "output_type": "execute_result",
          "data": {
            "text/plain": [
              "(1470, 44)"
            ]
          },
          "metadata": {},
          "execution_count": 42
        }
      ]
    },
    {
      "cell_type": "markdown",
      "metadata": {
        "id": "2G98GDNFDWvi"
      },
      "source": [
        "# **Feature Selection**"
      ]
    },
    {
      "cell_type": "markdown",
      "metadata": {
        "id": "bvzAiXVgDyG8"
      },
      "source": [
        "### **Permutation Feature**"
      ]
    },
    {
      "cell_type": "code",
      "metadata": {
        "id": "HNeAOWvoMJpc"
      },
      "source": [
        "from sklearn.inspection import permutation_importance"
      ],
      "execution_count": 50,
      "outputs": []
    },
    {
      "cell_type": "code",
      "metadata": {
        "id": "GJewoyk8KEUb"
      },
      "source": [
        "perm_imp = permutation_importance(rf, X_test, y_test)"
      ],
      "execution_count": 53,
      "outputs": []
    },
    {
      "cell_type": "code",
      "metadata": {
        "colab": {
          "base_uri": "https://localhost:8080/"
        },
        "id": "pHbUmUpTMe1a",
        "outputId": "ca59e8a3-397a-4c7c-d351-862f32268ad1"
      },
      "source": [
        "perm_imp.importances_mean"
      ],
      "execution_count": 54,
      "outputs": [
        {
          "output_type": "execute_result",
          "data": {
            "text/plain": [
              "array([ 2.71739130e-03,  3.26086957e-03,  1.08695652e-03,  9.23913043e-03,\n",
              "        4.34782609e-03,  1.03260870e-02,  9.23913043e-03,  3.26086957e-03,\n",
              "        4.89130435e-03,  3.26086957e-03, -5.43478261e-04,  6.52173913e-03,\n",
              "        3.80434783e-03,  1.08695652e-03,  2.71739130e-03,  3.26086957e-03,\n",
              "        8.15217391e-03,  5.43478261e-04,  3.80434783e-03,  3.80434783e-03,\n",
              "        2.22044605e-17,  2.17391304e-03,  2.17391304e-03,  2.71739130e-03,\n",
              "       -1.63043478e-03,  2.71739130e-03,  3.26086957e-03,  2.22044605e-17,\n",
              "        3.26086957e-03,  2.71739130e-03,  0.00000000e+00,  0.00000000e+00,\n",
              "        3.26086957e-03,  2.71739130e-03,  4.34782609e-03,  0.00000000e+00,\n",
              "        5.43478261e-04,  0.00000000e+00,  3.80434783e-03,  5.97826087e-03,\n",
              "        1.08695652e-03,  3.26086957e-03, -5.43478261e-04,  2.17391304e-03])"
            ]
          },
          "metadata": {},
          "execution_count": 54
        }
      ]
    },
    {
      "cell_type": "code",
      "metadata": {
        "id": "vUQv_lYwMgpS"
      },
      "source": [
        "feature_imp1=pd.DataFrame(zip(X.columns,perm_importance.importances_mean), columns=['columns','p_importance']).sort_values('p_importance',ascending=False)"
      ],
      "execution_count": 55,
      "outputs": []
    },
    {
      "cell_type": "code",
      "metadata": {
        "id": "oM0YKDHWNYQS"
      },
      "source": [
        "feature_imp1.reset_index(drop=True,inplace=True)"
      ],
      "execution_count": 56,
      "outputs": []
    },
    {
      "cell_type": "code",
      "metadata": {
        "id": "yQP_W22xNlka",
        "colab": {
          "base_uri": "https://localhost:8080/"
        },
        "outputId": "3b8114a5-ecea-4831-c469-6a2d44fb4790"
      },
      "source": [
        "feature_imp1['p_importance']"
      ],
      "execution_count": 57,
      "outputs": [
        {
          "output_type": "execute_result",
          "data": {
            "text/plain": [
              "0     1.141304e-02\n",
              "1     8.695652e-03\n",
              "2     8.695652e-03\n",
              "3     7.608696e-03\n",
              "4     6.521739e-03\n",
              "5     6.521739e-03\n",
              "6     5.978261e-03\n",
              "7     5.434783e-03\n",
              "8     5.434783e-03\n",
              "9     5.434783e-03\n",
              "10    4.347826e-03\n",
              "11    4.347826e-03\n",
              "12    4.347826e-03\n",
              "13    4.347826e-03\n",
              "14    3.804348e-03\n",
              "15    3.804348e-03\n",
              "16    3.804348e-03\n",
              "17    3.260870e-03\n",
              "18    3.260870e-03\n",
              "19    3.260870e-03\n",
              "20    2.717391e-03\n",
              "21    2.717391e-03\n",
              "22    2.717391e-03\n",
              "23    2.717391e-03\n",
              "24    2.717391e-03\n",
              "25    2.717391e-03\n",
              "26    2.173913e-03\n",
              "27    2.173913e-03\n",
              "28    1.630435e-03\n",
              "29    1.630435e-03\n",
              "30    1.630435e-03\n",
              "31    1.086957e-03\n",
              "32    5.434783e-04\n",
              "33    5.434783e-04\n",
              "34    4.440892e-17\n",
              "35    2.220446e-17\n",
              "36    2.220446e-17\n",
              "37    0.000000e+00\n",
              "38    0.000000e+00\n",
              "39    0.000000e+00\n",
              "40    0.000000e+00\n",
              "41    0.000000e+00\n",
              "42   -5.434783e-04\n",
              "43   -1.630435e-03\n",
              "Name: p_importance, dtype: float64"
            ]
          },
          "metadata": {},
          "execution_count": 57
        }
      ]
    },
    {
      "cell_type": "code",
      "metadata": {
        "id": "NI8lo92rNmy3"
      },
      "source": [
        "impcols=feature_imp1['columns'][0:19]"
      ],
      "execution_count": 65,
      "outputs": []
    },
    {
      "cell_type": "markdown",
      "metadata": {
        "id": "gj3qv9PJDt-a"
      },
      "source": [
        "### **Random Forest Classifier Features**"
      ]
    },
    {
      "cell_type": "code",
      "metadata": {
        "id": "KB06U0ZnGq_5"
      },
      "source": [
        "X_train,X_test,y_train,y_test=train_test_split(X,y,test_size=0.25,stratify=y)"
      ],
      "execution_count": 43,
      "outputs": []
    },
    {
      "cell_type": "code",
      "metadata": {
        "colab": {
          "base_uri": "https://localhost:8080/"
        },
        "id": "UWYh3bncFSDz",
        "outputId": "344e19f4-d7f4-45c6-89b1-ae2612b27741"
      },
      "source": [
        "rfc=RandomForestClassifier(n_estimators=100)\n",
        "rfc.fit(X_train,y_train)"
      ],
      "execution_count": 45,
      "outputs": [
        {
          "output_type": "execute_result",
          "data": {
            "text/plain": [
              "RandomForestClassifier(bootstrap=True, ccp_alpha=0.0, class_weight=None,\n",
              "                       criterion='gini', max_depth=None, max_features='auto',\n",
              "                       max_leaf_nodes=None, max_samples=None,\n",
              "                       min_impurity_decrease=0.0, min_impurity_split=None,\n",
              "                       min_samples_leaf=1, min_samples_split=2,\n",
              "                       min_weight_fraction_leaf=0.0, n_estimators=100,\n",
              "                       n_jobs=None, oob_score=False, random_state=None,\n",
              "                       verbose=0, warm_start=False)"
            ]
          },
          "metadata": {},
          "execution_count": 45
        }
      ]
    },
    {
      "cell_type": "code",
      "metadata": {
        "id": "FHpqxUMvG-h7"
      },
      "source": [
        "feature_=pd.DataFrame(zip(X.columns,rfc.feature_importances_), columns=['columns','importance']).sort_values('importance',ascending=False)"
      ],
      "execution_count": 46,
      "outputs": []
    },
    {
      "cell_type": "code",
      "metadata": {
        "id": "E5pui8DUIbJO"
      },
      "source": [
        "feature_.reset_index(drop=True,inplace=True)"
      ],
      "execution_count": 47,
      "outputs": []
    },
    {
      "cell_type": "code",
      "metadata": {
        "colab": {
          "base_uri": "https://localhost:8080/",
          "height": 206
        },
        "id": "1R8CJ2HMJLpa",
        "outputId": "06f08063-42cf-44ad-e25d-49e5408b040c"
      },
      "source": [
        "feature_.head(5)"
      ],
      "execution_count": 48,
      "outputs": [
        {
          "output_type": "execute_result",
          "data": {
            "text/html": [
              "<div>\n",
              "<style scoped>\n",
              "    .dataframe tbody tr th:only-of-type {\n",
              "        vertical-align: middle;\n",
              "    }\n",
              "\n",
              "    .dataframe tbody tr th {\n",
              "        vertical-align: top;\n",
              "    }\n",
              "\n",
              "    .dataframe thead th {\n",
              "        text-align: right;\n",
              "    }\n",
              "</style>\n",
              "<table border=\"1\" class=\"dataframe\">\n",
              "  <thead>\n",
              "    <tr style=\"text-align: right;\">\n",
              "      <th></th>\n",
              "      <th>columns</th>\n",
              "      <th>importance</th>\n",
              "    </tr>\n",
              "  </thead>\n",
              "  <tbody>\n",
              "    <tr>\n",
              "      <th>0</th>\n",
              "      <td>DailyRate</td>\n",
              "      <td>0.068526</td>\n",
              "    </tr>\n",
              "    <tr>\n",
              "      <th>1</th>\n",
              "      <td>TotalWorkingYears</td>\n",
              "      <td>0.063134</td>\n",
              "    </tr>\n",
              "    <tr>\n",
              "      <th>2</th>\n",
              "      <td>MonthlyRate</td>\n",
              "      <td>0.060317</td>\n",
              "    </tr>\n",
              "    <tr>\n",
              "      <th>3</th>\n",
              "      <td>HourlyRate</td>\n",
              "      <td>0.059992</td>\n",
              "    </tr>\n",
              "    <tr>\n",
              "      <th>4</th>\n",
              "      <td>DistanceFromHome</td>\n",
              "      <td>0.058270</td>\n",
              "    </tr>\n",
              "  </tbody>\n",
              "</table>\n",
              "</div>"
            ],
            "text/plain": [
              "             columns  importance\n",
              "0          DailyRate    0.068526\n",
              "1  TotalWorkingYears    0.063134\n",
              "2        MonthlyRate    0.060317\n",
              "3         HourlyRate    0.059992\n",
              "4   DistanceFromHome    0.058270"
            ]
          },
          "metadata": {},
          "execution_count": 48
        }
      ]
    },
    {
      "cell_type": "code",
      "metadata": {
        "colab": {
          "base_uri": "https://localhost:8080/"
        },
        "id": "deOgfm33J5ST",
        "outputId": "179fceba-8459-4a9f-df17-0507a2238027"
      },
      "source": [
        "feature_['importance'][0:30].sum()"
      ],
      "execution_count": 49,
      "outputs": [
        {
          "output_type": "execute_result",
          "data": {
            "text/plain": [
              "0.9077548419974638"
            ]
          },
          "metadata": {},
          "execution_count": 49
        }
      ]
    },
    {
      "cell_type": "markdown",
      "metadata": {
        "id": "pgK_iVQGD4pC"
      },
      "source": [
        "\n",
        "##We can see that the model has placed the features with Grouping the data on top.\n"
      ]
    },
    {
      "cell_type": "markdown",
      "metadata": {
        "id": "2LpMvQVtEbMq"
      },
      "source": [
        "## **Separating the Input and Output Variables**"
      ]
    },
    {
      "cell_type": "code",
      "metadata": {
        "id": "CXwvl0Y7PIZ0"
      },
      "source": [
        "Xnew=X[impcols]\n",
        "y=df['Attrition']"
      ],
      "execution_count": 66,
      "outputs": []
    },
    {
      "cell_type": "markdown",
      "metadata": {
        "id": "aFAPpniPUM3Z"
      },
      "source": [
        "# **Support Vector Machine**"
      ]
    },
    {
      "cell_type": "code",
      "metadata": {
        "id": "AhJn2YueUbqU"
      },
      "source": [
        "X_train,X_test,y_train,y_test=train_test_split(Xnew,y,test_size=0.30,stratify=y)"
      ],
      "execution_count": 89,
      "outputs": []
    },
    {
      "cell_type": "code",
      "metadata": {
        "id": "k3iF0v1EUbqU"
      },
      "source": [
        "scaler=MinMaxScaler()\n",
        "scaler.fit(X_train)\n",
        "X_train=scaler.transform(X_train)\n",
        "X_test=scaler.transform(X_test)"
      ],
      "execution_count": 90,
      "outputs": []
    },
    {
      "cell_type": "code",
      "metadata": {
        "colab": {
          "base_uri": "https://localhost:8080/"
        },
        "id": "CZ0OmGMBUMLb",
        "outputId": "bfc92c8c-c55d-4334-c088-bffc25623eb6"
      },
      "source": [
        "sv=svm.SVC(class_weight='balanced')\n",
        "sv.fit(X_train,y_train)"
      ],
      "execution_count": 91,
      "outputs": [
        {
          "output_type": "execute_result",
          "data": {
            "text/plain": [
              "SVC(C=1.0, break_ties=False, cache_size=200, class_weight='balanced', coef0=0.0,\n",
              "    decision_function_shape='ovr', degree=3, gamma='scale', kernel='rbf',\n",
              "    max_iter=-1, probability=False, random_state=None, shrinking=True,\n",
              "    tol=0.001, verbose=False)"
            ]
          },
          "metadata": {},
          "execution_count": 91
        }
      ]
    },
    {
      "cell_type": "code",
      "metadata": {
        "id": "Z0i_xHL8R3Uw"
      },
      "source": [
        "y_trainpred=sv.predict(X_train)\n",
        "y_testpred=sv.predict(X_test)"
      ],
      "execution_count": 92,
      "outputs": []
    },
    {
      "cell_type": "code",
      "metadata": {
        "colab": {
          "base_uri": "https://localhost:8080/"
        },
        "id": "B0CbuKloUlOK",
        "outputId": "c3460a90-ee1f-48ed-a598-2eebf9dea909"
      },
      "source": [
        "print(classification_report(y_train,y_trainpred))"
      ],
      "execution_count": 94,
      "outputs": [
        {
          "output_type": "stream",
          "name": "stdout",
          "text": [
            "              precision    recall  f1-score   support\n",
            "\n",
            "           0       0.97      0.81      0.89       863\n",
            "           1       0.48      0.87      0.62       166\n",
            "\n",
            "    accuracy                           0.82      1029\n",
            "   macro avg       0.72      0.84      0.75      1029\n",
            "weighted avg       0.89      0.82      0.84      1029\n",
            "\n"
          ]
        }
      ]
    },
    {
      "cell_type": "code",
      "metadata": {
        "colab": {
          "base_uri": "https://localhost:8080/"
        },
        "id": "Ibp79c6KUmq8",
        "outputId": "5111197b-8cee-495e-a953-6dad4dfefbde"
      },
      "source": [
        "print(classification_report(y_test,y_testpred))"
      ],
      "execution_count": 95,
      "outputs": [
        {
          "output_type": "stream",
          "name": "stdout",
          "text": [
            "              precision    recall  f1-score   support\n",
            "\n",
            "           0       0.91      0.78      0.84       370\n",
            "           1       0.34      0.59      0.43        71\n",
            "\n",
            "    accuracy                           0.75       441\n",
            "   macro avg       0.62      0.68      0.63       441\n",
            "weighted avg       0.82      0.75      0.77       441\n",
            "\n"
          ]
        }
      ]
    },
    {
      "cell_type": "markdown",
      "metadata": {
        "id": "Owag2vU0kdpd"
      },
      "source": [
        "# **Support Vector Machine with GridSearch CV**"
      ]
    },
    {
      "cell_type": "code",
      "metadata": {
        "id": "II9DAfusUnwa",
        "colab": {
          "base_uri": "https://localhost:8080/"
        },
        "outputId": "5e97dd6f-b11b-4ee7-83c9-59abc1dbe90a"
      },
      "source": [
        "sv_1=svm.SVC()\n",
        "param={'kernel':['rbf','linear','poly'],'C':[0.1,0.0001,0.00001,0.00000001,1],'gamma':[0.001,0.0001,1,2,5], 'class_weight':['balanced','0:1,1:2']}\n",
        "cv = StratifiedKFold(n_splits=3)\n",
        "sv_grid=GridSearchCV(sv_1,param_grid=param,cv=cv, scoring='f1')\n",
        "sv_grid.fit(X_train,y_train)"
      ],
      "execution_count": 96,
      "outputs": [
        {
          "output_type": "execute_result",
          "data": {
            "text/plain": [
              "GridSearchCV(cv=StratifiedKFold(n_splits=3, random_state=None, shuffle=False),\n",
              "             error_score=nan,\n",
              "             estimator=SVC(C=1.0, break_ties=False, cache_size=200,\n",
              "                           class_weight=None, coef0=0.0,\n",
              "                           decision_function_shape='ovr', degree=3,\n",
              "                           gamma='scale', kernel='rbf', max_iter=-1,\n",
              "                           probability=False, random_state=None, shrinking=True,\n",
              "                           tol=0.001, verbose=False),\n",
              "             iid='deprecated', n_jobs=None,\n",
              "             param_grid={'C': [0.1, 0.0001, 1e-05, 1e-08, 1],\n",
              "                         'class_weight': ['balanced', '0:1,1:2'],\n",
              "                         'gamma': [0.001, 0.0001, 1, 2, 5],\n",
              "                         'kernel': ['rbf', 'linear', 'poly']},\n",
              "             pre_dispatch='2*n_jobs', refit=True, return_train_score=False,\n",
              "             scoring='f1', verbose=0)"
            ]
          },
          "metadata": {},
          "execution_count": 96
        }
      ]
    },
    {
      "cell_type": "code",
      "metadata": {
        "id": "wFJuj8z3Wjld"
      },
      "source": [
        "y_trainpred=sv_grid.predict(X_train)\n",
        "y_testpred=sv_grid.predict(X_test)"
      ],
      "execution_count": 98,
      "outputs": []
    },
    {
      "cell_type": "code",
      "metadata": {
        "id": "QvRKngN-W-AC",
        "colab": {
          "base_uri": "https://localhost:8080/"
        },
        "outputId": "1408c6b7-d6b2-4975-8104-785787a08777"
      },
      "source": [
        "sv_grid.best_params_"
      ],
      "execution_count": 99,
      "outputs": [
        {
          "output_type": "execute_result",
          "data": {
            "text/plain": [
              "{'C': 1, 'class_weight': 'balanced', 'gamma': 0.001, 'kernel': 'linear'}"
            ]
          },
          "metadata": {},
          "execution_count": 99
        }
      ]
    },
    {
      "cell_type": "code",
      "metadata": {
        "id": "OrMzb-0eW3Au",
        "colab": {
          "base_uri": "https://localhost:8080/"
        },
        "outputId": "b4de3b48-8eed-417d-a9f6-8e7617e07e15"
      },
      "source": [
        "print(classification_report(y_train,y_trainpred))"
      ],
      "execution_count": 100,
      "outputs": [
        {
          "output_type": "stream",
          "name": "stdout",
          "text": [
            "              precision    recall  f1-score   support\n",
            "\n",
            "           0       0.93      0.70      0.80       863\n",
            "           1       0.32      0.72      0.44       166\n",
            "\n",
            "    accuracy                           0.71      1029\n",
            "   macro avg       0.62      0.71      0.62      1029\n",
            "weighted avg       0.83      0.71      0.74      1029\n",
            "\n"
          ]
        }
      ]
    },
    {
      "cell_type": "code",
      "metadata": {
        "id": "146ufiSPW42C",
        "colab": {
          "base_uri": "https://localhost:8080/"
        },
        "outputId": "1f196e11-21b8-48c7-9275-adcee918b7be"
      },
      "source": [
        "print(classification_report(y_test,y_testpred))"
      ],
      "execution_count": 101,
      "outputs": [
        {
          "output_type": "stream",
          "name": "stdout",
          "text": [
            "              precision    recall  f1-score   support\n",
            "\n",
            "           0       0.91      0.72      0.80       370\n",
            "           1       0.29      0.61      0.40        71\n",
            "\n",
            "    accuracy                           0.70       441\n",
            "   macro avg       0.60      0.66      0.60       441\n",
            "weighted avg       0.81      0.70      0.74       441\n",
            "\n"
          ]
        }
      ]
    },
    {
      "cell_type": "markdown",
      "metadata": {
        "id": "LourVcnRRnZj"
      },
      "source": [
        "# **Decision Tree**"
      ]
    },
    {
      "cell_type": "code",
      "metadata": {
        "id": "ReYrbKTYQjti"
      },
      "source": [
        "X_train,X_test,y_train,y_test=train_test_split(Xnew,y,test_size=0.30,stratify=y,random_state=465)"
      ],
      "execution_count": 77,
      "outputs": []
    },
    {
      "cell_type": "code",
      "metadata": {
        "colab": {
          "base_uri": "https://localhost:8080/"
        },
        "id": "SVIFzei6RrcK",
        "outputId": "34a5d526-7f42-440b-e8d3-1d433452abb9"
      },
      "source": [
        "dtc=DecisionTreeClassifier(max_depth=10,max_features=19,class_weight={0:1,1:2},min_samples_leaf=8,min_samples_split=5)\n",
        "dtc.fit(X_train, y_train)"
      ],
      "execution_count": 78,
      "outputs": [
        {
          "output_type": "execute_result",
          "data": {
            "text/plain": [
              "DecisionTreeClassifier(ccp_alpha=0.0, class_weight={0: 1, 1: 2},\n",
              "                       criterion='gini', max_depth=10, max_features=19,\n",
              "                       max_leaf_nodes=None, min_impurity_decrease=0.0,\n",
              "                       min_impurity_split=None, min_samples_leaf=8,\n",
              "                       min_samples_split=5, min_weight_fraction_leaf=0.0,\n",
              "                       presort='deprecated', random_state=None,\n",
              "                       splitter='best')"
            ]
          },
          "metadata": {},
          "execution_count": 78
        }
      ]
    },
    {
      "cell_type": "code",
      "metadata": {
        "id": "EeXObi2QRxBK"
      },
      "source": [
        "y_trainpred=dtc.predict(X_train)\n",
        "y_testpred=dtc.predict(X_test)"
      ],
      "execution_count": 79,
      "outputs": []
    },
    {
      "cell_type": "code",
      "metadata": {
        "colab": {
          "base_uri": "https://localhost:8080/"
        },
        "id": "scyIlOuVRzo6",
        "outputId": "1846bc05-ef56-47ed-cc0b-28707ec01353"
      },
      "source": [
        "print(classification_report(y_train,y_trainpred))"
      ],
      "execution_count": 81,
      "outputs": [
        {
          "output_type": "stream",
          "name": "stdout",
          "text": [
            "              precision    recall  f1-score   support\n",
            "\n",
            "           0       0.94      0.90      0.92       863\n",
            "           1       0.57      0.70      0.63       166\n",
            "\n",
            "    accuracy                           0.87      1029\n",
            "   macro avg       0.75      0.80      0.77      1029\n",
            "weighted avg       0.88      0.87      0.87      1029\n",
            "\n"
          ]
        }
      ]
    },
    {
      "cell_type": "code",
      "metadata": {
        "colab": {
          "base_uri": "https://localhost:8080/"
        },
        "id": "UgvYAjIYR1Ry",
        "outputId": "2d3c3efa-3b14-4407-8f10-76777118c191"
      },
      "source": [
        "print(classification_report(y_test,y_testpred))"
      ],
      "execution_count": 82,
      "outputs": [
        {
          "output_type": "stream",
          "name": "stdout",
          "text": [
            "              precision    recall  f1-score   support\n",
            "\n",
            "           0       0.87      0.85      0.86       370\n",
            "           1       0.29      0.32      0.31        71\n",
            "\n",
            "    accuracy                           0.76       441\n",
            "   macro avg       0.58      0.59      0.58       441\n",
            "weighted avg       0.77      0.76      0.77       441\n",
            "\n"
          ]
        }
      ]
    },
    {
      "cell_type": "markdown",
      "metadata": {
        "id": "ATDy-zGuE8mW"
      },
      "source": [
        "# **Grid Search CV on Decision Trees.**"
      ]
    },
    {
      "cell_type": "code",
      "metadata": {
        "colab": {
          "base_uri": "https://localhost:8080/"
        },
        "id": "0YjicS7p42E0",
        "outputId": "45b19175-871a-4177-ea02-605570c8f39c"
      },
      "source": [
        "dtc1=DecisionTreeClassifier()\n",
        "cv = StratifiedKFold(n_splits=3)\n",
        "param={'class_weight':[{0:1,1:2},'balanced'],'max_depth':[20,15,16,21,14,13,12],'min_samples_leaf':[11,12,13,14,10],'max_features':[12,16,17,15],'ccp_alpha':[0.0001,0.00001,0.01,0.1,1]}\n",
        "dt_s_grid=GridSearchCV(dtc1,param_grid=param,cv=cv,scoring='f1')\n",
        "dt_s_grid.fit(X_train,y_train)"
      ],
      "execution_count": 84,
      "outputs": [
        {
          "output_type": "execute_result",
          "data": {
            "text/plain": [
              "GridSearchCV(cv=StratifiedKFold(n_splits=3, random_state=None, shuffle=False),\n",
              "             error_score=nan,\n",
              "             estimator=DecisionTreeClassifier(ccp_alpha=0.0, class_weight=None,\n",
              "                                              criterion='gini', max_depth=None,\n",
              "                                              max_features=None,\n",
              "                                              max_leaf_nodes=None,\n",
              "                                              min_impurity_decrease=0.0,\n",
              "                                              min_impurity_split=None,\n",
              "                                              min_samples_leaf=1,\n",
              "                                              min_samples_split=2,\n",
              "                                              min_weight_fraction_leaf=0.0,\n",
              "                                              presort='deprecated',\n",
              "                                              random_state=None,\n",
              "                                              splitter='best'),\n",
              "             iid='deprecated', n_jobs=None,\n",
              "             param_grid={'ccp_alpha': [0.0001, 1e-05, 0.01, 0.1, 1],\n",
              "                         'class_weight': [{0: 1, 1: 2}, 'balanced'],\n",
              "                         'max_depth': [20, 15, 16, 21, 14, 13, 12],\n",
              "                         'max_features': [12, 16, 17, 15],\n",
              "                         'min_samples_leaf': [11, 12, 13, 14, 10]},\n",
              "             pre_dispatch='2*n_jobs', refit=True, return_train_score=False,\n",
              "             scoring='f1', verbose=0)"
            ]
          },
          "metadata": {},
          "execution_count": 84
        }
      ]
    },
    {
      "cell_type": "code",
      "metadata": {
        "id": "ZzffuWwr6PLR"
      },
      "source": [
        "y_trainpred=dt_s_grid.predict(X_train)\n",
        "y_testpred=dt_s_grid.predict(X_test)"
      ],
      "execution_count": 85,
      "outputs": []
    },
    {
      "cell_type": "code",
      "metadata": {
        "colab": {
          "base_uri": "https://localhost:8080/"
        },
        "id": "2Usi0zuN6jIk",
        "outputId": "23c9738b-23c6-495c-bf87-367a1068f277"
      },
      "source": [
        "dt_s_grid.best_params_"
      ],
      "execution_count": 86,
      "outputs": [
        {
          "output_type": "execute_result",
          "data": {
            "text/plain": [
              "{'ccp_alpha': 1e-05,\n",
              " 'class_weight': {0: 1, 1: 2},\n",
              " 'max_depth': 16,\n",
              " 'max_features': 15,\n",
              " 'min_samples_leaf': 14}"
            ]
          },
          "metadata": {},
          "execution_count": 86
        }
      ]
    },
    {
      "cell_type": "code",
      "metadata": {
        "colab": {
          "base_uri": "https://localhost:8080/"
        },
        "id": "gIg5Qq6F6Q6h",
        "outputId": "83f3da69-ca0f-4f5d-99c6-ee75aa71492a"
      },
      "source": [
        "print(classification_report(y_train,y_trainpred))"
      ],
      "execution_count": 87,
      "outputs": [
        {
          "output_type": "stream",
          "name": "stdout",
          "text": [
            "              precision    recall  f1-score   support\n",
            "\n",
            "           0       0.93      0.86      0.90       863\n",
            "           1       0.49      0.69      0.57       166\n",
            "\n",
            "    accuracy                           0.83      1029\n",
            "   macro avg       0.71      0.77      0.73      1029\n",
            "weighted avg       0.86      0.83      0.84      1029\n",
            "\n"
          ]
        }
      ]
    },
    {
      "cell_type": "code",
      "metadata": {
        "colab": {
          "base_uri": "https://localhost:8080/"
        },
        "id": "aTBD8YCk6S4X",
        "outputId": "d8307e2f-5e6a-4479-cab4-1cc6baa0c7f5"
      },
      "source": [
        "print(classification_report(y_test,y_testpred))"
      ],
      "execution_count": 88,
      "outputs": [
        {
          "output_type": "stream",
          "name": "stdout",
          "text": [
            "              precision    recall  f1-score   support\n",
            "\n",
            "           0       0.88      0.82      0.85       370\n",
            "           1       0.31      0.42      0.36        71\n",
            "\n",
            "    accuracy                           0.75       441\n",
            "   macro avg       0.59      0.62      0.60       441\n",
            "weighted avg       0.79      0.75      0.77       441\n",
            "\n"
          ]
        }
      ]
    },
    {
      "cell_type": "markdown",
      "metadata": {
        "id": "VQnfRf_CRXPl"
      },
      "source": [
        "\n",
        "\n",
        "# **Logistic Regression**"
      ]
    },
    {
      "cell_type": "code",
      "metadata": {
        "id": "8blp9x0zPMUq"
      },
      "source": [
        "f1=0\n",
        "for i in range(0,1000): \n",
        "  X_train,X_test,y_train,y_test=train_test_split(Xnew,y,test_size=0.30,stratify=y,random_state=i)\n",
        "  scaler=StandardScaler()\n",
        "  scaler.fit(X_train)\n",
        "  xtrain=scaler.transform(X_train)\n",
        "  xtest=scaler.transform(X_test)\n",
        "  lr=LogisticRegression(class_weight='balanced')\n",
        "  lr.fit(X_train,y_train)\n",
        "  y_trainpred=lr.predict(xtrain)\n",
        "  y_testpred=lr.predict(xtest)\n",
        "  score=f1_score(y_test,y_testpred)\n",
        "  if f1<score:\n",
        "    f1=score\n",
        "    random=i\n",
        "  "
      ],
      "execution_count": 70,
      "outputs": []
    },
    {
      "cell_type": "code",
      "metadata": {
        "id": "AIn7z-GI4gqh"
      },
      "source": [
        "X_train,X_test,y_train,y_test=train_test_split(Xnew,y,test_size=0.30,stratify=y,random_state=465)\n",
        "scaler=StandardScaler()\n",
        "scaler.fit(X_train)\n",
        "X_train=scaler.transform(X_train)\n",
        "X_test=scaler.transform(X_test)\n",
        "lr=LogisticRegression(class_weight='balanced')\n",
        "lr.fit(X_train,y_train)\n",
        "y_train_pred=lr.predict(X_train)\n",
        "y_test_pred=lr.predict(X_test)"
      ],
      "execution_count": 71,
      "outputs": []
    },
    {
      "cell_type": "code",
      "metadata": {
        "colab": {
          "base_uri": "https://localhost:8080/"
        },
        "id": "lHYK7rTO33B9",
        "outputId": "d2c95ea4-6772-4c8a-dda8-b3b514d481fc"
      },
      "source": [
        "print(random, f1)"
      ],
      "execution_count": 72,
      "outputs": [
        {
          "output_type": "stream",
          "name": "stdout",
          "text": [
            "439 0.44852941176470584\n"
          ]
        }
      ]
    },
    {
      "cell_type": "code",
      "metadata": {
        "colab": {
          "base_uri": "https://localhost:8080/"
        },
        "id": "Pf_sWWyQ4O18",
        "outputId": "6bd60e92-ad9c-4ee1-ac9f-4bbb8414e12e"
      },
      "source": [
        "f1_score(y_test,y_test_pred)"
      ],
      "execution_count": 73,
      "outputs": [
        {
          "output_type": "execute_result",
          "data": {
            "text/plain": [
              "0.416289592760181"
            ]
          },
          "metadata": {},
          "execution_count": 73
        }
      ]
    },
    {
      "cell_type": "code",
      "metadata": {
        "colab": {
          "base_uri": "https://localhost:8080/"
        },
        "id": "joGKJVMbQPca",
        "outputId": "8131d1ff-9069-48d3-d97b-d9da0f89dd7f"
      },
      "source": [
        "print(classification_report(y_train,y_train_pred))"
      ],
      "execution_count": 74,
      "outputs": [
        {
          "output_type": "stream",
          "name": "stdout",
          "text": [
            "              precision    recall  f1-score   support\n",
            "\n",
            "           0       0.93      0.71      0.80       863\n",
            "           1       0.33      0.74      0.45       166\n",
            "\n",
            "    accuracy                           0.71      1029\n",
            "   macro avg       0.63      0.72      0.63      1029\n",
            "weighted avg       0.84      0.71      0.75      1029\n",
            "\n"
          ]
        }
      ]
    },
    {
      "cell_type": "code",
      "metadata": {
        "colab": {
          "base_uri": "https://localhost:8080/"
        },
        "id": "aNRKQ9h2Qcka",
        "outputId": "a57569c4-8ba9-4073-996c-fce16edb0083"
      },
      "source": [
        "print(classification_report(y_test,y_test_pred))"
      ],
      "execution_count": 75,
      "outputs": [
        {
          "output_type": "stream",
          "name": "stdout",
          "text": [
            "              precision    recall  f1-score   support\n",
            "\n",
            "           0       0.91      0.72      0.80       370\n",
            "           1       0.31      0.65      0.42        71\n",
            "\n",
            "    accuracy                           0.71       441\n",
            "   macro avg       0.61      0.68      0.61       441\n",
            "weighted avg       0.82      0.71      0.74       441\n",
            "\n"
          ]
        }
      ]
    },
    {
      "cell_type": "markdown",
      "metadata": {
        "id": "18HePlpUHaiS"
      },
      "source": [
        "# **Neural Networks**"
      ]
    },
    {
      "cell_type": "code",
      "metadata": {
        "colab": {
          "base_uri": "https://localhost:8080/"
        },
        "id": "X97a6QerFEoy",
        "outputId": "5be7caf5-3cff-4da6-b486-6a5f270df1d4"
      },
      "source": [
        "from keras.models import Sequential\n",
        "from keras.layers import Dense\n",
        "from tensorflow.keras.optimizers import Adam\n",
        "from keras.layers import Dropout\n",
        "from keras import regularizers\n",
        "from tensorflow.keras.metrics import Recall, FalsePositives, AUC, Precision\n",
        "\n",
        "# defining a function to build the model\n",
        "def creating_model():\n",
        "    # creating the model\n",
        "    model = Sequential()\n",
        "    model.add(Dense(32, input_dim=19, kernel_initializer='normal', kernel_regularizer=regularizers.l2(0.001), activation='sigmoid'))\n",
        "    model.add(Dense(16, activation='tanh'))\n",
        "    model.add(Dense(8, activation='relu'))\n",
        "    model.add(Dense(2, activation='sigmoid'))\n",
        "    \n",
        "    # compile model\n",
        "    adam = Adam(lr=0.01)\n",
        "    model.compile(loss='binary_crossentropy', optimizer='sgd', metrics=['Recall'])\n",
        "    return model\n",
        "\n",
        "model = creating_model()\n",
        "\n",
        "print(model.summary())"
      ],
      "execution_count": 118,
      "outputs": [
        {
          "output_type": "stream",
          "name": "stdout",
          "text": [
            "Model: \"sequential\"\n",
            "_________________________________________________________________\n",
            "Layer (type)                 Output Shape              Param #   \n",
            "=================================================================\n",
            "dense (Dense)                (None, 32)                640       \n",
            "_________________________________________________________________\n",
            "dense_1 (Dense)              (None, 16)                528       \n",
            "_________________________________________________________________\n",
            "dense_2 (Dense)              (None, 8)                 136       \n",
            "_________________________________________________________________\n",
            "dense_3 (Dense)              (None, 2)                 18        \n",
            "=================================================================\n",
            "Total params: 1,322\n",
            "Trainable params: 1,322\n",
            "Non-trainable params: 0\n",
            "_________________________________________________________________\n",
            "None\n"
          ]
        }
      ]
    },
    {
      "cell_type": "code",
      "metadata": {
        "colab": {
          "base_uri": "https://localhost:8080/"
        },
        "id": "-8-wBUouJh8e",
        "outputId": "3d07998b-a75d-4709-a290-57245cfd6caa"
      },
      "source": [
        "X_train.shape,y_train.shape"
      ],
      "execution_count": 119,
      "outputs": [
        {
          "output_type": "execute_result",
          "data": {
            "text/plain": [
              "((1102, 19), (1102,))"
            ]
          },
          "metadata": {},
          "execution_count": 119
        }
      ]
    },
    {
      "cell_type": "code",
      "metadata": {
        "id": "hpcNUa-gJ1qB"
      },
      "source": [
        "from keras.utils.np_utils import to_categorical\n",
        "\n",
        "y_traincat = to_categorical(y_train)\n",
        "y_testcat = to_categorical(y_test)"
      ],
      "execution_count": 120,
      "outputs": []
    },
    {
      "cell_type": "code",
      "metadata": {
        "colab": {
          "base_uri": "https://localhost:8080/"
        },
        "id": "B6MNWW_VHN9r",
        "outputId": "62b3803d-2bab-45e7-b843-c83bc264813b"
      },
      "source": [
        "model.fit(X_train,y_traincat, epochs=200,batch_size=20, verbose = 1)"
      ],
      "execution_count": 121,
      "outputs": [
        {
          "output_type": "stream",
          "name": "stdout",
          "text": [
            "Epoch 1/200\n",
            "56/56 [==============================] - 1s 2ms/step - loss: 0.4526 - recall: 0.8385\n",
            "Epoch 2/200\n",
            "56/56 [==============================] - 0s 1ms/step - loss: 0.4455 - recall: 0.8385\n",
            "Epoch 3/200\n",
            "56/56 [==============================] - 0s 1ms/step - loss: 0.4443 - recall: 0.8385\n",
            "Epoch 4/200\n",
            "56/56 [==============================] - 0s 1ms/step - loss: 0.4442 - recall: 0.8385\n",
            "Epoch 5/200\n",
            "56/56 [==============================] - 0s 1ms/step - loss: 0.4443 - recall: 0.8385\n",
            "Epoch 6/200\n",
            "56/56 [==============================] - 0s 1ms/step - loss: 0.4445 - recall: 0.8385\n",
            "Epoch 7/200\n",
            "56/56 [==============================] - 0s 1ms/step - loss: 0.4442 - recall: 0.8385\n",
            "Epoch 8/200\n",
            "56/56 [==============================] - 0s 1ms/step - loss: 0.4442 - recall: 0.8385\n",
            "Epoch 9/200\n",
            "56/56 [==============================] - 0s 1ms/step - loss: 0.4442 - recall: 0.8385\n",
            "Epoch 10/200\n",
            "56/56 [==============================] - 0s 1ms/step - loss: 0.4441 - recall: 0.8385\n",
            "Epoch 11/200\n",
            "56/56 [==============================] - 0s 1ms/step - loss: 0.4440 - recall: 0.8385\n",
            "Epoch 12/200\n",
            "56/56 [==============================] - 0s 1ms/step - loss: 0.4441 - recall: 0.8385\n",
            "Epoch 13/200\n",
            "56/56 [==============================] - 0s 1ms/step - loss: 0.4440 - recall: 0.8385\n",
            "Epoch 14/200\n",
            "56/56 [==============================] - 0s 1ms/step - loss: 0.4441 - recall: 0.8385\n",
            "Epoch 15/200\n",
            "56/56 [==============================] - 0s 1ms/step - loss: 0.4440 - recall: 0.8385\n",
            "Epoch 16/200\n",
            "56/56 [==============================] - 0s 1ms/step - loss: 0.4441 - recall: 0.8385\n",
            "Epoch 17/200\n",
            "56/56 [==============================] - 0s 1ms/step - loss: 0.4441 - recall: 0.8385\n",
            "Epoch 18/200\n",
            "56/56 [==============================] - 0s 1ms/step - loss: 0.4442 - recall: 0.8385\n",
            "Epoch 19/200\n",
            "56/56 [==============================] - 0s 1ms/step - loss: 0.4442 - recall: 0.8385\n",
            "Epoch 20/200\n",
            "56/56 [==============================] - 0s 1ms/step - loss: 0.4441 - recall: 0.8385\n",
            "Epoch 21/200\n",
            "56/56 [==============================] - 0s 2ms/step - loss: 0.4441 - recall: 0.8385\n",
            "Epoch 22/200\n",
            "56/56 [==============================] - 0s 1ms/step - loss: 0.4440 - recall: 0.8385\n",
            "Epoch 23/200\n",
            "56/56 [==============================] - 0s 2ms/step - loss: 0.4441 - recall: 0.8385\n",
            "Epoch 24/200\n",
            "56/56 [==============================] - 0s 1ms/step - loss: 0.4441 - recall: 0.8385\n",
            "Epoch 25/200\n",
            "56/56 [==============================] - 0s 1ms/step - loss: 0.4440 - recall: 0.8385\n",
            "Epoch 26/200\n",
            "56/56 [==============================] - 0s 1ms/step - loss: 0.4441 - recall: 0.8385\n",
            "Epoch 27/200\n",
            "56/56 [==============================] - 0s 1ms/step - loss: 0.4444 - recall: 0.8385\n",
            "Epoch 28/200\n",
            "56/56 [==============================] - 0s 1ms/step - loss: 0.4441 - recall: 0.8385\n",
            "Epoch 29/200\n",
            "56/56 [==============================] - 0s 1ms/step - loss: 0.4440 - recall: 0.8385\n",
            "Epoch 30/200\n",
            "56/56 [==============================] - 0s 1ms/step - loss: 0.4441 - recall: 0.8385\n",
            "Epoch 31/200\n",
            "56/56 [==============================] - 0s 1ms/step - loss: 0.4440 - recall: 0.8385\n",
            "Epoch 32/200\n",
            "56/56 [==============================] - 0s 1ms/step - loss: 0.4441 - recall: 0.8385\n",
            "Epoch 33/200\n",
            "56/56 [==============================] - 0s 2ms/step - loss: 0.4442 - recall: 0.8385\n",
            "Epoch 34/200\n",
            "56/56 [==============================] - 0s 1ms/step - loss: 0.4441 - recall: 0.8385\n",
            "Epoch 35/200\n",
            "56/56 [==============================] - 0s 1ms/step - loss: 0.4440 - recall: 0.8385\n",
            "Epoch 36/200\n",
            "56/56 [==============================] - 0s 1ms/step - loss: 0.4441 - recall: 0.8385\n",
            "Epoch 37/200\n",
            "56/56 [==============================] - 0s 1ms/step - loss: 0.4442 - recall: 0.8385\n",
            "Epoch 38/200\n",
            "56/56 [==============================] - 0s 1ms/step - loss: 0.4440 - recall: 0.8385\n",
            "Epoch 39/200\n",
            "56/56 [==============================] - 0s 1ms/step - loss: 0.4439 - recall: 0.8385\n",
            "Epoch 40/200\n",
            "56/56 [==============================] - 0s 2ms/step - loss: 0.4440 - recall: 0.8385\n",
            "Epoch 41/200\n",
            "56/56 [==============================] - 0s 1ms/step - loss: 0.4441 - recall: 0.8385\n",
            "Epoch 42/200\n",
            "56/56 [==============================] - 0s 1ms/step - loss: 0.4440 - recall: 0.8385\n",
            "Epoch 43/200\n",
            "56/56 [==============================] - 0s 1ms/step - loss: 0.4440 - recall: 0.8385\n",
            "Epoch 44/200\n",
            "56/56 [==============================] - 0s 1ms/step - loss: 0.4440 - recall: 0.8385\n",
            "Epoch 45/200\n",
            "56/56 [==============================] - 0s 1ms/step - loss: 0.4440 - recall: 0.8385\n",
            "Epoch 46/200\n",
            "56/56 [==============================] - 0s 1ms/step - loss: 0.4440 - recall: 0.8385\n",
            "Epoch 47/200\n",
            "56/56 [==============================] - 0s 1ms/step - loss: 0.4440 - recall: 0.8385\n",
            "Epoch 48/200\n",
            "56/56 [==============================] - 0s 1ms/step - loss: 0.4439 - recall: 0.8385\n",
            "Epoch 49/200\n",
            "56/56 [==============================] - 0s 1ms/step - loss: 0.4440 - recall: 0.8385\n",
            "Epoch 50/200\n",
            "56/56 [==============================] - 0s 1ms/step - loss: 0.4440 - recall: 0.8385\n",
            "Epoch 51/200\n",
            "56/56 [==============================] - 0s 1ms/step - loss: 0.4440 - recall: 0.8385\n",
            "Epoch 52/200\n",
            "56/56 [==============================] - 0s 1ms/step - loss: 0.4438 - recall: 0.8385\n",
            "Epoch 53/200\n",
            "56/56 [==============================] - 0s 1ms/step - loss: 0.4439 - recall: 0.8385\n",
            "Epoch 54/200\n",
            "56/56 [==============================] - 0s 1ms/step - loss: 0.4439 - recall: 0.8385\n",
            "Epoch 55/200\n",
            "56/56 [==============================] - 0s 1ms/step - loss: 0.4441 - recall: 0.8385\n",
            "Epoch 56/200\n",
            "56/56 [==============================] - 0s 1ms/step - loss: 0.4439 - recall: 0.8385\n",
            "Epoch 57/200\n",
            "56/56 [==============================] - 0s 1ms/step - loss: 0.4441 - recall: 0.8385\n",
            "Epoch 58/200\n",
            "56/56 [==============================] - 0s 1ms/step - loss: 0.4441 - recall: 0.8385\n",
            "Epoch 59/200\n",
            "56/56 [==============================] - 0s 1ms/step - loss: 0.4439 - recall: 0.8385\n",
            "Epoch 60/200\n",
            "56/56 [==============================] - 0s 1ms/step - loss: 0.4439 - recall: 0.8385\n",
            "Epoch 61/200\n",
            "56/56 [==============================] - 0s 1ms/step - loss: 0.4439 - recall: 0.8385\n",
            "Epoch 62/200\n",
            "56/56 [==============================] - 0s 1ms/step - loss: 0.4439 - recall: 0.8385\n",
            "Epoch 63/200\n",
            "56/56 [==============================] - 0s 1ms/step - loss: 0.4440 - recall: 0.8385\n",
            "Epoch 64/200\n",
            "56/56 [==============================] - 0s 1ms/step - loss: 0.4438 - recall: 0.8385\n",
            "Epoch 65/200\n",
            "56/56 [==============================] - 0s 1ms/step - loss: 0.4439 - recall: 0.8385\n",
            "Epoch 66/200\n",
            "56/56 [==============================] - 0s 1ms/step - loss: 0.4439 - recall: 0.8385\n",
            "Epoch 67/200\n",
            "56/56 [==============================] - 0s 1ms/step - loss: 0.4438 - recall: 0.8385\n",
            "Epoch 68/200\n",
            "56/56 [==============================] - 0s 1ms/step - loss: 0.4439 - recall: 0.8385\n",
            "Epoch 69/200\n",
            "56/56 [==============================] - 0s 1ms/step - loss: 0.4439 - recall: 0.8385\n",
            "Epoch 70/200\n",
            "56/56 [==============================] - 0s 1ms/step - loss: 0.4440 - recall: 0.8385\n",
            "Epoch 71/200\n",
            "56/56 [==============================] - 0s 2ms/step - loss: 0.4439 - recall: 0.8385\n",
            "Epoch 72/200\n",
            "56/56 [==============================] - 0s 2ms/step - loss: 0.4439 - recall: 0.8385\n",
            "Epoch 73/200\n",
            "56/56 [==============================] - 0s 1ms/step - loss: 0.4439 - recall: 0.8385\n",
            "Epoch 74/200\n",
            "56/56 [==============================] - 0s 1ms/step - loss: 0.4439 - recall: 0.8385\n",
            "Epoch 75/200\n",
            "56/56 [==============================] - 0s 1ms/step - loss: 0.4439 - recall: 0.8385\n",
            "Epoch 76/200\n",
            "56/56 [==============================] - 0s 1ms/step - loss: 0.4439 - recall: 0.8385\n",
            "Epoch 77/200\n",
            "56/56 [==============================] - 0s 1ms/step - loss: 0.4439 - recall: 0.8385\n",
            "Epoch 78/200\n",
            "56/56 [==============================] - 0s 1ms/step - loss: 0.4439 - recall: 0.8385\n",
            "Epoch 79/200\n",
            "56/56 [==============================] - 0s 1ms/step - loss: 0.4439 - recall: 0.8385\n",
            "Epoch 80/200\n",
            "56/56 [==============================] - 0s 1ms/step - loss: 0.4438 - recall: 0.8385\n",
            "Epoch 81/200\n",
            "56/56 [==============================] - 0s 1ms/step - loss: 0.4438 - recall: 0.8385\n",
            "Epoch 82/200\n",
            "56/56 [==============================] - 0s 1ms/step - loss: 0.4439 - recall: 0.8385\n",
            "Epoch 83/200\n",
            "56/56 [==============================] - 0s 1ms/step - loss: 0.4438 - recall: 0.8385\n",
            "Epoch 84/200\n",
            "56/56 [==============================] - 0s 1ms/step - loss: 0.4439 - recall: 0.8385\n",
            "Epoch 85/200\n",
            "56/56 [==============================] - 0s 2ms/step - loss: 0.4439 - recall: 0.8385\n",
            "Epoch 86/200\n",
            "56/56 [==============================] - 0s 1ms/step - loss: 0.4438 - recall: 0.8385\n",
            "Epoch 87/200\n",
            "56/56 [==============================] - 0s 1ms/step - loss: 0.4439 - recall: 0.8385\n",
            "Epoch 88/200\n",
            "56/56 [==============================] - 0s 1ms/step - loss: 0.4439 - recall: 0.8385\n",
            "Epoch 89/200\n",
            "56/56 [==============================] - 0s 1ms/step - loss: 0.4439 - recall: 0.8385\n",
            "Epoch 90/200\n",
            "56/56 [==============================] - 0s 1ms/step - loss: 0.4439 - recall: 0.8385\n",
            "Epoch 91/200\n",
            "56/56 [==============================] - 0s 1ms/step - loss: 0.4439 - recall: 0.8385\n",
            "Epoch 92/200\n",
            "56/56 [==============================] - 0s 1ms/step - loss: 0.4440 - recall: 0.8385\n",
            "Epoch 93/200\n",
            "56/56 [==============================] - 0s 1ms/step - loss: 0.4439 - recall: 0.8385\n",
            "Epoch 94/200\n",
            "56/56 [==============================] - 0s 1ms/step - loss: 0.4437 - recall: 0.8385\n",
            "Epoch 95/200\n",
            "56/56 [==============================] - 0s 1ms/step - loss: 0.4435 - recall: 0.8385\n",
            "Epoch 96/200\n",
            "56/56 [==============================] - 0s 1ms/step - loss: 0.4437 - recall: 0.8385\n",
            "Epoch 97/200\n",
            "56/56 [==============================] - 0s 1ms/step - loss: 0.4440 - recall: 0.8385\n",
            "Epoch 98/200\n",
            "56/56 [==============================] - 0s 1ms/step - loss: 0.4439 - recall: 0.8385\n",
            "Epoch 99/200\n",
            "56/56 [==============================] - 0s 1ms/step - loss: 0.4439 - recall: 0.8385\n",
            "Epoch 100/200\n",
            "56/56 [==============================] - 0s 1ms/step - loss: 0.4439 - recall: 0.8385\n",
            "Epoch 101/200\n",
            "56/56 [==============================] - 0s 1ms/step - loss: 0.4439 - recall: 0.8385\n",
            "Epoch 102/200\n",
            "56/56 [==============================] - 0s 1ms/step - loss: 0.4439 - recall: 0.8385\n",
            "Epoch 103/200\n",
            "56/56 [==============================] - 0s 1ms/step - loss: 0.4439 - recall: 0.8385\n",
            "Epoch 104/200\n",
            "56/56 [==============================] - 0s 1ms/step - loss: 0.4437 - recall: 0.8385\n",
            "Epoch 105/200\n",
            "56/56 [==============================] - 0s 1ms/step - loss: 0.4440 - recall: 0.8385\n",
            "Epoch 106/200\n",
            "56/56 [==============================] - 0s 1ms/step - loss: 0.4439 - recall: 0.8385\n",
            "Epoch 107/200\n",
            "56/56 [==============================] - 0s 1ms/step - loss: 0.4437 - recall: 0.8385\n",
            "Epoch 108/200\n",
            "56/56 [==============================] - 0s 1ms/step - loss: 0.4439 - recall: 0.8385\n",
            "Epoch 109/200\n",
            "56/56 [==============================] - 0s 1ms/step - loss: 0.4438 - recall: 0.8385\n",
            "Epoch 110/200\n",
            "56/56 [==============================] - 0s 2ms/step - loss: 0.4436 - recall: 0.8385\n",
            "Epoch 111/200\n",
            "56/56 [==============================] - 0s 1ms/step - loss: 0.4437 - recall: 0.8385\n",
            "Epoch 112/200\n",
            "56/56 [==============================] - 0s 1ms/step - loss: 0.4438 - recall: 0.8385\n",
            "Epoch 113/200\n",
            "56/56 [==============================] - 0s 1ms/step - loss: 0.4438 - recall: 0.8385\n",
            "Epoch 114/200\n",
            "56/56 [==============================] - 0s 1ms/step - loss: 0.4435 - recall: 0.8385\n",
            "Epoch 115/200\n",
            "56/56 [==============================] - 0s 2ms/step - loss: 0.4437 - recall: 0.8385\n",
            "Epoch 116/200\n",
            "56/56 [==============================] - 0s 1ms/step - loss: 0.4439 - recall: 0.8385\n",
            "Epoch 117/200\n",
            "56/56 [==============================] - 0s 1ms/step - loss: 0.4437 - recall: 0.8385\n",
            "Epoch 118/200\n",
            "56/56 [==============================] - 0s 1ms/step - loss: 0.4439 - recall: 0.8385\n",
            "Epoch 119/200\n",
            "56/56 [==============================] - 0s 1ms/step - loss: 0.4438 - recall: 0.8385\n",
            "Epoch 120/200\n",
            "56/56 [==============================] - 0s 1ms/step - loss: 0.4437 - recall: 0.8385\n",
            "Epoch 121/200\n",
            "56/56 [==============================] - 0s 1ms/step - loss: 0.4439 - recall: 0.8385\n",
            "Epoch 122/200\n",
            "56/56 [==============================] - 0s 1ms/step - loss: 0.4438 - recall: 0.8385\n",
            "Epoch 123/200\n",
            "56/56 [==============================] - 0s 1ms/step - loss: 0.4438 - recall: 0.8385\n",
            "Epoch 124/200\n",
            "56/56 [==============================] - 0s 1ms/step - loss: 0.4437 - recall: 0.8385\n",
            "Epoch 125/200\n",
            "56/56 [==============================] - 0s 1ms/step - loss: 0.4438 - recall: 0.8385\n",
            "Epoch 126/200\n",
            "56/56 [==============================] - 0s 1ms/step - loss: 0.4437 - recall: 0.8385\n",
            "Epoch 127/200\n",
            "56/56 [==============================] - 0s 1ms/step - loss: 0.4438 - recall: 0.8385\n",
            "Epoch 128/200\n",
            "56/56 [==============================] - 0s 1ms/step - loss: 0.4438 - recall: 0.8385\n",
            "Epoch 129/200\n",
            "56/56 [==============================] - 0s 1ms/step - loss: 0.4437 - recall: 0.8385\n",
            "Epoch 130/200\n",
            "56/56 [==============================] - 0s 1ms/step - loss: 0.4437 - recall: 0.8385\n",
            "Epoch 131/200\n",
            "56/56 [==============================] - 0s 1ms/step - loss: 0.4438 - recall: 0.8385\n",
            "Epoch 132/200\n",
            "56/56 [==============================] - 0s 1ms/step - loss: 0.4437 - recall: 0.8385\n",
            "Epoch 133/200\n",
            "56/56 [==============================] - 0s 1ms/step - loss: 0.4435 - recall: 0.8385\n",
            "Epoch 134/200\n",
            "56/56 [==============================] - 0s 1ms/step - loss: 0.4438 - recall: 0.8385\n",
            "Epoch 135/200\n",
            "56/56 [==============================] - 0s 1ms/step - loss: 0.4439 - recall: 0.8385\n",
            "Epoch 136/200\n",
            "56/56 [==============================] - 0s 1ms/step - loss: 0.4437 - recall: 0.8385\n",
            "Epoch 137/200\n",
            "56/56 [==============================] - 0s 1ms/step - loss: 0.4438 - recall: 0.8385\n",
            "Epoch 138/200\n",
            "56/56 [==============================] - 0s 1ms/step - loss: 0.4437 - recall: 0.8385\n",
            "Epoch 139/200\n",
            "56/56 [==============================] - 0s 1ms/step - loss: 0.4437 - recall: 0.8385\n",
            "Epoch 140/200\n",
            "56/56 [==============================] - 0s 1ms/step - loss: 0.4437 - recall: 0.8385\n",
            "Epoch 141/200\n",
            "56/56 [==============================] - 0s 1ms/step - loss: 0.4437 - recall: 0.8385\n",
            "Epoch 142/200\n",
            "56/56 [==============================] - 0s 1ms/step - loss: 0.4436 - recall: 0.8385\n",
            "Epoch 143/200\n",
            "56/56 [==============================] - 0s 1ms/step - loss: 0.4437 - recall: 0.8385\n",
            "Epoch 144/200\n",
            "56/56 [==============================] - 0s 1ms/step - loss: 0.4436 - recall: 0.8385\n",
            "Epoch 145/200\n",
            "56/56 [==============================] - 0s 1ms/step - loss: 0.4436 - recall: 0.8385\n",
            "Epoch 146/200\n",
            "56/56 [==============================] - 0s 1ms/step - loss: 0.4436 - recall: 0.8385\n",
            "Epoch 147/200\n",
            "56/56 [==============================] - 0s 1ms/step - loss: 0.4436 - recall: 0.8385\n",
            "Epoch 148/200\n",
            "56/56 [==============================] - 0s 1ms/step - loss: 0.4436 - recall: 0.8385\n",
            "Epoch 149/200\n",
            "56/56 [==============================] - 0s 1ms/step - loss: 0.4436 - recall: 0.8385\n",
            "Epoch 150/200\n",
            "56/56 [==============================] - 0s 1ms/step - loss: 0.4438 - recall: 0.8385\n",
            "Epoch 151/200\n",
            "56/56 [==============================] - 0s 1ms/step - loss: 0.4436 - recall: 0.8385\n",
            "Epoch 152/200\n",
            "56/56 [==============================] - 0s 1ms/step - loss: 0.4436 - recall: 0.8385\n",
            "Epoch 153/200\n",
            "56/56 [==============================] - 0s 1ms/step - loss: 0.4436 - recall: 0.8385\n",
            "Epoch 154/200\n",
            "56/56 [==============================] - 0s 1ms/step - loss: 0.4437 - recall: 0.8385\n",
            "Epoch 155/200\n",
            "56/56 [==============================] - 0s 1ms/step - loss: 0.4438 - recall: 0.8385\n",
            "Epoch 156/200\n",
            "56/56 [==============================] - 0s 1ms/step - loss: 0.4437 - recall: 0.8385\n",
            "Epoch 157/200\n",
            "56/56 [==============================] - 0s 1ms/step - loss: 0.4436 - recall: 0.8385\n",
            "Epoch 158/200\n",
            "56/56 [==============================] - 0s 1ms/step - loss: 0.4435 - recall: 0.8385\n",
            "Epoch 159/200\n",
            "56/56 [==============================] - 0s 1ms/step - loss: 0.4437 - recall: 0.8385\n",
            "Epoch 160/200\n",
            "56/56 [==============================] - 0s 2ms/step - loss: 0.4436 - recall: 0.8385\n",
            "Epoch 161/200\n",
            "56/56 [==============================] - 0s 1ms/step - loss: 0.4435 - recall: 0.8385\n",
            "Epoch 162/200\n",
            "56/56 [==============================] - 0s 1ms/step - loss: 0.4436 - recall: 0.8385\n",
            "Epoch 163/200\n",
            "56/56 [==============================] - 0s 1ms/step - loss: 0.4435 - recall: 0.8385\n",
            "Epoch 164/200\n",
            "56/56 [==============================] - 0s 1ms/step - loss: 0.4438 - recall: 0.8385\n",
            "Epoch 165/200\n",
            "56/56 [==============================] - 0s 2ms/step - loss: 0.4436 - recall: 0.8385\n",
            "Epoch 166/200\n",
            "56/56 [==============================] - 0s 1ms/step - loss: 0.4437 - recall: 0.8385\n",
            "Epoch 167/200\n",
            "56/56 [==============================] - 0s 1ms/step - loss: 0.4436 - recall: 0.8385\n",
            "Epoch 168/200\n",
            "56/56 [==============================] - 0s 1ms/step - loss: 0.4437 - recall: 0.8385\n",
            "Epoch 169/200\n",
            "56/56 [==============================] - 0s 1ms/step - loss: 0.4435 - recall: 0.8385\n",
            "Epoch 170/200\n",
            "56/56 [==============================] - 0s 1ms/step - loss: 0.4437 - recall: 0.8385\n",
            "Epoch 171/200\n",
            "56/56 [==============================] - 0s 1ms/step - loss: 0.4436 - recall: 0.8385\n",
            "Epoch 172/200\n",
            "56/56 [==============================] - 0s 1ms/step - loss: 0.4436 - recall: 0.8385\n",
            "Epoch 173/200\n",
            "56/56 [==============================] - 0s 1ms/step - loss: 0.4435 - recall: 0.8385\n",
            "Epoch 174/200\n",
            "56/56 [==============================] - 0s 1ms/step - loss: 0.4436 - recall: 0.8385\n",
            "Epoch 175/200\n",
            "56/56 [==============================] - 0s 1ms/step - loss: 0.4436 - recall: 0.8385\n",
            "Epoch 176/200\n",
            "56/56 [==============================] - 0s 1ms/step - loss: 0.4436 - recall: 0.8385\n",
            "Epoch 177/200\n",
            "56/56 [==============================] - 0s 1ms/step - loss: 0.4436 - recall: 0.8385\n",
            "Epoch 178/200\n",
            "56/56 [==============================] - 0s 1ms/step - loss: 0.4434 - recall: 0.8385\n",
            "Epoch 179/200\n",
            "56/56 [==============================] - 0s 1ms/step - loss: 0.4436 - recall: 0.8385\n",
            "Epoch 180/200\n",
            "56/56 [==============================] - 0s 1ms/step - loss: 0.4436 - recall: 0.8385\n",
            "Epoch 181/200\n",
            "56/56 [==============================] - 0s 2ms/step - loss: 0.4436 - recall: 0.8385\n",
            "Epoch 182/200\n",
            "56/56 [==============================] - 0s 2ms/step - loss: 0.4436 - recall: 0.8385\n",
            "Epoch 183/200\n",
            "56/56 [==============================] - 0s 2ms/step - loss: 0.4435 - recall: 0.8385\n",
            "Epoch 184/200\n",
            "56/56 [==============================] - 0s 1ms/step - loss: 0.4436 - recall: 0.8385\n",
            "Epoch 185/200\n",
            "56/56 [==============================] - 0s 1ms/step - loss: 0.4435 - recall: 0.8385\n",
            "Epoch 186/200\n",
            "56/56 [==============================] - 0s 1ms/step - loss: 0.4436 - recall: 0.8385\n",
            "Epoch 187/200\n",
            "56/56 [==============================] - 0s 1ms/step - loss: 0.4435 - recall: 0.8385\n",
            "Epoch 188/200\n",
            "56/56 [==============================] - 0s 1ms/step - loss: 0.4437 - recall: 0.8385\n",
            "Epoch 189/200\n",
            "56/56 [==============================] - 0s 1ms/step - loss: 0.4436 - recall: 0.8385\n",
            "Epoch 190/200\n",
            "56/56 [==============================] - 0s 1ms/step - loss: 0.4436 - recall: 0.8385\n",
            "Epoch 191/200\n",
            "56/56 [==============================] - 0s 1ms/step - loss: 0.4436 - recall: 0.8385\n",
            "Epoch 192/200\n",
            "56/56 [==============================] - 0s 2ms/step - loss: 0.4435 - recall: 0.8385\n",
            "Epoch 193/200\n",
            "56/56 [==============================] - 0s 1ms/step - loss: 0.4436 - recall: 0.8385\n",
            "Epoch 194/200\n",
            "56/56 [==============================] - 0s 1ms/step - loss: 0.4436 - recall: 0.8385\n",
            "Epoch 195/200\n",
            "56/56 [==============================] - 0s 1ms/step - loss: 0.4436 - recall: 0.8385\n",
            "Epoch 196/200\n",
            "56/56 [==============================] - 0s 1ms/step - loss: 0.4436 - recall: 0.8385\n",
            "Epoch 197/200\n",
            "56/56 [==============================] - 0s 1ms/step - loss: 0.4435 - recall: 0.8385\n",
            "Epoch 198/200\n",
            "56/56 [==============================] - 0s 1ms/step - loss: 0.4437 - recall: 0.8385\n",
            "Epoch 199/200\n",
            "56/56 [==============================] - 0s 1ms/step - loss: 0.4436 - recall: 0.8385\n",
            "Epoch 200/200\n",
            "56/56 [==============================] - 0s 1ms/step - loss: 0.4436 - recall: 0.8385\n"
          ]
        },
        {
          "output_type": "execute_result",
          "data": {
            "text/plain": [
              "<keras.callbacks.History at 0x7fc740012ed0>"
            ]
          },
          "metadata": {},
          "execution_count": 121
        }
      ]
    },
    {
      "cell_type": "code",
      "metadata": {
        "id": "MPBIb50NLO2x"
      },
      "source": [
        "y_trainpred=model.predict(X_train)\n",
        "y_testpred=model.predict(X_test)"
      ],
      "execution_count": 122,
      "outputs": []
    },
    {
      "cell_type": "code",
      "metadata": {
        "colab": {
          "base_uri": "https://localhost:8080/"
        },
        "id": "oHfbGbp1Lfnb",
        "outputId": "51919dd1-766d-4bb3-da67-9c4cb1d4e4d2"
      },
      "source": [
        "categoricalpred = np.argmax(y_trainpred,axis=1)\n",
        "categoricalpred_test = np.argmax(y_testpred,axis=1)\n",
        "\n",
        "print('Results for Categorical Model')\n",
        "print(classification_report(y_train, categoricalpred))"
      ],
      "execution_count": 125,
      "outputs": [
        {
          "output_type": "stream",
          "name": "stdout",
          "text": [
            "Results for Categorical Model\n",
            "              precision    recall  f1-score   support\n",
            "\n",
            "           0       0.84      1.00      0.91       924\n",
            "           1       0.00      0.00      0.00       178\n",
            "\n",
            "    accuracy                           0.84      1102\n",
            "   macro avg       0.42      0.50      0.46      1102\n",
            "weighted avg       0.70      0.84      0.76      1102\n",
            "\n"
          ]
        }
      ]
    },
    {
      "cell_type": "code",
      "metadata": {
        "colab": {
          "base_uri": "https://localhost:8080/"
        },
        "id": "fXwElmpCLhEc",
        "outputId": "9d70bdbe-f1b5-4bad-fded-cb0940b124a8"
      },
      "source": [
        "print(classification_report(y_test, categoricalpred_test))"
      ],
      "execution_count": 127,
      "outputs": [
        {
          "output_type": "stream",
          "name": "stdout",
          "text": [
            "              precision    recall  f1-score   support\n",
            "\n",
            "           0       0.84      1.00      0.91       309\n",
            "           1       0.00      0.00      0.00        59\n",
            "\n",
            "    accuracy                           0.84       368\n",
            "   macro avg       0.42      0.50      0.46       368\n",
            "weighted avg       0.71      0.84      0.77       368\n",
            "\n"
          ]
        }
      ]
    },
    {
      "cell_type": "markdown",
      "metadata": {
        "id": "QMcc3REZbKtO"
      },
      "source": [
        "# **XGBoost**"
      ]
    },
    {
      "cell_type": "code",
      "metadata": {
        "id": "8lvadeS7YaUz"
      },
      "source": [
        "from xgboost import XGBClassifier, XGBRFClassifier\n",
        "from sklearn.model_selection import RepeatedStratifiedKFold\n",
        "from sklearn.model_selection import cross_val_score\n",
        "from numpy import mean"
      ],
      "execution_count": 128,
      "outputs": []
    },
    {
      "cell_type": "code",
      "metadata": {
        "id": "DjWxEcfCbzCf"
      },
      "source": [
        "X_train,X_test,y_train,y_test=train_test_split(Xnew,y,test_size=0.30,stratify=y)"
      ],
      "execution_count": 130,
      "outputs": []
    },
    {
      "cell_type": "code",
      "metadata": {
        "id": "-y-TmiWfIiz6"
      },
      "source": [
        "param_grid={}"
      ],
      "execution_count": 131,
      "outputs": []
    },
    {
      "cell_type": "code",
      "metadata": {
        "colab": {
          "base_uri": "https://localhost:8080/"
        },
        "id": "IdGh6-nCeLHb",
        "outputId": "a912038b-e907-4a9a-9616-3e17bff258ae"
      },
      "source": [
        "xgb1=XGBClassifier()\n",
        "# define grid search\n",
        "grid = GridSearchCV(estimator=xgb1, param_grid=param_grid, cv=3, scoring='f1')\n",
        "grid.fit(X_train, y_train)"
      ],
      "execution_count": 136,
      "outputs": [
        {
          "output_type": "execute_result",
          "data": {
            "text/plain": [
              "GridSearchCV(cv=3, error_score=nan,\n",
              "             estimator=XGBClassifier(base_score=0.5, booster='gbtree',\n",
              "                                     colsample_bylevel=1, colsample_bynode=1,\n",
              "                                     colsample_bytree=1, gamma=0,\n",
              "                                     learning_rate=0.1, max_delta_step=0,\n",
              "                                     max_depth=3, min_child_weight=1,\n",
              "                                     missing=None, n_estimators=100, n_jobs=1,\n",
              "                                     nthread=None, objective='binary:logistic',\n",
              "                                     random_state=0, reg_alpha=0, reg_lambda=1,\n",
              "                                     scale_pos_weight=1, seed=None, silent=None,\n",
              "                                     subsample=1, verbosity=1),\n",
              "             iid='deprecated', n_jobs=None, param_grid={},\n",
              "             pre_dispatch='2*n_jobs', refit=True, return_train_score=False,\n",
              "             scoring='f1', verbose=0)"
            ]
          },
          "metadata": {},
          "execution_count": 136
        }
      ]
    },
    {
      "cell_type": "code",
      "metadata": {
        "colab": {
          "base_uri": "https://localhost:8080/"
        },
        "id": "mtTzMrAteg1x",
        "outputId": "900e4b18-f315-4224-a905-c097f571e937"
      },
      "source": [
        "grid.best_params_"
      ],
      "execution_count": 137,
      "outputs": [
        {
          "output_type": "execute_result",
          "data": {
            "text/plain": [
              "{}"
            ]
          },
          "metadata": {},
          "execution_count": 137
        }
      ]
    },
    {
      "cell_type": "code",
      "metadata": {
        "id": "dejBQWfnb3NF"
      },
      "source": [
        "y_train_pred=grid.predict(X_train)\n",
        "y_test_pred=grid.predict(X_test)"
      ],
      "execution_count": 138,
      "outputs": []
    },
    {
      "cell_type": "code",
      "metadata": {
        "colab": {
          "base_uri": "https://localhost:8080/"
        },
        "id": "nU2LxmIHcAZL",
        "outputId": "5c8ebfce-2478-449d-9a09-f99ce9a44e6b"
      },
      "source": [
        "print(classification_report(y_train,y_train_pred))"
      ],
      "execution_count": 139,
      "outputs": [
        {
          "output_type": "stream",
          "name": "stdout",
          "text": [
            "              precision    recall  f1-score   support\n",
            "\n",
            "           0       0.91      1.00      0.95       863\n",
            "           1       0.96      0.46      0.62       166\n",
            "\n",
            "    accuracy                           0.91      1029\n",
            "   macro avg       0.93      0.73      0.78      1029\n",
            "weighted avg       0.91      0.91      0.90      1029\n",
            "\n"
          ]
        }
      ]
    },
    {
      "cell_type": "code",
      "metadata": {
        "colab": {
          "base_uri": "https://localhost:8080/"
        },
        "id": "lzIPyrTXcC_e",
        "outputId": "650a8905-ae27-4202-934d-0f5094ed8407"
      },
      "source": [
        "print(classification_report(y_test,y_test_pred))"
      ],
      "execution_count": 140,
      "outputs": [
        {
          "output_type": "stream",
          "name": "stdout",
          "text": [
            "              precision    recall  f1-score   support\n",
            "\n",
            "           0       0.86      0.98      0.92       370\n",
            "           1       0.59      0.18      0.28        71\n",
            "\n",
            "    accuracy                           0.85       441\n",
            "   macro avg       0.73      0.58      0.60       441\n",
            "weighted avg       0.82      0.85      0.81       441\n",
            "\n"
          ]
        }
      ]
    },
    {
      "cell_type": "markdown",
      "metadata": {
        "id": "dAOFSI1LmPwN"
      },
      "source": [
        "# **Linear Discriminant Analysis**"
      ]
    },
    {
      "cell_type": "code",
      "metadata": {
        "id": "pV0Kn2DemPBp"
      },
      "source": [
        "from sklearn.discriminant_analysis import LinearDiscriminantAnalysis"
      ],
      "execution_count": 102,
      "outputs": []
    },
    {
      "cell_type": "code",
      "metadata": {
        "id": "vEQeXWJ6aQvB"
      },
      "source": [
        "sc = StandardScaler()\n",
        "X1 = sc.fit_transform(X)\n",
        "X_train, X_test, y_train, y_test = train_test_split(Xnew, y, test_size=0.25,stratify=y)"
      ],
      "execution_count": 103,
      "outputs": []
    },
    {
      "cell_type": "code",
      "metadata": {
        "colab": {
          "base_uri": "https://localhost:8080/"
        },
        "id": "ZuVkcOJ-mvC1",
        "outputId": "9df98a7a-1b7e-46e3-a1b9-1477e12958b1"
      },
      "source": [
        "lda = LinearDiscriminantAnalysis(solver='lsqr',priors=[0.75,0.25])\n",
        "lda.fit(X_train, y_train)\n"
      ],
      "execution_count": 104,
      "outputs": [
        {
          "output_type": "execute_result",
          "data": {
            "text/plain": [
              "LinearDiscriminantAnalysis(n_components=None, priors=[0.75, 0.25],\n",
              "                           shrinkage=None, solver='lsqr',\n",
              "                           store_covariance=False, tol=0.0001)"
            ]
          },
          "metadata": {},
          "execution_count": 104
        }
      ]
    },
    {
      "cell_type": "code",
      "metadata": {
        "id": "C7N1gCH3mzyc"
      },
      "source": [
        "y_trainpred=lda.predict(X_train)\n",
        "y_testpred=lda.predict(X_test)"
      ],
      "execution_count": 105,
      "outputs": []
    },
    {
      "cell_type": "code",
      "metadata": {
        "colab": {
          "base_uri": "https://localhost:8080/"
        },
        "id": "deDKzRNknUCk",
        "outputId": "b03ac327-dfcc-43be-adf2-25f05c8e0389"
      },
      "source": [
        "print(classification_report(y_train,y_trainpred))"
      ],
      "execution_count": 106,
      "outputs": [
        {
          "output_type": "stream",
          "name": "stdout",
          "text": [
            "              precision    recall  f1-score   support\n",
            "\n",
            "           0       0.88      0.96      0.92       924\n",
            "           1       0.59      0.33      0.42       178\n",
            "\n",
            "    accuracy                           0.85      1102\n",
            "   macro avg       0.73      0.64      0.67      1102\n",
            "weighted avg       0.83      0.85      0.84      1102\n",
            "\n"
          ]
        }
      ]
    },
    {
      "cell_type": "code",
      "metadata": {
        "colab": {
          "base_uri": "https://localhost:8080/"
        },
        "id": "ECRheCAHnVac",
        "outputId": "7f5aac1d-6d42-4539-e03e-4d5968e37a6e"
      },
      "source": [
        "print(classification_report(y_test,y_testpred))"
      ],
      "execution_count": 107,
      "outputs": [
        {
          "output_type": "stream",
          "name": "stdout",
          "text": [
            "              precision    recall  f1-score   support\n",
            "\n",
            "           0       0.87      0.94      0.91       309\n",
            "           1       0.47      0.25      0.33        59\n",
            "\n",
            "    accuracy                           0.83       368\n",
            "   macro avg       0.67      0.60      0.62       368\n",
            "weighted avg       0.80      0.83      0.81       368\n",
            "\n"
          ]
        }
      ]
    },
    {
      "cell_type": "markdown",
      "metadata": {
        "id": "_MsmOnDBpGmb"
      },
      "source": [
        "# **Linear Discriminant Analysis With GridSearch CV**"
      ]
    },
    {
      "cell_type": "code",
      "metadata": {
        "id": "miUo8L7RxCn1"
      },
      "source": [
        "from sklearn.metrics import fbeta_score, make_scorer\n",
        "z = make_scorer(fbeta_score, beta=2)\n"
      ],
      "execution_count": 111,
      "outputs": []
    },
    {
      "cell_type": "code",
      "metadata": {
        "id": "dozVlNq1vUZC"
      },
      "source": [
        "# sc = StandardScaler()\n",
        "X_train, X_test, y_train, y_test = train_test_split(Xnew, y, test_size=0.25,stratify=y)\n",
        "# X_train=sc.fit_transform(X_train)\n",
        "# X_test=sc.transform(X_test)"
      ],
      "execution_count": 109,
      "outputs": []
    },
    {
      "cell_type": "code",
      "metadata": {
        "colab": {
          "base_uri": "https://localhost:8080/"
        },
        "id": "gM5SDWB3nXVU",
        "outputId": "02ca71e1-ad44-4420-8fac-d5db9cd648e3"
      },
      "source": [
        "lda1=LinearDiscriminantAnalysis()\n",
        "cv = StratifiedKFold(n_splits=3,shuffle=True)\n",
        "param={'solver':['svd','lsqr','eigen'],'shrinkage':[0.1,1,0.001,0.01,0.0001],'tol':[0.00001,2,1,0.000001,1e-06,1e-07],'priors':[[0.60,0.40],[0.70,30],[0.75,25],[0.40,0.60],[0.50,0.50]]}\n",
        "ld_grid=GridSearchCV(lda1,param_grid=param,cv=cv,scoring=z)\n",
        "ld_grid.fit(X_train,y_train)"
      ],
      "execution_count": 112,
      "outputs": [
        {
          "output_type": "execute_result",
          "data": {
            "text/plain": [
              "GridSearchCV(cv=StratifiedKFold(n_splits=3, random_state=None, shuffle=True),\n",
              "             error_score=nan,\n",
              "             estimator=LinearDiscriminantAnalysis(n_components=None,\n",
              "                                                  priors=None, shrinkage=None,\n",
              "                                                  solver='svd',\n",
              "                                                  store_covariance=False,\n",
              "                                                  tol=0.0001),\n",
              "             iid='deprecated', n_jobs=None,\n",
              "             param_grid={'priors': [[0.6, 0.4], [0.7, 30], [0.75, 25],\n",
              "                                    [0.4, 0.6], [0.5, 0.5]],\n",
              "                         'shrinkage': [0.1, 1, 0.001, 0.01, 0.0001],\n",
              "                         'solver': ['svd', 'lsqr', 'eigen'],\n",
              "                         'tol': [1e-05, 2, 1, 1e-06, 1e-06, 1e-07]},\n",
              "             pre_dispatch='2*n_jobs', refit=True, return_train_score=False,\n",
              "             scoring=make_scorer(fbeta_score, beta=2), verbose=0)"
            ]
          },
          "metadata": {},
          "execution_count": 112
        }
      ]
    },
    {
      "cell_type": "code",
      "metadata": {
        "id": "TOowI6vGskB2"
      },
      "source": [
        "y_trainpred=ld_grid.predict(X_train)\n",
        "y_testpred=ld_grid.predict(X_test)"
      ],
      "execution_count": 113,
      "outputs": []
    },
    {
      "cell_type": "code",
      "metadata": {
        "colab": {
          "base_uri": "https://localhost:8080/"
        },
        "id": "yZU19a5HtKsy",
        "outputId": "9e9d2576-3f47-4ca5-ab17-70ea95cb3584"
      },
      "source": [
        "ld_grid.best_params_"
      ],
      "execution_count": 114,
      "outputs": [
        {
          "output_type": "execute_result",
          "data": {
            "text/plain": [
              "{'priors': [0.7, 30], 'shrinkage': 0.1, 'solver': 'lsqr', 'tol': 1e-05}"
            ]
          },
          "metadata": {},
          "execution_count": 114
        }
      ]
    },
    {
      "cell_type": "code",
      "metadata": {
        "colab": {
          "base_uri": "https://localhost:8080/"
        },
        "id": "ejtEPVtls9eg",
        "outputId": "e3aaf905-1cb2-4fc2-d5bf-d86ab278d175"
      },
      "source": [
        "print(classification_report(y_train,y_trainpred))"
      ],
      "execution_count": 115,
      "outputs": [
        {
          "output_type": "stream",
          "name": "stdout",
          "text": [
            "              precision    recall  f1-score   support\n",
            "\n",
            "           0       0.00      0.00      0.00       924\n",
            "           1       0.16      1.00      0.28       178\n",
            "\n",
            "    accuracy                           0.16      1102\n",
            "   macro avg       0.08      0.50      0.14      1102\n",
            "weighted avg       0.03      0.16      0.04      1102\n",
            "\n"
          ]
        }
      ]
    },
    {
      "cell_type": "code",
      "metadata": {
        "colab": {
          "base_uri": "https://localhost:8080/"
        },
        "id": "zSyvlbWzs_Bn",
        "outputId": "2b5d4761-2d10-4772-e991-d32086322064"
      },
      "source": [
        "print(classification_report(y_test,y_testpred))"
      ],
      "execution_count": 116,
      "outputs": [
        {
          "output_type": "stream",
          "name": "stdout",
          "text": [
            "              precision    recall  f1-score   support\n",
            "\n",
            "           0       0.00      0.00      0.00       309\n",
            "           1       0.16      1.00      0.28        59\n",
            "\n",
            "    accuracy                           0.16       368\n",
            "   macro avg       0.08      0.50      0.14       368\n",
            "weighted avg       0.03      0.16      0.04       368\n",
            "\n"
          ]
        }
      ]
    },
    {
      "cell_type": "markdown",
      "metadata": {
        "id": "uXQpstWVNuo7"
      },
      "source": [
        "# **Resampling**"
      ]
    },
    {
      "cell_type": "markdown",
      "metadata": {
        "id": "pyB8Vkg_KKQa"
      },
      "source": [
        "### **SMOTE Tomek Link with KNearest Neighbours**"
      ]
    },
    {
      "cell_type": "code",
      "metadata": {
        "id": "w63saZ9WV7js"
      },
      "source": [
        "from sklearn.neighbors import KNeighborsClassifier"
      ],
      "execution_count": 160,
      "outputs": []
    },
    {
      "cell_type": "code",
      "metadata": {
        "colab": {
          "base_uri": "https://localhost:8080/"
        },
        "id": "-3qsBrpCXW2l",
        "outputId": "b3574239-0c0e-47fe-9e42-18e6c0a4f33a"
      },
      "source": [
        "knn=KNeighborsClassifier(n_neighbors=3, metric='manhattan', weights='distance',p=1)\n",
        "knn.fit(X_train,y_train)\n"
      ],
      "execution_count": 161,
      "outputs": [
        {
          "output_type": "execute_result",
          "data": {
            "text/plain": [
              "KNeighborsClassifier(algorithm='auto', leaf_size=30, metric='manhattan',\n",
              "                     metric_params=None, n_jobs=None, n_neighbors=3, p=1,\n",
              "                     weights='distance')"
            ]
          },
          "metadata": {},
          "execution_count": 161
        }
      ]
    },
    {
      "cell_type": "code",
      "metadata": {
        "id": "tMl33pGxXhV8"
      },
      "source": [
        "y_trainpred=knn.predict(X_train)\n",
        "y_testpred=knn.predict(X_test)"
      ],
      "execution_count": 162,
      "outputs": []
    },
    {
      "cell_type": "code",
      "metadata": {
        "colab": {
          "base_uri": "https://localhost:8080/"
        },
        "id": "uayXZ7xIXnaB",
        "outputId": "41f25bb7-f7dd-403d-ba18-a6f96caa0239"
      },
      "source": [
        "print(classification_report(y_train,y_trainpred))"
      ],
      "execution_count": 163,
      "outputs": [
        {
          "output_type": "stream",
          "name": "stdout",
          "text": [
            "              precision    recall  f1-score   support\n",
            "\n",
            "           0       1.00      1.00      1.00       736\n",
            "           1       1.00      1.00      1.00       736\n",
            "\n",
            "    accuracy                           1.00      1472\n",
            "   macro avg       1.00      1.00      1.00      1472\n",
            "weighted avg       1.00      1.00      1.00      1472\n",
            "\n"
          ]
        }
      ]
    },
    {
      "cell_type": "code",
      "metadata": {
        "colab": {
          "base_uri": "https://localhost:8080/"
        },
        "id": "DiUDsfZBXoAu",
        "outputId": "0f32d2a1-d2d2-4bb0-d1de-c2a2bdbdd16b"
      },
      "source": [
        "print(classification_report(y_test,y_testpred))"
      ],
      "execution_count": 164,
      "outputs": [
        {
          "output_type": "stream",
          "name": "stdout",
          "text": [
            "              precision    recall  f1-score   support\n",
            "\n",
            "           0       0.88      0.61      0.72       370\n",
            "           1       0.22      0.58      0.32        71\n",
            "\n",
            "    accuracy                           0.60       441\n",
            "   macro avg       0.55      0.59      0.52       441\n",
            "weighted avg       0.78      0.60      0.66       441\n",
            "\n"
          ]
        }
      ]
    },
    {
      "cell_type": "markdown",
      "metadata": {
        "id": "M9DZCsBxJ_w2"
      },
      "source": [
        "### **SMOTE Tomek Link with SVM on Grid Search CV**"
      ]
    },
    {
      "cell_type": "code",
      "metadata": {
        "id": "yJMFOr3zU-4m"
      },
      "source": [
        "X_train,X_test,y_train,y_test=train_test_split(Xnew.values,y,test_size=0.30,stratify=y)"
      ],
      "execution_count": 151,
      "outputs": []
    },
    {
      "cell_type": "code",
      "metadata": {
        "id": "JwUkTzILU-4n"
      },
      "source": [
        "smt=SMOTETomek(random_state=139,)\n",
        "X_train, y_train=smt.fit_resample(X_train,y_train)"
      ],
      "execution_count": 152,
      "outputs": []
    },
    {
      "cell_type": "code",
      "metadata": {
        "id": "oHXz-0jMVAp-"
      },
      "source": [
        "scaler=StandardScaler()\n",
        "X_train=scaler.fit_transform(X_train)\n",
        "X_test=scaler.fit_transform(X_test)"
      ],
      "execution_count": 153,
      "outputs": []
    },
    {
      "cell_type": "code",
      "metadata": {
        "colab": {
          "base_uri": "https://localhost:8080/"
        },
        "id": "qmPK0FQsQBl1",
        "outputId": "f3a2b305-761b-4723-d8ff-3d1eea5889fd"
      },
      "source": [
        "sv_1=svm.SVC()\n",
        "param={'kernel':['rbf','linear','poly'],'C':[0.1,0.0001,0.00001,0.00000001,1],'gamma':[0.001,0.0001,1,2,5,6,7,8,9]}\n",
        "cv = StratifiedKFold(n_splits=3)\n",
        "sv_grid=GridSearchCV(sv_1,param_grid=param,cv=cv, scoring='f1')\n",
        "sv_grid.fit(X_train,y_train)"
      ],
      "execution_count": 155,
      "outputs": [
        {
          "output_type": "execute_result",
          "data": {
            "text/plain": [
              "GridSearchCV(cv=StratifiedKFold(n_splits=3, random_state=None, shuffle=False),\n",
              "             error_score=nan,\n",
              "             estimator=SVC(C=1.0, break_ties=False, cache_size=200,\n",
              "                           class_weight=None, coef0=0.0,\n",
              "                           decision_function_shape='ovr', degree=3,\n",
              "                           gamma='scale', kernel='rbf', max_iter=-1,\n",
              "                           probability=False, random_state=None, shrinking=True,\n",
              "                           tol=0.001, verbose=False),\n",
              "             iid='deprecated', n_jobs=None,\n",
              "             param_grid={'C': [0.1, 0.0001, 1e-05, 1e-08, 1],\n",
              "                         'gamma': [0.001, 0.0001, 1, 2, 5, 6, 7, 8, 9],\n",
              "                         'kernel': ['rbf', 'linear', 'poly']},\n",
              "             pre_dispatch='2*n_jobs', refit=True, return_train_score=False,\n",
              "             scoring='f1', verbose=0)"
            ]
          },
          "metadata": {},
          "execution_count": 155
        }
      ]
    },
    {
      "cell_type": "code",
      "metadata": {
        "id": "F2OzjYImU3VP"
      },
      "source": [
        "y_trainpred=sv_grid.predict(X_train)\n",
        "y_testpred=sv_grid.predict(X_test)"
      ],
      "execution_count": 156,
      "outputs": []
    },
    {
      "cell_type": "code",
      "metadata": {
        "colab": {
          "base_uri": "https://localhost:8080/"
        },
        "id": "FvYHFbYJV-y3",
        "outputId": "21441634-9e5b-49e9-c6dd-a2d75aec024c"
      },
      "source": [
        "sv_grid.best_params_"
      ],
      "execution_count": 157,
      "outputs": [
        {
          "output_type": "execute_result",
          "data": {
            "text/plain": [
              "{'C': 0.0001, 'gamma': 1, 'kernel': 'poly'}"
            ]
          },
          "metadata": {},
          "execution_count": 157
        }
      ]
    },
    {
      "cell_type": "code",
      "metadata": {
        "colab": {
          "base_uri": "https://localhost:8080/"
        },
        "id": "dRz9i9APU6K_",
        "outputId": "fab417d8-2e39-4a2c-94de-cea783b09f98"
      },
      "source": [
        "print(classification_report(y_train,y_trainpred))"
      ],
      "execution_count": 158,
      "outputs": [
        {
          "output_type": "stream",
          "name": "stdout",
          "text": [
            "              precision    recall  f1-score   support\n",
            "\n",
            "           0       0.95      0.87      0.91       736\n",
            "           1       0.88      0.95      0.91       736\n",
            "\n",
            "    accuracy                           0.91      1472\n",
            "   macro avg       0.91      0.91      0.91      1472\n",
            "weighted avg       0.91      0.91      0.91      1472\n",
            "\n"
          ]
        }
      ]
    },
    {
      "cell_type": "code",
      "metadata": {
        "colab": {
          "base_uri": "https://localhost:8080/"
        },
        "id": "p4ZJlWOJU72O",
        "outputId": "a1c65b5a-882f-4e22-e979-121641176399"
      },
      "source": [
        "print(classification_report(y_test,y_testpred))"
      ],
      "execution_count": 159,
      "outputs": [
        {
          "output_type": "stream",
          "name": "stdout",
          "text": [
            "              precision    recall  f1-score   support\n",
            "\n",
            "           0       0.90      0.50      0.64       370\n",
            "           1       0.21      0.70      0.33        71\n",
            "\n",
            "    accuracy                           0.54       441\n",
            "   macro avg       0.56      0.60      0.49       441\n",
            "weighted avg       0.79      0.54      0.59       441\n",
            "\n"
          ]
        }
      ]
    },
    {
      "cell_type": "markdown",
      "metadata": {
        "id": "eSs4Il9UJvua"
      },
      "source": [
        "### **SMOTE Tomek Link with XGBoost**"
      ]
    },
    {
      "cell_type": "code",
      "metadata": {
        "id": "JhwJmEqPcFYQ"
      },
      "source": [
        "from imblearn.combine import SMOTETomek"
      ],
      "execution_count": 141,
      "outputs": []
    },
    {
      "cell_type": "code",
      "metadata": {
        "id": "4TRcGaORRkj-"
      },
      "source": [
        "X_train,X_test,y_train,y_test=train_test_split(Xnew.values,y,test_size=0.30,stratify=y)"
      ],
      "execution_count": 143,
      "outputs": []
    },
    {
      "cell_type": "code",
      "metadata": {
        "id": "pYz3EYYfOvF2"
      },
      "source": [
        "smt=SMOTETomek(random_state=139)\n",
        "X_train, y_train=smt.fit_resample(X_train,y_train)"
      ],
      "execution_count": 144,
      "outputs": []
    },
    {
      "cell_type": "code",
      "metadata": {
        "colab": {
          "base_uri": "https://localhost:8080/"
        },
        "id": "oJQm0H9dTYPe",
        "outputId": "8890e31e-604b-44e0-f8af-e73058bf1d5d"
      },
      "source": [
        "X_train.shape"
      ],
      "execution_count": 145,
      "outputs": [
        {
          "output_type": "execute_result",
          "data": {
            "text/plain": [
              "(1536, 19)"
            ]
          },
          "metadata": {},
          "execution_count": 145
        }
      ]
    },
    {
      "cell_type": "code",
      "metadata": {
        "colab": {
          "base_uri": "https://localhost:8080/"
        },
        "id": "sUqBqcy8Ta2_",
        "outputId": "1f0f6e35-daef-4a76-fe95-1e3537e1c25d"
      },
      "source": [
        "X_test.shape"
      ],
      "execution_count": 146,
      "outputs": [
        {
          "output_type": "execute_result",
          "data": {
            "text/plain": [
              "(441, 19)"
            ]
          },
          "metadata": {},
          "execution_count": 146
        }
      ]
    },
    {
      "cell_type": "code",
      "metadata": {
        "colab": {
          "base_uri": "https://localhost:8080/"
        },
        "id": "PKt_BzyLPrtr",
        "outputId": "62025d7c-6ba2-42ae-9683-b46ff42417b8"
      },
      "source": [
        "# define evaluation procedure\n",
        "cv = StratifiedKFold(n_splits=3, shuffle=True)\n",
        "xgb_1=XGBClassifier()\n",
        "# define grid search\n",
        "grid = GridSearchCV(estimator=xgb_1, param_grid=param_grid, cv=cv)\n",
        "grid.fit(X_train, y_train)"
      ],
      "execution_count": 147,
      "outputs": [
        {
          "output_type": "execute_result",
          "data": {
            "text/plain": [
              "GridSearchCV(cv=StratifiedKFold(n_splits=3, random_state=None, shuffle=True),\n",
              "             error_score=nan,\n",
              "             estimator=XGBClassifier(base_score=0.5, booster='gbtree',\n",
              "                                     colsample_bylevel=1, colsample_bynode=1,\n",
              "                                     colsample_bytree=1, gamma=0,\n",
              "                                     learning_rate=0.1, max_delta_step=0,\n",
              "                                     max_depth=3, min_child_weight=1,\n",
              "                                     missing=None, n_estimators=100, n_jobs=1,\n",
              "                                     nthread=None, objective='binary:logistic',\n",
              "                                     random_state=0, reg_alpha=0, reg_lambda=1,\n",
              "                                     scale_pos_weight=1, seed=None, silent=None,\n",
              "                                     subsample=1, verbosity=1),\n",
              "             iid='deprecated', n_jobs=None, param_grid={},\n",
              "             pre_dispatch='2*n_jobs', refit=True, return_train_score=False,\n",
              "             scoring=None, verbose=0)"
            ]
          },
          "metadata": {},
          "execution_count": 147
        }
      ]
    },
    {
      "cell_type": "code",
      "metadata": {
        "id": "i5-AwXcsP1KQ"
      },
      "source": [
        "y_trainpred=grid.predict(X_train)\n",
        "y_testpred=grid.predict(X_test)"
      ],
      "execution_count": 148,
      "outputs": []
    },
    {
      "cell_type": "code",
      "metadata": {
        "colab": {
          "base_uri": "https://localhost:8080/"
        },
        "id": "fD7wnjIoP22A",
        "outputId": "cd2a40a4-8a14-4831-83d0-df15c7f18a68"
      },
      "source": [
        "print(classification_report(y_train,y_trainpred))"
      ],
      "execution_count": 149,
      "outputs": [
        {
          "output_type": "stream",
          "name": "stdout",
          "text": [
            "              precision    recall  f1-score   support\n",
            "\n",
            "           0       0.91      0.92      0.91       768\n",
            "           1       0.92      0.90      0.91       768\n",
            "\n",
            "    accuracy                           0.91      1536\n",
            "   macro avg       0.91      0.91      0.91      1536\n",
            "weighted avg       0.91      0.91      0.91      1536\n",
            "\n"
          ]
        }
      ]
    },
    {
      "cell_type": "code",
      "metadata": {
        "colab": {
          "base_uri": "https://localhost:8080/"
        },
        "id": "CZ4EzLvwP4PO",
        "outputId": "70ef8816-cf9c-4af4-f114-00528bf0c60a"
      },
      "source": [
        "print(classification_report(y_test,y_testpred))"
      ],
      "execution_count": 150,
      "outputs": [
        {
          "output_type": "stream",
          "name": "stdout",
          "text": [
            "              precision    recall  f1-score   support\n",
            "\n",
            "           0       0.88      0.88      0.88       370\n",
            "           1       0.37      0.37      0.37        71\n",
            "\n",
            "    accuracy                           0.80       441\n",
            "   macro avg       0.62      0.62      0.62       441\n",
            "weighted avg       0.80      0.80      0.80       441\n",
            "\n"
          ]
        }
      ]
    },
    {
      "cell_type": "markdown",
      "metadata": {
        "id": "YzbnU2gMK7Uj"
      },
      "source": [
        "### **Decision Tree with SMOTE Tomek Link**"
      ]
    },
    {
      "cell_type": "code",
      "metadata": {
        "id": "TtQ6bbUXLOLI"
      },
      "source": [
        "X_train,X_test,y_train,y_test=train_test_split(Xnew.values,y,test_size=0.30,stratify=y)"
      ],
      "execution_count": 165,
      "outputs": []
    },
    {
      "cell_type": "code",
      "metadata": {
        "id": "Tq7cduMCLOLJ"
      },
      "source": [
        "smt=SMOTETomek(random_state=139,)\n",
        "X_train, y_train=smt.fit_resample(X_train,y_train)"
      ],
      "execution_count": 166,
      "outputs": []
    },
    {
      "cell_type": "code",
      "metadata": {
        "id": "MNiEvTxLK6eJ"
      },
      "source": [
        "X_train,X_test,y_train,y_test=train_test_split(Xnew,y,test_size=0.30,stratify=y,random_state=465)"
      ],
      "execution_count": 167,
      "outputs": []
    },
    {
      "cell_type": "code",
      "metadata": {
        "colab": {
          "base_uri": "https://localhost:8080/"
        },
        "id": "x-ujwZQKK6eJ",
        "outputId": "cb2ba2a6-d99a-4cca-baa6-9ce574f0433b"
      },
      "source": [
        "dt=DecisionTreeClassifier()\n",
        "dt.fit(X_train, y_train)"
      ],
      "execution_count": 168,
      "outputs": [
        {
          "output_type": "execute_result",
          "data": {
            "text/plain": [
              "DecisionTreeClassifier(ccp_alpha=0.0, class_weight=None, criterion='gini',\n",
              "                       max_depth=None, max_features=None, max_leaf_nodes=None,\n",
              "                       min_impurity_decrease=0.0, min_impurity_split=None,\n",
              "                       min_samples_leaf=1, min_samples_split=2,\n",
              "                       min_weight_fraction_leaf=0.0, presort='deprecated',\n",
              "                       random_state=None, splitter='best')"
            ]
          },
          "metadata": {},
          "execution_count": 168
        }
      ]
    },
    {
      "cell_type": "code",
      "metadata": {
        "id": "FzgwoNaeK6eJ"
      },
      "source": [
        "y_trainpred=dt.predict(X_train)\n",
        "y_testpred=dt.predict(X_test)"
      ],
      "execution_count": 169,
      "outputs": []
    },
    {
      "cell_type": "code",
      "metadata": {
        "colab": {
          "base_uri": "https://localhost:8080/"
        },
        "id": "2ameZCH7K6eK",
        "outputId": "2112319d-8b4e-4ce0-c21d-0d0d036dd0f7"
      },
      "source": [
        "print(classification_report(y_train,y_trainpred))"
      ],
      "execution_count": 171,
      "outputs": [
        {
          "output_type": "stream",
          "name": "stdout",
          "text": [
            "              precision    recall  f1-score   support\n",
            "\n",
            "           0       1.00      1.00      1.00       863\n",
            "           1       1.00      1.00      1.00       166\n",
            "\n",
            "    accuracy                           1.00      1029\n",
            "   macro avg       1.00      1.00      1.00      1029\n",
            "weighted avg       1.00      1.00      1.00      1029\n",
            "\n"
          ]
        }
      ]
    },
    {
      "cell_type": "code",
      "metadata": {
        "colab": {
          "base_uri": "https://localhost:8080/"
        },
        "id": "oNbKdr6fK6eK",
        "outputId": "ae7b2e1c-0e1e-483d-a1d4-509130349339"
      },
      "source": [
        "print(classification_report(y_test,y_testpred))"
      ],
      "execution_count": 172,
      "outputs": [
        {
          "output_type": "stream",
          "name": "stdout",
          "text": [
            "              precision    recall  f1-score   support\n",
            "\n",
            "           0       0.87      0.86      0.87       370\n",
            "           1       0.32      0.34      0.33        71\n",
            "\n",
            "    accuracy                           0.78       441\n",
            "   macro avg       0.60      0.60      0.60       441\n",
            "weighted avg       0.78      0.78      0.78       441\n",
            "\n"
          ]
        }
      ]
    },
    {
      "cell_type": "markdown",
      "metadata": {
        "id": "t7t1vzL8LiwE"
      },
      "source": [
        "### **Grid Search CV**"
      ]
    },
    {
      "cell_type": "code",
      "metadata": {
        "colab": {
          "base_uri": "https://localhost:8080/"
        },
        "id": "NiFMQ2eDLhiw",
        "outputId": "fa21f5d3-d0db-4fbf-f710-b5983c49dcc7"
      },
      "source": [
        "dt1=DecisionTreeClassifier()\n",
        "param={'max_depth':[20,15,16,21,14,13,12,21],'min_samples_leaf':[9,8,7,6,10],'ccp_alpha':[0.00000001,0.000000001,0.01,0.1,1]}\n",
        "dt_s_grid1=GridSearchCV(dt1,param_grid=param,cv=3,scoring='precision')\n",
        "dt_s_grid1.fit(X_train,y_train)"
      ],
      "execution_count": 173,
      "outputs": [
        {
          "output_type": "execute_result",
          "data": {
            "text/plain": [
              "GridSearchCV(cv=3, error_score=nan,\n",
              "             estimator=DecisionTreeClassifier(ccp_alpha=0.0, class_weight=None,\n",
              "                                              criterion='gini', max_depth=None,\n",
              "                                              max_features=None,\n",
              "                                              max_leaf_nodes=None,\n",
              "                                              min_impurity_decrease=0.0,\n",
              "                                              min_impurity_split=None,\n",
              "                                              min_samples_leaf=1,\n",
              "                                              min_samples_split=2,\n",
              "                                              min_weight_fraction_leaf=0.0,\n",
              "                                              presort='deprecated',\n",
              "                                              random_state=None,\n",
              "                                              splitter='best'),\n",
              "             iid='deprecated', n_jobs=None,\n",
              "             param_grid={'ccp_alpha': [1e-08, 1e-09, 0.01, 0.1, 1],\n",
              "                         'max_depth': [20, 15, 16, 21, 14, 13, 12, 21],\n",
              "                         'min_samples_leaf': [9, 8, 7, 6, 10]},\n",
              "             pre_dispatch='2*n_jobs', refit=True, return_train_score=False,\n",
              "             scoring='precision', verbose=0)"
            ]
          },
          "metadata": {},
          "execution_count": 173
        }
      ]
    },
    {
      "cell_type": "code",
      "metadata": {
        "id": "zq0XGyPFLhix"
      },
      "source": [
        "y_train_pred=dt_s_grid1.predict(X_train)\n",
        "y_test_pred=dt_s_grid1.predict(X_test)"
      ],
      "execution_count": 174,
      "outputs": []
    },
    {
      "cell_type": "code",
      "metadata": {
        "colab": {
          "base_uri": "https://localhost:8080/"
        },
        "id": "QQv5c8jqLhix",
        "outputId": "631eec49-7375-4c6e-f567-9c04b6134312"
      },
      "source": [
        "dt_s_grid1.best_params_"
      ],
      "execution_count": 175,
      "outputs": [
        {
          "output_type": "execute_result",
          "data": {
            "text/plain": [
              "{'ccp_alpha': 1e-09, 'max_depth': 14, 'min_samples_leaf': 8}"
            ]
          },
          "metadata": {},
          "execution_count": 175
        }
      ]
    },
    {
      "cell_type": "code",
      "metadata": {
        "colab": {
          "base_uri": "https://localhost:8080/"
        },
        "id": "Hayi0UXALhix",
        "outputId": "6e60f7e7-13ec-40d7-8334-5e6402ab3179"
      },
      "source": [
        "print(classification_report(y_train,y_train_pred))"
      ],
      "execution_count": 176,
      "outputs": [
        {
          "output_type": "stream",
          "name": "stdout",
          "text": [
            "              precision    recall  f1-score   support\n",
            "\n",
            "           0       0.88      0.98      0.93       863\n",
            "           1       0.77      0.34      0.47       166\n",
            "\n",
            "    accuracy                           0.88      1029\n",
            "   macro avg       0.83      0.66      0.70      1029\n",
            "weighted avg       0.87      0.88      0.86      1029\n",
            "\n"
          ]
        }
      ]
    },
    {
      "cell_type": "code",
      "metadata": {
        "colab": {
          "base_uri": "https://localhost:8080/"
        },
        "id": "jWm5i9MzLhiy",
        "outputId": "6cb114c7-a24d-45f7-e341-b711a9e081a9"
      },
      "source": [
        "print(classification_report(y_test,y_test_pred))"
      ],
      "execution_count": 177,
      "outputs": [
        {
          "output_type": "stream",
          "name": "stdout",
          "text": [
            "              precision    recall  f1-score   support\n",
            "\n",
            "           0       0.84      0.96      0.90       370\n",
            "           1       0.27      0.08      0.13        71\n",
            "\n",
            "    accuracy                           0.82       441\n",
            "   macro avg       0.56      0.52      0.51       441\n",
            "weighted avg       0.75      0.82      0.77       441\n",
            "\n"
          ]
        }
      ]
    },
    {
      "cell_type": "markdown",
      "metadata": {
        "id": "UHt7NhfpKW6G"
      },
      "source": [
        "## **We can see that even after applying reampling techniques the overfitting still exists. The reason for this is the two classes being heavily connected together with each other.**\n",
        "## **So as a result we can select different models for different scenarios.**\n"
      ]
    },
    {
      "cell_type": "markdown",
      "metadata": {
        "id": "QSt0xn5dNbpP"
      },
      "source": [
        "# **Model Saving**"
      ]
    },
    {
      "cell_type": "code",
      "metadata": {
        "id": "D-uh8BImOFsQ"
      },
      "source": [
        "X_train,X_test,y_train,y_test=train_test_split(Xnew.values,y,test_size=0.30,stratify=y)"
      ],
      "execution_count": 179,
      "outputs": []
    },
    {
      "cell_type": "code",
      "metadata": {
        "id": "Xhj2QAWIOFsQ"
      },
      "source": [
        "smt=SMOTETomek(random_state=139)\n",
        "X_train, y_train=smt.fit_resample(X_train,y_train)"
      ],
      "execution_count": 180,
      "outputs": []
    },
    {
      "cell_type": "code",
      "metadata": {
        "id": "R5FHEmCLOFsR"
      },
      "source": [
        "scaler=StandardScaler()\n",
        "X_train=scaler.fit_transform(X_train)\n",
        "X_test=scaler.fit_transform(X_test)"
      ],
      "execution_count": 181,
      "outputs": []
    },
    {
      "cell_type": "code",
      "metadata": {
        "colab": {
          "base_uri": "https://localhost:8080/"
        },
        "id": "fAnNdpdEOLRd",
        "outputId": "1ea635ba-4c9f-4554-a0a2-67fcb55e2f5d"
      },
      "source": [
        "sv=svm.SVC(kernel='poly', C=1)\n",
        "sv.fit(X_train,y_train)"
      ],
      "execution_count": 184,
      "outputs": [
        {
          "output_type": "execute_result",
          "data": {
            "text/plain": [
              "SVC(C=1, break_ties=False, cache_size=200, class_weight=None, coef0=0.0,\n",
              "    decision_function_shape='ovr', degree=3, gamma='scale', kernel='poly',\n",
              "    max_iter=-1, probability=False, random_state=None, shrinking=True,\n",
              "    tol=0.001, verbose=False)"
            ]
          },
          "metadata": {},
          "execution_count": 184
        }
      ]
    },
    {
      "cell_type": "code",
      "metadata": {
        "colab": {
          "base_uri": "https://localhost:8080/"
        },
        "id": "jaEQuZlkOFsS",
        "outputId": "5d41a876-ef0f-4c10-e0e1-76d5e6ac2b24"
      },
      "source": [
        "print(classification_report(y_test,y_testpred))"
      ],
      "execution_count": 186,
      "outputs": [
        {
          "output_type": "stream",
          "name": "stdout",
          "text": [
            "              precision    recall  f1-score   support\n",
            "\n",
            "           0       0.83      0.82      0.82       370\n",
            "           1       0.09      0.10      0.10        71\n",
            "\n",
            "    accuracy                           0.70       441\n",
            "   macro avg       0.46      0.46      0.46       441\n",
            "weighted avg       0.71      0.70      0.70       441\n",
            "\n"
          ]
        }
      ]
    },
    {
      "cell_type": "code",
      "metadata": {
        "colab": {
          "base_uri": "https://localhost:8080/"
        },
        "id": "MHwGyeOTXrbV",
        "outputId": "a0806120-6b8c-4d91-d07b-f29242bc2e3b"
      },
      "source": [
        "import pickle\n",
        " \n",
        "# Save the trained model as a pickle string.\n",
        "saved_model = pickle.dumps(sv)\n",
        " \n",
        "# Load the pickled model\n",
        "knn_from_pickle = pickle.loads(saved_model)\n",
        " \n",
        "# Use the loaded pickled model to make predictions\n",
        "knn_from_pickle.predict(X_test)"
      ],
      "execution_count": 194,
      "outputs": [
        {
          "output_type": "execute_result",
          "data": {
            "text/plain": [
              "array([0, 0, 0, 0, 1, 1, 1, 1, 0, 1, 1, 1, 0, 0, 0, 1, 1, 1, 1, 0, 0, 1,\n",
              "       0, 1, 0, 0, 1, 1, 0, 0, 1, 1, 0, 0, 1, 1, 0, 0, 0, 0, 1, 0, 1, 1,\n",
              "       0, 1, 1, 0, 1, 1, 1, 0, 0, 0, 1, 1, 1, 1, 0, 0, 0, 1, 1, 1, 1, 0,\n",
              "       0, 1, 1, 0, 1, 0, 0, 1, 0, 1, 1, 1, 1, 0, 0, 1, 0, 0, 1, 0, 0, 0,\n",
              "       0, 0, 0, 0, 1, 0, 1, 0, 0, 0, 0, 0, 0, 1, 1, 0, 1, 1, 1, 0, 0, 0,\n",
              "       1, 0, 1, 1, 1, 1, 1, 0, 1, 1, 1, 0, 0, 0, 1, 0, 0, 0, 0, 1, 1, 1,\n",
              "       0, 1, 0, 1, 1, 0, 0, 1, 0, 0, 1, 1, 0, 1, 1, 0, 1, 1, 0, 0, 0, 0,\n",
              "       1, 1, 0, 1, 0, 0, 0, 0, 1, 0, 1, 1, 1, 1, 1, 0, 0, 1, 1, 1, 1, 1,\n",
              "       0, 1, 1, 1, 0, 0, 0, 1, 0, 1, 0, 0, 0, 1, 0, 0, 1, 1, 0, 0, 0, 0,\n",
              "       1, 0, 1, 0, 1, 0, 1, 0, 0, 0, 0, 1, 0, 1, 1, 1, 0, 0, 0, 0, 0, 0,\n",
              "       1, 0, 1, 1, 0, 0, 0, 1, 0, 0, 0, 1, 1, 1, 0, 0, 1, 0, 1, 0, 1, 0,\n",
              "       1, 1, 0, 1, 0, 0, 0, 1, 1, 0, 0, 0, 0, 0, 0, 0, 0, 0, 0, 1, 0, 1,\n",
              "       1, 0, 1, 1, 0, 1, 0, 1, 1, 0, 0, 1, 0, 0, 1, 1, 0, 0, 1, 0, 1, 0,\n",
              "       1, 1, 1, 1, 0, 1, 0, 0, 0, 1, 0, 0, 0, 1, 0, 1, 0, 1, 1, 1, 0, 0,\n",
              "       0, 0, 1, 1, 1, 1, 0, 0, 1, 1, 0, 1, 0, 1, 0, 1, 1, 0, 1, 0, 1, 1,\n",
              "       1, 0, 1, 0, 1, 0, 0, 0, 0, 1, 1, 0, 0, 1, 1, 0, 0, 1, 1, 1, 0, 0,\n",
              "       1, 1, 1, 1, 0, 1, 0, 0, 0, 1, 1, 1, 0, 1, 1, 0, 0, 0, 0, 0, 0, 0,\n",
              "       1, 1, 1, 0, 1, 1, 0, 0, 0, 0, 0, 0, 1, 0, 0, 1, 0, 0, 0, 0, 1, 1,\n",
              "       0, 1, 1, 1, 1, 0, 1, 1, 1, 0, 1, 0, 0, 0, 1, 1, 0, 1, 1, 0, 1, 0,\n",
              "       1, 0, 0, 1, 1, 1, 0, 1, 1, 1, 0, 1, 0, 1, 0, 0, 0, 0, 1, 0, 0, 1,\n",
              "       1])"
            ]
          },
          "metadata": {},
          "execution_count": 194
        }
      ]
    },
    {
      "cell_type": "code",
      "metadata": {
        "id": "AglKiOgxPCmt"
      },
      "source": [
        ""
      ],
      "execution_count": 194,
      "outputs": []
    }
  ]
}